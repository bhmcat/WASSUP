{
 "cells": [
  {
   "cell_type": "markdown",
   "id": "a8f3bff5",
   "metadata": {},
   "source": [
    "# 함수\n",
    "* 명령문 재사용(sum. max 등이 내장함수)\n",
    "* 고정 인수 : 입력값을 받기 위한 매개변수, fn(x,y), 매개변수 개수 = 입력변수 개수   \n",
    "    - 위치인수 fn(10, 20)  : 순서대로 들어감   \n",
    "    - 키워드인수 fn(x=10, y=20) : 순서 달라도 무방\n",
    "* 가변인자 : 매개변수 개와수 입력변수 개수 달라도 무방\n",
    "    ```\n",
    "    * 위치 인수 가변\n",
    "    def fn(*args)  → *는 tuple, 전부 담을 수 있음   \n",
    "    * 키워드 인수 가변   \n",
    "    def fn(**kwargs) → **는 dict\n",
    "    ```\n",
    "* 고정인수/가변인수를 혼합으로 사용가능, 고정인수는 반드시 먼저 나와야함\n",
    "* 초깃값 설정시 초기화 인수는 반드시 맨 뒤에 있어야함\n"
   ]
  },
  {
   "cell_type": "markdown",
   "id": "a273af1f",
   "metadata": {},
   "source": [
    "## 파이썬 함수의 구조\n",
    "```\n",
    "def add(a, b):\n",
    "    return a + b\n",
    "```"
   ]
  },
  {
   "cell_type": "code",
   "execution_count": 1,
   "id": "5060c746",
   "metadata": {
    "ExecuteTime": {
     "end_time": "2023-10-06T07:38:16.934508Z",
     "start_time": "2023-10-06T07:38:16.930768Z"
    }
   },
   "outputs": [],
   "source": [
    "def add(a, b):\n",
    "    return a + b"
   ]
  },
  {
   "cell_type": "code",
   "execution_count": 2,
   "id": "9cdfa883",
   "metadata": {
    "ExecuteTime": {
     "end_time": "2023-10-06T07:38:31.010083Z",
     "start_time": "2023-10-06T07:38:31.005536Z"
    },
    "scrolled": true
   },
   "outputs": [
    {
     "name": "stdout",
     "output_type": "stream",
     "text": [
      "7\n"
     ]
    }
   ],
   "source": [
    "a = 3\n",
    "b = 4\n",
    "c = add(a, b)\n",
    "print(c)"
   ]
  },
  {
   "cell_type": "markdown",
   "id": "baed62b7",
   "metadata": {},
   "source": [
    "## 매개변수와 인수\n",
    "- 매개변수 : 함수에 입력으로 전달된 값을 받는 변수\n",
    "- 인수 : 함수를 호출할 때 전달하는 입력값\n",
    "```\n",
    "degf add(a, b): # a, b가 매개변수\n",
    "    return a + b\n",
    "    \n",
    "print(add(3, 4)) # 3, 4는 인수\n",
    "```"
   ]
  },
  {
   "cell_type": "markdown",
   "id": "8cf71785",
   "metadata": {},
   "source": [
    "## 입력값과 결과값에 따른 함수의 형태\n",
    "함수는 들어온 입력값을 받은 후 어떤 처리를 하여 적절한 값을 리턴해 준다.\n",
    "<img src=\"https://wikidocs.net/images/page/24/04_1_function1.png\"></img>\n",
    "함수의 형태는 입력값과 결괏값의 존재 유무에 따라 4가지 유형으로 나뉜다."
   ]
  },
  {
   "cell_type": "markdown",
   "id": "61bf2279",
   "metadata": {},
   "source": [
    "### 일반적인 함수\n",
    "입력값이 있고 결괏값이 있는 함수\n",
    "```\n",
    "결괏값을 받을 변수 = 함수이름(입력인수1, 입력인수2, ...)\n",
    "```"
   ]
  },
  {
   "cell_type": "code",
   "execution_count": 3,
   "id": "9d89c848",
   "metadata": {
    "ExecuteTime": {
     "end_time": "2023-10-06T07:39:25.611695Z",
     "start_time": "2023-10-06T07:39:25.607787Z"
    }
   },
   "outputs": [],
   "source": [
    "def add(a, b):\n",
    "    result = a + b\n",
    "    return result"
   ]
  },
  {
   "cell_type": "code",
   "execution_count": 4,
   "id": "ef656b35",
   "metadata": {
    "ExecuteTime": {
     "end_time": "2023-10-06T07:39:36.896068Z",
     "start_time": "2023-10-06T07:39:36.891479Z"
    }
   },
   "outputs": [
    {
     "name": "stdout",
     "output_type": "stream",
     "text": [
      "7\n"
     ]
    }
   ],
   "source": [
    "a = add(3, 4)\n",
    "print(a)"
   ]
  },
  {
   "cell_type": "code",
   "execution_count": 5,
   "id": "9dfb58d9",
   "metadata": {
    "ExecuteTime": {
     "end_time": "2023-10-06T07:39:37.718248Z",
     "start_time": "2023-10-06T07:39:37.708946Z"
    }
   },
   "outputs": [
    {
     "data": {
      "text/plain": [
       "7"
      ]
     },
     "execution_count": 5,
     "metadata": {},
     "output_type": "execute_result"
    }
   ],
   "source": [
    " add(3, 4)"
   ]
  },
  {
   "cell_type": "markdown",
   "id": "40e1c53d",
   "metadata": {},
   "source": [
    "### 입력값이 없는 함수\n",
    "```\n",
    "결괏값을 받을 변수 = 함수이름()\n",
    "```"
   ]
  },
  {
   "cell_type": "code",
   "execution_count": 7,
   "id": "8450fb4b",
   "metadata": {
    "ExecuteTime": {
     "end_time": "2023-10-06T07:39:53.844925Z",
     "start_time": "2023-10-06T07:39:53.841288Z"
    }
   },
   "outputs": [],
   "source": [
    "def say():\n",
    "    return 'Hi'"
   ]
  },
  {
   "cell_type": "code",
   "execution_count": 8,
   "id": "955759c5",
   "metadata": {
    "ExecuteTime": {
     "end_time": "2023-10-06T07:40:03.445889Z",
     "start_time": "2023-10-06T07:40:03.441273Z"
    }
   },
   "outputs": [
    {
     "data": {
      "text/plain": [
       "'Hi'"
      ]
     },
     "execution_count": 8,
     "metadata": {},
     "output_type": "execute_result"
    }
   ],
   "source": [
    "say()"
   ]
  },
  {
   "cell_type": "code",
   "execution_count": 9,
   "id": "951f9577",
   "metadata": {
    "ExecuteTime": {
     "end_time": "2023-10-06T07:40:06.529731Z",
     "start_time": "2023-10-06T07:40:06.525958Z"
    }
   },
   "outputs": [
    {
     "name": "stdout",
     "output_type": "stream",
     "text": [
      "Hi\n"
     ]
    }
   ],
   "source": [
    "a = say()\n",
    "print(a)"
   ]
  },
  {
   "cell_type": "markdown",
   "id": "bd39e416",
   "metadata": {},
   "source": [
    "### 결괏값이 없는 함수\n",
    "```\n",
    "함수이름(입력인수1, 입력인수2, ...)\n",
    "```"
   ]
  },
  {
   "cell_type": "code",
   "execution_count": 10,
   "id": "63456210",
   "metadata": {
    "ExecuteTime": {
     "end_time": "2023-10-06T07:40:34.249613Z",
     "start_time": "2023-10-06T07:40:34.245444Z"
    }
   },
   "outputs": [],
   "source": [
    "def add(a, b): \n",
    "    print(\"%d, %d의 합은 %d입니다.\" % (a, b, a+b))"
   ]
  },
  {
   "cell_type": "code",
   "execution_count": 12,
   "id": "582de5b9",
   "metadata": {
    "ExecuteTime": {
     "end_time": "2023-10-06T07:41:27.943394Z",
     "start_time": "2023-10-06T07:41:27.932455Z"
    }
   },
   "outputs": [
    {
     "name": "stdout",
     "output_type": "stream",
     "text": [
      "3, 4의 합은 7입니다.\n"
     ]
    }
   ],
   "source": [
    "add(3, 4)"
   ]
  },
  {
   "cell_type": "code",
   "execution_count": 13,
   "id": "b2360e3e",
   "metadata": {
    "ExecuteTime": {
     "end_time": "2023-10-06T07:41:42.253577Z",
     "start_time": "2023-10-06T07:41:42.245593Z"
    }
   },
   "outputs": [
    {
     "name": "stdout",
     "output_type": "stream",
     "text": [
      "3, 4의 합은 7입니다.\n",
      "None\n"
     ]
    }
   ],
   "source": [
    "# print문은 함수의 구성 요소 중 하나인 '수행할 문장'에 해당하는 부분일 뿐이다.   \n",
    "# 리턴값은 당연히 없다. 리턴값은 오직 return 명령어로만 돌려 받을 수 있다.\n",
    "a = add(3, 4)\n",
    "print(a) # None은 거짓을 나타내는 자료형"
   ]
  },
  {
   "cell_type": "markdown",
   "id": "e7c599f1",
   "metadata": {},
   "source": [
    "### 입력값도, 리턴값도 없는 함수\n",
    "```\n",
    "함수이름()\n",
    "```"
   ]
  },
  {
   "cell_type": "code",
   "execution_count": 14,
   "id": "4cf4524e",
   "metadata": {
    "ExecuteTime": {
     "end_time": "2023-10-06T07:43:06.446179Z",
     "start_time": "2023-10-06T07:43:06.442430Z"
    }
   },
   "outputs": [],
   "source": [
    "def say():\n",
    "    print('Hi')"
   ]
  },
  {
   "cell_type": "code",
   "execution_count": 15,
   "id": "1d49fb16",
   "metadata": {
    "ExecuteTime": {
     "end_time": "2023-10-06T07:43:08.598296Z",
     "start_time": "2023-10-06T07:43:08.594276Z"
    }
   },
   "outputs": [
    {
     "name": "stdout",
     "output_type": "stream",
     "text": [
      "Hi\n"
     ]
    }
   ],
   "source": [
    "say()"
   ]
  },
  {
   "cell_type": "markdown",
   "id": "0756d362",
   "metadata": {},
   "source": [
    "## 매개변수를 지정하여 호출하기"
   ]
  },
  {
   "cell_type": "code",
   "execution_count": 16,
   "id": "6474464d",
   "metadata": {
    "ExecuteTime": {
     "end_time": "2023-10-06T07:43:18.065225Z",
     "start_time": "2023-10-06T07:43:18.061190Z"
    }
   },
   "outputs": [],
   "source": [
    "def sub(a, b):\n",
    "    return a - b"
   ]
  },
  {
   "cell_type": "code",
   "execution_count": 17,
   "id": "1558e9ca",
   "metadata": {
    "ExecuteTime": {
     "end_time": "2023-10-06T07:43:37.962864Z",
     "start_time": "2023-10-06T07:43:37.958873Z"
    }
   },
   "outputs": [
    {
     "name": "stdout",
     "output_type": "stream",
     "text": [
      "4\n"
     ]
    }
   ],
   "source": [
    "result = sub(a=7, b=3)\n",
    "print(result)"
   ]
  },
  {
   "cell_type": "code",
   "execution_count": 18,
   "id": "7da115d5",
   "metadata": {
    "ExecuteTime": {
     "end_time": "2023-10-06T07:43:53.603604Z",
     "start_time": "2023-10-06T07:43:53.596623Z"
    }
   },
   "outputs": [
    {
     "name": "stdout",
     "output_type": "stream",
     "text": [
      "-2\n"
     ]
    }
   ],
   "source": [
    "# 순서에 상관없이 사용할 수 있는 장점이 있다.\n",
    "result = sub(b=5, a=3)\n",
    "print(result)"
   ]
  },
  {
   "cell_type": "markdown",
   "id": "2488350a",
   "metadata": {},
   "source": [
    "## 입력값이 몇 개가 될지 모를 때는 어떻게 해야 할까?\n",
    "```\n",
    "def 함수이름(*매개변수):\n",
    "    수행 문장\n",
    "```"
   ]
  },
  {
   "cell_type": "markdown",
   "id": "16458739",
   "metadata": {},
   "source": [
    "### 여러 개의 입력값을 받는 함수 만들기 *args\n",
    "여러 개의 입력값을 모두 더하는 함수를 직접 만들어 보자.   \n",
    "예를 들어 add_many(1, 2)이면 3, add_many(1, 2, 3)이면 6, add_many(1, 2, 3, 4, 5, 6, 7, 8, 9, 10)이면 55를 리턴하는 함수를 만들어 보자.   \n",
    "```\n",
    "*args처럼 매개변수 이름 앞에 *을 붙이면 입력값을 전부 모아 튜플로 만들어 줌.\n",
    "만약 add_many(1, 2, 3)처럼 이 함수를 쓰면 args는 (1, 2, 3)이 되고 add_many(1, 2, 3, 4, 5, 6, 7, 8, 9, 10)처럼 쓰면 args는 (1, 2, 3, 4, 5, 6, 7, 8, 9, 10)이 된다.\n",
    "여기에서 *args는 임의로 정한 변수 이름이다.\n",
    "*pey, *python처럼 아무 이름이나 써도 된다.\n",
    "```\n"
   ]
  },
  {
   "cell_type": "code",
   "execution_count": 19,
   "id": "451005f9",
   "metadata": {
    "ExecuteTime": {
     "end_time": "2023-10-06T07:46:23.881960Z",
     "start_time": "2023-10-06T07:46:23.878524Z"
    }
   },
   "outputs": [],
   "source": [
    "def fn(*args):\n",
    "    print(args)"
   ]
  },
  {
   "cell_type": "code",
   "execution_count": 20,
   "id": "c5dc8281",
   "metadata": {
    "ExecuteTime": {
     "end_time": "2023-10-06T07:46:28.528955Z",
     "start_time": "2023-10-06T07:46:28.524000Z"
    }
   },
   "outputs": [
    {
     "name": "stdout",
     "output_type": "stream",
     "text": [
      "()\n"
     ]
    }
   ],
   "source": [
    "fn()"
   ]
  },
  {
   "cell_type": "code",
   "execution_count": 21,
   "id": "8cf76b3c",
   "metadata": {
    "ExecuteTime": {
     "end_time": "2023-10-06T07:47:20.044058Z",
     "start_time": "2023-10-06T07:47:20.040054Z"
    }
   },
   "outputs": [],
   "source": [
    "def add_many(*args): # args = 인수를 뜻하는 arguments의 약자\n",
    "    result = 0 \n",
    "    for i in args: \n",
    "        result = result + i   # *args에 입력받은 모든 값을 더한다.\n",
    "    return result"
   ]
  },
  {
   "cell_type": "code",
   "execution_count": 22,
   "id": "b721f898",
   "metadata": {
    "ExecuteTime": {
     "end_time": "2023-10-06T07:47:23.736740Z",
     "start_time": "2023-10-06T07:47:23.732085Z"
    }
   },
   "outputs": [
    {
     "name": "stdout",
     "output_type": "stream",
     "text": [
      "6\n"
     ]
    }
   ],
   "source": [
    "result = add_many(1,2,3)\n",
    "print(result)"
   ]
  },
  {
   "cell_type": "code",
   "execution_count": 23,
   "id": "574cbeee",
   "metadata": {
    "ExecuteTime": {
     "end_time": "2023-10-06T07:47:26.310471Z",
     "start_time": "2023-10-06T07:47:26.300397Z"
    }
   },
   "outputs": [
    {
     "name": "stdout",
     "output_type": "stream",
     "text": [
      "55\n"
     ]
    }
   ],
   "source": [
    "result = add_many(1,2,3,4,5,6,7,8,9,10)\n",
    "print(result)"
   ]
  },
  {
   "cell_type": "code",
   "execution_count": 24,
   "id": "b1f8d8b0",
   "metadata": {
    "ExecuteTime": {
     "end_time": "2023-10-06T07:48:55.882102Z",
     "start_time": "2023-10-06T07:48:55.874724Z"
    }
   },
   "outputs": [],
   "source": [
    "# 고정인수와 가변인수를 혼합해서 사용 가능, 단 고정인수는 반드시 먼저 나와야함.\n",
    "def add_mul(choice, *args): \n",
    "    if choice == \"add\":   # 매개변수 choice에 \"add\"를 입력받았을 때\n",
    "        result = 0 \n",
    "        for i in args: \n",
    "            result = result + i \n",
    "    elif choice == \"mul\":   # 매개변수 choice에 \"mul\"을 입력받았을 때\n",
    "        result = 1 \n",
    "        for i in args: \n",
    "            result = result * i \n",
    "    return result "
   ]
  },
  {
   "cell_type": "code",
   "execution_count": 25,
   "id": "5235255b",
   "metadata": {
    "ExecuteTime": {
     "end_time": "2023-10-06T07:49:02.049587Z",
     "start_time": "2023-10-06T07:49:02.045201Z"
    }
   },
   "outputs": [
    {
     "name": "stdout",
     "output_type": "stream",
     "text": [
      "15\n"
     ]
    }
   ],
   "source": [
    "result = add_mul('add', 1,2,3,4,5)\n",
    "print(result)"
   ]
  },
  {
   "cell_type": "code",
   "execution_count": 26,
   "id": "d417946a",
   "metadata": {
    "ExecuteTime": {
     "end_time": "2023-10-06T07:49:06.244544Z",
     "start_time": "2023-10-06T07:49:06.238920Z"
    }
   },
   "outputs": [
    {
     "name": "stdout",
     "output_type": "stream",
     "text": [
      "120\n"
     ]
    }
   ],
   "source": [
    "result = add_mul('mul', 1,2,3,4,5)\n",
    "print(result)"
   ]
  },
  {
   "cell_type": "markdown",
   "id": "97cc9329",
   "metadata": {},
   "source": [
    "### 키워드 매개변수, **kwargs\n",
    "키워드 매개변수를 사용할 때는 매개변수 앞에 별 2개(**)를 붙인다.   \n",
    "kwargs = keyword arguments의 약자   \n",
    "매개변수는 모든 key=value형태의 딕셔너리로 저장된다.\n"
   ]
  },
  {
   "cell_type": "code",
   "execution_count": 27,
   "id": "7f5e4ea1",
   "metadata": {
    "ExecuteTime": {
     "end_time": "2023-10-06T07:59:57.808382Z",
     "start_time": "2023-10-06T07:59:57.804459Z"
    }
   },
   "outputs": [],
   "source": [
    "def print_kwargs(**kwargs):\n",
    "    print(kwargs) # 입력받은 매개변수를 출력하는 단순한 샘플 함수"
   ]
  },
  {
   "cell_type": "code",
   "execution_count": 28,
   "id": "d3350dd0",
   "metadata": {
    "ExecuteTime": {
     "end_time": "2023-10-06T08:00:02.015440Z",
     "start_time": "2023-10-06T08:00:02.011448Z"
    }
   },
   "outputs": [
    {
     "name": "stdout",
     "output_type": "stream",
     "text": [
      "{}\n"
     ]
    }
   ],
   "source": [
    "print_kwargs()"
   ]
  },
  {
   "cell_type": "code",
   "execution_count": 29,
   "id": "ac61b0b7",
   "metadata": {
    "ExecuteTime": {
     "end_time": "2023-10-06T08:00:16.232894Z",
     "start_time": "2023-10-06T08:00:16.228922Z"
    }
   },
   "outputs": [
    {
     "name": "stdout",
     "output_type": "stream",
     "text": [
      "{'a': 1}\n"
     ]
    }
   ],
   "source": [
    "print_kwargs(a=1)"
   ]
  },
  {
   "cell_type": "code",
   "execution_count": 30,
   "id": "346ed115",
   "metadata": {
    "ExecuteTime": {
     "end_time": "2023-10-06T08:00:26.865509Z",
     "start_time": "2023-10-06T08:00:26.860961Z"
    }
   },
   "outputs": [
    {
     "name": "stdout",
     "output_type": "stream",
     "text": [
      "{'name': 'foo', 'age': 3}\n"
     ]
    }
   ],
   "source": [
    "print_kwargs(name='foo', age=3)"
   ]
  },
  {
   "cell_type": "markdown",
   "id": "0455d5a1",
   "metadata": {},
   "source": [
    "## 함수의 리턴값은 언제나 하나이다."
   ]
  },
  {
   "cell_type": "code",
   "execution_count": 31,
   "id": "76f9aa1f",
   "metadata": {
    "ExecuteTime": {
     "end_time": "2023-10-06T08:00:54.811534Z",
     "start_time": "2023-10-06T08:00:54.808661Z"
    }
   },
   "outputs": [],
   "source": [
    "def add_and_mul(a,b): \n",
    "     return a+b, a*b"
   ]
  },
  {
   "cell_type": "code",
   "execution_count": 38,
   "id": "49d79d79",
   "metadata": {
    "ExecuteTime": {
     "end_time": "2023-10-05T12:48:30.606036Z",
     "start_time": "2023-10-05T12:48:30.603069Z"
    }
   },
   "outputs": [],
   "source": [
    "# 리턴값이 a+b와 a*b로 2개인데 받는 변수가 하나이다. 왜 오류가 안날까?\n",
    "result = add_and_mul(3,4)"
   ]
  },
  {
   "cell_type": "code",
   "execution_count": 39,
   "id": "49decbc9",
   "metadata": {
    "ExecuteTime": {
     "end_time": "2023-10-05T12:49:15.951442Z",
     "start_time": "2023-10-05T12:49:15.946590Z"
    }
   },
   "outputs": [
    {
     "data": {
      "text/plain": [
       "(7, 12)"
      ]
     },
     "execution_count": 39,
     "metadata": {},
     "output_type": "execute_result"
    }
   ],
   "source": [
    "# 튜플로 묶은 단일값으로 반환하기 때문\n",
    "result"
   ]
  },
  {
   "cell_type": "code",
   "execution_count": 33,
   "id": "e08f8a84",
   "metadata": {
    "ExecuteTime": {
     "end_time": "2023-10-06T08:01:29.206807Z",
     "start_time": "2023-10-06T08:01:29.202049Z"
    }
   },
   "outputs": [
    {
     "name": "stdout",
     "output_type": "stream",
     "text": [
      "7\n",
      "12\n"
     ]
    }
   ],
   "source": [
    "# 분리해서 받고 싶을 때\n",
    "result1, result2 = add_and_mul(3,4)\n",
    "print(result1)\n",
    "print(result2)"
   ]
  },
  {
   "cell_type": "code",
   "execution_count": 34,
   "id": "a78c2150",
   "metadata": {
    "ExecuteTime": {
     "end_time": "2023-10-06T08:01:38.161304Z",
     "start_time": "2023-10-06T08:01:38.156888Z"
    }
   },
   "outputs": [
    {
     "name": "stdout",
     "output_type": "stream",
     "text": [
      "7\n",
      "12\n"
     ]
    }
   ],
   "source": [
    "# 이렇게 받고 싶은 값만 받을 수도 있다.\n",
    "result1, _ = add_and_mul(3,4)\n",
    "print(result1) \n",
    "print(_)# 실제로 _변수로 받는 것, just 가독성목적, 메모리나 IO처리 퍼포먼스에는 영향없는듯"
   ]
  },
  {
   "cell_type": "code",
   "execution_count": 35,
   "id": "8ef3f6ce",
   "metadata": {
    "ExecuteTime": {
     "end_time": "2023-10-06T08:02:38.410425Z",
     "start_time": "2023-10-06T08:02:38.407527Z"
    }
   },
   "outputs": [],
   "source": [
    "# 그렇다면 이렇게 하면 2개를 리턴할까?\n",
    "def add_and_mul(a,b): \n",
    "     return a+b \n",
    "     return a*b"
   ]
  },
  {
   "cell_type": "code",
   "execution_count": 36,
   "id": "c880d054",
   "metadata": {
    "ExecuteTime": {
     "end_time": "2023-10-06T08:02:40.291127Z",
     "start_time": "2023-10-06T08:02:40.287437Z"
    }
   },
   "outputs": [
    {
     "name": "stdout",
     "output_type": "stream",
     "text": [
      "5\n"
     ]
    }
   ],
   "source": [
    "result = add_and_mul(2, 3)\n",
    "print(result) # 응 안되죠~\n",
    "# 함수는 리턴문을 만나는 순간 값을 반환하고 함수를 빠져나감(두번째 미실행)"
   ]
  },
  {
   "cell_type": "markdown",
   "id": "55457992",
   "metadata": {},
   "source": [
    "### return의 또 다른 쓰임새\n",
    "특별한 상활일 때 함수를 빠져나가고 싶다면 return을 단독으로 써서 함수를 즉시 빠져나갈 수 있다."
   ]
  },
  {
   "cell_type": "code",
   "execution_count": 37,
   "id": "8718e876",
   "metadata": {
    "ExecuteTime": {
     "end_time": "2023-10-06T08:03:18.376783Z",
     "start_time": "2023-10-06T08:03:18.372160Z"
    }
   },
   "outputs": [],
   "source": [
    "def say_nick(nick): \n",
    "    if nick == \"바보\": \n",
    "        return \n",
    "    print(\"나의 별명은 %s 입니다.\" % nick)\n",
    "# 문자열을 출력하는 것과 값리턴은 다르므로 혼동하지 말 것\n",
    "# 특정 입력값으로 '바보'라는 값이 함수에 들어오면 문자열을 출력않고 함수를 빠져나감"
   ]
  },
  {
   "cell_type": "code",
   "execution_count": 38,
   "id": "8cbf547b",
   "metadata": {
    "ExecuteTime": {
     "end_time": "2023-10-06T08:03:38.698808Z",
     "start_time": "2023-10-06T08:03:38.693872Z"
    }
   },
   "outputs": [
    {
     "name": "stdout",
     "output_type": "stream",
     "text": [
      "나의 별명은 파이썬 입니다.\n"
     ]
    }
   ],
   "source": [
    "say_nick('파이썬')"
   ]
  },
  {
   "cell_type": "code",
   "execution_count": 39,
   "id": "3d3ed408",
   "metadata": {
    "ExecuteTime": {
     "end_time": "2023-10-06T08:03:44.932081Z",
     "start_time": "2023-10-06T08:03:44.928148Z"
    }
   },
   "outputs": [],
   "source": [
    "say_nick('바보')"
   ]
  },
  {
   "cell_type": "markdown",
   "id": "4bf6efba",
   "metadata": {},
   "source": [
    "## 매개변수에 초깃값 미리 설정하기"
   ]
  },
  {
   "cell_type": "code",
   "execution_count": 40,
   "id": "58a885c7",
   "metadata": {
    "ExecuteTime": {
     "end_time": "2023-10-06T08:04:16.575788Z",
     "start_time": "2023-10-06T08:04:16.571525Z"
    }
   },
   "outputs": [],
   "source": [
    "def say_myself(name, age, man=True): \n",
    "    print(\"나의 이름은 %s 입니다.\" % name) \n",
    "    print(\"나이는 %d살입니다.\" % age) \n",
    "    if man: \n",
    "        print(\"남자입니다.\")\n",
    "    else: \n",
    "        print(\"여자입니다.\")"
   ]
  },
  {
   "cell_type": "code",
   "execution_count": 41,
   "id": "6c219028",
   "metadata": {
    "ExecuteTime": {
     "end_time": "2023-10-06T08:04:23.730505Z",
     "start_time": "2023-10-06T08:04:23.727128Z"
    }
   },
   "outputs": [
    {
     "name": "stdout",
     "output_type": "stream",
     "text": [
      "나의 이름은 박응용 입니다.\n",
      "나이는 27살입니다.\n",
      "남자입니다.\n"
     ]
    }
   ],
   "source": [
    "# say_myself함수는 다음처럼 2가지 방법으로 사용할 수 있다.\n",
    "say_myself(\"박응용\", 27)"
   ]
  },
  {
   "cell_type": "code",
   "execution_count": 42,
   "id": "67c20bb5",
   "metadata": {
    "ExecuteTime": {
     "end_time": "2023-10-06T08:04:30.958813Z",
     "start_time": "2023-10-06T08:04:30.949187Z"
    }
   },
   "outputs": [
    {
     "name": "stdout",
     "output_type": "stream",
     "text": [
      "나의 이름은 박응용 입니다.\n",
      "나이는 27살입니다.\n",
      "남자입니다.\n"
     ]
    }
   ],
   "source": [
    "say_myself(\"박응용\", 27, True)"
   ]
  },
  {
   "cell_type": "code",
   "execution_count": 43,
   "id": "2acd1c41",
   "metadata": {
    "ExecuteTime": {
     "end_time": "2023-10-06T08:04:40.951933Z",
     "start_time": "2023-10-06T08:04:40.947428Z"
    }
   },
   "outputs": [
    {
     "name": "stdout",
     "output_type": "stream",
     "text": [
      "나의 이름은 박응선 입니다.\n",
      "나이는 2살입니다.\n",
      "남자입니다.\n"
     ]
    }
   ],
   "source": [
    "say_myself(\"박응선\", 2)"
   ]
  },
  {
   "cell_type": "code",
   "execution_count": 44,
   "id": "d17c9235",
   "metadata": {
    "ExecuteTime": {
     "end_time": "2023-10-06T08:04:47.012141Z",
     "start_time": "2023-10-06T08:04:47.007627Z"
    }
   },
   "outputs": [
    {
     "name": "stdout",
     "output_type": "stream",
     "text": [
      "나의 이름은 박응선 입니다.\n",
      "나이는 27살입니다.\n",
      "여자입니다.\n"
     ]
    }
   ],
   "source": [
    "say_myself(\"박응선\", 27, False)"
   ]
  },
  {
   "cell_type": "code",
   "execution_count": 45,
   "id": "7d6c0aa3",
   "metadata": {
    "ExecuteTime": {
     "end_time": "2023-10-06T08:05:00.928758Z",
     "start_time": "2023-10-06T08:05:00.916335Z"
    }
   },
   "outputs": [
    {
     "ename": "SyntaxError",
     "evalue": "non-default argument follows default argument (1812398867.py, line 2)",
     "output_type": "error",
     "traceback": [
      "\u001b[1;36m  Cell \u001b[1;32mIn[45], line 2\u001b[1;36m\u001b[0m\n\u001b[1;33m    def say_myself(name, man=True, age):\u001b[0m\n\u001b[1;37m                                   ^\u001b[0m\n\u001b[1;31mSyntaxError\u001b[0m\u001b[1;31m:\u001b[0m non-default argument follows default argument\n"
     ]
    }
   ],
   "source": [
    "# 초깃값 설정시 주의점(초기화 매개변수는 맨 뒤에)\n",
    "def say_myself(name, man=True, age): \n",
    "    print(\"나의 이름은 %s 입니다.\" % name) \n",
    "    print(\"나이는 %d살입니다.\" % age) \n",
    "    if man: \n",
    "        print(\"남자입니다.\") \n",
    "    else: \n",
    "        print(\"여자입니다.\")\n",
    "# 초깃값이 없는 매개변수(age)는 초깃값이 있는 매개변수(man) 뒤에 사용할 수 없다"
   ]
  },
  {
   "cell_type": "markdown",
   "id": "80e91b89",
   "metadata": {},
   "source": [
    "## 함수 안에서 선언한 변수의 효력 범위(지역vs전역)\n",
    "함수 안에서 사용할 변수의 이름을 함수 밖에서도 동일하게 사용한다면?"
   ]
  },
  {
   "cell_type": "code",
   "execution_count": 46,
   "id": "cd9e338c",
   "metadata": {
    "ExecuteTime": {
     "end_time": "2023-10-06T08:05:55.475092Z",
     "start_time": "2023-10-06T08:05:55.464936Z"
    }
   },
   "outputs": [
    {
     "name": "stdout",
     "output_type": "stream",
     "text": [
      "1\n"
     ]
    }
   ],
   "source": [
    "a = 1\n",
    "\n",
    "def vartest(a):\n",
    "    a = a +1\n",
    "\n",
    "vartest(a) # 2가 나올까?\n",
    "print(a) \n",
    "#1이 나온이유: 함수 매개변수는 함수안에서만 사용하는 \"지역\"변수이기 때문"
   ]
  },
  {
   "cell_type": "code",
   "execution_count": 47,
   "id": "0a8a2b7f",
   "metadata": {
    "ExecuteTime": {
     "end_time": "2023-10-06T08:06:22.498764Z",
     "start_time": "2023-10-06T08:06:22.472315Z"
    }
   },
   "outputs": [
    {
     "ename": "NameError",
     "evalue": "name 'aa' is not defined",
     "output_type": "error",
     "traceback": [
      "\u001b[1;31m---------------------------------------------------------------------------\u001b[0m",
      "\u001b[1;31mNameError\u001b[0m                                 Traceback (most recent call last)",
      "Cell \u001b[1;32mIn[47], line 5\u001b[0m\n\u001b[0;32m      2\u001b[0m      aa \u001b[38;5;241m=\u001b[39m aa \u001b[38;5;241m+\u001b[39m \u001b[38;5;241m1\u001b[39m\n\u001b[0;32m      4\u001b[0m vartest(\u001b[38;5;241m3\u001b[39m) \u001b[38;5;66;03m# 4가 나올까\u001b[39;00m\n\u001b[1;32m----> 5\u001b[0m \u001b[38;5;28mprint\u001b[39m(aa)\n",
      "\u001b[1;31mNameError\u001b[0m: name 'aa' is not defined"
     ]
    }
   ],
   "source": [
    "def vartest(aa):\n",
    "     aa = aa + 1\n",
    "        \n",
    "vartest(3) # 4가 나올까\n",
    "print(aa) # 실행될까? 에러가 발생할까?"
   ]
  },
  {
   "cell_type": "markdown",
   "id": "57088eb5",
   "metadata": {},
   "source": [
    "## 함수 안에서 함수 밖의 변수를 변경하는 방법"
   ]
  },
  {
   "cell_type": "markdown",
   "id": "1524143a",
   "metadata": {},
   "source": [
    "### return 사용하기"
   ]
  },
  {
   "cell_type": "code",
   "execution_count": 80,
   "id": "45273fb8",
   "metadata": {
    "ExecuteTime": {
     "end_time": "2023-10-05T13:53:53.412910Z",
     "start_time": "2023-10-05T13:53:53.408997Z"
    }
   },
   "outputs": [
    {
     "name": "stdout",
     "output_type": "stream",
     "text": [
      "2\n"
     ]
    }
   ],
   "source": [
    "a = 1 \n",
    "def vartest(a): \n",
    "    a = a +1 \n",
    "    return a\n",
    "\n",
    "a = vartest(a)  # a전역변수에 함수리턴값이 대입된다.\n",
    "print(a)"
   ]
  },
  {
   "cell_type": "markdown",
   "id": "8076018e",
   "metadata": {},
   "source": [
    "### global 명령어 사용하기\n",
    "전역변수 선언은 사용에 주의해야한다.   \n",
    "외부변수에 종속적인 함수는 좋지 않다.   \n",
    "독립적인 것이 좋으므로 첫번째 방법을 권장한다."
   ]
  },
  {
   "cell_type": "code",
   "execution_count": 81,
   "id": "6795828b",
   "metadata": {
    "ExecuteTime": {
     "end_time": "2023-10-05T13:54:12.813182Z",
     "start_time": "2023-10-05T13:54:12.809108Z"
    }
   },
   "outputs": [
    {
     "name": "stdout",
     "output_type": "stream",
     "text": [
      "2\n"
     ]
    }
   ],
   "source": [
    "a = 1 \n",
    "def vartest(): \n",
    "    global a # 함수 안에서 함수 밖에 a변수를 직접 사용하겠다.(전역변수 선언)\n",
    "    a = a+1\n",
    "\n",
    "vartest() \n",
    "print(a)"
   ]
  },
  {
   "cell_type": "markdown",
   "id": "d75e4a75",
   "metadata": {},
   "source": [
    "### lambda 표현식으로 익명 함수 만들기\n",
    "람다 표현식은 식 형태로 되어 있다고 해서 람다 표현식(lambda expression)이라고 부릅니다.   \n",
    "특히 람다 표현식은 함수를 간편하게 작성할 수 있어서 다른 함수의 인수로 넣을 때 주로 사용합니다.   \n",
    "def와 동일한 역할을 하는 함수 생성 예약어\n",
    "def를 사용해야 할 정도로 복잡하지 않거나 def를 사용할 수 없는 곳에 주로 쓰인다.(ex 일회성 데이터 정제처리 등)\n",
    "```\n",
    "함수_이름 = lambda 매개변수1, 매개변수2, ... : 매개변수를_이용한_표현식\n",
    "```"
   ]
  },
  {
   "cell_type": "code",
   "execution_count": 48,
   "id": "5a2372f8",
   "metadata": {
    "ExecuteTime": {
     "end_time": "2023-10-06T08:10:43.695073Z",
     "start_time": "2023-10-06T08:10:43.690443Z"
    }
   },
   "outputs": [
    {
     "name": "stdout",
     "output_type": "stream",
     "text": [
      "7\n"
     ]
    }
   ],
   "source": [
    "add = lambda a, b: a+b\n",
    "result = add(3, 4)\n",
    "print(result)"
   ]
  },
  {
   "cell_type": "code",
   "execution_count": 49,
   "id": "e10e363c",
   "metadata": {
    "ExecuteTime": {
     "end_time": "2023-10-06T08:10:47.549901Z",
     "start_time": "2023-10-06T08:10:47.545242Z"
    },
    "scrolled": true
   },
   "outputs": [
    {
     "name": "stdout",
     "output_type": "stream",
     "text": [
      "7\n"
     ]
    }
   ],
   "source": [
    "# def함수와 동일하다.\n",
    "def add(a, b):\n",
    "    return a+b\n",
    "\n",
    "result = add(3, 4)\n",
    "print(result)"
   ]
  },
  {
   "cell_type": "markdown",
   "id": "270e31ec",
   "metadata": {},
   "source": [
    "# 사용자 입출력\n",
    "우리들이 사용하는 대부분의 완성된 프로그램은 사용자 입력에 따라 그에 맞는 출력을 내보낸다.   \n",
    "대표적인 예로 게시판에 글을 작성한 후 [확인] 버튼을 눌러야만(입력) 우리가 작성한 글이 게시판에 올라가는(출력) 것을 들 수 있다.\n",
    "<img src=\"https://wikidocs.net/images/page/25/04_2_io.png\"></img>\n"
   ]
  },
  {
   "cell_type": "markdown",
   "id": "ae91e8ff",
   "metadata": {},
   "source": [
    "## 사용자 입력 활용하기\n",
    "사용자가 입력한 값을 어떤 변수에 대입하고 싶을 때"
   ]
  },
  {
   "cell_type": "markdown",
   "id": "76591aa6",
   "metadata": {},
   "source": [
    "### input 사용하기\n",
    "input은 사용자가 키보드로 입력한 모든 것을 \"문자열\"로 저장한다."
   ]
  },
  {
   "cell_type": "code",
   "execution_count": 91,
   "id": "33d5c247",
   "metadata": {
    "ExecuteTime": {
     "end_time": "2023-10-05T14:42:12.936395Z",
     "start_time": "2023-10-05T14:42:03.503267Z"
    }
   },
   "outputs": [
    {
     "name": "stdout",
     "output_type": "stream",
     "text": [
      "Life is too short, you need python\n"
     ]
    }
   ],
   "source": [
    "a = input()"
   ]
  },
  {
   "cell_type": "code",
   "execution_count": 92,
   "id": "284e622c",
   "metadata": {
    "ExecuteTime": {
     "end_time": "2023-10-05T14:42:21.738214Z",
     "start_time": "2023-10-05T14:42:21.734072Z"
    }
   },
   "outputs": [
    {
     "data": {
      "text/plain": [
       "'Life is too short, you need python'"
      ]
     },
     "execution_count": 92,
     "metadata": {},
     "output_type": "execute_result"
    }
   ],
   "source": [
    "a"
   ]
  },
  {
   "cell_type": "markdown",
   "id": "8dc17268",
   "metadata": {},
   "source": [
    "### 프롬프트를 띄워 사용자 입력받기\n",
    "사용자 입력시 안내 문구 또는 질문을 보여주고자 할 때\n",
    "```\n",
    "input(\"안내문구\")\n",
    "```"
   ]
  },
  {
   "cell_type": "code",
   "execution_count": 95,
   "id": "1698ad84",
   "metadata": {
    "ExecuteTime": {
     "end_time": "2023-10-05T14:44:10.806573Z",
     "start_time": "2023-10-05T14:44:08.822471Z"
    }
   },
   "outputs": [
    {
     "name": "stdout",
     "output_type": "stream",
     "text": [
      "숫자를 입력하세요: 123\n"
     ]
    }
   ],
   "source": [
    "number = input(\"숫자를 입력하세요: \")"
   ]
  },
  {
   "cell_type": "code",
   "execution_count": 97,
   "id": "1eb7ad04",
   "metadata": {
    "ExecuteTime": {
     "end_time": "2023-10-05T14:44:50.787018Z",
     "start_time": "2023-10-05T14:44:50.782110Z"
    }
   },
   "outputs": [
    {
     "data": {
      "text/plain": [
       "str"
      ]
     },
     "execution_count": 97,
     "metadata": {},
     "output_type": "execute_result"
    }
   ],
   "source": [
    "type(number)\n",
    "# input은 입력되는 모든 것을 문자열로 취급함을 주의하자."
   ]
  },
  {
   "cell_type": "markdown",
   "id": "9e302875",
   "metadata": {},
   "source": [
    "## print 자세히 알기"
   ]
  },
  {
   "cell_type": "markdown",
   "id": "a0c821b5",
   "metadata": {},
   "source": [
    "### 따옴표로 둘러싸인 문자열은 + 연산과 동일하다."
   ]
  },
  {
   "cell_type": "code",
   "execution_count": 50,
   "id": "97b141f6",
   "metadata": {
    "ExecuteTime": {
     "end_time": "2023-10-06T08:12:23.016171Z",
     "start_time": "2023-10-06T08:12:23.011710Z"
    }
   },
   "outputs": [
    {
     "name": "stdout",
     "output_type": "stream",
     "text": [
      "lifeistoo short\n",
      "lifeistoo short\n"
     ]
    }
   ],
   "source": [
    "# 동일한 결과, 따옴표 문자열을 연속해서 쓰면 +연산과 동일한 결과\n",
    "print(\"life\" \"is\" \"too short\")  # 1번\n",
    "print(\"life\"+\"is\"+\"too short\")  # 2번"
   ]
  },
  {
   "cell_type": "code",
   "execution_count": 51,
   "id": "e44df6cf",
   "metadata": {
    "ExecuteTime": {
     "end_time": "2023-10-06T08:12:26.257979Z",
     "start_time": "2023-10-06T08:12:26.253897Z"
    }
   },
   "outputs": [
    {
     "name": "stdout",
     "output_type": "stream",
     "text": [
      "lifeistoo short\n",
      "lifeistoo short\n"
     ]
    }
   ],
   "source": [
    "# 작은 따옴표도 동일하다.\n",
    "print('life' 'is' 'too short')  # 1번\n",
    "print('life'+'is'+'too short')  # 2번"
   ]
  },
  {
   "cell_type": "markdown",
   "id": "8bebbdf9",
   "metadata": {},
   "source": [
    "### 문자열 띄어쓰기는 쉼표로 한다."
   ]
  },
  {
   "cell_type": "code",
   "execution_count": 103,
   "id": "54b9c322",
   "metadata": {
    "ExecuteTime": {
     "end_time": "2023-10-05T14:48:45.545262Z",
     "start_time": "2023-10-05T14:48:45.541987Z"
    }
   },
   "outputs": [
    {
     "name": "stdout",
     "output_type": "stream",
     "text": [
      "life is too short\n"
     ]
    }
   ],
   "source": [
    "print(\"life\", \"is\", \"too short\")"
   ]
  },
  {
   "cell_type": "markdown",
   "id": "265df3f4",
   "metadata": {},
   "source": [
    "### 한줄에 결과값 출력하기\n",
    "end매개변수의 초깃값은 줄바꿈(\\n)이다.   \n",
    "이것은 공백으로 바꿔주면 한줄 출력을 할 수 있다."
   ]
  },
  {
   "cell_type": "code",
   "execution_count": 52,
   "id": "7722c619",
   "metadata": {
    "ExecuteTime": {
     "end_time": "2023-10-06T08:12:53.294600Z",
     "start_time": "2023-10-06T08:12:53.289863Z"
    }
   },
   "outputs": [
    {
     "name": "stdout",
     "output_type": "stream",
     "text": [
      "0\n",
      "1\n",
      "2\n",
      "3\n",
      "4\n",
      "5\n",
      "6\n",
      "7\n",
      "8\n",
      "9\n"
     ]
    }
   ],
   "source": [
    "for i in range(10):\n",
    "     print(i)"
   ]
  },
  {
   "cell_type": "code",
   "execution_count": 53,
   "id": "3904c703",
   "metadata": {
    "ExecuteTime": {
     "end_time": "2023-10-06T08:12:57.925406Z",
     "start_time": "2023-10-06T08:12:57.918907Z"
    }
   },
   "outputs": [],
   "source": [
    "print?"
   ]
  },
  {
   "cell_type": "code",
   "execution_count": 54,
   "id": "34d389f7",
   "metadata": {
    "ExecuteTime": {
     "end_time": "2023-10-06T08:13:06.165262Z",
     "start_time": "2023-10-06T08:13:06.161162Z"
    }
   },
   "outputs": [
    {
     "name": "stdout",
     "output_type": "stream",
     "text": [
      "0 1 2 3 4 5 6 7 8 9 "
     ]
    }
   ],
   "source": [
    "for i in range(10):\n",
    "     print(i, end=' ')"
   ]
  },
  {
   "cell_type": "markdown",
   "id": "25e754fd",
   "metadata": {},
   "source": [
    "# 파일 읽고 쓰기\n",
    "파일을 통한 입출력 방법에 대해 알아보자.   \n",
    "여기에서는 파일을 새로 만든 다음 프로그램이 만든 결괏값을 새 파일에 적어 본다.   \n",
    "또 파일에 적은 내용을 읽고 새로운 내용을 추가하는 방법도 알아본다."
   ]
  },
  {
   "cell_type": "markdown",
   "id": "dbd7dafd",
   "metadata": {},
   "source": [
    "## 파일 생성하기\n",
    "```\n",
    "파일객체 = open(파일_이름, 파일_열기_모드, encoding=None)\n",
    "파일객체.close()\n",
    "```\n",
    "|파일열기모드|설명|\n",
    "|:------:|:---:|\n",
    "|r|읽기 모드|\n",
    "|w|쓰기 모드|\n",
    "|a|추가 모드|\n",
    "\n",
    "파일을 쓰기모드로 열때 해당 파일이 없으면 새로운 파일이 생성된다.   \n",
    "그러나 해당 파일이 이미 존재할 경우 원래 있던 내용이 모두 사라지므로 주의할 것 (즉, 덮어쓰기로 이해하면 됨)   \n",
    "\n",
    " f.close()는 열려 있는 파일 객체를 닫아 주는 역할을 한다.   \n",
    " 사실 이 문장은 생략해도 된다. 프로그램을 종료할 때 파이썬 프로그램이 열려 있는 파일의 객체를 자동으로 닫아 주기 때문이다.   \n",
    "하지만 close()를 사용해서 열려 있는 파일을 직접 닫아 주는 것이 좋다.   \n",
    "쓰기모드로 열었던 파일을 닫지 않고 다시 사용하려고 하면 오류가 발생하기 때문이다.\n"
   ]
  },
  {
   "cell_type": "code",
   "execution_count": 2,
   "id": "ad9922c7",
   "metadata": {
    "ExecuteTime": {
     "end_time": "2023-10-08T12:39:47.768531Z",
     "start_time": "2023-10-08T12:39:47.763561Z"
    }
   },
   "outputs": [],
   "source": [
    "open?"
   ]
  },
  {
   "cell_type": "code",
   "execution_count": 55,
   "id": "69f7431d",
   "metadata": {
    "ExecuteTime": {
     "end_time": "2023-10-06T08:15:51.691637Z",
     "start_time": "2023-10-06T08:15:51.687108Z"
    }
   },
   "outputs": [],
   "source": [
    "# 경로를 지정하지 않았으므로 현재경로에 새로운 파일이 생성됨\n",
    "f = open(\"새파일.txt\", 'w')\n",
    "f.close()"
   ]
  },
  {
   "cell_type": "code",
   "execution_count": null,
   "id": "c1f611da",
   "metadata": {},
   "outputs": [],
   "source": [
    "f.closed"
   ]
  },
  {
   "cell_type": "code",
   "execution_count": 56,
   "id": "4687b15c",
   "metadata": {
    "ExecuteTime": {
     "end_time": "2023-10-06T08:16:24.352283Z",
     "start_time": "2023-10-06T08:16:24.347295Z"
    }
   },
   "outputs": [],
   "source": [
    "# 경로 지정을 해보자\n",
    "f = open(\"C:/Users/maeng/Desktop/새파일.txt\", 'w')\n",
    "f.close()"
   ]
  },
  {
   "cell_type": "markdown",
   "id": "04b4f916",
   "metadata": {},
   "source": [
    "#### 파일 경로와 슬래시(/)\n",
    "파이썬 코드에서 파일 경로를 표시할 때 \"C:/doit/새파일.txt\"처럼 슬래시(/)를 사용할 수 있다.   \n",
    "만약 역슬래시(\\)를 사용한다면 \n",
    "```\n",
    "\"C:\\\\doit\\\\새파일.txt\"처럼 역슬래시를 2개 사용하거나 r\"C:\\doit\\새파일.txt\"와 같이 문자열 앞에 r 문자(raw string)를 덧붙여 사용해야 한다.    \n",
    "왜냐하면 \"C:\\note\\test.txt\"처럼 파일 경로에 \\n과 같은 이스케이프 문자가 있을 경우, 줄바꿈 문자로 해석되어 의도했던 파일 경로와 달라지기 때문이다.\n",
    "```"
   ]
  },
  {
   "cell_type": "markdown",
   "id": "050d3dc6",
   "metadata": {},
   "source": [
    "## 파일을 쓰기 모드로 열어 내용 쓰기"
   ]
  },
  {
   "cell_type": "code",
   "execution_count": 113,
   "id": "a6b1ae00",
   "metadata": {
    "ExecuteTime": {
     "end_time": "2023-10-05T15:22:17.616300Z",
     "start_time": "2023-10-05T15:22:17.612151Z"
    }
   },
   "outputs": [
    {
     "name": "stdout",
     "output_type": "stream",
     "text": [
      "1번째 줄입니다.\n",
      "\n",
      "2번째 줄입니다.\n",
      "\n",
      "3번째 줄입니다.\n",
      "\n",
      "4번째 줄입니다.\n",
      "\n",
      "5번째 줄입니다.\n",
      "\n",
      "6번째 줄입니다.\n",
      "\n",
      "7번째 줄입니다.\n",
      "\n",
      "8번째 줄입니다.\n",
      "\n",
      "9번째 줄입니다.\n",
      "\n",
      "10번째 줄입니다.\n",
      "\n"
     ]
    }
   ],
   "source": [
    "# 화면에 데이터를 출력하는 방법\n",
    "for i in range(1, 11):\n",
    "    data = \"%d번째 줄입니다.\\n\" % i\n",
    "    print(data)"
   ]
  },
  {
   "cell_type": "code",
   "execution_count": 57,
   "id": "e93c2f29",
   "metadata": {
    "ExecuteTime": {
     "end_time": "2023-10-06T08:18:43.322186Z",
     "start_time": "2023-10-06T08:18:43.315504Z"
    }
   },
   "outputs": [],
   "source": [
    "# 파일에 데이터를 쓰는 방법\n",
    "f = open(\"새파일.txt\", 'w')\n",
    "\n",
    "for i in range(1, 11):\n",
    "    data = \"%d번째 줄입니다.\\n\" % i\n",
    "    f.write(data) # print함수 대신 파일객체의 write함수를 사용함\n",
    "    \n",
    "f.close() "
   ]
  },
  {
   "cell_type": "markdown",
   "id": "ff7ee14a",
   "metadata": {},
   "source": [
    "## 파일을 읽는 여러 가지 방법"
   ]
  },
  {
   "cell_type": "markdown",
   "id": "d968076f",
   "metadata": {},
   "source": [
    "### readline 함수 이용하기\n",
    "파일의 첫 번째 줄을 읽어 출력"
   ]
  },
  {
   "cell_type": "code",
   "execution_count": 58,
   "id": "ed6026d7",
   "metadata": {
    "ExecuteTime": {
     "end_time": "2023-10-06T08:19:28.452662Z",
     "start_time": "2023-10-06T08:19:28.445683Z"
    }
   },
   "outputs": [
    {
     "name": "stdout",
     "output_type": "stream",
     "text": [
      "1번째 줄입니다.\n",
      "\n"
     ]
    }
   ],
   "source": [
    "# readline_test.py\n",
    "f = open(\"새파일.txt\", 'r')\n",
    "line = f.readline()\n",
    "print(line)\n",
    "f.close()"
   ]
  },
  {
   "cell_type": "code",
   "execution_count": 118,
   "id": "be47a7e5",
   "metadata": {
    "ExecuteTime": {
     "end_time": "2023-10-05T15:40:35.897159Z",
     "start_time": "2023-10-05T15:40:35.892877Z"
    }
   },
   "outputs": [
    {
     "name": "stdout",
     "output_type": "stream",
     "text": [
      "1번째 줄입니다.\n",
      "\n",
      "2번째 줄입니다.\n",
      "\n",
      "3번째 줄입니다.\n",
      "\n",
      "4번째 줄입니다.\n",
      "\n",
      "5번째 줄입니다.\n",
      "\n",
      "6번째 줄입니다.\n",
      "\n",
      "7번째 줄입니다.\n",
      "\n",
      "8번째 줄입니다.\n",
      "\n",
      "9번째 줄입니다.\n",
      "\n",
      "10번째 줄입니다.\n",
      "\n"
     ]
    }
   ],
   "source": [
    "# 모든 줄을 출력\n",
    "f = open(\"새파일.txt\", 'r')\n",
    "while True:\n",
    "    line = f.readline()\n",
    "    if not line: break\n",
    "    print(line)\n",
    "f.close()\n",
    "# 만약 더 이상 읽을 줄이 없으면 break를 수행한다\n",
    "# readline()은 더 이상 읽을 줄이 없을 경우, 빈 문자열('')을 리턴한다.\n",
    "# 한 줄씩 읽어 출력할 때 줄 끝에 \\n 문자가 있으므로 빈 줄도 같이 출력된다."
   ]
  },
  {
   "cell_type": "markdown",
   "id": "324159e0",
   "metadata": {},
   "source": [
    "### readlines 함수 사용하기\n",
    "readlines 함수는 파일의 모든 줄을 읽어서 각각의 줄을 요소로 가지는 리스트를 리턴한다"
   ]
  },
  {
   "cell_type": "code",
   "execution_count": 59,
   "id": "4413245f",
   "metadata": {
    "ExecuteTime": {
     "end_time": "2023-10-06T08:21:22.028396Z",
     "start_time": "2023-10-06T08:21:22.021314Z"
    }
   },
   "outputs": [
    {
     "name": "stdout",
     "output_type": "stream",
     "text": [
      "1번째 줄입니다.\n",
      "\n",
      "2번째 줄입니다.\n",
      "\n",
      "3번째 줄입니다.\n",
      "\n",
      "4번째 줄입니다.\n",
      "\n",
      "5번째 줄입니다.\n",
      "\n",
      "6번째 줄입니다.\n",
      "\n",
      "7번째 줄입니다.\n",
      "\n",
      "8번째 줄입니다.\n",
      "\n",
      "9번째 줄입니다.\n",
      "\n",
      "10번째 줄입니다.\n",
      "\n"
     ]
    }
   ],
   "source": [
    "f = open(\"새파일.txt\", 'r')\n",
    "lines = f.readlines()\n",
    "for line in lines:\n",
    "    print(line)\n",
    "f.close()"
   ]
  },
  {
   "cell_type": "code",
   "execution_count": 60,
   "id": "f2cb6906",
   "metadata": {
    "ExecuteTime": {
     "end_time": "2023-10-06T08:21:41.059125Z",
     "start_time": "2023-10-06T08:21:41.049713Z"
    }
   },
   "outputs": [
    {
     "name": "stdout",
     "output_type": "stream",
     "text": [
      "['1번째 줄입니다.\\n', '2번째 줄입니다.\\n', '3번째 줄입니다.\\n', '4번째 줄입니다.\\n', '5번째 줄입니다.\\n', '6번째 줄입니다.\\n', '7번째 줄입니다.\\n', '8번째 줄입니다.\\n', '9번째 줄입니다.\\n', '10번째 줄입니다.\\n']\n"
     ]
    }
   ],
   "source": [
    "f = open(\"새파일.txt\", 'r')\n",
    "print(f.readlines())\n",
    "f.close()"
   ]
  },
  {
   "cell_type": "markdown",
   "id": "94243224",
   "metadata": {},
   "source": [
    "#### 줄바꿈(\\n)문자 제거하기\n",
    "파일을 읽을 때 줄 끝의 줄 바꿈(\\n) 문자를 제거하고 사용해야 할 경우가 많다.   다음처럼 strip 함수를 사용하면 줄 바꿈 문자를 제거할 수 있다."
   ]
  },
  {
   "cell_type": "code",
   "execution_count": 61,
   "id": "2afd633b",
   "metadata": {
    "ExecuteTime": {
     "end_time": "2023-10-06T08:22:19.880192Z",
     "start_time": "2023-10-06T08:22:19.873994Z"
    }
   },
   "outputs": [
    {
     "name": "stdout",
     "output_type": "stream",
     "text": [
      "1번째 줄입니다.\n",
      "2번째 줄입니다.\n",
      "3번째 줄입니다.\n",
      "4번째 줄입니다.\n",
      "5번째 줄입니다.\n",
      "6번째 줄입니다.\n",
      "7번째 줄입니다.\n",
      "8번째 줄입니다.\n",
      "9번째 줄입니다.\n",
      "10번째 줄입니다.\n"
     ]
    }
   ],
   "source": [
    "f = open(\"새파일.txt\", 'r')\n",
    "lines = f.readlines()\n",
    "for line in lines:\n",
    "    line = line.strip()  # 줄 끝의 줄 바꿈 문자를 제거한다.\n",
    "    print(line)\n",
    "f.close()\n"
   ]
  },
  {
   "cell_type": "markdown",
   "id": "74d7ca66",
   "metadata": {},
   "source": [
    "### read 함수 사용하기\n",
    "f.read()는 파일의 내용 전체를 문자열로 리턴한다"
   ]
  },
  {
   "cell_type": "code",
   "execution_count": 62,
   "id": "99e53a09",
   "metadata": {
    "ExecuteTime": {
     "end_time": "2023-10-06T08:22:29.708396Z",
     "start_time": "2023-10-06T08:22:29.702619Z"
    }
   },
   "outputs": [
    {
     "name": "stdout",
     "output_type": "stream",
     "text": [
      "1번째 줄입니다.\n",
      "2번째 줄입니다.\n",
      "3번째 줄입니다.\n",
      "4번째 줄입니다.\n",
      "5번째 줄입니다.\n",
      "6번째 줄입니다.\n",
      "7번째 줄입니다.\n",
      "8번째 줄입니다.\n",
      "9번째 줄입니다.\n",
      "10번째 줄입니다.\n",
      "\n"
     ]
    }
   ],
   "source": [
    "f = open(\"새파일.txt\", 'r')\n",
    "data = f.read()\n",
    "print(data)\n",
    "f.close()"
   ]
  },
  {
   "cell_type": "code",
   "execution_count": 125,
   "id": "d7e0fc77",
   "metadata": {
    "ExecuteTime": {
     "end_time": "2023-10-05T15:44:47.520237Z",
     "start_time": "2023-10-05T15:44:47.515381Z"
    }
   },
   "outputs": [
    {
     "data": {
      "text/plain": [
       "str"
      ]
     },
     "execution_count": 125,
     "metadata": {},
     "output_type": "execute_result"
    }
   ],
   "source": [
    "type(data)"
   ]
  },
  {
   "cell_type": "code",
   "execution_count": 126,
   "id": "a08788b1",
   "metadata": {
    "ExecuteTime": {
     "end_time": "2023-10-05T15:44:50.256311Z",
     "start_time": "2023-10-05T15:44:50.252377Z"
    }
   },
   "outputs": [
    {
     "data": {
      "text/plain": [
       "'1번째 줄입니다.\\n2번째 줄입니다.\\n3번째 줄입니다.\\n4번째 줄입니다.\\n5번째 줄입니다.\\n6번째 줄입니다.\\n7번째 줄입니다.\\n8번째 줄입니다.\\n9번째 줄입니다.\\n10번째 줄입니다.\\n'"
      ]
     },
     "execution_count": 126,
     "metadata": {},
     "output_type": "execute_result"
    }
   ],
   "source": [
    "data"
   ]
  },
  {
   "cell_type": "markdown",
   "id": "1f84fc43",
   "metadata": {},
   "source": [
    "### 파일 객체를 for문과 함께 사용하기"
   ]
  },
  {
   "cell_type": "code",
   "execution_count": 127,
   "id": "8ea39827",
   "metadata": {
    "ExecuteTime": {
     "end_time": "2023-10-05T15:46:44.297929Z",
     "start_time": "2023-10-05T15:46:44.292201Z"
    },
    "scrolled": true
   },
   "outputs": [
    {
     "name": "stdout",
     "output_type": "stream",
     "text": [
      "1번째 줄입니다.\n",
      "\n",
      "2번째 줄입니다.\n",
      "\n",
      "3번째 줄입니다.\n",
      "\n",
      "4번째 줄입니다.\n",
      "\n",
      "5번째 줄입니다.\n",
      "\n",
      "6번째 줄입니다.\n",
      "\n",
      "7번째 줄입니다.\n",
      "\n",
      "8번째 줄입니다.\n",
      "\n",
      "9번째 줄입니다.\n",
      "\n",
      "10번째 줄입니다.\n",
      "\n"
     ]
    }
   ],
   "source": [
    "# 별도 read함수 없이 for문으로 줄단위를 읽을 수 있다.\n",
    "f = open(\"새파일.txt\", 'r')\n",
    "for line in f:\n",
    "    print(line)\n",
    "f.close()"
   ]
  },
  {
   "cell_type": "code",
   "execution_count": null,
   "id": "49ef7a42",
   "metadata": {},
   "outputs": [],
   "source": [
    "mylist = ['apple\\n', 'pear\\n', 'grape\\n', 'melon\\n']\n",
    "\n",
    "with open('fruit.txt', 'wt') as f :\n",
    "    f.writelines(mylist)"
   ]
  },
  {
   "cell_type": "code",
   "execution_count": null,
   "id": "87b91b8e",
   "metadata": {},
   "outputs": [],
   "source": [
    "f?"
   ]
  },
  {
   "cell_type": "code",
   "execution_count": null,
   "id": "a2009aab",
   "metadata": {},
   "outputs": [],
   "source": [
    "with open('fruit.txt', 'rt') as f6 : # iterable 객체\n",
    "    for item in f6 :\n",
    "        print(item.strip())"
   ]
  },
  {
   "cell_type": "markdown",
   "id": "c20857e8",
   "metadata": {},
   "source": [
    "## 파일에 새로운 내용 추가하기\n",
    "추가모드 ('a')"
   ]
  },
  {
   "cell_type": "code",
   "execution_count": 63,
   "id": "7b3e21c9",
   "metadata": {
    "ExecuteTime": {
     "end_time": "2023-10-06T08:23:42.218632Z",
     "start_time": "2023-10-06T08:23:42.206410Z"
    }
   },
   "outputs": [],
   "source": [
    "f = open(\"새파일.txt\",'a')\n",
    "for i in range(11, 20):\n",
    "    data = \"%d번째 줄입니다.\\n\" % i\n",
    "    f.write(data)\n",
    "f.close()"
   ]
  },
  {
   "cell_type": "code",
   "execution_count": 64,
   "id": "6b1c81b1",
   "metadata": {
    "ExecuteTime": {
     "end_time": "2023-10-06T08:23:50.727208Z",
     "start_time": "2023-10-06T08:23:50.722844Z"
    }
   },
   "outputs": [
    {
     "name": "stdout",
     "output_type": "stream",
     "text": [
      "1번째 줄입니다.\n",
      "2번째 줄입니다.\n",
      "3번째 줄입니다.\n",
      "4번째 줄입니다.\n",
      "5번째 줄입니다.\n",
      "6번째 줄입니다.\n",
      "7번째 줄입니다.\n",
      "8번째 줄입니다.\n",
      "9번째 줄입니다.\n",
      "10번째 줄입니다.\n",
      "11번째 줄입니다.\n",
      "12번째 줄입니다.\n",
      "13번째 줄입니다.\n",
      "14번째 줄입니다.\n",
      "15번째 줄입니다.\n",
      "16번째 줄입니다.\n",
      "17번째 줄입니다.\n",
      "18번째 줄입니다.\n",
      "19번째 줄입니다.\n",
      "\n"
     ]
    }
   ],
   "source": [
    "f = open(\"새파일.txt\", 'r')\n",
    "data = f.read()\n",
    "print(data)\n",
    "f.close()"
   ]
  },
  {
   "cell_type": "markdown",
   "id": "5f05bf83",
   "metadata": {},
   "source": [
    "## with 문과 함께 사용하기\n",
    "파일을 열고 닫는 것을 자동으로 처리하기 위함\n",
    "with 문을 사용하면 with 블록(with 문에 속해 있는 문장)을 벗어나는 순간, 열린 파일 객체 f가 자동으로 닫힌다."
   ]
  },
  {
   "cell_type": "code",
   "execution_count": 133,
   "id": "7fe45585",
   "metadata": {
    "ExecuteTime": {
     "end_time": "2023-10-05T15:49:36.337125Z",
     "start_time": "2023-10-05T15:49:36.332215Z"
    }
   },
   "outputs": [
    {
     "data": {
      "text/plain": [
       "34"
      ]
     },
     "execution_count": 133,
     "metadata": {},
     "output_type": "execute_result"
    }
   ],
   "source": [
    "f = open(\"foo.txt\", 'w')\n",
    "f.write(\"Life is too short, you need python\")\n",
    "f.close()"
   ]
  },
  {
   "cell_type": "code",
   "execution_count": 65,
   "id": "7b07a2d1",
   "metadata": {
    "ExecuteTime": {
     "end_time": "2023-10-06T08:25:02.524923Z",
     "start_time": "2023-10-06T08:25:02.519726Z"
    }
   },
   "outputs": [],
   "source": [
    "with open(\"foo.txt\", \"w\") as f:\n",
    "    f.write(\"Life is too short, you need python\")"
   ]
  },
  {
   "cell_type": "markdown",
   "id": "04b4da8e",
   "metadata": {},
   "source": [
    "# 프로그램의 입출력\n",
    "명령 프롬프트를 사용해 본 독자라면 다음과 같은 명령어를 사용해 봤을 것이다.\n",
    "```\n",
    "C:\\> type a.txt\n",
    "```\n",
    "type은 바로 뒤에 적힌 파일 이름을 인수로 받아 해당 파일의 내용을 출력해 주는 명령어이다. 대부분의 명령 프롬프트에서 사용하는 명령어는 다음과 같이 인수를 전달하여 프로그램을 실행하는 방식을 따른다.\n",
    "\n",
    "명령어 [인수1 인수2 ...]\n",
    "이러한 기능을 파이썬 프로그램에도 적용할 수 있다."
   ]
  },
  {
   "cell_type": "markdown",
   "id": "d20b55d3",
   "metadata": {},
   "source": [
    "## sys 모듈 사용하기\n",
    "파이썬에서는 sys 모듈을 사용하여 프로그램에 인수를 전달할 수 있다.   sys 모듈을 사용하려면 다음 예의 import sys처럼 import 명령어를 사용해야 한다.\n",
    "```\n",
    "import sys\n",
    "args = sys.argv[1:]\n",
    "for i in args:\n",
    "    print(i)\n",
    "```\n",
    "프로그램 실행 시 전달받은 인수를 for 문을 사용해 차례대로 하나씩 출력하는 예   \n",
    "sys 모듈의 argv는 프로그램 실행 시 전달된 인수를 의미한다.   \n",
    "<img src=\"https://wikidocs.net/images/page/180507/04_4_sys.png\"></img>\n",
    "즉, 위와 같이 입력했다면 argv[0]은 파일 이름 sys1.py가 되고 argv[1]부터는 뒤에 따라오는 인수가 차례대로 argv의 요소가 된다.   \n",
    "이 프로그램을 디렉터리에 저장한 후 인수를 전달하여 실행하면 다음과 같은 결과를 볼 수 있다."
   ]
  },
  {
   "cell_type": "code",
   "execution_count": 3,
   "id": "07c5fc46",
   "metadata": {
    "ExecuteTime": {
     "end_time": "2023-10-05T16:16:29.487227Z",
     "start_time": "2023-10-05T16:16:29.483273Z"
    }
   },
   "outputs": [
    {
     "name": "stdout",
     "output_type": "stream",
     "text": [
      "-f\n",
      "C:\\Users\\maeng\\AppData\\Roaming\\jupyter\\runtime\\kernel-75de0182-7952-4376-8dee-9fe96cf699e9.json\n"
     ]
    }
   ],
   "source": [
    "# 아래코드로 sys1.py를 생성 후 명령프롬프트에서 python sys1.py aaa bbb ccc를 실행\n",
    "import sys\n",
    "args = sys.argv[1:]\n",
    "for i in args:\n",
    "    print(i)"
   ]
  },
  {
   "cell_type": "code",
   "execution_count": null,
   "id": "d123b9a0",
   "metadata": {},
   "outputs": [],
   "source": [
    "# sys2.py\n",
    "# python sys2.py life is too short, you need python\n",
    "import sys\n",
    "args = sys.argv[1:]\n",
    "for i in args:\n",
    "    print(i.upper(), end=' ')"
   ]
  }
 ],
 "metadata": {
  "kernelspec": {
   "display_name": "Python 3 (ipykernel)",
   "language": "python",
   "name": "python3"
  },
  "language_info": {
   "codemirror_mode": {
    "name": "ipython",
    "version": 3
   },
   "file_extension": ".py",
   "mimetype": "text/x-python",
   "name": "python",
   "nbconvert_exporter": "python",
   "pygments_lexer": "ipython3",
   "version": "3.11.5"
  },
  "toc": {
   "base_numbering": 1,
   "nav_menu": {},
   "number_sections": true,
   "sideBar": true,
   "skip_h1_title": false,
   "title_cell": "Table of Contents",
   "title_sidebar": "Contents",
   "toc_cell": false,
   "toc_position": {
    "height": "calc(100% - 180px)",
    "left": "10px",
    "top": "150px",
    "width": "384px"
   },
   "toc_section_display": true,
   "toc_window_display": false
  },
  "varInspector": {
   "cols": {
    "lenName": 16,
    "lenType": 16,
    "lenVar": 40
   },
   "kernels_config": {
    "python": {
     "delete_cmd_postfix": "",
     "delete_cmd_prefix": "del ",
     "library": "var_list.py",
     "varRefreshCmd": "print(var_dic_list())"
    },
    "r": {
     "delete_cmd_postfix": ") ",
     "delete_cmd_prefix": "rm(",
     "library": "var_list.r",
     "varRefreshCmd": "cat(var_dic_list()) "
    }
   },
   "oldHeight": 271.844,
   "position": {
    "height": "293.844px",
    "left": "1235px",
    "right": "20px",
    "top": "106px",
    "width": "619px"
   },
   "types_to_exclude": [
    "module",
    "function",
    "builtin_function_or_method",
    "instance",
    "_Feature"
   ],
   "varInspector_section_display": "block",
   "window_display": false
  }
 },
 "nbformat": 4,
 "nbformat_minor": 5
}

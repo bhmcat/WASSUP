{
 "cells": [
  {
   "cell_type": "markdown",
   "id": "e4a8565d",
   "metadata": {},
   "source": [
    "# 숫자형"
   ]
  },
  {
   "cell_type": "markdown",
   "id": "645469fc",
   "metadata": {},
   "source": [
    "## 정수형"
   ]
  },
  {
   "cell_type": "code",
   "execution_count": 1,
   "id": "a69bd9c7",
   "metadata": {
    "ExecuteTime": {
     "end_time": "2023-11-26T06:58:10.009595Z",
     "start_time": "2023-11-26T06:58:10.004531Z"
    }
   },
   "outputs": [
    {
     "data": {
      "text/plain": [
       "123"
      ]
     },
     "execution_count": 1,
     "metadata": {},
     "output_type": "execute_result"
    }
   ],
   "source": [
    "a=123\n",
    "a"
   ]
  },
  {
   "cell_type": "code",
   "execution_count": 2,
   "id": "d628138a",
   "metadata": {
    "ExecuteTime": {
     "end_time": "2023-11-26T06:58:20.065010Z",
     "start_time": "2023-11-26T06:58:20.061658Z"
    }
   },
   "outputs": [
    {
     "data": {
      "text/plain": [
       "-178"
      ]
     },
     "execution_count": 2,
     "metadata": {},
     "output_type": "execute_result"
    }
   ],
   "source": [
    "a=-178\n",
    "a"
   ]
  },
  {
   "cell_type": "code",
   "execution_count": 3,
   "id": "b09aae2d",
   "metadata": {
    "ExecuteTime": {
     "end_time": "2023-11-26T06:58:23.561385Z",
     "start_time": "2023-11-26T06:58:23.558070Z"
    }
   },
   "outputs": [
    {
     "data": {
      "text/plain": [
       "0"
      ]
     },
     "execution_count": 3,
     "metadata": {},
     "output_type": "execute_result"
    }
   ],
   "source": [
    "a=0\n",
    "a"
   ]
  },
  {
   "cell_type": "markdown",
   "id": "d3417ff0",
   "metadata": {},
   "source": [
    "## 실수형"
   ]
  },
  {
   "cell_type": "code",
   "execution_count": 4,
   "id": "e2826543",
   "metadata": {
    "ExecuteTime": {
     "end_time": "2023-11-26T06:58:36.963213Z",
     "start_time": "2023-11-26T06:58:36.960082Z"
    }
   },
   "outputs": [
    {
     "data": {
      "text/plain": [
       "1.2"
      ]
     },
     "execution_count": 4,
     "metadata": {},
     "output_type": "execute_result"
    }
   ],
   "source": [
    "a=1.2\n",
    "a"
   ]
  },
  {
   "cell_type": "code",
   "execution_count": 5,
   "id": "6281f84b",
   "metadata": {
    "ExecuteTime": {
     "end_time": "2023-11-26T06:58:43.860709Z",
     "start_time": "2023-11-26T06:58:43.857081Z"
    }
   },
   "outputs": [
    {
     "data": {
      "text/plain": [
       "-3.45"
      ]
     },
     "execution_count": 5,
     "metadata": {},
     "output_type": "execute_result"
    }
   ],
   "source": [
    "a=-3.45\n",
    "a"
   ]
  },
  {
   "cell_type": "code",
   "execution_count": 6,
   "id": "d6d03a29",
   "metadata": {
    "ExecuteTime": {
     "end_time": "2023-11-26T07:01:24.619442Z",
     "start_time": "2023-11-26T07:01:24.616162Z"
    }
   },
   "outputs": [
    {
     "data": {
      "text/plain": [
       "42400000000.0"
      ]
     },
     "execution_count": 6,
     "metadata": {},
     "output_type": "execute_result"
    }
   ],
   "source": [
    "# 컴퓨터식 지수 표현\n",
    "a = 4.24E10  # 4.24 * 10&^10\n",
    "a"
   ]
  },
  {
   "cell_type": "code",
   "execution_count": 7,
   "id": "31277336",
   "metadata": {
    "ExecuteTime": {
     "end_time": "2023-11-26T07:01:30.868110Z",
     "start_time": "2023-11-26T07:01:30.865070Z"
    }
   },
   "outputs": [
    {
     "data": {
      "text/plain": [
       "4.24e-10"
      ]
     },
     "execution_count": 7,
     "metadata": {},
     "output_type": "execute_result"
    }
   ],
   "source": [
    "# 컴퓨터식 지수 표현\n",
    "a = 4.24E-10  # 4.24 * 10&^10\n",
    "a"
   ]
  },
  {
   "cell_type": "code",
   "execution_count": 8,
   "id": "30a22dd1",
   "metadata": {
    "ExecuteTime": {
     "end_time": "2023-11-26T07:01:34.484673Z",
     "start_time": "2023-11-26T07:01:34.481671Z"
    }
   },
   "outputs": [
    {
     "data": {
      "text/plain": [
       "127"
      ]
     },
     "execution_count": 8,
     "metadata": {},
     "output_type": "execute_result"
    }
   ],
   "source": [
    "# 8진수와 16진수\n",
    "a = 0o177\n",
    "a"
   ]
  },
  {
   "cell_type": "code",
   "execution_count": 9,
   "id": "dbd75a03",
   "metadata": {
    "ExecuteTime": {
     "end_time": "2023-11-26T07:01:37.173071Z",
     "start_time": "2023-11-26T07:01:37.168448Z"
    }
   },
   "outputs": [
    {
     "data": {
      "text/plain": [
       "int"
      ]
     },
     "execution_count": 9,
     "metadata": {},
     "output_type": "execute_result"
    }
   ],
   "source": [
    "type(a)"
   ]
  },
  {
   "cell_type": "code",
   "execution_count": 10,
   "id": "db5a6a58",
   "metadata": {
    "ExecuteTime": {
     "end_time": "2023-11-26T07:01:40.189857Z",
     "start_time": "2023-11-26T07:01:40.186483Z"
    }
   },
   "outputs": [
    {
     "data": {
      "text/plain": [
       "2303"
      ]
     },
     "execution_count": 10,
     "metadata": {},
     "output_type": "execute_result"
    }
   ],
   "source": [
    "a = 0x8ff\n",
    "a"
   ]
  },
  {
   "cell_type": "markdown",
   "id": "f3c7fa92",
   "metadata": {},
   "source": [
    "## 사칙연산"
   ]
  },
  {
   "cell_type": "code",
   "execution_count": 215,
   "id": "7825e1f4",
   "metadata": {
    "ExecuteTime": {
     "end_time": "2023-11-26T10:02:58.895086Z",
     "start_time": "2023-11-26T10:02:58.891155Z"
    }
   },
   "outputs": [
    {
     "data": {
      "text/plain": [
       "7"
      ]
     },
     "execution_count": 215,
     "metadata": {},
     "output_type": "execute_result"
    }
   ],
   "source": [
    "a = 3\n",
    "b = 4\n",
    "a + b"
   ]
  },
  {
   "cell_type": "code",
   "execution_count": 216,
   "id": "fdd0e504",
   "metadata": {
    "ExecuteTime": {
     "end_time": "2023-11-26T10:03:00.855018Z",
     "start_time": "2023-11-26T10:03:00.851426Z"
    },
    "scrolled": true
   },
   "outputs": [
    {
     "data": {
      "text/plain": [
       "12"
      ]
     },
     "execution_count": 216,
     "metadata": {},
     "output_type": "execute_result"
    }
   ],
   "source": [
    "a * b"
   ]
  },
  {
   "cell_type": "code",
   "execution_count": 217,
   "id": "e6631b11",
   "metadata": {
    "ExecuteTime": {
     "end_time": "2023-11-26T10:03:02.062930Z",
     "start_time": "2023-11-26T10:03:02.059593Z"
    }
   },
   "outputs": [
    {
     "data": {
      "text/plain": [
       "0.75"
      ]
     },
     "execution_count": 217,
     "metadata": {},
     "output_type": "execute_result"
    }
   ],
   "source": [
    "a / b"
   ]
  },
  {
   "cell_type": "code",
   "execution_count": 218,
   "id": "c58e85e9",
   "metadata": {
    "ExecuteTime": {
     "end_time": "2023-11-26T10:03:03.727961Z",
     "start_time": "2023-11-26T10:03:03.723843Z"
    }
   },
   "outputs": [
    {
     "data": {
      "text/plain": [
       "81"
      ]
     },
     "execution_count": 218,
     "metadata": {},
     "output_type": "execute_result"
    }
   ],
   "source": [
    "# x의 y 제곱\n",
    "\n",
    "a ** b"
   ]
  },
  {
   "cell_type": "code",
   "execution_count": 15,
   "id": "9f566466",
   "metadata": {
    "ExecuteTime": {
     "end_time": "2023-11-26T07:02:05.648689Z",
     "start_time": "2023-11-26T07:02:05.644560Z"
    }
   },
   "outputs": [
    {
     "data": {
      "text/plain": [
       "1"
      ]
     },
     "execution_count": 15,
     "metadata": {},
     "output_type": "execute_result"
    }
   ],
   "source": [
    "# 나눗셈 나머지 반환 %\n",
    "\n",
    "7 % 3"
   ]
  },
  {
   "cell_type": "code",
   "execution_count": 17,
   "id": "46694b37",
   "metadata": {
    "ExecuteTime": {
     "end_time": "2023-11-26T07:02:10.193405Z",
     "start_time": "2023-11-26T07:02:10.189208Z"
    }
   },
   "outputs": [
    {
     "data": {
      "text/plain": [
       "3"
      ]
     },
     "execution_count": 17,
     "metadata": {},
     "output_type": "execute_result"
    }
   ],
   "source": [
    "3 % 7"
   ]
  },
  {
   "cell_type": "code",
   "execution_count": 18,
   "id": "a8101db2",
   "metadata": {
    "ExecuteTime": {
     "end_time": "2023-11-26T07:02:12.545895Z",
     "start_time": "2023-11-26T07:02:12.541547Z"
    }
   },
   "outputs": [
    {
     "data": {
      "text/plain": [
       "1.75"
      ]
     },
     "execution_count": 18,
     "metadata": {},
     "output_type": "execute_result"
    }
   ],
   "source": [
    "# 나눗셈의 몫 반환 //\n",
    "\n",
    "7 / 4"
   ]
  },
  {
   "cell_type": "code",
   "execution_count": 19,
   "id": "24c629c8",
   "metadata": {
    "ExecuteTime": {
     "end_time": "2023-11-26T07:02:15.249758Z",
     "start_time": "2023-11-26T07:02:15.247017Z"
    }
   },
   "outputs": [
    {
     "data": {
      "text/plain": [
       "1"
      ]
     },
     "execution_count": 19,
     "metadata": {},
     "output_type": "execute_result"
    }
   ],
   "source": [
    "7 // 4"
   ]
  },
  {
   "cell_type": "code",
   "execution_count": 20,
   "id": "5723db16",
   "metadata": {
    "ExecuteTime": {
     "end_time": "2023-11-26T07:02:18.346961Z",
     "start_time": "2023-11-26T07:02:18.343470Z"
    }
   },
   "outputs": [
    {
     "data": {
      "text/plain": [
       "3"
      ]
     },
     "execution_count": 20,
     "metadata": {},
     "output_type": "execute_result"
    }
   ],
   "source": [
    " 7 % 4"
   ]
  },
  {
   "cell_type": "markdown",
   "id": "2e6c70ad",
   "metadata": {},
   "source": [
    "# 문자열"
   ]
  },
  {
   "cell_type": "markdown",
   "id": "13cd4093",
   "metadata": {},
   "source": [
    "## 문자열은 어떻게 만들고 사용할까"
   ]
  },
  {
   "cell_type": "code",
   "execution_count": 21,
   "id": "118013a9",
   "metadata": {
    "ExecuteTime": {
     "end_time": "2023-11-26T07:02:50.944262Z",
     "start_time": "2023-11-26T07:02:50.940184Z"
    }
   },
   "outputs": [
    {
     "data": {
      "text/plain": [
       "'Hello world'"
      ]
     },
     "execution_count": 21,
     "metadata": {},
     "output_type": "execute_result"
    }
   ],
   "source": [
    "\"Hello world\""
   ]
  },
  {
   "cell_type": "code",
   "execution_count": 23,
   "id": "ed332410",
   "metadata": {
    "ExecuteTime": {
     "end_time": "2023-11-26T07:03:01.049457Z",
     "start_time": "2023-11-26T07:03:01.046141Z"
    }
   },
   "outputs": [
    {
     "data": {
      "text/plain": [
       "'Hello world'"
      ]
     },
     "execution_count": 23,
     "metadata": {},
     "output_type": "execute_result"
    }
   ],
   "source": [
    "'Hello world'"
   ]
  },
  {
   "cell_type": "code",
   "execution_count": 24,
   "id": "71a332b3",
   "metadata": {
    "ExecuteTime": {
     "end_time": "2023-11-26T07:03:14.563962Z",
     "start_time": "2023-11-26T07:03:14.560164Z"
    }
   },
   "outputs": [
    {
     "data": {
      "text/plain": [
       "'Life is too short, You need python'"
      ]
     },
     "execution_count": 24,
     "metadata": {},
     "output_type": "execute_result"
    }
   ],
   "source": [
    "\"\"\"Life is too short, You need python\"\"\""
   ]
  },
  {
   "cell_type": "code",
   "execution_count": 25,
   "id": "d1cc849c",
   "metadata": {
    "ExecuteTime": {
     "end_time": "2023-11-26T07:03:23.836511Z",
     "start_time": "2023-11-26T07:03:23.832976Z"
    }
   },
   "outputs": [
    {
     "data": {
      "text/plain": [
       "'Life is too short, You need python'"
      ]
     },
     "execution_count": 25,
     "metadata": {},
     "output_type": "execute_result"
    }
   ],
   "source": [
    "'''Life is too short, You need python'''"
   ]
  },
  {
   "cell_type": "markdown",
   "id": "04837128",
   "metadata": {},
   "source": [
    "## 문자열 안에 작은따옴표나 큰따옴표를 포함시키고 싶을 때"
   ]
  },
  {
   "cell_type": "code",
   "execution_count": 219,
   "id": "6ee3e19e",
   "metadata": {
    "ExecuteTime": {
     "end_time": "2023-11-26T10:03:15.273022Z",
     "start_time": "2023-11-26T10:03:15.269399Z"
    }
   },
   "outputs": [
    {
     "ename": "SyntaxError",
     "evalue": "unterminated string literal (detected at line 1) (1974562179.py, line 1)",
     "output_type": "error",
     "traceback": [
      "\u001b[1;36m  Cell \u001b[1;32mIn[219], line 1\u001b[1;36m\u001b[0m\n\u001b[1;33m    'Python's favorite food is perl'\u001b[0m\n\u001b[1;37m                                   ^\u001b[0m\n\u001b[1;31mSyntaxError\u001b[0m\u001b[1;31m:\u001b[0m unterminated string literal (detected at line 1)\n"
     ]
    }
   ],
   "source": [
    "'Python's favorite food is perl'"
   ]
  },
  {
   "cell_type": "code",
   "execution_count": 30,
   "id": "b2ceace1",
   "metadata": {
    "ExecuteTime": {
     "end_time": "2023-11-26T07:04:50.416532Z",
     "start_time": "2023-11-26T07:04:50.413384Z"
    }
   },
   "outputs": [
    {
     "data": {
      "text/plain": [
       "\"Python's favorite food is perl\""
      ]
     },
     "execution_count": 30,
     "metadata": {},
     "output_type": "execute_result"
    }
   ],
   "source": [
    "\"Python's favorite food is perl\""
   ]
  },
  {
   "cell_type": "code",
   "execution_count": 32,
   "id": "831cf598",
   "metadata": {
    "ExecuteTime": {
     "end_time": "2023-11-26T07:05:24.589370Z",
     "start_time": "2023-11-26T07:05:24.586833Z"
    }
   },
   "outputs": [
    {
     "data": {
      "text/plain": [
       "\"Python's favorite food is perl\""
      ]
     },
     "execution_count": 32,
     "metadata": {},
     "output_type": "execute_result"
    }
   ],
   "source": [
    "food = \"Python's favorite food is perl\"\n",
    "food"
   ]
  },
  {
   "cell_type": "code",
   "execution_count": 37,
   "id": "0980b5cf",
   "metadata": {
    "ExecuteTime": {
     "end_time": "2023-11-26T07:06:54.714571Z",
     "start_time": "2023-11-26T07:06:54.711306Z"
    }
   },
   "outputs": [
    {
     "data": {
      "text/plain": [
       "'\"Python is very easy.\" he says.'"
      ]
     },
     "execution_count": 37,
     "metadata": {},
     "output_type": "execute_result"
    }
   ],
   "source": [
    "'\"Python is very easy.\" he says.'"
   ]
  },
  {
   "cell_type": "code",
   "execution_count": 39,
   "id": "a5e57154",
   "metadata": {
    "ExecuteTime": {
     "end_time": "2023-11-26T07:09:37.162700Z",
     "start_time": "2023-11-26T07:09:37.159224Z"
    }
   },
   "outputs": [
    {
     "data": {
      "text/plain": [
       "(\"Python's favorite food is perl\", '\"Python is very easy.\" he says.')"
      ]
     },
     "execution_count": 39,
     "metadata": {},
     "output_type": "execute_result"
    }
   ],
   "source": [
    "#역슬래시를 사용해서 작은따옴표와 큰따옴표를 문자열에 포함\n",
    "food = 'Python\\'s favorite food is perl'\n",
    "say = \"\\\"Python is very easy.\\\" he says.\"\n",
    "food, say"
   ]
  },
  {
   "cell_type": "markdown",
   "id": "6ff00434",
   "metadata": {},
   "source": [
    "## 여러 줄인 문자열을 변수에 대입하고 싶을 때"
   ]
  },
  {
   "cell_type": "code",
   "execution_count": 42,
   "id": "24501c44",
   "metadata": {
    "ExecuteTime": {
     "end_time": "2023-11-26T07:14:04.786159Z",
     "start_time": "2023-11-26T07:14:04.781293Z"
    }
   },
   "outputs": [
    {
     "name": "stdout",
     "output_type": "stream",
     "text": [
      "Life is too short\n",
      "You need python\n"
     ]
    }
   ],
   "source": [
    "#줄을 바꾸기 위한 이스케이프 코드 \\n 삽입하기\n",
    "#multiline = notebook 편의기능\n",
    "#읽기가 불편하고 줄이 길어지는 단점\n",
    "\n",
    "multiline = \"Life is too short\\nYou need python\"\n",
    "\n",
    "print(multiline)"
   ]
  },
  {
   "cell_type": "markdown",
   "id": "2e4f8f70",
   "metadata": {},
   "source": [
    "## 연속된 따옴표 사용하기"
   ]
  },
  {
   "cell_type": "code",
   "execution_count": 50,
   "id": "a6f83b66",
   "metadata": {
    "ExecuteTime": {
     "end_time": "2023-11-26T07:17:02.066210Z",
     "start_time": "2023-11-26T07:17:02.063248Z"
    },
    "scrolled": true
   },
   "outputs": [
    {
     "name": "stdout",
     "output_type": "stream",
     "text": [
      "Life is too short, \n",
      "You need python\n"
     ]
    }
   ],
   "source": [
    "#연속된 작은따옴표 3개 (''')또는 큰따옴표 3개 (\"\"\") 사용하기\n",
    "\n",
    "multiline = \"\"\"Life is too short, \n",
    "You need python\"\"\"\n",
    "\n",
    "print(multiline)"
   ]
  },
  {
   "cell_type": "markdown",
   "id": "92760e38",
   "metadata": {},
   "source": [
    "## 문자열 연산하기"
   ]
  },
  {
   "cell_type": "code",
   "execution_count": 274,
   "id": "b7459cc4",
   "metadata": {
    "ExecuteTime": {
     "end_time": "2023-11-26T11:29:36.965642Z",
     "start_time": "2023-11-26T11:29:36.962137Z"
    }
   },
   "outputs": [
    {
     "data": {
      "text/plain": [
       "'Python is fun!'"
      ]
     },
     "execution_count": 274,
     "metadata": {},
     "output_type": "execute_result"
    }
   ],
   "source": [
    "#문자열 더해서 연결하기\n",
    "\n",
    "head = \"Python\"\n",
    "tail = \" is fun!\"\n",
    "head + tail"
   ]
  },
  {
   "cell_type": "code",
   "execution_count": 53,
   "id": "9bd7f4cb",
   "metadata": {
    "ExecuteTime": {
     "end_time": "2023-11-26T07:22:26.793491Z",
     "start_time": "2023-11-26T07:22:26.790123Z"
    }
   },
   "outputs": [
    {
     "data": {
      "text/plain": [
       "'pythonpython'"
      ]
     },
     "execution_count": 53,
     "metadata": {},
     "output_type": "execute_result"
    }
   ],
   "source": [
    "#문자열 곱하기\n",
    "\n",
    "a = \"python\"\n",
    "a * 2"
   ]
  },
  {
   "cell_type": "code",
   "execution_count": 54,
   "id": "3e99a023",
   "metadata": {
    "ExecuteTime": {
     "end_time": "2023-11-26T07:23:25.545191Z",
     "start_time": "2023-11-26T07:23:25.542580Z"
    }
   },
   "outputs": [
    {
     "name": "stdout",
     "output_type": "stream",
     "text": [
      "==================================================\n",
      "My program\n",
      "==================================================\n"
     ]
    }
   ],
   "source": [
    "#문자열 곱하기를 응용하기\n",
    "#multistring.py\n",
    "\n",
    "print(\"=\" * 50)\n",
    "print(\"My program\")\n",
    "print(\"=\" * 50)"
   ]
  },
  {
   "cell_type": "code",
   "execution_count": 56,
   "id": "5d50d320",
   "metadata": {
    "ExecuteTime": {
     "end_time": "2023-11-26T07:24:34.380528Z",
     "start_time": "2023-11-26T07:24:34.376517Z"
    }
   },
   "outputs": [
    {
     "data": {
      "text/plain": [
       "17"
      ]
     },
     "execution_count": 56,
     "metadata": {},
     "output_type": "execute_result"
    }
   ],
   "source": [
    "#문자열 길이 구하기\n",
    "#len 함수 사용 : print 함수처럼 파이썬 기본 내장 함수. 별 다른 설정 없이 바로 사용 가능\n",
    "\n",
    "a = \"Life is too short\"\n",
    "len(a)"
   ]
  },
  {
   "cell_type": "markdown",
   "id": "06b0154b",
   "metadata": {},
   "source": [
    "# 문자열 인덱싱과 슬라이싱"
   ]
  },
  {
   "cell_type": "markdown",
   "id": "521cf3d7",
   "metadata": {},
   "source": [
    "## 문자열 인덱싱\n",
    "- 인덱싱 : 무엇인가를 '가리킨다'   "
   ]
  },
  {
   "cell_type": "code",
   "execution_count": 242,
   "id": "b1ed7123",
   "metadata": {
    "ExecuteTime": {
     "end_time": "2023-11-26T10:20:40.496594Z",
     "start_time": "2023-11-26T10:20:40.493082Z"
    }
   },
   "outputs": [
    {
     "data": {
      "text/plain": [
       "'Life is too short, You need Python'"
      ]
     },
     "execution_count": 242,
     "metadata": {},
     "output_type": "execute_result"
    }
   ],
   "source": [
    "a = \"Life is too short, You need Python\"\n",
    "a"
   ]
  },
  {
   "cell_type": "markdown",
   "id": "56999b93",
   "metadata": {
    "ExecuteTime": {
     "end_time": "2023-11-26T07:35:44.396740Z",
     "start_time": "2023-11-26T07:35:44.393023Z"
    }
   },
   "source": [
    "위 코드에서 변수 a에 저장한 문자열의 각 문자마다 번호를 매겨 보면 다음과 같다.   \n",
    "\"Life is too short, You need Python\" 문자열에서 L은 첫 번째 자리를 뜻하는 숫자 0,    \n",
    "i는 1 이런 식으로 계속 번호를 붙인 것이다.    \n",
    "즉, 중간에 있는 short의 s는 12가 된다."
   ]
  },
  {
   "cell_type": "code",
   "execution_count": 60,
   "id": "6b58aad1",
   "metadata": {
    "ExecuteTime": {
     "end_time": "2023-11-26T07:30:12.596767Z",
     "start_time": "2023-11-26T07:30:12.593225Z"
    }
   },
   "outputs": [
    {
     "data": {
      "text/plain": [
       "'e'"
      ]
     },
     "execution_count": 60,
     "metadata": {},
     "output_type": "execute_result"
    }
   ],
   "source": [
    "a[3]"
   ]
  },
  {
   "cell_type": "code",
   "execution_count": 63,
   "id": "8004b780",
   "metadata": {
    "ExecuteTime": {
     "end_time": "2023-11-26T07:32:44.587494Z",
     "start_time": "2023-11-26T07:32:44.583142Z"
    }
   },
   "outputs": [
    {
     "data": {
      "text/plain": [
       "('L', 'i', 'f', 'e', ' ', 'i')"
      ]
     },
     "execution_count": 63,
     "metadata": {},
     "output_type": "execute_result"
    }
   ],
   "source": [
    "#파이썬은 0부터 숫자를 센다.\n",
    "\n",
    "a[0], a[1], a[2], a[3], a[4], a[5]"
   ]
  },
  {
   "cell_type": "code",
   "execution_count": 64,
   "id": "2571d7ca",
   "metadata": {
    "ExecuteTime": {
     "end_time": "2023-11-26T07:33:45.172606Z",
     "start_time": "2023-11-26T07:33:45.168620Z"
    }
   },
   "outputs": [
    {
     "data": {
      "text/plain": [
       "('n', 'L', 'o', 'y')"
      ]
     },
     "execution_count": 64,
     "metadata": {},
     "output_type": "execute_result"
    }
   ],
   "source": [
    "#문자열을 뒤에서부터 읽기: -기호 붙히기\n",
    "#0과 -0은 똑같은 값을 보여준다.\n",
    "\n",
    "a[-1], a[-0], a[-2], a[-5]"
   ]
  },
  {
   "cell_type": "markdown",
   "id": "ee9eeec5",
   "metadata": {},
   "source": [
    "## 슬라이싱\n",
    "- 슬라이싱: 무엇인가를 '잘라낸다'\n",
    "- 범위 [start index : endindex+1]"
   ]
  },
  {
   "cell_type": "code",
   "execution_count": 67,
   "id": "20e96553",
   "metadata": {
    "ExecuteTime": {
     "end_time": "2023-11-26T07:40:37.815912Z",
     "start_time": "2023-11-26T07:40:37.812209Z"
    }
   },
   "outputs": [
    {
     "data": {
      "text/plain": [
       "'Life'"
      ]
     },
     "execution_count": 67,
     "metadata": {},
     "output_type": "execute_result"
    }
   ],
   "source": [
    "a = \"Life is too short, you need python\"\n",
    "b = a[0] + a[1] + a[2] + a[3]\n",
    "b"
   ]
  },
  {
   "cell_type": "code",
   "execution_count": 68,
   "id": "cb0eb218",
   "metadata": {
    "ExecuteTime": {
     "end_time": "2023-11-26T07:41:11.508174Z",
     "start_time": "2023-11-26T07:41:11.504786Z"
    }
   },
   "outputs": [
    {
     "data": {
      "text/plain": [
       "'Life'"
      ]
     },
     "execution_count": 68,
     "metadata": {},
     "output_type": "execute_result"
    }
   ],
   "source": [
    "a[0:4]"
   ]
  },
  {
   "cell_type": "markdown",
   "id": "80082b94",
   "metadata": {
    "ExecuteTime": {
     "end_time": "2023-11-26T07:41:15.132445Z",
     "start_time": "2023-11-26T07:41:15.129686Z"
    }
   },
   "source": [
    "a[0:4]는 a 문자열, 즉 \"Life is too short, You need Python\" 문자열에서 자리 번호 0부터 4까지의 문자를 뽑아 낸다는 뜻이다.   \n",
    "   \n",
    "하지만 ‘a[0]은 L, a[1]은 i, a[2]는 f, a[3]은 e이므로 a[0:3]으로도 Life라는 단어를 뽑아 낼 수 있지 않을까?’라는 의문이 생길 것이다. 다음 예로 확인해 보자.    \n",
    "   \n",
    "이렇게 되는 이유는 슬라이싱 기법으로 a[시작_번호:끝_번호]를 지정할 때 끝 번호에 해당하는 문자는 포함하지 않기 때문이다. 즉, a[0:3]을 수식으로 나타내면 다음과 같다.   \n",
    "   \n",
    "#0<= a < 3   \n",
    "   \n",
    "이 수식을 만족하는 것은 a[0], a[1], a[2]이다. 따라서 a[0:3]은 'Lif', a[0:4]는 'Life'가 되는 것이다.       \n",
    "이 부분이 문자열 연산에서 가장 혼동하기 쉬움"
   ]
  },
  {
   "cell_type": "code",
   "execution_count": 73,
   "id": "1962d48e",
   "metadata": {
    "ExecuteTime": {
     "end_time": "2023-11-26T07:47:40.115997Z",
     "start_time": "2023-11-26T07:47:40.112176Z"
    }
   },
   "outputs": [
    {
     "data": {
      "text/plain": [
       "'Lif'"
      ]
     },
     "execution_count": 73,
     "metadata": {},
     "output_type": "execute_result"
    }
   ],
   "source": [
    "a[0:3]"
   ]
  },
  {
   "cell_type": "code",
   "execution_count": 70,
   "id": "13cf8532",
   "metadata": {
    "ExecuteTime": {
     "end_time": "2023-11-26T07:41:30.542461Z",
     "start_time": "2023-11-26T07:41:30.539461Z"
    }
   },
   "outputs": [
    {
     "data": {
      "text/plain": [
       "'you need python'"
      ]
     },
     "execution_count": 70,
     "metadata": {},
     "output_type": "execute_result"
    }
   ],
   "source": [
    "a[19:]"
   ]
  },
  {
   "cell_type": "code",
   "execution_count": 71,
   "id": "29ed127e",
   "metadata": {
    "ExecuteTime": {
     "end_time": "2023-11-26T07:41:35.263587Z",
     "start_time": "2023-11-26T07:41:35.259586Z"
    }
   },
   "outputs": [
    {
     "data": {
      "text/plain": [
       "'Life is too short, you need python'"
      ]
     },
     "execution_count": 71,
     "metadata": {},
     "output_type": "execute_result"
    }
   ],
   "source": [
    "a[:]"
   ]
  },
  {
   "cell_type": "code",
   "execution_count": 72,
   "id": "1fe0039f",
   "metadata": {
    "ExecuteTime": {
     "end_time": "2023-11-26T07:41:41.808707Z",
     "start_time": "2023-11-26T07:41:41.805091Z"
    }
   },
   "outputs": [
    {
     "data": {
      "text/plain": [
       "'you need'"
      ]
     },
     "execution_count": 72,
     "metadata": {},
     "output_type": "execute_result"
    }
   ],
   "source": [
    "a[19:-7]"
   ]
  },
  {
   "cell_type": "markdown",
   "id": "d88bc096",
   "metadata": {},
   "source": [
    "## 슬라이싱으로 문자열 나누기"
   ]
  },
  {
   "cell_type": "code",
   "execution_count": 76,
   "id": "dc551db4",
   "metadata": {
    "ExecuteTime": {
     "end_time": "2023-11-26T07:51:48.850469Z",
     "start_time": "2023-11-26T07:51:48.846594Z"
    }
   },
   "outputs": [
    {
     "name": "stdout",
     "output_type": "stream",
     "text": [
      "20231124\n",
      "Sunny\n"
     ]
    }
   ],
   "source": [
    "a = \"20231124Sunny\"\n",
    "date = a[:8]\n",
    "weather = a[8:]\n",
    "print(date)\n",
    "print(weather)"
   ]
  },
  {
   "cell_type": "markdown",
   "id": "6660d53a",
   "metadata": {},
   "source": [
    "위 예는 문자열 a를 두 부분으로 나누는 기법이다.       \n",
    "\n",
    "숫자 8을 기준으로 문자열 a를 양쪽으로 한 번씩 슬라이싱했다.    \n",
    "a[:8]은 a[8]을 포함하지 않고   \n",
    "a[8:]은 a[8]을 포함하기 때문에 8을 기준으로 해서 두 부분으로 나눌 수 있는 것이다.    \n",
    "    \n",
    "위 예에서는 \"20231124Sunny\" 문자열을    \n",
    "날짜를 나타내는 부분인 '20231124'과   \n",
    "날씨를 나타내는 부분인 'Sunny'로 나누는 방법을 보여 준다.   \n",
    "      \n",
    "\"20231124Sunny\"를 연도인 2023,    \n",
    "월과 일을 나타내는 1124,    \n",
    "날씨를 나타내는 Sunny까지    \n",
    "      \n",
    "세 부분으로 나누는 방법은 다음과 같다.   "
   ]
  },
  {
   "cell_type": "code",
   "execution_count": 78,
   "id": "28c86afe",
   "metadata": {
    "ExecuteTime": {
     "end_time": "2023-11-26T07:56:27.223743Z",
     "start_time": "2023-11-26T07:56:27.220121Z"
    }
   },
   "outputs": [
    {
     "name": "stdout",
     "output_type": "stream",
     "text": [
      "2023\n",
      "1124\n",
      "Sunny\n"
     ]
    }
   ],
   "source": [
    "year = a[:4]\n",
    "day = a[4:8]\n",
    "weather = a[8:]\n",
    "\n",
    "print(year)\n",
    "print(day)\n",
    "print(weather)"
   ]
  },
  {
   "cell_type": "markdown",
   "id": "437c0f88",
   "metadata": {},
   "source": [
    "## 문자열 요소 바꾸기"
   ]
  },
  {
   "cell_type": "code",
   "execution_count": 85,
   "id": "ea03253a",
   "metadata": {
    "ExecuteTime": {
     "end_time": "2023-11-26T08:00:43.372787Z",
     "start_time": "2023-11-26T08:00:43.369040Z"
    }
   },
   "outputs": [
    {
     "data": {
      "text/plain": [
       "'i'"
      ]
     },
     "execution_count": 85,
     "metadata": {},
     "output_type": "execute_result"
    }
   ],
   "source": [
    "a = \"pithon\"\n",
    "a[1]"
   ]
  },
  {
   "cell_type": "code",
   "execution_count": 86,
   "id": "db454f4b",
   "metadata": {
    "ExecuteTime": {
     "end_time": "2023-11-26T08:00:58.504223Z",
     "start_time": "2023-11-26T08:00:57.826647Z"
    }
   },
   "outputs": [
    {
     "ename": "TypeError",
     "evalue": "'str' object does not support item assignment",
     "output_type": "error",
     "traceback": [
      "\u001b[1;31m---------------------------------------------------------------------------\u001b[0m",
      "\u001b[1;31mTypeError\u001b[0m                                 Traceback (most recent call last)",
      "Cell \u001b[1;32mIn[86], line 1\u001b[0m\n\u001b[1;32m----> 1\u001b[0m a[\u001b[38;5;241m1\u001b[39m] \u001b[38;5;241m=\u001b[39m \u001b[38;5;124m'\u001b[39m\u001b[38;5;124my\u001b[39m\u001b[38;5;124m'\u001b[39m\n",
      "\u001b[1;31mTypeError\u001b[0m: 'str' object does not support item assignment"
     ]
    }
   ],
   "source": [
    "a[1] = 'y'"
   ]
  },
  {
   "cell_type": "code",
   "execution_count": 87,
   "id": "ecfb4238",
   "metadata": {
    "ExecuteTime": {
     "end_time": "2023-11-26T08:01:14.473475Z",
     "start_time": "2023-11-26T08:01:14.469464Z"
    }
   },
   "outputs": [
    {
     "data": {
      "text/plain": [
       "'python'"
      ]
     },
     "execution_count": 87,
     "metadata": {},
     "output_type": "execute_result"
    }
   ],
   "source": [
    "a[0] + 'y' + a[2:]"
   ]
  },
  {
   "cell_type": "markdown",
   "id": "c61587c8",
   "metadata": {},
   "source": [
    "## 문자열 포매팅 (string formatting)   \n",
    "\n",
    "> 문자열 안의 특정한 값을 바꿔야 할 경우가 있을 때 이것을 가능하게 해 주는 것이 바로 문자열 포매팅\n",
    "\n",
    "* %s : 문자열(String)\n",
    "* %c : 문자 1개(character)\n",
    "* %d : 정수(Integer)\n",
    "* %f : 부동소수(floating-point)\n",
    "* %o : 8진수\n",
    "* %x : 16진수\n",
    "* %% :Literal % (문자 % 자체)"
   ]
  },
  {
   "cell_type": "markdown",
   "id": "bcd3a638",
   "metadata": {},
   "source": [
    "### 숫자 바로 대입하기"
   ]
  },
  {
   "cell_type": "code",
   "execution_count": 88,
   "id": "e54e0c9c",
   "metadata": {
    "ExecuteTime": {
     "end_time": "2023-11-26T08:04:16.867698Z",
     "start_time": "2023-11-26T08:04:16.864740Z"
    }
   },
   "outputs": [
    {
     "data": {
      "text/plain": [
       "'I eat 3 apples'"
      ]
     },
     "execution_count": 88,
     "metadata": {},
     "output_type": "execute_result"
    }
   ],
   "source": [
    "#여기에서 %d는 ‘문자열 포맷 코드’라고 부른다.\n",
    "\n",
    "\"I eat %d apples\"%3"
   ]
  },
  {
   "cell_type": "markdown",
   "id": "3cb906ac",
   "metadata": {},
   "source": [
    "### 문자열 대입하기"
   ]
  },
  {
   "cell_type": "code",
   "execution_count": 89,
   "id": "51a43bc8",
   "metadata": {
    "ExecuteTime": {
     "end_time": "2023-11-26T08:04:53.377173Z",
     "start_time": "2023-11-26T08:04:53.373089Z"
    },
    "scrolled": true
   },
   "outputs": [
    {
     "data": {
      "text/plain": [
       "'I eat five apples'"
      ]
     },
     "execution_count": 89,
     "metadata": {},
     "output_type": "execute_result"
    }
   ],
   "source": [
    "#문자열을 대입할 때는 반드시 큰따옴표나 작은따옴표를 써야 한다.\n",
    "\n",
    "\"I eat %s apples\"%\"five\""
   ]
  },
  {
   "cell_type": "markdown",
   "id": "6c131916",
   "metadata": {},
   "source": [
    "### 변수로 대입하기"
   ]
  },
  {
   "cell_type": "code",
   "execution_count": 90,
   "id": "df763383",
   "metadata": {
    "ExecuteTime": {
     "end_time": "2023-11-26T08:05:33.166712Z",
     "start_time": "2023-11-26T08:05:33.162709Z"
    }
   },
   "outputs": [
    {
     "data": {
      "text/plain": [
       "'I eat 3 apples'"
      ]
     },
     "execution_count": 90,
     "metadata": {},
     "output_type": "execute_result"
    }
   ],
   "source": [
    "# 1번처럼 숫자를 바로 대입하든, 위 예제처럼 숫자 값을 나타내는 변수를 대입하든 결과는 같다.\n",
    "\n",
    "number = 3\n",
    "\"I eat %d apples\"%number"
   ]
  },
  {
   "cell_type": "markdown",
   "id": "b545be91",
   "metadata": {},
   "source": [
    "### 2개 이상의 값 넣기"
   ]
  },
  {
   "cell_type": "code",
   "execution_count": 91,
   "id": "e4bc095c",
   "metadata": {
    "ExecuteTime": {
     "end_time": "2023-11-26T08:06:31.559282Z",
     "start_time": "2023-11-26T08:06:31.555218Z"
    }
   },
   "outputs": [
    {
     "data": {
      "text/plain": [
       "'I eat 3 apples, so I was sock for three days'"
      ]
     },
     "execution_count": 91,
     "metadata": {},
     "output_type": "execute_result"
    }
   ],
   "source": [
    "#마지막 % 다음 괄호 안에 쉼표(,)로 구분하여 각각의 값을 넣어 주면 된다.\n",
    "\n",
    "number = 3\n",
    "day = \"three\"\n",
    "\"I eat %d apples, so I was sick for %s days\"%(number, day)"
   ]
  },
  {
   "cell_type": "code",
   "execution_count": 93,
   "id": "53db6fa3",
   "metadata": {
    "ExecuteTime": {
     "end_time": "2023-11-26T08:14:47.950586Z",
     "start_time": "2023-11-26T08:14:47.946758Z"
    }
   },
   "outputs": [
    {
     "ename": "SyntaxError",
     "evalue": "invalid syntax (3606096654.py, line 2)",
     "output_type": "error",
     "traceback": [
      "\u001b[1;36m  Cell \u001b[1;32mIn[93], line 2\u001b[1;36m\u001b[0m\n\u001b[1;33m    파이썬은 '형식이 불완전하다'라는 오류 메시지를 보여 준다.\u001b[0m\n\u001b[1;37m         ^\u001b[0m\n\u001b[1;31mSyntaxError\u001b[0m\u001b[1;31m:\u001b[0m invalid syntax\n"
     ]
    }
   ],
   "source": [
    "\"Error is %d%.\" % 98"
   ]
  },
  {
   "cell_type": "markdown",
   "id": "d55bc5ae",
   "metadata": {},
   "source": [
    "결괏값으로 당연히 \"Error is 98%.\"가 출력될 것이라고 예상하겠지만,   \n",
    "파이썬은 '형식이 불완전하다'라는 오류 메시지를 보여 준다.   \n",
    "      \n",
    "그 이유는 ‘문자열 포맷 코드인 %d와 %가 같은 문자열 안에 존재하는 경우,    \n",
    "%를 나타내려면 반드시 %%를 써야 한다’라는 법칙이 있기 때문이다.    \n",
    "     \n",
    "하지만 문자열 안에 %d와 같은 포매팅 연산자가 없으면 %는 홀로 쓰여도 상관없다.   \n",
    "따라서 위 예를 제대로 실행하려면 다음과 같이 작성해야 한다.    "
   ]
  },
  {
   "cell_type": "code",
   "execution_count": 94,
   "id": "19419623",
   "metadata": {
    "ExecuteTime": {
     "end_time": "2023-11-26T08:15:41.726529Z",
     "start_time": "2023-11-26T08:15:41.722518Z"
    }
   },
   "outputs": [
    {
     "data": {
      "text/plain": [
       "'Error is 98%.'"
      ]
     },
     "execution_count": 94,
     "metadata": {},
     "output_type": "execute_result"
    }
   ],
   "source": [
    "\"Error is %d%%.\" %98"
   ]
  },
  {
   "cell_type": "markdown",
   "id": "b29a894f",
   "metadata": {},
   "source": [
    "## 정렬과 공백"
   ]
  },
  {
   "cell_type": "markdown",
   "id": "6de772f4",
   "metadata": {},
   "source": [
    "### 양수 : 우정렬"
   ]
  },
  {
   "cell_type": "code",
   "execution_count": 96,
   "id": "1dcd6eac",
   "metadata": {
    "ExecuteTime": {
     "end_time": "2023-11-26T08:19:40.624771Z",
     "start_time": "2023-11-26T08:19:40.620926Z"
    }
   },
   "outputs": [
    {
     "data": {
      "text/plain": [
       "'        hi'"
      ]
     },
     "execution_count": 96,
     "metadata": {},
     "output_type": "execute_result"
    }
   ],
   "source": [
    "#10개의 문자열 공간을 만들되, 치환되는 문자열을 우측 정렬하고 빈곳은 공백으로 채우는 것\n",
    "\n",
    "\"%10s\"%\"hi\""
   ]
  },
  {
   "cell_type": "markdown",
   "id": "0e4156b5",
   "metadata": {},
   "source": [
    "### 음수 : 좌정렬"
   ]
  },
  {
   "cell_type": "code",
   "execution_count": 98,
   "id": "8a3b264b",
   "metadata": {
    "ExecuteTime": {
     "end_time": "2023-11-26T08:21:50.599225Z",
     "start_time": "2023-11-26T08:21:50.596198Z"
    }
   },
   "outputs": [
    {
     "data": {
      "text/plain": [
       "'hi        '"
      ]
     },
     "execution_count": 98,
     "metadata": {},
     "output_type": "execute_result"
    }
   ],
   "source": [
    "#10개의 문자열 공간을 만들되, 치환되는 문자열을 좌측 정렬하고 빈곳은 공백으로 채우는 것\n",
    "\n",
    "\"%-10s\"%\"hi\""
   ]
  },
  {
   "cell_type": "markdown",
   "id": "85e272a7",
   "metadata": {},
   "source": [
    "## 소수점 표현하기"
   ]
  },
  {
   "cell_type": "code",
   "execution_count": 99,
   "id": "01a16b12",
   "metadata": {
    "ExecuteTime": {
     "end_time": "2023-11-26T08:23:13.895513Z",
     "start_time": "2023-11-26T08:23:13.891589Z"
    }
   },
   "outputs": [
    {
     "data": {
      "text/plain": [
       "'3.4213'"
      ]
     },
     "execution_count": 99,
     "metadata": {},
     "output_type": "execute_result"
    }
   ],
   "source": [
    "\"%0.4f\"%3.42134234"
   ]
  },
  {
   "cell_type": "markdown",
   "id": "1e2c418b",
   "metadata": {},
   "source": [
    "3.42134234를 소수점 네 번째 자리까지만 나타내고 싶은 경우에는 위와 같이 작성한다.     \n",
    "%0.4f에서 ‘.’는 소수점 포인트, 그 뒤의 숫자 4는 소수점 뒤에 나올 숫자의 개수를 말한다.     \n",
    "소수점 포인트 앞의 숫자는 문자열의 전체 길이를 의미하는데,    \n",
    "%0.4f에서 사용한 숫자 0은 길이에 상관하지 않겠다는 의미이다."
   ]
  },
  {
   "cell_type": "code",
   "execution_count": 100,
   "id": "1f81df07",
   "metadata": {
    "ExecuteTime": {
     "end_time": "2023-11-26T08:24:36.227006Z",
     "start_time": "2023-11-26T08:24:36.223524Z"
    }
   },
   "outputs": [
    {
     "data": {
      "text/plain": [
       "'    3.4213'"
      ]
     },
     "execution_count": 100,
     "metadata": {},
     "output_type": "execute_result"
    }
   ],
   "source": [
    "\"%10.4f\"%3.42134234"
   ]
  },
  {
   "cell_type": "markdown",
   "id": "4d8fdf71",
   "metadata": {},
   "source": [
    "위는 숫자 3.42134234를 소수점 네 번째 자리까지만 표시하고    \n",
    "전체 길이가 10개인 문자열 공간에서 오른쪽으로 정렬하는 예를 보여 준다."
   ]
  },
  {
   "cell_type": "markdown",
   "id": "bb444c72",
   "metadata": {},
   "source": [
    "## 포맷함수로를 사용한 포매팅"
   ]
  },
  {
   "cell_type": "markdown",
   "id": "bb6e0b39",
   "metadata": {},
   "source": [
    "문자열의 format 함수를 사용하면 좀 더 발전된 스타일로 문자열 포맷을 지정할 수 있다.    \n",
    "앞에서 살펴본 문자열 포매팅 예제를 format 함수를 사용해서 바꾸면 다음과 같다."
   ]
  },
  {
   "cell_type": "markdown",
   "id": "9ddedbfe",
   "metadata": {},
   "source": [
    "### 숫자 바로 대입하기"
   ]
  },
  {
   "cell_type": "code",
   "execution_count": 104,
   "id": "af9bfd2c",
   "metadata": {
    "ExecuteTime": {
     "end_time": "2023-11-26T08:31:16.412887Z",
     "start_time": "2023-11-26T08:31:16.409819Z"
    }
   },
   "outputs": [
    {
     "data": {
      "text/plain": [
       "'I eat 3 apples'"
      ]
     },
     "execution_count": 104,
     "metadata": {},
     "output_type": "execute_result"
    }
   ],
   "source": [
    "\"I eat {0} apples\".format(3)"
   ]
  },
  {
   "cell_type": "markdown",
   "id": "3c08a649",
   "metadata": {},
   "source": [
    "### 문자열 바로 대입하기"
   ]
  },
  {
   "cell_type": "code",
   "execution_count": 243,
   "id": "f20c6e8a",
   "metadata": {
    "ExecuteTime": {
     "end_time": "2023-11-26T10:23:01.133139Z",
     "start_time": "2023-11-26T10:23:01.129338Z"
    }
   },
   "outputs": [
    {
     "data": {
      "text/plain": [
       "'I eat five apples'"
      ]
     },
     "execution_count": 243,
     "metadata": {},
     "output_type": "execute_result"
    }
   ],
   "source": [
    "\"I eat {0} apples\".format(\"five\")"
   ]
  },
  {
   "cell_type": "markdown",
   "id": "10133edc",
   "metadata": {},
   "source": [
    "### 숫자 값을 가진 변수로 대입하기"
   ]
  },
  {
   "cell_type": "code",
   "execution_count": 244,
   "id": "e22f8f00",
   "metadata": {
    "ExecuteTime": {
     "end_time": "2023-11-26T10:23:12.894360Z",
     "start_time": "2023-11-26T10:23:12.891073Z"
    }
   },
   "outputs": [
    {
     "data": {
      "text/plain": [
       "'I eat 3 apples'"
      ]
     },
     "execution_count": 244,
     "metadata": {},
     "output_type": "execute_result"
    }
   ],
   "source": [
    "number = 3\n",
    "\"I eat {0} apples\".format(number)"
   ]
  },
  {
   "cell_type": "markdown",
   "id": "739b9253",
   "metadata": {},
   "source": [
    "### 2개 이상의 값 넣기"
   ]
  },
  {
   "cell_type": "code",
   "execution_count": 245,
   "id": "451599b9",
   "metadata": {
    "ExecuteTime": {
     "end_time": "2023-11-26T10:23:22.879585Z",
     "start_time": "2023-11-26T10:23:22.876496Z"
    }
   },
   "outputs": [
    {
     "data": {
      "text/plain": [
       "'I ate 10 apples. so I was sick for three days.'"
      ]
     },
     "execution_count": 245,
     "metadata": {},
     "output_type": "execute_result"
    }
   ],
   "source": [
    "number = 10\n",
    "day = \"three\"\n",
    "\"I ate {0} apples. so I was sick for {1} days.\".format(number,day)"
   ]
  },
  {
   "cell_type": "markdown",
   "id": "20b4c50b",
   "metadata": {},
   "source": [
    "2개 이상의 값을 넣을 경우, 문자열의 {0}, {1}과 같은 인덱스 항목이    \n",
    "format 함수의 입력값으로 순서에 맞게 바뀐다.    \n",
    "     \n",
    "위 예에서 {0}은 format 함수의 첫 번째 입력값인 number, {1}은    \n",
    "format 함수의 두 번째 입력값인 day로 바뀐다."
   ]
  },
  {
   "cell_type": "markdown",
   "id": "bba2bf98",
   "metadata": {},
   "source": [
    "### 이름으로 넣기"
   ]
  },
  {
   "cell_type": "code",
   "execution_count": 109,
   "id": "332d4223",
   "metadata": {
    "ExecuteTime": {
     "end_time": "2023-11-26T08:34:33.498019Z",
     "start_time": "2023-11-26T08:34:33.493705Z"
    }
   },
   "outputs": [
    {
     "data": {
      "text/plain": [
       "'I ate 10 apples. so I was sick for 3 days.'"
      ]
     },
     "execution_count": 109,
     "metadata": {},
     "output_type": "execute_result"
    }
   ],
   "source": [
    "\"I ate {number} apples. so I was sick for {day} days.\".format(number=10, day=3)"
   ]
  },
  {
   "cell_type": "markdown",
   "id": "b3931b4a",
   "metadata": {},
   "source": [
    "{0}, {1}과 같은 인덱스 항목 대신 더 편리한 {name} 형태를 사용하는 방법도 있다.   \n",
    "{name} 형태를 사용할 경우, format 함수에는    \n",
    "반드시 name=value와 같은 형태의 입력값이 있어야 한다.    \n",
    "     \n",
    "위 예는 문자열의 {number}, {day}가 format 함수의 입력값인    \n",
    "number=10, day=3 값으로 각각 바뀌는 것을 보여 주고 있다. "
   ]
  },
  {
   "cell_type": "markdown",
   "id": "7ab9fcfc",
   "metadata": {},
   "source": [
    "### 인덱스와 이름을 혼용해서 넣기 "
   ]
  },
  {
   "cell_type": "code",
   "execution_count": 112,
   "id": "445ec32c",
   "metadata": {
    "ExecuteTime": {
     "end_time": "2023-11-26T08:36:20.602648Z",
     "start_time": "2023-11-26T08:36:20.598029Z"
    }
   },
   "outputs": [
    {
     "data": {
      "text/plain": [
       "'I ate 10 apples. so I was sick for 3 days.'"
      ]
     },
     "execution_count": 112,
     "metadata": {},
     "output_type": "execute_result"
    }
   ],
   "source": [
    "\"I ate {0} apples. so I was sick for {day} days.\".format(10, day=3)"
   ]
  },
  {
   "cell_type": "markdown",
   "id": "34a5a477",
   "metadata": {},
   "source": [
    "## f문자열 포매팅\n",
    "\n",
    "파이썬 3.6 버전부터는 f 문자열 포매팅 기능을 사용할 수 있다.     \n",
    "파이썬 3.6 미만 버전에서는 사용할 수 없는 기능이므로 주의해야 한다.    \n",
    "다음과 같이 문자열 앞에 f 접두사를 붙이면 f 문자열 포매팅 기능을 사용할 수 있다."
   ]
  },
  {
   "cell_type": "markdown",
   "id": "ed0ce50a",
   "metadata": {},
   "source": [
    "### python 3.6"
   ]
  },
  {
   "cell_type": "code",
   "execution_count": 118,
   "id": "a5cf9eb2",
   "metadata": {
    "ExecuteTime": {
     "end_time": "2023-11-26T08:39:29.796484Z",
     "start_time": "2023-11-26T08:39:29.792281Z"
    }
   },
   "outputs": [
    {
     "data": {
      "text/plain": [
       "'나의 이름은 홍길동입니다. 나이는 30입니다.'"
      ]
     },
     "execution_count": 118,
     "metadata": {},
     "output_type": "execute_result"
    }
   ],
   "source": [
    "name = '홍길동'\n",
    "age = 30\n",
    "f'나의 이름은 {name}입니다. 나이는 {age}입니다.'"
   ]
  },
  {
   "cell_type": "markdown",
   "id": "27a29098",
   "metadata": {},
   "source": [
    "f 문자열 포매팅은 위와 같이 name, age와 같은 변숫값을 생성한 후에 그 값을 참조할 수 있다.    \n",
    "또한 f 문자열 포매팅은 표현식을 지원하기 때문에 다음과 같은 것도 가능하다."
   ]
  },
  {
   "cell_type": "markdown",
   "id": "5f16e07a",
   "metadata": {},
   "source": [
    "### 표현식"
   ]
  },
  {
   "cell_type": "code",
   "execution_count": 119,
   "id": "bbb8698f",
   "metadata": {
    "ExecuteTime": {
     "end_time": "2023-11-26T08:40:24.941178Z",
     "start_time": "2023-11-26T08:40:24.937249Z"
    }
   },
   "outputs": [
    {
     "data": {
      "text/plain": [
       "'나는 내년이면 31살이 된다.'"
      ]
     },
     "execution_count": 119,
     "metadata": {},
     "output_type": "execute_result"
    }
   ],
   "source": [
    "#표현식이란 중괄호 안의 변수를 계산식과 함께 사용하는 것을 말한다.\n",
    "\n",
    "age = 30\n",
    "f'나는 내년이면 {age+1}살이 된다.'"
   ]
  },
  {
   "cell_type": "markdown",
   "id": "3cbdbfc9",
   "metadata": {},
   "source": [
    "### 딕셔너리"
   ]
  },
  {
   "cell_type": "code",
   "execution_count": 122,
   "id": "d9f7d931",
   "metadata": {
    "ExecuteTime": {
     "end_time": "2023-11-26T08:41:40.830943Z",
     "start_time": "2023-11-26T08:41:40.827184Z"
    }
   },
   "outputs": [
    {
     "data": {
      "text/plain": [
       "'나의 이름은 홍길동입니다. 나이는 30입니다.'"
      ]
     },
     "execution_count": 122,
     "metadata": {},
     "output_type": "execute_result"
    }
   ],
   "source": [
    "#딕셔너리는 f 문자열 포매팅에서 다음과 같이 사용할 수 있다.\n",
    "\n",
    "d = {'name':'홍길동', 'age':30}\n",
    "f'나의 이름은 {d[\"name\"]}입니다. 나이는 {d[\"age\"]}입니다.'"
   ]
  },
  {
   "cell_type": "markdown",
   "id": "08108624",
   "metadata": {},
   "source": [
    "### 소수점"
   ]
  },
  {
   "cell_type": "code",
   "execution_count": 126,
   "id": "4c7d8ad8",
   "metadata": {
    "ExecuteTime": {
     "end_time": "2023-11-26T08:43:37.968401Z",
     "start_time": "2023-11-26T08:43:37.964062Z"
    }
   },
   "outputs": [
    {
     "data": {
      "text/plain": [
       "'3.4213'"
      ]
     },
     "execution_count": 126,
     "metadata": {},
     "output_type": "execute_result"
    }
   ],
   "source": [
    "y = 3.42134234\n",
    "f'{y:0.4f}'     #소수점 4자리까지만 표현"
   ]
  },
  {
   "cell_type": "markdown",
   "id": "177e3b3d",
   "metadata": {},
   "source": [
    "## 문자열 관련 함수"
   ]
  },
  {
   "cell_type": "markdown",
   "id": "9c93f429",
   "metadata": {},
   "source": [
    "문자열 자료형은 자체적으로 함수를 가지고 있다.    \n",
    "이들 함수를 다른 말로 ‘문자열 내장 함수’라고 한다.    \n",
    "이 내장 함수를 사용하려면 문자열 변수 이름 뒤에 ‘.’를 붙인 후 함수 이름을 써 주면 된다. "
   ]
  },
  {
   "cell_type": "markdown",
   "id": "96b2dc06",
   "metadata": {},
   "source": [
    "### 문자 개수 세기 - count"
   ]
  },
  {
   "cell_type": "code",
   "execution_count": 127,
   "id": "d9ba6500",
   "metadata": {
    "ExecuteTime": {
     "end_time": "2023-11-26T08:52:52.480458Z",
     "start_time": "2023-11-26T08:52:52.475984Z"
    }
   },
   "outputs": [
    {
     "data": {
      "text/plain": [
       "2"
      ]
     },
     "execution_count": 127,
     "metadata": {},
     "output_type": "execute_result"
    }
   ],
   "source": [
    "a = \"hobby\"\n",
    "a.count('b')"
   ]
  },
  {
   "cell_type": "markdown",
   "id": "f6dbef83",
   "metadata": {},
   "source": [
    "### 위치 알려주기 (1) - find"
   ]
  },
  {
   "cell_type": "code",
   "execution_count": 130,
   "id": "7d619b32",
   "metadata": {
    "ExecuteTime": {
     "end_time": "2023-11-26T08:54:01.473933Z",
     "start_time": "2023-11-26T08:54:01.469930Z"
    }
   },
   "outputs": [
    {
     "data": {
      "text/plain": [
       "14"
      ]
     },
     "execution_count": 130,
     "metadata": {},
     "output_type": "execute_result"
    }
   ],
   "source": [
    "a = \"Python is the best choice.\"\n",
    "a.find('b')"
   ]
  },
  {
   "cell_type": "code",
   "execution_count": 131,
   "id": "b14bb988",
   "metadata": {
    "ExecuteTime": {
     "end_time": "2023-11-26T08:54:08.786909Z",
     "start_time": "2023-11-26T08:54:08.782898Z"
    }
   },
   "outputs": [
    {
     "data": {
      "text/plain": [
       "-1"
      ]
     },
     "execution_count": 131,
     "metadata": {},
     "output_type": "execute_result"
    }
   ],
   "source": [
    "a.find('k')"
   ]
  },
  {
   "cell_type": "markdown",
   "id": "f656dc48",
   "metadata": {},
   "source": [
    "find 함수로 문자열 중 문자 b가 처음으로 나온 위치를 반환했다.    \n",
    "만약 찾는 문자나 문자열이 존재하지 않는다면 -1을 반환한다.   \n",
    "     \n",
    "파이썬은 숫자를 0부터 세기 때문에 b의 위치는 15가 아닌 14가 된다."
   ]
  },
  {
   "cell_type": "markdown",
   "id": "5574fc88",
   "metadata": {},
   "source": [
    "### 위치 알려주기 (2) - index"
   ]
  },
  {
   "cell_type": "code",
   "execution_count": 134,
   "id": "533b6d76",
   "metadata": {
    "ExecuteTime": {
     "end_time": "2023-11-26T08:56:22.166726Z",
     "start_time": "2023-11-26T08:56:22.163230Z"
    }
   },
   "outputs": [
    {
     "data": {
      "text/plain": [
       "8"
      ]
     },
     "execution_count": 134,
     "metadata": {},
     "output_type": "execute_result"
    }
   ],
   "source": [
    "a = \"Life is too short\"\n",
    "a.index('t')"
   ]
  },
  {
   "cell_type": "code",
   "execution_count": 135,
   "id": "f2a282ab",
   "metadata": {
    "ExecuteTime": {
     "end_time": "2023-11-26T08:56:38.114348Z",
     "start_time": "2023-11-26T08:56:38.100512Z"
    }
   },
   "outputs": [
    {
     "ename": "ValueError",
     "evalue": "substring not found",
     "output_type": "error",
     "traceback": [
      "\u001b[1;31m---------------------------------------------------------------------------\u001b[0m",
      "\u001b[1;31mValueError\u001b[0m                                Traceback (most recent call last)",
      "Cell \u001b[1;32mIn[135], line 3\u001b[0m\n\u001b[0;32m      1\u001b[0m \u001b[38;5;66;03m#앞의 find 함수와 다른 점은 문자열 안에 존재하지 않는 문자를 찾으면 오류가 발생한다.\u001b[39;00m\n\u001b[1;32m----> 3\u001b[0m a\u001b[38;5;241m.\u001b[39mindex(\u001b[38;5;124m'\u001b[39m\u001b[38;5;124mk\u001b[39m\u001b[38;5;124m'\u001b[39m)\n",
      "\u001b[1;31mValueError\u001b[0m: substring not found"
     ]
    }
   ],
   "source": [
    "#앞의 find 함수와 다른 점은 문자열 안에 존재하지 않는 문자를 찾으면 오류가 발생한다.\n",
    "\n",
    "a.index('k')"
   ]
  },
  {
   "cell_type": "markdown",
   "id": "9a748831",
   "metadata": {},
   "source": [
    "index 함수로 문자열 중 문자 t가 맨 처음으로 나온 위치를 반환했다.    \n",
    "만약 찾는 문자나 문자열이 존재하지 않는다면 오류가 발생한다.     \n",
    "앞의 find 함수와 다른 점은 문자열 안에 존재하지 않는 문자를 찾으면 오류가 발생한다는 것이다."
   ]
  },
  {
   "cell_type": "code",
   "execution_count": 138,
   "id": "4f67e229",
   "metadata": {
    "ExecuteTime": {
     "end_time": "2023-11-26T08:58:57.795391Z",
     "start_time": "2023-11-26T08:58:57.792671Z"
    }
   },
   "outputs": [],
   "source": [
    "a.count?"
   ]
  },
  {
   "cell_type": "markdown",
   "id": "b4202eaa",
   "metadata": {},
   "source": [
    "문서 문자열:    \n",
    "S.count(sub[, start[, end]) -> int\n",
    "\n",
    "부분 문자열 서브인의 겹치지 않는 발생 횟수를 반환합니다.      \n",
    "문자열 S[start:end]. 선택적 인수 시작과 끝은 다음과 같습니다.      \n",
    "슬라이스 표기법과 같이 해석됩니다.     \n",
    "유형: 내장_function_or_method"
   ]
  },
  {
   "cell_type": "code",
   "execution_count": 137,
   "id": "3e5467b6",
   "metadata": {
    "ExecuteTime": {
     "end_time": "2023-11-26T08:58:18.206856Z",
     "start_time": "2023-11-26T08:58:18.202845Z"
    }
   },
   "outputs": [
    {
     "name": "stdout",
     "output_type": "stream",
     "text": [
      "Help on built-in function count:\n",
      "\n",
      "count(...) method of builtins.str instance\n",
      "    S.count(sub[, start[, end]]) -> int\n",
      "    \n",
      "    Return the number of non-overlapping occurrences of substring sub in\n",
      "    string S[start:end].  Optional arguments start and end are\n",
      "    interpreted as in slice notation.\n",
      "\n"
     ]
    }
   ],
   "source": [
    "help(a.count)"
   ]
  },
  {
   "cell_type": "markdown",
   "id": "351d6538",
   "metadata": {},
   "source": [
    "기본 제공 기능 수에 대한 도움말:\n",
    "\n",
    "count(...) builtin.str 인스턴스의 메서드\n",
    "S.count(sub[, start[, end]) -> int\n",
    "\n",
    "부분 문자열 서브인의 겹치지 않는 발생 횟수를 반환합니다\n",
    "문자열 S[start:end]. 선택적 인수 시작과 끝은 다음과 같습니다\n",
    "슬라이스 표기법과 같이 해석됩니다."
   ]
  },
  {
   "cell_type": "markdown",
   "id": "7c6718f1",
   "metadata": {},
   "source": [
    "## 문자열 삽입(join)"
   ]
  },
  {
   "cell_type": "code",
   "execution_count": 140,
   "id": "be6fa1a0",
   "metadata": {
    "ExecuteTime": {
     "end_time": "2023-11-26T09:03:11.057429Z",
     "start_time": "2023-11-26T09:03:11.054144Z"
    }
   },
   "outputs": [
    {
     "data": {
      "text/plain": [
       "'a,b,c,d'"
      ]
     },
     "execution_count": 140,
     "metadata": {},
     "output_type": "execute_result"
    }
   ],
   "source": [
    "#a, b, c, d 문자열 사이에 , 를 삽입\n",
    "\n",
    "\",\".join('abcd')"
   ]
  },
  {
   "cell_type": "markdown",
   "id": "4cc63b92",
   "metadata": {},
   "source": [
    "join 함수로 abcd 문자열의 각각의 문자 사이에 ‘,’를 삽입했다.   \n",
    "\n",
    "join 함수는 문자열뿐만 아니라 앞으로 배울 리스트나 튜플도 입력으로 사용할 수 있다.   \n",
    "(리스트와 튜플은 곧 배울 내용이므로 여기에서는 잠시 눈으로만 살펴보자).    \n",
    "\n",
    "join 함수의 입력으로 리스트를 사용하는 예는 다음과 같다."
   ]
  },
  {
   "cell_type": "code",
   "execution_count": 141,
   "id": "78289ba3",
   "metadata": {
    "ExecuteTime": {
     "end_time": "2023-11-26T09:14:18.522311Z",
     "start_time": "2023-11-26T09:14:18.517889Z"
    }
   },
   "outputs": [
    {
     "data": {
      "text/plain": [
       "'a,b,c,d'"
      ]
     },
     "execution_count": 141,
     "metadata": {},
     "output_type": "execute_result"
    }
   ],
   "source": [
    "\",\".join(['a', 'b', 'c', 'd'])"
   ]
  },
  {
   "cell_type": "markdown",
   "id": "c1272199",
   "metadata": {},
   "source": [
    "## 대소문자 변환(upper, lower)"
   ]
  },
  {
   "cell_type": "code",
   "execution_count": 142,
   "id": "77d58436",
   "metadata": {
    "ExecuteTime": {
     "end_time": "2023-11-26T09:15:46.190386Z",
     "start_time": "2023-11-26T09:15:46.186482Z"
    }
   },
   "outputs": [
    {
     "data": {
      "text/plain": [
       "'HI'"
      ]
     },
     "execution_count": 142,
     "metadata": {},
     "output_type": "execute_result"
    }
   ],
   "source": [
    "a = \"hi\"\n",
    "a.upper()"
   ]
  },
  {
   "cell_type": "code",
   "execution_count": 143,
   "id": "8b52dca4",
   "metadata": {
    "ExecuteTime": {
     "end_time": "2023-11-26T09:15:59.000146Z",
     "start_time": "2023-11-26T09:15:58.996769Z"
    }
   },
   "outputs": [
    {
     "data": {
      "text/plain": [
       "'hi'"
      ]
     },
     "execution_count": 143,
     "metadata": {},
     "output_type": "execute_result"
    }
   ],
   "source": [
    "a = \"HI\"\n",
    "a.lower()"
   ]
  },
  {
   "cell_type": "markdown",
   "id": "71c32717",
   "metadata": {},
   "source": [
    "## 공백 지우기(strip)"
   ]
  },
  {
   "cell_type": "markdown",
   "id": "80f6461e",
   "metadata": {},
   "source": [
    "### 왼쪽 공백 지우기 - lstrip"
   ]
  },
  {
   "cell_type": "code",
   "execution_count": 145,
   "id": "505ba54c",
   "metadata": {
    "ExecuteTime": {
     "end_time": "2023-11-26T09:16:36.485220Z",
     "start_time": "2023-11-26T09:16:36.481145Z"
    }
   },
   "outputs": [
    {
     "data": {
      "text/plain": [
       "'hi'"
      ]
     },
     "execution_count": 145,
     "metadata": {},
     "output_type": "execute_result"
    }
   ],
   "source": [
    "a = \" hi\"\n",
    "a.lstrip()"
   ]
  },
  {
   "cell_type": "markdown",
   "id": "ebeaeaa9",
   "metadata": {},
   "source": [
    "### 오른쪽 공백 지우기 - rstrip"
   ]
  },
  {
   "cell_type": "code",
   "execution_count": 146,
   "id": "12192ffc",
   "metadata": {
    "ExecuteTime": {
     "end_time": "2023-11-26T09:16:51.879995Z",
     "start_time": "2023-11-26T09:16:51.876288Z"
    }
   },
   "outputs": [
    {
     "data": {
      "text/plain": [
       "'hi'"
      ]
     },
     "execution_count": 146,
     "metadata": {},
     "output_type": "execute_result"
    }
   ],
   "source": [
    "a = \"hi  \"\n",
    "a.rstrip()"
   ]
  },
  {
   "cell_type": "markdown",
   "id": "9fbb2052",
   "metadata": {},
   "source": [
    "### 양쪽 공백 지우기 - strip"
   ]
  },
  {
   "cell_type": "code",
   "execution_count": 147,
   "id": "a42e27bb",
   "metadata": {
    "ExecuteTime": {
     "end_time": "2023-11-26T09:17:14.171011Z",
     "start_time": "2023-11-26T09:17:14.167598Z"
    }
   },
   "outputs": [
    {
     "data": {
      "text/plain": [
       "'hi'"
      ]
     },
     "execution_count": 147,
     "metadata": {},
     "output_type": "execute_result"
    }
   ],
   "source": [
    "a = \"  hi  \"\n",
    "a.strip()"
   ]
  },
  {
   "cell_type": "markdown",
   "id": "5b8c7984",
   "metadata": {},
   "source": [
    "## 문자열 바꾸기(replace)"
   ]
  },
  {
   "cell_type": "code",
   "execution_count": 148,
   "id": "b168c9f1",
   "metadata": {
    "ExecuteTime": {
     "end_time": "2023-11-26T09:18:54.273688Z",
     "start_time": "2023-11-26T09:18:54.270004Z"
    }
   },
   "outputs": [
    {
     "data": {
      "text/plain": [
       "'Your leg is too short'"
      ]
     },
     "execution_count": 148,
     "metadata": {},
     "output_type": "execute_result"
    }
   ],
   "source": [
    "a = \"Life is too short\"\n",
    "a.replace(\"Life\", \"Your leg\")"
   ]
  },
  {
   "cell_type": "markdown",
   "id": "908f09fa",
   "metadata": {},
   "source": [
    "replace 함수는 replace(바뀔_문자열, 바꿀_문자열)처럼 사용해서   \n",
    "문자열 안의 특정한 값을 다른 값으로 치환해 준다."
   ]
  },
  {
   "cell_type": "code",
   "execution_count": null,
   "id": "22350a35",
   "metadata": {
    "ExecuteTime": {
     "end_time": "2023-11-26T09:19:21.253409Z",
     "start_time": "2023-11-26T09:19:21.248883Z"
    }
   },
   "outputs": [],
   "source": [
    "a.replace?"
   ]
  },
  {
   "cell_type": "markdown",
   "id": "09d4ed5b",
   "metadata": {},
   "source": [
    "## 문자열 나누기(split)"
   ]
  },
  {
   "cell_type": "markdown",
   "id": "28a6cc8c",
   "metadata": {},
   "source": [
    "split 함수는 a.split()처럼 괄호 안에 아무 값도 넣어 주지 않으면    \n",
    "공백(`[Space]`], `[Tab]`, `[Enter]`)을 기준으로 문자열을 나누어 준다.    \n",
    "    \n",
    "만약 b.split(':')처럼 괄호 안에 특정 값이 있을 경우에는    \n",
    "괄호 안의 값을 구분자로 해서 문자열을 나누어 준다.     \n",
    "이렇게 나눈 값은 리스트에 하나씩 들어간다.    \n",
    "     \n",
    "`['Life', 'is', 'too', 'short']`나 `['a', 'b', 'c', 'd']`가 리스트인데,    \n",
    "02-3에서 자세히 알아볼 것이므로 여기에서는 너무 신경 쓰지 않아도 된다.    \n",
    "   \n",
    "앞에서 소개한 문자열 관련 함수는 문자열 처리에서 사용 빈도가 매우 높고 유용하다.    \n",
    "이 밖에도 몇 가지가 더 있지만 자주 사용하지는 않는다.  "
   ]
  },
  {
   "cell_type": "code",
   "execution_count": 150,
   "id": "e2e0eeb9",
   "metadata": {
    "ExecuteTime": {
     "end_time": "2023-11-26T09:20:57.626780Z",
     "start_time": "2023-11-26T09:20:57.623552Z"
    }
   },
   "outputs": [
    {
     "data": {
      "text/plain": [
       "['Life', 'is', 'too', 'short']"
      ]
     },
     "execution_count": 150,
     "metadata": {},
     "output_type": "execute_result"
    }
   ],
   "source": [
    "a = \"Life is too short\"\n",
    "a.split()"
   ]
  },
  {
   "cell_type": "code",
   "execution_count": 151,
   "id": "f9216d31",
   "metadata": {
    "ExecuteTime": {
     "end_time": "2023-11-26T09:21:23.606973Z",
     "start_time": "2023-11-26T09:21:23.603550Z"
    }
   },
   "outputs": [
    {
     "data": {
      "text/plain": [
       "['a', 'b', 'c', 'd']"
      ]
     },
     "execution_count": 151,
     "metadata": {},
     "output_type": "execute_result"
    }
   ],
   "source": [
    "b=\"a:b:c:d\"\n",
    "b.split(':')"
   ]
  },
  {
   "cell_type": "code",
   "execution_count": 152,
   "id": "d976cc20",
   "metadata": {
    "ExecuteTime": {
     "end_time": "2023-11-26T09:21:58.219779Z",
     "start_time": "2023-11-26T09:21:58.216546Z"
    }
   },
   "outputs": [
    {
     "data": {
      "text/plain": [
       "['Life', 'is', 'too', 'short']"
      ]
     },
     "execution_count": 152,
     "metadata": {},
     "output_type": "execute_result"
    }
   ],
   "source": [
    "a1 = a.split()\n",
    "a1"
   ]
  },
  {
   "cell_type": "code",
   "execution_count": 153,
   "id": "1176f557",
   "metadata": {
    "ExecuteTime": {
     "end_time": "2023-11-26T09:22:10.877996Z",
     "start_time": "2023-11-26T09:22:10.874095Z"
    }
   },
   "outputs": [
    {
     "data": {
      "text/plain": [
       "'Life is too short'"
      ]
     },
     "execution_count": 153,
     "metadata": {},
     "output_type": "execute_result"
    }
   ],
   "source": [
    "' '.join(a1)"
   ]
  },
  {
   "cell_type": "markdown",
   "id": "ae4a1e8e",
   "metadata": {},
   "source": [
    "# 리스트 자료형"
   ]
  },
  {
   "cell_type": "markdown",
   "id": "ebedcb24",
   "metadata": {},
   "source": [
<<<<<<< HEAD
    "## 리스트 만드는 방법"
=======
    "### 리스트 만드는 방법"
>>>>>>> 9eaf12b150c4d635b867c546f83f2800cec2ffb1
   ]
  },
  {
   "cell_type": "code",
   "execution_count": 155,
   "id": "36b34b4c",
   "metadata": {
    "ExecuteTime": {
     "end_time": "2023-11-26T09:28:54.400351Z",
     "start_time": "2023-11-26T09:28:54.396488Z"
    }
   },
   "outputs": [
    {
     "data": {
      "text/plain": [
       "([1, 3, 5, 7, 9], list)"
      ]
     },
     "execution_count": 155,
     "metadata": {},
     "output_type": "execute_result"
    }
   ],
   "source": [
<<<<<<< HEAD
    "#type은 데이터 타입을 확인할 수 있는 함수\n",
    "\n",
=======
>>>>>>> 9eaf12b150c4d635b867c546f83f2800cec2ffb1
    "odd = [1,3,5,7,9]\n",
    "odd, type(odd)"
   ]
  },
  {
   "cell_type": "markdown",
   "id": "bd5c37de",
   "metadata": {},
   "source": [
    "### 비어 있는 리스트는 a = list()로 생성할 수 있다."
   ]
  },
  {
   "cell_type": "code",
<<<<<<< HEAD
   "execution_count": 9,
   "id": "e9debcff",
   "metadata": {
    "ExecuteTime": {
     "end_time": "2023-11-27T09:59:15.169790Z",
     "start_time": "2023-11-27T09:59:15.164240Z"
=======
   "execution_count": 164,
   "id": "e9debcff",
   "metadata": {
    "ExecuteTime": {
     "end_time": "2023-11-26T09:32:12.580586Z",
     "start_time": "2023-11-26T09:32:12.577045Z"
>>>>>>> 9eaf12b150c4d635b867c546f83f2800cec2ffb1
    }
   },
   "outputs": [
    {
     "name": "stdout",
     "output_type": "stream",
     "text": [
      "[] [1, 2, 3] ['Life', 'is', 'too', 'short'] [1, 2, 'Life', 'is'] [1, 2, ['Life', 'is']]\n",
      "<class 'list'> <class 'list'> <class 'list'> <class 'list'> <class 'list'>\n"
     ]
    }
   ],
   "source": [
<<<<<<< HEAD
    "a = []                                              #아무것도 포함하지 않아 비어 있는 리스트\n",
    "b = [1, 2, 3]                                   #숫자 요소값\n",
    "c = ['Life', 'is', 'too', 'short']        #문자 요소값\n",
    "d = [1, 2, 'Life', 'is']                      #숫자+문자 \n",
    "e = [1, 2, ['Life', 'is'] ]                   #리스트 자체를 요소값으로\n",
    "\n",
=======
    "a = []\n",
    "b = [1, 2, 3]\n",
    "c = ['Life', 'is', 'too', 'short']\n",
    "d = [1, 2, 'Life', 'is']\n",
    "e = [1, 2, ['Life', 'is'] ]\n",
>>>>>>> 9eaf12b150c4d635b867c546f83f2800cec2ffb1
    "print(a, b, c, d, e)\n",
    "print(type(a), type(b), type(c), type(d), type(e))"
   ]
  },
  {
   "cell_type": "markdown",
   "id": "66817a4a",
   "metadata": {},
   "source": [
    "리스트는 a처럼 아무것도 포함하지 않아 비어 있는 리스트([])일 수도 있고,    \n",
    "b처럼 숫자를 요솟값으로 가질 수도 있으며,    \n",
    "c처럼 문자열을 요솟값으로 가질 수도 있다.    \n",
    "또한 d처럼 숫자와 문자열을 함께 요솟값으로 가질 수도 있고,    \n",
    "e처럼 리스트 자체를 요솟값으로 가질 수도 있다.    \n",
    "\n",
    "즉, 리스트 안에는 어떠한 자료형도 포함할 수 있다."
   ]
  },
  {
   "cell_type": "markdown",
   "id": "b5386743",
   "metadata": {},
   "source": [
<<<<<<< HEAD
    "### len\n",
    "\n",
    "**리스트 길이를 구하기** 위해서는 다음처럼 len 함수를 사용해야 한다.      \n",
    "len은 문자열, 리스트 외에 앞으로 배울 튜플과 딕셔너리에도 사용할 수 있는 함수이다.     \n",
    "실습에서 자주 사용하므로 잘 기억해 두자."
=======
    "### len"
>>>>>>> 9eaf12b150c4d635b867c546f83f2800cec2ffb1
   ]
  },
  {
   "cell_type": "code",
   "execution_count": 168,
   "id": "c250b960",
   "metadata": {
    "ExecuteTime": {
     "end_time": "2023-11-26T09:41:54.392764Z",
     "start_time": "2023-11-26T09:41:54.388754Z"
    }
   },
   "outputs": [
    {
     "data": {
      "text/plain": [
       "(4, 3)"
      ]
     },
     "execution_count": 168,
     "metadata": {},
     "output_type": "execute_result"
    }
   ],
   "source": [
    "len(d), len(e)"
   ]
  },
  {
   "cell_type": "markdown",
   "id": "f23ae5fe",
   "metadata": {},
   "source": [
    "## 인덱싱과 슬라이싱"
   ]
  },
  {
   "cell_type": "markdown",
   "id": "8828d515",
   "metadata": {},
   "source": [
    "리스트 역시 문자열처럼 인덱싱을 적용할 수 있다.    \n",
    "먼저 a 변수에 [1, 2, 3] 값을 설정한다."
   ]
  },
  {
   "cell_type": "markdown",
   "id": "cec5293b",
   "metadata": {},
   "source": [
    "###  1층 구조의 리스트"
   ]
  },
  {
   "cell_type": "code",
   "execution_count": 205,
   "id": "4c31f5e4",
   "metadata": {
    "ExecuteTime": {
     "end_time": "2023-11-26T09:56:56.482968Z",
     "start_time": "2023-11-26T09:56:56.479662Z"
    }
   },
   "outputs": [
    {
     "data": {
      "text/plain": [
       "[1, 2, 3]"
      ]
     },
     "execution_count": 205,
     "metadata": {},
     "output_type": "execute_result"
    }
   ],
   "source": [
    "a = [1,2,3]\n",
    "a"
   ]
  },
  {
   "cell_type": "markdown",
   "id": "2af03b22",
   "metadata": {},
   "source": [
    "a[0]은 리스트 a의 첫 번째 요솟값을 말한다."
   ]
  },
  {
   "cell_type": "code",
   "execution_count": 170,
   "id": "3db833b6",
   "metadata": {
    "ExecuteTime": {
     "end_time": "2023-11-26T09:44:52.177968Z",
     "start_time": "2023-11-26T09:44:52.174465Z"
    }
   },
   "outputs": [
    {
     "data": {
      "text/plain": [
       "1"
      ]
     },
     "execution_count": 170,
     "metadata": {},
     "output_type": "execute_result"
    }
   ],
   "source": [
    "a[0]"
   ]
  },
  {
   "cell_type": "markdown",
   "id": "4257f935",
   "metadata": {},
   "source": [
    "다음 예는 리스트의 첫 번째 요소인 a[0]과 세 번째 요소인 a[2]의 값을 더한 것이다."
   ]
  },
  {
   "cell_type": "code",
   "execution_count": 171,
   "id": "2c419b03",
   "metadata": {
    "ExecuteTime": {
     "end_time": "2023-11-26T09:45:15.628949Z",
     "start_time": "2023-11-26T09:45:15.625895Z"
    }
   },
   "outputs": [
    {
     "data": {
      "text/plain": [
       "4"
      ]
     },
     "execution_count": 171,
     "metadata": {},
     "output_type": "execute_result"
    }
   ],
   "source": [
    "a[0] + a[2]"
   ]
  },
  {
   "cell_type": "markdown",
   "id": "df099805",
   "metadata": {},
   "source": [
    "이것은 1 + 3으로 해석되어 값 4를 출력한다.   \n",
    "\n",
    "문자열을 공부할 때 이미 살펴보았지만,    \n",
    "파이썬은 숫자를 0부터 세기 때문에 a[1]이 리스트 a의 첫 번째 요소가 아니라    \n",
    "a[0]이 리스트 a의 첫 번째 요소라는 것을 명심하자.   \n",
    "\n",
    "a[-1]은 문자열에서와 마찬가지로 리스트 a의 마지막 요솟값을 말한다."
   ]
  },
  {
   "cell_type": "code",
   "execution_count": 172,
   "id": "5337801c",
   "metadata": {
    "ExecuteTime": {
     "end_time": "2023-11-26T09:45:53.147153Z",
     "start_time": "2023-11-26T09:45:53.143240Z"
    }
   },
   "outputs": [
    {
     "data": {
      "text/plain": [
       "3"
      ]
     },
     "execution_count": 172,
     "metadata": {},
     "output_type": "execute_result"
    }
   ],
   "source": [
    "a[-1]"
   ]
  },
  {
   "cell_type": "markdown",
   "id": "7532f2dc",
   "metadata": {},
   "source": [
    "이번에는 다음 예처럼 리스트 a를 숫자 1, 2, 3과   \n",
    "또 다른 리스트인 ['a', 'b', 'c']를 포함하도록 만들어 보자."
   ]
  },
  {
   "cell_type": "markdown",
   "id": "675c6b17",
   "metadata": {
    "ExecuteTime": {
     "end_time": "2023-11-26T09:57:53.259015Z",
     "start_time": "2023-11-26T09:57:53.255699Z"
    }
   },
   "source": [
    "### 2층 구조의 리스트"
   ]
  },
  {
   "cell_type": "code",
   "execution_count": 194,
   "id": "261a2a64",
   "metadata": {
    "ExecuteTime": {
     "end_time": "2023-11-26T09:54:51.321256Z",
     "start_time": "2023-11-26T09:54:51.317859Z"
    }
   },
   "outputs": [
    {
     "data": {
      "text/plain": [
       "[1, 2, 3, ['a', 'b', 'c']]"
      ]
     },
     "execution_count": 194,
     "metadata": {},
     "output_type": "execute_result"
    }
   ],
   "source": [
    "b = [1,2,3, ['a', 'b', 'c']]\n",
    "b"
   ]
  },
  {
   "cell_type": "markdown",
   "id": "20d8b736",
   "metadata": {},
   "source": [
    "그리고 다음 예를 따라 해 보자."
   ]
  },
  {
   "cell_type": "code",
   "execution_count": 195,
   "id": "049fe520",
   "metadata": {
    "ExecuteTime": {
     "end_time": "2023-11-26T09:54:53.641444Z",
     "start_time": "2023-11-26T09:54:53.638201Z"
    }
   },
   "outputs": [
    {
     "data": {
      "text/plain": [
       "1"
      ]
     },
     "execution_count": 195,
     "metadata": {},
     "output_type": "execute_result"
    }
   ],
   "source": [
    "b[0]"
   ]
  },
  {
   "cell_type": "code",
   "execution_count": 196,
   "id": "b21a2411",
   "metadata": {
    "ExecuteTime": {
     "end_time": "2023-11-26T09:54:55.713538Z",
     "start_time": "2023-11-26T09:54:55.710137Z"
    }
   },
   "outputs": [
    {
     "data": {
      "text/plain": [
       "['a', 'b', 'c']"
      ]
     },
     "execution_count": 196,
     "metadata": {},
     "output_type": "execute_result"
    }
   ],
   "source": [
    "b[-1]"
   ]
  },
  {
   "cell_type": "code",
   "execution_count": 197,
   "id": "52157066",
   "metadata": {
    "ExecuteTime": {
     "end_time": "2023-11-26T09:54:57.922298Z",
     "start_time": "2023-11-26T09:54:57.918817Z"
    }
   },
   "outputs": [
    {
     "data": {
      "text/plain": [
       "['a', 'b', 'c']"
      ]
     },
     "execution_count": 197,
     "metadata": {},
     "output_type": "execute_result"
    }
   ],
   "source": [
    "b[3]"
   ]
  },
  {
   "cell_type": "markdown",
   "id": "a7ac5dfd",
   "metadata": {},
   "source": [
    "예상한 대로 a[-1]은 마지막 요솟값 ['a', 'b', 'c']를 나타낸다.    \n",
    "a[3]은 리스트 a의 네 번째 요소를 나타내기 때문에    \n",
    "마지막 요소를 나타내는 a[-1]과 동일한 결괏값을 보여 준다.   \n",
    "    \n",
    "그렇다면 리스트 a에 포함된 ['a', 'b', 'c'] 리스트에서   \n",
    "'a' 값을 인덱싱을 사용해 끄집어 낼 수 있는 방법은 없을까? 다음 예를 살펴보자."
   ]
  },
  {
   "cell_type": "code",
   "execution_count": 198,
   "id": "24f98b73",
   "metadata": {
    "ExecuteTime": {
     "end_time": "2023-11-26T09:55:00.273891Z",
     "start_time": "2023-11-26T09:55:00.270141Z"
    }
   },
   "outputs": [
    {
     "data": {
      "text/plain": [
       "'a'"
      ]
     },
     "execution_count": 198,
     "metadata": {},
     "output_type": "execute_result"
    }
   ],
   "source": [
    "b[-1][0]"
   ]
  },
  {
   "cell_type": "markdown",
   "id": "5c445931",
   "metadata": {},
   "source": [
    "위와 같이 하면 'a'를 끄집어 낼 수 있다. a[-1]이 ['a', 'b', 'c'] 리스트라는 것은 이미 설명했다.    \n",
    "바로 이 리스트에서 첫 번째 요소를 불러오기 위해 [0]을 붙여 준 것이다.   \n",
    "\n",
    "다음 예도 마찬가지 경우이므로 어렵지 않게 이해할 수 있을 것이다."
   ]
  },
  {
   "cell_type": "code",
   "execution_count": 199,
   "id": "ec4242f3",
   "metadata": {
    "ExecuteTime": {
     "end_time": "2023-11-26T09:55:02.914322Z",
     "start_time": "2023-11-26T09:55:02.910548Z"
    }
   },
   "outputs": [
    {
     "data": {
      "text/plain": [
       "'b'"
      ]
     },
     "execution_count": 199,
     "metadata": {},
     "output_type": "execute_result"
    }
   ],
   "source": [
    "b[-1][1]\n",
    "'b'"
   ]
  },
  {
   "cell_type": "code",
   "execution_count": 200,
   "id": "4fd504c3",
   "metadata": {
    "ExecuteTime": {
     "end_time": "2023-11-26T09:55:06.514952Z",
     "start_time": "2023-11-26T09:55:06.511040Z"
    }
   },
   "outputs": [
    {
     "data": {
      "text/plain": [
       "'c'"
      ]
     },
     "execution_count": 200,
     "metadata": {},
     "output_type": "execute_result"
    }
   ],
   "source": [
    "b[-1][2]"
   ]
  },
  {
   "cell_type": "markdown",
   "id": "f65fccd4",
   "metadata": {},
   "source": [
    "### 3층 구조의 리스트"
   ]
  },
  {
   "cell_type": "code",
   "execution_count": 201,
   "id": "54c3efa6",
   "metadata": {
    "ExecuteTime": {
     "end_time": "2023-11-26T09:55:13.387856Z",
     "start_time": "2023-11-26T09:55:13.384057Z"
    }
   },
   "outputs": [
    {
     "data": {
      "text/plain": [
       "[1, 2, ['a', 'b', ['Life', 'is']]]"
      ]
     },
     "execution_count": 201,
     "metadata": {},
     "output_type": "execute_result"
    }
   ],
   "source": [
    "c = [1,2, ['a', 'b', ['Life', 'is']]]\n",
    "c"
   ]
  },
  {
   "cell_type": "code",
   "execution_count": 202,
   "id": "fffc5cd0",
   "metadata": {
    "ExecuteTime": {
     "end_time": "2023-11-26T09:55:15.188573Z",
     "start_time": "2023-11-26T09:55:15.185076Z"
    }
   },
   "outputs": [
    {
     "data": {
      "text/plain": [
       "'Life'"
      ]
     },
     "execution_count": 202,
     "metadata": {},
     "output_type": "execute_result"
    }
   ],
   "source": [
    "c[2][2][0]"
   ]
  },
  {
   "cell_type": "code",
   "execution_count": 203,
   "id": "c30dc4d6",
   "metadata": {
    "ExecuteTime": {
     "end_time": "2023-11-26T09:55:17.028661Z",
     "start_time": "2023-11-26T09:55:17.024570Z"
    }
   },
   "outputs": [
    {
     "data": {
      "text/plain": [
       "'Life'"
      ]
     },
     "execution_count": 203,
     "metadata": {},
     "output_type": "execute_result"
    }
   ],
   "source": [
    "c[-1][-1][0]"
   ]
  },
  {
   "cell_type": "markdown",
   "id": "ee409146",
   "metadata": {},
   "source": [
    "## 리스트 연산하기\n",
    "\n",
    "리스트 역시 +를 사용해서 더할 수 있고 *를 사용해서 반복할 수 있다.   \n",
    "문자열과 마찬가지로 리스트에서도 되는지 직접 확인해 보자."
   ]
  },
  {
   "cell_type": "markdown",
   "id": "2b57a479",
   "metadata": {},
   "source": [
    "### 리스트 더하기"
   ]
  },
  {
   "cell_type": "code",
   "execution_count": 221,
   "id": "6d8f5260",
   "metadata": {
    "ExecuteTime": {
     "end_time": "2023-11-26T10:04:14.362007Z",
     "start_time": "2023-11-26T10:04:14.358024Z"
    }
   },
   "outputs": [
    {
     "data": {
      "text/plain": [
       "[1, 2, 3, 4, 5, 6]"
      ]
     },
     "execution_count": 221,
     "metadata": {},
     "output_type": "execute_result"
    }
   ],
   "source": [
    "a = [1,2,3]\n",
    "b = [4,5,6]\n",
    "a+b"
   ]
  },
  {
   "cell_type": "markdown",
   "id": "1563ab82",
   "metadata": {},
   "source": [
    "### 리스트 반복하기 ( * )"
   ]
  },
  {
   "cell_type": "code",
   "execution_count": 223,
   "id": "4d885b44",
   "metadata": {
    "ExecuteTime": {
     "end_time": "2023-11-26T10:05:11.698789Z",
     "start_time": "2023-11-26T10:05:11.695266Z"
    }
   },
   "outputs": [
    {
     "data": {
      "text/plain": [
       "[1, 2, 3, 1, 2, 3, 1, 2, 3]"
      ]
     },
     "execution_count": 223,
     "metadata": {},
     "output_type": "execute_result"
    }
   ],
   "source": [
    "a = [1,2,3]\n",
    "a * 3"
   ]
  },
  {
   "cell_type": "markdown",
   "id": "8534b1ca",
   "metadata": {},
   "source": [
    "### 리스트 길이 구하기 (len)"
   ]
  },
  {
   "cell_type": "code",
   "execution_count": 224,
   "id": "caabf303",
   "metadata": {
    "ExecuteTime": {
     "end_time": "2023-11-26T10:05:24.756345Z",
     "start_time": "2023-11-26T10:05:24.752055Z"
    }
   },
   "outputs": [
    {
     "data": {
      "text/plain": [
       "3"
      ]
     },
     "execution_count": 224,
     "metadata": {},
     "output_type": "execute_result"
    }
   ],
   "source": [
    "a = [1,2,3]\n",
    "len(a)"
   ]
  },
  {
   "cell_type": "markdown",
   "id": "2df58bba",
   "metadata": {},
   "source": [
    "len은 문자열, 리스트 외에 앞으로 배울 튜플과 딕셔너리에도 사용할 수 있는 함수이다.    \n",
    "실습에서 자주 사용하므로 잘 기억해 두자.   "
   ]
  },
  {
   "cell_type": "markdown",
   "id": "a4e32a21",
   "metadata": {},
   "source": [
    "## 리스트 수정과 삭제"
   ]
  },
  {
   "cell_type": "markdown",
   "id": "e3bf0b42",
   "metadata": {},
   "source": [
    " ### 리스트 값 수정하기"
   ]
  },
  {
   "cell_type": "code",
   "execution_count": 225,
   "id": "91ad99db",
   "metadata": {
    "ExecuteTime": {
     "end_time": "2023-11-26T10:07:20.644730Z",
     "start_time": "2023-11-26T10:07:20.641486Z"
    }
   },
   "outputs": [
    {
     "data": {
      "text/plain": [
       "[1, 2, 4]"
      ]
     },
     "execution_count": 225,
     "metadata": {},
     "output_type": "execute_result"
    }
   ],
   "source": [
    "a=[1,2,3]\n",
    "a[2] = 4\n",
    "a"
   ]
  },
  {
   "cell_type": "markdown",
   "id": "752c1ac2",
   "metadata": {},
   "source": [
    "### del 함수를 사용해 리스트 요소 삭제하기"
   ]
  },
  {
   "cell_type": "code",
   "execution_count": 226,
   "id": "3e90f7eb",
   "metadata": {
    "ExecuteTime": {
     "end_time": "2023-11-26T10:07:35.174823Z",
     "start_time": "2023-11-26T10:07:35.170647Z"
    }
   },
   "outputs": [
    {
     "data": {
      "text/plain": [
       "[1, 3]"
      ]
     },
     "execution_count": 226,
     "metadata": {},
     "output_type": "execute_result"
    }
   ],
   "source": [
    "a=[1,2,3]\n",
    "del a[1]\n",
    "a"
   ]
  },
  {
   "cell_type": "markdown",
   "id": "0f3dc123",
   "metadata": {},
   "source": [
    "### 슬라이싱 기법으로 리스트 요소 여러개 삭제하기"
   ]
  },
  {
   "cell_type": "code",
   "execution_count": 228,
   "id": "b95f0e12",
   "metadata": {
    "ExecuteTime": {
     "end_time": "2023-11-26T10:08:34.447506Z",
     "start_time": "2023-11-26T10:08:34.443386Z"
    }
   },
   "outputs": [
    {
     "data": {
      "text/plain": [
       "[1, 2]"
      ]
     },
     "execution_count": 228,
     "metadata": {},
     "output_type": "execute_result"
    }
   ],
   "source": [
    "a=[1,2,3,4,5]\n",
    "del a[2:]\n",
    "a"
   ]
  },
  {
   "cell_type": "markdown",
   "id": "7a192df5",
   "metadata": {},
   "source": [
    "a[2:]에 해당하는 리스트의 요소들이 삭제되었다.   \n",
    "\n",
    "리스트의 요소를 삭제하는 방법에는 2가지가 더 있다.   \n",
    "바로 리스트의 remove와 pop 함수를 사용하는 것인데, 이는 리스트 관련 함수에서 설명한다."
   ]
  },
  {
   "cell_type": "markdown",
   "id": "3ef2520a",
   "metadata": {},
   "source": [
    "## 리스트 관련 함수\n",
    "문자열과 마찬가지로 리스트 변수 이름 뒤에 ‘.’를 붙여 여러 가지 리스트 관련 함수를 사용할 수 있다. 유용하게 사용하는 리스트 관련 함수 몇 가지만 알아보자."
   ]
  },
  {
   "cell_type": "markdown",
   "id": "d8166636",
   "metadata": {},
   "source": [
    "### 요소 추가(append)"
   ]
  },
  {
   "cell_type": "code",
   "execution_count": 230,
   "id": "6dae55b1",
   "metadata": {
    "ExecuteTime": {
     "end_time": "2023-11-26T10:10:33.864199Z",
     "start_time": "2023-11-26T10:10:33.860661Z"
    }
   },
   "outputs": [
    {
     "data": {
      "text/plain": [
       "[1, 2, 3, 4]"
      ]
     },
     "execution_count": 230,
     "metadata": {},
     "output_type": "execute_result"
    }
   ],
   "source": [
    "a=[1,2,3]\n",
    "a.append(4)\n",
    "a"
   ]
  },
  {
   "cell_type": "markdown",
   "id": "b556f4c9",
   "metadata": {},
   "source": [
    "리스트 안에는 어떤 자료형도 추가할 수 있다.   \n",
    "다음 예는 리스트에 다시 리스트를 추가한 결과이다."
   ]
  },
  {
   "cell_type": "code",
   "execution_count": 231,
   "id": "7618f4ea",
   "metadata": {
    "ExecuteTime": {
     "end_time": "2023-11-26T10:10:43.650039Z",
     "start_time": "2023-11-26T10:10:43.646000Z"
    }
   },
   "outputs": [
    {
     "data": {
      "text/plain": [
       "[1, 2, 3, 4, [5, 6]]"
      ]
     },
     "execution_count": 231,
     "metadata": {},
     "output_type": "execute_result"
    }
   ],
   "source": [
    "a.append([5,6])\n",
    "a"
   ]
  },
  {
   "cell_type": "markdown",
   "id": "87a1a15d",
   "metadata": {},
   "source": [
    "### 리스트 정렬 (sort)"
   ]
  },
  {
   "cell_type": "code",
   "execution_count": 246,
   "id": "b773bb98",
   "metadata": {
    "ExecuteTime": {
     "end_time": "2023-11-26T10:29:04.601772Z",
     "start_time": "2023-11-26T10:29:04.597691Z"
    }
   },
   "outputs": [
    {
     "data": {
      "text/plain": [
       "[1, 2, 3, 4]"
      ]
     },
     "execution_count": 246,
     "metadata": {},
     "output_type": "execute_result"
    }
   ],
   "source": [
    "a = [1, 4, 3, 2]\n",
    "a.sort()\n",
    "a"
   ]
  },
  {
   "cell_type": "code",
   "execution_count": 234,
   "id": "985a0a9f",
   "metadata": {
    "ExecuteTime": {
     "end_time": "2023-11-26T10:13:46.404622Z",
     "start_time": "2023-11-26T10:13:46.400331Z"
    }
   },
   "outputs": [
    {
     "data": {
      "text/plain": [
       "['a', 'b', 'c']"
      ]
     },
     "execution_count": 234,
     "metadata": {},
     "output_type": "execute_result"
    }
   ],
   "source": [
    "a=['a','c','b']\n",
    "a.sort()\n",
    "a"
   ]
  },
  {
   "cell_type": "markdown",
   "id": "32435126",
   "metadata": {},
   "source": [
    "### 리스트 뒤집기 (reverse) \n",
    "reverse 함수는 리스트를 역순으로 뒤집어 준다.    \n",
    "이때 리스트 요소들을 순서대로 정렬한 다음 다시 역순으로 정렬하는 것이 아니라   \n",
    "현재의 리스트를 그대로 거꾸로 뒤집는다."
   ]
  },
  {
   "cell_type": "code",
   "execution_count": 235,
   "id": "f3d28fef",
   "metadata": {
    "ExecuteTime": {
     "end_time": "2023-11-26T10:14:52.430174Z",
     "start_time": "2023-11-26T10:14:52.426456Z"
    }
   },
   "outputs": [
    {
     "data": {
      "text/plain": [
       "['b', 'c', 'a']"
      ]
     },
     "execution_count": 235,
     "metadata": {},
     "output_type": "execute_result"
    }
   ],
   "source": [
    "a=['a','c','b']\n",
    "a.reverse()\n",
    "a"
   ]
  },
  {
   "cell_type": "markdown",
   "id": "8a9df8c0",
   "metadata": {},
   "source": [
    "### 인덱스 반환 (index)\n",
    "index(x) 함수는 리스트에 x 값이 있으면 x의 인덱스 값(위칫값)을 리턴한다."
   ]
  },
  {
   "cell_type": "code",
   "execution_count": 236,
   "id": "4455f402",
   "metadata": {
    "ExecuteTime": {
     "end_time": "2023-11-26T10:15:30.467840Z",
     "start_time": "2023-11-26T10:15:30.464413Z"
    }
   },
   "outputs": [
    {
     "data": {
      "text/plain": [
       "2"
      ]
     },
     "execution_count": 236,
     "metadata": {},
     "output_type": "execute_result"
    }
   ],
   "source": [
    "a=[1,2,3]\n",
    "a.index(3)"
   ]
  },
  {
   "cell_type": "code",
   "execution_count": 237,
   "id": "23170928",
   "metadata": {
    "ExecuteTime": {
     "end_time": "2023-11-26T10:15:34.956528Z",
     "start_time": "2023-11-26T10:15:34.953063Z"
    }
   },
   "outputs": [
    {
     "data": {
      "text/plain": [
       "0"
      ]
     },
     "execution_count": 237,
     "metadata": {},
     "output_type": "execute_result"
    }
   ],
   "source": [
    "a.index(1)"
   ]
  },
  {
   "cell_type": "markdown",
   "id": "e8802ec9",
   "metadata": {},
   "source": [
    "위 예에서 리스트 a에 있는 숫자 3의 위치는 a[2]이므로 2,    \n",
    "숫자 1의 위치는 a[0]이므로 0을 리턴한다.   \n",
    "\n",
    "다음 예에서 값 0은 a 리스트에 존재하지 않기 때문에 오류가 발생한다."
   ]
  },
  {
   "cell_type": "code",
   "execution_count": 238,
   "id": "b5011e22",
   "metadata": {
    "ExecuteTime": {
     "end_time": "2023-11-26T10:17:35.175320Z",
     "start_time": "2023-11-26T10:17:35.162376Z"
    }
   },
   "outputs": [
    {
     "ename": "ValueError",
     "evalue": "0 is not in list",
     "output_type": "error",
     "traceback": [
      "\u001b[1;31m---------------------------------------------------------------------------\u001b[0m",
      "\u001b[1;31mValueError\u001b[0m                                Traceback (most recent call last)",
      "Cell \u001b[1;32mIn[238], line 1\u001b[0m\n\u001b[1;32m----> 1\u001b[0m a\u001b[38;5;241m.\u001b[39mindex(\u001b[38;5;241m0\u001b[39m)\n",
      "\u001b[1;31mValueError\u001b[0m: 0 is not in list"
     ]
    }
   ],
   "source": [
    "a.index(0)"
   ]
  },
  {
   "cell_type": "markdown",
   "id": "9592e012",
   "metadata": {},
   "source": [
    "### 리스트에 요소 삽입 (insert)\n",
<<<<<<< HEAD
    "insert(a, b)는 리스트의 a번째 위치에 b를 **삽입**하는 함수이다.    \n",
=======
    "insert(a, b)는 리스트의 a번째 위치에 b를 삽입하는 함수이다.    \n",
>>>>>>> 9eaf12b150c4d635b867c546f83f2800cec2ffb1
    "파이썬은 숫자를 0부터 센다는 것을 반드시 기억하자."
   ]
  },
  {
   "cell_type": "code",
   "execution_count": 240,
   "id": "1c25c5ed",
   "metadata": {
    "ExecuteTime": {
     "end_time": "2023-11-26T10:18:48.031943Z",
     "start_time": "2023-11-26T10:18:48.027794Z"
    }
   },
   "outputs": [
    {
     "data": {
      "text/plain": [
       "[4, 1, 2, 3]"
      ]
     },
     "execution_count": 240,
     "metadata": {},
     "output_type": "execute_result"
    }
   ],
   "source": [
    "a = [1,2,3]\n",
    "a.insert(0,4)\n",
    "a"
   ]
  },
  {
   "cell_type": "markdown",
   "id": "e6fa4644",
   "metadata": {},
   "source": [
    "위 예는 0번째 자리, 즉 첫 번째 요소인 a[0] 위치에 값 4를 삽입하라는 뜻이다."
   ]
  },
  {
   "cell_type": "code",
   "execution_count": 241,
   "id": "e53fa71c",
   "metadata": {
    "ExecuteTime": {
     "end_time": "2023-11-26T10:19:11.475577Z",
     "start_time": "2023-11-26T10:19:11.472144Z"
    }
   },
   "outputs": [
    {
     "data": {
      "text/plain": [
       "[4, 1, 2, 5, 3]"
      ]
     },
     "execution_count": 241,
     "metadata": {},
     "output_type": "execute_result"
    }
   ],
   "source": [
    "a.insert(3,5)\n",
    "a"
   ]
  },
  {
   "cell_type": "markdown",
   "id": "9de41de8",
   "metadata": {},
   "source": [
    "위 예는 리스트 a의 a[3], 즉 네 번째 요소 위치에 값 5를 삽입하라는 뜻이다."
   ]
  },
  {
   "cell_type": "markdown",
   "id": "730bc5cb",
   "metadata": {},
   "source": [
    "### 리스트에 요소 제거 (remove)\n",
<<<<<<< HEAD
    "remove(x)는 **리스트에서 첫 번째로 나오는 x를 삭제**하는 함수이다."
=======
    "remove(x)는 리스트에서 첫 번째로 나오는 x를 삭제하는 함수이다."
>>>>>>> 9eaf12b150c4d635b867c546f83f2800cec2ffb1
   ]
  },
  {
   "cell_type": "code",
   "execution_count": 257,
   "id": "483f18ac",
   "metadata": {
    "ExecuteTime": {
     "end_time": "2023-11-26T10:32:47.234090Z",
     "start_time": "2023-11-26T10:32:47.229820Z"
    }
   },
   "outputs": [
    {
     "data": {
      "text/plain": [
       "[1, 2, 1, 2, 3]"
      ]
     },
     "execution_count": 257,
     "metadata": {},
     "output_type": "execute_result"
    }
   ],
   "source": [
    "a=[1,2,3,1,2,3]\n",
    "a.remove(3)\n",
    "a"
   ]
  },
  {
   "cell_type": "markdown",
   "id": "6ef9fb73",
   "metadata": {},
   "source": [
    "a가 3이라는 값을 2개 가지고 있을 경우, 첫 번째 3만 제거되는 것을 알 수 있다."
   ]
  },
  {
   "cell_type": "code",
   "execution_count": 258,
   "id": "d2cd8a24",
   "metadata": {
    "ExecuteTime": {
     "end_time": "2023-11-26T10:32:48.337753Z",
     "start_time": "2023-11-26T10:32:48.333954Z"
    }
   },
   "outputs": [
    {
     "data": {
      "text/plain": [
       "[1, 2, 1, 2]"
      ]
     },
     "execution_count": 258,
     "metadata": {},
     "output_type": "execute_result"
    }
   ],
   "source": [
    "a.remove(3)\n",
    "a"
   ]
  },
  {
   "cell_type": "markdown",
   "id": "26f1674b",
   "metadata": {},
   "source": [
    "remove(3)을 한 번 더 실행하면 다시 3이 삭제된다."
   ]
  },
  {
   "cell_type": "markdown",
   "id": "c02481ff",
   "metadata": {},
   "source": [
    "### 리스트 요소 끄집어 내기 (pop)\n",
<<<<<<< HEAD
    "pop()은 **리스트의 맨 마지막 요소를 리턴하고 그 요소는 삭제**한다."
=======
    "pop()은 리스트의 맨 마지막 요소를 리턴하고 그 요소는 삭제한다."
>>>>>>> 9eaf12b150c4d635b867c546f83f2800cec2ffb1
   ]
  },
  {
   "cell_type": "code",
   "execution_count": 259,
   "id": "d26b34d0",
   "metadata": {
    "ExecuteTime": {
     "end_time": "2023-11-26T10:33:45.090671Z",
     "start_time": "2023-11-26T10:33:45.086606Z"
    }
   },
   "outputs": [
    {
     "data": {
      "text/plain": [
       "3"
      ]
     },
     "execution_count": 259,
     "metadata": {},
     "output_type": "execute_result"
    }
   ],
   "source": [
    "a=[1,2,3]\n",
    "a.pop()"
   ]
  },
  {
   "cell_type": "code",
   "execution_count": 260,
   "id": "a8b7fc55",
   "metadata": {
    "ExecuteTime": {
     "end_time": "2023-11-26T10:33:54.578927Z",
     "start_time": "2023-11-26T10:33:54.575415Z"
    }
   },
   "outputs": [
    {
     "data": {
      "text/plain": [
       "[1, 2]"
      ]
     },
     "execution_count": 260,
     "metadata": {},
     "output_type": "execute_result"
    }
   ],
   "source": [
    "a"
   ]
  },
  {
   "cell_type": "markdown",
   "id": "00ce5592",
   "metadata": {},
   "source": [
    "a 리스트를 다시 보면 [1, 2, 3]에서 3을 끄집어 내고 최종적으로 [1, 2]만 남는 것을 확인할 수 있다.   \n",
    "pop(x)는 리스트의 x번째 요소를 리턴하고 그 요소는 삭제한다."
   ]
  },
  {
   "cell_type": "code",
   "execution_count": 261,
   "id": "b3907326",
   "metadata": {
    "ExecuteTime": {
     "end_time": "2023-11-26T10:34:35.056839Z",
     "start_time": "2023-11-26T10:34:35.053239Z"
    }
   },
   "outputs": [
    {
     "data": {
      "text/plain": [
       "2"
      ]
     },
     "execution_count": 261,
     "metadata": {},
     "output_type": "execute_result"
    }
   ],
   "source": [
    "a=[1,2,3]\n",
    "a.pop(1)"
   ]
  },
  {
   "cell_type": "code",
   "execution_count": 262,
   "id": "7d4c414e",
   "metadata": {
    "ExecuteTime": {
     "end_time": "2023-11-26T10:34:37.377538Z",
     "start_time": "2023-11-26T10:34:37.373672Z"
    }
   },
   "outputs": [
    {
     "data": {
      "text/plain": [
       "[1, 3]"
      ]
     },
     "execution_count": 262,
     "metadata": {},
     "output_type": "execute_result"
    }
   ],
   "source": [
    "a"
   ]
  },
  {
   "cell_type": "markdown",
   "id": "6549f0a5",
   "metadata": {},
   "source": [
    "a.pop(1)은 a[1]의 값을 끄집어 내어 리턴한다.    \n",
    "다시 a를 출력해 보면 끄집어 낸 값이 삭제된 것을 확인할 수 있다."
   ]
  },
  {
   "cell_type": "markdown",
   "id": "2884e936",
   "metadata": {},
   "source": [
    "### 리스트에 포함된 요소 x의 개수 세기 (count)\n",
<<<<<<< HEAD
    "count(x)는 **리스트 안에 x가 몇 개 있는지 조사하여 그 개수를 리턴**하는 함수이다."
=======
    "count(x)는 리스트 안에 x가 몇 개 있는지 조사하여 그 개수를 리턴하는 함수이다."
>>>>>>> 9eaf12b150c4d635b867c546f83f2800cec2ffb1
   ]
  },
  {
   "cell_type": "code",
   "execution_count": 263,
   "id": "3569f814",
   "metadata": {
    "ExecuteTime": {
     "end_time": "2023-11-26T10:35:58.125553Z",
     "start_time": "2023-11-26T10:35:58.121787Z"
    }
   },
   "outputs": [
    {
     "data": {
      "text/plain": [
       "2"
      ]
     },
     "execution_count": 263,
     "metadata": {},
     "output_type": "execute_result"
    }
   ],
   "source": [
    "a=[1,2,3,1]\n",
    "a.count(1)"
   ]
  },
  {
   "cell_type": "markdown",
   "id": "9d9e0371",
   "metadata": {},
   "source": [
    "1이라는 값이 리스트 a에 2개 들어 있으므로 2를 리턴한다."
   ]
  },
  {
   "cell_type": "markdown",
   "id": "7342323d",
   "metadata": {},
   "source": [
    "### 리스트 확장 (extend)\n",
<<<<<<< HEAD
    "\n",
    "**extend(x)** 에서 **x에는 리스트만** 올 수 있으며 **원래의 a 리스트에 x 리스트를 더하게** 된다."
=======
    "extend(x)에서 x에는 리스트만 올 수 있으며 원래의 a 리스트에 x 리스트를 더하게 된다."
>>>>>>> 9eaf12b150c4d635b867c546f83f2800cec2ffb1
   ]
  },
  {
   "cell_type": "code",
   "execution_count": 265,
   "id": "47b879a5",
   "metadata": {
    "ExecuteTime": {
     "end_time": "2023-11-26T10:36:53.285344Z",
     "start_time": "2023-11-26T10:36:53.281225Z"
    }
   },
   "outputs": [
    {
     "data": {
      "text/plain": [
       "[1, 2, 3, 4, 5]"
      ]
     },
     "execution_count": 265,
     "metadata": {},
     "output_type": "execute_result"
    }
   ],
   "source": [
    "a=[1,2,3]\n",
    "a.extend([4,5])\n",
    "a"
   ]
  },
  {
   "cell_type": "code",
   "execution_count": 266,
   "id": "09ed02cf",
   "metadata": {
    "ExecuteTime": {
     "end_time": "2023-11-26T10:37:14.591822Z",
     "start_time": "2023-11-26T10:37:14.588236Z"
    }
   },
   "outputs": [
    {
     "data": {
      "text/plain": [
       "[1, 2, 3, 4, 5, 6, 7]"
      ]
     },
     "execution_count": 266,
     "metadata": {},
     "output_type": "execute_result"
    }
   ],
   "source": [
    "b=[6,7]\n",
    "a.extend(b)\n",
    "a"
   ]
  },
  {
   "cell_type": "code",
   "execution_count": 267,
   "id": "cc3f6942",
   "metadata": {
    "ExecuteTime": {
     "end_time": "2023-11-26T10:38:02.158486Z",
     "start_time": "2023-11-26T10:38:02.155175Z"
    }
   },
   "outputs": [
    {
     "data": {
      "text/plain": [
       "[1, 2, 3, 4, 5, 6, 7, 4, 5]"
      ]
     },
     "execution_count": 267,
     "metadata": {},
     "output_type": "execute_result"
    }
   ],
   "source": [
    "a += [4,5]\n",
    "a"
   ]
  },
  {
   "cell_type": "markdown",
   "id": "f66bb3be",
   "metadata": {},
   "source": [
    "a.extend([4, 5])는 a += [4, 5]와 동일하다.   \n",
    "a += [4, 5]는 a = a + [4, 5]와 동일한 표현식이다."
   ]
  },
  {
   "cell_type": "markdown",
   "id": "837cdf90",
   "metadata": {},
   "source": [
<<<<<<< HEAD
    "# 튜플 자료형"
   ]
  },
  {
   "cell_type": "markdown",
   "id": "83007e63",
   "metadata": {},
   "source": [
    "튜플(tuple)은 몇 가지 점을 제외하곤 리스트와 거의 비슷하며 리스트와 다른 점은 다음과 같다.\n",
    "\n",
    "- 리스트는 [], **튜플은 ()으로 둘러싼다.**\n",
    "- 리스트는 요솟값의 생성, 삭제, 수정이 가능하지만, **튜플은 요솟값을 바꿀 수 없다.**"
   ]
  },
  {
   "cell_type": "markdown",
   "id": "4a154027",
   "metadata": {},
   "source": [
=======
    "# 튜플 자료형\n",
    "\n",
>>>>>>> 9eaf12b150c4d635b867c546f83f2800cec2ffb1
    "튜플은 다음과 같이 여러 가지 모습으로 생성할 수 있다."
   ]
  },
  {
   "cell_type": "code",
<<<<<<< HEAD
   "execution_count": 12,
   "id": "dec152c0",
   "metadata": {
    "ExecuteTime": {
     "end_time": "2023-11-27T02:46:50.922871Z",
     "start_time": "2023-11-27T02:46:50.919138Z"
=======
   "execution_count": 269,
   "id": "dec152c0",
   "metadata": {
    "ExecuteTime": {
     "end_time": "2023-11-26T10:42:37.102413Z",
     "start_time": "2023-11-26T10:42:37.098751Z"
>>>>>>> 9eaf12b150c4d635b867c546f83f2800cec2ffb1
    }
   },
   "outputs": [
    {
     "name": "stdout",
     "output_type": "stream",
     "text": [
      "() (1,) (1, 2, 3) (1, 2, 3) ('a', 'b', ('ab', 'cd'))\n",
      "<class 'tuple'> <class 'tuple'> <class 'tuple'> <class 'tuple'> <class 'tuple'>\n"
     ]
    }
   ],
   "source": [
    "t1=()\n",
    "t2=(1,)\n",
    "t3=(1,2,3)\n",
    "t4=1,2,3\n",
    "t5=('a','b',('ab', 'cd'))\n",
    "\n",
    "print(t1, t2, t3, t4, t5)\n",
    "print(type(t1), type(t2), type(t3), type(t4), type(t5))"
   ]
  },
  {
<<<<<<< HEAD
   "cell_type": "markdown",
   "id": "fd52aaf0",
   "metadata": {},
   "source": [
    "모습은 리스트와 거의 비슷하지만, **튜플에서는 리스트와 다른 2가지 차이점**을 찾아볼 수 있다. \n",
    "- t2 = (1,)처럼 단지 1개의 요소만을 가질 때는 요소 뒤에 쉼표(,)를 반드시 붙여야 한다는 것\n",
    "- t4 = 1, 2, 3처럼 소괄호(())를 생략해도 된다\n",
    "\n",
    "얼핏 보면 튜플과 리스트는 비슷한 역할을 하지만, 프로그래밍을 할 때 튜플과 리스트는 구별해서 사용하는 것이 유리하다.   \n",
    "**튜플과 리스트의 가장 큰 차이는 요솟값을 변화시킬 수 있는지의 여부**이다.    \n",
    "즉, 리스트의 요솟값은 변화가 가능하고 튜플의 요솟값은 변화가 불가능하다.     \n",
    "\n",
    "따라서 프로그램이 실행되는 동안 요솟값이 항상 변하지 않기를 바란다거나 값이 바뀔까 걱정하고 싶지 않다면 주저하지 말고 튜플을 사용해야 한다. 이와 반대로 수시로 그 값을 변화시켜야할 경우라면 리스트를 사용해야 한다.     \n",
    "실제 프로그램에서는 값이 변경되는 형태의 변수가 훨씬 많기 때문에 평균적으로 튜플보다 리스트를 더 많이 사용한다."
   ]
  },
  {
   "cell_type": "markdown",
   "id": "6b8ece58",
   "metadata": {},
   "source": [
    "### 튜플 요솟값을 삭제하려 할 때"
   ]
  },
  {
   "cell_type": "code",
   "execution_count": null,
   "id": "1578040c",
   "metadata": {},
   "outputs": [],
   "source": []
  },
  {
   "cell_type": "code",
   "execution_count": null,
   "id": "4849fbca",
   "metadata": {},
   "outputs": [],
   "source": []
  },
  {
   "cell_type": "code",
   "execution_count": null,
   "id": "8f27bc65",
   "metadata": {},
   "outputs": [],
   "source": []
  },
  {
   "cell_type": "code",
   "execution_count": null,
   "id": "341a72a8",
   "metadata": {},
   "outputs": [],
   "source": []
  },
  {
   "cell_type": "code",
   "execution_count": null,
   "id": "c0a024f2",
   "metadata": {},
   "outputs": [],
   "source": []
  },
  {
   "cell_type": "code",
   "execution_count": null,
   "id": "03e6f7d4",
   "metadata": {},
   "outputs": [],
   "source": []
  },
  {
   "cell_type": "code",
   "execution_count": null,
   "id": "b485a1b5",
   "metadata": {},
   "outputs": [],
   "source": []
  },
  {
   "cell_type": "code",
   "execution_count": null,
   "id": "aa09b541",
   "metadata": {},
   "outputs": [],
   "source": []
  },
  {
=======
>>>>>>> 9eaf12b150c4d635b867c546f83f2800cec2ffb1
   "cell_type": "code",
   "execution_count": 270,
   "id": "a35a3286",
   "metadata": {
    "ExecuteTime": {
     "end_time": "2023-11-26T10:46:32.489145Z",
     "start_time": "2023-11-26T10:46:32.485710Z"
    }
   },
   "outputs": [
    {
     "data": {
      "text/plain": [
       "1"
      ]
     },
     "execution_count": 270,
     "metadata": {},
     "output_type": "execute_result"
    }
   ],
   "source": [
    "t6=(1)    #값을 가지고 객체를 만드는 것\n",
    "t6"
   ]
  },
  {
   "cell_type": "code",
   "execution_count": 271,
   "id": "1a0053ee",
   "metadata": {
    "ExecuteTime": {
     "end_time": "2023-11-26T10:47:04.340647Z",
     "start_time": "2023-11-26T10:47:04.337285Z"
    }
   },
   "outputs": [
    {
     "name": "stdout",
     "output_type": "stream",
     "text": [
      "1 <class 'int'>\n"
     ]
    }
   ],
   "source": [
    "print(t6, type(t6))"
   ]
  },
  {
   "cell_type": "markdown",
   "id": "a89ba744",
   "metadata": {},
   "source": [
    "모습은 리스트와 거의 비슷하지만, 튜플에서는 리스트와 다른 2가지 차이점을 찾아볼 수 있다.    \n",
    "\n",
    "`t2 = (1,)`처럼 **단지 1개의 요소만을 가질 때는 요소 뒤에 쉼표(,)를 반드시 붙여야 한다는 것**과   \n",
    "`t4 = 1, 2, 3`처럼 **소괄호(())를 생략해도 된다**는 점이다.   \n",
    "\n",
    "얼핏 보면 튜플과 리스트는 비슷한 역할을 하지만,    \n",
    "프로그래밍을 할 때 튜플과 리스트는 구별해서 사용하는 것이 유리하다.    \n",
    "\n",
    "**튜플과 리스트의 가장 큰 차이는 요솟값을 변화시킬 수 있는지의 여부**이다.    \n",
    "즉, 리스트의 요솟값은 변화가 가능하고 튜플의 요솟값은 변화가 불가능하다.    \n",
    "\n",
    "따라서 프로그램이 실행되는 동안 요솟값이 항상 변하지 않기를 바란다거나    \n",
    "**값이 바뀔까 걱정하고 싶지 않다면 주저하지 말고 튜플을 사용**해야 한다.    \n",
    "   \n",
    "이와 반대로 **수시로 그 값을 변화시켜야할 경우라면 리스트를 사용**해야 한다.   \n",
    "\n",
    "실제 프로그램에서는 값이 변경되는 형태의 변수가 훨씬 많기 때문에    \n",
    "평균적으로 튜플보다 리스트를 더 많이 사용한다."
   ]
  },
  {
   "cell_type": "markdown",
   "id": "1869d441",
   "metadata": {},
   "source": [
    "### 튜플 요솟값을 삭제하려 할 때"
   ]
  },
  {
   "cell_type": "code",
   "execution_count": 272,
   "id": "ee00be8a",
   "metadata": {
    "ExecuteTime": {
     "end_time": "2023-11-26T10:47:46.853061Z",
     "start_time": "2023-11-26T10:47:46.839425Z"
    }
   },
   "outputs": [
    {
     "ename": "TypeError",
     "evalue": "'tuple' object doesn't support item deletion",
     "output_type": "error",
     "traceback": [
      "\u001b[1;31m---------------------------------------------------------------------------\u001b[0m",
      "\u001b[1;31mTypeError\u001b[0m                                 Traceback (most recent call last)",
      "Cell \u001b[1;32mIn[272], line 2\u001b[0m\n\u001b[0;32m      1\u001b[0m t1\u001b[38;5;241m=\u001b[39m(\u001b[38;5;241m1\u001b[39m,\u001b[38;5;241m2\u001b[39m,\u001b[38;5;124m'\u001b[39m\u001b[38;5;124ma\u001b[39m\u001b[38;5;124m'\u001b[39m,\u001b[38;5;124m'\u001b[39m\u001b[38;5;124mb\u001b[39m\u001b[38;5;124m'\u001b[39m)\n\u001b[1;32m----> 2\u001b[0m \u001b[38;5;28;01mdel\u001b[39;00m t1[\u001b[38;5;241m0\u001b[39m]\n",
      "\u001b[1;31mTypeError\u001b[0m: 'tuple' object doesn't support item deletion"
     ]
    }
   ],
   "source": [
    "t1=(1,2,'a','b')\n",
    "del t1[0]"
   ]
  },
  {
   "cell_type": "markdown",
   "id": "7e143b2f",
   "metadata": {},
   "source": [
    "튜플의 요소를 리스트처럼 del 함수로 지우려고 한 예이다.    \n",
    "튜플은 요솟값을 지울 수 없다는 오류 메시지를 확인할 수 있다."
   ]
  },
  {
   "cell_type": "markdown",
   "id": "ce9f1bc5",
   "metadata": {},
   "source": [
    "### 튜플 요솟값을 변경하려 할 때"
   ]
  },
  {
<<<<<<< HEAD
=======
   "cell_type": "code",
   "execution_count": 273,
   "id": "4919b8f0",
   "metadata": {
    "ExecuteTime": {
     "end_time": "2023-11-26T10:48:26.058174Z",
     "start_time": "2023-11-26T10:48:26.045068Z"
    }
   },
   "outputs": [
    {
     "ename": "TypeError",
     "evalue": "'tuple' object does not support item assignment",
     "output_type": "error",
     "traceback": [
      "\u001b[1;31m---------------------------------------------------------------------------\u001b[0m",
      "\u001b[1;31mTypeError\u001b[0m                                 Traceback (most recent call last)",
      "Cell \u001b[1;32mIn[273], line 2\u001b[0m\n\u001b[0;32m      1\u001b[0m t1\u001b[38;5;241m=\u001b[39m(\u001b[38;5;241m1\u001b[39m,\u001b[38;5;241m2\u001b[39m,\u001b[38;5;124m'\u001b[39m\u001b[38;5;124ma\u001b[39m\u001b[38;5;124m'\u001b[39m,\u001b[38;5;124m'\u001b[39m\u001b[38;5;124mb\u001b[39m\u001b[38;5;124m'\u001b[39m)\n\u001b[1;32m----> 2\u001b[0m t1[\u001b[38;5;241m0\u001b[39m]\u001b[38;5;241m=\u001b[39m\u001b[38;5;124m'\u001b[39m\u001b[38;5;124mc\u001b[39m\u001b[38;5;124m'\u001b[39m\n",
      "\u001b[1;31mTypeError\u001b[0m: 'tuple' object does not support item assignment"
     ]
    }
   ],
   "source": [
    "t1=(1,2,'a','b')\n",
    "t1[0]='c'"
   ]
  },
  {
>>>>>>> 9eaf12b150c4d635b867c546f83f2800cec2ffb1
   "cell_type": "markdown",
   "id": "1fbe0354",
   "metadata": {},
   "source": [
    "튜플의 요솟값을 변경하려고 해도 오류가 발생하는 것을 확인할 수 있다."
   ]
  },
  {
   "cell_type": "code",
   "execution_count": null,
   "id": "435a0d83",
   "metadata": {},
   "outputs": [],
   "source": []
  },
  {
   "cell_type": "code",
   "execution_count": null,
<<<<<<< HEAD
   "id": "05a6c7d4",
   "metadata": {},
   "outputs": [],
   "source": []
  },
  {
   "cell_type": "code",
   "execution_count": null,
   "id": "cf806d01",
   "metadata": {},
   "outputs": [],
   "source": []
  },
  {
   "cell_type": "code",
   "execution_count": null,
   "id": "0f4c4cca",
   "metadata": {},
   "outputs": [],
   "source": []
  },
  {
   "cell_type": "code",
   "execution_count": null,
   "id": "b3b3247f",
   "metadata": {},
   "outputs": [],
   "source": []
  },
  {
   "cell_type": "code",
   "execution_count": null,
   "id": "81922569",
   "metadata": {},
   "outputs": [],
   "source": []
  },
  {
   "cell_type": "code",
   "execution_count": null,
   "id": "90bf1edb",
   "metadata": {},
   "outputs": [],
   "source": []
  },
  {
   "cell_type": "markdown",
   "id": "e338300f",
   "metadata": {},
   "source": [
    "# 딕셔너리 자료형 (Mapping type)"
   ]
  },
  {
   "cell_type": "markdown",
   "id": "182d5803",
   "metadata": {},
   "source": [
    "사람은 누구든지 \"이름\" = \"홍길동\", \"생일\" = \"몇 월 며칠\" 등과 같은 방식으로 그 사람이 가진 정보를 나타낼 수 있다. 파이썬은 **이러한 대응 관계를 나타낼 수 있는 딕셔너리(dictionary) 자료형**을 가지고 있다.    \n",
    "요즘 사용하는 대부분의 언어도 이러한 대응 관계를 나타내는 자료형을 가지고 있는데 이를 딕셔너리라고 하고, ‘연관 배열(associative array)’또는 ‘해시(hash)’라고도 한다.   "
   ]
  },
  {
   "cell_type": "markdown",
   "id": "c8ced0c4",
   "metadata": {},
   "source": [
    "**[딕셔너리란?]**\n",
    "\n",
    "딕셔너리는 단어 그대로 ‘사전’이라는 뜻이다. 즉 \"people\"이라는 단어에 \"사람\", \"baseball\"이라는 단어에 \"야구\"라는 뜻이 부합되듯이 딕셔너리는 Key와 Value를 한 쌍으로 가지는 자료형이다. 예컨대 Key가 \"baseball\"이라면 Value는 \"야구\"가 될 것이다.    \n",
    "딕셔너리는 리스트나 튜플처럼 순차적으로(sequential) 해당 요솟값을 구하지 않고 **Key를 통해 Value를 얻는다.** \n",
    "baseball이라는 단어의 뜻을 찾기 위해 사전의 내용을 순차적으로 모두 검색하는 것이 아니라 **baseball이라는 단어가 있는 곳만 펼쳐 보는 것**이다."
   ]
  },
  {
   "cell_type": "markdown",
   "id": "d3ae936a",
   "metadata": {
    "ExecuteTime": {
     "end_time": "2023-11-27T09:50:25.788681Z",
     "start_time": "2023-11-27T09:50:25.774469Z"
    }
   },
   "source": [
    "### 딕셔너리의 기본 모습\n",
    "\n",
    "{key1: Value1, key2: Value2, key3: Value3}"
   ]
  },
  {
   "cell_type": "code",
   "execution_count": 6,
   "id": "c9911f91",
   "metadata": {
    "ExecuteTime": {
     "end_time": "2023-11-27T09:52:34.997038Z",
     "start_time": "2023-11-27T09:52:34.994259Z"
    }
   },
   "outputs": [],
   "source": [
    "dic = {'name': 'pey', 'phone': '010-9999-1234', 'birth':'1118'}"
   ]
  },
  {
   "cell_type": "markdown",
   "id": "244f5be5",
   "metadata": {},
   "source": [
    "위에서 Key는 각각 'name', 'phone', 'birth',   \n",
    "각각의 Key에 해당하는 Value는 'pey', '010-9999-1234', '1118'이 된다.\n",
    "\n",
    "|key|value|\n",
    "|:--:|:--:|\n",
    "|name|pey|\n",
    "|phone|010-9999-1234|\n",
    "|birth|1118|"
   ]
  },
  {
   "cell_type": "markdown",
   "id": "37a7924b",
   "metadata": {},
   "source": [
    "다음은 Key로 정숫값 1, Value로 문자열 'hi'를 사용한 예이다."
   ]
  },
  {
   "cell_type": "code",
   "execution_count": 18,
   "id": "5c79b7fc",
   "metadata": {
    "ExecuteTime": {
     "end_time": "2023-11-27T10:23:20.366788Z",
     "start_time": "2023-11-27T10:23:20.364323Z"
    }
   },
   "outputs": [],
   "source": [
    "a={1:'hi'}"
   ]
  },
  {
   "cell_type": "markdown",
   "id": "ab2ad76c",
   "metadata": {},
   "source": [
    "다음 예처럼 Value에 리스트도 넣을 수 있다."
   ]
  },
  {
   "cell_type": "code",
   "execution_count": 19,
   "id": "f57d37b8",
   "metadata": {
    "ExecuteTime": {
     "end_time": "2023-11-27T10:23:23.055775Z",
     "start_time": "2023-11-27T10:23:23.052755Z"
    }
   },
   "outputs": [],
   "source": [
    "a={'a': [1,2,3]}"
   ]
  },
  {
   "cell_type": "markdown",
   "id": "ad8cc4d2",
   "metadata": {},
   "source": [
    "### 딕셔너리 쌍 추가하기"
   ]
  },
  {
   "cell_type": "code",
   "execution_count": 13,
   "id": "8d5eff1f",
   "metadata": {
    "ExecuteTime": {
     "end_time": "2023-11-27T10:22:16.909262Z",
     "start_time": "2023-11-27T10:22:16.904887Z"
    }
   },
   "outputs": [
    {
     "data": {
      "text/plain": [
       "{1: 'a', 2: 'b'}"
      ]
     },
     "execution_count": 13,
     "metadata": {},
     "output_type": "execute_result"
    }
   ],
   "source": [
    "#{1: 'a'} 딕셔너리에 a[2] = 'b'와 같이 입력하면 딕셔너리 a에 Key와 Value가 각각 2와 'b'인 {2: 'b'} 딕셔너리 쌍이 추가된다.\n",
    "\n",
    "a = {1:'a'}\n",
    "a[2]='b'\n",
    "a"
   ]
  },
  {
   "cell_type": "code",
   "execution_count": 12,
   "id": "4e3918ff",
   "metadata": {
    "ExecuteTime": {
     "end_time": "2023-11-27T10:21:56.604397Z",
     "start_time": "2023-11-27T10:21:56.600263Z"
    }
   },
   "outputs": [
    {
     "data": {
      "text/plain": [
       "{1: 'a', 2: 'b', 'name': 'pey'}"
      ]
     },
     "execution_count": 12,
     "metadata": {},
     "output_type": "execute_result"
    }
   ],
   "source": [
    "#딕셔너리 a에 {'name': 'pey'} 쌍이 추가되었다.\n",
    "\n",
    "a['name'] = 'pey'\n",
    "a"
   ]
  },
  {
   "cell_type": "code",
   "execution_count": 15,
   "id": "96ff79c7",
   "metadata": {
    "ExecuteTime": {
     "end_time": "2023-11-27T10:23:00.445849Z",
     "start_time": "2023-11-27T10:23:00.442154Z"
    }
   },
   "outputs": [
    {
     "data": {
      "text/plain": [
       "{1: 'a', 2: 'b', 3: [1, 2, 3]}"
      ]
     },
     "execution_count": 15,
     "metadata": {},
     "output_type": "execute_result"
    }
   ],
   "source": [
    "#Key는 3, Value는 [1, 2, 3]을 가지는 한 쌍이 또 추가되었다.\n",
    "\n",
    "a[3] = [1,2,3]\n",
    "a"
   ]
  },
  {
   "cell_type": "markdown",
   "id": "86a15324",
   "metadata": {},
   "source": [
    "### 딕셔너리 요소 삭제하기"
   ]
  },
  {
   "cell_type": "code",
   "execution_count": 27,
   "id": "7da7123e",
   "metadata": {
    "ExecuteTime": {
     "end_time": "2023-11-27T10:25:55.798363Z",
     "start_time": "2023-11-27T10:25:55.786099Z"
    },
    "scrolled": true
   },
   "outputs": [
    {
     "ename": "KeyError",
     "evalue": "1",
     "output_type": "error",
     "traceback": [
      "\u001b[1;31m---------------------------------------------------------------------------\u001b[0m",
      "\u001b[1;31mKeyError\u001b[0m                                  Traceback (most recent call last)",
      "Cell \u001b[1;32mIn[27], line 3\u001b[0m\n\u001b[0;32m      1\u001b[0m \u001b[38;5;66;03m#del 함수를 사용해서 del a[key]를 입력하면 지정한 Key에 해당하는 {Key: Value} 쌍이 삭제된다.\u001b[39;00m\n\u001b[1;32m----> 3\u001b[0m \u001b[38;5;28;01mdel\u001b[39;00m a[\u001b[38;5;241m1\u001b[39m]\n\u001b[0;32m      4\u001b[0m a\n",
      "\u001b[1;31mKeyError\u001b[0m: 1"
     ]
    }
   ],
   "source": [
    "#del 함수를 사용해서 del a[key]를 입력하면 지정한 Key에 해당하는 {Key: Value} 쌍이 삭제된다.\n",
    "\n",
    "del a[1]\n",
    "a"
   ]
  },
  {
   "cell_type": "markdown",
   "id": "22cb932d",
   "metadata": {},
   "source": [
    "### 딕셔너리를 사용하는 방법"
   ]
  },
  {
   "cell_type": "code",
   "execution_count": null,
   "id": "9725c73d",
   "metadata": {},
   "outputs": [],
   "source": []
  },
  {
   "cell_type": "code",
   "execution_count": null,
   "id": "2f89e7a7",
   "metadata": {},
   "outputs": [],
   "source": []
  },
  {
   "cell_type": "code",
   "execution_count": null,
   "id": "f190b1de",
   "metadata": {},
   "outputs": [],
   "source": []
  },
  {
   "cell_type": "code",
   "execution_count": null,
   "id": "6a8c821f",
   "metadata": {},
   "outputs": [],
   "source": []
  },
  {
   "cell_type": "code",
   "execution_count": null,
   "id": "6d181d0f",
   "metadata": {},
   "outputs": [],
   "source": []
  },
  {
   "cell_type": "markdown",
   "id": "b5805bd0",
   "metadata": {},
   "source": [
    "# 집합 자료형 (Set Type)"
   ]
  },
  {
   "cell_type": "markdown",
   "id": "cf7a5e15",
   "metadata": {},
   "source": [
    "집합 자료형은 다음과 같이 set 키워드를 사용해 만들 수 있다."
   ]
  },
  {
   "cell_type": "code",
   "execution_count": 3,
   "id": "14cb6ca7",
   "metadata": {
    "ExecuteTime": {
     "end_time": "2023-11-27T01:43:39.554459Z",
     "start_time": "2023-11-27T01:43:39.550978Z"
    }
   },
   "outputs": [
    {
     "data": {
      "text/plain": [
       "{1, 2, 3}"
      ]
     },
     "execution_count": 3,
     "metadata": {},
     "output_type": "execute_result"
    }
   ],
   "source": [
    "s1 = set([1,2,3])\n",
    "s1"
   ]
  },
  {
   "cell_type": "markdown",
   "id": "fad55e01",
   "metadata": {},
   "source": [
    "위와 같이 set()의 괄호 안에 리스트를 입력하여 만들거나 다음과 같이 문자열을 입력하여 만들 수도 있다."
   ]
  },
  {
   "cell_type": "code",
   "execution_count": 4,
   "id": "afad6bd1",
   "metadata": {
    "ExecuteTime": {
     "end_time": "2023-11-27T01:44:04.333844Z",
     "start_time": "2023-11-27T01:44:04.330104Z"
    }
   },
   "outputs": [
    {
     "data": {
      "text/plain": [
       "{'H', 'e', 'l', 'o'}"
      ]
     },
     "execution_count": 4,
     "metadata": {},
     "output_type": "execute_result"
    }
   ],
   "source": [
    "s2 = set(\"Hello\")\n",
    "s2"
   ]
  },
  {
   "cell_type": "markdown",
   "id": "52610a3b",
   "metadata": {},
   "source": [
    "비어 있는 집합 자료형은 s = set()로 만들 수 있다."
   ]
  },
  {
   "cell_type": "markdown",
   "id": "9053bd1e",
   "metadata": {},
   "source": [
    "### 집합 자료형의 특징\n",
    "\n",
    "그런데 위에서 살펴본 set(\"Hello\")의 결과가 좀 이상하지 않은가? 분명 \"Hello\" 문자열로 set 자료형을 만들었는데 생성된 자료형에는 l 문자가 하나 빠져 있고 순서도 뒤죽박죽이다. 그 이유는 set에 다음과 같은 2가지 특징이 있기 때문이다.   \n",
    "\n",
    "- 중복을 허용하지 않는다.   \n",
    "- 순서가 없다(Unordered).   \n",
    "> set은 중복을 허용하지 않는 특징 때문에 데이터의 중복을 제거하기 위한 필터로 종종 사용된다.   \n",
    "\n",
    "리스트나 튜플은 순서가 있기(ordered) 때문에 인덱싱을 통해 요솟값을 얻을 수 있지만, set 자료형은 순서가 없기(unordered) 때문에 인덱싱을 통해 요솟값을 얻을 수 없다.    \n",
    "이는 마치 02-5에서 살펴본 딕셔너리와 비슷하다. 딕셔너리 역시 순서가 없는 자료형이므로 인덱싱을 지원하지 않는다.   \n",
    "만약 set 자료형에 저장된 값을 인덱싱으로 접근하려면 다음과 같이 리스트나 튜플로 변환한 후에 해야 한다."
   ]
  },
  {
   "cell_type": "code",
   "execution_count": null,
   "id": "eed8435e",
   "metadata": {},
   "outputs": [],
   "source": []
  },
  {
   "cell_type": "code",
   "execution_count": null,
   "id": "13f81340",
   "metadata": {},
   "outputs": [],
   "source": []
  },
  {
   "cell_type": "code",
   "execution_count": null,
   "id": "b70a8b80",
   "metadata": {},
   "outputs": [],
   "source": []
  },
  {
   "cell_type": "code",
   "execution_count": null,
   "id": "d6677a99",
   "metadata": {},
   "outputs": [],
   "source": []
  },
  {
   "cell_type": "code",
   "execution_count": null,
   "id": "d8ec61c1",
   "metadata": {},
   "outputs": [],
   "source": []
  },
  {
   "cell_type": "markdown",
   "id": "c7cbbeab",
   "metadata": {},
   "source": [
    "# 불 자료형 (True, False, bool)"
   ]
  },
  {
   "cell_type": "code",
   "execution_count": null,
   "id": "35bbab54",
   "metadata": {},
   "outputs": [],
   "source": []
  },
  {
   "cell_type": "code",
   "execution_count": null,
   "id": "7e446c2b",
   "metadata": {},
   "outputs": [],
   "source": []
  },
  {
   "cell_type": "code",
   "execution_count": null,
   "id": "d556bb30",
   "metadata": {},
   "outputs": [],
   "source": []
  },
  {
   "cell_type": "code",
   "execution_count": null,
   "id": "2d376576",
   "metadata": {},
   "outputs": [],
   "source": []
  },
  {
   "cell_type": "code",
   "execution_count": null,
   "id": "d20d09da",
   "metadata": {},
   "outputs": [],
   "source": []
  },
  {
   "cell_type": "code",
   "execution_count": null,
   "id": "2cd8833f",
   "metadata": {},
   "outputs": [],
   "source": []
  },
  {
   "cell_type": "code",
   "execution_count": null,
   "id": "f1d96ad4",
   "metadata": {},
   "outputs": [],
   "source": []
  },
  {
   "cell_type": "code",
   "execution_count": null,
   "id": "e1757cfa",
   "metadata": {},
   "outputs": [],
   "source": []
  },
  {
   "cell_type": "code",
   "execution_count": null,
   "id": "3dd6d218",
   "metadata": {},
   "outputs": [],
   "source": []
  },
  {
   "cell_type": "code",
   "execution_count": null,
   "id": "b500e1c8",
   "metadata": {},
   "outputs": [],
   "source": []
  },
  {
   "cell_type": "code",
   "execution_count": null,
   "id": "f78c83f3",
   "metadata": {},
   "outputs": [],
   "source": []
  },
  {
   "cell_type": "code",
   "execution_count": null,
   "id": "a4126ce8",
   "metadata": {},
   "outputs": [],
   "source": []
  },
  {
   "cell_type": "code",
   "execution_count": 5,
   "id": "73dec66a",
   "metadata": {
    "ExecuteTime": {
     "end_time": "2023-11-27T02:14:08.913150Z",
     "start_time": "2023-11-27T02:14:08.909335Z"
    }
   },
   "outputs": [
    {
     "name": "stdout",
     "output_type": "stream",
     "text": [
      "4\n",
      "3\n",
      "2\n",
      "1\n"
     ]
    }
   ],
   "source": [
    "a=[1,2,3,4]\n",
    "while a:\n",
    "    print(a.pop())"
   ]
  },
  {
   "cell_type": "code",
   "execution_count": 9,
   "id": "37ab6920",
   "metadata": {
    "ExecuteTime": {
     "end_time": "2023-11-27T02:19:05.851797Z",
     "start_time": "2023-11-27T02:19:05.848192Z"
    }
   },
   "outputs": [
    {
     "name": "stdout",
     "output_type": "stream",
     "text": [
      "거짓\n"
     ]
    }
   ],
   "source": [
    "if []:\n",
    "   print(\"참\")\n",
    "else:\n",
    "   print(\"거짓\")"
   ]
  },
  {
   "cell_type": "code",
   "execution_count": null,
   "id": "1b035abe",
   "metadata": {},
   "outputs": [],
   "source": []
  },
  {
   "cell_type": "code",
   "execution_count": null,
   "id": "bbf0de5d",
   "metadata": {},
   "outputs": [],
   "source": []
  },
  {
   "cell_type": "code",
   "execution_count": null,
   "id": "c7cfee10",
   "metadata": {},
   "outputs": [],
   "source": []
  },
  {
   "cell_type": "code",
   "execution_count": null,
   "id": "63fd85c2",
   "metadata": {},
   "outputs": [],
   "source": []
  },
  {
   "cell_type": "code",
   "execution_count": null,
   "id": "49328dcb",
   "metadata": {},
   "outputs": [],
   "source": []
  },
  {
   "cell_type": "code",
   "execution_count": null,
   "id": "5c941cfa",
   "metadata": {},
   "outputs": [],
   "source": []
  },
  {
   "cell_type": "code",
   "execution_count": null,
   "id": "6f6a3d8e",
   "metadata": {},
   "outputs": [],
   "source": []
  },
  {
   "cell_type": "code",
   "execution_count": null,
   "id": "ffddc8c5",
   "metadata": {},
   "outputs": [],
   "source": []
  },
  {
   "cell_type": "code",
   "execution_count": null,
=======
>>>>>>> 9eaf12b150c4d635b867c546f83f2800cec2ffb1
   "id": "a06ee1a0",
   "metadata": {},
   "outputs": [],
   "source": []
  },
  {
   "cell_type": "code",
   "execution_count": null,
   "id": "c3f8f33f",
   "metadata": {},
   "outputs": [],
   "source": []
  },
  {
   "cell_type": "code",
   "execution_count": null,
   "id": "d74bd021",
   "metadata": {},
   "outputs": [],
   "source": []
  },
  {
   "cell_type": "code",
   "execution_count": null,
   "id": "2b250e52",
   "metadata": {},
   "outputs": [],
   "source": []
  },
  {
<<<<<<< HEAD
   "cell_type": "markdown",
   "id": "76d97c85",
   "metadata": {},
   "source": [
    "# 자료형의 값을 저장하는 공간, 변수"
   ]
  },
  {
   "cell_type": "code",
   "execution_count": null,
   "id": "2aef54e0",
   "metadata": {},
   "outputs": [],
   "source": []
  },
  {
   "cell_type": "code",
   "execution_count": 11,
   "id": "38d62ae9",
   "metadata": {
    "ExecuteTime": {
     "end_time": "2023-11-27T02:30:34.574957Z",
     "start_time": "2023-11-27T02:30:34.570422Z"
    }
   },
   "outputs": [
    {
     "data": {
      "text/plain": [
       "[1, 4, 3]"
      ]
     },
     "execution_count": 11,
     "metadata": {},
     "output_type": "execute_result"
    }
   ],
   "source": [
    "a=[1,2,3]\n",
    "b=a[:]\n",
    "a[1]=4\n",
    "a"
   ]
  },
  {
   "cell_type": "code",
   "execution_count": null,
   "id": "fe6e915c",
   "metadata": {},
   "outputs": [],
   "source": []
  },
  {
   "cell_type": "code",
   "execution_count": null,
   "id": "699b6b9f",
   "metadata": {},
   "outputs": [],
   "source": []
  },
  {
   "cell_type": "code",
   "execution_count": null,
   "id": "7183f397",
   "metadata": {},
   "outputs": [],
   "source": []
  },
  {
   "cell_type": "code",
   "execution_count": null,
   "id": "8d5c9534",
   "metadata": {},
   "outputs": [],
   "source": []
  },
  {
   "cell_type": "code",
   "execution_count": null,
   "id": "68a7122e",
   "metadata": {},
   "outputs": [],
   "source": []
  },
  {
   "cell_type": "code",
   "execution_count": null,
   "id": "01ad43b9",
   "metadata": {},
   "outputs": [],
   "source": []
  },
  {
   "cell_type": "code",
   "execution_count": null,
   "id": "8c0b7147",
   "metadata": {},
   "outputs": [],
   "source": []
  },
  {
   "cell_type": "code",
   "execution_count": null,
   "id": "2082b297",
   "metadata": {},
   "outputs": [],
   "source": []
  },
  {
   "cell_type": "code",
   "execution_count": null,
   "id": "1db4bcfb",
   "metadata": {},
   "outputs": [],
   "source": []
  },
  {
   "cell_type": "code",
   "execution_count": null,
   "id": "ff99f336",
   "metadata": {},
   "outputs": [],
   "source": []
  },
  {
   "cell_type": "code",
   "execution_count": null,
   "id": "7dd82725",
   "metadata": {},
   "outputs": [],
   "source": []
  },
  {
   "cell_type": "code",
   "execution_count": null,
   "id": "559e8590",
   "metadata": {},
   "outputs": [],
   "source": []
  },
  {
   "cell_type": "code",
   "execution_count": null,
   "id": "9b5397fc",
   "metadata": {},
   "outputs": [],
   "source": []
  },
  {
   "cell_type": "code",
   "execution_count": null,
   "id": "c6de723d",
   "metadata": {},
   "outputs": [],
   "source": []
  },
  {
   "cell_type": "code",
   "execution_count": null,
   "id": "c3db0c3e",
   "metadata": {},
   "outputs": [],
   "source": []
  },
  {
   "cell_type": "code",
   "execution_count": null,
   "id": "218b24a6",
=======
   "cell_type": "code",
   "execution_count": null,
   "id": "02dd0750",
>>>>>>> 9eaf12b150c4d635b867c546f83f2800cec2ffb1
   "metadata": {},
   "outputs": [],
   "source": []
  }
 ],
 "metadata": {
  "kernelspec": {
   "display_name": "Python 3 (ipykernel)",
   "language": "python",
   "name": "python3"
  },
  "language_info": {
   "codemirror_mode": {
    "name": "ipython",
    "version": 3
   },
   "file_extension": ".py",
   "mimetype": "text/x-python",
   "name": "python",
   "nbconvert_exporter": "python",
   "pygments_lexer": "ipython3",
   "version": "3.11.5"
  },
  "toc": {
   "base_numbering": 1,
   "nav_menu": {},
   "number_sections": true,
   "sideBar": true,
   "skip_h1_title": false,
   "title_cell": "Table of Contents",
   "title_sidebar": "Contents",
   "toc_cell": false,
   "toc_position": {
    "height": "calc(100% - 180px)",
    "left": "10px",
    "top": "150px",
    "width": "165px"
   },
   "toc_section_display": true,
   "toc_window_display": false
  }
 },
 "nbformat": 4,
 "nbformat_minor": 5
}

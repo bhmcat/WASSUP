{
 "cells": [
  {
   "cell_type": "markdown",
   "id": "d920ce82",
   "metadata": {},
   "source": [
    "# 내장 함수\n",
    "지금까지 파이썬으로 프로그래밍하기 위해 알아야 하는 것들을 대부분 공부했다.   \n",
    "이제 여러분은 원하는 프로그램을 직접 만들 수 있을 것이다.   \n",
    "하지만 그 전에 먼저 여러분이 만들려는 프로그램이 이미 만들어져 있는지 살펴보기 바란다.\n",
    "\n",
    "물론 공부를 위해서라면 누군가 만들어 놓은 프로그램을 또 만들 수도 있다.   \n",
    "하지만 그런 목적이 아니라면 이미 만들어진 것을 다시 만드는 것은 불필요한 행동이다.   \n",
    "그리고 이미 만들어진 프로그램은 테스트 과정을 수없이 거쳤기 때문에 충분히 검증되어 있다.   \n",
    "따라서 무엇인가 새로운 프로그램을 만들기 전에는 이미 만들어진 것들, 그중에서도 특히 파이썬 배포본에 함께 들어 있는 파이썬 라이브러리를 살펴보는 것이 매우 중요하다.\n",
    "\n",
    "<img src=\"https://wikidocs.net/images/page/32/05_5_reinvent_wheel.png\"></img>\n",
    "\n",
    "라이브러리를 살펴보기 전에 파이썬 내장(built-in) 함수를 먼저 살펴보자.   \n",
    "우리는 이미 몇 가지 내장 함수를 배웠다. print, del, type 등이 바로 그것이다.   \n",
    "이러한 파이썬 내장 함수는 파이썬 모듈과 달리 import가 필요하지 않기 때문에 아무런 설정 없이 바로 사용할 수 있다.\n",
    "\n",
    "이 책에서는 활용 빈도가 높고 중요한 함수를 중심으로 알파벳 순서대로 간략히 정리했다.   \n",
    "파이썬으로 프로그래밍을 하기 위해 이들 함수를 지금 당장 모두 알아야 하는 것은 아니므로 가벼운 마음으로 천천히 살펴보자."
   ]
  },
  {
   "cell_type": "markdown",
   "id": "5305d691",
   "metadata": {},
   "source": [
    "## abs\n",
    "abs(x)는 어떤 숫자를 입력받았을 때 그 숫자의 절댓값을 리턴하는 함수이다."
   ]
  },
  {
   "cell_type": "code",
   "execution_count": 1,
   "id": "ae104f71",
   "metadata": {
    "ExecuteTime": {
     "end_time": "2023-12-05T05:18:39.921006Z",
     "start_time": "2023-12-05T05:18:39.903139Z"
    }
   },
   "outputs": [
    {
     "data": {
      "text/plain": [
       "3"
      ]
     },
     "execution_count": 1,
     "metadata": {},
     "output_type": "execute_result"
    }
   ],
   "source": [
    "abs(3)"
   ]
  },
  {
   "cell_type": "code",
   "execution_count": 2,
   "id": "c7285057",
   "metadata": {
    "ExecuteTime": {
     "end_time": "2023-12-05T05:18:41.508271Z",
     "start_time": "2023-12-05T05:18:41.503634Z"
    }
   },
   "outputs": [
    {
     "data": {
      "text/plain": [
       "3"
      ]
     },
     "execution_count": 2,
     "metadata": {},
     "output_type": "execute_result"
    }
   ],
   "source": [
    "abs(-3)"
   ]
  },
  {
   "cell_type": "code",
   "execution_count": 3,
   "id": "003f4115",
   "metadata": {
    "ExecuteTime": {
     "end_time": "2023-12-05T05:18:43.285851Z",
     "start_time": "2023-12-05T05:18:43.276681Z"
    }
   },
   "outputs": [
    {
     "data": {
      "text/plain": [
       "1.2"
      ]
     },
     "execution_count": 3,
     "metadata": {},
     "output_type": "execute_result"
    }
   ],
   "source": [
    "abs(-1.2)"
   ]
  },
  {
   "cell_type": "markdown",
   "id": "9dda6d39",
   "metadata": {},
   "source": [
    "## all\n",
    "all(x)는 반복 가능한 데이터 x를 입력값으로 받으며 이 x의 요소가 모두 참이면 True, 거짓이 하나라도 있으면 False를 리턴한다.\n",
    "\n",
    "반복 가능한 데이터란 for 문에서 사용할 수 있는 자료형을 의미한다. 리스트, 튜플, 문자열, 딕셔너리, 집합 등이 있다.\n",
    "\n",
    "다음 예를 살펴보자."
   ]
  },
  {
   "cell_type": "code",
   "execution_count": 4,
   "id": "75cdc4b3",
   "metadata": {
    "ExecuteTime": {
     "end_time": "2023-12-05T05:19:22.076708Z",
     "start_time": "2023-12-05T05:19:22.071781Z"
    }
   },
   "outputs": [
    {
     "data": {
      "text/plain": [
       "True"
      ]
     },
     "execution_count": 4,
     "metadata": {},
     "output_type": "execute_result"
    }
   ],
   "source": [
    "# 리스트 [1, 2, 3]은 모든 요소가 참이므로 True를 리턴한다.\n",
    "all([1, 2, 3])"
   ]
  },
  {
   "cell_type": "code",
   "execution_count": 84,
   "id": "e1f9fc16",
   "metadata": {
    "ExecuteTime": {
     "end_time": "2023-10-12T08:52:12.525929Z",
     "start_time": "2023-10-12T08:52:12.521751Z"
    }
   },
   "outputs": [
    {
     "data": {
      "text/plain": [
       "False"
      ]
     },
     "execution_count": 84,
     "metadata": {},
     "output_type": "execute_result"
    }
   ],
   "source": [
    "# 리스트 [1, 2, 3, 0] 중에서 요소 0은 거짓이므로 False를 리턴한다.\n",
    "all([1, 2, 3, 0])"
   ]
  },
  {
   "cell_type": "code",
   "execution_count": 85,
   "id": "4d1f2492",
   "metadata": {
    "ExecuteTime": {
     "end_time": "2023-10-12T08:52:22.133994Z",
     "start_time": "2023-10-12T08:52:22.129800Z"
    }
   },
   "outputs": [
    {
     "data": {
      "text/plain": [
       "True"
      ]
     },
     "execution_count": 85,
     "metadata": {},
     "output_type": "execute_result"
    }
   ],
   "source": [
    "all([1, 2, 3, -3])"
   ]
  },
  {
   "cell_type": "code",
   "execution_count": 5,
   "id": "376cf441",
   "metadata": {
    "ExecuteTime": {
     "end_time": "2023-12-05T05:19:42.312922Z",
     "start_time": "2023-12-05T05:19:42.304944Z"
    },
    "scrolled": true
   },
   "outputs": [
    {
     "data": {
      "text/plain": [
       "True"
      ]
     },
     "execution_count": 5,
     "metadata": {},
     "output_type": "execute_result"
    }
   ],
   "source": [
    "# 만약 all의 입력 인수가 빈 값인 경우에는 True를 리턴한다.\n",
    "all([])"
   ]
  },
  {
   "cell_type": "markdown",
   "id": "199d7f59",
   "metadata": {},
   "source": [
    "## any\n",
    "any(x)는 반복 가능한 데이터 x를 입력으로 받아 x의 요소 중 하나라도 참이 있으면 True를 리턴하고 x가 모두 거짓일 때만 False를 리턴한다.   \n",
    "즉, all(x)의 반대로 작동한다.\n",
    "\n",
    "다음 예를 살펴보자."
   ]
  },
  {
   "cell_type": "code",
   "execution_count": 6,
   "id": "6e556a42",
   "metadata": {
    "ExecuteTime": {
     "end_time": "2023-12-05T05:20:10.486068Z",
     "start_time": "2023-12-05T05:20:10.475346Z"
    }
   },
   "outputs": [
    {
     "data": {
      "text/plain": [
       "True"
      ]
     },
     "execution_count": 6,
     "metadata": {},
     "output_type": "execute_result"
    }
   ],
   "source": [
    "#리스트 [1, 2, 3, 0] 중에서 1, 2, 3이 참이므로 True를 리턴한다.\n",
    "any([1, 2, 3, 0])"
   ]
  },
  {
   "cell_type": "code",
   "execution_count": 7,
   "id": "c3d64ac0",
   "metadata": {
    "ExecuteTime": {
     "end_time": "2023-12-05T05:20:11.275183Z",
     "start_time": "2023-12-05T05:20:11.270548Z"
    }
   },
   "outputs": [
    {
     "data": {
      "text/plain": [
       "False"
      ]
     },
     "execution_count": 7,
     "metadata": {},
     "output_type": "execute_result"
    }
   ],
   "source": [
    "# 리스트 [0, \"\"]의 요소 0과 \"\"은 모두 거짓이므로 False를 리턴한다.\n",
    "any([0, \"\"])"
   ]
  },
  {
   "cell_type": "code",
   "execution_count": 8,
   "id": "1b927a3d",
   "metadata": {
    "ExecuteTime": {
     "end_time": "2023-12-05T05:20:11.849678Z",
     "start_time": "2023-12-05T05:20:11.845614Z"
    }
   },
   "outputs": [
    {
     "data": {
      "text/plain": [
       "False"
      ]
     },
     "execution_count": 8,
     "metadata": {},
     "output_type": "execute_result"
    }
   ],
   "source": [
    "# 만약 any의 입력 인수가 빈 값인 경우에는 False를 리턴한다.\n",
    "any([])"
   ]
  },
  {
   "cell_type": "markdown",
   "id": "14cd035b",
   "metadata": {},
   "source": [
    "## chr\n",
    "chr(i)는 유니코드 숫자 값을 입력받아 그 코드에 해당하는 문자를 리턴하는 함수이다.\n",
    "\n",
    "> 유니코드는 전 세계의 모든 문자를 컴퓨터에서 일관되게 표현하고 다룰 수 있도록 설계된 산업 표준 코드이다\n",
    "\n",
    "<img src=\"https://www.freecodecamp.org/news/content/images/2020/12/image-172.png\"></img>"
   ]
  },
  {
   "cell_type": "code",
   "execution_count": 9,
   "id": "5d281c6c",
   "metadata": {
    "ExecuteTime": {
     "end_time": "2023-12-05T05:21:33.973549Z",
     "start_time": "2023-12-05T05:21:33.968562Z"
    }
   },
   "outputs": [
    {
     "data": {
      "text/plain": [
       "'a'"
      ]
     },
     "execution_count": 9,
     "metadata": {},
     "output_type": "execute_result"
    }
   ],
   "source": [
    "chr(97)"
   ]
  },
  {
   "cell_type": "code",
   "execution_count": 10,
   "id": "b0677fa3",
   "metadata": {
    "ExecuteTime": {
     "end_time": "2023-12-05T05:22:06.593283Z",
     "start_time": "2023-12-05T05:22:06.587779Z"
    }
   },
   "outputs": [
    {
     "data": {
      "text/plain": [
       "'가'"
      ]
     },
     "execution_count": 10,
     "metadata": {},
     "output_type": "execute_result"
    }
   ],
   "source": [
    "chr(44032)"
   ]
  },
  {
   "cell_type": "markdown",
   "id": "48876ec4",
   "metadata": {},
   "source": [
    "## dir\n",
    "dir은 객체가 지닌 변수나 함수를 보여 주는 함수이다.   \n",
    "다음 예는 리스트와 딕셔너리가 지닌 함수(메서드)를 보여 주는 예이다.   \n",
    "우리가 02장에서 살펴본 함수들을 구경할 수 있다."
   ]
  },
  {
   "cell_type": "code",
   "execution_count": null,
   "id": "2ebe77e0",
   "metadata": {},
   "outputs": [],
   "source": [
    "[1, 2, 3]."
   ]
  },
  {
   "cell_type": "code",
   "execution_count": 11,
   "id": "0b8ca9e2",
   "metadata": {
    "ExecuteTime": {
     "end_time": "2023-12-05T05:22:27.341670Z",
     "start_time": "2023-12-05T05:22:27.324716Z"
    }
   },
   "outputs": [
    {
     "data": {
      "text/plain": [
       "['__add__',\n",
       " '__class__',\n",
       " '__class_getitem__',\n",
       " '__contains__',\n",
       " '__delattr__',\n",
       " '__delitem__',\n",
       " '__dir__',\n",
       " '__doc__',\n",
       " '__eq__',\n",
       " '__format__',\n",
       " '__ge__',\n",
       " '__getattribute__',\n",
       " '__getitem__',\n",
       " '__getstate__',\n",
       " '__gt__',\n",
       " '__hash__',\n",
       " '__iadd__',\n",
       " '__imul__',\n",
       " '__init__',\n",
       " '__init_subclass__',\n",
       " '__iter__',\n",
       " '__le__',\n",
       " '__len__',\n",
       " '__lt__',\n",
       " '__mul__',\n",
       " '__ne__',\n",
       " '__new__',\n",
       " '__reduce__',\n",
       " '__reduce_ex__',\n",
       " '__repr__',\n",
       " '__reversed__',\n",
       " '__rmul__',\n",
       " '__setattr__',\n",
       " '__setitem__',\n",
       " '__sizeof__',\n",
       " '__str__',\n",
       " '__subclasshook__',\n",
       " 'append',\n",
       " 'clear',\n",
       " 'copy',\n",
       " 'count',\n",
       " 'extend',\n",
       " 'index',\n",
       " 'insert',\n",
       " 'pop',\n",
       " 'remove',\n",
       " 'reverse',\n",
       " 'sort']"
      ]
     },
     "execution_count": 11,
     "metadata": {},
     "output_type": "execute_result"
    }
   ],
   "source": [
    "dir([1, 2, 3])"
   ]
  },
  {
   "cell_type": "code",
   "execution_count": 12,
   "id": "4e57f19a",
   "metadata": {
    "ExecuteTime": {
     "end_time": "2023-12-05T05:23:17.705075Z",
     "start_time": "2023-12-05T05:23:17.702244Z"
    }
   },
   "outputs": [
    {
     "name": "stdout",
     "output_type": "stream",
     "text": [
      "['__class__', '__class_getitem__', '__contains__', '__delattr__', '__delitem__', '__dir__', '__doc__', '__eq__', '__format__', '__ge__', '__getattribute__', '__getitem__', '__getstate__', '__gt__', '__hash__', '__init__', '__init_subclass__', '__ior__', '__iter__', '__le__', '__len__', '__lt__', '__ne__', '__new__', '__or__', '__reduce__', '__reduce_ex__', '__repr__', '__reversed__', '__ror__', '__setattr__', '__setitem__', '__sizeof__', '__str__', '__subclasshook__', 'clear', 'copy', 'fromkeys', 'get', 'items', 'keys', 'pop', 'popitem', 'setdefault', 'update', 'values']\n"
     ]
    }
   ],
   "source": [
    "print(dir({'1':'a'}))"
   ]
  },
  {
   "cell_type": "markdown",
   "id": "228a7613",
   "metadata": {},
   "source": [
    "## divmod\n",
    "divmod(a, b)는 2개의 숫자 a, b를 입력으로 받는다.   \n",
    "그리고 a를 b로 나눈 몫과 나머지를 튜플로 리턴한다."
   ]
  },
  {
   "cell_type": "code",
   "execution_count": 15,
   "id": "1bd6083a",
   "metadata": {
    "ExecuteTime": {
     "end_time": "2023-12-05T05:23:46.956756Z",
     "start_time": "2023-12-05T05:23:46.891298Z"
    }
   },
   "outputs": [],
   "source": [
    "divmod?"
   ]
  },
  {
   "cell_type": "code",
   "execution_count": 13,
   "id": "9ef11817",
   "metadata": {
    "ExecuteTime": {
     "end_time": "2023-12-05T05:23:34.604595Z",
     "start_time": "2023-12-05T05:23:34.596677Z"
    }
   },
   "outputs": [
    {
     "data": {
      "text/plain": [
       "(2, 1)"
      ]
     },
     "execution_count": 13,
     "metadata": {},
     "output_type": "execute_result"
    }
   ],
   "source": [
    "divmod(7, 3)"
   ]
  },
  {
   "cell_type": "code",
   "execution_count": 14,
   "id": "f79096e2",
   "metadata": {
    "ExecuteTime": {
     "end_time": "2023-12-05T05:23:43.275416Z",
     "start_time": "2023-12-05T05:23:43.271367Z"
    }
   },
   "outputs": [
    {
     "data": {
      "text/plain": [
       "(2, 1)"
      ]
     },
     "execution_count": 14,
     "metadata": {},
     "output_type": "execute_result"
    }
   ],
   "source": [
    "# 몫을 구하는 연산자 //와 나머지를 구하는 연산자 %를 각각 사용한 결과와 비교해 보자\n",
    "7 // 3, 7 % 3"
   ]
  },
  {
   "cell_type": "markdown",
   "id": "8e17820b",
   "metadata": {},
   "source": [
    "## enumerate\n",
    "enumerate는 ‘열거하다’라는 뜻이다.   \n",
    "이 함수는 순서가 있는 데이터(리스트, 튜플, 문자열)를 입력으로 받아 인덱스 값을 포함하는 enumerate 객체를 리턴한다.\n",
    "\n",
    "> 보통 enumerate 함수는 for 문과 함께 사용한다.\n",
    "\n",
    "다음 예를 살펴보자."
   ]
  },
  {
   "cell_type": "code",
   "execution_count": 17,
   "id": "fd602ce0",
   "metadata": {
    "ExecuteTime": {
     "end_time": "2023-12-05T05:25:07.238739Z",
     "start_time": "2023-12-05T05:25:07.234739Z"
    }
   },
   "outputs": [
    {
     "data": {
      "text/plain": [
       "<enumerate at 0x1d7d85080e0>"
      ]
     },
     "execution_count": 17,
     "metadata": {},
     "output_type": "execute_result"
    }
   ],
   "source": [
    "enumerate(['body', 'foo', 'bar'])"
   ]
  },
  {
   "cell_type": "code",
   "execution_count": 18,
   "id": "11d15585",
   "metadata": {
    "ExecuteTime": {
     "end_time": "2023-12-05T05:25:29.630197Z",
     "start_time": "2023-12-05T05:25:29.626211Z"
    }
   },
   "outputs": [
    {
     "name": "stdout",
     "output_type": "stream",
     "text": [
      "0 body\n",
      "1 foo\n",
      "2 bar\n"
     ]
    }
   ],
   "source": [
    "for i, name in enumerate(['body', 'foo', 'bar']):\n",
    "    print(i, name)"
   ]
  },
  {
   "cell_type": "markdown",
   "id": "116e35bb",
   "metadata": {
    "ExecuteTime": {
     "end_time": "2023-10-10T08:25:15.852748Z",
     "start_time": "2023-10-10T08:25:15.848503Z"
    }
   },
   "source": [
    "인덱스 값과 함께 body, foo, bar가 순서대로 출력되었다.   \n",
    "즉, enumerate를 for 문과 함께 사용하면 자료형의 현재 순서index와 그 값을 쉽게 알 수 있다.\n",
    "\n",
    "for 문처럼 반복되는 구간에서 객체가 현재 어느 위치에 있는지 알려 주는 인덱스 값이 필요할 때 enumerate 함수를 사용하면 매우 유용하다."
   ]
  },
  {
   "cell_type": "markdown",
   "id": "45593d8b",
   "metadata": {},
   "source": [
    "## eval\n",
    "eval(expression)은 문자열로 구성된 표현식을 입력으로 받아 해당 문자열을 실행한 결괏값을 리턴하는 함수이다."
   ]
  },
  {
   "cell_type": "code",
   "execution_count": 19,
   "id": "b975b0c3",
   "metadata": {
    "ExecuteTime": {
     "end_time": "2023-12-05T05:25:46.343497Z",
     "start_time": "2023-12-05T05:25:46.338510Z"
    }
   },
   "outputs": [
    {
     "data": {
      "text/plain": [
       "3"
      ]
     },
     "execution_count": 19,
     "metadata": {},
     "output_type": "execute_result"
    }
   ],
   "source": [
    "eval('1+2')"
   ]
  },
  {
   "cell_type": "code",
   "execution_count": 20,
   "id": "020f962d",
   "metadata": {
    "ExecuteTime": {
     "end_time": "2023-12-05T05:25:56.618142Z",
     "start_time": "2023-12-05T05:25:56.607454Z"
    }
   },
   "outputs": [
    {
     "data": {
      "text/plain": [
       "'hia'"
      ]
     },
     "execution_count": 20,
     "metadata": {},
     "output_type": "execute_result"
    }
   ],
   "source": [
    "eval(\"'hi' + 'a'\")"
   ]
  },
  {
   "cell_type": "code",
   "execution_count": 21,
   "id": "11516f22",
   "metadata": {
    "ExecuteTime": {
     "end_time": "2023-12-05T05:25:59.232538Z",
     "start_time": "2023-12-05T05:25:59.226556Z"
    }
   },
   "outputs": [
    {
     "data": {
      "text/plain": [
       "(1, 1)"
      ]
     },
     "execution_count": 21,
     "metadata": {},
     "output_type": "execute_result"
    }
   ],
   "source": [
    "eval('divmod(4, 3)')"
   ]
  },
  {
   "cell_type": "markdown",
   "id": "16c70bff",
   "metadata": {},
   "source": [
    "## filter\n",
    "filter란 ‘무엇인가를 걸러 낸다’라는 뜻으로, filter 함수도 이와 비슷한 기능을 한다.\n",
    "```python\n",
    "filter(함수, 반복_가능한_데이터)\n",
    "```\n",
    "filter 함수는 첫 번째 인수로 함수, 두 번째 인수로 그 함수에 차례로 들어갈 반복 가능한 데이터를 받는다.   \n",
    "그리고 반복 가능한 데이터의 요소 순서대로 함수를 호출했을 때 리턴값이 참인 것만 묶어서(걸러 내서) 리턴한다.\n",
    "\n",
    "다음 예를 살펴보자."
   ]
  },
  {
   "cell_type": "code",
   "execution_count": 22,
   "id": "b6fb5c2a",
   "metadata": {
    "ExecuteTime": {
     "end_time": "2023-12-05T05:27:01.488627Z",
     "start_time": "2023-12-05T05:27:01.483831Z"
    }
   },
   "outputs": [
    {
     "name": "stdout",
     "output_type": "stream",
     "text": [
      "[1, 2, 6]\n"
     ]
    }
   ],
   "source": [
    "# positive는 리스트를 입력으로 받아 각각의 요소를 판별해서 양수 값만 리턴하는 함수이다.\n",
    "def positive(l): \n",
    "    result = [] \n",
    "    for i in l: \n",
    "        if i > 0: \n",
    "            result.append(i) \n",
    "    return result\n",
    "\n",
    "print(positive([1,-3,2,0,-5,6]))"
   ]
  },
  {
   "cell_type": "code",
   "execution_count": 23,
   "id": "aaa38b4d",
   "metadata": {
    "ExecuteTime": {
     "end_time": "2023-12-05T05:28:00.275707Z",
     "start_time": "2023-12-05T05:28:00.271259Z"
    }
   },
   "outputs": [
    {
     "name": "stdout",
     "output_type": "stream",
     "text": [
      "<filter object at 0x000001D7D8890C70>\n",
      "[1, 2, 6]\n"
     ]
    }
   ],
   "source": [
    "# filter 함수를 사용하면 위 내용을 다음과 같이 간단하게 작성할 수 있다.\n",
    "def positive(x):\n",
    "    return x > 0\n",
    "\n",
    "print((filter(positive, [1, -3, 2, 0, -5, 6])))\n",
    "print(list(filter(positive, [1, -3, 2, 0, -5, 6])))"
   ]
  },
  {
   "cell_type": "markdown",
   "id": "0ea77a37",
   "metadata": {},
   "source": [
    "filter(positive, [1, -3, 2, 0, -5, 6])은 [1, -3, 2, 0, -5, 6]의 각 요솟값을 순서대로 positive 함수에 적용하여 리턴값이 참인 것만 묶어서 리턴한다.   \n",
    "즉, 1, 2, 6 요소만 x > 0 문장에 참이 되므로 [1, 2, 6]이라는 결괏값이 출력된다.\n",
    "\n",
    "> list 함수는 filter 함수의 리턴값을 리스트로 출력하기 위해 사용했다.\n",
    "\n",
    "이 예제는 lambda를 사용하면 더욱 간단해진다."
   ]
  },
  {
   "cell_type": "code",
   "execution_count": 56,
   "id": "79c1bb9b",
   "metadata": {
    "ExecuteTime": {
     "end_time": "2023-10-10T08:30:41.517593Z",
     "start_time": "2023-10-10T08:30:41.512589Z"
    },
    "scrolled": true
   },
   "outputs": [
    {
     "data": {
      "text/plain": [
       "[1, 2, 6]"
      ]
     },
     "execution_count": 56,
     "metadata": {},
     "output_type": "execute_result"
    }
   ],
   "source": [
    "list(filter(lambda x: x > 0, [1, -3, 2, 0, -5, 6]))"
   ]
  },
  {
   "cell_type": "markdown",
   "id": "cbe940f5",
   "metadata": {},
   "source": [
    "## hex\n",
    "hex(x)는 정수를 입력받아 16진수(hexadecimal) 문자열로 변환하여 리턴하는 함수이다."
   ]
  },
  {
   "cell_type": "code",
   "execution_count": 24,
   "id": "20979790",
   "metadata": {
    "ExecuteTime": {
     "end_time": "2023-12-05T05:33:57.872476Z",
     "start_time": "2023-12-05T05:33:57.866492Z"
    }
   },
   "outputs": [
    {
     "data": {
      "text/plain": [
       "'0xea'"
      ]
     },
     "execution_count": 24,
     "metadata": {},
     "output_type": "execute_result"
    }
   ],
   "source": [
    "hex(234)"
   ]
  },
  {
   "cell_type": "code",
   "execution_count": 25,
   "id": "24ba780c",
   "metadata": {
    "ExecuteTime": {
     "end_time": "2023-12-05T05:33:58.795949Z",
     "start_time": "2023-12-05T05:33:58.791622Z"
    }
   },
   "outputs": [
    {
     "data": {
      "text/plain": [
       "'0x3'"
      ]
     },
     "execution_count": 25,
     "metadata": {},
     "output_type": "execute_result"
    }
   ],
   "source": [
    "hex(3)"
   ]
  },
  {
   "cell_type": "markdown",
   "id": "3a0eaf41",
   "metadata": {},
   "source": [
    "## id\n",
    "id(object)는 객체를 입력받아 객체의 고유 주솟값(레퍼런스)을 리턴하는 함수이다."
   ]
  },
  {
   "cell_type": "code",
   "execution_count": 26,
   "id": "67b73c24",
   "metadata": {
    "ExecuteTime": {
     "end_time": "2023-12-05T05:34:15.553586Z",
     "start_time": "2023-12-05T05:34:15.549081Z"
    }
   },
   "outputs": [
    {
     "data": {
      "text/plain": [
       "(140728652895080, 140728652895080)"
      ]
     },
     "execution_count": 26,
     "metadata": {},
     "output_type": "execute_result"
    }
   ],
   "source": [
    "a = 3\n",
    "id(3), id(a)"
   ]
  },
  {
   "cell_type": "code",
   "execution_count": 28,
   "id": "736099d8",
   "metadata": {
    "ExecuteTime": {
     "end_time": "2023-12-05T05:34:22.948575Z",
     "start_time": "2023-12-05T05:34:22.941843Z"
    }
   },
   "outputs": [
    {
     "data": {
      "text/plain": [
       "140728652895080"
      ]
     },
     "execution_count": 28,
     "metadata": {},
     "output_type": "execute_result"
    }
   ],
   "source": [
    "b = a\n",
    "id(b)"
   ]
  },
  {
   "cell_type": "markdown",
   "id": "f35468b3",
   "metadata": {},
   "source": [
    "위 예의 3, a, b는 고유 주솟값이 모두 135072304이다. 즉, 3, a, b가 모두 같은 객체를 가리키고 있다.\n",
    "\n",
    "만약 id(4)라고 입력하면 4는 3, a, b와 다른 객체이므로 당연히 다른 고유 주솟값이 출력된다."
   ]
  },
  {
   "cell_type": "code",
   "execution_count": 29,
   "id": "e5e43afb",
   "metadata": {
    "ExecuteTime": {
     "end_time": "2023-12-05T05:34:25.128182Z",
     "start_time": "2023-12-05T05:34:25.120822Z"
    }
   },
   "outputs": [
    {
     "data": {
      "text/plain": [
       "140728652895112"
      ]
     },
     "execution_count": 29,
     "metadata": {},
     "output_type": "execute_result"
    }
   ],
   "source": [
    "id(4)"
   ]
  },
  {
   "cell_type": "markdown",
   "id": "10ddbb8e",
   "metadata": {},
   "source": [
    "## input\n",
    "input([prompt])는 사용자 입력을 받는 함수이다. 입력 인수로 문자열을 전달하면 그 문자열은 프롬프트가 된다.\n",
    "\n",
    "> []는 괄호 안의 내용을 생략할 수 있다는 관례 표기법이라는 것을 기억하자."
   ]
  },
  {
   "cell_type": "code",
   "execution_count": 30,
   "id": "2bbeed05",
   "metadata": {
    "ExecuteTime": {
     "end_time": "2023-12-05T05:34:32.314149Z",
     "start_time": "2023-12-05T05:34:30.340773Z"
    }
   },
   "outputs": [
    {
     "name": "stdout",
     "output_type": "stream",
     "text": [
      "ㅎㅇ\n"
     ]
    }
   ],
   "source": [
    "a = input()"
   ]
  },
  {
   "cell_type": "code",
   "execution_count": 64,
   "id": "8915f2e7",
   "metadata": {
    "ExecuteTime": {
     "end_time": "2023-10-10T08:34:15.268468Z",
     "start_time": "2023-10-10T08:34:15.264563Z"
    }
   },
   "outputs": [
    {
     "data": {
      "text/plain": [
       "'hi'"
      ]
     },
     "execution_count": 64,
     "metadata": {},
     "output_type": "execute_result"
    }
   ],
   "source": [
    "a"
   ]
  },
  {
   "cell_type": "code",
   "execution_count": 65,
   "id": "096ab682",
   "metadata": {
    "ExecuteTime": {
     "end_time": "2023-10-10T08:34:21.056878Z",
     "start_time": "2023-10-10T08:34:20.056571Z"
    }
   },
   "outputs": [
    {
     "name": "stdout",
     "output_type": "stream",
     "text": [
      "Enter: hi\n"
     ]
    }
   ],
   "source": [
    " b = input(\"Enter: \")"
   ]
  },
  {
   "cell_type": "code",
   "execution_count": 66,
   "id": "970143cc",
   "metadata": {
    "ExecuteTime": {
     "end_time": "2023-10-10T08:34:25.004302Z",
     "start_time": "2023-10-10T08:34:25.000152Z"
    }
   },
   "outputs": [
    {
     "data": {
      "text/plain": [
       "'hi'"
      ]
     },
     "execution_count": 66,
     "metadata": {},
     "output_type": "execute_result"
    }
   ],
   "source": [
    "b"
   ]
  },
  {
   "cell_type": "markdown",
   "id": "2b1afb87",
   "metadata": {},
   "source": [
    "## int\n",
    "int(x)는 문자열 형태의 숫자나 소수점이 있는 숫자를 정수로 리턴하는 함수이다. 만약 정수가 입력되면 그대로 리턴한다."
   ]
  },
  {
   "cell_type": "code",
   "execution_count": 34,
   "id": "e5d93744",
   "metadata": {
    "ExecuteTime": {
     "end_time": "2023-12-05T05:35:02.577647Z",
     "start_time": "2023-12-05T05:35:02.572367Z"
    }
   },
   "outputs": [],
   "source": [
    "int?"
   ]
  },
  {
   "cell_type": "code",
   "execution_count": 33,
   "id": "2e4588ad",
   "metadata": {
    "ExecuteTime": {
     "end_time": "2023-12-05T05:34:51.914475Z",
     "start_time": "2023-12-05T05:34:51.910701Z"
    }
   },
   "outputs": [
    {
     "data": {
      "text/plain": [
       "3"
      ]
     },
     "execution_count": 33,
     "metadata": {},
     "output_type": "execute_result"
    }
   ],
   "source": [
    "int('3')"
   ]
  },
  {
   "cell_type": "code",
   "execution_count": 32,
   "id": "c01dfb67",
   "metadata": {
    "ExecuteTime": {
     "end_time": "2023-12-05T05:34:49.748613Z",
     "start_time": "2023-12-05T05:34:49.742628Z"
    }
   },
   "outputs": [
    {
     "data": {
      "text/plain": [
       "3"
      ]
     },
     "execution_count": 32,
     "metadata": {},
     "output_type": "execute_result"
    }
   ],
   "source": [
    "int(3.4)"
   ]
  },
  {
   "cell_type": "markdown",
   "id": "8869da30",
   "metadata": {},
   "source": [
    "int(x, radix)는 radix(기수) 진수로 표현된 문자열 x를 10진수로 변환하여 리턴한다.   \n",
    "예를 들어 2진수로 표현된 '11'의 10진수 값은 다음과 같이 구할 수 있다."
   ]
  },
  {
   "cell_type": "code",
   "execution_count": 36,
   "id": "f0573e8a",
   "metadata": {
    "ExecuteTime": {
     "end_time": "2023-12-05T05:35:34.399267Z",
     "start_time": "2023-12-05T05:35:34.394129Z"
    }
   },
   "outputs": [
    {
     "data": {
      "text/plain": [
       "3"
      ]
     },
     "execution_count": 36,
     "metadata": {},
     "output_type": "execute_result"
    }
   ],
   "source": [
    " int('11', 2)"
   ]
  },
  {
   "cell_type": "code",
   "execution_count": 37,
   "id": "8d8c6562",
   "metadata": {
    "ExecuteTime": {
     "end_time": "2023-12-05T05:35:40.859305Z",
     "start_time": "2023-12-05T05:35:40.849608Z"
    }
   },
   "outputs": [
    {
     "data": {
      "text/plain": [
       "26"
      ]
     },
     "execution_count": 37,
     "metadata": {},
     "output_type": "execute_result"
    }
   ],
   "source": [
    "# 16진수로 표현된 '1A'의 10진수 값은 다음과 같이 구할 수 있다.\n",
    "int('1A', 16)"
   ]
  },
  {
   "cell_type": "markdown",
   "id": "955f7986",
   "metadata": {},
   "source": [
    "## isinstance\n",
    "isinstance(object, class) 함수는 첫 번째 인수로 객체, 두 번째 인수로 클래스를 받는다.   \n",
    "입력으로 받은 객체가 그 클래스의 인스턴스인지를 판단하여 참이면 True, 거짓이면 False를 리턴한다."
   ]
  },
  {
   "cell_type": "code",
   "execution_count": 38,
   "id": "101ef281",
   "metadata": {
    "ExecuteTime": {
     "end_time": "2023-12-05T05:36:11.787954Z",
     "start_time": "2023-12-05T05:36:11.782290Z"
    }
   },
   "outputs": [
    {
     "data": {
      "text/plain": [
       "True"
      ]
     },
     "execution_count": 38,
     "metadata": {},
     "output_type": "execute_result"
    }
   ],
   "source": [
    "class Person: pass\n",
    "a = Person()\n",
    "isinstance(a, Person)\n",
    "# 위 예는 a 객체가 Person 클래스에 의해 생성된 인스턴스라는 것을 확인시켜 준다."
   ]
  },
  {
   "cell_type": "code",
   "execution_count": 39,
   "id": "6a40b4af",
   "metadata": {
    "ExecuteTime": {
     "end_time": "2023-12-05T05:36:51.225642Z",
     "start_time": "2023-12-05T05:36:51.221024Z"
    }
   },
   "outputs": [
    {
     "data": {
      "text/plain": [
       "False"
      ]
     },
     "execution_count": 39,
     "metadata": {},
     "output_type": "execute_result"
    }
   ],
   "source": [
    "b = 3\n",
    "isinstance(b, Person)\n",
    "# b는 Person 클래스로 만든 인스턴스가 아니므로 False를 리턴한다"
   ]
  },
  {
   "cell_type": "markdown",
   "id": "f121cd46",
   "metadata": {},
   "source": [
    "## len\n",
    "len(s)는 입력값 s의 길이(요소의 전체 개수)를 리턴하는 함수이다."
   ]
  },
  {
   "cell_type": "code",
   "execution_count": 40,
   "id": "93a9828e",
   "metadata": {
    "ExecuteTime": {
     "end_time": "2023-12-05T05:37:05.352536Z",
     "start_time": "2023-12-05T05:37:05.347550Z"
    }
   },
   "outputs": [
    {
     "data": {
      "text/plain": [
       "6"
      ]
     },
     "execution_count": 40,
     "metadata": {},
     "output_type": "execute_result"
    }
   ],
   "source": [
    "len(\"python\")"
   ]
  },
  {
   "cell_type": "code",
   "execution_count": 41,
   "id": "b8e56fd2",
   "metadata": {
    "ExecuteTime": {
     "end_time": "2023-12-05T05:37:08.790338Z",
     "start_time": "2023-12-05T05:37:08.785489Z"
    }
   },
   "outputs": [
    {
     "data": {
      "text/plain": [
       "3"
      ]
     },
     "execution_count": 41,
     "metadata": {},
     "output_type": "execute_result"
    }
   ],
   "source": [
    "len([1,2,3])"
   ]
  },
  {
   "cell_type": "code",
   "execution_count": 42,
   "id": "0401bdd3",
   "metadata": {
    "ExecuteTime": {
     "end_time": "2023-12-05T05:37:10.828567Z",
     "start_time": "2023-12-05T05:37:10.823829Z"
    }
   },
   "outputs": [
    {
     "data": {
      "text/plain": [
       "2"
      ]
     },
     "execution_count": 42,
     "metadata": {},
     "output_type": "execute_result"
    }
   ],
   "source": [
    "len((1, 'a'))"
   ]
  },
  {
   "cell_type": "markdown",
   "id": "6bc78430",
   "metadata": {},
   "source": [
    "## list\n",
    "list(iterable)은 반복 가능한 데이터를 입력받아 리스트로 만들어 리턴하는 함수이다."
   ]
  },
  {
   "cell_type": "code",
   "execution_count": 43,
   "id": "0ba58034",
   "metadata": {
    "ExecuteTime": {
     "end_time": "2023-12-05T05:37:19.940026Z",
     "start_time": "2023-12-05T05:37:19.934516Z"
    }
   },
   "outputs": [
    {
     "data": {
      "text/plain": [
       "['p', 'y', 't', 'h', 'o', 'n']"
      ]
     },
     "execution_count": 43,
     "metadata": {},
     "output_type": "execute_result"
    }
   ],
   "source": [
    "list(\"python\")"
   ]
  },
  {
   "cell_type": "code",
   "execution_count": 44,
   "id": "49307921",
   "metadata": {
    "ExecuteTime": {
     "end_time": "2023-12-05T05:37:31.879978Z",
     "start_time": "2023-12-05T05:37:31.874873Z"
    }
   },
   "outputs": [
    {
     "data": {
      "text/plain": [
       "[1, 2, 3]"
      ]
     },
     "execution_count": 44,
     "metadata": {},
     "output_type": "execute_result"
    }
   ],
   "source": [
    "list((1,2,3))"
   ]
  },
  {
   "cell_type": "code",
   "execution_count": 45,
   "id": "e12cb9ac",
   "metadata": {
    "ExecuteTime": {
     "end_time": "2023-12-05T05:37:36.916099Z",
     "start_time": "2023-12-05T05:37:36.909472Z"
    }
   },
   "outputs": [
    {
     "data": {
      "text/plain": [
       "[1, 2, 3]"
      ]
     },
     "execution_count": 45,
     "metadata": {},
     "output_type": "execute_result"
    }
   ],
   "source": [
    "# list 함수에 리스트를 입력하면 똑같은 리스트를 복사하여 리턴한다.\n",
    "a = [1, 2, 3]\n",
    "b = list(a)\n",
    "b"
   ]
  },
  {
   "cell_type": "markdown",
   "id": "52638ee3",
   "metadata": {},
   "source": [
    "## map\n",
    "map(f, iterable)은 함수(f)와 반복 가능한 데이터를 입력으로 받는다.   \n",
    "map은 입력받은 데이터의 각 요소에 함수 f를 적용한 결과를 리턴하는 함수이다.\n",
    "\n",
    "다음 예를 살펴보자."
   ]
  },
  {
   "cell_type": "code",
   "execution_count": 79,
   "id": "9d53d693",
   "metadata": {
    "ExecuteTime": {
     "end_time": "2023-10-10T08:44:19.949602Z",
     "start_time": "2023-10-10T08:44:19.945583Z"
    }
   },
   "outputs": [
    {
     "name": "stdout",
     "output_type": "stream",
     "text": [
      "[2, 4, 6, 8]\n"
     ]
    }
   ],
   "source": [
    "# two_times는 리스트를 입력받아 리스트의 각 요소에 2를 곱해 리턴하는 함수이다.\n",
    "def two_times(numberList):\n",
    "    result = []\n",
    "    for number in numberList:\n",
    "        result.append(number*2)\n",
    "    return result\n",
    "\n",
    "result = two_times([1, 2, 3, 4])\n",
    "print(result)"
   ]
  },
  {
   "cell_type": "code",
   "execution_count": 80,
   "id": "9f5964e1",
   "metadata": {
    "ExecuteTime": {
     "end_time": "2023-10-10T08:44:55.621818Z",
     "start_time": "2023-10-10T08:44:55.616611Z"
    }
   },
   "outputs": [
    {
     "data": {
      "text/plain": [
       "[2, 4, 6, 8]"
      ]
     },
     "execution_count": 80,
     "metadata": {},
     "output_type": "execute_result"
    }
   ],
   "source": [
    "# 위 예제는 map 함수를 사용하여 다음처럼 바꿀 수 있다.\n",
    "def two_times(x): \n",
    "    return x*2\n",
    "list(map(two_times, [1, 2, 3, 4]))"
   ]
  },
  {
   "cell_type": "markdown",
   "id": "45f83981",
   "metadata": {},
   "source": [
    "이 예제를 해석해 보자. 먼저 리스트의 첫 번째 요소인 1이 two_times 함수의 입력값으로 들어가고 1 * 2의 과정을 거쳐서 2가 된다.   \n",
    "다음으로 리스트의 두 번째 요소인 2가 2 * 2의 과정을 거쳐 4가 된다.   \n",
    "따라서 결괏값은 이제 [2, 4]가 된다.   \n",
    "총 4개의 요솟값이 모두 수행되면 [2, 4, 6, 8]이 된다. 이것이 map 함수가 하는 일이다.\n",
    "\n",
    "map 함수의 결과를 리스트로 출력하기 위해 list 함수를 사용했다.   \n",
    "map 함수는 map 객체를 리턴한다.\n",
    "\n",
    "앞의 예는 lambda를 사용하여 다음처럼 간략하게 만들 수 있다."
   ]
  },
  {
   "cell_type": "code",
   "execution_count": 46,
   "id": "965c485c",
   "metadata": {
    "ExecuteTime": {
     "end_time": "2023-12-05T05:45:22.743168Z",
     "start_time": "2023-12-05T05:45:22.737510Z"
    }
   },
   "outputs": [
    {
     "data": {
      "text/plain": [
       "[2, 4, 6, 8]"
      ]
     },
     "execution_count": 46,
     "metadata": {},
     "output_type": "execute_result"
    }
   ],
   "source": [
    "list(map(lambda a: a*2, [1, 2, 3, 4]))"
   ]
  },
  {
   "cell_type": "markdown",
   "id": "c7942631",
   "metadata": {},
   "source": [
    "## max\n",
    "max(iterable)은 인수로 반복 가능한 데이터를 입력받아 그 최댓값을 리턴하는 함수이다."
   ]
  },
  {
   "cell_type": "code",
   "execution_count": 47,
   "id": "e606af0a",
   "metadata": {
    "ExecuteTime": {
     "end_time": "2023-12-05T05:45:29.712670Z",
     "start_time": "2023-12-05T05:45:29.706686Z"
    }
   },
   "outputs": [
    {
     "data": {
      "text/plain": [
       "3"
      ]
     },
     "execution_count": 47,
     "metadata": {},
     "output_type": "execute_result"
    }
   ],
   "source": [
    "max([1, 2, 3])"
   ]
  },
  {
   "cell_type": "code",
   "execution_count": 48,
   "id": "eb9970ee",
   "metadata": {
    "ExecuteTime": {
     "end_time": "2023-12-05T05:45:34.483420Z",
     "start_time": "2023-12-05T05:45:34.473901Z"
    }
   },
   "outputs": [
    {
     "data": {
      "text/plain": [
       "'y'"
      ]
     },
     "execution_count": 48,
     "metadata": {},
     "output_type": "execute_result"
    }
   ],
   "source": [
    "max(\"python\")"
   ]
  },
  {
   "cell_type": "code",
   "execution_count": 49,
   "id": "5463bf19",
   "metadata": {
    "ExecuteTime": {
     "end_time": "2023-12-05T05:46:01.390522Z",
     "start_time": "2023-12-05T05:46:01.386409Z"
    }
   },
   "outputs": [
    {
     "name": "stdout",
     "output_type": "stream",
     "text": [
      "p:112 y:121 t:116 h:104 o:111 n:110 "
     ]
    }
   ],
   "source": [
    "for i in \"python\":\n",
    "     print(f'{i}:{ord(i)}', end=' ')"
   ]
  },
  {
   "cell_type": "markdown",
   "id": "cca8c9fe",
   "metadata": {},
   "source": [
    "## min\n",
    "min(iterable)은 max 함수와 반대로, 인수로 반복 가능한 데이터를 입력받아 그 최솟값을 리턴하는 함수이다."
   ]
  },
  {
   "cell_type": "code",
   "execution_count": 50,
   "id": "a2fbf578",
   "metadata": {
    "ExecuteTime": {
     "end_time": "2023-12-05T05:46:21.558161Z",
     "start_time": "2023-12-05T05:46:21.553028Z"
    }
   },
   "outputs": [
    {
     "data": {
      "text/plain": [
       "1"
      ]
     },
     "execution_count": 50,
     "metadata": {},
     "output_type": "execute_result"
    }
   ],
   "source": [
    "min([1, 2, 3])"
   ]
  },
  {
   "cell_type": "code",
   "execution_count": null,
   "id": "289eb0a5",
   "metadata": {
    "ExecuteTime": {
     "end_time": "2023-12-05T05:46:22.067310Z",
     "start_time": "2023-12-05T05:46:22.067310Z"
    }
   },
   "outputs": [],
   "source": [
    "min(\"python\")"
   ]
  },
  {
   "cell_type": "markdown",
   "id": "95ff1320",
   "metadata": {},
   "source": [
    "## oct\n",
    "oct(x)는 정수를 8진수 문자열로 바꾸어 리턴하는 함수이다"
   ]
  },
  {
   "cell_type": "code",
   "execution_count": 51,
   "id": "c7fc5f8f",
   "metadata": {
    "ExecuteTime": {
     "end_time": "2023-12-05T05:46:28.878423Z",
     "start_time": "2023-12-05T05:46:28.871698Z"
    }
   },
   "outputs": [
    {
     "data": {
      "text/plain": [
       "'0o42'"
      ]
     },
     "execution_count": 51,
     "metadata": {},
     "output_type": "execute_result"
    }
   ],
   "source": [
    "oct(34)"
   ]
  },
  {
   "cell_type": "code",
   "execution_count": 52,
   "id": "b8c0399f",
   "metadata": {
    "ExecuteTime": {
     "end_time": "2023-12-05T05:46:29.225509Z",
     "start_time": "2023-12-05T05:46:29.221009Z"
    }
   },
   "outputs": [
    {
     "data": {
      "text/plain": [
       "'0o30071'"
      ]
     },
     "execution_count": 52,
     "metadata": {},
     "output_type": "execute_result"
    }
   ],
   "source": [
    "oct(12345)"
   ]
  },
  {
   "cell_type": "markdown",
   "id": "943274af",
   "metadata": {},
   "source": [
    "## open\n",
    "open(filename, [mode])은 ‘파일 이름’과 ‘읽기 방법’을 입력받아 파일 객체를 리턴하는 함수이다.   \n",
    "읽기 방법(mode)을 생략하면 기본값인 읽기 모드(r)로 파일 객체를 만들어 리턴한다.\n",
    "|mode|설명|\n",
    "|:---:|:---:|\n",
    "|w|쓰기모드|\n",
    "|r|읽기모드|\n",
    "|a|추가모드|\n",
    "|b|바이너리모드|\n",
    "\n",
    "b는 w, r, a와 함께 사용한다. 예를 들어 rb는 ‘바이너리 읽기 모드’를 의미한다."
   ]
  },
  {
   "cell_type": "code",
   "execution_count": 120,
   "id": "1bc82b73",
   "metadata": {
    "ExecuteTime": {
     "end_time": "2023-10-10T08:58:36.917172Z",
     "start_time": "2023-10-10T08:58:36.832609Z"
    }
   },
   "outputs": [
    {
     "ename": "FileNotFoundError",
     "evalue": "[Errno 2] No such file or directory: 'binary_file'",
     "output_type": "error",
     "traceback": [
      "\u001b[1;31m---------------------------------------------------------------------------\u001b[0m",
      "\u001b[1;31mFileNotFoundError\u001b[0m                         Traceback (most recent call last)",
      "Cell \u001b[1;32mIn[120], line 1\u001b[0m\n\u001b[1;32m----> 1\u001b[0m f \u001b[38;5;241m=\u001b[39m \u001b[38;5;28mopen\u001b[39m(\u001b[38;5;124m\"\u001b[39m\u001b[38;5;124mbinary_file\u001b[39m\u001b[38;5;124m\"\u001b[39m, \u001b[38;5;124m\"\u001b[39m\u001b[38;5;124mrb\u001b[39m\u001b[38;5;124m\"\u001b[39m)\n",
      "File \u001b[1;32m~\\anaconda3\\Lib\\site-packages\\IPython\\core\\interactiveshell.py:286\u001b[0m, in \u001b[0;36m_modified_open\u001b[1;34m(file, *args, **kwargs)\u001b[0m\n\u001b[0;32m    279\u001b[0m \u001b[38;5;28;01mif\u001b[39;00m file \u001b[38;5;129;01min\u001b[39;00m {\u001b[38;5;241m0\u001b[39m, \u001b[38;5;241m1\u001b[39m, \u001b[38;5;241m2\u001b[39m}:\n\u001b[0;32m    280\u001b[0m     \u001b[38;5;28;01mraise\u001b[39;00m \u001b[38;5;167;01mValueError\u001b[39;00m(\n\u001b[0;32m    281\u001b[0m         \u001b[38;5;124mf\u001b[39m\u001b[38;5;124m\"\u001b[39m\u001b[38;5;124mIPython won\u001b[39m\u001b[38;5;124m'\u001b[39m\u001b[38;5;124mt let you open fd=\u001b[39m\u001b[38;5;132;01m{\u001b[39;00mfile\u001b[38;5;132;01m}\u001b[39;00m\u001b[38;5;124m by default \u001b[39m\u001b[38;5;124m\"\u001b[39m\n\u001b[0;32m    282\u001b[0m         \u001b[38;5;124m\"\u001b[39m\u001b[38;5;124mas it is likely to crash IPython. If you know what you are doing, \u001b[39m\u001b[38;5;124m\"\u001b[39m\n\u001b[0;32m    283\u001b[0m         \u001b[38;5;124m\"\u001b[39m\u001b[38;5;124myou can use builtins\u001b[39m\u001b[38;5;124m'\u001b[39m\u001b[38;5;124m open.\u001b[39m\u001b[38;5;124m\"\u001b[39m\n\u001b[0;32m    284\u001b[0m     )\n\u001b[1;32m--> 286\u001b[0m \u001b[38;5;28;01mreturn\u001b[39;00m io_open(file, \u001b[38;5;241m*\u001b[39margs, \u001b[38;5;241m*\u001b[39m\u001b[38;5;241m*\u001b[39mkwargs)\n",
      "\u001b[1;31mFileNotFoundError\u001b[0m: [Errno 2] No such file or directory: 'binary_file'"
     ]
    }
   ],
   "source": [
    "f = open(\"binary_file\", \"rb\")"
   ]
  },
  {
   "cell_type": "markdown",
   "id": "b839ada4",
   "metadata": {},
   "source": [
    "## ord\n",
    "ord(c)는 문자의 유니코드 숫자 값을 리턴하는 함수이다.\n",
    "\n",
    "> ord 함수는 chr 함수와 반대로 동작한다."
   ]
  },
  {
   "cell_type": "code",
   "execution_count": 53,
   "id": "2d23a42c",
   "metadata": {
    "ExecuteTime": {
     "end_time": "2023-12-05T05:47:07.830386Z",
     "start_time": "2023-12-05T05:47:07.825788Z"
    }
   },
   "outputs": [
    {
     "data": {
      "text/plain": [
       "97"
      ]
     },
     "execution_count": 53,
     "metadata": {},
     "output_type": "execute_result"
    }
   ],
   "source": [
    "ord('a')"
   ]
  },
  {
   "cell_type": "code",
   "execution_count": 54,
   "id": "9d5e6375",
   "metadata": {
    "ExecuteTime": {
     "end_time": "2023-12-05T05:47:08.246793Z",
     "start_time": "2023-12-05T05:47:08.239805Z"
    }
   },
   "outputs": [
    {
     "data": {
      "text/plain": [
       "44032"
      ]
     },
     "execution_count": 54,
     "metadata": {},
     "output_type": "execute_result"
    }
   ],
   "source": [
    "ord('가')"
   ]
  },
  {
   "cell_type": "markdown",
   "id": "62da55b2",
   "metadata": {},
   "source": [
    "## pow\n",
    "pow(x, y)는 x를 y제곱한 결괏값을 리턴하는 함수이다."
   ]
  },
  {
   "cell_type": "code",
   "execution_count": 55,
   "id": "dc2d9550",
   "metadata": {
    "ExecuteTime": {
     "end_time": "2023-12-05T05:47:17.532640Z",
     "start_time": "2023-12-05T05:47:17.522660Z"
    }
   },
   "outputs": [
    {
     "data": {
      "text/plain": [
       "16"
      ]
     },
     "execution_count": 55,
     "metadata": {},
     "output_type": "execute_result"
    }
   ],
   "source": [
    "pow(2, 4)"
   ]
  },
  {
   "cell_type": "code",
   "execution_count": 56,
   "id": "2afbce70",
   "metadata": {
    "ExecuteTime": {
     "end_time": "2023-12-05T05:47:29.787330Z",
     "start_time": "2023-12-05T05:47:29.783070Z"
    }
   },
   "outputs": [
    {
     "data": {
      "text/plain": [
       "27"
      ]
     },
     "execution_count": 56,
     "metadata": {},
     "output_type": "execute_result"
    }
   ],
   "source": [
    "pow(3, 3)"
   ]
  },
  {
   "cell_type": "markdown",
   "id": "bda843f9",
   "metadata": {},
   "source": [
    "## range\n",
    "range([start,] stop [,step])은 for 문과 함께 자주 사용하는 함수이다.   \n",
    "이 함수는 입력받은 숫자에 해당하는 범위 값을 반복 가능한 객체로 만들어 리턴한다."
   ]
  },
  {
   "cell_type": "markdown",
   "id": "d801d82d",
   "metadata": {},
   "source": [
    "### 인수가 하나일 경우\n",
    "시작 숫자를 지정해 주지 않으면 range 함수는 0부터 시작한다."
   ]
  },
  {
   "cell_type": "code",
   "execution_count": 58,
   "id": "76bc8dd1",
   "metadata": {
    "ExecuteTime": {
     "end_time": "2023-12-05T05:48:58.808352Z",
     "start_time": "2023-12-05T05:48:58.799041Z"
    }
   },
   "outputs": [
    {
     "data": {
      "text/plain": [
       "range(0, 5)"
      ]
     },
     "execution_count": 58,
     "metadata": {},
     "output_type": "execute_result"
    }
   ],
   "source": [
    "range(5)"
   ]
  },
  {
   "cell_type": "code",
   "execution_count": 59,
   "id": "3188cce7",
   "metadata": {
    "ExecuteTime": {
     "end_time": "2023-12-05T05:49:05.949573Z",
     "start_time": "2023-12-05T05:49:05.944837Z"
    }
   },
   "outputs": [
    {
     "data": {
      "text/plain": [
       "[0, 1, 2, 3, 4]"
      ]
     },
     "execution_count": 59,
     "metadata": {},
     "output_type": "execute_result"
    }
   ],
   "source": [
    "list(range(5))"
   ]
  },
  {
   "cell_type": "markdown",
   "id": "464b42e7",
   "metadata": {},
   "source": [
    "### 인수가 2개일 경우\n",
    "입력으로 주어지는 2개의 인수는 시작 숫자와 끝 숫자를 나타낸다.   \n",
    "단, 끝 숫자는 해당 범위에 포함되지 않는다는 것에 주의하자."
   ]
  },
  {
   "cell_type": "code",
   "execution_count": 60,
   "id": "7d01c57f",
   "metadata": {
    "ExecuteTime": {
     "end_time": "2023-12-05T05:49:13.363494Z",
     "start_time": "2023-12-05T05:49:13.354941Z"
    }
   },
   "outputs": [
    {
     "data": {
      "text/plain": [
       "[5, 6, 7, 8, 9]"
      ]
     },
     "execution_count": 60,
     "metadata": {},
     "output_type": "execute_result"
    }
   ],
   "source": [
    "list(range(5, 10))"
   ]
  },
  {
   "cell_type": "markdown",
   "id": "c22baec6",
   "metadata": {},
   "source": [
    "### 인수가 3개일 경우\n",
    "세 번째 인수는 숫자 사이의 거리를 말한다."
   ]
  },
  {
   "cell_type": "code",
   "execution_count": 61,
   "id": "927104a8",
   "metadata": {
    "ExecuteTime": {
     "end_time": "2023-12-05T05:49:25.544974Z",
     "start_time": "2023-12-05T05:49:25.539680Z"
    }
   },
   "outputs": [
    {
     "data": {
      "text/plain": [
       "[1, 3, 5, 7, 9]"
      ]
     },
     "execution_count": 61,
     "metadata": {},
     "output_type": "execute_result"
    }
   ],
   "source": [
    "list(range(1, 10, 2))"
   ]
  },
  {
   "cell_type": "code",
   "execution_count": 62,
   "id": "77838677",
   "metadata": {
    "ExecuteTime": {
     "end_time": "2023-12-05T05:49:37.555772Z",
     "start_time": "2023-12-05T05:49:37.551521Z"
    }
   },
   "outputs": [
    {
     "data": {
      "text/plain": [
       "[0, -1, -2, -3, -4, -5, -6, -7, -8, -9]"
      ]
     },
     "execution_count": 62,
     "metadata": {},
     "output_type": "execute_result"
    }
   ],
   "source": [
    "list(range(0, -10, -1))"
   ]
  },
  {
   "cell_type": "markdown",
   "id": "5ab92b5a",
   "metadata": {},
   "source": [
    "## round\n",
    "round(number [,ndigits])는 숫자를 입력받아 반올림해 리턴하는 함수이다.\n",
    "\n",
    "> [,ndigits]는 ndigits가 있을 수도 있고, 없을 수도 있다는 의미이다.\n",
    "\n",
    "round 함수의 두 번째 인수는 반올림하여 표시하고 싶은 소수점의 자릿수(ndigits)를 의미한다."
   ]
  },
  {
   "cell_type": "code",
   "execution_count": 134,
   "id": "3326af9a",
   "metadata": {
    "ExecuteTime": {
     "end_time": "2023-10-10T09:03:26.629641Z",
     "start_time": "2023-10-10T09:03:26.625623Z"
    }
   },
   "outputs": [
    {
     "name": "stdout",
     "output_type": "stream",
     "text": [
      "Help on built-in function round in module builtins:\n",
      "\n",
      "round(number, ndigits=None)\n",
      "    Round a number to a given precision in decimal digits.\n",
      "    \n",
      "    The return value is an integer if ndigits is omitted or None.  Otherwise\n",
      "    the return value has the same type as the number.  ndigits may be negative.\n",
      "\n"
     ]
    }
   ],
   "source": [
    "help(round)"
   ]
  },
  {
   "cell_type": "code",
   "execution_count": 65,
   "id": "f6e15f87",
   "metadata": {
    "ExecuteTime": {
     "end_time": "2023-12-05T06:05:36.206023Z",
     "start_time": "2023-12-05T06:05:36.201796Z"
    }
   },
   "outputs": [],
   "source": [
    "round?"
   ]
  },
  {
   "cell_type": "code",
   "execution_count": 63,
   "id": "7e59cb60",
   "metadata": {
    "ExecuteTime": {
     "end_time": "2023-12-05T06:05:27.678522Z",
     "start_time": "2023-12-05T06:05:27.671743Z"
    }
   },
   "outputs": [
    {
     "data": {
      "text/plain": [
       "5"
      ]
     },
     "execution_count": 63,
     "metadata": {},
     "output_type": "execute_result"
    }
   ],
   "source": [
    "round(4.6)"
   ]
  },
  {
   "cell_type": "code",
   "execution_count": 64,
   "id": "e2712df2",
   "metadata": {
    "ExecuteTime": {
     "end_time": "2023-12-05T06:05:31.564607Z",
     "start_time": "2023-12-05T06:05:31.556993Z"
    }
   },
   "outputs": [
    {
     "data": {
      "text/plain": [
       "4"
      ]
     },
     "execution_count": 64,
     "metadata": {},
     "output_type": "execute_result"
    }
   ],
   "source": [
    "round(4.2)"
   ]
  },
  {
   "cell_type": "code",
   "execution_count": 66,
   "id": "e6d9a1c9",
   "metadata": {
    "ExecuteTime": {
     "end_time": "2023-12-05T06:05:59.228602Z",
     "start_time": "2023-12-05T06:05:59.224161Z"
    }
   },
   "outputs": [
    {
     "data": {
      "text/plain": [
       "5.68"
      ]
     },
     "execution_count": 66,
     "metadata": {},
     "output_type": "execute_result"
    }
   ],
   "source": [
    "# 다음과 같이 실수 5.678을 소수점 2자리까지만 반올림하여 표시할 수 있다.\n",
    "round(5.678, 2)"
   ]
  },
  {
   "cell_type": "markdown",
   "id": "2f044683",
   "metadata": {},
   "source": [
    "## sorted\n",
    "sorted(iterable)는 입력 데이터를 정렬한 후 그 결과를 **리스트로 리턴** 하는 함수이다.\n",
    ">리스트 자료형에도 sort 함수가 있다. 하지만 리스트 자료형의 sort 함수는 리스트 객체 그 자체를 정렬만 할 뿐, 정렬된 결과를 리턴하지는 않는다."
   ]
  },
  {
   "cell_type": "code",
   "execution_count": 67,
   "id": "8c1285ae",
   "metadata": {
    "ExecuteTime": {
     "end_time": "2023-12-05T06:06:18.449260Z",
     "start_time": "2023-12-05T06:06:18.445995Z"
    }
   },
   "outputs": [
    {
     "name": "stdout",
     "output_type": "stream",
     "text": [
      "None\n"
     ]
    }
   ],
   "source": [
    "a = [1, 4, 3, 2]\n",
    "a.sort()\n",
    "print(a.sort())"
   ]
  },
  {
   "cell_type": "code",
   "execution_count": 68,
   "id": "e0c619df",
   "metadata": {
    "ExecuteTime": {
     "end_time": "2023-12-05T06:06:29.091540Z",
     "start_time": "2023-12-05T06:06:29.087551Z"
    }
   },
   "outputs": [
    {
     "data": {
      "text/plain": [
       "[1, 2, 3, 4]"
      ]
     },
     "execution_count": 68,
     "metadata": {},
     "output_type": "execute_result"
    }
   ],
   "source": [
    "a"
   ]
  },
  {
   "cell_type": "code",
   "execution_count": 69,
   "id": "ac7dceb9",
   "metadata": {
    "ExecuteTime": {
     "end_time": "2023-12-05T06:06:42.883307Z",
     "start_time": "2023-12-05T06:06:42.879746Z"
    }
   },
   "outputs": [
    {
     "name": "stdout",
     "output_type": "stream",
     "text": [
      "[1, 2, 3]\n",
      "[3, 1, 2]\n"
     ]
    }
   ],
   "source": [
    "b = [3, 1, 2]\n",
    "print(sorted(b))\n",
    "print(b)"
   ]
  },
  {
   "cell_type": "code",
   "execution_count": 70,
   "id": "d08e9b48",
   "metadata": {
    "ExecuteTime": {
     "end_time": "2023-12-05T06:07:14.939052Z",
     "start_time": "2023-12-05T06:07:14.925027Z"
    }
   },
   "outputs": [
    {
     "data": {
      "text/plain": [
       "['a', 'b', 'c']"
      ]
     },
     "execution_count": 70,
     "metadata": {},
     "output_type": "execute_result"
    }
   ],
   "source": [
    "sorted(['a', 'c', 'b'])"
   ]
  },
  {
   "cell_type": "code",
   "execution_count": 71,
   "id": "9fe43d7a",
   "metadata": {
    "ExecuteTime": {
     "end_time": "2023-12-05T06:07:17.864095Z",
     "start_time": "2023-12-05T06:07:17.859831Z"
    }
   },
   "outputs": [
    {
     "data": {
      "text/plain": [
       "['e', 'o', 'r', 'z']"
      ]
     },
     "execution_count": 71,
     "metadata": {},
     "output_type": "execute_result"
    }
   ],
   "source": [
    "sorted(\"zero\")"
   ]
  },
  {
   "cell_type": "code",
   "execution_count": 72,
   "id": "2b7216e4",
   "metadata": {
    "ExecuteTime": {
     "end_time": "2023-12-05T06:07:23.553231Z",
     "start_time": "2023-12-05T06:07:23.549239Z"
    }
   },
   "outputs": [
    {
     "data": {
      "text/plain": [
       "[1, 2, 3]"
      ]
     },
     "execution_count": 72,
     "metadata": {},
     "output_type": "execute_result"
    }
   ],
   "source": [
    "sorted((3, 2, 1))"
   ]
  },
  {
   "cell_type": "markdown",
   "id": "75187811",
   "metadata": {},
   "source": [
    "## str\n",
    "str(object)는 문자열 형태로 객체를 변환하여 리턴하는 함수이다."
   ]
  },
  {
   "cell_type": "code",
   "execution_count": 73,
   "id": "81416866",
   "metadata": {
    "ExecuteTime": {
     "end_time": "2023-12-05T06:07:49.936439Z",
     "start_time": "2023-12-05T06:07:49.925312Z"
    }
   },
   "outputs": [
    {
     "data": {
      "text/plain": [
       "'3'"
      ]
     },
     "execution_count": 73,
     "metadata": {},
     "output_type": "execute_result"
    }
   ],
   "source": [
    "str(3)"
   ]
  },
  {
   "cell_type": "code",
   "execution_count": 74,
   "id": "f44bc009",
   "metadata": {
    "ExecuteTime": {
     "end_time": "2023-12-05T06:07:54.896130Z",
     "start_time": "2023-12-05T06:07:54.891618Z"
    }
   },
   "outputs": [
    {
     "data": {
      "text/plain": [
       "'hi'"
      ]
     },
     "execution_count": 74,
     "metadata": {},
     "output_type": "execute_result"
    }
   ],
   "source": [
    "str('hi')"
   ]
  },
  {
   "cell_type": "markdown",
   "id": "cd277641",
   "metadata": {},
   "source": [
    "## sum\n",
    "sum(iterable)은 입력 데이터의 합을 리턴하는 함수이다"
   ]
  },
  {
   "cell_type": "code",
   "execution_count": 75,
   "id": "6df3d57d",
   "metadata": {
    "ExecuteTime": {
     "end_time": "2023-12-05T06:08:17.104860Z",
     "start_time": "2023-12-05T06:08:17.099426Z"
    }
   },
   "outputs": [
    {
     "data": {
      "text/plain": [
       "6"
      ]
     },
     "execution_count": 75,
     "metadata": {},
     "output_type": "execute_result"
    }
   ],
   "source": [
    "sum([1,2,3])"
   ]
  },
  {
   "cell_type": "code",
   "execution_count": 76,
   "id": "6d3ea37f",
   "metadata": {
    "ExecuteTime": {
     "end_time": "2023-12-05T06:08:22.198302Z",
     "start_time": "2023-12-05T06:08:22.193548Z"
    }
   },
   "outputs": [
    {
     "data": {
      "text/plain": [
       "15"
      ]
     },
     "execution_count": 76,
     "metadata": {},
     "output_type": "execute_result"
    }
   ],
   "source": [
    "sum((4,5,6))"
   ]
  },
  {
   "cell_type": "markdown",
   "id": "d2f79a6f",
   "metadata": {},
   "source": [
    "## tuple\n",
    "tuple(iterable)은 반복 가능한 데이터를 튜플로 바꾸어 리턴하는 함수이다.   \n",
    "만약 입력이 튜플인 경우에는 그대로 리턴한다."
   ]
  },
  {
   "cell_type": "code",
   "execution_count": 77,
   "id": "ec3567a8",
   "metadata": {
    "ExecuteTime": {
     "end_time": "2023-12-05T06:08:28.617290Z",
     "start_time": "2023-12-05T06:08:28.606254Z"
    }
   },
   "outputs": [
    {
     "data": {
      "text/plain": [
       "('a', 'b', 'c')"
      ]
     },
     "execution_count": 77,
     "metadata": {},
     "output_type": "execute_result"
    }
   ],
   "source": [
    "tuple(\"abc\")"
   ]
  },
  {
   "cell_type": "code",
   "execution_count": 78,
   "id": "3a45e238",
   "metadata": {
    "ExecuteTime": {
     "end_time": "2023-12-05T06:08:32.119117Z",
     "start_time": "2023-12-05T06:08:32.114654Z"
    }
   },
   "outputs": [
    {
     "data": {
      "text/plain": [
       "(1, 2, 3)"
      ]
     },
     "execution_count": 78,
     "metadata": {},
     "output_type": "execute_result"
    }
   ],
   "source": [
    "tuple([1, 2, 3])"
   ]
  },
  {
   "cell_type": "code",
   "execution_count": 79,
   "id": "e3d692dc",
   "metadata": {
    "ExecuteTime": {
     "end_time": "2023-12-05T06:08:33.988585Z",
     "start_time": "2023-12-05T06:08:33.983251Z"
    }
   },
   "outputs": [
    {
     "data": {
      "text/plain": [
       "(1, 2, 3)"
      ]
     },
     "execution_count": 79,
     "metadata": {},
     "output_type": "execute_result"
    }
   ],
   "source": [
    "tuple((1, 2, 3))"
   ]
  },
  {
   "cell_type": "markdown",
   "id": "b03d8a49",
   "metadata": {},
   "source": [
    "## type\n",
    "type(object)는 입력값의 자료형이 무엇인지 알려 주는 함수이다."
   ]
  },
  {
   "cell_type": "code",
   "execution_count": 80,
   "id": "2de965a7",
   "metadata": {
    "ExecuteTime": {
     "end_time": "2023-12-05T06:08:42.998074Z",
     "start_time": "2023-12-05T06:08:42.992601Z"
    }
   },
   "outputs": [
    {
     "data": {
      "text/plain": [
       "str"
      ]
     },
     "execution_count": 80,
     "metadata": {},
     "output_type": "execute_result"
    }
   ],
   "source": [
    "type(\"abc\")"
   ]
  },
  {
   "cell_type": "code",
   "execution_count": 81,
   "id": "ba619ed2",
   "metadata": {
    "ExecuteTime": {
     "end_time": "2023-12-05T06:08:45.129415Z",
     "start_time": "2023-12-05T06:08:45.123583Z"
    }
   },
   "outputs": [
    {
     "data": {
      "text/plain": [
       "list"
      ]
     },
     "execution_count": 81,
     "metadata": {},
     "output_type": "execute_result"
    }
   ],
   "source": [
    "type([ ])"
   ]
  },
  {
   "cell_type": "code",
   "execution_count": 82,
   "id": "7f4fc611",
   "metadata": {
    "ExecuteTime": {
     "end_time": "2023-12-05T06:08:48.226319Z",
     "start_time": "2023-12-05T06:08:48.220590Z"
    }
   },
   "outputs": [
    {
     "data": {
      "text/plain": [
       "_io.TextIOWrapper"
      ]
     },
     "execution_count": 82,
     "metadata": {},
     "output_type": "execute_result"
    }
   ],
   "source": [
    "type(open(\"test\", 'w'))"
   ]
  },
  {
   "cell_type": "markdown",
   "id": "90f8a56c",
   "metadata": {},
   "source": [
    "## zip\n",
    "zip(*iterable)은 동일한 개수로 이루어진 데이터들을 묶어서 리턴하는 함수이다.\n",
    "\n",
    "> 여기서 사용한 *iterable은 반복 가능한 데이터를 여러 개 입력할 수 있다는 의미이다."
   ]
  },
  {
   "cell_type": "code",
   "execution_count": 83,
   "id": "02e96f0a",
   "metadata": {
    "ExecuteTime": {
     "end_time": "2023-12-05T06:09:41.805813Z",
     "start_time": "2023-12-05T06:09:41.798934Z"
    }
   },
   "outputs": [
    {
     "data": {
      "text/plain": [
       "<zip at 0x1d7d955cb40>"
      ]
     },
     "execution_count": 83,
     "metadata": {},
     "output_type": "execute_result"
    }
   ],
   "source": [
    "zip([1, 2, 3], [4, 5, 6])"
   ]
  },
  {
   "cell_type": "code",
   "execution_count": 84,
   "id": "8db4c588",
   "metadata": {
    "ExecuteTime": {
     "end_time": "2023-12-05T06:09:45.512953Z",
     "start_time": "2023-12-05T06:09:45.508445Z"
    }
   },
   "outputs": [
    {
     "data": {
      "text/plain": [
       "[(1, 4), (2, 5), (3, 6)]"
      ]
     },
     "execution_count": 84,
     "metadata": {},
     "output_type": "execute_result"
    }
   ],
   "source": [
    "list(zip([1, 2, 3], [4, 5, 6]))"
   ]
  },
  {
   "cell_type": "code",
   "execution_count": 85,
   "id": "d5cdba91",
   "metadata": {
    "ExecuteTime": {
     "end_time": "2023-12-05T06:10:07.828305Z",
     "start_time": "2023-12-05T06:10:07.821283Z"
    }
   },
   "outputs": [
    {
     "data": {
      "text/plain": [
       "[(1, 4, 7), (2, 5, 8), (3, 6, 9)]"
      ]
     },
     "execution_count": 85,
     "metadata": {},
     "output_type": "execute_result"
    }
   ],
   "source": [
    "list(zip([1, 2, 3], [4, 5, 6], [7, 8, 9]))"
   ]
  },
  {
   "cell_type": "code",
   "execution_count": 86,
   "id": "4599d016",
   "metadata": {
    "ExecuteTime": {
     "end_time": "2023-12-05T06:10:23.215498Z",
     "start_time": "2023-12-05T06:10:23.205332Z"
    }
   },
   "outputs": [
    {
     "data": {
      "text/plain": [
       "[('a', 'd'), ('b', 'e'), ('c', 'f')]"
      ]
     },
     "execution_count": 86,
     "metadata": {},
     "output_type": "execute_result"
    }
   ],
   "source": [
    "list(zip(\"abc\", \"def\"))"
   ]
  },
  {
   "cell_type": "markdown",
   "id": "590411bb",
   "metadata": {},
   "source": [
    "# 라이브러리"
   ]
  },
  {
   "cell_type": "markdown",
   "id": "8213a05e",
   "metadata": {},
   "source": [
    "## 표준 라이브러리\n",
    "이제 파이썬 프로그래밍 능력을 높여 줄 더 큰 날개를 달아 보자.   \n",
    "전 세계의 파이썬 고수들이 만든 유용한 프로그램을 모아 놓은 것이 바로 파이썬 표준 라이브러리이다.   \n",
    "'라이브러리’는 ‘도서관’이라는 뜻 그대로 원하는 정보를 찾아보는 곳이다.   \n",
    "모든 라이브러리를 다 알 필요는 없고 어떤 일을 할 때 어떤 라이브러리를 사용해야 한다는 정도만 알면 된다.   \n",
    "이를 위해 어떤 라이브러리가 존재하고 어떻게 사용하는지 알아야 한다.   \n",
    "자주 사용되고 꼭 알아 두면 좋은 라이브러리를 중심으로 하나씩 살펴보자.\n",
    "\n",
    "> 파이썬 표준 라이브러리는 파이썬을 설치할 때 자동으로 컴퓨터에 설치된다.\n",
    "> sys, re 모듈은 파이썬의 중요한 표준 라이브러리이다. sys 모듈은 04-4, re 모듈은 08장 전체에 걸쳐 다루고 있으므로 이곳에서는 설명하지 않는다."
   ]
  },
  {
   "cell_type": "markdown",
   "id": "04ba80e7",
   "metadata": {},
   "source": [
    "### datetime.date\n",
    "datetime.date는 연, 월, 일로 날짜를 표현할 때 사용하는 함수이다.   \n",
    "\n",
    "만약 A 군과 B 양이 2021년 12월 14일부터 만나기 시작했다면 2023년 4월 5일은 둘이 사귄 지 며칠째 되는 날일까?   \n",
    "아울러 사귀기 시작한 2021년 12월 14일은 무슨 요일이었을까? datetime.date 함수를 사용하면 이 문제를 쉽게 해결할 수 있다.\n",
    "<img src=\"https://wikidocs.net/images/page/33/05_6_pic1.png\">\n",
    "\n",
    "\n",
    "\n",
    "연, 월, 일로 다음과 같이 datetime.date 객체를 만들 수 있다.\n",
    "\n"
   ]
  },
  {
   "cell_type": "code",
   "execution_count": 87,
   "id": "f1f93770",
   "metadata": {
    "ExecuteTime": {
     "end_time": "2023-12-05T06:14:20.517989Z",
     "start_time": "2023-12-05T06:14:20.514670Z"
    }
   },
   "outputs": [],
   "source": [
    "import datetime\n",
    "day1 = datetime.date(2023, 5, 19)\n",
    "day2 = datetime.date(2023, 12, 5)"
   ]
  },
  {
   "cell_type": "code",
   "execution_count": 88,
   "id": "e780577c",
   "metadata": {
    "ExecuteTime": {
     "end_time": "2023-12-05T06:14:30.406231Z",
     "start_time": "2023-12-05T06:14:30.401256Z"
    }
   },
   "outputs": [
    {
     "data": {
      "text/plain": [
       "datetime.date(2023, 5, 19)"
      ]
     },
     "execution_count": 88,
     "metadata": {},
     "output_type": "execute_result"
    }
   ],
   "source": [
    "day1"
   ]
  },
  {
   "cell_type": "code",
   "execution_count": 89,
   "id": "fddf5c57",
   "metadata": {
    "ExecuteTime": {
     "end_time": "2023-12-05T06:14:34.231000Z",
     "start_time": "2023-12-05T06:14:34.221027Z"
    }
   },
   "outputs": [
    {
     "data": {
      "text/plain": [
       "datetime.date(2023, 12, 5)"
      ]
     },
     "execution_count": 89,
     "metadata": {},
     "output_type": "execute_result"
    }
   ],
   "source": [
    "day2"
   ]
  },
  {
   "cell_type": "markdown",
   "id": "b6a71604",
   "metadata": {},
   "source": [
    "이처럼 연, 월, 일을 인수로 하여 2021년 12월 14일에 해당하는 날짜 객체는 day1, 2023년 4월 5일에 해당하는 날짜 객체는 day2로 생성하였다.   \n",
    "이렇게 날짜 객체를 만들었다면 두 날짜의 차이는 다음과 같이 뺄셈으로 쉽게 구할 수 있다."
   ]
  },
  {
   "cell_type": "code",
   "execution_count": 90,
   "id": "b10136ff",
   "metadata": {
    "ExecuteTime": {
     "end_time": "2023-12-05T06:14:47.793258Z",
     "start_time": "2023-12-05T06:14:47.788371Z"
    }
   },
   "outputs": [
    {
     "data": {
      "text/plain": [
       "datetime.timedelta(days=200)"
      ]
     },
     "execution_count": 90,
     "metadata": {},
     "output_type": "execute_result"
    }
   ],
   "source": [
    "diff = day2 - day1\n",
    "diff"
   ]
  },
  {
   "cell_type": "code",
   "execution_count": 91,
   "id": "094075cd",
   "metadata": {
    "ExecuteTime": {
     "end_time": "2023-12-05T06:15:07.237632Z",
     "start_time": "2023-12-05T06:15:07.233278Z"
    }
   },
   "outputs": [
    {
     "data": {
      "text/plain": [
       "200"
      ]
     },
     "execution_count": 91,
     "metadata": {},
     "output_type": "execute_result"
    }
   ],
   "source": [
    "diff.days"
   ]
  },
  {
   "cell_type": "markdown",
   "id": "2aa7313e",
   "metadata": {},
   "source": [
    "day2에서 day1을 빼면 datetime 모듈의 timedelta 객체가 리턴된다.   \n",
    "이 객체를 diff 변수에 대입하고 이 diff 변수를 이용하여 두 날짜의 차이를 쉽게 확인해 봤다.\n",
    "\n",
    "요일은 datetime.date 객체의 weekday 함수를 사용하면 쉽게 구할 수 있다."
   ]
  },
  {
   "cell_type": "code",
   "execution_count": 93,
   "id": "1222bf42",
   "metadata": {
    "ExecuteTime": {
     "end_time": "2023-12-05T06:15:41.672702Z",
     "start_time": "2023-12-05T06:15:41.668662Z"
    }
   },
   "outputs": [
    {
     "data": {
      "text/plain": [
       "1"
      ]
     },
     "execution_count": 93,
     "metadata": {},
     "output_type": "execute_result"
    }
   ],
   "source": [
    "day = datetime.date(2023, 12, 5)\n",
    "day.weekday()"
   ]
  },
  {
   "cell_type": "code",
   "execution_count": 94,
   "id": "ec5ee4bb",
   "metadata": {
    "ExecuteTime": {
     "end_time": "2023-12-05T06:15:51.236187Z",
     "start_time": "2023-12-05T06:15:51.232897Z"
    }
   },
   "outputs": [],
   "source": [
    "day.weekday?"
   ]
  },
  {
   "cell_type": "markdown",
   "id": "dc38c81d",
   "metadata": {},
   "source": [
    "0은 월요일을 의미하며 순서대로 1은 화요일, 2는 수요일, …, 6은 일요일이 된다.   \n",
    "이와 달리 월요일은 1, 화요일은 2, …, 일요일은 7을 리턴하려면 다음처럼 isoweekday 함수를 사용하면 된다."
   ]
  },
  {
   "cell_type": "code",
   "execution_count": 19,
   "id": "b5c95f31",
   "metadata": {
    "ExecuteTime": {
     "end_time": "2023-10-12T05:09:15.974419Z",
     "start_time": "2023-10-12T05:09:15.970816Z"
    }
   },
   "outputs": [],
   "source": [
    "day.isoweekday?"
   ]
  },
  {
   "cell_type": "code",
   "execution_count": 95,
   "id": "f9fc7b13",
   "metadata": {
    "ExecuteTime": {
     "end_time": "2023-12-05T06:16:35.477446Z",
     "start_time": "2023-12-05T06:16:35.472484Z"
    }
   },
   "outputs": [
    {
     "data": {
      "text/plain": [
       "2"
      ]
     },
     "execution_count": 95,
     "metadata": {},
     "output_type": "execute_result"
    }
   ],
   "source": [
    "day.isoweekday()"
   ]
  },
  {
   "cell_type": "markdown",
   "id": "d23bc697",
   "metadata": {
    "ExecuteTime": {
     "end_time": "2023-10-12T04:57:42.607376Z",
     "start_time": "2023-10-12T04:57:42.603607Z"
    }
   },
   "source": [
    "2023년 10월 12일은 목요일이므로 isoweekday()를 사용하면 목요일을 뜻하는 4가 리턴된다. weekday()를 사용하면 3이 리턴된다."
   ]
  },
  {
   "cell_type": "markdown",
   "id": "cddce795",
   "metadata": {},
   "source": [
    "### time\n",
    "시간과 관련된 time 모듈에는 함수가 매우 많다. 그중 가장 유용한 몇 가지만 알아보자."
   ]
  },
  {
   "cell_type": "markdown",
   "id": "36377490",
   "metadata": {},
   "source": [
    "#### time.time\n",
    "time.time()은 UTC(universal time coordinated, 협정 세계 표준시)를 사용하여 현재 시간을 실수 형태로 리턴하는 함수이다.   \n",
    "1970년 1월 1일 0시 0분 0초를 기준으로 지난 시간을 초 단위로 리턴해 준다."
   ]
  },
  {
   "cell_type": "code",
   "execution_count": 96,
   "id": "54709d7c",
   "metadata": {
    "ExecuteTime": {
     "end_time": "2023-12-05T06:17:19.471587Z",
     "start_time": "2023-12-05T06:17:19.467599Z"
    }
   },
   "outputs": [
    {
     "data": {
      "text/plain": [
       "1701757039.4685965"
      ]
     },
     "execution_count": 96,
     "metadata": {},
     "output_type": "execute_result"
    }
   ],
   "source": [
    "import time\n",
    "time.time()"
   ]
  },
  {
   "cell_type": "markdown",
   "id": "4dab3687",
   "metadata": {},
   "source": [
    "#### time.localtime\n",
    "time.localtime은 time.time()이 리턴한 실숫값을 사용해서 연, 월, 일, 시, 분, 초, ... 의 형태로 바꾸어 주는 함수이다."
   ]
  },
  {
   "cell_type": "code",
   "execution_count": 23,
   "id": "5047e804",
   "metadata": {
    "ExecuteTime": {
     "end_time": "2023-10-12T05:01:39.071159Z",
     "start_time": "2023-10-12T05:01:39.066646Z"
    }
   },
   "outputs": [],
   "source": [
    "time.localtime?"
   ]
  },
  {
   "cell_type": "code",
   "execution_count": 97,
   "id": "d51b4e04",
   "metadata": {
    "ExecuteTime": {
     "end_time": "2023-12-05T06:17:55.154337Z",
     "start_time": "2023-12-05T06:17:55.148911Z"
    }
   },
   "outputs": [
    {
     "data": {
      "text/plain": [
       "time.struct_time(tm_year=2023, tm_mon=12, tm_mday=5, tm_hour=15, tm_min=17, tm_sec=55, tm_wday=1, tm_yday=339, tm_isdst=0)"
      ]
     },
     "execution_count": 97,
     "metadata": {},
     "output_type": "execute_result"
    }
   ],
   "source": [
    "time.localtime(time.time())"
   ]
  },
  {
   "cell_type": "code",
   "execution_count": 98,
   "id": "32718701",
   "metadata": {
    "ExecuteTime": {
     "end_time": "2023-12-05T06:18:50.804504Z",
     "start_time": "2023-12-05T06:18:50.799818Z"
    }
   },
   "outputs": [
    {
     "data": {
      "text/plain": [
       "15"
      ]
     },
     "execution_count": 98,
     "metadata": {},
     "output_type": "execute_result"
    }
   ],
   "source": [
    "time.localtime(time.time()).tm_hour"
   ]
  },
  {
   "cell_type": "markdown",
   "id": "7e9b853e",
   "metadata": {},
   "source": [
    "#### time.asctime\n",
    "time.asctime은 time.localtime가 리턴된 튜플 형태의 값을 인수로 받아서 날짜와 시간을 알아보기 쉬운 형태로 리턴하는 함수이다."
   ]
  },
  {
   "cell_type": "code",
   "execution_count": 25,
   "id": "c12cbcef",
   "metadata": {
    "ExecuteTime": {
     "end_time": "2023-10-12T05:09:26.838580Z",
     "start_time": "2023-10-12T05:09:26.835231Z"
    }
   },
   "outputs": [],
   "source": [
    "time.asctime?"
   ]
  },
  {
   "cell_type": "code",
   "execution_count": 99,
   "id": "c771dae3",
   "metadata": {
    "ExecuteTime": {
     "end_time": "2023-12-05T06:19:25.124033Z",
     "start_time": "2023-12-05T06:19:25.118881Z"
    }
   },
   "outputs": [
    {
     "data": {
      "text/plain": [
       "'Tue Dec  5 15:19:25 2023'"
      ]
     },
     "execution_count": 99,
     "metadata": {},
     "output_type": "execute_result"
    }
   ],
   "source": [
    "time.asctime(time.localtime(time.time()))"
   ]
  },
  {
   "cell_type": "markdown",
   "id": "0cdfcabd",
   "metadata": {},
   "source": [
    "#### time.ctime\n",
    "time.asctime(time.localtime(time.time()))은 간단하게 time.ctime()으로 표시할 수 있다.   \n",
    "ctime이 asctime과 다른 점은 항상 현재 시간만을 리턴한다는 점이다."
   ]
  },
  {
   "cell_type": "code",
   "execution_count": 100,
   "id": "92ab96b9",
   "metadata": {
    "ExecuteTime": {
     "end_time": "2023-12-05T06:19:43.705310Z",
     "start_time": "2023-12-05T06:19:43.700882Z"
    }
   },
   "outputs": [
    {
     "data": {
      "text/plain": [
       "'Tue Dec  5 15:19:43 2023'"
      ]
     },
     "execution_count": 100,
     "metadata": {},
     "output_type": "execute_result"
    }
   ],
   "source": [
    "time.ctime()"
   ]
  },
  {
   "cell_type": "markdown",
   "id": "22979e9f",
   "metadata": {},
   "source": [
    "#### time.strftime\n",
    "strftime 함수는 시간에 관계된 것을 세밀하게 표현하는 여러 가지 포맷 코드를 제공한다.\n",
    "```python\n",
    "time.strftime('출력할 형식 포맷 코드', time.localtime(time.time()))\n",
    "```\n",
    "시간에 관계된 것을 표현하는 포맷 코드\n",
    "\n",
    "| 포맷 코드 | 설명                            | 예        |\n",
    "|:--------:|:-------------------------------:|:--------:|\n",
    "| %a       | 요일의 줄임말                  | Mon      |\n",
    "| %A       | 요일                            | Monday   |\n",
    "| %b       | 달의 줄임말                    | Jan      |\n",
    "| %B       | 달                              | January  |\n",
    "| %c       | 날짜와 시간을 출력함          | Thu May 25 10:13:52 2023 |\n",
    "| %d       | 일(day)                        | [01,31]  |\n",
    "| %H       | 시간(hour): 24시간 출력 형태  | [00,23]  |\n",
    "| %I       | 시간(hour): 12시간 출력 형태  | [01,12]  |\n",
    "| %j       | 1년 중 누적 날짜             | [001,366] |\n",
    "| %m       | 달                              | [01,12]  |\n",
    "| %M       | 분                              | [01,59]  |\n",
    "| %p       | AM or PM                       | AM       |\n",
    "| %S       | 초                              | [00,59]  |\n",
    "| %U       | 1년 중 누적 주(일요일 시작)  | [00,53]  |\n",
    "| %w       | 숫자로 된 요일                 | [0(일), 6(토)] |\n",
    "| %W       | 1년 중 누적 주(월요일 시작)  | [00,53]  |\n",
    "| %x       | 현재 설정된 지역에 기반한 날짜 출력 | 05/25/23 |\n",
    "| %X       | 현재 설정된 지역에 기반한 시간 출력 | 17:22:21 |\n",
    "| %Y       | 연도                            | 2023     |\n",
    "| %Z       | 시간대 출력                    | 대한민국 표준시 |\n",
    "| %%       | 문자 %                         | %        |\n",
    "| %y       | 세기 부분을 제외한 연도 출력  | 01       |\n",
    "\n",
    "다음은 time.strftime을 사용하는 예이다."
   ]
  },
  {
   "cell_type": "code",
   "execution_count": 103,
   "id": "0188d65e",
   "metadata": {
    "ExecuteTime": {
     "end_time": "2023-12-05T06:23:17.908819Z",
     "start_time": "2023-12-05T06:23:17.903410Z"
    }
   },
   "outputs": [],
   "source": [
    "time.strftime?"
   ]
  },
  {
   "cell_type": "code",
   "execution_count": 101,
   "id": "5158b32c",
   "metadata": {
    "ExecuteTime": {
     "end_time": "2023-12-05T06:20:58.191113Z",
     "start_time": "2023-12-05T06:20:58.187124Z"
    }
   },
   "outputs": [
    {
     "data": {
      "text/plain": [
       "'12/05/23'"
      ]
     },
     "execution_count": 101,
     "metadata": {},
     "output_type": "execute_result"
    }
   ],
   "source": [
    "import time\n",
    "time.strftime('%x', time.localtime(time.time()))"
   ]
  },
  {
   "cell_type": "code",
   "execution_count": 102,
   "id": "d0fb9d41",
   "metadata": {
    "ExecuteTime": {
     "end_time": "2023-12-05T06:23:11.546197Z",
     "start_time": "2023-12-05T06:23:11.541212Z"
    }
   },
   "outputs": [
    {
     "data": {
      "text/plain": [
       "'Tue Dec  5 15:23:11 2023'"
      ]
     },
     "execution_count": 102,
     "metadata": {},
     "output_type": "execute_result"
    }
   ],
   "source": [
    "time.strftime('%c', time.localtime(time.time()))"
   ]
  },
  {
   "cell_type": "markdown",
   "id": "b8db1d03",
   "metadata": {},
   "source": [
    "#### time.sleep\n",
    "time.sleep 함수는 주로 루프 안에서 많이 사용한다.   \n",
    "이 함수를 사용하면 일정한 시간 간격을 두고 루프를 실행할 수 있다. 다음 예를 살펴보자.   \n",
    "아래 예는 1초 간격으로 0부터 9까지의 숫자를 출력한다.   \n",
    "time.sleep 함수의 인수는 실수 형태를 쓸 수 있다.   \n",
    "즉 1이면 1초, 0.5면 0.5초가 되는 것이다."
   ]
  },
  {
   "cell_type": "code",
   "execution_count": 104,
   "id": "402babeb",
   "metadata": {
    "ExecuteTime": {
     "end_time": "2023-12-05T06:25:11.412266Z",
     "start_time": "2023-12-05T06:25:01.384902Z"
    }
   },
   "outputs": [
    {
     "name": "stdout",
     "output_type": "stream",
     "text": [
      "0\n",
      "1\n",
      "2\n",
      "3\n",
      "4\n",
      "5\n",
      "6\n",
      "7\n",
      "8\n",
      "9\n"
     ]
    }
   ],
   "source": [
    "import time\n",
    "for i in range(10):\n",
    "    print(i)\n",
    "    time.sleep(1)"
   ]
  },
  {
   "cell_type": "markdown",
   "id": "9d51b046",
   "metadata": {},
   "source": [
    "##### 인수 없이 time 함수 사용하기\n",
    "time.localtime, time.asctime, time.strftime 함수는 다음처럼 입력 인수 없이 사용할 수 있다.    \n",
    "입력 인수 없이 사용할 경우 현재 시각을 기준으로 함수가 수행된다."
   ]
  },
  {
   "cell_type": "code",
   "execution_count": 105,
   "id": "11ae7136",
   "metadata": {
    "ExecuteTime": {
     "end_time": "2023-12-05T06:25:29.368181Z",
     "start_time": "2023-12-05T06:25:29.358480Z"
    }
   },
   "outputs": [
    {
     "data": {
      "text/plain": [
       "time.struct_time(tm_year=2023, tm_mon=12, tm_mday=5, tm_hour=15, tm_min=25, tm_sec=29, tm_wday=1, tm_yday=339, tm_isdst=0)"
      ]
     },
     "execution_count": 105,
     "metadata": {},
     "output_type": "execute_result"
    }
   ],
   "source": [
    "time.localtime()"
   ]
  },
  {
   "cell_type": "code",
   "execution_count": 106,
   "id": "e1f432e2",
   "metadata": {
    "ExecuteTime": {
     "end_time": "2023-12-05T06:25:29.761983Z",
     "start_time": "2023-12-05T06:25:29.752010Z"
    }
   },
   "outputs": [
    {
     "data": {
      "text/plain": [
       "'Tue Dec  5 15:25:29 2023'"
      ]
     },
     "execution_count": 106,
     "metadata": {},
     "output_type": "execute_result"
    }
   ],
   "source": [
    "time.asctime()"
   ]
  },
  {
   "cell_type": "code",
   "execution_count": 107,
   "id": "19897e28",
   "metadata": {
    "ExecuteTime": {
     "end_time": "2023-12-05T06:25:30.280295Z",
     "start_time": "2023-12-05T06:25:30.274313Z"
    }
   },
   "outputs": [
    {
     "data": {
      "text/plain": [
       "'Tue Dec  5 15:25:30 2023'"
      ]
     },
     "execution_count": 107,
     "metadata": {},
     "output_type": "execute_result"
    }
   ],
   "source": [
    "time.strftime('%c')"
   ]
  },
  {
   "cell_type": "markdown",
   "id": "ab148603",
   "metadata": {},
   "source": [
    "### math.gcd\n",
    "math.gcd 함수를 이용하면 최대 공약수(gcd, greatest common divisor)를 쉽게 구할 수 있다.\n",
    "\n",
    "* 공식 : 유클리드 호제법 GCD(A, B) = GCD(B, A % B)\n",
    "* math.gcd 함수는 파이썬 3.5 버전부터 사용할 수 있다.\n",
    "* 공약수란 두 수 이상의 여러 수의 공통된 약수를 말하며 공약수 중 가장 큰 수를 최대 공약수라고 말한다. 예를 들어 30과 15의 약수는 1, 3, 5, 15, 최대 공약수는 15이다.   \n",
    "\n",
    "어린이집에서 사탕 60개, 초콜릿 100개, 젤리 80개를 준비했다.   \n",
    "아이들이 서로 싸우지 않도록 똑같이 나누어 봉지에 담는다고 하면 최대 몇 봉지까지 만들 수 있을까?   \n",
    "단, 사탕, 초콜릿, 젤리는 남기지 않고 모두 담도록 한다.\n",
    "\n",
    "<img src=\"https://wikidocs.net/images/page/33/05_6_pic2.png\">\n",
    "이 문제는 60, 100, 80의 최대 공약수를 구하면 바로 해결된다. 즉, 똑같이 나눌 수 있는 봉지 개수가 최대가 되는 수를 구하면 된다."
   ]
  },
  {
   "cell_type": "code",
   "execution_count": 27,
   "id": "f5834a01",
   "metadata": {
    "ExecuteTime": {
     "end_time": "2023-10-12T05:18:40.257243Z",
     "start_time": "2023-10-12T05:18:40.252535Z"
    }
   },
   "outputs": [
    {
     "data": {
      "text/plain": [
       "20"
      ]
     },
     "execution_count": 27,
     "metadata": {},
     "output_type": "execute_result"
    }
   ],
   "source": [
    "import math\n",
    "math.gcd(60, 100, 80)"
   ]
  },
  {
   "cell_type": "markdown",
   "id": "6aa8ee0b",
   "metadata": {},
   "source": [
    "> 파이썬 3.9 버전부터는 math.gcd에 여러 개의 인수를 입력할 수 있지만, 3.9 미만 버전에서는 2개까지만 허용된다.   \n",
    "math.gcd() 함수로 최대 공약수를 구했더니 20이었다. 따라서 최대 20봉지를 만들 수 있다.   \n",
    "각 봉지에 들어가는 사탕, 초콜릿, 젤리의 개수는 다음과 같이 전체 개수를 최대 공약수 20으로 나누면 구할 수 있다."
   ]
  },
  {
   "cell_type": "code",
   "execution_count": 28,
   "id": "60472180",
   "metadata": {
    "ExecuteTime": {
     "end_time": "2023-10-12T05:19:19.119905Z",
     "start_time": "2023-10-12T05:19:19.116014Z"
    }
   },
   "outputs": [
    {
     "data": {
      "text/plain": [
       "(3.0, 5.0, 4.0)"
      ]
     },
     "execution_count": 28,
     "metadata": {},
     "output_type": "execute_result"
    }
   ],
   "source": [
    "# 따라서 한 봉지당 사탕 3개씩, 초콜릿 5개씩, 젤리 4개씩 담으면 된다.\n",
    "60/20, 100/20, 80/20"
   ]
  },
  {
   "cell_type": "markdown",
   "id": "e5554d99",
   "metadata": {},
   "source": [
    "### math.lcm\n",
    "math.lcm은 최소 공배수(lcm, least common multiple)를 구할 때 사용하는 함수이다.\n",
    "* 공식 : 최소공배수LCM(A, B) = (A * B) / 최대공약수GCD(A, B)\n",
    "* math.lcm() 함수는 파이썬 3.9 버전부터 사용할 수 있다.\n",
    "* 최소 공배수란 두 수의 공통 배수 중 가장 작은 수를 말한다. 예를 들어 3과 5의 최소 공배수는 15이다.\n",
    "\n",
    "어느 버스 정류장에 시내버스는 15분마다 도착하고 마을버스는 25분마다 도착한다고 한다. 오후 1시에 두 버스가 동시에 도착했다고 할 때 두 버스가 동시에 도착할 다음 시각을 알려면 어떻게 해야 할까?\n",
    "<img src=\"https://wikidocs.net/images/page/33/05_6_pic3.png\">\n",
    "이 문제는 15와 25의 공통 배수 중 가장 작은 수, 즉 최소 공배수를 구하면 바로 해결된다.\n",
    "\n",
    "math.lcm 함수를 사용하여 최소 공배수 75를 구했다. 따라서 두 버스가 동시에 도착할 다음 시각은 75분 후인 오후 2시 15분이다."
   ]
  },
  {
   "cell_type": "code",
   "execution_count": 30,
   "id": "5eaf9624",
   "metadata": {
    "ExecuteTime": {
     "end_time": "2023-10-12T05:26:18.153809Z",
     "start_time": "2023-10-12T05:26:18.148627Z"
    }
   },
   "outputs": [
    {
     "data": {
      "text/plain": [
       "75"
      ]
     },
     "execution_count": 30,
     "metadata": {},
     "output_type": "execute_result"
    }
   ],
   "source": [
    "import math\n",
    "math.lcm(15, 25)"
   ]
  },
  {
   "cell_type": "markdown",
   "id": "37753a35",
   "metadata": {},
   "source": [
    "### random\n",
    "random은 난수(규칙이 없는 임의의 수)를 발생시키는 모듈이다.   \n",
    "random과 randint 함수에 대해 알아보자.\n",
    "\n",
    "다음은 0.0에서 1.0 사이의 실수 중에서 난수 값을 리턴하는 예를 보여 준다."
   ]
  },
  {
   "cell_type": "code",
   "execution_count": 108,
   "id": "745b3eb1",
   "metadata": {
    "ExecuteTime": {
     "end_time": "2023-12-05T06:28:04.405643Z",
     "start_time": "2023-12-05T06:28:04.397889Z"
    }
   },
   "outputs": [
    {
     "data": {
      "text/plain": [
       "0.32809017583206734"
      ]
     },
     "execution_count": 108,
     "metadata": {},
     "output_type": "execute_result"
    }
   ],
   "source": [
    "import random\n",
    "random.random()"
   ]
  },
  {
   "cell_type": "code",
   "execution_count": 109,
   "id": "816ef1c3",
   "metadata": {
    "ExecuteTime": {
     "end_time": "2023-12-05T06:28:16.511825Z",
     "start_time": "2023-12-05T06:28:16.506606Z"
    }
   },
   "outputs": [],
   "source": [
    "random.random?"
   ]
  },
  {
   "cell_type": "code",
   "execution_count": 111,
   "id": "163e9f86",
   "metadata": {
    "ExecuteTime": {
     "end_time": "2023-12-05T06:28:43.194965Z",
     "start_time": "2023-12-05T06:28:43.189797Z"
    }
   },
   "outputs": [],
   "source": [
    "random.randint?"
   ]
  },
  {
   "cell_type": "code",
   "execution_count": 110,
   "id": "cac0929c",
   "metadata": {
    "ExecuteTime": {
     "end_time": "2023-12-05T06:28:38.083391Z",
     "start_time": "2023-12-05T06:28:38.072871Z"
    }
   },
   "outputs": [
    {
     "data": {
      "text/plain": [
       "3"
      ]
     },
     "execution_count": 110,
     "metadata": {},
     "output_type": "execute_result"
    }
   ],
   "source": [
    "# 다음 예는 1에서 10 사이의 정수 중에서 난수 값을 리턴해 준다.\n",
    "random.randint(1, 10)"
   ]
  },
  {
   "cell_type": "code",
   "execution_count": 113,
   "id": "5c60a716",
   "metadata": {
    "ExecuteTime": {
     "end_time": "2023-12-05T06:30:59.693281Z",
     "start_time": "2023-12-05T06:30:59.687960Z"
    }
   },
   "outputs": [
    {
     "name": "stdout",
     "output_type": "stream",
     "text": [
      "4\n",
      "3\n",
      "5\n",
      "2\n",
      "1\n"
     ]
    }
   ],
   "source": [
    "# random 모듈을 사용해서 비복원추출 함수를 하나 만들어 보자.\n",
    "import random\n",
    "def random_pop(data):\n",
    "    number = random.randint(0, len(data)-1)\n",
    "    return data.pop(number) \n",
    "\n",
    "data = [1, 2, 3, 4, 5]\n",
    "while data: \n",
    "    print(random_pop(data))"
   ]
  },
  {
   "cell_type": "markdown",
   "id": "f3572dba",
   "metadata": {},
   "source": [
    "앞에서 만든 random_pop 함수는 리스트의 요소 중에서 무작위로 하나를 선택하여 꺼낸 다음 그 값을 리턴한다.    \n",
    "물론 꺼낸 요소는 pop 메서드에 의해 사라진다. (비복원 추출)\n",
    "\n",
    "random_pop 함수는 random 모듈의 choice 함수를 사용하여 다음과 같이 좀 더 직관적으로 만들 수도 있다."
   ]
  },
  {
   "cell_type": "code",
   "execution_count": 114,
   "id": "284ab1c7",
   "metadata": {
    "ExecuteTime": {
     "end_time": "2023-12-05T06:33:55.619884Z",
     "start_time": "2023-12-05T06:33:55.613900Z"
    }
   },
   "outputs": [],
   "source": [
    "random.choice?"
   ]
  },
  {
   "cell_type": "code",
   "execution_count": 117,
   "id": "148e0076",
   "metadata": {
    "ExecuteTime": {
     "end_time": "2023-12-05T06:34:41.848486Z",
     "start_time": "2023-12-05T06:34:41.845479Z"
    }
   },
   "outputs": [],
   "source": [
    "def random_pop(data):\n",
    "    number = random.choice(data)\n",
    "    data.remove(number)\n",
    "    return number"
   ]
  },
  {
   "cell_type": "markdown",
   "id": "271f795d",
   "metadata": {},
   "source": [
    "random.choice 함수는 입력으로 받은 리스트에서 무작위로 하나를 선택하여 리턴한다.   \n",
    "\n",
    "리스트의 항목을 무작위로 섞고 싶을 때는 random.sample 함수를 사용하면 된다."
   ]
  },
  {
   "cell_type": "code",
   "execution_count": 116,
   "id": "4b2c2190",
   "metadata": {
    "ExecuteTime": {
     "end_time": "2023-12-05T06:34:21.059411Z",
     "start_time": "2023-12-05T06:34:21.055070Z"
    }
   },
   "outputs": [],
   "source": [
    "random.sample?"
   ]
  },
  {
   "cell_type": "code",
   "execution_count": 118,
   "id": "60cef8e6",
   "metadata": {
    "ExecuteTime": {
     "end_time": "2023-12-05T06:34:46.283214Z",
     "start_time": "2023-12-05T06:34:46.278099Z"
    },
    "scrolled": true
   },
   "outputs": [
    {
     "data": {
      "text/plain": [
       "[3, 4, 1, 5, 2]"
      ]
     },
     "execution_count": 118,
     "metadata": {},
     "output_type": "execute_result"
    }
   ],
   "source": [
    "import random\n",
    "data = [1, 2, 3, 4, 5]\n",
    "random.sample(data, len(data))"
   ]
  },
  {
   "cell_type": "code",
   "execution_count": 120,
   "id": "2aea718f",
   "metadata": {
    "ExecuteTime": {
     "end_time": "2023-12-05T06:35:28.625070Z",
     "start_time": "2023-12-05T06:35:28.620526Z"
    }
   },
   "outputs": [
    {
     "data": {
      "text/plain": [
       "[4, 1]"
      ]
     },
     "execution_count": 120,
     "metadata": {},
     "output_type": "execute_result"
    }
   ],
   "source": [
    "random.sample(data, 2)"
   ]
  },
  {
   "cell_type": "markdown",
   "id": "66b3e13a",
   "metadata": {},
   "source": [
    "random.sample 함수에서 두 번째 인수인 len(data)는 무작위로 추출할 원소의 개수를 의미한다.   \n",
    "만약 random.sample(data, 3)과 같이 사용한다면 data 리스트에서 무작위로 3개를 추출하여 리턴할 것이다."
   ]
  },
  {
   "cell_type": "markdown",
   "id": "7da2ee1b",
   "metadata": {},
   "source": [
    "### itertools.zip_longest\n",
    "itertools.zip_longest(*iterables, fillvalue=None) 함수는 같은 개수의 자료형을 묶는 파이썬 내장 함수인 zip 함수와 똑같이 동작한다.   \n",
    "하지만 itertools.zip_longest() 함수는 전달한 반복 가능 객체(*iterables)의 길이가 서로 다르다면 긴 객체의 길이에 맞춰 fillvalue에 설정한 값을 짧은 객체에 채울 수 있다.\n",
    "\n",
    "예시로 유치원생 5명에게 간식을 나누어 주고자 다음과 같은 파이썬 코드를 작성해 보자."
   ]
  },
  {
   "cell_type": "code",
   "execution_count": 40,
   "id": "8eefdd76",
   "metadata": {
    "ExecuteTime": {
     "end_time": "2023-10-12T06:46:17.028922Z",
     "start_time": "2023-10-12T06:46:17.024292Z"
    }
   },
   "outputs": [
    {
     "name": "stdout",
     "output_type": "stream",
     "text": [
      "[('한민서', '사탕'), ('황지민', '초컬릿'), ('이영철', '젤리')]\n"
     ]
    }
   ],
   "source": [
    "students = ['한민서', '황지민', '이영철', '이광수', '김승민']\n",
    "snacks = ['사탕', '초컬릿', '젤리']\n",
    "\n",
    "result = zip(students, snacks)\n",
    "print(list(result))\n",
    "# 간식의 개수가 유치원생보다 적으므로 이 파이썬 코드를 실행하면 다음과 같은 결과가 나온다"
   ]
  },
  {
   "cell_type": "markdown",
   "id": "b88d2d05",
   "metadata": {},
   "source": [
    "students와 snacks의 요소 개수가 다르므로 더 적은 snacks의 개수만큼만 zip()으로 묶게 된다.\n",
    "\n",
    "students의 요소 개수가 snacks보다 많을 때 그만큼을 ‘새우깡’으로 채우려면 어떻게 해야 할까?   \n",
    "이럴 때 요소 개수가 많은 것을 기준으로 자료형을 묶는 itertools.zip_longest()를 사용하면 된다.   \n",
    "부족한 항목은 None으로 채우는데, 다음처럼 fillvalue로 값을 지정하면 None 대신 다른 값으로 채울 수 있다."
   ]
  },
  {
   "cell_type": "code",
   "execution_count": 41,
   "id": "31ddc236",
   "metadata": {
    "ExecuteTime": {
     "end_time": "2023-10-12T06:47:07.941805Z",
     "start_time": "2023-10-12T06:47:07.937298Z"
    }
   },
   "outputs": [
    {
     "name": "stdout",
     "output_type": "stream",
     "text": [
      "[('한민서', '사탕'), ('황지민', '초컬릿'), ('이영철', '젤리'), ('이광수', '새우깡'), ('김승민', '새우깡')]\n"
     ]
    }
   ],
   "source": [
    "import itertools\n",
    "\n",
    "students = ['한민서', '황지민', '이영철', '이광수', '김승민']\n",
    "snacks = ['사탕', '초컬릿', '젤리']\n",
    "\n",
    "result = itertools.zip_longest(students, snacks, fillvalue='새우깡')\n",
    "print(list(result))"
   ]
  },
  {
   "cell_type": "markdown",
   "id": "c37b685a",
   "metadata": {},
   "source": [
    "### itertools.permutation\n",
    "itertools.permutations(iterable, r)은 반복 가능 객체 중에서 r개를 선택한 순열을 이터레이터로 리턴하는 함수이다.\n",
    "> 이터레이터란 반복 가능한 객체를 의미한다.\n",
    "\n",
    "1, 2, 3이라는 숫자가 적힌 3장의 카드에서 2장의 카드를 꺼내 만들 수 있는 2자리 숫자를 모두 구하려면 어떻게 해야 할까?\n",
    "<img src=\"https://wikidocs.net/images/page/33/05_6_pic4.png\">\n",
    "\n",
    "[1, 2, 3]이라는 3장의 카드 중 순서에 상관없이 2장을 뽑는 경우의 수는 모두 3가지이다(조합).\n",
    "* 1, 2\n",
    "* 2, 3\n",
    "* 1, 3\n",
    "\n",
    "하지만 이 문제에서는 2자리 숫자이므로 이 3가지에 순서를 더해 다음처럼 6가지가 된다(순열).\n",
    "* 1, 2\n",
    "* 2, 1\n",
    "* 2, 3\n",
    "* 3, 2\n",
    "* 1, 3\n",
    "* 3, 1\n",
    "\n",
    "이 순열은 itertools.permutations()를 사용하면 간단히 구할 수 있다."
   ]
  },
  {
   "cell_type": "code",
   "execution_count": 42,
   "id": "7213ff8c",
   "metadata": {
    "ExecuteTime": {
     "end_time": "2023-10-12T06:49:04.286606Z",
     "start_time": "2023-10-12T06:49:04.281301Z"
    }
   },
   "outputs": [
    {
     "data": {
      "text/plain": [
       "[('1', '2'), ('1', '3'), ('2', '1'), ('2', '3'), ('3', '1'), ('3', '2')]"
      ]
     },
     "execution_count": 42,
     "metadata": {},
     "output_type": "execute_result"
    }
   ],
   "source": [
    "import itertools\n",
    "list(itertools.permutations(['1', '2', '3'], 2))"
   ]
  },
  {
   "cell_type": "code",
   "execution_count": 43,
   "id": "611a32b9",
   "metadata": {
    "ExecuteTime": {
     "end_time": "2023-10-12T06:49:21.372430Z",
     "start_time": "2023-10-12T06:49:21.368131Z"
    },
    "scrolled": true
   },
   "outputs": [
    {
     "name": "stdout",
     "output_type": "stream",
     "text": [
      "12\n",
      "13\n",
      "21\n",
      "23\n",
      "31\n",
      "32\n"
     ]
    }
   ],
   "source": [
    "# 따라서 만들 수 있는 2자리 숫자는 다음과 같이 모두 6가지이다.\n",
    "for a, b in itertools.permutations(['1', '2', '3'], 2):\n",
    "    print(a+b)"
   ]
  },
  {
   "cell_type": "markdown",
   "id": "4cfca8ec",
   "metadata": {},
   "source": [
    "#### 조합을 사용하는 함수\n",
    "3장의 카드에서 순서에 상관없이 2장을 고르는 조합은 다음처럼 itertools.combinations()를 사용하면 된다."
   ]
  },
  {
   "cell_type": "code",
   "execution_count": 44,
   "id": "1c8b0266",
   "metadata": {
    "ExecuteTime": {
     "end_time": "2023-10-12T06:49:52.758860Z",
     "start_time": "2023-10-12T06:49:52.754427Z"
    }
   },
   "outputs": [
    {
     "data": {
      "text/plain": [
       "[('1', '2'), ('1', '3'), ('2', '3')]"
      ]
     },
     "execution_count": 44,
     "metadata": {},
     "output_type": "execute_result"
    }
   ],
   "source": [
    "import itertools\n",
    "list(itertools.combinations(['1', '2', '3'], 2))"
   ]
  },
  {
   "cell_type": "markdown",
   "id": "0a63e024",
   "metadata": {},
   "source": [
    "### itertools.combination\n",
    "itertools.combinations(iterable, r)은 반복 가능 객체 중에서 r개를 선택한 조합을 이터레이터로 리턴하는 함수이다.\n",
    "\n",
    "1~45 중 서로 다른 숫자 6개를 뽑는 로또 번호의 모든 경우의 수(조합)를 구하고 그 개수를 출력하려면 어떻게 해야 할까?\n",
    "<img src=\"https://wikidocs.net/images/page/33/05_6_pic5.png\">\n",
    "다음과 같이 itertools.combinations()를 사용하면 45개의 숫자 중 6개를 선택하는 경우의 수를 구할 수 있다."
   ]
  },
  {
   "cell_type": "code",
   "execution_count": 45,
   "id": "52431cfd",
   "metadata": {
    "ExecuteTime": {
     "end_time": "2023-10-12T06:50:20.412090Z",
     "start_time": "2023-10-12T06:50:20.409037Z"
    }
   },
   "outputs": [],
   "source": [
    "import itertools\n",
    "it = itertools.combinations(range(1, 46), 6)"
   ]
  },
  {
   "cell_type": "markdown",
   "id": "9fee5cd8",
   "metadata": {},
   "source": [
    "itertools.combinations(range(1, 46), 6)은 1~45의 숫자 중에서 6개를 뽑는 경우의 수를 이터레이터로 리턴한다.\n",
    "\n",
    "이터레이터 객체를 루프를 이용하여 출력하면 아마 끝도 없이 출력될 것이다. 궁금하다면 직접 실행해 봐도 좋다."
   ]
  },
  {
   "cell_type": "code",
   "execution_count": null,
   "id": "781ff0a4",
   "metadata": {},
   "outputs": [],
   "source": [
    "for num in it:\n",
    "    print(num)"
   ]
  },
  {
   "cell_type": "code",
   "execution_count": 47,
   "id": "19ad954f",
   "metadata": {
    "ExecuteTime": {
     "end_time": "2023-10-12T06:51:10.091403Z",
     "start_time": "2023-10-12T06:51:08.849039Z"
    }
   },
   "outputs": [
    {
     "data": {
      "text/plain": [
       "8145060"
      ]
     },
     "execution_count": 47,
     "metadata": {},
     "output_type": "execute_result"
    }
   ],
   "source": [
    "# 하지만 순환하여 출력하지 않고 이터레이터의 개수만 세려면 다음과 같이 하면 된다.\n",
    "len(list(itertools.combinations(range(1, 46), 6)))"
   ]
  },
  {
   "cell_type": "markdown",
   "id": "3f521fe9",
   "metadata": {},
   "source": [
    "선택할 수 있는 로또 번호의 가짓수는 8,145,060이다.\n",
    "> 여러분이 반드시 로또에 당첨되길 희망한다면 서로 다른 번호로 구성한 8,145,060장의 로또를 사면 된다. 게임 1번에 1,000원이라고 할 때 그 금액은 무려 81억 4,506만 원이다."
   ]
  },
  {
   "cell_type": "markdown",
   "id": "666fc20b",
   "metadata": {},
   "source": [
    "#### 중복 조합을 사용하는 함수\n",
    "만약 로또 복권이 숫자 중복을 허용하도록 규칙이 변경된다면 경우의 수는 몇 개가 될까?\n",
    "\n",
    "> 중복이 허용된다는 것은 당첨 번호가 [1, 2, 3, 4, 5, 5]처럼 5가 2번 이상 나와도 되고 [1, 1, 1, 1, 1, 1]처럼 1이 6번 나와도 된다는 의미이다.\n",
    "\n",
    "같은 숫자를 허용하는 중복 조합은 itertools.combinations_with_replacement()를 사용하면 된다."
   ]
  },
  {
   "cell_type": "code",
   "execution_count": 48,
   "id": "a3b8b90c",
   "metadata": {
    "ExecuteTime": {
     "end_time": "2023-10-12T06:52:03.746356Z",
     "start_time": "2023-10-12T06:52:01.418725Z"
    }
   },
   "outputs": [
    {
     "data": {
      "text/plain": [
       "15890700"
      ]
     },
     "execution_count": 48,
     "metadata": {},
     "output_type": "execute_result"
    }
   ],
   "source": [
    "# 당연히 중복을 허용하지 않을 때보다 훨씬 많은 경우의 수가 리턴되는 것을 확인할 수 있다.\n",
    "len(list(itertools.combinations_with_replacement(range(1, 46), 6)))"
   ]
  },
  {
   "cell_type": "markdown",
   "id": "807b1ef1",
   "metadata": {},
   "source": [
    "### functools.reduce\n",
    "functools.reduce(function, iterable)은 함수(function)를 반복 가능한 객체(iterable)의 요소에 차례대로(왼쪽에서 오른쪽으로) 누적 적용하여 이 객체를 하나의 값으로 줄이는 함수이다.\n",
    "\n",
    "다음은 입력 인수 data의 요소를 모두 더하여 리턴하는 add 함수이다."
   ]
  },
  {
   "cell_type": "code",
   "execution_count": 49,
   "id": "7388833c",
   "metadata": {
    "ExecuteTime": {
     "end_time": "2023-10-12T06:52:56.047025Z",
     "start_time": "2023-10-12T06:52:56.042973Z"
    }
   },
   "outputs": [
    {
     "name": "stdout",
     "output_type": "stream",
     "text": [
      "15\n"
     ]
    }
   ],
   "source": [
    "def add(data):\n",
    "    result = 0\n",
    "    for i in data:\n",
    "        result += i\n",
    "    return result\n",
    "\n",
    "data = [1, 2, 3, 4, 5]\n",
    "result = add(data)\n",
    "print(result)  # 15 출력"
   ]
  },
  {
   "cell_type": "code",
   "execution_count": 50,
   "id": "ba911466",
   "metadata": {
    "ExecuteTime": {
     "end_time": "2023-10-12T06:53:23.812958Z",
     "start_time": "2023-10-12T06:53:23.808679Z"
    }
   },
   "outputs": [
    {
     "name": "stdout",
     "output_type": "stream",
     "text": [
      "15\n"
     ]
    }
   ],
   "source": [
    "# functools.reduce()를 사용한 코드는 다음과 같다.\n",
    "import functools\n",
    "\n",
    "data = [1, 2, 3, 4, 5]\n",
    "result = functools.reduce(lambda x, y: x + y, data)\n",
    "print(result)  # 15 출력"
   ]
  },
  {
   "cell_type": "markdown",
   "id": "892522e2",
   "metadata": {},
   "source": [
    "functools.reduce()를 사용하면 reduce()에 선언한 람다 함수를 data 요소에 차례대로 누적 적용하여 다음과 같이 계산한다.\n",
    "* ((((1+2)+3)+4)+5)"
   ]
  },
  {
   "cell_type": "markdown",
   "id": "d75aad45",
   "metadata": {},
   "source": [
    "#### functools.reduce()로 최댓값 구하기\n",
    "functools.reduce 함수로 최댓값도 구할 수 있다."
   ]
  },
  {
   "cell_type": "code",
   "execution_count": 51,
   "id": "4acbb917",
   "metadata": {
    "ExecuteTime": {
     "end_time": "2023-10-12T06:54:21.893996Z",
     "start_time": "2023-10-12T06:54:21.889660Z"
    }
   },
   "outputs": [
    {
     "name": "stdout",
     "output_type": "stream",
     "text": [
      "8\n"
     ]
    }
   ],
   "source": [
    "num_list = [3, 2, 8, 1, 6, 7]\n",
    "max_num = functools.reduce(lambda x, y: x if x > y else y, num_list)\n",
    "print(max_num)  # 8 출력"
   ]
  },
  {
   "cell_type": "markdown",
   "id": "135fd042",
   "metadata": {},
   "source": [
    "[3, 2, 8, 1, 6, 7] 요소를 차례대로 reduce()의 람다 함수로 전달하여 두 값 중 큰 값을 선택하고 마지막에 남은 최댓값을 리턴한다.\n",
    "\n",
    "최솟값은 functools.reduce(lambda x, y: x if x < y else y, num_list)로 구할수 있다."
   ]
  },
  {
   "cell_type": "markdown",
   "id": "cd2bf9a9",
   "metadata": {},
   "source": [
    "### operator.itemgetter\n",
    "operator.itemgetter는 주로 sorted와 같은 함수의 key 매개변수에 적용하여 다양한 기준으로 정렬할 수 있도록 도와주는 모듈이다.\n",
    "\n",
    "예를 들어 학생의 이름, 나이, 성적 등의 정보를 저장한, 다음과 같은 students 리스트가 있다고 가정해 보자.\n",
    "```python\n",
    "students = [\n",
    "    (\"jane\", 22, 'A'),\n",
    "    (\"dave\", 32, 'B'),\n",
    "    (\"sally\", 17, 'B'),\n",
    "]\n",
    "```\n",
    "students 리스트에는 3개의 튜플이 있으며 각 튜플은 순서대로 이름, 나이, 성적에 해당하는 데이터로 이루어졌다.   \n",
    "이 리스트를 나이순으로 정렬하려면 어떻게 해야 할까?\n",
    "<img src=\"https://wikidocs.net/images/page/33/05_6_pic6.png\">\n",
    "\n",
    "이 문제는 다음처럼 sorted 함수의 key 매개변수에 itemgetter()를 적용하면 쉽게 해결할 수 있다."
   ]
  },
  {
   "cell_type": "code",
   "execution_count": 52,
   "id": "6df4de3b",
   "metadata": {
    "ExecuteTime": {
     "end_time": "2023-10-12T06:55:43.942243Z",
     "start_time": "2023-10-12T06:55:43.937819Z"
    }
   },
   "outputs": [
    {
     "name": "stdout",
     "output_type": "stream",
     "text": [
      "[('sally', 17, 'B'), ('jane', 22, 'A'), ('dave', 32, 'B')]\n"
     ]
    }
   ],
   "source": [
    "from operator import itemgetter\n",
    "\n",
    "students = [\n",
    "    (\"jane\", 22, 'A'),\n",
    "    (\"dave\", 32, 'B'),\n",
    "    (\"sally\", 17, 'B'),\n",
    "]\n",
    "\n",
    "result = sorted(students, key=itemgetter(1))\n",
    "print(result)"
   ]
  },
  {
   "cell_type": "markdown",
   "id": "05c2015f",
   "metadata": {},
   "source": [
    "itemgetter(1)은 students의 아이템인 튜플의 두 번째 요소를 기준으로 정렬하겠다는 의미이다.   \n",
    "만약 itemgetter(2)와 같이 사용한다면 성적순으로 정렬한다.\n",
    "이번에는 students의 요소가 다음처럼 딕셔너리일 때를 생각해 보자.\n",
    "\n",
    "```python\n",
    "students = [\n",
    "    {\"name\": \"jane\", \"age\": 22, \"grade\": 'A'},\n",
    "    {\"name\": \"dave\", \"age\": 32, \"grade\": 'B'},\n",
    "    {\"name\": \"sally\", \"age\": 17, \"grade\": 'B'},\n",
    "]\n",
    "```\n",
    "딕셔너리일 때도 마찬가지로 age를 기준으로 정렬해 보자. 이때도 마찬가지로 itemgetter()를 적용하면 된다.   \n",
    "단, 이번에는 itemgetter('age')처럼 딕셔너리의 키를 사용해야 한다.   \n",
    "itemgetter('age')는 딕셔너리의 키인 age를 기준으로 정렬하겠다는 의미이다."
   ]
  },
  {
   "cell_type": "code",
   "execution_count": 53,
   "id": "6895c614",
   "metadata": {
    "ExecuteTime": {
     "end_time": "2023-10-12T06:56:52.630326Z",
     "start_time": "2023-10-12T06:56:52.625824Z"
    }
   },
   "outputs": [
    {
     "name": "stdout",
     "output_type": "stream",
     "text": [
      "[{'name': 'sally', 'age': 17, 'grade': 'B'}, {'name': 'jane', 'age': 22, 'grade': 'A'}, {'name': 'dave', 'age': 32, 'grade': 'B'}]\n"
     ]
    }
   ],
   "source": [
    "from operator import itemgetter\n",
    "\n",
    "students = [\n",
    "    {\"name\": \"jane\", \"age\": 22, \"grade\": 'A'},\n",
    "    {\"name\": \"dave\", \"age\": 32, \"grade\": 'B'},\n",
    "    {\"name\": \"sally\", \"age\": 17, \"grade\": 'B'},\n",
    "]\n",
    "\n",
    "result = sorted(students, key=itemgetter('age'))\n",
    "print(result)"
   ]
  },
  {
   "cell_type": "markdown",
   "id": "970c6c60",
   "metadata": {},
   "source": [
    "#### operator.attrgetter()\n",
    "students 리스트의 요소가 튜플이 아닌 Student 클래스의 객체라면 다음처럼 attrgetter()를 적용하여 정렬해야 한다.   \n",
    "attrgetter('age')는 Student 객체의 age 속성으로 정렬하겠다는 의미이다.   \n",
    "이와 마찬가지로 attrgetter('grade')와 같이 사용하면 성적순으로 정렬한다."
   ]
  },
  {
   "cell_type": "code",
   "execution_count": 62,
   "id": "971b9fc1",
   "metadata": {
    "ExecuteTime": {
     "end_time": "2023-10-12T07:01:06.190328Z",
     "start_time": "2023-10-12T07:01:06.186074Z"
    }
   },
   "outputs": [],
   "source": [
    "# attrgetter1.py\n",
    "from operator import attrgetter\n",
    "\n",
    "class Student:\n",
    "    def __init__(self, name, age, grade):\n",
    "        self.name = name\n",
    "        self.age = age\n",
    "        self.grade = grade\n",
    "\n",
    "students = [\n",
    "    Student('jane', 22, 'A'),\n",
    "    Student('dave', 32, 'B'),\n",
    "    Student('sally', 17, 'B'),\n",
    "]\n",
    "\n",
    "result = sorted(students, key=attrgetter('age'))"
   ]
  },
  {
   "cell_type": "markdown",
   "id": "5f840515",
   "metadata": {},
   "source": [
    "### shutil\n",
    "shutil은 파일을 복사(copy)하거나 이동(move)할 때 사용하는 모듈이다.\n",
    "\n",
    "작업 중인 파일을 자동으로 백업하는 기능을 구현하고자 c:\\doit\\a.txt를 c:\\temp\\a.txt.bak이라는 이름으로 복사하는 프로그램을 만들고자 한다.   \n",
    "어떻게 만들어야 할까? c:\\doit 디렉터리에 a.txt를 만드는 중이며 백업용 c:\\temp 디렉터리는 이미 만들었다고 가정한다.\n",
    "\n",
    "다음은 shutil을 사용한 방법이다."
   ]
  },
  {
   "cell_type": "code",
   "execution_count": 39,
   "id": "345986a8",
   "metadata": {
    "ExecuteTime": {
     "end_time": "2023-10-12T05:37:26.283354Z",
     "start_time": "2023-10-12T05:37:26.276745Z"
    }
   },
   "outputs": [
    {
     "data": {
      "text/plain": [
       "'temp/a.txt.bak'"
      ]
     },
     "execution_count": 39,
     "metadata": {},
     "output_type": "execute_result"
    }
   ],
   "source": [
    "import shutil\n",
    "\n",
    "shutil.copy(\"a.txt\", \"temp/a.txt.bak\")"
   ]
  },
  {
   "cell_type": "markdown",
   "id": "9e777513",
   "metadata": {},
   "source": [
    "##### shutil.move로 삭제 기능 만들기\n",
    "휴지통으로 삭제하는 기능을 구현하고자 c:\\doit\\a.txt 파일을 c:\\temp\\a.txt로 이동하려면 다음과 같이 코드를 작성해야 한다."
   ]
  },
  {
   "cell_type": "code",
   "execution_count": 40,
   "id": "80cabf2b",
   "metadata": {
    "ExecuteTime": {
     "end_time": "2023-10-12T05:38:06.026412Z",
     "start_time": "2023-10-12T05:38:06.020697Z"
    }
   },
   "outputs": [
    {
     "data": {
      "text/plain": [
       "'temp/a.txt'"
      ]
     },
     "execution_count": 40,
     "metadata": {},
     "output_type": "execute_result"
    }
   ],
   "source": [
    "import shutil\n",
    "\n",
    "shutil.move(\"a.txt\", \"temp/a.txt\")"
   ]
  },
  {
   "cell_type": "markdown",
   "id": "026a05f2",
   "metadata": {},
   "source": [
    "### glob\n",
    "가끔 파일을 읽고 쓰는 기능이 있는 프로그램을 만들다 보면 특정 디렉터리에 있는 파일 이름 모두를 알아야 할 때가 있다.   \n",
    "이럴 때 사용하는 모듈이 바로 glob이다."
   ]
  },
  {
   "cell_type": "markdown",
   "id": "4de79868",
   "metadata": {},
   "source": [
    "##### 디렉터리에 있는 파일들을 리스트로 만들기 - glob(pathname)\n",
    "glob 모듈은 디렉터리 안의 파일들을 읽어서 리턴한다.   \n",
    "*, ? 등 메타 문자를 써서 원하는 파일만 읽어 들일 수도 있다.    \n",
    "다음은 C:/doit 디렉터리에 있는 파일 중 이름이 mark로 시작하는 파일을 모두 찾아서 읽어들이는 예이다.\n",
    "\n",
    "?는 1자리 문자열, *은 임의의 길이의 문자열을 의미한다."
   ]
  },
  {
   "cell_type": "code",
   "execution_count": 124,
   "id": "a3d19be6",
   "metadata": {
    "ExecuteTime": {
     "end_time": "2023-12-05T06:39:14.003535Z",
     "start_time": "2023-12-05T06:39:13.998250Z"
    },
    "scrolled": true
   },
   "outputs": [
    {
     "data": {
      "text/plain": [
       "['C:/workspace/python/WASSUP\\\\00_마크다운.ipynb',\n",
       " 'C:/workspace/python/WASSUP\\\\01_자료형&변수.ipynb',\n",
       " 'C:/workspace/python/WASSUP\\\\01_자료형&변수_연습문제.ipynb',\n",
       " 'C:/workspace/python/WASSUP\\\\02_제어문.ipynb',\n",
       " 'C:/workspace/python/WASSUP\\\\02_제어문_연습문제.ipynb',\n",
       " 'C:/workspace/python/WASSUP\\\\03_코딩연습_전화번호프로그램.ipynb',\n",
       " 'C:/workspace/python/WASSUP\\\\04_함수&입출력.ipynb',\n",
       " 'C:/workspace/python/WASSUP\\\\04_함수&입출력_연습문제.ipynb',\n",
       " 'C:/workspace/python/WASSUP\\\\05_클래스&내장함수_연습문제.ipynb',\n",
       " 'C:/workspace/python/WASSUP\\\\05_클래스&예외처리.ipynb',\n",
       " 'C:/workspace/python/WASSUP\\\\06_내장함수&라이브러리_강사용.ipynb']"
      ]
     },
     "execution_count": 124,
     "metadata": {},
     "output_type": "execute_result"
    }
   ],
   "source": [
    "import glob\n",
    "glob.glob(\"C:/workspace/python/WASSUP/*.ipynb\")"
   ]
  },
  {
   "cell_type": "code",
   "execution_count": 141,
   "id": "020d19ad",
   "metadata": {
    "ExecuteTime": {
     "end_time": "2023-12-05T06:46:59.864769Z",
     "start_time": "2023-12-05T06:46:59.860185Z"
    }
   },
   "outputs": [
    {
     "name": "stdout",
     "output_type": "stream",
     "text": [
      "00_마크다운\n",
      "01_자료형&변수\n",
      "01_자료형&변수_연습문제\n",
      "02_제어문\n",
      "02_제어문_연습문제\n",
      "03_코딩연습_전화번호프로그램\n",
      "04_함수&입출력\n",
      "04_함수&입출력_연습문제\n",
      "05_클래스&내장함수_연습문제\n",
      "05_클래스&예외처리\n",
      "06_내장함수&라이브러리_강사용\n"
     ]
    }
   ],
   "source": [
    "# 파일명 추출하기\n",
    "file_list = glob.glob(\"C:/workspace/python/WASSUP/*.ipynb\")\n",
    "for file in file_list:\n",
    "#     print(file.split('\\\\')[1][:-6])\n",
    "    print(file.split('\\\\')[1].split('.')[0])"
   ]
  },
  {
   "cell_type": "markdown",
   "id": "16e6198f",
   "metadata": {
    "heading_collapsed": true
   },
   "source": [
    "### pickle\n",
    "pickle은 객체의 형태를 그대로 유지하면서 파일에 저장하고 불러올 수 있게 하는 모듈이다.   \n",
    "\n",
    "다음 예는 pickle 모듈의 dump 함수를 사용하여 딕셔너리 객체인 data를 그대로 파일에 저장하는 방법을 보여 준다.\n",
    "> 아래 예에서는 딕셔너리 객체를 사용했지만, 어떤 자료형이든 저장하고 불러올 수 있다."
   ]
  },
  {
   "cell_type": "code",
   "execution_count": 43,
   "id": "6739d9d6",
   "metadata": {
    "ExecuteTime": {
     "end_time": "2023-10-12T05:42:23.450217Z",
     "start_time": "2023-10-12T05:42:23.445953Z"
    },
    "hidden": true
   },
   "outputs": [],
   "source": [
    "import pickle\n",
    "f = open(\"test.txt\", 'wb')\n",
    "data = {1: 'python', 2: 'you need'}\n",
    "pickle.dump(data, f)\n",
    "f.close()"
   ]
  },
  {
   "cell_type": "code",
   "execution_count": 44,
   "id": "298b3584",
   "metadata": {
    "ExecuteTime": {
     "end_time": "2023-10-12T05:42:44.544414Z",
     "start_time": "2023-10-12T05:42:44.532926Z"
    },
    "hidden": true
   },
   "outputs": [
    {
     "name": "stdout",
     "output_type": "stream",
     "text": [
      "{1: 'python', 2: 'you need'}\n"
     ]
    }
   ],
   "source": [
    "# 다음은 pickle.dump로 저장한 파일을 pickle.load를 사용해서 원래 있던 딕셔너리 객체(data) 상태 그대로 불러오는 예이다.\n",
    "import pickle\n",
    "f = open(\"test.txt\", 'rb')\n",
    "data = pickle.load(f)\n",
    "print(data)"
   ]
  },
  {
   "cell_type": "markdown",
   "id": "960c9d10",
   "metadata": {},
   "source": [
    "### os\n",
    "os 모듈은 환경 변수나 디렉터리, 파일 등의 OS 자원을 제어할 수 있게 해 주는 모듈이다."
   ]
  },
  {
   "cell_type": "markdown",
   "id": "f19dc806",
   "metadata": {},
   "source": [
    "##### 내 시스템의 환경 변숫값을 알고 싶을 때 - os.environ\n",
    "시스템은 제각기 다른 환경 변숫값을 가지고 있는데, os.environ은 현재 시스템의 환경 변숫값을 리턴한다. 다음을 따라 해 보자."
   ]
  },
  {
   "cell_type": "code",
   "execution_count": 142,
   "id": "8afe60a1",
   "metadata": {
    "ExecuteTime": {
     "end_time": "2023-12-05T06:48:25.426485Z",
     "start_time": "2023-12-05T06:48:25.420070Z"
    }
   },
   "outputs": [
    {
     "data": {
      "text/plain": [
       "environ{'ALLUSERSPROFILE': 'C:\\\\ProgramData',\n",
       "        'APPDATA': 'C:\\\\Users\\\\maeng\\\\AppData\\\\Roaming',\n",
       "        'COMMONPROGRAMFILES': 'C:\\\\Program Files\\\\Common Files',\n",
       "        'COMMONPROGRAMFILES(X86)': 'C:\\\\Program Files (x86)\\\\Common Files',\n",
       "        'COMMONPROGRAMW6432': 'C:\\\\Program Files\\\\Common Files',\n",
       "        'COMPUTERNAME': 'DESKTOP-H355R5K',\n",
       "        'COMSPEC': 'C:\\\\Windows\\\\system32\\\\cmd.exe',\n",
       "        'DRIVERDATA': 'C:\\\\Windows\\\\System32\\\\Drivers\\\\DriverData',\n",
       "        'FPS_BROWSER_APP_PROFILE_STRING': 'Internet Explorer',\n",
       "        'FPS_BROWSER_USER_PROFILE_STRING': 'Default',\n",
       "        'HOMEDRIVE': 'C:',\n",
       "        'HOMEPATH': '\\\\Users\\\\maeng',\n",
       "        'LOCALAPPDATA': 'C:\\\\Users\\\\maeng\\\\AppData\\\\Local',\n",
       "        'LOGONSERVER': '\\\\\\\\DESKTOP-H355R5K',\n",
       "        'NUMBER_OF_PROCESSORS': '4',\n",
       "        'ONEDRIVE': 'C:\\\\Users\\\\maeng\\\\OneDrive',\n",
       "        'OS': 'Windows_NT',\n",
       "        'PATH': 'C:\\\\Users\\\\maeng\\\\anaconda3;C:\\\\Users\\\\maeng\\\\anaconda3\\\\Library\\\\mingw-w64\\\\bin;C:\\\\Users\\\\maeng\\\\anaconda3\\\\Library\\\\usr\\\\bin;C:\\\\Users\\\\maeng\\\\anaconda3\\\\Library\\\\bin;C:\\\\Users\\\\maeng\\\\anaconda3\\\\Scripts;C:\\\\Program Files\\\\MySQL\\\\MySQL Server 8.0\\\\bin;C:\\\\Windows\\\\system32;C:\\\\Windows;C:\\\\Windows\\\\System32\\\\Wbem;C:\\\\Windows\\\\System32\\\\WindowsPowerShell\\\\v1.0\\\\;C:\\\\Windows\\\\System32\\\\OpenSSH\\\\;C:\\\\Program Files (x86)\\\\NVIDIA Corporation\\\\PhysX\\\\Common;C:\\\\Program Files\\\\Git\\\\cmd;C:\\\\Users\\\\maeng\\\\anaconda3;C:\\\\Users\\\\maeng\\\\anaconda3\\\\Library\\\\mingw-w64\\\\bin;C:\\\\Users\\\\maeng\\\\anaconda3\\\\Library\\\\usr\\\\bin;C:\\\\Users\\\\maeng\\\\anaconda3\\\\Library\\\\bin;C:\\\\Users\\\\maeng\\\\anaconda3\\\\Scripts;C:\\\\Users\\\\maeng\\\\miniconda3;C:\\\\Users\\\\maeng\\\\miniconda3\\\\Library\\\\mingw-w64\\\\bin;C:\\\\Users\\\\maeng\\\\miniconda3\\\\Library\\\\usr\\\\bin;C:\\\\Users\\\\maeng\\\\miniconda3\\\\Library\\\\bin;C:\\\\Users\\\\maeng\\\\miniconda3\\\\Scripts;C:\\\\Users\\\\maeng\\\\AppData\\\\Local\\\\Microsoft\\\\WindowsApps',\n",
       "        'PATHEXT': '.COM;.EXE;.BAT;.CMD;.VBS;.VBE;.JS;.JSE;.WSF;.WSH;.MSC',\n",
       "        'PROCESSOR_ARCHITECTURE': 'AMD64',\n",
       "        'PROCESSOR_IDENTIFIER': 'Intel64 Family 6 Model 94 Stepping 3, GenuineIntel',\n",
       "        'PROCESSOR_LEVEL': '6',\n",
       "        'PROCESSOR_REVISION': '5e03',\n",
       "        'PROGRAMDATA': 'C:\\\\ProgramData',\n",
       "        'PROGRAMFILES': 'C:\\\\Program Files',\n",
       "        'PROGRAMFILES(X86)': 'C:\\\\Program Files (x86)',\n",
       "        'PROGRAMW6432': 'C:\\\\Program Files',\n",
       "        'PSMODULEPATH': 'C:\\\\Program Files\\\\WindowsPowerShell\\\\Modules;C:\\\\Windows\\\\system32\\\\WindowsPowerShell\\\\v1.0\\\\Modules',\n",
       "        'PUBLIC': 'C:\\\\Users\\\\Public',\n",
       "        'SESSIONNAME': 'Console',\n",
       "        'SYSTEMDRIVE': 'C:',\n",
       "        'SYSTEMROOT': 'C:\\\\Windows',\n",
       "        'TEMP': 'C:\\\\Users\\\\maeng\\\\AppData\\\\Local\\\\Temp',\n",
       "        'TMP': 'C:\\\\Users\\\\maeng\\\\AppData\\\\Local\\\\Temp',\n",
       "        'USERDOMAIN': 'DESKTOP-H355R5K',\n",
       "        'USERDOMAIN_ROAMINGPROFILE': 'DESKTOP-H355R5K',\n",
       "        'USERNAME': 'maeng',\n",
       "        'USERPROFILE': 'C:\\\\Users\\\\maeng',\n",
       "        'WINDIR': 'C:\\\\Windows',\n",
       "        'ZES_ENABLE_SYSMAN': '1',\n",
       "        'CONDA_PREFIX': 'C:\\\\Users\\\\maeng\\\\anaconda3',\n",
       "        'PYDEVD_USE_FRAME_EVAL': 'NO',\n",
       "        'JPY_INTERRUPT_EVENT': '3956',\n",
       "        'IPY_INTERRUPT_EVENT': '3956',\n",
       "        'JPY_PARENT_PID': '3996',\n",
       "        'TERM': 'xterm-color',\n",
       "        'CLICOLOR': '1',\n",
       "        'FORCE_COLOR': '1',\n",
       "        'CLICOLOR_FORCE': '1',\n",
       "        'PAGER': 'cat',\n",
       "        'GIT_PAGER': 'cat',\n",
       "        'MPLBACKEND': 'module://matplotlib_inline.backend_inline'}"
      ]
     },
     "execution_count": 142,
     "metadata": {},
     "output_type": "execute_result"
    }
   ],
   "source": [
    "import os\n",
    "os.environ"
   ]
  },
  {
   "cell_type": "markdown",
   "id": "8ef11711",
   "metadata": {},
   "source": [
    "이 결괏값은 필자의 시스템 정보이다. os.environ은 환경 변수에 대한 정보를 딕셔너리 형태로 구성된 environ 객체로 리턴한다. 자세히 보면 여러 가지 유용한 정보를 찾을 수 있다.\n",
    "\n",
    "리턴받은 객체는 다음과 같이 호출하여 사용할 수 있다. 다음은 필자 시스템의 PATH 환경 변수 내용이다"
   ]
  },
  {
   "cell_type": "code",
   "execution_count": 143,
   "id": "e67feaa9",
   "metadata": {
    "ExecuteTime": {
     "end_time": "2023-12-05T06:48:33.987478Z",
     "start_time": "2023-12-05T06:48:33.982906Z"
    },
    "scrolled": true
   },
   "outputs": [
    {
     "data": {
      "text/plain": [
       "'C:\\\\Users\\\\maeng\\\\anaconda3;C:\\\\Users\\\\maeng\\\\anaconda3\\\\Library\\\\mingw-w64\\\\bin;C:\\\\Users\\\\maeng\\\\anaconda3\\\\Library\\\\usr\\\\bin;C:\\\\Users\\\\maeng\\\\anaconda3\\\\Library\\\\bin;C:\\\\Users\\\\maeng\\\\anaconda3\\\\Scripts;C:\\\\Program Files\\\\MySQL\\\\MySQL Server 8.0\\\\bin;C:\\\\Windows\\\\system32;C:\\\\Windows;C:\\\\Windows\\\\System32\\\\Wbem;C:\\\\Windows\\\\System32\\\\WindowsPowerShell\\\\v1.0\\\\;C:\\\\Windows\\\\System32\\\\OpenSSH\\\\;C:\\\\Program Files (x86)\\\\NVIDIA Corporation\\\\PhysX\\\\Common;C:\\\\Program Files\\\\Git\\\\cmd;C:\\\\Users\\\\maeng\\\\anaconda3;C:\\\\Users\\\\maeng\\\\anaconda3\\\\Library\\\\mingw-w64\\\\bin;C:\\\\Users\\\\maeng\\\\anaconda3\\\\Library\\\\usr\\\\bin;C:\\\\Users\\\\maeng\\\\anaconda3\\\\Library\\\\bin;C:\\\\Users\\\\maeng\\\\anaconda3\\\\Scripts;C:\\\\Users\\\\maeng\\\\miniconda3;C:\\\\Users\\\\maeng\\\\miniconda3\\\\Library\\\\mingw-w64\\\\bin;C:\\\\Users\\\\maeng\\\\miniconda3\\\\Library\\\\usr\\\\bin;C:\\\\Users\\\\maeng\\\\miniconda3\\\\Library\\\\bin;C:\\\\Users\\\\maeng\\\\miniconda3\\\\Scripts;C:\\\\Users\\\\maeng\\\\AppData\\\\Local\\\\Microsoft\\\\WindowsApps'"
      ]
     },
     "execution_count": 143,
     "metadata": {},
     "output_type": "execute_result"
    }
   ],
   "source": [
    "os.environ['PATH']"
   ]
  },
  {
   "cell_type": "markdown",
   "id": "8ccdecb6",
   "metadata": {},
   "source": [
    "##### 디렉터리 위치 돌려받기 - os.getcwd\n",
    "os.getcwd는 현재 자신의 디렉터리 위치를 리턴한다."
   ]
  },
  {
   "cell_type": "code",
   "execution_count": 144,
   "id": "495bfee4",
   "metadata": {
    "ExecuteTime": {
     "end_time": "2023-12-05T06:48:45.173321Z",
     "start_time": "2023-12-05T06:48:45.165937Z"
    }
   },
   "outputs": [
    {
     "data": {
      "text/plain": [
       "'C:\\\\workspace\\\\python\\\\WASSUP'"
      ]
     },
     "execution_count": 144,
     "metadata": {},
     "output_type": "execute_result"
    }
   ],
   "source": [
    "os.getcwd() # !pwd"
   ]
  },
  {
   "cell_type": "code",
   "execution_count": 145,
   "id": "6343d868",
   "metadata": {
    "ExecuteTime": {
     "end_time": "2023-12-05T06:49:50.364037Z",
     "start_time": "2023-12-05T06:49:50.354763Z"
    }
   },
   "outputs": [
    {
     "data": {
      "text/plain": [
       "['C:\\\\workspace\\\\python\\\\WASSUP\\\\00_마크다운.ipynb',\n",
       " 'C:\\\\workspace\\\\python\\\\WASSUP\\\\01_자료형&변수.ipynb',\n",
       " 'C:\\\\workspace\\\\python\\\\WASSUP\\\\01_자료형&변수_연습문제.ipynb',\n",
       " 'C:\\\\workspace\\\\python\\\\WASSUP\\\\02_제어문.ipynb',\n",
       " 'C:\\\\workspace\\\\python\\\\WASSUP\\\\02_제어문_연습문제.ipynb',\n",
       " 'C:\\\\workspace\\\\python\\\\WASSUP\\\\03_코딩연습_전화번호프로그램.ipynb',\n",
       " 'C:\\\\workspace\\\\python\\\\WASSUP\\\\04_함수&입출력.ipynb',\n",
       " 'C:\\\\workspace\\\\python\\\\WASSUP\\\\04_함수&입출력_연습문제.ipynb',\n",
       " 'C:\\\\workspace\\\\python\\\\WASSUP\\\\05_클래스&내장함수_연습문제.ipynb',\n",
       " 'C:\\\\workspace\\\\python\\\\WASSUP\\\\05_클래스&예외처리.ipynb',\n",
       " 'C:\\\\workspace\\\\python\\\\WASSUP\\\\06_내장함수&라이브러리_강사용.ipynb']"
      ]
     },
     "execution_count": 145,
     "metadata": {},
     "output_type": "execute_result"
    }
   ],
   "source": [
    "glob.glob(f\"{os.getcwd()}/*.ipynb\")"
   ]
  },
  {
   "cell_type": "markdown",
   "id": "00247d84",
   "metadata": {},
   "source": [
    "##### 디렉터리 위치 변경하기 - os.chdir\n",
    "os.chdir를 사용하면 다음과 같이 현재 디렉터리의 위치를 변경할 수 있다."
   ]
  },
  {
   "cell_type": "code",
   "execution_count": 51,
   "id": "7eb22a63",
   "metadata": {
    "ExecuteTime": {
     "end_time": "2023-10-12T05:46:57.577509Z",
     "start_time": "2023-10-12T05:46:57.574237Z"
    }
   },
   "outputs": [],
   "source": [
    "os.chdir(\"C:\\WINDOWS\")"
   ]
  },
  {
   "cell_type": "markdown",
   "id": "056c54f6",
   "metadata": {},
   "source": [
    "##### 시스템 명령어 호출하기 - os.system\n",
    "시스템 자체의 프로그램이나 기타 명령어를 파이썬에서 호출할 수도 있다.    \n",
    "os.system(\"명령어\")처럼 사용한다. 다음은 현재 디렉터리에서 시스템 명령어 dir을 실행하는 예이다."
   ]
  },
  {
   "cell_type": "code",
   "execution_count": 48,
   "id": "75375fc6",
   "metadata": {
    "ExecuteTime": {
     "end_time": "2023-10-12T05:47:51.866177Z",
     "start_time": "2023-10-12T05:47:51.860991Z"
    }
   },
   "outputs": [],
   "source": [
    "os.system?"
   ]
  },
  {
   "cell_type": "code",
   "execution_count": 49,
   "id": "c7e2f6d3",
   "metadata": {
    "ExecuteTime": {
     "end_time": "2023-10-12T05:47:38.925556Z",
     "start_time": "2023-10-12T05:47:38.861199Z"
    }
   },
   "outputs": [
    {
     "data": {
      "text/plain": [
       "0"
      ]
     },
     "execution_count": 49,
     "metadata": {},
     "output_type": "execute_result"
    }
   ],
   "source": [
    "os.system(\"dir\")"
   ]
  },
  {
   "cell_type": "code",
   "execution_count": 86,
   "id": "b7161797",
   "metadata": {
    "ExecuteTime": {
     "end_time": "2023-10-12T09:04:53.587445Z",
     "start_time": "2023-10-12T09:04:53.563969Z"
    }
   },
   "outputs": [
    {
     "name": "stdout",
     "output_type": "stream",
     "text": [
      " C 드라이브의 볼륨에는 이름이 없습니다.\n",
      " 볼륨 일련 번호: FED4-E376\n",
      "\n",
      " C:\\workspace\\python 디렉터리\n",
      "\n",
      "2023-10-12  오후 06:04    <DIR>          .\n",
      "2023-10-12  오후 06:04    <DIR>          ..\n",
      "2023-10-12  오후 05:04    <DIR>          .ipynb_checkpoints\n",
      "2023-10-12  오후 04:20            22,919 00_마크다운_실습용.ipynb\n",
      "2023-10-04  오후 03:29           103,801 01_자료형&변수_강사용.ipynb\n",
      "2023-10-03  오후 11:44            16,417 01_자료형&변수_연습문제_강사용.ipynb\n",
      "2023-10-06  오후 02:58             7,415 01_자료형&변수_연습문제_실습용.ipynb\n",
      "2023-10-06  오후 03:30        12,459,815 02_제어문_강사용.ipynb\n",
      "2023-10-03  오후 11:44             9,198 02_제어문_연습문제_강사용.ipynb\n",
      "2023-10-06  오후 02:58             5,007 02_제어문_연습문제_실습용.ipynb\n",
      "2023-10-06  오후 09:28             5,658 03_코딩연습_전화번호프로그램_강사용.ipynb\n",
      "2023-10-06  오후 09:28             1,987 03_코딩연습_전화번호프로그램_실습용.ipynb\n",
      "2023-10-08  오후 09:43            60,351 04_함수&입출력_강사용.ipynb\n",
      "2023-10-06  오후 10:26             9,725 04_함수&입출력_연습문제_강사용.ipynb\n",
      "2023-10-06  오후 10:28             7,012 04_함수&입출력_연습문제_실습용.ipynb\n",
      "2023-10-11  오후 04:36           100,741 05_클래스&모듈패키지_강사용.ipynb\n",
      "2023-10-12  오후 05:52        25,381,841 06_예외처리&내장함수&라이브러리_강사용.ipynb\n",
      "2023-10-12  오후 06:04            16,909 06_클래스&내장함수_연습문제_실습용.ipynb\n",
      "2023-10-11  오후 04:41    <DIR>          game\n",
      "2023-10-11  오후 04:35    <DIR>          mymod\n",
      "2023-10-11  오후 04:32    <DIR>          __pycache__\n",
      "              15개 파일          38,208,796 바이트\n",
      "               6개 디렉터리  388,325,482,496 바이트 남음\n"
     ]
    }
   ],
   "source": [
    "!dir"
   ]
  },
  {
   "cell_type": "markdown",
   "id": "1eb13578",
   "metadata": {},
   "source": [
    "##### 실행한 시스템 명령어의 결괏값 돌려받기 - os.popen\n",
    "os.popen은 시스템 명령어를 실행한 결괏값을 읽기 모드 형태의 파일 객체로 리턴한다."
   ]
  },
  {
   "cell_type": "code",
   "execution_count": 50,
   "id": "a01fb337",
   "metadata": {
    "ExecuteTime": {
     "end_time": "2023-10-12T05:48:38.284875Z",
     "start_time": "2023-10-12T05:48:38.277381Z"
    }
   },
   "outputs": [],
   "source": [
    "f = os.popen(\"dir\")"
   ]
  },
  {
   "cell_type": "code",
   "execution_count": 51,
   "id": "edaa8839",
   "metadata": {
    "ExecuteTime": {
     "end_time": "2023-10-12T05:48:46.109445Z",
     "start_time": "2023-10-12T05:48:46.102104Z"
    }
   },
   "outputs": [
    {
     "name": "stdout",
     "output_type": "stream",
     "text": [
      " C 드라이브의 볼륨에는 이름이 없습니다.\n",
      " 볼륨 일련 번호: FED4-E376\n",
      "\n",
      " C:\\workspace\\python 디렉터리\n",
      "\n",
      "2023-10-13  오후 04:37    <DIR>          .\n",
      "2023-10-13  오후 04:37    <DIR>          ..\n",
      "2023-10-13  오후 02:58    <DIR>          .ipynb_checkpoints\n",
      "2023-10-12  오후 09:57            22,924 00_마크다운_실습용.ipynb\n",
      "2023-10-04  오후 03:29           103,801 01_자료형&변수_강사용.ipynb\n",
      "2023-10-03  오후 11:44            16,417 01_자료형&변수_연습문제_강사용.ipynb\n",
      "2023-10-06  오후 02:58             7,415 01_자료형&변수_연습문제_실습용.ipynb\n",
      "2023-10-06  오후 03:30        12,459,815 02_제어문_강사용.ipynb\n",
      "2023-10-03  오후 11:44             9,198 02_제어문_연습문제_강사용.ipynb\n",
      "2023-10-06  오후 02:58             5,007 02_제어문_연습문제_실습용.ipynb\n",
      "2023-10-12  오후 06:38             5,659 03_코딩연습_전화번호프로그램_강사용.ipynb\n",
      "2023-10-06  오후 09:28             1,987 03_코딩연습_전화번호프로그램_실습용.ipynb\n",
      "2023-10-08  오후 09:43            60,351 04_함수&입출력_강사용.ipynb\n",
      "2023-10-06  오후 10:26             9,725 04_함수&입출력_연습문제_강사용.ipynb\n",
      "2023-10-06  오후 10:28             7,012 04_함수&입출력_연습문제_실습용.ipynb\n",
      "2023-10-11  오후 04:36           100,741 05_클래스&모듈패키지_강사용.ipynb\n",
      "2023-10-13  오후 04:37        25,386,112 06_예외처리&내장함수&라이브러리_강사용.ipynb\n",
      "2023-10-12  오후 06:27            18,904 06_클래스&내장함수_연습문제_강사용.ipynb\n",
      "2023-10-12  오후 06:28             7,890 06_클래스&내장함수_연습문제_실습용.ipynb\n",
      "2023-10-13  오후 04:37                40 test.txt\n",
      "2023-10-13  오후 02:58    <DIR>          __pycache__\n",
      "              17개 파일          38,222,998 바이트\n",
      "               4개 디렉터리  387,090,976,768 바이트 남음\n",
      "\n"
     ]
    }
   ],
   "source": [
    "# 읽어 들인 파일 객체의 내용을 보기 위해서는 다음과 같이 하면 된다.\n",
    "print(f.read())"
   ]
  },
  {
   "cell_type": "markdown",
   "id": "f43dba0d",
   "metadata": {},
   "source": [
    "이 밖에 유용한 os 관련 함수는 다음과 같다.\n",
    "| 함수                      | 설명                                      |\n",
    "|---------------------------|-------------------------------------------|\n",
    "| `os.mkdir(디렉터리)`     | 디렉터리를 생성합니다.                    |\n",
    "| `os.rmdir(디렉터리)`     | 디렉터리를 삭제합니다. 단, 디렉터리가 비어 있어야 삭제할 수 있습니다. |\n",
    "| `os.remove(파일)`       | 파일을 지웁니다.                          |\n",
    "| `os.rename(src, dst)`    | `src`라는 이름의 파일을 `dst`라는 이름으로 바꿉니다. |\n"
   ]
  },
  {
   "cell_type": "markdown",
   "id": "8c1453bb",
   "metadata": {},
   "source": [
    "### zipfile\n",
    "zipfile은 여러 개의 파일을 zip 형식으로 합치거나 이를 해제할 때 사용하는 모듈이다.\n",
    "\n",
    "다음과 같은 3개의 텍스트 파일이 있다고 가정해 보자.\n",
    "```\n",
    "a.txt\n",
    "b.txt\n",
    "c.txt\n",
    "```\n",
    "이 3개의 텍스트 파일을 하나로 합쳐 ‘mytext.zip’이라는 파일을 만들고 이 파일을 원래의 텍스트 파일 3개로 해제하는 프로그램을 만들려면 어떻게 해야 할까?\n",
    "\n",
    "zipfile.ZipFile()을 사용하여 해결해 보자."
   ]
  },
  {
   "cell_type": "code",
   "execution_count": 2,
   "id": "23eb3e61",
   "metadata": {
    "ExecuteTime": {
     "end_time": "2023-10-12T05:54:06.372209Z",
     "start_time": "2023-10-12T05:54:06.351527Z"
    }
   },
   "outputs": [],
   "source": [
    "# zipfile_test.py\n",
    "import zipfile\n",
    "\n",
    "# 파일 합치기\n",
    "with zipfile.ZipFile('mytext.zip', 'w') as myzip:\n",
    "    myzip.write('a.txt')\n",
    "    myzip.write('b.txt')\n",
    "    myzip.write('c.txt')\n",
    "\n",
    "# 해제하기\n",
    "with zipfile.ZipFile('mytext.zip') as myzip:\n",
    "    myzip.extractall()"
   ]
  },
  {
   "cell_type": "markdown",
   "id": "464a88e8",
   "metadata": {},
   "source": [
    "ZipFile 객체의 write() 함수로 개별 파일을 추가할 수 있고 extreactall() 함수를 사용하면 모든 파일을 해제할 수 있다.\n",
    "\n",
    "합친 파일에서 특정 파일만 해제하고 싶다면 다음과 같이 extract() 함수를 사용하면 된다."
   ]
  },
  {
   "cell_type": "code",
   "execution_count": 4,
   "id": "a0d220fe",
   "metadata": {
    "ExecuteTime": {
     "end_time": "2023-10-12T05:54:15.618267Z",
     "start_time": "2023-10-12T05:54:15.613639Z"
    }
   },
   "outputs": [],
   "source": [
    "# 특정 파일만 해제하기\n",
    "with zipfile.ZipFile('mytext.zip') as myzip:\n",
    "    myzip.extract('a.txt')"
   ]
  },
  {
   "cell_type": "markdown",
   "id": "dff2e77d",
   "metadata": {},
   "source": [
    "#### 압축하여 묶기\n",
    "```\n",
    "with zipfile.ZipFile('mytext.zip', 'w', compression=zipfile.ZIP_LZMA, compresslevel=9) as myzip:\n",
    "    (... 생략 ...)\n",
    "```\n",
    "compression에는 4가지 종류가 있다.\n",
    "\n",
    "ZIP_STORED: 압축하지 않고 파일을 zip으로만 묶는다. 속도가 빠르다.\n",
    "ZIP_DEFLATED: 일반적인 zip 압축으로 속도가 빠르고 압축률은 낮다(호환성이 좋다).\n",
    "ZIP_BZIP2: bzip2 압축으로 압축률이 높고 속도가 느리다.\n",
    "ZIP_LZMA: lzma 압축으로 압축률이 높고 속도가 느리다(7zip과 동일한 알고리즘으로 알려져 있다).\n",
    "\n",
    "compressionlevel은 압축 수준을 의미하는 숫자값으로, 1~9를 사용한다. 1은 속도가 가장 빠르지만 압축률이 낮고, 9는 속도는 가장 느리지만 압축률이 높다."
   ]
  },
  {
   "cell_type": "markdown",
   "id": "8306e02a",
   "metadata": {},
   "source": [
    "### threading\n",
    "스레드 프로그래밍은 초보 프로그래머가 구현하기에는 매우 어려운 기술이다. 여기에 잠시 소개했으므로 눈으로만 살펴보고 넘어가자.\n",
    "\n",
    "컴퓨터에서 동작하고 있는 프로그램을 프로세스(process)라고 한다.   \n",
    "보통 1개의 프로세스는 1가지 일만 하지만, 스레드(thread)를 사용하면 한 프로세스 안에서 2가지 또는 그 이상의 일을 동시에 수행할 수 있다.\n",
    "\n",
    "간단한 예제로 설명을 대신하겠다."
   ]
  },
  {
   "cell_type": "code",
   "execution_count": 7,
   "id": "318a8210",
   "metadata": {
    "ExecuteTime": {
     "end_time": "2023-10-16T06:41:08.400207Z",
     "start_time": "2023-10-16T06:40:43.371226Z"
    },
    "scrolled": true
   },
   "outputs": [
    {
     "name": "stdout",
     "output_type": "stream",
     "text": [
      "Start\n",
      "working:0\n",
      "\n",
      "working:1\n",
      "\n",
      "working:2\n",
      "\n",
      "working:3\n",
      "\n",
      "working:4\n",
      "\n",
      "working:0\n",
      "\n",
      "working:1\n",
      "\n",
      "working:2\n",
      "\n",
      "working:3\n",
      "\n",
      "working:4\n",
      "\n",
      "working:0\n",
      "\n",
      "working:1\n",
      "\n",
      "working:2\n",
      "\n",
      "working:3\n",
      "\n",
      "working:4\n",
      "\n",
      "working:0\n",
      "\n",
      "working:1\n",
      "\n",
      "working:2\n",
      "\n",
      "working:3\n",
      "\n",
      "working:4\n",
      "\n",
      "working:0\n",
      "\n",
      "working:1\n",
      "\n",
      "working:2\n",
      "\n",
      "working:3\n",
      "\n",
      "working:4\n",
      "\n",
      "End\n"
     ]
    }
   ],
   "source": [
    "import time\n",
    "\n",
    "def long_task():  # 5초의 시간이 걸리는 함수\n",
    "    for i in range(5):\n",
    "        time.sleep(1)  # 1초간 대기한다.\n",
    "        print(\"working:%s\\n\" % i)\n",
    "\n",
    "print(\"Start\")\n",
    "\n",
    "for i in range(5):  # long_task를 5회 수행한다.\n",
    "    long_task()\n",
    "\n",
    "print(\"End\")"
   ]
  },
  {
   "cell_type": "markdown",
   "id": "0656160b",
   "metadata": {},
   "source": [
    "아래 long_task는 수행하는 데 5초의 시간이 걸리는 함수이다. 위 프로그램은 이 함수를 총 5번 반복해서 수행하는 프로그램이다. 이 프로그램은 5초가 5번 반복되므로 총 25초의 시간이 걸린다.\n",
    "\n",
    "하지만 앞에서 설명했듯이 스레드를 사용하면 5초의 시간이 걸리는 long_task 함수를 동시에 실행할 수 있으므로 시간을 줄일 수 있다.\n",
    "\n",
    "다음과 같이 프로그램을 수정해 보자."
   ]
  },
  {
   "cell_type": "code",
   "execution_count": 8,
   "id": "efa80aaf",
   "metadata": {
    "ExecuteTime": {
     "end_time": "2023-10-16T06:41:56.920200Z",
     "start_time": "2023-10-16T06:41:56.888232Z"
    }
   },
   "outputs": [
    {
     "name": "stdout",
     "output_type": "stream",
     "text": [
      "Start\n",
      "[<Thread(Thread-5 (long_task), initial)>, <Thread(Thread-6 (long_task), initial)>, <Thread(Thread-7 (long_task), initial)>, <Thread(Thread-8 (long_task), initial)>, <Thread(Thread-9 (long_task), initial)>]\n",
      "<Thread(Thread-5 (long_task), initial)>\n",
      "<Thread(Thread-6 (long_task), initial)>\n",
      "<Thread(Thread-7 (long_task), initial)>\n",
      "<Thread(Thread-8 (long_task), initial)>\n",
      "<Thread(Thread-9 (long_task), initial)>\n",
      "End\n"
     ]
    }
   ],
   "source": [
    "# 반드시 명령 프롬프트에서 실행할 것\n",
    "import time\n",
    "import threading  # 스레드를 생성하기 위해서는 threading 모듈이 필요하다.\n",
    "\n",
    "def long_task():\n",
    "    for i in range(5):\n",
    "        time.sleep(1)\n",
    "        print(\"working:%s\\n\" % i)\n",
    "\n",
    "print(\"Start\")\n",
    "\n",
    "threads = []\n",
    "for i in range(5):\n",
    "    t = threading.Thread(target=long_task)  # 스레드를 생성한다.\n",
    "    threads.append(t)\n",
    "print(threads)\n",
    "\n",
    "for t in threads:\n",
    "    print(t)\n",
    "    t.start()  # 스레드를 실행한다.\n",
    "\n",
    "print(\"End\")"
   ]
  },
  {
   "cell_type": "code",
   "execution_count": 7,
   "id": "d4df3dd7",
   "metadata": {
    "ExecuteTime": {
     "end_time": "2023-10-12T05:59:19.299593Z",
     "start_time": "2023-10-12T05:59:19.294044Z"
    }
   },
   "outputs": [],
   "source": [
    "threading.Thread?"
   ]
  },
  {
   "cell_type": "markdown",
   "id": "ddc1f431",
   "metadata": {},
   "source": [
    "이와 같이 프로그램을 수정하고 실행해 보면 25초 걸리던 작업이 5초 정도에 수행되는 것을 확인할 수 있다. threading.Thread를 사용하여 만든 스레드 객체가 동시 작업을 가능하게 해 주기 때문이다.\n",
    "\n",
    "하지만 프로그램을 실행해 보면 \"Start\"와 \"End\"가 먼저 출력되고 그 이후에 스레드의 결과가 출력되는 것을 확인할 수 있다. 그리고 프로그램이 정상 종료되지 않는다. 우리가 기대하는 것은 \"Start\"가 출력되고 그다음에 스레드의 결과가 출력된 후 마지막으로 \"End\"가 출력되는 것이다.\n",
    "\n",
    "이 문제를 해결하기 위해서는 프로그램을 다음과 같이 수정해야 한다.\n",
    "\n",
    "```python\n",
    "for t in threads:\n",
    "    t.join()  # join으로 스레드가 종료될때까지 기다린다.\n",
    "```\n",
    "> 스레드의 join 함수는 해당 스레드가 종료될 때까지 기다리게 한다. 따라서 위와 같이 수정하면 우리가 원하던 출력을 보게 된다.\n",
    "> 문자열의 join함수와 다름\n",
    "> 스레드 조인함수는 스레드의 동작을 제어하고 다른 스레드가 종료될 때 가자ㅣ 대기하도록 도와 주는 중요한 스레드 관리 메서드"
   ]
  },
  {
   "cell_type": "code",
   "execution_count": 54,
   "id": "5af1858b",
   "metadata": {
    "ExecuteTime": {
     "end_time": "2023-10-12T06:05:59.707091Z",
     "start_time": "2023-10-12T06:05:54.694170Z"
    },
    "scrolled": true
   },
   "outputs": [
    {
     "name": "stdout",
     "output_type": "stream",
     "text": [
      "Start\n",
      "working:0\n",
      "\n",
      "working:0\n",
      "\n",
      "working:0\n",
      "\n",
      "working:0\n",
      "\n",
      "working:0\n",
      "\n",
      "working:1\n",
      "working:1\n",
      "\n",
      "working:1\n",
      "\n",
      "working:1\n",
      "\n",
      "working:1\n",
      "\n",
      "\n",
      "working:2\n",
      "working:2\n",
      "\n",
      "working:2\n",
      "\n",
      "working:2\n",
      "\n",
      "working:2\n",
      "\n",
      "\n",
      "working:3\n",
      "working:3\n",
      "\n",
      "working:3\n",
      "\n",
      "working:3\n",
      "\n",
      "working:3\n",
      "\n",
      "\n",
      "working:4\n",
      "\n",
      "working:4\n",
      "\n",
      "working:4\n",
      "\n",
      "working:4\n",
      "\n",
      "working:4\n",
      "\n",
      "End\n"
     ]
    }
   ],
   "source": [
    "\n",
    "import time\n",
    "import threading\n",
    "\n",
    "def long_task():\n",
    "    for i in range(5):\n",
    "        time.sleep(1)\n",
    "        print(\"working:%s\\n\" % i)\n",
    "\n",
    "print(\"Start\")\n",
    "\n",
    "threads = []\n",
    "for i in range(5):\n",
    "    t = threading.Thread(target=long_task)\n",
    "    threads.append(t)\n",
    "\n",
    "for t in threads:\n",
    "    t.start()\n",
    "\n",
    "### 추가 코드\n",
    "for t in threads:\n",
    "    t.join()  # join으로 스레드가 종료될때까지 기다린다.\n",
    "\n",
    "print(\"End\")"
   ]
  },
  {
   "cell_type": "markdown",
   "id": "9ecca362",
   "metadata": {},
   "source": [
    "### tempfile\n",
    "파일을 임시로 만들어서 사용할 때 유용한 모듈이 바로 tempfile이다.    \n",
    "tempfile.mkstemp()는 중복되지 않는 임시 파일의 이름을 무작위로 만들어서 리턴한다."
   ]
  },
  {
   "cell_type": "code",
   "execution_count": 16,
   "id": "7310410a",
   "metadata": {
    "ExecuteTime": {
     "end_time": "2023-10-12T06:20:09.147209Z",
     "start_time": "2023-10-12T06:20:09.143154Z"
    }
   },
   "outputs": [
    {
     "data": {
      "text/plain": [
       "(4, 'C:\\\\Users\\\\maeng\\\\AppData\\\\Local\\\\Temp\\\\tmpufuallg0')"
      ]
     },
     "execution_count": 16,
     "metadata": {},
     "output_type": "execute_result"
    }
   ],
   "source": [
    "import tempfile\n",
    "filename = tempfile.mkstemp()\n",
    "filename"
   ]
  },
  {
   "cell_type": "markdown",
   "id": "5fff9c24",
   "metadata": {},
   "source": [
    "tempfile.TemporaryFile()은 임시 저장 공간으로 사용할 파일 객체를 리턴한다.   \n",
    "이 파일은 기본적으로 바이너리 쓰기 모드(wb)를 갖는다.   \n",
    "f.close()가 호출되면 이 파일은 자동으로 삭제된다."
   ]
  },
  {
   "cell_type": "code",
   "execution_count": 17,
   "id": "43f82588",
   "metadata": {
    "ExecuteTime": {
     "end_time": "2023-10-12T06:20:27.746793Z",
     "start_time": "2023-10-12T06:20:27.743503Z"
    }
   },
   "outputs": [],
   "source": [
    "import tempfile\n",
    "f = tempfile.TemporaryFile()\n",
    "f.close()"
   ]
  },
  {
   "cell_type": "markdown",
   "id": "4ea86c57",
   "metadata": {},
   "source": [
    "### traceback\n",
    "traceback은 프로그램 실행 중 발생한 오류를 추적하고자 할 때 사용하는 모듈이다.\n",
    "\n",
    "다음과 같은 코드를 작성하여 실행해 보자."
   ]
  },
  {
   "cell_type": "code",
   "execution_count": 9,
   "id": "0e1f5681",
   "metadata": {
    "ExecuteTime": {
     "end_time": "2023-10-16T06:43:38.108060Z",
     "start_time": "2023-10-16T06:43:38.100878Z"
    }
   },
   "outputs": [
    {
     "name": "stdout",
     "output_type": "stream",
     "text": [
      "오류가 발생했습니다.\n"
     ]
    }
   ],
   "source": [
    "def a():\n",
    "    return 1/0\n",
    "\n",
    "def b():\n",
    "    a()\n",
    "\n",
    "def main():\n",
    "    try:\n",
    "        b()\n",
    "    except:\n",
    "        print(\"오류가 발생했습니다.\")\n",
    "\n",
    "main()"
   ]
  },
  {
   "cell_type": "markdown",
   "id": "2c54bf2e",
   "metadata": {},
   "source": [
    "main() 함수가 시작되면 b() 함수를 호출하고 b() 함수에서 다시 a() 함수를 호출하여 1을 0으로 나누므로 오류가 발생하여 \"오류가 발생했습니다.\"라는 메시지를 출력했다.\n",
    "\n",
    "이렇게 간단한 프로그램이 아니라 복잡한 파이썬 코드라면 어디에서 어떤 오류가 발생하는지 알기 어렵다.\n",
    "\n",
    "이때 이 코드에서 오류가 발생한 위치와 원인을 정확히 판단할 수 있도록 코드를 업그레이드하려면 어떻게 해야 할까?\n",
    "\n",
    "오류가 발생한 위치에 다음과 같이 traceback 모듈을 적용해 보자."
   ]
  },
  {
   "cell_type": "code",
   "execution_count": 56,
   "id": "e2d52eb5",
   "metadata": {
    "ExecuteTime": {
     "end_time": "2023-10-12T06:21:38.244603Z",
     "start_time": "2023-10-12T06:21:38.239711Z"
    }
   },
   "outputs": [
    {
     "name": "stdout",
     "output_type": "stream",
     "text": [
      "오류가 발생했습니다.\n",
      "Traceback (most recent call last):\n",
      "  File \"C:\\Users\\maeng\\AppData\\Local\\Temp\\ipykernel_6092\\1865238754.py\", line 11, in main\n",
      "    b()\n",
      "  File \"C:\\Users\\maeng\\AppData\\Local\\Temp\\ipykernel_6092\\1865238754.py\", line 7, in b\n",
      "    a()\n",
      "  File \"C:\\Users\\maeng\\AppData\\Local\\Temp\\ipykernel_6092\\1865238754.py\", line 4, in a\n",
      "    return 1/0\n",
      "           ~^~\n",
      "ZeroDivisionError: division by zero\n",
      "\n"
     ]
    }
   ],
   "source": [
    "import traceback\n",
    "\n",
    "def a():\n",
    "    return 1/0\n",
    "\n",
    "def b():\n",
    "    a()\n",
    "\n",
    "def main():\n",
    "    try:\n",
    "        b()\n",
    "    except:\n",
    "        print(\"오류가 발생했습니다.\")\n",
    "        print(traceback.format_exc())\n",
    "\n",
    "main()"
   ]
  },
  {
   "cell_type": "markdown",
   "id": "543a7a1b",
   "metadata": {},
   "source": [
    "오류가 발생한 위치에 print(traceback.format_exc()) 문장을 추가했다.    \n",
    "traceback 모듈의 format_exc()는 오류 추적 결과를 문자열로 리턴하는 함수이다.   \n",
    "오류 추적을 통해 main() 함수에서 b() 함수를 호출하고 b() 함수에서 다시 a() 함수를 호출하여 1 / 0을 실행하려 하므로 0으로 나눌 수 없다는 ZeroDivisionError가 발생했다는 것을 로그를 통해 정확하게 확인할 수 있다."
   ]
  },
  {
   "cell_type": "markdown",
   "id": "6c27e688",
   "metadata": {},
   "source": [
    "### json\n",
    "json은 JSON 데이터를 쉽게 처리하고자 사용하는 모듈이다.   \n",
    "다음은 개인정보를 JSON 형태의 데이터로 만든 myinfo.json 파일이다.\n",
    "\n",
    "[파일명: myinfo.json]\n",
    "```python\n",
    "{\n",
    "    \"name\": \"홍길동\",\n",
    "    \"birth\": \"0525\",\n",
    "    \"age\": 30\n",
    "}\n",
    "```\n",
    "인터넷으로 얻은 이 파일을 읽어 파이썬에서 처리할 수 있도록 딕셔너리 자료형으로 만들려면 어떻게 해야 할까?\n",
    "\n",
    "JSON 파일을 읽어 딕셔너리로 변환하려면 다음처럼 json 모듈을 사용하면 된다."
   ]
  },
  {
   "cell_type": "code",
   "execution_count": 27,
   "id": "1db36030",
   "metadata": {
    "ExecuteTime": {
     "end_time": "2023-10-12T06:27:40.195633Z",
     "start_time": "2023-10-12T06:27:40.191983Z"
    }
   },
   "outputs": [],
   "source": [
    "import json\n",
    "data = {'name': '홍길동', 'birth': '0525', 'age': 30}\n",
    "with open('myinfo.json', 'w') as f:\n",
    "    json.dump(data, f)"
   ]
  },
  {
   "cell_type": "markdown",
   "id": "75335c70",
   "metadata": {},
   "source": [
    "JSON 파일을 읽을 때는 이 예처럼 json.load(파일_객체)를 사용한다.   \n",
    "이렇게 load() 함수는 읽은 데이터를 딕셔너리 자료형으로 리턴한다.   \n",
    "이와 반대로 딕셔너리 자료형을 JSON 파일로 생성할 때는 다음처럼 json.dump(딕셔너리, 파일_객체)를 사용한다."
   ]
  },
  {
   "cell_type": "code",
   "execution_count": 26,
   "id": "4d2d469c",
   "metadata": {
    "ExecuteTime": {
     "end_time": "2023-10-12T06:25:28.973794Z",
     "start_time": "2023-10-12T06:25:28.967339Z"
    }
   },
   "outputs": [
    {
     "data": {
      "text/plain": [
       "(dict, {'name': '홍길동', 'birth': '0525', 'age': 30})"
      ]
     },
     "execution_count": 26,
     "metadata": {},
     "output_type": "execute_result"
    }
   ],
   "source": [
    "import json\n",
    "with open('myinfo.json', encoding = \"utf-8\") as f:\n",
    "    data = json.load(f)\n",
    "\n",
    "type(data), data"
   ]
  },
  {
   "cell_type": "code",
   "execution_count": 28,
   "id": "6d9d13c7",
   "metadata": {
    "ExecuteTime": {
     "end_time": "2023-10-12T06:28:45.940444Z",
     "start_time": "2023-10-12T06:28:45.935882Z"
    }
   },
   "outputs": [
    {
     "data": {
      "text/plain": [
       "'{\"name\": \"\\\\ud64d\\\\uae38\\\\ub3d9\", \"birth\": \"0525\", \"age\": 30}'"
      ]
     },
     "execution_count": 28,
     "metadata": {},
     "output_type": "execute_result"
    }
   ],
   "source": [
    "# 한글 문자열이 아스키 형태의 문자열로 변경되는 것을 방지하는 방법도 있다.\n",
    "import json\n",
    "d = {\"name\":\"홍길동\", \"birth\":\"0525\", \"age\": 30}\n",
    "json_data = json.dumps(d)\n",
    "json_data"
   ]
  },
  {
   "cell_type": "markdown",
   "id": "98e396cd",
   "metadata": {},
   "source": [
    "딕셔너리 자료형을 JSON 문자열로 만들려면 json.dumps() 함수를 사용하면 된다. 그런데 딕셔너리를 JSON 데이터로 변경하면 ‘홍길동’과 같은 한글 문자열이 코드 형태로 표시된다.    \n",
    "왜냐하면 dump(), dumps() 함수는 기본적으로 데이터를 아스키 형태로 저장하기 때문이다. 유니코드 문자열을 아스키 형태로 저장하다 보니 한글 문자열이 마치 깨진 것처럼 보인다.\n",
    "\n",
    "그러나 JSON 문자열을 딕셔너리로 다시 역변환하여 사용하는 데는 전혀 문제가 없다.   \n",
    "JSON 문자열을 딕셔너리로 변환할 때는 다음처럼 json.loads() 함수를 사용한다."
   ]
  },
  {
   "cell_type": "code",
   "execution_count": 29,
   "id": "66f7e1ee",
   "metadata": {
    "ExecuteTime": {
     "end_time": "2023-10-12T06:29:57.228984Z",
     "start_time": "2023-10-12T06:29:57.223658Z"
    }
   },
   "outputs": [
    {
     "data": {
      "text/plain": [
       "{'name': '홍길동', 'birth': '0525', 'age': 30}"
      ]
     },
     "execution_count": 29,
     "metadata": {},
     "output_type": "execute_result"
    }
   ],
   "source": [
    "json.loads(json_data)"
   ]
  },
  {
   "cell_type": "code",
   "execution_count": 30,
   "id": "bd29ee86",
   "metadata": {
    "ExecuteTime": {
     "end_time": "2023-10-12T06:30:26.837222Z",
     "start_time": "2023-10-12T06:30:26.831357Z"
    }
   },
   "outputs": [
    {
     "data": {
      "text/plain": [
       "('{\"name\": \"홍길동\", \"birth\": \"0525\", \"age\": 30}',\n",
       " {'name': '홍길동', 'birth': '0525', 'age': 30})"
      ]
     },
     "execution_count": 30,
     "metadata": {},
     "output_type": "execute_result"
    }
   ],
   "source": [
    "# 한글 문자열이 아스키 형태의 문자열로 변경되는 것을 방지하는 방법도 있다.\n",
    "d = {\"name\":\"홍길동\", \"birth\":\"0525\", \"age\": 30}\n",
    "json_data = json.dumps(d, ensure_ascii=False)\n",
    "json_data  , json.loads(json_data)"
   ]
  },
  {
   "cell_type": "markdown",
   "id": "4ee228e2",
   "metadata": {},
   "source": [
    "이처럼 ensure_ascii=False 옵션을 사용하면 된다. 이 옵션은 데이터를 저장할 때 아스키 형태로 변환하지 않겠다는 뜻이다.\n",
    "\n",
    "출력되는 JSON 문자열을 보기 좋게 정렬하려면 다음처럼 indent 옵션을 추가하면 된다."
   ]
  },
  {
   "cell_type": "code",
   "execution_count": 31,
   "id": "516fc8b9",
   "metadata": {
    "ExecuteTime": {
     "end_time": "2023-10-12T06:31:05.659236Z",
     "start_time": "2023-10-12T06:31:05.655170Z"
    }
   },
   "outputs": [
    {
     "name": "stdout",
     "output_type": "stream",
     "text": [
      "{\n",
      "  \"name\": \"홍길동\",\n",
      "  \"birth\": \"0525\",\n",
      "  \"age\": 30\n",
      "}\n"
     ]
    }
   ],
   "source": [
    "d = {\"name\":\"홍길동\", \"birth\":\"0525\", \"age\": 30}\n",
    "print(json.dumps(d, indent=2, ensure_ascii=False))"
   ]
  },
  {
   "cell_type": "code",
   "execution_count": 33,
   "id": "526a1e48",
   "metadata": {
    "ExecuteTime": {
     "end_time": "2023-10-12T06:31:53.748404Z",
     "start_time": "2023-10-12T06:31:53.744441Z"
    }
   },
   "outputs": [
    {
     "name": "stdout",
     "output_type": "stream",
     "text": [
      "[1, 2, 3] [4, 5, 6]\n",
      "<class 'str'> <class 'str'>\n"
     ]
    }
   ],
   "source": [
    "# 그리고 딕셔너리 외에 리스트나 튜플처럼 다른 자료형도 JSON 문자열로 바꿀 수 있다.\n",
    "a = json.dumps([1,2,3])\n",
    "b = json.dumps((4,5,6))\n",
    "print(a, b)\n",
    "print(type (a), type(b))"
   ]
  },
  {
   "cell_type": "markdown",
   "id": "617da6c2",
   "metadata": {},
   "source": [
    "### urllib\n",
    "urllib은 URL을 읽고 분석할 때 사용하는 모듈이다.\n",
    "\n",
    "브라우저로 위키독스의 특정 페이지를 읽으려면 다음과 같이 요청하면 된다.\n",
    "```\n",
    "https://wikidocs.net/페이지_번호(예: https://wikidocs.net/12)\n",
    "```\n",
    "그러면 오프라인으로도 읽을 수 있도록 페이지 번호를 입력받아 위키독스의 특정 페이지를 wikidocs_페이지_번호.html 파일로 저장하는 함수는 어떻게 만들어야 할까?\n",
    "\n",
    "URL을 호출하여 원하는 리소스를 얻으려면 urllib 모듈을 사용해야 한다."
   ]
  },
  {
   "cell_type": "code",
   "execution_count": 57,
   "id": "4b645880",
   "metadata": {
    "ExecuteTime": {
     "end_time": "2023-10-12T06:32:55.213533Z",
     "start_time": "2023-10-12T06:32:55.209548Z"
    }
   },
   "outputs": [],
   "source": [
    "import urllib.request\n",
    "\n",
    "def get_wikidocs(page):\n",
    "    resource = 'https://wikidocs.net/{}'.format(page)\n",
    "    with urllib.request.urlopen(resource) as s:\n",
    "        with open('wikidocs_%s.html' % page, 'wb') as f:\n",
    "            f.write(s.read())"
   ]
  },
  {
   "cell_type": "markdown",
   "id": "53fe2f2b",
   "metadata": {},
   "source": [
    "get_wikidocs(page)는 위키독스의 페이지 번호를 입력받아 해당 페이지의 리소스 내용을 파일로 저장하는 함수이다.   \n",
    "이 코드에서 보듯이 urllib.request.urlopen(resource)로 s 객체를 생성하고 s.read()로 리소스 내용 전체를 읽어 이를 저장할 수 있다.   \n",
    "예를 들어 get_wikidocs(12)라고 호출하면 https://wikidocs.net/12 웹 페이지를 wikidocs_12.html라는 파일로 저장한다."
   ]
  },
  {
   "cell_type": "code",
   "execution_count": 58,
   "id": "ea82dae3",
   "metadata": {
    "ExecuteTime": {
     "end_time": "2023-10-12T06:35:15.445348Z",
     "start_time": "2023-10-12T06:35:15.168658Z"
    }
   },
   "outputs": [],
   "source": [
    "get_wikidocs(12)"
   ]
  },
  {
   "cell_type": "markdown",
   "id": "db2bd299",
   "metadata": {},
   "source": [
    "### webbrowser\n",
    "webbrowser는 파이썬 프로그램에서 시스템 브라우저를 호출할 때 사용하는 모듈이다.\n",
    "\n",
    "개발 중 궁금한 내용이 있어 파이썬 문서를 참고하려 한다.   \n",
    "이를 위해 https://python.org 사이트를 새로운 웹 브라우저 로 열려면 코드를 어떻게 작성해야 할까?\n",
    "<img src=\"https://wikidocs.net/images/page/33/05_6_pic7.png\">\n",
    "파이썬으로 웹 페이지를 새 창으로 열려면 webbrowser 모듈의 open_new() 함수를 사용해야 한다."
   ]
  },
  {
   "cell_type": "code",
   "execution_count": 10,
   "id": "32a69591",
   "metadata": {
    "ExecuteTime": {
     "end_time": "2023-10-16T06:45:10.501076Z",
     "start_time": "2023-10-16T06:45:10.079041Z"
    }
   },
   "outputs": [
    {
     "data": {
      "text/plain": [
       "True"
      ]
     },
     "execution_count": 10,
     "metadata": {},
     "output_type": "execute_result"
    }
   ],
   "source": [
    "import webbrowser\n",
    "\n",
    "webbrowser.open_new('http://python.org')"
   ]
  },
  {
   "cell_type": "code",
   "execution_count": 38,
   "id": "ecf24900",
   "metadata": {
    "ExecuteTime": {
     "end_time": "2023-10-12T06:36:56.957477Z",
     "start_time": "2023-10-12T06:36:56.919542Z"
    }
   },
   "outputs": [
    {
     "data": {
      "text/plain": [
       "True"
      ]
     },
     "execution_count": 38,
     "metadata": {},
     "output_type": "execute_result"
    }
   ],
   "source": [
    "# 이미 열린 브라우저로 원하는 사이트를 열고 싶다면 다음처럼 open_new() 대신 open()을 사용하면 된다.\n",
    "webbrowser.open('http://python.org')"
   ]
  },
  {
   "cell_type": "markdown",
   "id": "3002c892",
   "metadata": {},
   "source": [
    "## 외부 라이브러리\n",
    "파이썬 설치 시 기본으로 설치되는 라이브러리를 ‘파이썬 표준 라이브러리’라고 한다.   \n",
    "이번에 소개하는 외부 라이브러리는 파이썬 표준 라이브러리가 아니므로 사용하려면 먼저 pip 도구를 이용하여 설치해야 한다.\n",
    "\n",
    "pip은 ‘핍’이라고 읽는다."
   ]
  },
  {
   "cell_type": "markdown",
   "id": "4b26e106",
   "metadata": {},
   "source": [
    "### pip\n",
    "pip은 파이썬 모듈이나 패키지를 쉽게 설치할 수 있도록 도와주는 도구이다.   \n",
    "pip으로 파이썬 프로그램을 설치하면 의존성 있는 모듈이나 패키지를 함께 설치해 주기 때문에 매우 편리하다.   \n",
    "예를 들어 B라는 파이썬 패키지를 설치하려면 A라는 패키지가 먼저 설치되어야 하는 규칙이 있다고 가정할 때 pip을 이용하면 B 패키지를 설치할 때 A 패키지도 자동으로 함께 설치된다.\n",
    "\n",
    "pip 사용법에 대해서 간략하게 알아보자.\n",
    "\n",
    "#### pip install\n",
    "PyPI(python package index)는 파이썬 소프트웨어가 모인 저장 공간이다.   \n",
    "현재 이곳에는 10만 건 이상의 파이썬 패키지가 등록되어 있으며 이곳에 등록된 파이썬 패키지는 누구나 내려받아 사용할 수 있다.   \n",
    "이곳에서 직접 내려받아 설치해도 되지만, pip을 이용하면 다음과 같이 간편하게 설치할 수 있다.\n",
    "```python\n",
    "pip install SomePackage \n",
    "```\n",
    "여기서 SomePackage는 내려받을 수 있는 특정 패키지를 뜻한다.\n",
    "\n",
    "#### pip uninstall\n",
    "설치한 패키지를 삭제하고 싶다면 다음 명령어로 삭제할 수 있다.\n",
    "```python\n",
    "pip uninstall SomePackage\n",
    "```\n",
    "#### 특정 버전으로 설치하기\n",
    "다음과 같이 버전을 지정하여 설치할 수도 있다. 다음 명령어를 실행하면 1.0.4 버전의 SomePackage를 설치한다.\n",
    "```python\n",
    " pip install SomePackage==1.0.4\n",
    "```\n",
    "다음처럼 버전을 생략하면 최신 버전을 설치한다.\n",
    "```python\n",
    "pip install SomePackage \n",
    "```\n",
    "#### 최신 버전으로 업그레이드하기\n",
    "패키지를 최신 버전으로 업그레이드하려면 --upgrade 옵션과 함께 사용한다.\n",
    "```python\n",
    "pip install --upgrade SomePackage \n",
    "```\n",
    "#### 설치된 패키지 확인하기\n",
    "다음 명령은 pip을 이용하여 설치한 패키지 목록을 출력한다.\n",
    "```python\n",
    "pip list\n",
    "```"
   ]
  },
  {
   "cell_type": "code",
   "execution_count": 11,
   "id": "f869d571",
   "metadata": {
    "ExecuteTime": {
     "end_time": "2023-10-16T06:45:44.758085Z",
     "start_time": "2023-10-16T06:45:38.571879Z"
    }
   },
   "outputs": [
    {
     "name": "stdout",
     "output_type": "stream",
     "text": [
      "Package                           Version\n",
      "--------------------------------- ---------------\n",
      "aiobotocore                       2.5.0\n",
      "aiofiles                          22.1.0\n",
      "aiohttp                           3.8.5\n",
      "aioitertools                      0.7.1\n",
      "aiosignal                         1.2.0\n",
      "aiosqlite                         0.18.0\n",
      "alabaster                         0.7.12\n",
      "anaconda-anon-usage               0.4.3\n",
      "anaconda-catalogs                 0.2.0\n",
      "anaconda-client                   1.12.1\n",
      "anaconda-cloud-auth               0.1.3\n",
      "anaconda-navigator                2.5.0\n",
      "anaconda-project                  0.11.1\n",
      "anyio                             3.5.0\n",
      "appdirs                           1.4.4\n",
      "argon2-cffi                       21.3.0\n",
      "argon2-cffi-bindings              21.2.0\n",
      "arrow                             1.2.3\n",
      "astroid                           2.14.2\n",
      "astropy                           5.1\n",
      "asttokens                         2.0.5\n",
      "async-timeout                     4.0.2\n",
      "atomicwrites                      1.4.0\n",
      "attrs                             23.1.0\n",
      "Automat                           20.2.0\n",
      "autopep8                          1.6.0\n",
      "Babel                             2.11.0\n",
      "backcall                          0.2.0\n",
      "backports.functools-lru-cache     1.6.4\n",
      "backports.tempfile                1.0\n",
      "backports.weakref                 1.0.post1\n",
      "bcrypt                            3.2.0\n",
      "beautifulsoup4                    4.12.2\n",
      "binaryornot                       0.4.4\n",
      "black                             0.0\n",
      "bleach                            4.1.0\n",
      "bokeh                             3.2.1\n",
      "boltons                           23.0.0\n",
      "boto3                             1.26.76\n",
      "botocore                          1.29.76\n",
      "Bottleneck                        1.3.5\n",
      "brotlipy                          0.7.0\n",
      "certifi                           2023.7.22\n",
      "cffi                              1.15.1\n",
      "chardet                           4.0.0\n",
      "charset-normalizer                2.0.4\n",
      "click                             8.0.4\n",
      "cloudpickle                       2.2.1\n",
      "clyent                            1.2.2\n",
      "colorama                          0.4.6\n",
      "colorcet                          3.0.1\n",
      "comm                              0.1.2\n",
      "conda                             23.9.0\n",
      "conda-build                       3.27.0\n",
      "conda-content-trust               0.2.0\n",
      "conda_index                       0.3.0\n",
      "conda-libmamba-solver             23.9.1\n",
      "conda-pack                        0.6.0\n",
      "conda-package-handling            2.2.0\n",
      "conda_package_streaming           0.9.0\n",
      "conda-repo-cli                    1.0.75\n",
      "conda-token                       0.4.0\n",
      "conda-verify                      3.4.2\n",
      "constantly                        15.1.0\n",
      "contourpy                         1.0.5\n",
      "cookiecutter                      1.7.3\n",
      "cryptography                      41.0.3\n",
      "cssselect                         1.1.0\n",
      "cycler                            0.11.0\n",
      "cytoolz                           0.12.0\n",
      "daal4py                           2023.1.1\n",
      "dask                              2023.6.0\n",
      "datashader                        0.15.2\n",
      "datashape                         0.5.4\n",
      "debugpy                           1.6.7\n",
      "decorator                         5.1.1\n",
      "defusedxml                        0.7.1\n",
      "diff-match-patch                  20200713\n",
      "dill                              0.3.7\n",
      "distributed                       2023.6.0\n",
      "docstring-to-markdown             0.11\n",
      "docutils                          0.18.1\n",
      "entrypoints                       0.4\n",
      "et-xmlfile                        1.1.0\n",
      "executing                         0.8.3\n",
      "Faker                             19.10.0\n",
      "fastjsonschema                    2.16.2\n",
      "filelock                          3.9.0\n",
      "flake8                            6.0.0\n",
      "Flask                             2.2.2\n",
      "fonttools                         4.25.0\n",
      "frozenlist                        1.3.3\n",
      "fsspec                            2023.4.0\n",
      "future                            0.18.3\n",
      "gensim                            4.3.0\n",
      "greenlet                          2.0.1\n",
      "h5py                              3.9.0\n",
      "HeapDict                          1.0.1\n",
      "holoviews                         1.17.1\n",
      "hvplot                            0.8.4\n",
      "hyperlink                         21.0.0\n",
      "idna                              3.4\n",
      "imagecodecs                       2023.1.23\n",
      "imageio                           2.31.4\n",
      "imagesize                         1.4.1\n",
      "imbalanced-learn                  0.10.1\n",
      "importlib-metadata                6.0.0\n",
      "incremental                       21.3.0\n",
      "inflection                        0.5.1\n",
      "iniconfig                         1.1.1\n",
      "intake                            0.6.8\n",
      "intervaltree                      3.1.0\n",
      "ipykernel                         6.25.0\n",
      "ipython                           8.15.0\n",
      "ipython-genutils                  0.2.0\n",
      "ipywidgets                        8.0.4\n",
      "isort                             5.9.3\n",
      "itemadapter                       0.3.0\n",
      "itemloaders                       1.0.4\n",
      "itsdangerous                      2.0.1\n",
      "jaraco.classes                    3.2.1\n",
      "jedi                              0.18.1\n",
      "jellyfish                         1.0.1\n",
      "Jinja2                            3.1.2\n",
      "jinja2-time                       0.2.0\n",
      "jmespath                          0.10.0\n",
      "joblib                            1.2.0\n",
      "json5                             0.9.6\n",
      "jsonpatch                         1.32\n",
      "jsonpointer                       2.1\n",
      "jsonschema                        4.17.3\n",
      "jupyter                           1.0.0\n",
      "jupyter_client                    7.4.9\n",
      "jupyter-console                   6.6.3\n",
      "jupyter-contrib-core              0.4.0\n",
      "jupyter-contrib-nbextensions      0.7.0\n",
      "jupyter_core                      5.3.0\n",
      "jupyter-events                    0.6.3\n",
      "jupyter-highlight-selected-word   0.2.0\n",
      "jupyter-latex-envs                1.4.6\n",
      "jupyter-nbextensions-configurator 0.6.1\n",
      "jupyter-server                    1.23.4\n",
      "jupyter_server_fileid             0.9.0\n",
      "jupyter_server_ydoc               0.8.0\n",
      "jupyter-ydoc                      0.2.4\n",
      "jupyterlab                        3.6.3\n",
      "jupyterlab-pygments               0.1.2\n",
      "jupyterlab_server                 2.22.0\n",
      "jupyterlab-widgets                3.0.5\n",
      "jupyterthemes                     0.20.0\n",
      "kaleido                           0.2.1\n",
      "keyring                           23.13.1\n",
      "kiwisolver                        1.4.4\n",
      "lazy_loader                       0.3\n",
      "lazy-object-proxy                 1.6.0\n",
      "lesscpy                           0.15.1\n",
      "libarchive-c                      2.9\n",
      "libmambapy                        1.5.1\n",
      "linkify-it-py                     2.0.0\n",
      "llvmlite                          0.41.0\n",
      "lmdb                              1.4.1\n",
      "locket                            1.0.0\n",
      "lxml                              4.9.3\n",
      "lz4                               4.3.2\n",
      "Markdown                          3.4.1\n",
      "markdown-it-py                    2.2.0\n",
      "MarkupSafe                        2.1.1\n",
      "matplotlib                        3.7.2\n",
      "matplotlib-inline                 0.1.6\n",
      "mccabe                            0.7.0\n",
      "mdit-py-plugins                   0.3.0\n",
      "mdurl                             0.1.0\n",
      "menuinst                          1.4.19\n",
      "mistune                           0.8.4\n",
      "mkl-fft                           1.3.8\n",
      "mkl-random                        1.2.4\n",
      "mkl-service                       2.4.0\n",
      "more-itertools                    8.12.0\n",
      "mpmath                            1.3.0\n",
      "msgpack                           1.0.3\n",
      "multidict                         6.0.2\n",
      "multipledispatch                  0.6.0\n",
      "munkres                           1.1.4\n",
      "mypy-extensions                   1.0.0\n",
      "navigator-updater                 0.4.0\n",
      "nbclassic                         0.5.5\n",
      "nbclient                          0.5.13\n",
      "nbconvert                         6.5.4\n",
      "nbformat                          5.9.2\n",
      "nest-asyncio                      1.5.6\n",
      "networkx                          3.1\n",
      "nltk                              3.8.1\n",
      "notebook                          6.5.4\n",
      "notebook_shim                     0.2.2\n",
      "numba                             0.58.0\n",
      "numexpr                           2.8.7\n",
      "numpy                             1.24.3\n",
      "numpydoc                          1.5.0\n",
      "openpyxl                          3.0.10\n",
      "packaging                         23.1\n",
      "pandas                            2.0.3\n",
      "pandocfilters                     1.5.0\n",
      "panel                             1.2.3\n",
      "param                             1.13.0\n",
      "paramiko                          2.8.1\n",
      "parsel                            1.6.0\n",
      "parso                             0.8.3\n",
      "partd                             1.4.0\n",
      "pathlib                           1.0.1\n",
      "pathspec                          0.10.3\n",
      "patsy                             0.5.3\n",
      "pep8                              1.7.1\n",
      "pexpect                           4.8.0\n",
      "pickleshare                       0.7.5\n",
      "Pillow                            10.0.1\n",
      "pip                               23.2.1\n",
      "pkce                              1.0.3\n",
      "pkginfo                           1.9.6\n",
      "platformdirs                      3.10.0\n",
      "plotly                            5.9.0\n",
      "pluggy                            1.0.0\n",
      "ply                               3.11\n",
      "poyo                              0.5.0\n",
      "prometheus-client                 0.14.1\n",
      "prompt-toolkit                    3.0.36\n",
      "Protego                           0.1.16\n",
      "psutil                            5.9.0\n",
      "ptyprocess                        0.7.0\n",
      "pure-eval                         0.2.2\n",
      "py-cpuinfo                        8.0.0\n",
      "pyarrow                           11.0.0\n",
      "pyasn1                            0.4.8\n",
      "pyasn1-modules                    0.2.8\n",
      "pycodestyle                       2.10.0\n",
      "pycosat                           0.6.6\n",
      "pycparser                         2.21\n",
      "pyct                              0.5.0\n",
      "pycurl                            7.45.2\n",
      "pydantic                          1.10.12\n",
      "PyDispatcher                      2.0.5\n",
      "pydocstyle                        6.3.0\n",
      "pyerfa                            2.0.0\n",
      "pyflakes                          3.0.1\n",
      "Pygments                          2.15.1\n",
      "PyJWT                             2.4.0\n",
      "pylint                            2.16.2\n",
      "pylint-venv                       2.3.0\n",
      "pyls-spyder                       0.4.0\n",
      "PyNaCl                            1.5.0\n",
      "pyodbc                            4.0.39\n",
      "pyOpenSSL                         23.2.0\n",
      "pyparsing                         3.0.9\n",
      "PyQt5                             5.15.7\n",
      "PyQt5-sip                         12.11.0\n",
      "PyQtWebEngine                     5.15.4\n",
      "pyrsistent                        0.18.0\n",
      "PySocks                           1.7.1\n",
      "pytest                            7.4.0\n",
      "python-dateutil                   2.8.2\n",
      "python-dotenv                     0.21.0\n",
      "python-json-logger                2.0.7\n",
      "python-lsp-black                  1.2.1\n",
      "python-lsp-jsonrpc                1.0.0\n",
      "python-lsp-server                 1.7.2\n",
      "python-slugify                    5.0.2\n",
      "python-snappy                     0.6.1\n",
      "pytoolconfig                      1.2.5\n",
      "pytz                              2023.3.post1\n",
      "pyviz-comms                       2.3.0\n",
      "PyWavelets                        1.4.1\n",
      "pywin32                           305.1\n",
      "pywin32-ctypes                    0.2.0\n",
      "pywinpty                          2.0.10\n",
      "PyYAML                            6.0\n",
      "pyzmq                             23.2.0\n",
      "QDarkStyle                        3.0.2\n",
      "qstylizer                         0.2.2\n",
      "QtAwesome                         1.2.2\n",
      "qtconsole                         5.4.2\n",
      "QtPy                              2.2.0\n",
      "queuelib                          1.6.2\n",
      "regex                             2023.10.3\n",
      "requests                          2.31.0\n",
      "requests-file                     1.5.1\n",
      "requests-toolbelt                 1.0.0\n",
      "rfc3339-validator                 0.1.4\n",
      "rfc3986-validator                 0.1.1\n",
      "rise                              5.7.1\n",
      "rope                              1.7.0\n",
      "rpds-py                           0.10.3\n",
      "Rtree                             1.0.1\n",
      "ruamel.yaml                       0.17.21\n",
      "ruamel-yaml-conda                 0.17.21\n",
      "s3fs                              2023.4.0\n",
      "s3transfer                        0.6.0\n",
      "sacremoses                        0.0.43\n",
      "scikit-image                      0.20.0\n",
      "scikit-learn                      1.3.0\n",
      "scikit-learn-intelex              20230426.121932\n",
      "scipy                             1.11.3\n",
      "Scrapy                            2.8.0\n",
      "seaborn                           0.12.2\n",
      "Send2Trash                        1.8.0\n",
      "service-identity                  18.1.0\n",
      "setuptools                        68.0.0\n",
      "sip                               6.6.2\n",
      "six                               1.16.0\n",
      "smart-open                        5.2.1\n",
      "sniffio                           1.2.0\n",
      "snowballstemmer                   2.2.0\n",
      "sortedcontainers                  2.4.0\n",
      "soupsieve                         2.5\n",
      "Sphinx                            5.0.2\n",
      "sphinxcontrib-applehelp           1.0.2\n",
      "sphinxcontrib-devhelp             1.0.2\n",
      "sphinxcontrib-htmlhelp            2.0.0\n",
      "sphinxcontrib-jsmath              1.0.1\n",
      "sphinxcontrib-qthelp              1.0.3\n",
      "sphinxcontrib-serializinghtml     1.1.5\n",
      "spyder                            5.4.3\n",
      "spyder-kernels                    2.4.4\n",
      "SQLAlchemy                        2.0.21\n",
      "stack-data                        0.2.0\n",
      "statsmodels                       0.14.0\n",
      "sympy                             1.11.1\n",
      "tables                            3.8.0\n",
      "tabulate                          0.8.10\n",
      "TBB                               0.2\n",
      "tblib                             1.7.0\n",
      "tenacity                          8.2.2\n",
      "terminado                         0.17.1\n",
      "text-unidecode                    1.3\n",
      "textdistance                      4.2.1\n",
      "threadpoolctl                     2.2.0\n",
      "three-merge                       0.1.1\n",
      "tifffile                          2023.4.12\n",
      "tinycss2                          1.2.1\n",
      "tldextract                        3.2.0\n",
      "toml                              0.10.2\n",
      "tomlkit                           0.11.1\n",
      "toolz                             0.12.0\n",
      "tornado                           6.3.3\n",
      "tqdm                              4.65.0\n",
      "traitlets                         5.7.1\n",
      "transformers                      2.1.1\n",
      "truststore                        0.8.0\n",
      "Twisted                           22.10.0\n",
      "twisted-iocpsupport               1.0.2\n",
      "typing_extensions                 4.7.1\n",
      "tzdata                            2023.3\n",
      "uc-micro-py                       1.0.1\n",
      "ujson                             5.4.0\n",
      "Unidecode                         1.2.0\n",
      "uri-template                      1.3.0\n",
      "urllib3                           1.26.16\n",
      "w3lib                             1.21.0\n",
      "watchdog                          2.1.6\n",
      "wcwidth                           0.2.5\n",
      "webcolors                         1.13\n",
      "webencodings                      0.5.1\n",
      "websocket-client                  0.58.0\n",
      "Werkzeug                          2.2.3\n",
      "whatthepatch                      1.0.2\n",
      "wheel                             0.41.2\n",
      "widgetsnbextension                4.0.5\n",
      "win-inet-pton                     1.1.0\n",
      "wrapt                             1.14.1\n",
      "xarray                            2023.6.0\n",
      "xlwings                           0.29.1\n",
      "xyzservices                       2022.9.0\n",
      "y-py                              0.5.9\n",
      "yapf                              0.31.0\n",
      "yarl                              1.8.1\n",
      "ypy-websocket                     0.8.2\n",
      "zict                              3.0.0\n",
      "zipp                              3.11.0\n",
      "zope.interface                    5.4.0\n",
      "zstandard                         0.19.0\n",
      "Note: you may need to restart the kernel to use updated packages.\n"
     ]
    }
   ],
   "source": [
    "pip list"
   ]
  },
  {
   "cell_type": "markdown",
   "id": "0e9750ce",
   "metadata": {},
   "source": [
    "##### pip 버전 확인 및 최신 버전 업그레이드\n",
    " ```python\n",
    "pip --version\n",
    "\n",
    "# 리눅스 환경\n",
    "pip install --upgrade pip\n",
    "\n",
    "# windows 환경\n",
    "python -m pip install --upgrade pip\n",
    " ```\n",
    " "
   ]
  },
  {
   "cell_type": "code",
   "execution_count": 65,
   "id": "807bb522",
   "metadata": {
    "ExecuteTime": {
     "end_time": "2023-10-12T07:07:03.730797Z",
     "start_time": "2023-10-12T07:07:02.930243Z"
    }
   },
   "outputs": [
    {
     "name": "stdout",
     "output_type": "stream",
     "text": [
      "pip 23.2.1 from C:\\Users\\maeng\\anaconda3\\Lib\\site-packages\\pip (python 3.11)\n",
      "\n"
     ]
    }
   ],
   "source": [
    "!pip --version"
   ]
  },
  {
   "cell_type": "code",
   "execution_count": 66,
   "id": "53432e2f",
   "metadata": {
    "ExecuteTime": {
     "end_time": "2023-10-12T07:07:13.161666Z",
     "start_time": "2023-10-12T07:07:05.802167Z"
    }
   },
   "outputs": [
    {
     "name": "stdout",
     "output_type": "stream",
     "text": [
      "Requirement already satisfied: pip in c:\\users\\maeng\\anaconda3\\lib\\site-packages (23.2.1)\n"
     ]
    }
   ],
   "source": [
    "!pip install --upgrade pip"
   ]
  },
  {
   "cell_type": "markdown",
   "id": "c768b4a3",
   "metadata": {},
   "source": [
    "### faker\n",
    "이번에는 pip을 사용하여 유용한 외부 라이브러리중 하나인 Faker를 설치하고 사용해 보자.   \n",
    "Faker는 테스트용 가짜 데이터를 생성할 때 사용하는 라이브러리이다.\n",
    "\n",
    "Faker 라이브러리는 pip을 이용하여 설치해야 한다."
   ]
  },
  {
   "cell_type": "code",
   "execution_count": 64,
   "id": "adf04a15",
   "metadata": {
    "ExecuteTime": {
     "end_time": "2023-10-12T07:06:58.454065Z",
     "start_time": "2023-10-12T07:06:46.237484Z"
    }
   },
   "outputs": [
    {
     "name": "stdout",
     "output_type": "stream",
     "text": [
      "Collecting Faker\n",
      "  Obtaining dependency information for Faker from https://files.pythonhosted.org/packages/9b/69/fc3c9c30d406655d00f9b5737f0a27f7ba89d8fff61c14d5ecd223acf211/Faker-19.10.0-py3-none-any.whl.metadata\n",
      "  Downloading Faker-19.10.0-py3-none-any.whl.metadata (15 kB)\n",
      "Requirement already satisfied: python-dateutil>=2.4 in c:\\users\\maeng\\anaconda3\\lib\\site-packages (from Faker) (2.8.2)\n",
      "Requirement already satisfied: six>=1.5 in c:\\users\\maeng\\anaconda3\\lib\\site-packages (from python-dateutil>=2.4->Faker) (1.16.0)\n",
      "Downloading Faker-19.10.0-py3-none-any.whl (1.7 MB)\n",
      "   ---------------------------------------- 0.0/1.7 MB ? eta -:--:--\n",
      "   ---------------------------------------- 0.0/1.7 MB ? eta -:--:--\n",
      "    --------------------------------------- 0.0/1.7 MB 653.6 kB/s eta 0:00:03\n",
      "   ---------------- ----------------------- 0.7/1.7 MB 7.5 MB/s eta 0:00:01\n",
      "   ---------------------------------------- 1.7/1.7 MB 12.2 MB/s eta 0:00:00\n",
      "Installing collected packages: Faker\n",
      "Successfully installed Faker-19.10.0\n",
      "Note: you may need to restart the kernel to use updated packages.\n"
     ]
    }
   ],
   "source": [
    "pip install Faker"
   ]
  },
  {
   "cell_type": "markdown",
   "id": "21ecdb9a",
   "metadata": {},
   "source": [
    "#### Faker 사용해 보기\n",
    "만약 다음과 같은 형식의 테스트 데이터 30건이 필요하다고 가정해 보자.   \n",
    "직접 데이터를 작성하지 말고 좀 더 편리한 방법으로 테스트 데이터를 만들려면 어떻게 해야 할까?\n",
    "\n",
    "[(이름1, 주소1), (이름2, 주소2), ..., (이름30, 주소30)]\n",
    "\n",
    "테스트 데이터는 Faker를 사용하면 매우 쉽게 만들 수 있다. 이름은 다음처럼 만들 수 있다."
   ]
  },
  {
   "cell_type": "code",
   "execution_count": 12,
   "id": "7099531b",
   "metadata": {
    "ExecuteTime": {
     "end_time": "2023-10-16T06:46:52.956797Z",
     "start_time": "2023-10-16T06:46:52.495563Z"
    }
   },
   "outputs": [
    {
     "data": {
      "text/plain": [
       "'George Daniels'"
      ]
     },
     "execution_count": 12,
     "metadata": {},
     "output_type": "execute_result"
    }
   ],
   "source": [
    "from faker import Faker\n",
    "fake = Faker()\n",
    "fake.name()"
   ]
  },
  {
   "cell_type": "code",
   "execution_count": 13,
   "id": "6c473d71",
   "metadata": {
    "ExecuteTime": {
     "end_time": "2023-10-16T06:46:57.238368Z",
     "start_time": "2023-10-16T06:46:57.123223Z"
    }
   },
   "outputs": [
    {
     "data": {
      "text/plain": [
       "'박옥자'"
      ]
     },
     "execution_count": 13,
     "metadata": {},
     "output_type": "execute_result"
    }
   ],
   "source": [
    "# 한글 이름이 필요하다면 다음과 같이 한국을 의미하는 ko-KR을 전달하여 fake 객체를 생성하면 된다.\n",
    "fake = Faker('ko-KR')\n",
    "fake.name()"
   ]
  },
  {
   "cell_type": "code",
   "execution_count": 14,
   "id": "6baecb98",
   "metadata": {
    "ExecuteTime": {
     "end_time": "2023-10-16T06:46:59.910226Z",
     "start_time": "2023-10-16T06:46:59.905599Z"
    }
   },
   "outputs": [
    {
     "data": {
      "text/plain": [
       "'전라북도 용인시 기흥구 강남대1가'"
      ]
     },
     "execution_count": 14,
     "metadata": {},
     "output_type": "execute_result"
    }
   ],
   "source": [
    "# 주소는 다음과 같이 만들 수 있다.\n",
    "fake.address()"
   ]
  },
  {
   "cell_type": "code",
   "execution_count": 15,
   "id": "e5d7e239",
   "metadata": {
    "ExecuteTime": {
     "end_time": "2023-10-16T06:47:02.933186Z",
     "start_time": "2023-10-16T06:47:02.923016Z"
    }
   },
   "outputs": [
    {
     "data": {
      "text/plain": [
       "[('김도윤', '전라북도 청양군 잠실로'),\n",
       " ('홍지아', '충청남도 남양주시 논현1길 (상철이면)'),\n",
       " ('최은지', '경상북도 강릉시 삼성가'),\n",
       " ('홍준호', '부산광역시 송파구 봉은사9로 (진호강면)'),\n",
       " ('고상현', '경상남도 청주시 서원구 개포0길'),\n",
       " ('고민재', '전라북도 충주시 양재천3거리 (지민이이읍)'),\n",
       " ('송정훈', '인천광역시 동구 잠실55가 (상현박서면)'),\n",
       " ('백미정', '서울특별시 영등포구 반포대38길'),\n",
       " ('고예진', '경기도 부천시 원미구 삼성5거리'),\n",
       " ('권우진', '경상남도 연천군 역삼가'),\n",
       " ('윤순자', '경상북도 안산시 봉은사70로 (준영고박리)'),\n",
       " ('임정희', '인천광역시 중랑구 테헤란5길'),\n",
       " ('안도윤', '인천광역시 송파구 백제고분0로'),\n",
       " ('박진우', '경상남도 천안시 동남구 서초중앙가 (병철곽이리)'),\n",
       " ('성순옥', '제주특별자치도 고성군 봉은사4길'),\n",
       " ('정선영', '강원도 부천시 오정구 논현5길 (영희윤김면)'),\n",
       " ('양영희', '대전광역시 노원구 학동59길'),\n",
       " ('이지은', '경상북도 홍성군 서초대041로 (재현홍이읍)'),\n",
       " ('최상현', '서울특별시 금천구 언주가'),\n",
       " ('한영숙', '충청북도 안양시 동안구 석촌호수거리 (하은한김마을)'),\n",
       " ('김영일', '경상남도 부천시 서초대로'),\n",
       " ('이영자', '제주특별자치도 증평군 서초중앙가'),\n",
       " ('이영길', '울산광역시 서초구 도산대989로'),\n",
       " ('박영수', '대구광역시 강서구 학동로 (은정권동)'),\n",
       " ('김현준', '인천광역시 성동구 석촌호수길 (옥자이면)'),\n",
       " ('백영숙', '대전광역시 은평구 삼성길 (승현허마을)'),\n",
       " ('백상호', '광주광역시 북구 테헤란거리'),\n",
       " ('이도윤', '서울특별시 도봉구 강남대153거리 (현지한엄리)'),\n",
       " ('박지은', '광주광역시 관악구 학동86거리'),\n",
       " ('김성수', '충청남도 괴산군 백제고분거리')]"
      ]
     },
     "execution_count": 15,
     "metadata": {},
     "output_type": "execute_result"
    }
   ],
   "source": [
    "# 따라서 이름과 주소를 쌍으로 하는 30건의 테스트 데이터는 다음과 같이 만들 수 있다.\n",
    "test_data = [(fake.name(), fake.address()) for i in range(30)]\n",
    "test_data"
   ]
  },
  {
   "cell_type": "markdown",
   "id": "b0821347",
   "metadata": {},
   "source": [
    "#### Faker 활용하기\n",
    "Faker는 앞서 살펴본 name, address 이외에 다른 항목도 제공한다. 대표적인 몇 가지만 알아보자.\n",
    "| 항목                            | 설명                                  |\n",
    "|-------------------------------|---------------------------------------|\n",
    "| `fake.name()`                 | 이름                                 |\n",
    "| `fake.address()`              | 주소                                 |\n",
    "| `fake.postcode()`             | 우편 번호                            |\n",
    "| `fake.country()`              | 국가명                               |\n",
    "| `fake.company()`              | 회사명                               |\n",
    "| `fake.job()`                  | 직업명                               |\n",
    "| `fake.phone_number()`         | 휴대전화 번호                        |\n",
    "| `fake.email()`                | 이메일 주소                          |\n",
    "| `fake.user_name()`            | 사용자명                             |\n",
    "| `fake.pyint(min_value=0, max_value=100)` | 0부터 100 사이의 임의의 숫자    |\n",
    "| `fake.ipv4_private()`         | IP 주소                              |\n",
    "| `fake.text()`                 | 임의의 문장 (한글 임의의 문장은 `fake.catch_phrase()` 사용) |\n",
    "| `fake.color_name()`           | 색상명                               |"
   ]
  },
  {
   "cell_type": "markdown",
   "id": "ffccecde",
   "metadata": {},
   "source": [
    "### sympy\n",
    "시윤이는 가진 돈의 $2/5$로 학용품을 샀다고 한다. 이때 학용품을 사는 데 쓴 돈이 1,760원이라면 남은 돈은 어떻게 구하면 될까?\n",
    "<img src=\"https://wikidocs.net/images/page/180538/05_7_pic1.png\">\n",
    "\n",
    "\n",
    "이 문제는 연습장과 연필만 있으면 쉽게 구할 수 있는 일차방정식 문제이다.   \n",
    "파이썬으로는 다음처럼 sympy를 사용하면 방정식을 쉽게 풀 수 있다.   \n",
    "먼저 다음과 같이 fractions 모듈과 sympy 모듈이 필요하다."
   ]
  },
  {
   "cell_type": "code",
   "execution_count": 75,
   "id": "6572609f",
   "metadata": {
    "ExecuteTime": {
     "end_time": "2023-10-12T07:14:26.013968Z",
     "start_time": "2023-10-12T07:14:26.010748Z"
    }
   },
   "outputs": [],
   "source": [
    "# x(2/5) = 1760\n",
    "from fractions import Fraction\n",
    "import sympy\n",
    "# 시윤이가 가진 돈을 x라고 하면 sympy 모듈을 사용하여 다음과 같이 표현할 수 있다.\n",
    "x = sympy.symbols(\"x\")\n",
    "# sympy.symbols()는 x처럼 방정식에 사용하는 미지수를 나타내는 기호를 생성할 때 사용한다."
   ]
  },
  {
   "cell_type": "markdown",
   "id": "9511784e",
   "metadata": {},
   "source": [
    "#### 여러 개의 기호 사용하기\n",
    "x, y 2개의 미지수가 필요하다면 다음처럼 표현할 수 있다.\n",
    "```python\n",
    "x, y = sympy.symbols('x y')\n",
    "```"
   ]
  },
  {
   "cell_type": "markdown",
   "id": "0e3ebdf2",
   "metadata": {},
   "source": [
    "시윤이가 가진 돈의 $2/5$는 1,760원, 즉 일차방정식 $x * (2/5) = 1760$ \n",
    "이므로 이를 코드로 표현하면 다음과 같다.   \n",
    "sympy.Eq(a, b)는 a와 b가 같다는 방정식이다.   \n",
    "여기서 사용한 Fraction은 유리수를 표현할 때 사용하는 표준 라이브러리로, $2/5$를 정확하게 계산하고자 사용했다."
   ]
  },
  {
   "cell_type": "code",
   "execution_count": 76,
   "id": "64de6db0",
   "metadata": {
    "ExecuteTime": {
     "end_time": "2023-10-12T07:21:33.169584Z",
     "start_time": "2023-10-12T07:21:33.083129Z"
    }
   },
   "outputs": [],
   "source": [
    "f = sympy.Eq( x*Fraction('2/5'), 1760)"
   ]
  },
  {
   "cell_type": "markdown",
   "id": "333f82a8",
   "metadata": {},
   "source": [
    "#### fractions.Fraction으로 유리수 연산하기\n",
    "파이썬에서 유리수 연산을 정확하게 하려면 fractions.Fraction을 사용해야 한다.\n",
    "유리수는 다음처럼 Fraction(분자, 분모) 형태로 만들 수 있다.\n",
    "```python\n",
    ">>> from fractions import Fraction\n",
    ">>> a = Fraction(1, 5)\n",
    ">>> a\n",
    "Fraction(1, 5)\n",
    "```\n",
    "또는 다음과 같이 Fraction('분자 / 분모')처럼 문자열로 만들 수도 있다.\n",
    "```python\n",
    ">>> a = Fraction('1/5')\n",
    ">>> a\n",
    "Fraction(1, 5)\n",
    "```"
   ]
  },
  {
   "cell_type": "code",
   "execution_count": 77,
   "id": "9c4f1dc7",
   "metadata": {
    "ExecuteTime": {
     "end_time": "2023-10-12T07:21:44.730724Z",
     "start_time": "2023-10-12T07:21:44.724006Z"
    }
   },
   "outputs": [
    {
     "data": {
      "text/plain": [
       "[4400]"
      ]
     },
     "execution_count": 77,
     "metadata": {},
     "output_type": "execute_result"
    }
   ],
   "source": [
    "# f라는 방정식을 세웠으므로 sympy.solve(f)로 x에 해당하는 값을 구할 수 있다.\n",
    "result = sympy.solve(f)\n",
    "result"
   ]
  },
  {
   "cell_type": "markdown",
   "id": "b67600fc",
   "metadata": {},
   "source": [
    "방정식의 해는 여러 개일 수 있으므로 solve() 함수는 결괏값으로 리스트를 리턴한다.   \n",
    "결과를 보면 시윤이가 원래 가진 돈이 4,400원이라는 것을 알 수 있다.   \n",
    "따라서 남은 돈은 다음처럼 가진 돈에서 1,760원을 빼면 된다."
   ]
  },
  {
   "cell_type": "code",
   "execution_count": 78,
   "id": "38d4bd9f",
   "metadata": {
    "ExecuteTime": {
     "end_time": "2023-10-12T07:22:07.064517Z",
     "start_time": "2023-10-12T07:22:07.059138Z"
    },
    "scrolled": true
   },
   "outputs": [
    {
     "data": {
      "text/latex": [
       "$\\displaystyle 2640$"
      ],
      "text/plain": [
       "2640"
      ]
     },
     "execution_count": 78,
     "metadata": {},
     "output_type": "execute_result"
    }
   ],
   "source": [
    "remains = result[0] - 1760\n",
    "remains"
   ]
  },
  {
   "cell_type": "code",
   "execution_count": 79,
   "id": "2a5f6ec7",
   "metadata": {
    "ExecuteTime": {
     "end_time": "2023-10-12T07:22:42.774869Z",
     "start_time": "2023-10-12T07:22:42.768897Z"
    }
   },
   "outputs": [
    {
     "name": "stdout",
     "output_type": "stream",
     "text": [
      "남은 돈은 2640원 입니다.\n"
     ]
    }
   ],
   "source": [
    "# 종합 풀이\n",
    "from fractions import Fraction\n",
    "import sympy\n",
    "\n",
    "# 가지고 있던 돈을 x라고 하자.\n",
    "x = sympy.symbols(\"x\")\n",
    "\n",
    "# 가지고 있던 돈의 2/5가 1760원이므로 방정식은 x * (2/5) = 1760 이다.\n",
    "f = sympy.Eq(x*Fraction('2/5'), 1760)\n",
    "\n",
    "# 방정식을 만족하는 값(result)을 구한다.\n",
    "result = sympy.solve(f)  # 결괏값은 리스트\n",
    "\n",
    "# 남은 돈은 다음과 같이 가지고 있던 돈에서 1760원을 빼면 된다.\n",
    "remains = result[0] - 1760\n",
    "\n",
    "print('남은 돈은 {}원 입니다.'.format(remains))"
   ]
  },
  {
   "cell_type": "markdown",
   "id": "4a76daa8",
   "metadata": {},
   "source": [
    "#### sympy 활용\n",
    "$x^2=1$과 같은 2차 방정식의 해를 구해 보자."
   ]
  },
  {
   "cell_type": "code",
   "execution_count": 80,
   "id": "777ccfc0",
   "metadata": {
    "ExecuteTime": {
     "end_time": "2023-10-12T07:23:13.459602Z",
     "start_time": "2023-10-12T07:23:13.442621Z"
    }
   },
   "outputs": [
    {
     "data": {
      "text/plain": [
       "[-1, 1]"
      ]
     },
     "execution_count": 80,
     "metadata": {},
     "output_type": "execute_result"
    }
   ],
   "source": [
    "import sympy\n",
    "x = sympy.symbols(\"x\")\n",
    "f = sympy.Eq(x**2, 1)\n",
    "sympy.solve(f)"
   ]
  },
  {
   "cell_type": "code",
   "execution_count": 82,
   "id": "fd08db50",
   "metadata": {
    "ExecuteTime": {
     "end_time": "2023-10-12T07:23:53.971152Z",
     "start_time": "2023-10-12T07:23:53.955194Z"
    }
   },
   "outputs": [
    {
     "data": {
      "text/plain": [
       "{x: 7, y: 3}"
      ]
     },
     "execution_count": 82,
     "metadata": {},
     "output_type": "execute_result"
    }
   ],
   "source": [
    "# 또한 다음과 같은 연립방정식의 해도 구할 수 있다.\n",
    "# x + y = 10, x - y = 4\n",
    "import sympy\n",
    "x, y = sympy.symbols('x y')\n",
    "f1 = sympy.Eq(x+y, 10)\n",
    "f2 = sympy.Eq(x-y, 4)\n",
    "sympy.solve([f1, f2])\n",
    "# 미지수가 2개 이상이라면 결괏값이 리스트가 아닌 딕셔너리라는 것에 주의하자."
   ]
  }
 ],
 "metadata": {
  "kernelspec": {
   "display_name": "Python 3 (ipykernel)",
   "language": "python",
   "name": "python3"
  },
  "language_info": {
   "codemirror_mode": {
    "name": "ipython",
    "version": 3
   },
   "file_extension": ".py",
   "mimetype": "text/x-python",
   "name": "python",
   "nbconvert_exporter": "python",
   "pygments_lexer": "ipython3",
   "version": "3.11.5"
  },
  "toc": {
   "base_numbering": 1,
   "nav_menu": {},
   "number_sections": true,
   "sideBar": true,
   "skip_h1_title": false,
   "title_cell": "Table of Contents",
   "title_sidebar": "Contents",
   "toc_cell": false,
   "toc_position": {
    "height": "calc(100% - 180px)",
    "left": "10px",
    "top": "150px",
    "width": "384px"
   },
   "toc_section_display": true,
   "toc_window_display": false
  },
  "varInspector": {
   "cols": {
    "lenName": 16,
    "lenType": 16,
    "lenVar": 40
   },
   "kernels_config": {
    "python": {
     "delete_cmd_postfix": "",
     "delete_cmd_prefix": "del ",
     "library": "var_list.py",
     "varRefreshCmd": "print(var_dic_list())"
    },
    "r": {
     "delete_cmd_postfix": ") ",
     "delete_cmd_prefix": "rm(",
     "library": "var_list.r",
     "varRefreshCmd": "cat(var_dic_list()) "
    }
   },
   "types_to_exclude": [
    "module",
    "function",
    "builtin_function_or_method",
    "instance",
    "_Feature"
   ],
   "window_display": false
  }
 },
 "nbformat": 4,
 "nbformat_minor": 5
}

{
 "cells": [
  {
   "cell_type": "markdown",
   "id": "ef1793e0",
   "metadata": {},
   "source": [
    "# 클래스\n",
    "## 요약\n",
    "* class\n",
    "    * method : 클래스 안에서 선언된 함수, 호출시 첫번째 입력값(인스턴스 주소)이 자동으로 전달\n",
    "    * 상속 : 클래스가 다른 클래스의 내용을 가져다 사용하는 것\n",
    "    * 매직메서드 : 어떤 상황 발생시 자동 발생되는 메서드, __함수__\n",
    "        ```\n",
    "        __init__ : 생성자 메서드 (인스턴스 생성시 호출)\n",
    "        __str__ : 인스턴스변수 출력시 자동 호출\n",
    "        ```\n",
    "    * 정적 메서드 : @staticmethod, 인스턴스를 통하지 않고 클래스에서 바로 호출할 수 있음(인스턴스 주소를 안받음)\n",
    "\n",
    "## 클래스는 왜 필요한가?\n",
    "프로그래머들이 가장 많이 사용하는 프로그래밍 언어 중 하나인 C 언어에는 클래스가 없다   \n",
    "이 말은 굳이 클래스가 없어도 프로그램을 충분히 만들 수 있다는 뜻이다.   \n",
    "파이썬으로 잘 만든 프로그램을 살펴봐도 클래스를 사용하지 않고 작성한 것이 매우 많다.   \n",
    "즉, 클래스는 지금까지 공부한 함수나 자료형처럼 프로그램 작성을 위해 꼭 필요한 요소는 아니다.\n",
    "\n",
    "하지만 프로그램을 작성할 때 클래스를 적재적소에 사용하면 프로그래머가 얻을 수 있는 이익은 많다. 예제를 통해 한번 생각해 보자."
   ]
  },
  {
   "cell_type": "markdown",
   "id": "ef02dee4",
   "metadata": {},
   "source": [
    "### 계산기 프로그램을 만들며 클래스 알아보기\n",
    "\n",
    "여러분 모두 계산기를 사용해 보았을 것이다.   \n",
    "계산기에 숫자 3을 입력하고 +를 입력한 후 4를 입력하면 결괏값으로 7을 보여 준다.   \n",
    "다시 한번 +를 입력한 후 3을 입력하면 기존 결괏값 7에 3을 더해 10을 보여 준다.   \n",
    "즉, 계산기는 이전에 계산한 결괏값을 항상 메모리 어딘가에 저장하고 있어야 한다.\n",
    "<img src=\"https://wikidocs.net/images/page/28/calc.png\"></img>\n",
    "\n"
   ]
  },
  {
   "cell_type": "code",
   "execution_count": 1,
   "id": "ebd2466e",
   "metadata": {
    "ExecuteTime": {
     "end_time": "2023-12-04T05:49:39.013063Z",
     "start_time": "2023-12-04T05:49:39.009098Z"
    }
   },
   "outputs": [
    {
     "name": "stdout",
     "output_type": "stream",
     "text": [
      "3\n",
      "7\n"
     ]
    }
   ],
   "source": [
    "# 계산기의 '더하기'기능을 함수로 구현해보자\n",
    "result = 0\n",
    "\n",
    "def add(num):\n",
    "    global result  # 이전에 계산한 결괏값을 유지하기 위해서 result 전역변수를 사용\n",
    "    result += num  # 결괏값(result)에 입력값(num) 더하기\n",
    "    return result  # 결괏값 리턴\n",
    "\n",
    "print(add(3))\n",
    "print(add(4))"
   ]
  },
  {
   "cell_type": "code",
   "execution_count": 2,
   "id": "497353ef",
   "metadata": {
    "ExecuteTime": {
     "end_time": "2023-12-04T06:01:22.316523Z",
     "start_time": "2023-12-04T06:01:22.309330Z"
    }
   },
   "outputs": [
    {
     "name": "stdout",
     "output_type": "stream",
     "text": [
      "3\n",
      "7\n",
      "3\n",
      "10\n"
     ]
    }
   ],
   "source": [
    "# 한프로그램에서 2대의 계산기가 필요한 사황이 발생한다면?\n",
    "# 각 계산기는 각각의 결괏값을 유지해야 하므로 위와 같이 add함수 하나 만으로는 결괏ㄱ밧을 따로 유지할 수 없다.\n",
    "# 이 상황을 해결하려면 다음과 같이 함수를 각각 따로 만들어야 한다.\n",
    "result1 = 0\n",
    "result2 = 0\n",
    "\n",
    "def add1(num):  # 계산기1\n",
    "    global result1\n",
    "    result1 += num\n",
    "    return result1\n",
    "\n",
    "def add2(num):  # 계산기2\n",
    "    global result2\n",
    "    result2 += num\n",
    "    return result2\n",
    "\n",
    "print(add1(3))\n",
    "print(add1(4))\n",
    "print(add2(3))\n",
    "print(add2(7))"
   ]
  },
  {
   "cell_type": "markdown",
   "id": "09cb610e",
   "metadata": {},
   "source": [
    "계산기 1의 결괏값이 계산기 2에 아무런 영향을 끼치지 않는다는 것을 확인할 수 있다.   \n",
    "하지만 계산기가 3개, 5개, 10개로 점점 더 많이 필요해진다면 어떻게 해야 할까?\n",
    "그때마다 전역 변수와 함수를 추가할 것인가?   \n",
    "여기에 계산기마다 빼기나 곱하기와 같은 기능을 추가해야 한다면 상황은 점점 더 어려워질 것이다.   \n",
    "아직 클래스에 대해 배우지 않았지만, 위와 같은 경우에 클래스를 사용하면 다음과 같이 간단하게 해결할 수 있다."
   ]
  },
  {
   "cell_type": "code",
   "execution_count": 3,
   "id": "6b5a4607",
   "metadata": {
    "ExecuteTime": {
     "end_time": "2023-12-04T06:05:56.155026Z",
     "start_time": "2023-12-04T06:05:56.142086Z"
    }
   },
   "outputs": [
    {
     "name": "stdout",
     "output_type": "stream",
     "text": [
      "3\n",
      "7\n",
      "3\n",
      "10\n"
     ]
    }
   ],
   "source": [
    "# 다음 예시 클래스를 아직은 이해하지 못해도 좋다. 곧 자세하게 배울 것이다. 여기에서는 클래스 개념만 어렴풋이 이해하면 된다.\n",
    "class Calculator:\n",
    "    def __init__(self):\n",
    "        self.result = 0\n",
    "\n",
    "    def add(self, num):\n",
    "        self.result += num\n",
    "        return self.result\n",
    "\n",
    "cal1 = Calculator()\n",
    "cal2 = Calculator()\n",
    "\n",
    "print(cal1.add(3))\n",
    "print(cal1.add(4))\n",
    "print(cal2.add(3))\n",
    "print(cal2.add(7))"
   ]
  },
  {
   "cell_type": "code",
   "execution_count": 4,
   "id": "e005291c",
   "metadata": {
    "ExecuteTime": {
     "end_time": "2023-12-04T06:07:50.532639Z",
     "start_time": "2023-12-04T06:07:50.525417Z"
    }
   },
   "outputs": [],
   "source": [
    "a = \"안녕하세요\""
   ]
  },
  {
   "cell_type": "code",
   "execution_count": null,
   "id": "81b6dd89",
   "metadata": {},
   "outputs": [],
   "source": [
    "a."
   ]
  },
  {
   "cell_type": "markdown",
   "id": "ef8f8073",
   "metadata": {},
   "source": [
    "Calculator 클래스로 만든 별개의 계산기 cal1, cal2(파이썬에서는 이것을 ‘객체’라고 부른다)가 각각의 역할을 수행한다.   \n",
    "그리고 계산기의 결괏값 역시 다른 계산기의 결괏값과 상관없이 독립적인 값을 유지한다.   \n",
    "이렇게 클래스를 사용하면 계산기 대수가 늘어나도 객체를 생성하면 되므로 함수만 사용할 때보다 간단하게 프로그램을 작성할 수 있다.   \n",
    "빼기 기능을 더하고 싶다면 Calculator 클래스에 다음과 같이 빼기 기능을 가진 함수를 추가하면 된다.\n",
    "```\n",
    "class Calculator:\n",
    "    def __init__(self):\n",
    "        self.result = 0\n",
    "\n",
    "    def add(self, num):\n",
    "        self.result += num\n",
    "        return self.result\n",
    "\n",
    "    def sub(self, num):\n",
    "        self.result -= num\n",
    "        return self.result\n",
    "```\n",
    "클래스의 이점은 이것만이 아니다. 하지만 이 예시 하나만으로도 ‘도대체 왜 클래스가 필요한 것일까?’라는 근본적인 물음에 답이 되었을 것이다."
   ]
  },
  {
   "cell_type": "markdown",
   "id": "461362f9",
   "metadata": {
    "ExecuteTime": {
     "end_time": "2023-10-09T08:11:57.656167Z",
     "start_time": "2023-10-09T08:11:57.651181Z"
    }
   },
   "source": [
    "# 클래스와 객체\n",
    "클래스를 가장 잘 설명해 주는 다음 그림을 살펴보자. 과자를 만드는 과자 틀과 이를 사용해 만든 과자이다.\n",
    "<img src=\"https://wikidocs.net/images/page/28/05_1_cookie3.png\"></img>\n",
    "* 과자 틀 = 클래스\n",
    "* 과자 틀로 찍어 낸 과자 = 객체\n",
    "\n",
    "여기에서 설명할 클래스는 과자 틀과 비슷하다.   \n",
    "클래스(class)란 똑같은 무언가를 계속 만들어 낼 수 있는 설계 도면(과자 틀), 객체(object)란 클래스로 만든 피조물(과자 틀로 찍어 낸 과자)을 뜻한다.   \n",
    "\n",
    "클래스로 만든 객체에는 중요한 특징이 있다.   \n",
    "바로 객체마다 고유한 성격을 가진다는 것이다.   \n",
    "과자 틀로 만든 과자에 구멍을 뚫거나 조금 베어 먹더라도 다른 과자에는 아무런 영향이 없는 것과 마찬가지로 동일한 클래스로 만든 객체들은 서로 전혀 영향을 주지 않는다.   \n",
    "\n",
    "다음은 파이썬 클래스의 가장 간단한 예이다.\n",
    "```\n",
    "class Cookie:\n",
    "    pass\n",
    "```\n",
    "위에서 작성한 Cookie 클래스는 아무런 기능도 가지고 있지 않은 껍질뿐인 클래스이다.   \n",
    "하지만 이렇게 껍질뿐인 클래스도 객체를 생성하는 기능이 있다.\n",
    "   과자 틀’로 ‘과자’를 만드는 것처럼 말이다.   \n",
    "\n",
    "객체는 클래스로 만들고 1개의 클래스는 무수히 많은 객체를 만들어 낼 수 있다.   \n",
    "위에서 만든 Cookie 클래스의 객체를 만드는 방법은 다음과 같다.   \n",
    "```\n",
    "a = Cookie()\n",
    "b = Cookie()\n",
    "```"
   ]
  },
  {
   "cell_type": "markdown",
   "id": "a0ba6b68",
   "metadata": {},
   "source": [
    "## 객체와 인스턴스의 차이\n",
    "클래스로 만든 객체를 ‘인스턴스’라고도 한다.   \n",
    "그렇다면 객체와 인스턴스의 차이는 무엇일까? 이렇게 생각해 보자.   \n",
    "a = Cookie()로 만든 a는 객체이다. 그리고 a 객체는 Cookie의 인스턴스이다.   \n",
    "즉, 인스턴스라는 말은 특정 객체(a)가 어떤 클래스(Cookie)의 객체인지를 **\" 관계 \"** 위주로 설명할 때 사용한다.   \n",
    "a는 인스턴스’보다 ‘a는 객체’라는 표현이 어울리며 ‘a는 Cookie의 객체’보다 ‘a는 Cookie의 인스턴스’라는 표현이 훨씬 잘 어울린다."
   ]
  },
  {
   "cell_type": "markdown",
   "id": "a77ef2f5",
   "metadata": {},
   "source": [
    "## 사칙 연산 클래스 만들기\n",
    "백견(百見)이 불여일타(一打)’라고 했다. 클래스를 직접 만들며 배워 보자.   \n",
    "여기에서는 사칙 연산을 하는 클래스를 만들어 볼 것이다. 사칙 연산은 더하기, 빼기, 곱하기, 나누기를 말한다.\n",
    "### 클래스를 어떻게 만들지 먼저 구상하기\n",
    "클래스는 무작정 만드는 것보다 클래스로 만든 객체를 중심으로 어떤 식으로 동작하게 할지 미리 구상한 후 생각한 것을 하나씩 만들면서 완성해 나가는 것이 좋다.   \n",
    "<img src=\"https://wikidocs.net/images/page/28/05_1_class1.png\"></img>\n",
    "사칙 연산 가능을 가진 FourCal 클래스가 다음처럼 동작한다고 가정해 보자.\n",
    "\n",
    "\n",
    "```\n",
    "a = FourCal()   # 먼저 a = FourCal()를 입력해서 a라는 객체를 만든다.\n",
    "a.setdata(4, 2) # 그런 다음 a.setdata(4, 2)처럼 입력해서 숫자 4와 2를 a에 지정해 준다.\n",
    "a.add()         # a.add()를 수행하면 두 수를 합한 결과(4 + 2)를 리턴한다.\n",
    "a.mul()         # a.mul()을 수행하면 두 수를 곱한 결과(4 * 2)를 리턴한다.\n",
    "a.sub()         # a.sub()를 수행하면 두 수를 뺀 결과(4 - 2)를 리턴한다.\n",
    "a.div()         # a.div()를 수행하면 두 수를 나눈 결과(4 / 2)를 리턴한다.\n",
    "```\n",
    "이렇게 동작하는 FourCal 클래스를 만드는 것이 바로 우리의 목표이다."
   ]
  },
  {
   "cell_type": "markdown",
   "id": "44f34b25",
   "metadata": {
    "ExecuteTime": {
     "end_time": "2023-10-09T08:22:19.980978Z",
     "start_time": "2023-10-09T08:22:19.356489Z"
    }
   },
   "source": [
    "### 클래스 구조 만들기\n",
    "그러면 지금부터 앞에서 구상한 것처럼 동작하는 클래스를 만들어 보자.   \n",
    "제일 먼저 할 일은 a = FourCal()처럼 객체를 만들 수 있게 하는 것이다.   \n",
    "일단은 아무런 기능이 없어도 되기 때문에 매우 간단하게 만들 수 있다. 다음을 따라 해 보자."
   ]
  },
  {
   "cell_type": "code",
   "execution_count": 5,
   "id": "3a4a28f5",
   "metadata": {
    "ExecuteTime": {
     "end_time": "2023-12-04T06:14:56.009390Z",
     "start_time": "2023-12-04T06:14:55.995429Z"
    }
   },
   "outputs": [],
   "source": [
    "class FourCal:\n",
    "    pass\n",
    "# pass는 아무것도 수행하지 않는 문법으로, 임시로 코드를 작성할 때 주로 사용한다."
   ]
  },
  {
   "cell_type": "markdown",
   "id": "7f7663e7",
   "metadata": {},
   "source": [
    "먼저 대화형 인터프리터에서 pass라는 문장만을 포함한 FourCal 클래스를 만든다.   \n",
    "현재 상태에서 FourCal 클래스는 아무 변수나 함수도 포함하지 않지만, 우리가 원하는 객체 a를 만들 수 있는 기능은 가지고 있다. 한번 확인해 보자."
   ]
  },
  {
   "cell_type": "code",
   "execution_count": 6,
   "id": "557e7e89",
   "metadata": {
    "ExecuteTime": {
     "end_time": "2023-12-04T06:15:04.388964Z",
     "start_time": "2023-12-04T06:15:04.378991Z"
    }
   },
   "outputs": [
    {
     "data": {
      "text/plain": [
       "__main__.FourCal"
      ]
     },
     "execution_count": 6,
     "metadata": {},
     "output_type": "execute_result"
    }
   ],
   "source": [
    "a = FourCal()\n",
    "type(a)"
   ]
  },
  {
   "cell_type": "markdown",
   "id": "1d67fdd3",
   "metadata": {},
   "source": [
    "위와 같이 a = FourCal()로 a 객체를 먼저 만든 후 type(a)로 a 객체가 어떤 타입인지 알아보았다.   \n",
    "역시 객체 a가 FourCal 클래스의 인스턴스라는 것을 알 수 있다.   \n",
    "type은 파이썬이 자체로 가지고 있는 내장 함수로, 객체의 타입을 출력한다."
   ]
  },
  {
   "cell_type": "markdown",
   "id": "6cfb630c",
   "metadata": {},
   "source": [
    "### 객체에 연산할 숫자 지정하기\n",
    "하지만 생성된 객체 a는 아직 아무런 기능도 하지 못한다.   \n",
    "이제 더하기, 빼기, 곱하기, 나누기 등의 기능을 하는 객체를 만들어야 한다.   \n",
    "그런데 이러한 기능을 갖춘 객체를 만들려면 먼저 사칙 연산을 할 때 사용할 2개의 숫자를 a 객체에게 알려 주어야 한다.   \n",
    "다음과 같이 연산을 수행할 대상(4, 2)을 객체에 지정할 수 있게 만들어 보자.   "
   ]
  },
  {
   "cell_type": "code",
   "execution_count": 7,
   "id": "6578dda9",
   "metadata": {
    "ExecuteTime": {
     "end_time": "2023-12-04T06:15:56.829186Z",
     "start_time": "2023-12-04T06:15:56.812218Z"
    }
   },
   "outputs": [
    {
     "ename": "AttributeError",
     "evalue": "'FourCal' object has no attribute 'setdata'",
     "output_type": "error",
     "traceback": [
      "\u001b[1;31m---------------------------------------------------------------------------\u001b[0m",
      "\u001b[1;31mAttributeError\u001b[0m                            Traceback (most recent call last)",
      "Cell \u001b[1;32mIn[7], line 1\u001b[0m\n\u001b[1;32m----> 1\u001b[0m a\u001b[38;5;241m.\u001b[39msetdata(\u001b[38;5;241m4\u001b[39m,\u001b[38;5;241m2\u001b[39m)\n",
      "\u001b[1;31mAttributeError\u001b[0m: 'FourCal' object has no attribute 'setdata'"
     ]
    }
   ],
   "source": [
    "a.setdata(4,2)"
   ]
  },
  {
   "cell_type": "code",
   "execution_count": 9,
   "id": "567ede1c",
   "metadata": {
    "ExecuteTime": {
     "end_time": "2023-12-04T06:27:31.236797Z",
     "start_time": "2023-12-04T06:27:31.227532Z"
    }
   },
   "outputs": [],
   "source": [
    "# 위 문장이 동작하려면 다음과 같이 FourCal 클래스를 다시 정의해야 한다.\n",
    "class FourCal:\n",
    "    def setdata(self, first, second):\n",
    "        self.first = first\n",
    "        self.second = second"
   ]
  },
  {
   "cell_type": "markdown",
   "id": "42956cd3",
   "metadata": {},
   "source": [
    "앞에서 만든 FourCal 클래스에서 pass 문장을 삭제하고 그 대신 setdata 함수를 정의했다.   \n",
    "클래스 안에 구현된 함수는 다른 말로 메서드(method)라고 부른다.   \n",
    "앞으로 클래스 내부의 함수는 항상 메서드라고 표현할 테니 메서드라는 용어를 기억해 두자.\n",
    "\n",
    "일반적인 함수를 만들 때는 다음과 같이 소스 코드를 작성한다.\n",
    "```\n",
    "def 함수_이름(매개변수):\n",
    "    수행할_문장\n",
    "    ...\n",
    "```\n",
    "메서드도 클래스에 포함되어 있다는 점만 제외하면 일반 함수와 다를 것이 없다."
   ]
  },
  {
   "cell_type": "code",
   "execution_count": 13,
   "id": "4cf1642f",
   "metadata": {
    "ExecuteTime": {
     "end_time": "2023-10-09T08:32:39.438276Z",
     "start_time": "2023-10-09T08:32:39.435165Z"
    }
   },
   "outputs": [],
   "source": [
    "# setdata 메서드를 다시 보면 다음과 같다.\n",
    "def setdata(self, first, second):   # 메서드의 매개변수\n",
    "    self.first = first              # 메서드의 수행문\n",
    "    self.second = second            # 메서드의 수행문"
   ]
  },
  {
   "cell_type": "markdown",
   "id": "aca7e0f5",
   "metadata": {},
   "source": [
    "### setdata 메서드의 매개변수\n",
    "setdata 메서드를 좀 더 자세히 살펴보자.   \n",
    "setdata 메서드는 매개변수로 self, first, second 3개의 입력값을 받는다.   \n",
    "그런데 일반 함수와 달리, 메서드의 첫 번째 매개변수 self는 특별한 의미를 가진다.\n",
    "\n",
    "다음과 같이 a 객체를 만들고 a 객체를 통해 setdata 메서드를 호출해 보자.   \n",
    "> 객체를 이용해 클래스의 메서드를 호출하려면 a.setdata(4, 2)와 같이 도트(.) 연산자를 사용하면 된다.\n",
    "```\n",
    "a = FourCal()\n",
    "a.setdata(4, 2)\n",
    "```\n",
    "그런데 뭔가 좀 이상하지 않은가? setdata 메서드에는 self, first, second 총 3개의 매개변수가 필요한데 실제로는 a.setdata(4, 2)처럼 2개의 값만 전달했다. 왜 그럴까?   \n",
    "a.setdata(4, 2)처럼 호출하면 setdata 메서드의 첫 번째 매개변수 self에는 **\"setdata 메서드를 호출한 객체 a가 자동으로 전달\"** 되기 때문이다.   \n",
    "다음 그림을 보면 객체를 호출할 때 입력한 값이 메서드에 어떻게 전달되는지 쉽게 이해할 수 있을 것이다.\n",
    "<img src=\"https://wikidocs.net/images/page/28/05_1_class2.png\"></img>\n",
    "파이썬 메서드의 첫 번째 매개변수 이름은 관례적으로 self를 사용한다.   \n",
    "객체를 호출할 때 호출한 객체 자신이 전달되기 때문에 self라는 이름을 사용한 것이다.   \n",
    "물론 self말고 다른 이름을 사용해도 상관없다.\n",
    "> 메서드의 첫 번째 매개변수 self를 명시적으로 구현하는 것은 파이썬만의 독특한 특징이다. 예를 들어 자바와 같은 언어는 첫 번째 매개변수 self가 필요없다."
   ]
  },
  {
   "cell_type": "markdown",
   "id": "d296f97d",
   "metadata": {
    "ExecuteTime": {
     "end_time": "2023-10-09T08:34:19.542272Z",
     "start_time": "2023-10-09T08:34:19.539255Z"
    }
   },
   "source": [
    "### 메서드를 호출하는 또 다른 방법\n",
    "잘 사용하지는 않지만, 다음과 같이 클래스를 이용해 메서드를 호출할 수도 있다.\n",
    "```\n",
    "a = FourCal()\n",
    "FourCal.setdata(a, 4, 2)\n",
    "```\n",
    "위와 같이 ‘클래스명.메서드’ 형태로 호출할 때는 객체 a를 첫 번째 매개변수 self에 꼭 전달해야 한다.   \n",
    "반면 다음처럼 ‘객체.메서드’ 형태로 호출할 때는 self를 반드시 생략해서 호출해야 한다.\n",
    "```\n",
    "a = FourCal()\n",
    "a.setdata(4, 2)\n",
    "```"
   ]
  },
  {
   "cell_type": "markdown",
   "id": "ee1f0c7f",
   "metadata": {},
   "source": [
    "### setdata 메서드의 수행문\n",
    "이제 setdata 메서드의 수행문에 대해 알아보자.\n",
    "```\n",
    "def setdata(self, first, second):   # 메서드의 매개변수\n",
    "    self.first = first              # 메서드의 수행문\n",
    "    self.second = second            # 메서드의 수행문\n",
    "```\n",
    "a.setdata(4, 2)처럼 호출하면 setdata 메서드의 매개변수 first, second에는 각각 값 4와 2가 전달되어 setdata 메서드의 수행문이 다음과 같이 해석된다.\n",
    "```\n",
    "self.first = 4\n",
    "self.second = 2\n",
    "```\n",
    "self는 전달된 객체 a이므로 다시 다음과 같이 해석된다.\n",
    "```\n",
    "a.first = 4\n",
    "a.second = 2\n",
    "```\n",
    "a.first = 4라는 문장이 수행되면 a 객체에 **\"객체변수 first가 생성되고 4라는 값이 저장\"** 된다.   \n",
    "이와 마찬가지로 a.second = 2라는 문장이 수행되면 a 객체에 객체변수 second가 생성되고 2라는 값이 저장된다.\n",
    "\n",
    "> 객체에 생성되는 객체만의 변수를 ‘객체변수’ 또는 ‘속성’이라고 부른다.\n"
   ]
  },
  {
   "cell_type": "code",
   "execution_count": 10,
   "id": "afcf3dcc",
   "metadata": {
    "ExecuteTime": {
     "end_time": "2023-12-04T06:27:35.590197Z",
     "start_time": "2023-12-04T06:27:35.587490Z"
    }
   },
   "outputs": [],
   "source": [
    "# 다음과 같이 확인해 보자.\n",
    "a = FourCal()\n",
    "a.setdata(4, 2)"
   ]
  },
  {
   "cell_type": "code",
   "execution_count": 11,
   "id": "64353054",
   "metadata": {
    "ExecuteTime": {
     "end_time": "2023-12-04T06:27:47.297368Z",
     "start_time": "2023-12-04T06:27:47.291861Z"
    }
   },
   "outputs": [
    {
     "data": {
      "text/plain": [
       "4"
      ]
     },
     "execution_count": 11,
     "metadata": {},
     "output_type": "execute_result"
    }
   ],
   "source": [
    "# a 객체에 객체변수 first와 second가 생성된 것을 확인할 수 있다.\n",
    "a.first # a."
   ]
  },
  {
   "cell_type": "code",
   "execution_count": 12,
   "id": "b58d9d36",
   "metadata": {
    "ExecuteTime": {
     "end_time": "2023-12-04T06:27:52.081059Z",
     "start_time": "2023-12-04T06:27:52.075983Z"
    }
   },
   "outputs": [
    {
     "data": {
      "text/plain": [
       "2"
      ]
     },
     "execution_count": 12,
     "metadata": {},
     "output_type": "execute_result"
    }
   ],
   "source": [
    "a.second"
   ]
  },
  {
   "cell_type": "code",
   "execution_count": 13,
   "id": "d0d44e42",
   "metadata": {
    "ExecuteTime": {
     "end_time": "2023-12-04T06:28:39.129747Z",
     "start_time": "2023-12-04T06:28:39.126063Z"
    }
   },
   "outputs": [],
   "source": [
    "# 이번에는 다음과 같이 a, b 객체를 만들어 보자.\n",
    "a = FourCal()\n",
    "b = FourCal()"
   ]
  },
  {
   "cell_type": "code",
   "execution_count": 14,
   "id": "d597d486",
   "metadata": {
    "ExecuteTime": {
     "end_time": "2023-12-04T06:28:45.945344Z",
     "start_time": "2023-12-04T06:28:45.940084Z"
    }
   },
   "outputs": [
    {
     "data": {
      "text/plain": [
       "4"
      ]
     },
     "execution_count": 14,
     "metadata": {},
     "output_type": "execute_result"
    }
   ],
   "source": [
    "# 그리고 a 객체의 객체변수 first를 다음과 같이 생성한다.\n",
    "a.setdata(4, 2)\n",
    "a.first"
   ]
  },
  {
   "cell_type": "code",
   "execution_count": 15,
   "id": "110c1eb0",
   "metadata": {
    "ExecuteTime": {
     "end_time": "2023-12-04T06:28:48.452253Z",
     "start_time": "2023-12-04T06:28:48.447565Z"
    }
   },
   "outputs": [
    {
     "data": {
      "text/plain": [
       "3"
      ]
     },
     "execution_count": 15,
     "metadata": {},
     "output_type": "execute_result"
    }
   ],
   "source": [
    "# 이번에는 b 객체의 객체변수 first를 다음과 같이 생성한다.\n",
    "b.setdata(3, 7)\n",
    "b.first"
   ]
  },
  {
   "cell_type": "markdown",
   "id": "26a1746f",
   "metadata": {},
   "source": [
    "자, 이제 여러분에게 매우 중요한 질문을 1가지 하겠다.   \n",
    "위와 같이 진행하면 b 객체의 객체변수 first에는 값 3이 저장된다는 것을 확인할 수 있었다.   \n",
    "그렇다면 a 객체의 first에 저장된 값도 3으로 변할까, 아니면 원래대로 값 4를 유지할까?\n",
    "\n",
    "다음과 같이 그 결과를 확인해 보자."
   ]
  },
  {
   "cell_type": "code",
   "execution_count": 16,
   "id": "0d9b8efc",
   "metadata": {
    "ExecuteTime": {
     "end_time": "2023-12-04T06:29:48.332072Z",
     "start_time": "2023-12-04T06:29:48.326392Z"
    }
   },
   "outputs": [
    {
     "data": {
      "text/plain": [
       "4"
      ]
     },
     "execution_count": 16,
     "metadata": {},
     "output_type": "execute_result"
    }
   ],
   "source": [
    "a.first"
   ]
  },
  {
   "cell_type": "markdown",
   "id": "219af96c",
   "metadata": {},
   "source": [
    "a 객체의 first 값은 b 객체의 first 값에 영향받지 않고 원래 값을 유지하고 있다는 것을 확인할 수 있다.   \n",
    "이 예제를 통해 여러분에게 강조하고 싶은 점이 바로 이것이다.   \n",
    "클래스로 만든 객체의 객체변수는 다른 객체의 객체변수에 상관없이 독립적인 값을 유지한다.   \n",
    "클래스에서는 이 부분을 이해하는 것이 가장 중요하다.\n",
    "<img src=\"https://wikidocs.net/images/page/28/05_1_cookie2.png\"></img>\n",
    "다음은 현재까지 완성된 FourCal 클래스이다.\n",
    "```\n",
    "class FourCal:\n",
    "    def setdata(self, first, second):\n",
    "        self.first = first\n",
    "        self.second = second\n",
    "```\n",
    "지금까지 살펴본 내용이 바로 이 4줄의 소스 코드를 설명하기 위한 것이었다.   \n",
    "앞에서 설명한 것들이 이해되지 않는다면 다시 한번 읽어 보기 바란다.   이 부분을 이해하지 못하면 다음으로 넘어갈 수 없기 때문이다."
   ]
  },
  {
   "cell_type": "markdown",
   "id": "f215fb81",
   "metadata": {},
   "source": [
    "### 더하기 기능 만들기\n",
    "자! 2개의 숫자 값을 설정해 주었으므로 2개의 숫자를 더하는 기능을 방금 만든 클래스에 추가해 보자.   \n",
    "우리는 다음과 같이 더하기 기능을 갖춘 클래스를 만들어야 한다.\n",
    "```\n",
    ">>> a = FourCal()\n",
    ">>> a.setdata(4, 2)\n",
    ">>> a.add()\n",
    "6\n",
    "```"
   ]
  },
  {
   "cell_type": "code",
   "execution_count": 17,
   "id": "55264ae5",
   "metadata": {
    "ExecuteTime": {
     "end_time": "2023-12-04T06:33:41.209318Z",
     "start_time": "2023-12-04T06:33:41.204335Z"
    }
   },
   "outputs": [],
   "source": [
    "# 이 연산이 가능하도록 FourCal 클래스를 다시 작성해 보자.\n",
    "class FourCal:\n",
    "    def setdata(self, first, second):\n",
    "        self.first = first\n",
    "        self.second = second\n",
    "    def add(self):\n",
    "        result = self.first + self.second\n",
    "        return result"
   ]
  },
  {
   "cell_type": "code",
   "execution_count": 18,
   "id": "a8fd50a2",
   "metadata": {
    "ExecuteTime": {
     "end_time": "2023-12-04T06:33:42.499841Z",
     "start_time": "2023-12-04T06:33:42.484844Z"
    }
   },
   "outputs": [],
   "source": [
    "# add 메서드를 새롭게 추가했다. 이제 클래스를 사용해 보자.\n",
    "a = FourCal()\n",
    "a.setdata(4, 2)\n",
    "# 위와 같이 호출하면 앞에서 살펴보았듯이 a 객체의 first, second 객체변수에는 각각 값 4와 2가 저장될 것이다."
   ]
  },
  {
   "cell_type": "code",
   "execution_count": 19,
   "id": "777e6e97",
   "metadata": {
    "ExecuteTime": {
     "end_time": "2023-12-04T06:33:53.254037Z",
     "start_time": "2023-12-04T06:33:53.245431Z"
    }
   },
   "outputs": [
    {
     "data": {
      "text/plain": [
       "6"
      ]
     },
     "execution_count": 19,
     "metadata": {},
     "output_type": "execute_result"
    }
   ],
   "source": [
    "# 이제 add 메서드를 호출해 보자.\n",
    "a.add()"
   ]
  },
  {
   "cell_type": "markdown",
   "id": "a3c53d03",
   "metadata": {},
   "source": [
    "a.add()라고 호출하면 add 메서드가 호출되어 값 6이 출력될 것이다.   \n",
    "어떤 과정을 거쳐 값 6이 출력되는지 add 메서드를 따로 떼어 내 자세히 살펴보자.\n",
    "```\n",
    "def add(self):\n",
    "    result = self.first + self.second\n",
    "    return result\n",
    "```\n",
    "add 메서드의 매개변수는 self, 리턴값은 result이다. 리턴값인 result를 계산하는 부분은 다음과 같다.   \n",
    "```\n",
    "result = self.first + self.second\n",
    "```\n",
    "a.add()와 같이 a 객체에 의해 add 메서드가 수행되면 add 메서드의 self에는 객체 a가 자동으로 입력되므로 이 내용은 다음과 같이 해석된다.   \n",
    "```\n",
    "result = a.first + a.second\n",
    "```\n",
    "a.first와 a.second는 add 메서드가 호출되기 전에 a.setdata(4, 2) 문장에서 a.first = 4, a.second = 2로 설정된다. 따라서 위 문장은 다시 다음과 같이 해석된다.\n",
    "```\n",
    "result = 4 + 2\n",
    "```\n",
    "따라서 다음과 같이 a.add()를 호출하면 6을 리턴한다.\n",
    "\n",
    "> 여기까지 모두 이해했다면 클래스에 대해 80% 이상을 안 것이다. 파이썬의 클래스는 그다지 어렵지 않다\n"
   ]
  },
  {
   "cell_type": "markdown",
   "id": "4d7cf9ed",
   "metadata": {},
   "source": [
    "### 곱하기, 빼기, 나누기 기능 만들기\n",
    "이번에는 곱하기, 빼기, 나누기 등을 할 수 있도록 프로그램을 개선해 보자."
   ]
  },
  {
   "cell_type": "code",
   "execution_count": 20,
   "id": "04bb0944",
   "metadata": {
    "ExecuteTime": {
     "end_time": "2023-12-04T06:38:20.867875Z",
     "start_time": "2023-12-04T06:38:20.862354Z"
    }
   },
   "outputs": [],
   "source": [
    "# mul, sub, div 모두 add 메서드에서 배운 것과 동일한 방법이므로 따로 설명하지는 않겠다.\n",
    "class FourCal:\n",
    "    def setdata(self, first, second):\n",
    "        self.first = first\n",
    "        self.second = second\n",
    "\n",
    "    def add(self):\n",
    "        result = self.first + self.second\n",
    "        return result\n",
    "    \n",
    "    def mul(self):\n",
    "        result = self.first * self.second\n",
    "        return result\n",
    "    \n",
    "    def sub(self):\n",
    "        result = self.first - self.second\n",
    "        return result\n",
    "    \n",
    "    def div(self):\n",
    "        result = self.first / self.second\n",
    "        return result"
   ]
  },
  {
   "cell_type": "code",
   "execution_count": 21,
   "id": "2ed4dfa4",
   "metadata": {
    "ExecuteTime": {
     "end_time": "2023-12-04T06:38:25.361713Z",
     "start_time": "2023-12-04T06:38:25.353076Z"
    }
   },
   "outputs": [
    {
     "data": {
      "text/plain": [
       "6"
      ]
     },
     "execution_count": 21,
     "metadata": {},
     "output_type": "execute_result"
    }
   ],
   "source": [
    "# 정말 모든 것이 제대로 동작하는지 확인해 보자.\n",
    "a = FourCal()\n",
    "b = FourCal()\n",
    "a.setdata(4, 2)\n",
    "b.setdata(3, 8)\n",
    "a.add()"
   ]
  },
  {
   "cell_type": "code",
   "execution_count": 22,
   "id": "dfe1fb7f",
   "metadata": {
    "ExecuteTime": {
     "end_time": "2023-12-04T06:38:28.129940Z",
     "start_time": "2023-12-04T06:38:28.123954Z"
    }
   },
   "outputs": [
    {
     "name": "stdout",
     "output_type": "stream",
     "text": [
      "6 8 2 2.0\n",
      "11 24 -5 0.375\n"
     ]
    }
   ],
   "source": [
    "# 지금까지 우리가 목표로 한 사칙 연산 기능을 가진 클래스를 만들어 보았다.\n",
    "print(a.add(), a.mul(), a.sub(), a.div())\n",
    "print(b.add(), b.mul(), b.sub(), b.div())"
   ]
  },
  {
   "cell_type": "markdown",
   "id": "f029867b",
   "metadata": {},
   "source": [
    "## 생성자"
   ]
  },
  {
   "cell_type": "code",
   "execution_count": 23,
   "id": "447f2e39",
   "metadata": {
    "ExecuteTime": {
     "end_time": "2023-12-04T06:40:13.687573Z",
     "start_time": "2023-12-04T06:40:13.579862Z"
    }
   },
   "outputs": [
    {
     "ename": "AttributeError",
     "evalue": "'FourCal' object has no attribute 'first'",
     "output_type": "error",
     "traceback": [
      "\u001b[1;31m---------------------------------------------------------------------------\u001b[0m",
      "\u001b[1;31mAttributeError\u001b[0m                            Traceback (most recent call last)",
      "Cell \u001b[1;32mIn[23], line 3\u001b[0m\n\u001b[0;32m      1\u001b[0m \u001b[38;5;66;03m# 이번에는 우리가 만든 FourCal 클래스를 다음과 같이 사용해 보자.\u001b[39;00m\n\u001b[0;32m      2\u001b[0m a \u001b[38;5;241m=\u001b[39m FourCal()\n\u001b[1;32m----> 3\u001b[0m a\u001b[38;5;241m.\u001b[39madd()\n",
      "Cell \u001b[1;32mIn[20], line 8\u001b[0m, in \u001b[0;36mFourCal.add\u001b[1;34m(self)\u001b[0m\n\u001b[0;32m      7\u001b[0m \u001b[38;5;28;01mdef\u001b[39;00m \u001b[38;5;21madd\u001b[39m(\u001b[38;5;28mself\u001b[39m):\n\u001b[1;32m----> 8\u001b[0m     result \u001b[38;5;241m=\u001b[39m \u001b[38;5;28mself\u001b[39m\u001b[38;5;241m.\u001b[39mfirst \u001b[38;5;241m+\u001b[39m \u001b[38;5;28mself\u001b[39m\u001b[38;5;241m.\u001b[39msecond\n\u001b[0;32m      9\u001b[0m     \u001b[38;5;28;01mreturn\u001b[39;00m result\n",
      "\u001b[1;31mAttributeError\u001b[0m: 'FourCal' object has no attribute 'first'"
     ]
    }
   ],
   "source": [
    "# 이번에는 우리가 만든 FourCal 클래스를 다음과 같이 사용해 보자.\n",
    "a = FourCal()\n",
    "a.add()"
   ]
  },
  {
   "cell_type": "markdown",
   "id": "9c9aee32",
   "metadata": {},
   "source": [
    "FourCal 클래스의 인스턴스 a에 setdata 메서드를 수행하지 않고 add 메서드를 먼저 수행하면 ‘AttributeError: 'FourCal' object has no attribute 'first'’오류가 발생한다.   \n",
    "setdata 메서드를 수행해야 객체 a의 객체변수 first와 second가 생성되기 때문이다.   \n",
    "이렇게 객체에 first, second와 같은 **\"초깃값\"** 을 설정해야 할 필요가 있을 때는 setdata와 같은 메서드를 호출하여 초깃값을 설정하기보다 생성자를 구현하는 것이 안전한 방법이다.   \n",
    "\n",
    "> 생성자(constructor)란 객체가 생성될 때 자동으로 호출되는 메서드를 의미한다.   \n",
    "> 파이썬 메서드명으로 __init__를 사용하면 이 메서드는 생성자가 된다.\n",
    "\n",
    "다음과 같이 FourCal 클래스에 생성자를 추가해 보자.\n",
    "> __init__메서드의 init 앞뒤로 붙은 __는 밑줄(_) 2개를 붙여 쓴 것이다."
   ]
  },
  {
   "cell_type": "code",
   "execution_count": 12,
   "id": "a816243f",
   "metadata": {
    "ExecuteTime": {
     "end_time": "2023-12-05T04:31:17.020884Z",
     "start_time": "2023-12-05T04:31:17.016085Z"
    }
   },
   "outputs": [],
   "source": [
    "# 새롭게 추가된 생성자 __init__ 메서드만 따로 떼어 내서 살펴보자.\n",
    "class FourCal:\n",
    "    def __init__(self, first, second):\n",
    "        self.first = first\n",
    "        self.second = second\n",
    "\n",
    "    def add(self):\n",
    "        result = self.first + self.second\n",
    "        return result\n",
    "    \n",
    "    def mul(self):\n",
    "        result = self.first * self.second\n",
    "        return result\n",
    "    \n",
    "    def sub(self):\n",
    "        result = self.first - self.second\n",
    "        return result\n",
    "    \n",
    "    def div(self):\n",
    "        result = self.first / self.second\n",
    "        return result"
   ]
  },
  {
   "cell_type": "markdown",
   "id": "9a0818ec",
   "metadata": {},
   "source": [
    "```python\n",
    "def __init__(self, first, second):\n",
    "    self.first = first\n",
    "    self.second = second\n",
    "```\n",
    "__init__ 메서드는 setdata 메서드와 이름만 다르고 모든 게 동일하다.   \n",
    "단, 메서드 이름을 __init__로 했기 때문에 생성자로 인식되어 객체가 생성되는 시점에 자동으로 호출된다는 차이가 있다.\n",
    "\n",
    "이제 다음처럼 a 객체를 생성해 보자."
   ]
  },
  {
   "cell_type": "code",
   "execution_count": 26,
   "id": "a3591be4",
   "metadata": {
    "ExecuteTime": {
     "end_time": "2023-12-04T06:42:09.431416Z",
     "start_time": "2023-12-04T06:42:09.407414Z"
    }
   },
   "outputs": [
    {
     "ename": "TypeError",
     "evalue": "FourCal.__init__() missing 2 required positional arguments: 'first' and 'second'",
     "output_type": "error",
     "traceback": [
      "\u001b[1;31m---------------------------------------------------------------------------\u001b[0m",
      "\u001b[1;31mTypeError\u001b[0m                                 Traceback (most recent call last)",
      "Cell \u001b[1;32mIn[26], line 1\u001b[0m\n\u001b[1;32m----> 1\u001b[0m a \u001b[38;5;241m=\u001b[39m FourCal()\n",
      "\u001b[1;31mTypeError\u001b[0m: FourCal.__init__() missing 2 required positional arguments: 'first' and 'second'"
     ]
    }
   ],
   "source": [
    " a = FourCal()"
   ]
  },
  {
   "cell_type": "markdown",
   "id": "b5528b55",
   "metadata": {},
   "source": [
    "a = FourCal()을 수행할 때 생성자 __init__가 호출되어 위와 같은 오류가 발생했다.   \n",
    "오류가 발생한 이유는 생성자의 매개변수 first와 second에 해당하는 값이 전달되지 않았기 때문이다.   \n",
    "\n",
    "이 오류를 해결하려면 다음처럼 first와 second에 해당하는 값을 전달하여 객체를 생성해야 한다."
   ]
  },
  {
   "cell_type": "code",
   "execution_count": 27,
   "id": "c8dbb996",
   "metadata": {
    "ExecuteTime": {
     "end_time": "2023-12-04T06:43:02.356844Z",
     "start_time": "2023-12-04T06:43:02.351559Z"
    }
   },
   "outputs": [],
   "source": [
    "a = FourCal(4, 2)"
   ]
  },
  {
   "cell_type": "code",
   "execution_count": 28,
   "id": "e9bddf34",
   "metadata": {
    "ExecuteTime": {
     "end_time": "2023-12-04T06:43:07.623445Z",
     "start_time": "2023-12-04T06:43:07.619133Z"
    }
   },
   "outputs": [
    {
     "data": {
      "text/plain": [
       "<__main__.FourCal at 0x20d81e87f90>"
      ]
     },
     "execution_count": 28,
     "metadata": {},
     "output_type": "execute_result"
    }
   ],
   "source": [
    "a"
   ]
  },
  {
   "cell_type": "markdown",
   "id": "a76349d1",
   "metadata": {},
   "source": [
    "위와 같이 수행하면 __init__ 메서드의 매개변수에는 각각 다음과 같은 값이 전달된다.   \n",
    "|매개변수|값|\n",
    "|:---:|:---:|\n",
    "|self|생성되는 객체|\n",
    "|first|4|\n",
    "|second|2|\n",
    "> __init__ 메서드도 다른 메서드와 마찬가지로 첫 번째 매개변수 self에 생성되는 객체가 자동으로 전달된다는 점을 기억하자.   \n",
    "\n",
    "따라서 __init__ 메서드가 호출되면 setdata 메서드를 호출했을 때와 마찬가지로 first와 second라는 객체변수가 생성될 것이다.\n",
    "\n",
    "다음과 같이 객체변수의 값을 확인해 보자."
   ]
  },
  {
   "cell_type": "code",
   "execution_count": 2,
   "id": "7969fbbd",
   "metadata": {
    "ExecuteTime": {
     "end_time": "2023-12-05T04:17:31.628366Z",
     "start_time": "2023-12-05T04:17:31.624839Z"
    }
   },
   "outputs": [
    {
     "name": "stdout",
     "output_type": "stream",
     "text": [
      "4 2\n"
     ]
    }
   ],
   "source": [
    "a = FourCal(4, 2)\n",
    "print(a.first, a.second)"
   ]
  },
  {
   "cell_type": "code",
   "execution_count": 3,
   "id": "aba27383",
   "metadata": {
    "ExecuteTime": {
     "end_time": "2023-12-05T04:17:33.248104Z",
     "start_time": "2023-12-05T04:17:33.243930Z"
    }
   },
   "outputs": [
    {
     "name": "stdout",
     "output_type": "stream",
     "text": [
      "6 2.0\n"
     ]
    }
   ],
   "source": [
    "# add나 div 등과 같은 메서드도 잘 동작하는지 확인해 보자.\n",
    "a = FourCal(4, 2)\n",
    "print(a.add(), a.div())"
   ]
  },
  {
   "cell_type": "markdown",
   "id": "0b86dbc3",
   "metadata": {},
   "source": [
    "> 이제 메서드 구분이 되는가? ()의 차이는 객체변수이냐 메서드냐의 차이"
   ]
  },
  {
   "cell_type": "markdown",
   "id": "b129c882",
   "metadata": {},
   "source": [
    "### 예제) 은행 예금출금 클래스를 만들어보자\n",
    "1. input : 계좌번호, 계좌소유자명, 잔액\n",
    "2. 기능1 : 입금\n",
    "3. 기능2 : 출금\n",
    "4. 기능3 : 조회"
   ]
  },
  {
   "cell_type": "code",
   "execution_count": 31,
   "id": "e11eb139",
   "metadata": {
    "ExecuteTime": {
     "end_time": "2023-12-04T06:49:46.053723Z",
     "start_time": "2023-12-04T06:49:46.043161Z"
    }
   },
   "outputs": [],
   "source": [
    "class Account:\n",
    "    company = '한국은행' # 클래스 변수\n",
    "    \n",
    "    def __init__(self, no, name) :\n",
    "        self.no = no\n",
    "        self.name = name\n",
    "        self.balance = 0\n",
    "        \n",
    "    def deposit(self, money) :\n",
    "        self.balance += money\n",
    "    \n",
    "    def withdraw(self, money) :\n",
    "        self.balance -= money\n",
    "        \n",
    "    def __str__(self):\n",
    "        return f'계좌번호 : {self.no},  계좌소유자 :{self.name}  , 잔액: {self.balance}'"
   ]
  },
  {
   "cell_type": "code",
   "execution_count": 32,
   "id": "dcf3d931",
   "metadata": {
    "ExecuteTime": {
     "end_time": "2023-12-04T06:49:58.835982Z",
     "start_time": "2023-12-04T06:49:58.831254Z"
    }
   },
   "outputs": [
    {
     "name": "stdout",
     "output_type": "stream",
     "text": [
      "계좌번호 : 1234,  계좌소유자 :maeng  , 잔액: 0\n"
     ]
    }
   ],
   "source": [
    "# a1 = Account()\n",
    "a1 = Account(1234, 'maeng')\n",
    "print(a1)"
   ]
  },
  {
   "cell_type": "code",
   "execution_count": 33,
   "id": "3825f6f3",
   "metadata": {
    "ExecuteTime": {
     "end_time": "2023-12-04T06:50:10.297983Z",
     "start_time": "2023-12-04T06:50:10.293995Z"
    }
   },
   "outputs": [
    {
     "name": "stdout",
     "output_type": "stream",
     "text": [
      "계좌번호 : 1234,  계좌소유자 :maeng  , 잔액: 1000\n"
     ]
    }
   ],
   "source": [
    "a1.deposit(1000)\n",
    "print(a1)"
   ]
  },
  {
   "cell_type": "code",
   "execution_count": 34,
   "id": "a8ea7d25",
   "metadata": {
    "ExecuteTime": {
     "end_time": "2023-12-04T06:50:13.119843Z",
     "start_time": "2023-12-04T06:50:13.116292Z"
    }
   },
   "outputs": [
    {
     "name": "stdout",
     "output_type": "stream",
     "text": [
      "계좌번호 : 1234,  계좌소유자 :maeng  , 잔액: 500\n"
     ]
    }
   ],
   "source": [
    "a1.withdraw(500)\n",
    "print(a1)"
   ]
  },
  {
   "cell_type": "code",
   "execution_count": 35,
   "id": "17a69fe1",
   "metadata": {
    "ExecuteTime": {
     "end_time": "2023-12-04T06:50:17.662300Z",
     "start_time": "2023-12-04T06:50:17.657845Z"
    }
   },
   "outputs": [
    {
     "name": "stdout",
     "output_type": "stream",
     "text": [
      "계좌번호 : 567,  계좌소유자 :hong  , 잔액: 0\n"
     ]
    }
   ],
   "source": [
    "a2 = Account(567, 'hong')\n",
    "print(a2)"
   ]
  },
  {
   "cell_type": "code",
   "execution_count": 36,
   "id": "366015c4",
   "metadata": {
    "ExecuteTime": {
     "end_time": "2023-12-04T06:50:21.399354Z",
     "start_time": "2023-12-04T06:50:21.393854Z"
    }
   },
   "outputs": [],
   "source": [
    "a2.deposit(30000)"
   ]
  },
  {
   "cell_type": "code",
   "execution_count": 37,
   "id": "9d71075a",
   "metadata": {
    "ExecuteTime": {
     "end_time": "2023-12-04T06:50:23.723621Z",
     "start_time": "2023-12-04T06:50:23.718636Z"
    }
   },
   "outputs": [
    {
     "data": {
      "text/plain": [
       "'한국은행'"
      ]
     },
     "execution_count": 37,
     "metadata": {},
     "output_type": "execute_result"
    }
   ],
   "source": [
    "a2.company"
   ]
  },
  {
   "cell_type": "code",
   "execution_count": 8,
   "id": "f5da6eb2",
   "metadata": {
    "ExecuteTime": {
     "end_time": "2023-10-10T12:34:54.514306Z",
     "start_time": "2023-10-10T12:34:54.509910Z"
    }
   },
   "outputs": [
    {
     "data": {
      "text/plain": [
       "'한국은행'"
      ]
     },
     "execution_count": 8,
     "metadata": {},
     "output_type": "execute_result"
    }
   ],
   "source": [
    "Account.company"
   ]
  },
  {
   "cell_type": "markdown",
   "id": "68597c8b",
   "metadata": {},
   "source": [
    "## 클래스의 상속\n",
    "상속(Inheritance)이란 ‘물려받다’라는 뜻으로, ‘재산을 상속받다’라고 할 때의 상속과 같은 의미이다.   \n",
    "클래스에도 이 개념을 적용할 수 있다. 어떤 클래스를 만들 때 다른 클래스의 기능을 물려받을 수 있게 만드는 것이다.   \n",
    "이번에는 상속 개념을 사용하여 우리가 만든 FourCal 클래스에   \n",
    "$$a^b$$값을 구할 수 있는 기능을 추가해 보자.\n",
    "\n",
    "앞에서 FourCal 클래스는 이미 만들어 놓았으므로 FourCal 클래스를 상속하는 MoreFourCal 클래스는 다음과 같이 간단하게 만들 수 있다."
   ]
  },
  {
   "cell_type": "code",
   "execution_count": 13,
   "id": "91be5f05",
   "metadata": {
    "ExecuteTime": {
     "end_time": "2023-12-05T04:31:24.377420Z",
     "start_time": "2023-12-05T04:31:24.374378Z"
    }
   },
   "outputs": [],
   "source": [
    "class MoreFourCal(FourCal):\n",
    "     pass"
   ]
  },
  {
   "cell_type": "markdown",
   "id": "515c2ffc",
   "metadata": {},
   "source": [
    "클래스를 상속하기 위해서는 다음처럼 클래스 이름 뒤 괄호 안에 상속할 클래스 이름을 넣어주면 된다.\n",
    "> class 클래스_이름(상속할_클래스_이름)\n",
    "\n",
    "MoreFourCal 클래스는 FourCal 클래스를 상속했으므로 FourCal 클래스의 모든 기능을 사용할 수 있다.\n",
    "\n",
    "다음과 같이 확인해 보자."
   ]
  },
  {
   "cell_type": "code",
   "execution_count": 14,
   "id": "c5af6e6e",
   "metadata": {
    "ExecuteTime": {
     "end_time": "2023-12-05T04:31:30.915287Z",
     "start_time": "2023-12-05T04:31:30.911225Z"
    }
   },
   "outputs": [
    {
     "name": "stdout",
     "output_type": "stream",
     "text": [
      "6 8 2 2.0\n"
     ]
    }
   ],
   "source": [
    "a = MoreFourCal(4, 2)\n",
    "print(a.add(), a.mul(), a.sub(), a.div())\n",
    "# 상속받은 FourCal 클래스의 기능을 모두 사용할 수 있다는 것을 확인할 수 있다."
   ]
  },
  {
   "cell_type": "markdown",
   "id": "71c1f040",
   "metadata": {},
   "source": [
    "### 상속 기능은 왜 쓰는 걸까?\n",
    "보통 상속은 기존 클래스를 변경하지 않고 기능을 추가하거나 기존 기능을 변경하려고 할 때 사용한다.   \n",
    "'클래스에 기능을 추가하고 싶으면 기존 클래스를 수정하면 되는데 왜 굳이 상속을 받아서 처리해야 하지?’라는 의문이 들 수도 있다.\\   \n",
    "하지만 기존 클래스가 라이브러리 형태로 제공되거나 수정이 허용되지 않는 상황이라면 상속을 사용해야 한다.\n",
    "\n",
    "이제 원래 목적인 **'a의 b승'** 을 계산하는 MoreFourCal 클래스를 만들어 보자."
   ]
  },
  {
   "cell_type": "code",
   "execution_count": 6,
   "id": "c36959c8",
   "metadata": {
    "ExecuteTime": {
     "end_time": "2023-12-05T04:23:22.555863Z",
     "start_time": "2023-12-05T04:23:22.551910Z"
    }
   },
   "outputs": [],
   "source": [
    "# pass 문장은 삭제하고 위와 같이 두 수의 거듭제곱을 구할 수 있는 pow 메서드를 추가했다. 그리고 다음과 같이 pow 메서드를 수행해 보자.\n",
    "class MoreFourCal(FourCal):\n",
    "    def pow(self):\n",
    "        result = self.first ** self.second\n",
    "        return result"
   ]
  },
  {
   "cell_type": "code",
   "execution_count": 7,
   "id": "7babe0db",
   "metadata": {
    "ExecuteTime": {
     "end_time": "2023-12-05T04:23:36.305403Z",
     "start_time": "2023-12-05T04:23:36.299900Z"
    }
   },
   "outputs": [
    {
     "name": "stdout",
     "output_type": "stream",
     "text": [
      "16 6\n"
     ]
    }
   ],
   "source": [
    "a = MoreFourCal(4, 2)\n",
    "print(a.pow(), a.add())"
   ]
  },
  {
   "cell_type": "markdown",
   "id": "1b998a30",
   "metadata": {},
   "source": [
    "MoreFourCal 클래스로 만든 a 객체에 값 4와 2를 지정한 후 pow 메서드를 호출하면 4의 2제곱()인 16을 리턴하는 것을 확인할 수 있다.   \n",
    "상속받은 기능인 add 메서드도 잘 동작한다.\n",
    "\n",
    "상속은 MoreFourCal 클래스처럼 기존 클래스(FourCal)는 그대로 놔둔 채 클래스의 기능을 확장할 때 주로 사용한다."
   ]
  },
  {
   "cell_type": "markdown",
   "id": "f3e2c2e4",
   "metadata": {},
   "source": [
    "## 메서드 오버라이딩\n",
    "이번에는 FourCal 클래스를 다음과 같이 실행해 보자."
   ]
  },
  {
   "cell_type": "code",
   "execution_count": 8,
   "id": "c227f436",
   "metadata": {
    "ExecuteTime": {
     "end_time": "2023-12-05T04:24:40.626386Z",
     "start_time": "2023-12-05T04:24:38.759867Z"
    },
    "scrolled": true
   },
   "outputs": [
    {
     "ename": "ZeroDivisionError",
     "evalue": "division by zero",
     "output_type": "error",
     "traceback": [
      "\u001b[1;31m---------------------------------------------------------------------------\u001b[0m",
      "\u001b[1;31mZeroDivisionError\u001b[0m                         Traceback (most recent call last)",
      "Cell \u001b[1;32mIn[8], line 2\u001b[0m\n\u001b[0;32m      1\u001b[0m a \u001b[38;5;241m=\u001b[39m FourCal(\u001b[38;5;241m4\u001b[39m, \u001b[38;5;241m0\u001b[39m)\n\u001b[1;32m----> 2\u001b[0m a\u001b[38;5;241m.\u001b[39mdiv()\n",
      "Cell \u001b[1;32mIn[1], line 20\u001b[0m, in \u001b[0;36mFourCal.div\u001b[1;34m(self)\u001b[0m\n\u001b[0;32m     19\u001b[0m \u001b[38;5;28;01mdef\u001b[39;00m \u001b[38;5;21mdiv\u001b[39m(\u001b[38;5;28mself\u001b[39m):\n\u001b[1;32m---> 20\u001b[0m     result \u001b[38;5;241m=\u001b[39m \u001b[38;5;28mself\u001b[39m\u001b[38;5;241m.\u001b[39mfirst \u001b[38;5;241m/\u001b[39m \u001b[38;5;28mself\u001b[39m\u001b[38;5;241m.\u001b[39msecond\n\u001b[0;32m     21\u001b[0m     \u001b[38;5;28;01mreturn\u001b[39;00m result\n",
      "\u001b[1;31mZeroDivisionError\u001b[0m: division by zero"
     ]
    }
   ],
   "source": [
    "a = FourCal(4, 0)\n",
    "a.div()"
   ]
  },
  {
   "cell_type": "code",
   "execution_count": 9,
   "id": "43bb3948",
   "metadata": {
    "ExecuteTime": {
     "end_time": "2023-12-05T04:24:55.834819Z",
     "start_time": "2023-12-05T04:24:55.809368Z"
    }
   },
   "outputs": [
    {
     "ename": "ZeroDivisionError",
     "evalue": "division by zero",
     "output_type": "error",
     "traceback": [
      "\u001b[1;31m---------------------------------------------------------------------------\u001b[0m",
      "\u001b[1;31mZeroDivisionError\u001b[0m                         Traceback (most recent call last)",
      "Cell \u001b[1;32mIn[9], line 1\u001b[0m\n\u001b[1;32m----> 1\u001b[0m \u001b[38;5;241m4\u001b[39m \u001b[38;5;241m/\u001b[39m \u001b[38;5;241m0\u001b[39m\n",
      "\u001b[1;31mZeroDivisionError\u001b[0m: division by zero"
     ]
    }
   ],
   "source": [
    "4 / 0"
   ]
  },
  {
   "cell_type": "markdown",
   "id": "204da247",
   "metadata": {},
   "source": [
    "FourCal 클래스의 객체 a에 값 4와 0을 지정하고 div 메서드를 호출하면 4를 0으로 나누려고 하므로 ZeroDivisionError 오류가 발생한다.   \n",
    "0으로 나눌 때 오류가 아닌 값 0을 리턴받고 싶다면 어떻게 해야 할까?   \n",
    "\n",
    "다음과 같이 FourCal 클래스를 상속하는 SafeFourCal 클래스를 만들어 보자."
   ]
  },
  {
   "cell_type": "code",
   "execution_count": 10,
   "id": "713afa5c",
   "metadata": {
    "ExecuteTime": {
     "end_time": "2023-12-05T04:25:54.237224Z",
     "start_time": "2023-12-05T04:25:54.233738Z"
    }
   },
   "outputs": [],
   "source": [
    "class SafeFourCal(FourCal):\n",
    "    def div(self):\n",
    "        if self.second == 0:  # 나누는 값이 0인 경우 0을 리턴하도록 수정\n",
    "            return 0\n",
    "        else:\n",
    "            return self.first / self.second"
   ]
  },
  {
   "cell_type": "markdown",
   "id": "d5cd559a",
   "metadata": {},
   "source": [
    "FourCal 클래스에 있는 div 메서드를 동일한 이름으로 다시 작성했다.   \n",
    "이렇게 부모 클래스(상속한 클래스)에 있는 메서드를 동일한 이름으로 다시 만드는 것을 메서드 오버라이딩(method overriding)이라고 한다.   \n",
    "이렇게 메서드를 오버라이딩하면 부모 클래스의 메서드 대신 오버라이딩한 메서드가 호출된다.   \n",
    "\n",
    "SafeFourCal 클래스에 오버라이딩한 div 메서드는 나누는 값이 0인 경우에는 0을 리턴하도록 수정했다.   \n",
    "이제 다시 앞에서 수행한 예제를 FourCal 클래스 대신 SafeFourCal 클래스를 사용하여 수행해 보자."
   ]
  },
  {
   "cell_type": "code",
   "execution_count": 11,
   "id": "15a98ef7",
   "metadata": {
    "ExecuteTime": {
     "end_time": "2023-12-05T04:25:56.055008Z",
     "start_time": "2023-12-05T04:25:56.040450Z"
    }
   },
   "outputs": [
    {
     "data": {
      "text/plain": [
       "0"
      ]
     },
     "execution_count": 11,
     "metadata": {},
     "output_type": "execute_result"
    }
   ],
   "source": [
    "# FourCal 클래스와 달리 ZeroDivisionError가 발생하지 않고 의도한 대로 0이 리턴되는 것을 확인할 수 있다.\n",
    "a = SafeFourCal(4, 0)\n",
    "a.div()"
   ]
  },
  {
   "cell_type": "markdown",
   "id": "6c82181c",
   "metadata": {},
   "source": [
    "## 클래스 변수\n",
    "객체변수는 다른 객체들의 영향을 받지 않고 독립적으로 그 값을 유지한다는 점을 이미 알아보았다.   \n",
    "이번에는 객체변수와는 성격이 다른 클래스변수에 대해 알아보자.\n",
    "\n",
    "다음 클래스를 작성해 보자."
   ]
  },
  {
   "cell_type": "code",
   "execution_count": 15,
   "id": "7eb14e0c",
   "metadata": {
    "ExecuteTime": {
     "end_time": "2023-12-05T04:34:36.845314Z",
     "start_time": "2023-12-05T04:34:36.842055Z"
    }
   },
   "outputs": [],
   "source": [
    "class Family:\n",
    "    lastname = \"김\""
   ]
  },
  {
   "cell_type": "markdown",
   "id": "69731115",
   "metadata": {},
   "source": [
    "Family 클래스에 선언한 lastname이 바로 클래스변수이다.   \n",
    "클래스변수는 클래스 안에 함수를 선언하는 것과 마찬가지로 클래스 안에 변수를 선언하여 생성한다.   \n",
    "\n",
    "이제 Family 클래스를 다음과 같이 사용해 보자."
   ]
  },
  {
   "cell_type": "code",
   "execution_count": 16,
   "id": "4e24ee41",
   "metadata": {
    "ExecuteTime": {
     "end_time": "2023-12-05T04:35:15.511385Z",
     "start_time": "2023-12-05T04:35:15.506316Z"
    }
   },
   "outputs": [
    {
     "data": {
      "text/plain": [
       "'김'"
      ]
     },
     "execution_count": 16,
     "metadata": {},
     "output_type": "execute_result"
    }
   ],
   "source": [
    " Family.lastname"
   ]
  },
  {
   "cell_type": "markdown",
   "id": "176b7a07",
   "metadata": {},
   "source": [
    "클래스변수는 위 예와 같이 클래스_이름.클래스변수로 사용할 수 있다.\n",
    "\n",
    "또는 다음과 같이 Family 클래스로 만든 객체를 이용해도 클래스변수를 사용할 수 있다."
   ]
  },
  {
   "cell_type": "code",
   "execution_count": 17,
   "id": "dd54f9c7",
   "metadata": {
    "ExecuteTime": {
     "end_time": "2023-12-05T04:35:21.305775Z",
     "start_time": "2023-12-05T04:35:21.300956Z"
    }
   },
   "outputs": [
    {
     "data": {
      "text/plain": [
       "('김', '김')"
      ]
     },
     "execution_count": 17,
     "metadata": {},
     "output_type": "execute_result"
    }
   ],
   "source": [
    "a = Family()\n",
    "b = Family()\n",
    "a.lastname,  b.lastname"
   ]
  },
  {
   "cell_type": "code",
   "execution_count": 18,
   "id": "fe8694f8",
   "metadata": {
    "ExecuteTime": {
     "end_time": "2023-12-05T04:35:59.386868Z",
     "start_time": "2023-12-05T04:35:59.382443Z"
    }
   },
   "outputs": [
    {
     "data": {
      "text/plain": [
       "('박', '박')"
      ]
     },
     "execution_count": 18,
     "metadata": {},
     "output_type": "execute_result"
    }
   ],
   "source": [
    "# 만약 Family 클래스의 lastname을 \"박\"이라는 문자열로 바꾸면 어떻게 될까? 다음과 같이 확인해 보자.\n",
    "Family.lastname = \"박\"\n",
    "a.lastname, b.lastname"
   ]
  },
  {
   "cell_type": "markdown",
   "id": "41440352",
   "metadata": {},
   "source": [
    "클래스변수의 값을 변경했더니 클래스로 만든 객체의 lastname 값도 **모두 변경** 된다는 것을 확인할 수 있다.   \n",
    "> 즉, 클래스변수는 객체변수와 달리 클래스로 만든 모든 객체에 **공유** 된다는 특징이 있다.\n",
    "\n",
    "클래스변수를 가장 늦게 설명하는 이유는 클래스에서 객체변수가 클래스변수보다 훨씬 중요하기 때문이다.   \n",
    "실무에서 프로그래밍할 때도 클래스변수보다 객체변수를 사용하는 비율이 훨씬 높다."
   ]
  },
  {
   "cell_type": "markdown",
   "id": "eb8bf54a",
   "metadata": {},
   "source": [
    "### 클래스변수와동일한 이름의 객체변수를 생성하면?"
   ]
  },
  {
   "cell_type": "code",
   "execution_count": 19,
   "id": "6c4d7765",
   "metadata": {
    "ExecuteTime": {
     "end_time": "2023-12-05T04:37:59.285011Z",
     "start_time": "2023-12-05T04:37:59.279504Z"
    }
   },
   "outputs": [
    {
     "data": {
      "text/plain": [
       "'최'"
      ]
     },
     "execution_count": 19,
     "metadata": {},
     "output_type": "execute_result"
    }
   ],
   "source": [
    "# 위의 예제에서 a.lastname을 다음처럼 변경하면 어떻게 될까?\n",
    "a.lastname = \"최\"\n",
    "a.lastname"
   ]
  },
  {
   "cell_type": "markdown",
   "id": "e8fa92bf",
   "metadata": {},
   "source": [
    "이렇게 하면 Family 클래스의 lastname이 바뀌는 것이 아니라 a 객체에 lastname이라는 객체변수가 새롭게 생성된다.   \n",
    "즉, 객체변수는 클래스변수와 동일한 이름으로 생성할 수 있다.\n",
    "\n",
    "a.lastname 객체변수를 생성하더라도 Family 클래스의 lastname과는 상관없다는 것을 다음과 같이 확인할 수 있다."
   ]
  },
  {
   "cell_type": "code",
   "execution_count": 20,
   "id": "c85953a3",
   "metadata": {
    "ExecuteTime": {
     "end_time": "2023-12-05T04:38:23.336077Z",
     "start_time": "2023-12-05T04:38:23.327675Z"
    }
   },
   "outputs": [
    {
     "data": {
      "text/plain": [
       "('박', '박')"
      ]
     },
     "execution_count": 20,
     "metadata": {},
     "output_type": "execute_result"
    }
   ],
   "source": [
    "#Family 클래스의 lastname 값은 변하지 않았다.\n",
    "Family.lastname, b.lastname"
   ]
  },
  {
   "cell_type": "markdown",
   "id": "76455b9d",
   "metadata": {},
   "source": [
    "### python tutor로 객체 참조를 시각화해보자\n",
    "[python tutor](https://pythontutor.com/render.html#mode=display)"
   ]
  },
  {
   "cell_type": "code",
   "execution_count": 63,
   "id": "95ec3059",
   "metadata": {
    "ExecuteTime": {
     "end_time": "2023-10-09T09:40:59.841485Z",
     "start_time": "2023-10-09T09:40:59.837301Z"
    },
    "scrolled": false
   },
   "outputs": [
    {
     "name": "stdout",
     "output_type": "stream",
     "text": [
      "김\n",
      "김 김\n",
      "박 박\n",
      "최\n",
      "박 박\n"
     ]
    }
   ],
   "source": [
    "class Family:\n",
    "    lastname = \"김\"\n",
    "print(Family.lastname)\n",
    "\n",
    "a = Family()\n",
    "b = Family()\n",
    "print(a.lastname,  b.lastname)\n",
    "\n",
    "Family.lastname = \"박\"\n",
    "print(a.lastname, b.lastname)\n",
    "\n",
    "a.lastname = \"최\"\n",
    "print(a.lastname)\n",
    "print(Family.lastname, b.lastname)"
   ]
  },
  {
   "cell_type": "markdown",
   "id": "be9a8f16",
   "metadata": {},
   "source": [
    "# 예외 처리\n",
    "프로그램을 만들다 보면 수없이 많은 오류를 만나게 된다.   \n",
    "물론 오류가 발생하는 이유는 프로그램이 잘못 동작하는 것을 막기 위한 파이썬의 배려이다.   \n",
    "이번에는 파이썬에서 오류를 처리하는 방법에 대해서 알아보자."
   ]
  },
  {
   "cell_type": "markdown",
   "id": "051d48f2",
   "metadata": {},
   "source": [
    "## 오류는 언제 발생하는가?\n",
    "오류를 처리하는 방법을 공부하기 전에 어떤 상황에서 오류가 발생하는지 한번 알아보자.   \n",
    "오타를 입력했을 때 발생하는 구문 오류 같은 것이 아닌 실제 프로그램에서 자주 발생하는 오류를 중심으로 살펴보자.   \n",
    "\n",
    "먼저 존재하지 않는 파일을 사용하려고 시도했을 때 발생하는 오류이다.\n",
    "```python\n",
    ">>> f = open(\"나없는파일\", 'r')\n",
    "Traceback (most recent call last):\n",
    "  File \"<stdin>\", line 1, in <module>\n",
    "FileNotFoundError: [Errno 2] No such file or directory: '나없는파일'\n",
    "```\n",
    "위 예에서 볼 수 있듯이 없는 파일을 열려고 시도하면 FileNotFoundError 오류가 발생한다.\n",
    "\n",
    "이번에는 0으로 다른 숫자를 나누는 경우를 생각해 보자. 이 역시 자주 발생하는 오류이다.\n",
    "```python\n",
    ">>> 4 / 0\n",
    "Traceback (most recent call last):\n",
    "  File \"<stdin>\", line 1, in <module>\n",
    "ZeroDivisionError: division by zero\n",
    "```\n",
    "4를 0으로 나누려고 하니 ZeroDivisionError 오류가 발생한다.\n",
    "\n",
    "마지막으로 1가지 예를 더 들어 보자. 다음 오류는 정말 빈번하게 일어난다.\n",
    "```python\n",
    ">>> a = [1, 2, 3]\n",
    ">>> a[3]\n",
    "Traceback (most recent call last):\n",
    "  File \"<stdin>\", line 1, in <module>\n",
    "IndexError: list index out of range\n",
    "```\n",
    "a[3]은 a의 네 번째 요솟값을 가리키는데, a 리스트에는 값이 3개밖에 없으므로([1, 2, 3]) 값을 얻을 수 없다.   \n",
    "따라서 IndexError 오류가 발생한다. 파이썬은 이런 오류가 발생하면 프로그램을 중단하고 오류 메시지를 보여 준다."
   ]
  },
  {
   "cell_type": "markdown",
   "id": "1b3d031b",
   "metadata": {},
   "source": [
    "## 오류 예외 처리 기법\n",
    "이제 유연한 프로그래밍을 위한 오류 처리 방법에 대해 알아보자."
   ]
  },
  {
   "cell_type": "markdown",
   "id": "8453c0f8",
   "metadata": {},
   "source": [
    "### try-except 문\n",
    "다음은 오류를 처리하기 위한 try-except 문의 기본 구조이다.\n",
    "```python\n",
    "try:\n",
    "    ...\n",
    "except [발생오류 [as 오류변수]]:\n",
    "    ...\n",
    "```\n",
    "try 블록 수행 중 오류가 발생하면 except 블록이 수행된다.   \n",
    "하지만 try 블록에서 오류가 발생하지 않는다면 except 블록은 수행되지 않는다.\n",
    "```python\n",
    "except 구문을 자세히 살펴보자.\n",
    "```\n",
    "except [발생오류 [as 오류변수]]:\n",
    "위 구문을 보면 []를 사용하는데, 이 기호는 괄호 안의 내용을 생략할 수 있다는 관례적인 표기법이다.   \n",
    "즉, except 구문은 다음 3가지 방법으로 사용할 수 있다.\n",
    "\n",
    "#### 1. try-except만 쓰는 방법\n",
    "```python\n",
    "try:\n",
    "    ...\n",
    "except:\n",
    "    ...\n",
    "```\n",
    "이 경우에는 오류의 종류에 상관없이 오류가 발생하면 except 블록을 수행한다.\n",
    "\n",
    "#### 2. 발생 오류만 포함한 except 문\n",
    "```python\n",
    "try:\n",
    "    ...\n",
    "except 발생오류:\n",
    "    ...\n",
    "```\n",
    "이 경우는 오류가 발생했을 때 except 문에 미리 정해 놓은 오류와 동일한 오류일 경우에만 except 블록을 수행한다는 뜻이다.\n",
    "\n",
    "#### 3. 발생 오류와 오류 변수까지 포함한 except 문\n",
    "```python\n",
    "try:\n",
    "    ...\n",
    "except 발생오류 as 오류변수:\n",
    "    ...\n",
    "```\n",
    "이 경우는 두 번째 경우에서 오류의 내용까지 알고 싶을 때 사용하는 방법이다.\n",
    "\n",
    "이 방법의 예를 들어 보면 다음과 같다."
   ]
  },
  {
   "cell_type": "code",
   "execution_count": 22,
   "id": "3d0148b5",
   "metadata": {
    "ExecuteTime": {
     "end_time": "2023-12-05T04:49:20.494357Z",
     "start_time": "2023-12-05T04:49:20.466925Z"
    },
    "scrolled": true
   },
   "outputs": [
    {
     "ename": "ZeroDivisionError",
     "evalue": "division by zero",
     "output_type": "error",
     "traceback": [
      "\u001b[1;31m---------------------------------------------------------------------------\u001b[0m",
      "\u001b[1;31mZeroDivisionError\u001b[0m                         Traceback (most recent call last)",
      "Cell \u001b[1;32mIn[22], line 1\u001b[0m\n\u001b[1;32m----> 1\u001b[0m \u001b[38;5;241m4\u001b[39m \u001b[38;5;241m/\u001b[39m \u001b[38;5;241m0\u001b[39m\n",
      "\u001b[1;31mZeroDivisionError\u001b[0m: division by zero"
     ]
    }
   ],
   "source": [
    "4 / 0"
   ]
  },
  {
   "cell_type": "code",
   "execution_count": 23,
   "id": "f7840260",
   "metadata": {
    "ExecuteTime": {
     "end_time": "2023-12-05T04:49:28.231678Z",
     "start_time": "2023-12-05T04:49:28.228085Z"
    }
   },
   "outputs": [
    {
     "name": "stdout",
     "output_type": "stream",
     "text": [
      "오류 발생\n"
     ]
    }
   ],
   "source": [
    "try:\n",
    "    4 / 0\n",
    "except :\n",
    "    print('오류 발생')"
   ]
  },
  {
   "cell_type": "code",
   "execution_count": 24,
   "id": "15d78584",
   "metadata": {
    "ExecuteTime": {
     "end_time": "2023-12-05T04:50:14.107448Z",
     "start_time": "2023-12-05T04:50:14.103862Z"
    }
   },
   "outputs": [
    {
     "name": "stdout",
     "output_type": "stream",
     "text": [
      "division by zero\n"
     ]
    }
   ],
   "source": [
    "# 아래처럼 4를 0으로 나누려고 하면 ZeroDivisionError가 발생하여 \n",
    "# except 블록이 실행되고 오류 변수 e에 담기는 오류 메시지를 출력할 수 있다.\n",
    "try:\n",
    "    4 / 0\n",
    "except ZeroDivisionError as e:\n",
    "    print(e)"
   ]
  },
  {
   "cell_type": "markdown",
   "id": "158fb965",
   "metadata": {},
   "source": [
    "### try-finally 문\n",
    "try 문에는 finally 절을 사용할 수 있다.   \n",
    "finally 절은 try 문 수행 도중 예외 발생 여부에 상관없이 항상 수행된다.   \n",
    "보통 finally 절은 **사용한 리소스를 close** 해야 할 때 많이 사용한다.\n",
    "\n",
    "다음 예를 살펴보자."
   ]
  },
  {
   "cell_type": "code",
   "execution_count": 25,
   "id": "04081d65",
   "metadata": {
    "ExecuteTime": {
     "end_time": "2023-12-05T05:01:58.169777Z",
     "start_time": "2023-12-05T05:01:58.160303Z"
    }
   },
   "outputs": [],
   "source": [
    "try:\n",
    "    f = open('foo.txt', 'w')\n",
    "    # 무언가를 수행한다.\n",
    "    # (... 생략 ...)\n",
    "\n",
    "finally:\n",
    "    f.close()  # 중간에 오류가 발생하더라도 무조건 실행된다."
   ]
  },
  {
   "cell_type": "markdown",
   "id": "0749f22d",
   "metadata": {},
   "source": [
    "foo.txt 파일을 쓰기 모드로 연 후 예외 발생 여부에 상관없이 항상 파일을 닫아 주려면 try-finally 문을 사용하면 된다."
   ]
  },
  {
   "cell_type": "markdown",
   "id": "06b99749",
   "metadata": {},
   "source": [
    "### 여러 개의 오류 처리하기\n",
    "try 문 안에서 여러 개의 오류를 처리하려면 다음과 같이 사용해야 한다.\n",
    "```python\n",
    "try:\n",
    "    ...\n",
    "except 발생오류1:\n",
    "   ... \n",
    "except 발생오류2:\n",
    "   ...\n",
    "```\n",
    "즉, 0으로 나누는 오류와 인덱싱 오류를 다음과 같이 처리할 수 있다."
   ]
  },
  {
   "cell_type": "code",
   "execution_count": 26,
   "id": "63828318",
   "metadata": {
    "ExecuteTime": {
     "end_time": "2023-12-05T05:05:15.955310Z",
     "start_time": "2023-12-05T05:05:15.951262Z"
    }
   },
   "outputs": [
    {
     "name": "stdout",
     "output_type": "stream",
     "text": [
      "인덱싱 할 수 없습니다.\n"
     ]
    }
   ],
   "source": [
    "try:\n",
    "    a = [1,2]\n",
    "    print(a[3])\n",
    "    4/0\n",
    "\n",
    "except ZeroDivisionError:\n",
    "    print(\"0으로 나눌 수 없습니다.\")\n",
    "    \n",
    "except IndexError:\n",
    "    print(\"인덱싱 할 수 없습니다.\")"
   ]
  },
  {
   "cell_type": "markdown",
   "id": "62c857e0",
   "metadata": {},
   "source": [
    "a는 2개의 요솟값을 가지고 있으므로 a[3]이 IndexError를 발생시켜 \"인덱싱할 수 없습니다.\"라는 문자열을 출력할 것이다.   \n",
    "인덱싱 오류가 먼저 발생했으므로 4 / 0에 따른 Zero DivisionError 오류는 발생하지 않는다.\n",
    "\n",
    "앞에서 알아본 것과 마찬가지로 오류 메시지도 다음과 같이 확인할 수 있다."
   ]
  },
  {
   "cell_type": "code",
   "execution_count": 27,
   "id": "d6577e65",
   "metadata": {
    "ExecuteTime": {
     "end_time": "2023-12-05T05:06:07.496372Z",
     "start_time": "2023-12-05T05:06:07.491304Z"
    }
   },
   "outputs": [
    {
     "name": "stdout",
     "output_type": "stream",
     "text": [
      "list index out of range\n"
     ]
    }
   ],
   "source": [
    "try:\n",
    "    a = [1,2]\n",
    "    print(a[3])\n",
    "    4/0\n",
    "except ZeroDivisionError as e:\n",
    "    print(e)\n",
    "except IndexError as e:\n",
    "    print(e)"
   ]
  },
  {
   "cell_type": "markdown",
   "id": "e446e49e",
   "metadata": {},
   "source": [
    "프로그램을 실행하면 ‘list index out of range’라는 오류 메시지가 출력될 것이다.\n",
    "\n",
    "다음과 같이 ZerroDivisionError와 IndexError를 함께 처리할 수도 있다."
   ]
  },
  {
   "cell_type": "code",
   "execution_count": 28,
   "id": "639c03d4",
   "metadata": {
    "ExecuteTime": {
     "end_time": "2023-12-05T05:06:40.352810Z",
     "start_time": "2023-12-05T05:06:40.343831Z"
    }
   },
   "outputs": [
    {
     "name": "stdout",
     "output_type": "stream",
     "text": [
      "division by zero\n"
     ]
    }
   ],
   "source": [
    "try:\n",
    "    a = [1,2]\n",
    "    #print(a[3])\n",
    "    4/0\n",
    "except (ZeroDivisionError, IndexError) as e:\n",
    "    print(e)"
   ]
  },
  {
   "cell_type": "markdown",
   "id": "8110919d",
   "metadata": {},
   "source": [
    "2개 이상의 오류를 동일하게 처리하기 위해서는 위와 같이 괄호를 사용하여 함께 묶어 처리하면 된다."
   ]
  },
  {
   "cell_type": "markdown",
   "id": "a1d9874d",
   "metadata": {},
   "source": [
    "### try-else 문\n",
    "try 문에는 다음처럼 else 절을 사용할 수도 있다.\n",
    "```python\n",
    "try:\n",
    "    ...\n",
    "except [발생오류 [as 오류변수]]:\n",
    "    ...\n",
    "else:  # 오류가 없을 경우에만 수행\n",
    "    ...\n",
    "```\n",
    "try 문 수행 중 오류가 발생하면 except 절, 오류가 발생하지 않으면 else 절이 수행된다.\n",
    "\n",
    "다음은 try 문에 else 절을 사용한 간단한 예제이다."
   ]
  },
  {
   "cell_type": "code",
   "execution_count": 30,
   "id": "843e6cac",
   "metadata": {
    "ExecuteTime": {
     "end_time": "2023-12-05T05:08:42.281126Z",
     "start_time": "2023-12-05T05:08:33.831251Z"
    }
   },
   "outputs": [
    {
     "name": "stdout",
     "output_type": "stream",
     "text": [
      "나이를 입력하세요: 십팔\n",
      "입력이 정확하지 않습니다.\n"
     ]
    }
   ],
   "source": [
    "try: # 에러 체크 코드\n",
    "    age=int(input('나이를 입력하세요: '))\n",
    "except: # 에러 발생시 동작 코드\n",
    "    print('입력이 정확하지 않습니다.')\n",
    "    \n",
    "else: # 정상 동작 코드\n",
    "    if age <= 18:\n",
    "        print('미성년자는 출입금지입니다.')\n",
    "    else:\n",
    "        print('환영합니다.')"
   ]
  },
  {
   "cell_type": "markdown",
   "id": "7ac38c4a",
   "metadata": {},
   "source": [
    "만약 '나이를 입력하세요: '라는 질문에 숫자가 아닌 다른 값을 입력하면 오류가 발생하여 '입력이 정확하지 않습니다.'라는 문장을 출력한다.   \n",
    "오류가 없을 경우에만 else 절이 수행된다."
   ]
  },
  {
   "cell_type": "markdown",
   "id": "fe22dd9f",
   "metadata": {},
   "source": [
    "## 오류 회피하기\n",
    "코드를 작성하다 보면 특정 오류가 발생할 경우 그냥 통과시켜야 할 때가 있다. 다음 예를 살펴보자."
   ]
  },
  {
   "cell_type": "code",
   "execution_count": 31,
   "id": "0a3cf705",
   "metadata": {
    "ExecuteTime": {
     "end_time": "2023-12-05T05:09:20.306409Z",
     "start_time": "2023-12-05T05:09:20.302695Z"
    }
   },
   "outputs": [],
   "source": [
    "try:\n",
    "    f = open(\"나없는파일\", 'r')\n",
    "except FileNotFoundError:\n",
    "    pass"
   ]
  },
  {
   "cell_type": "markdown",
   "id": "216c0138",
   "metadata": {},
   "source": [
    "try 문 안에서 FileNotFoundError가 발생할 경우, pass를 사용하여 오류를 그냥 회피하도록 작성한 예제이다."
   ]
  },
  {
   "cell_type": "markdown",
   "id": "25e8a12a",
   "metadata": {},
   "source": [
    "## 오류 일부러 발생시키기\n",
    "이상하게 들리겠지만, 프로그래밍을 하다 보면 종종 오류를 일부러 발생시켜야 할 경우도 생긴다.   \n",
    "파이썬은 raise 명령어를 사용해 오류를 강제로 발생시킬 수 있다.\n",
    "\n",
    "예를 들어 Bird 클래스를 상속받는 자식 클래스는 반드시 fly라는 함수를 구현하도록 만들고 싶은 경우(강제로 그렇게 하고 싶은 경우)가 있을 수 있다.   \n",
    "다음 예를 살펴보자."
   ]
  },
  {
   "cell_type": "code",
   "execution_count": 11,
   "id": "b877115f",
   "metadata": {
    "ExecuteTime": {
     "end_time": "2023-10-10T07:35:45.852527Z",
     "start_time": "2023-10-10T07:35:45.848414Z"
    }
   },
   "outputs": [],
   "source": [
    "class Bird:\n",
    "    def fly(self):\n",
    "        raise NotImplementedError"
   ]
  },
  {
   "cell_type": "markdown",
   "id": "0eecdfa5",
   "metadata": {},
   "source": [
    "Bird 클래스를 상속받는 자식 클래스는 반드시 fly 함수를 구현해야 한다는 의지를 보여 준다.   \n",
    "만약 자식 클래스가 fly 함수를 구현하지 않은 상태로 fly 함수를 호출한다면 어떻게 될까?\n",
    "> NotImplementedError는 파이썬에 이미 정의되어 있는 오류로, 꼭 작성해야 하는 부분이 구현되지 않았을 경우 일부러 오류를 발생시키기 위해 사용한다."
   ]
  },
  {
   "cell_type": "code",
   "execution_count": 12,
   "id": "a93c9495",
   "metadata": {
    "ExecuteTime": {
     "end_time": "2023-10-10T07:42:39.480520Z",
     "start_time": "2023-10-10T07:42:39.449595Z"
    }
   },
   "outputs": [
    {
     "ename": "NotImplementedError",
     "evalue": "",
     "output_type": "error",
     "traceback": [
      "\u001b[1;31m---------------------------------------------------------------------------\u001b[0m",
      "\u001b[1;31mNotImplementedError\u001b[0m                       Traceback (most recent call last)",
      "Cell \u001b[1;32mIn[12], line 5\u001b[0m\n\u001b[0;32m      2\u001b[0m     \u001b[38;5;28;01mpass\u001b[39;00m\n\u001b[0;32m      4\u001b[0m eagle \u001b[38;5;241m=\u001b[39m Eagle()\n\u001b[1;32m----> 5\u001b[0m eagle\u001b[38;5;241m.\u001b[39mfly()\n",
      "Cell \u001b[1;32mIn[11], line 3\u001b[0m, in \u001b[0;36mBird.fly\u001b[1;34m(self)\u001b[0m\n\u001b[0;32m      2\u001b[0m \u001b[38;5;28;01mdef\u001b[39;00m \u001b[38;5;21mfly\u001b[39m(\u001b[38;5;28mself\u001b[39m):\n\u001b[1;32m----> 3\u001b[0m     \u001b[38;5;28;01mraise\u001b[39;00m \u001b[38;5;167;01mNotImplementedError\u001b[39;00m\n",
      "\u001b[1;31mNotImplementedError\u001b[0m: "
     ]
    }
   ],
   "source": [
    "class Eagle(Bird):\n",
    "    pass\n",
    "\n",
    "eagle = Eagle()\n",
    "eagle.fly()"
   ]
  },
  {
   "cell_type": "markdown",
   "id": "647e6b63",
   "metadata": {},
   "source": [
    "Eagle 클래스는 Bird 클래스를 상속받았다.   \n",
    "그런데 Eagle 클래스는 fly 메서드를 오버라이딩하여 구현하지 않았다.   \n",
    "따라서 eagle 객체의 fly 메서드를 수행하는 순간 Bird 클래스의 fly 메서드가 수행되어 NotImplementedError가 발생한다.\n",
    "> 상속받는 클래스에서 메서드를 재구현하는 것을 ‘메서드 오버라이딩’이라고 한다.\n",
    "\n",
    "NotImplementedError가 발생하지 않게 하려면 다음과 같이 Eagle 클래스에 fly 함수를 구현해야 한다."
   ]
  },
  {
   "cell_type": "code",
   "execution_count": 14,
   "id": "dd6d2c34",
   "metadata": {
    "ExecuteTime": {
     "end_time": "2023-10-10T07:45:22.565135Z",
     "start_time": "2023-10-10T07:45:22.559967Z"
    }
   },
   "outputs": [
    {
     "name": "stdout",
     "output_type": "stream",
     "text": [
      "very fast\n"
     ]
    }
   ],
   "source": [
    "# 아래 예처럼 fly 함수를 구현한 후 프로그램을 실행하면 오류 없이 다음 문장이 출력된다.\n",
    "class Eagle(Bird):\n",
    "    def fly(self):\n",
    "        print(\"very fast\")\n",
    "\n",
    "eagle = Eagle()\n",
    "eagle.fly()"
   ]
  },
  {
   "cell_type": "markdown",
   "id": "6844aed0",
   "metadata": {},
   "source": [
    "## 예외 만들기\n",
    "프로그램을 수행하다가 특수한 경우에만 예외 처리를 하려고 종종 예외를 만들어서 사용한다. 이번에는 직접 예외를 만들어 보자.   \n",
    "\n",
    "예외는 다음과 같이 파이썬 내장 클래스인 Exception 클래스를 상속하여 만들 수 있다."
   ]
  },
  {
   "cell_type": "code",
   "execution_count": 15,
   "id": "3b9c5909",
   "metadata": {
    "ExecuteTime": {
     "end_time": "2023-10-10T07:47:47.196338Z",
     "start_time": "2023-10-10T07:47:47.192751Z"
    }
   },
   "outputs": [],
   "source": [
    "class MyError(Exception):\n",
    "    pass"
   ]
  },
  {
   "cell_type": "code",
   "execution_count": 16,
   "id": "aa0bec97",
   "metadata": {
    "ExecuteTime": {
     "end_time": "2023-10-10T07:51:23.101336Z",
     "start_time": "2023-10-10T07:51:23.097658Z"
    }
   },
   "outputs": [],
   "source": [
    "# 그리고 별명을 출력하는 함수를 다음과 같이 작성해 보자.\n",
    "def say_nick(nick):\n",
    "    if nick == '바보':\n",
    "        raise MyError()\n",
    "    print(nick)"
   ]
  },
  {
   "cell_type": "code",
   "execution_count": 17,
   "id": "64e37f14",
   "metadata": {
    "ExecuteTime": {
     "end_time": "2023-10-10T07:51:32.745952Z",
     "start_time": "2023-10-10T07:51:32.700050Z"
    }
   },
   "outputs": [
    {
     "name": "stdout",
     "output_type": "stream",
     "text": [
      "천사\n"
     ]
    },
    {
     "ename": "MyError",
     "evalue": "",
     "output_type": "error",
     "traceback": [
      "\u001b[1;31m---------------------------------------------------------------------------\u001b[0m",
      "\u001b[1;31mMyError\u001b[0m                                   Traceback (most recent call last)",
      "Cell \u001b[1;32mIn[17], line 3\u001b[0m\n\u001b[0;32m      1\u001b[0m \u001b[38;5;66;03m# 그리고 다음과 같이 say_nick 함수를 호출해 보자.\u001b[39;00m\n\u001b[0;32m      2\u001b[0m say_nick(\u001b[38;5;124m\"\u001b[39m\u001b[38;5;124m천사\u001b[39m\u001b[38;5;124m\"\u001b[39m)\n\u001b[1;32m----> 3\u001b[0m say_nick(\u001b[38;5;124m\"\u001b[39m\u001b[38;5;124m바보\u001b[39m\u001b[38;5;124m\"\u001b[39m)\n",
      "Cell \u001b[1;32mIn[16], line 4\u001b[0m, in \u001b[0;36msay_nick\u001b[1;34m(nick)\u001b[0m\n\u001b[0;32m      2\u001b[0m \u001b[38;5;28;01mdef\u001b[39;00m \u001b[38;5;21msay_nick\u001b[39m(nick):\n\u001b[0;32m      3\u001b[0m     \u001b[38;5;28;01mif\u001b[39;00m nick \u001b[38;5;241m==\u001b[39m \u001b[38;5;124m'\u001b[39m\u001b[38;5;124m바보\u001b[39m\u001b[38;5;124m'\u001b[39m:\n\u001b[1;32m----> 4\u001b[0m         \u001b[38;5;28;01mraise\u001b[39;00m MyError()\n\u001b[0;32m      5\u001b[0m     \u001b[38;5;28mprint\u001b[39m(nick)\n",
      "\u001b[1;31mMyError\u001b[0m: "
     ]
    }
   ],
   "source": [
    "# 그리고 다음과 같이 say_nick 함수를 호출해 보자.\n",
    "say_nick(\"천사\")\n",
    "say_nick(\"바보\")\n",
    "# 저장한 후 프로그램을 실행해 보면 다음과 같이 \"천사\"가 한 번 출력된 후 MyError가 발생한다."
   ]
  },
  {
   "cell_type": "code",
   "execution_count": 18,
   "id": "7e87d512",
   "metadata": {
    "ExecuteTime": {
     "end_time": "2023-10-10T07:54:55.463376Z",
     "start_time": "2023-10-10T07:54:55.459606Z"
    }
   },
   "outputs": [
    {
     "name": "stdout",
     "output_type": "stream",
     "text": [
      "천사\n",
      "허용되지 않는 별명입니다.\n"
     ]
    }
   ],
   "source": [
    "# 이번에는 예외 처리 기법을 사용하여 MyError 발생을 예외 처리해 보자.\n",
    "try:\n",
    "    say_nick(\"천사\")\n",
    "    say_nick(\"바보\")\n",
    "except MyError:\n",
    "    print(\"허용되지 않는 별명입니다.\")"
   ]
  },
  {
   "cell_type": "code",
   "execution_count": 19,
   "id": "457bb030",
   "metadata": {
    "ExecuteTime": {
     "end_time": "2023-10-10T07:56:55.117027Z",
     "start_time": "2023-10-10T07:56:55.112465Z"
    }
   },
   "outputs": [
    {
     "name": "stdout",
     "output_type": "stream",
     "text": [
      "천사\n",
      "\n"
     ]
    }
   ],
   "source": [
    "# 만약 오류 메시지를 사용하고 싶다면 다음처럼 예외 처리를 하면 된다.\n",
    "try:\n",
    "    say_nick(\"천사\")\n",
    "    say_nick(\"바보\")\n",
    "except MyError as e:\n",
    "    print(e)"
   ]
  },
  {
   "cell_type": "markdown",
   "id": "2a88e40c",
   "metadata": {},
   "source": [
    "하지만 프로그램을 실행해 보면 print(e)로 오류 메시지가 출력되지 않는 것을 확인할 수 있다.   \n",
    "오류 메시지를 출력했을 때 오류 메시지가 보이게 하려면 오류 클래스에 다음과 같은 __str__ 메서드를 구현해야 한다.   \n",
    "__str__ 메서드는 print(e)처럼 오류 메시지를 print 문으로 출력할 경우에 호출되는 메서드이다."
   ]
  },
  {
   "cell_type": "code",
   "execution_count": 20,
   "id": "2904a04d",
   "metadata": {
    "ExecuteTime": {
     "end_time": "2023-10-10T07:59:06.356843Z",
     "start_time": "2023-10-10T07:59:06.352664Z"
    }
   },
   "outputs": [],
   "source": [
    "class MyError(Exception):\n",
    "    def __str__(self):\n",
    "        return \"허용되지 않는 별명입니다.\""
   ]
  },
  {
   "cell_type": "code",
   "execution_count": 21,
   "id": "70af3ab1",
   "metadata": {
    "ExecuteTime": {
     "end_time": "2023-10-10T07:59:16.524596Z",
     "start_time": "2023-10-10T07:59:16.520084Z"
    },
    "scrolled": true
   },
   "outputs": [
    {
     "name": "stdout",
     "output_type": "stream",
     "text": [
      "천사\n",
      "허용되지 않는 별명입니다.\n"
     ]
    }
   ],
   "source": [
    "# 프로그램을 다시 실행해 보면 \"허용되지 않는 별명입니다.\"라는 오류 메시지가 출력되는 것을 확인할 수 있을 것이다.\n",
    "try:\n",
    "    say_nick(\"천사\")\n",
    "    say_nick(\"바보\")\n",
    "except MyError as e:\n",
    "    print(e)"
   ]
  }
 ],
 "metadata": {
  "kernelspec": {
   "display_name": "Python 3 (ipykernel)",
   "language": "python",
   "name": "python3"
  },
  "language_info": {
   "codemirror_mode": {
    "name": "ipython",
    "version": 3
   },
   "file_extension": ".py",
   "mimetype": "text/x-python",
   "name": "python",
   "nbconvert_exporter": "python",
   "pygments_lexer": "ipython3",
   "version": "3.11.5"
  },
  "toc": {
   "base_numbering": 1,
   "nav_menu": {},
   "number_sections": true,
   "sideBar": true,
   "skip_h1_title": false,
   "title_cell": "Table of Contents",
   "title_sidebar": "Contents",
   "toc_cell": false,
   "toc_position": {
    "height": "calc(100% - 180px)",
    "left": "10px",
    "top": "150px",
    "width": "384px"
   },
   "toc_section_display": true,
   "toc_window_display": false
  },
  "varInspector": {
   "cols": {
    "lenName": 16,
    "lenType": 16,
    "lenVar": 40
   },
   "kernels_config": {
    "python": {
     "delete_cmd_postfix": "",
     "delete_cmd_prefix": "del ",
     "library": "var_list.py",
     "varRefreshCmd": "print(var_dic_list())"
    },
    "r": {
     "delete_cmd_postfix": ") ",
     "delete_cmd_prefix": "rm(",
     "library": "var_list.r",
     "varRefreshCmd": "cat(var_dic_list()) "
    }
   },
   "types_to_exclude": [
    "module",
    "function",
    "builtin_function_or_method",
    "instance",
    "_Feature"
   ],
   "window_display": false
  }
 },
 "nbformat": 4,
 "nbformat_minor": 5
}

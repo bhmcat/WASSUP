{
 "cells": [
  {
   "cell_type": "code",
   "execution_count": 54,
   "id": "1fd16915",
   "metadata": {
    "ExecuteTime": {
     "end_time": "2023-11-26T11:15:21.901683Z",
     "start_time": "2023-11-26T11:15:21.898385Z"
    }
   },
   "outputs": [
    {
     "name": "stdout",
     "output_type": "stream",
     "text": [
      "Hello world\n"
     ]
    }
   ],
   "source": [
    "#1\n",
    "\n",
    "print(\"Hello world\")"
   ]
  },
  {
   "cell_type": "code",
   "execution_count": 17,
   "id": "8380dfa8",
   "metadata": {
    "ExecuteTime": {
     "end_time": "2023-11-26T10:55:49.357995Z",
     "start_time": "2023-11-26T10:55:49.354414Z"
    }
   },
   "outputs": [
    {
     "name": "stdout",
     "output_type": "stream",
     "text": [
      "Mary's cosmetics\n"
     ]
    }
   ],
   "source": [
    "#2\n",
    "\n",
    "print(\"Mary's cosmetics\")"
   ]
  },
  {
   "cell_type": "code",
   "execution_count": 20,
   "id": "c867821f",
   "metadata": {
    "ExecuteTime": {
     "end_time": "2023-11-26T10:56:09.336825Z",
     "start_time": "2023-11-26T10:56:09.333814Z"
    }
   },
   "outputs": [
    {
     "name": "stdout",
     "output_type": "stream",
     "text": [
      "신씨가 소리질렀다. \"도둑이야\".\n"
     ]
    }
   ],
   "source": [
    "#3 \n",
    "\n",
    "print('신씨가 소리질렀다. \"도둑이야\".')"
   ]
  },
  {
   "cell_type": "code",
   "execution_count": 47,
   "id": "8ab13b89",
   "metadata": {
    "ExecuteTime": {
     "end_time": "2023-11-26T11:12:14.147759Z",
     "start_time": "2023-11-26T11:12:14.144758Z"
    }
   },
   "outputs": [
    {
     "name": "stdout",
     "output_type": "stream",
     "text": [
      "C:\\Windows\n"
     ]
    }
   ],
   "source": [
    "#4 \n",
    "\n",
    "print(\"C:\\\\Windows\")"
   ]
  },
  {
   "cell_type": "markdown",
   "id": "8bca6369",
   "metadata": {},
   "source": [
    "\\n : 줄 바꾸기   \n",
    "\\t : Tap"
   ]
  },
  {
   "cell_type": "code",
   "execution_count": 22,
   "id": "94658f3b",
   "metadata": {
    "ExecuteTime": {
     "end_time": "2023-11-26T10:57:23.755188Z",
     "start_time": "2023-11-26T10:57:23.752534Z"
    }
   },
   "outputs": [
    {
     "name": "stdout",
     "output_type": "stream",
     "text": [
      "안녕하세요.\n",
      "만나서\t\t반갑습니다.\n"
     ]
    }
   ],
   "source": [
    "#5\n",
    "\n",
    "print(\"안녕하세요.\\n만나서\\t\\t반갑습니다.\")"
   ]
  },
  {
   "cell_type": "code",
   "execution_count": 23,
   "id": "065ca43e",
   "metadata": {
    "ExecuteTime": {
     "end_time": "2023-11-26T10:58:31.877263Z",
     "start_time": "2023-11-26T10:58:31.874334Z"
    }
   },
   "outputs": [
    {
     "name": "stdout",
     "output_type": "stream",
     "text": [
      "오늘은 일요일\n"
     ]
    }
   ],
   "source": [
    "#6\n",
    "\n",
    "print (\"오늘은\", \"일요일\")"
   ]
  },
  {
   "cell_type": "markdown",
   "id": "46dfa6c2",
   "metadata": {},
   "source": [
    "print 함수의 sep 인자로 \";\"를 입력하면 출력되는 값들 사이에 한 칸의 공백대신 세미콜론이 출력됩니다."
   ]
  },
  {
   "cell_type": "code",
   "execution_count": 49,
   "id": "34634cc1",
   "metadata": {
    "ExecuteTime": {
     "end_time": "2023-11-26T11:13:29.463007Z",
     "start_time": "2023-11-26T11:13:29.459699Z"
    }
   },
   "outputs": [
    {
     "name": "stdout",
     "output_type": "stream",
     "text": [
      "naver;kakao;samsung\n"
     ]
    }
   ],
   "source": [
    "#7 \n",
    "\n",
    "print(\"naver\", \"kakao\", \"samsung\", sep=\";\")"
   ]
  },
  {
   "cell_type": "code",
   "execution_count": 27,
   "id": "b061d6b1",
   "metadata": {
    "ExecuteTime": {
     "end_time": "2023-11-26T11:03:06.884421Z",
     "start_time": "2023-11-26T11:03:06.881990Z"
    }
   },
   "outputs": [
    {
     "name": "stdout",
     "output_type": "stream",
     "text": [
      "naver/kakao/sk/samsung\n"
     ]
    }
   ],
   "source": [
    "#8\n",
    "\n",
    "print(\"naver\", \"kakao\", \"sk\", \"samsung\", sep=\"/\")"
   ]
  },
  {
   "cell_type": "markdown",
   "id": "71c7c756",
   "metadata": {},
   "source": [
    "다음 코드를 수정하여 줄바꿈이 없이 출력하세요. (힌트: end='') print 함수는 두 번 사용합니다. 세미콜론 (;)은 한줄에 여러 개의 명령을 작성하기 위해 사용합니다."
   ]
  },
  {
   "cell_type": "code",
   "execution_count": 51,
   "id": "76499540",
   "metadata": {
    "ExecuteTime": {
     "end_time": "2023-11-26T11:14:20.917653Z",
     "start_time": "2023-11-26T11:14:20.914597Z"
    },
    "scrolled": false
   },
   "outputs": [
    {
     "name": "stdout",
     "output_type": "stream",
     "text": [
      "firstsecond\n"
     ]
    }
   ],
   "source": [
    "#9\n",
    "\n",
    "print(\"first\", end=\"\"); print(\"second\")"
   ]
  },
  {
   "cell_type": "code",
   "execution_count": 52,
   "id": "f55cdcba",
   "metadata": {
    "ExecuteTime": {
     "end_time": "2023-11-26T11:14:57.203297Z",
     "start_time": "2023-11-26T11:14:57.200337Z"
    }
   },
   "outputs": [
    {
     "name": "stdout",
     "output_type": "stream",
     "text": [
      "1.6666666666666667\n"
     ]
    }
   ],
   "source": [
    "print(5/3)"
   ]
  },
  {
   "cell_type": "code",
   "execution_count": 59,
   "id": "ff6c1912",
   "metadata": {
    "ExecuteTime": {
     "end_time": "2023-11-26T11:17:21.663855Z",
     "start_time": "2023-11-26T11:17:21.661074Z"
    }
   },
   "outputs": [
    {
     "name": "stdout",
     "output_type": "stream",
     "text": [
      "500000\n"
     ]
    }
   ],
   "source": [
    "#11\n",
    "\n",
    "삼성전자 = 50000\n",
    "총평가금액 = 삼성전자 * 10\n",
    "print(총평가금액)"
   ]
  },
  {
   "cell_type": "markdown",
   "id": "51dcafbe",
   "metadata": {},
   "source": [
    "다음 표는 삼성전자의 일부 투자정보입니다. 변수를 사용해서 시가총액, 현재가, PER 등을 바인딩해보세요.\n",
    "\n",
    "|항목|값|\n",
    "|:--:|:--:|\n",
    "|시가총액|298조|\n",
    "|현재가|50,000원|\n",
    "|PER|15.79|"
   ]
  },
  {
   "cell_type": "code",
   "execution_count": 63,
   "id": "b474e0ae",
   "metadata": {
    "ExecuteTime": {
     "end_time": "2023-11-26T11:24:06.338856Z",
     "start_time": "2023-11-26T11:24:06.334959Z"
    }
   },
   "outputs": [
    {
     "name": "stdout",
     "output_type": "stream",
     "text": [
      "298000000000000 <class 'int'>\n",
      "50000 <class 'int'>\n",
      "15.79 <class 'float'>\n"
     ]
    }
   ],
   "source": [
    "#12\n",
    "\n",
    "시가총액 = 298000000000000\n",
    "현재가 = 50000\n",
    "PER = 15.79\n",
    "\n",
    "print(시가총액, type(시가총액))\n",
    "print(현재가, type(현재가))\n",
    "print(PER, type(PER))"
   ]
  },
  {
   "cell_type": "code",
   "execution_count": 77,
   "id": "cd225de0",
   "metadata": {
    "ExecuteTime": {
     "end_time": "2023-11-26T11:29:28.625913Z",
     "start_time": "2023-11-26T11:29:28.621902Z"
    }
   },
   "outputs": [
    {
     "data": {
      "text/plain": [
       "'hello! python'"
      ]
     },
     "execution_count": 77,
     "metadata": {},
     "output_type": "execute_result"
    }
   ],
   "source": [
    "#13\n",
    "\n",
    "s = \"hello\"\n",
    "t = \"python\"\n",
    "print=(s+\"! \"+t)\n",
    "print"
   ]
  },
  {
   "cell_type": "code",
   "execution_count": null,
   "id": "eb79122e",
   "metadata": {},
   "outputs": [],
   "source": [
    "#14\n",
    "\n",
    "8"
   ]
  },
  {
   "cell_type": "code",
   "execution_count": 1,
   "id": "621267ed",
   "metadata": {
    "ExecuteTime": {
     "end_time": "2023-12-10T08:41:09.509033Z",
     "start_time": "2023-12-10T08:41:09.503707Z"
    }
   },
   "outputs": [
    {
     "name": "stdout",
     "output_type": "stream",
     "text": [
      "<class 'int'>\n"
     ]
    }
   ],
   "source": [
    "#15\n",
    "#type() 함수는 데이터 타입을 판별\n",
    "\n",
    "a=128\n",
    "print(type(a))"
   ]
  },
  {
   "cell_type": "code",
   "execution_count": 2,
   "id": "8ddbe553",
   "metadata": {
    "ExecuteTime": {
     "end_time": "2023-12-10T08:42:13.597918Z",
     "start_time": "2023-12-10T08:42:13.594917Z"
    }
   },
   "outputs": [
    {
     "name": "stdout",
     "output_type": "stream",
     "text": [
      "721 <class 'int'>\n"
     ]
    }
   ],
   "source": [
    "#16\n",
    "\n",
    "num_str=\"720\" #형변환\n",
    "num_int=int(num_str)\n",
    "print(num_int+1, type(num_int))"
   ]
  },
  {
   "cell_type": "code",
   "execution_count": null,
   "id": "61217d05",
   "metadata": {
    "ExecuteTime": {
     "end_time": "2023-12-10T08:43:18.022857Z",
     "start_time": "2023-12-10T08:43:18.020109Z"
    }
   },
   "outputs": [],
   "source": [
    "#17\n",
    "#정수를 문자열 100으로 변환\n",
    "\n",
    "num=100\n",
    "result=str(num)\n",
    "print(result, type(result))"
   ]
  },
  {
   "cell_type": "code",
   "execution_count": null,
   "id": "e370b660",
   "metadata": {
    "ExecuteTime": {
     "end_time": "2023-12-10T08:44:34.713963Z",
     "start_time": "2023-12-10T08:44:34.710898Z"
    }
   },
   "outputs": [],
   "source": [
    "#18\n",
    "#문자열 15.79를 실수(float)으로 변환\n",
    "\n",
    "data=\"15.79\"\n",
    "data=float(data)\n",
    "print(data, type(data))"
   ]
  },
  {
   "cell_type": "code",
   "execution_count": 5,
   "id": "65e1bf15",
   "metadata": {
    "ExecuteTime": {
     "end_time": "2023-12-10T08:45:42.266816Z",
     "start_time": "2023-12-10T08:45:42.263296Z"
    }
   },
   "outputs": [
    {
     "name": "stdout",
     "output_type": "stream",
     "text": [
      "2017\n",
      "2018\n",
      "2019\n"
     ]
    }
   ],
   "source": [
    "#19\n",
    "#문자열을 정수로 변환 \n",
    "\n",
    "year = \"2020\"\n",
    "print(int(year)-3)\n",
    "print(int(year)-2)\n",
    "print(int(year)-1)"
   ]
  },
  {
   "cell_type": "code",
   "execution_count": 6,
   "id": "1195ada9",
   "metadata": {
    "ExecuteTime": {
     "end_time": "2023-12-10T08:46:30.381230Z",
     "start_time": "2023-12-10T08:46:30.378262Z"
    }
   },
   "outputs": [
    {
     "name": "stdout",
     "output_type": "stream",
     "text": [
      "1749024\n"
     ]
    }
   ],
   "source": [
    "#20\n",
    "\n",
    "월=48584\n",
    "총금액=월*36\n",
    "print(총금액)"
   ]
  },
  {
   "cell_type": "code",
   "execution_count": 11,
   "id": "8e685297",
   "metadata": {
    "ExecuteTime": {
     "end_time": "2023-12-10T08:47:53.047158Z",
     "start_time": "2023-12-10T08:47:53.043468Z"
    }
   },
   "outputs": [
    {
     "name": "stdout",
     "output_type": "stream",
     "text": [
      "p t\n"
     ]
    }
   ],
   "source": [
    "#21\n",
    "#letter가 바인딩하는 문자열에서 첫번째와 세번째 문자 출력\n",
    "\n",
    "lang='python'\n",
    "print(lang[0],lang[2])"
   ]
  },
  {
   "cell_type": "code",
   "execution_count": 12,
   "id": "cd2e3fb0",
   "metadata": {
    "ExecuteTime": {
     "end_time": "2023-12-10T08:48:49.807261Z",
     "start_time": "2023-12-10T08:48:49.804463Z"
    }
   },
   "outputs": [
    {
     "name": "stdout",
     "output_type": "stream",
     "text": [
      "2210\n"
     ]
    }
   ],
   "source": [
    "#22\n",
    "\n",
    "license_plate = \"24가 2210\"\n",
    "print(license_plate[-4:])"
   ]
  },
  {
   "cell_type": "code",
   "execution_count": 13,
   "id": "faaeda1c",
   "metadata": {
    "ExecuteTime": {
     "end_time": "2023-12-10T08:49:26.124297Z",
     "start_time": "2023-12-10T08:49:26.121379Z"
    }
   },
   "outputs": [
    {
     "name": "stdout",
     "output_type": "stream",
     "text": [
      "홀홀홀\n"
     ]
    }
   ],
   "source": [
    "#23\n",
    "#슬라이싱할 때 `시작인덱스:끝인덱스:오프셋`을 지정할 수 있습니다.\n",
    "\n",
    "string = \"홀짝홀짝홀짝\"\n",
    "print(string[::2])"
   ]
  },
  {
   "cell_type": "code",
   "execution_count": 14,
   "id": "911fcc10",
   "metadata": {
    "ExecuteTime": {
     "end_time": "2023-12-10T08:50:22.228996Z",
     "start_time": "2023-12-10T08:50:22.225911Z"
    }
   },
   "outputs": [
    {
     "name": "stdout",
     "output_type": "stream",
     "text": [
      "NOHTYP\n"
     ]
    }
   ],
   "source": [
    "#24\n",
    "#문자열을 거꾸로 뒤집어 출력\n",
    "\n",
    "string = \"PYTHON\"\n",
    "print(string[::-1])"
   ]
  },
  {
   "cell_type": "code",
   "execution_count": 15,
   "id": "73f7aa31",
   "metadata": {
    "ExecuteTime": {
     "end_time": "2023-12-10T08:51:19.205073Z",
     "start_time": "2023-12-10T08:51:19.202117Z"
    }
   },
   "outputs": [
    {
     "name": "stdout",
     "output_type": "stream",
     "text": [
      "010 1111 2222\n"
     ]
    }
   ],
   "source": [
    "#25\n",
    "#- 제거하고 출력\n",
    "\n",
    "phone_number = \"010-1111-2222\"\n",
    "phone_number1 = phone_number.replace(\"-\", \" \")\n",
    "print(phone_number1)"
   ]
  },
  {
   "cell_type": "code",
   "execution_count": null,
   "id": "99e4883a",
   "metadata": {
    "ExecuteTime": {
     "end_time": "2023-12-10T08:52:35.488092Z",
     "start_time": "2023-12-10T08:52:35.485151Z"
    }
   },
   "outputs": [],
   "source": [
    "#25\n",
    "#문자열로 표현된 url에서 `.`을 기준으로 분리합니다. 분리된 url 중 마지막을 인덱싱하면 도메인만 출력할 수 있습니다.\n",
    "\n",
    "url = \"http://sharebook.kr\"\n",
    "url_split = url.split('.')\n",
    "print(url_split[-1])"
   ]
  },
  {
   "cell_type": "code",
   "execution_count": 18,
   "id": "432a5ed9",
   "metadata": {
    "ExecuteTime": {
     "end_time": "2023-12-10T08:54:14.822622Z",
     "start_time": "2023-12-10T08:54:14.818807Z"
    }
   },
   "outputs": [
    {
     "name": "stdout",
     "output_type": "stream",
     "text": [
      "Abcdfe2A354A32A\n"
     ]
    }
   ],
   "source": [
    "#29\n",
    "#아래 문자열에서 소문자 'a'를 대문자 'A'로 변경하세요.\n",
    "\n",
    "string = 'abcdfe2a354a32a'\n",
    "string = string.replace('a', 'A')\n",
    "print(string)"
   ]
  },
  {
   "cell_type": "code",
   "execution_count": 21,
   "id": "90e5895f",
   "metadata": {
    "ExecuteTime": {
     "end_time": "2023-12-10T08:55:02.709055Z",
     "start_time": "2023-12-10T08:55:02.706042Z"
    }
   },
   "outputs": [
    {
     "name": "stdout",
     "output_type": "stream",
     "text": [
      "HiHiHi\n"
     ]
    }
   ],
   "source": [
    "#32\n",
    "#문자열 곱하기\n",
    "\n",
    "print(\"Hi\" * 3)"
   ]
  },
  {
   "cell_type": "code",
   "execution_count": 22,
   "id": "930c261d",
   "metadata": {
    "ExecuteTime": {
     "end_time": "2023-12-10T08:55:13.399176Z",
     "start_time": "2023-12-10T08:55:13.396175Z"
    }
   },
   "outputs": [
    {
     "name": "stdout",
     "output_type": "stream",
     "text": [
      "--------------------------------------------------------------------------------\n"
     ]
    }
   ],
   "source": [
    "#33\n",
    "\n",
    "print(\"-\" * 80)"
   ]
  },
  {
   "cell_type": "code",
   "execution_count": 23,
   "id": "928f2c68",
   "metadata": {
    "ExecuteTime": {
     "end_time": "2023-12-10T08:55:35.866931Z",
     "start_time": "2023-12-10T08:55:35.863547Z"
    }
   },
   "outputs": [
    {
     "name": "stdout",
     "output_type": "stream",
     "text": [
      "python java python java python java python java \n"
     ]
    }
   ],
   "source": [
    "#34\n",
    "\n",
    "t1 = \"python\"\n",
    "t2 = \"java\"\n",
    "t3 = t1 + ' ' + t2 + ' '\n",
    "print(t3 * 4)"
   ]
  },
  {
   "cell_type": "code",
   "execution_count": 24,
   "id": "2a9f20f5",
   "metadata": {
    "ExecuteTime": {
     "end_time": "2023-12-10T08:56:03.270619Z",
     "start_time": "2023-12-10T08:56:03.267420Z"
    }
   },
   "outputs": [
    {
     "name": "stdout",
     "output_type": "stream",
     "text": [
      "이름: 김민수 나이: 10\n",
      "이름: 이철희 나이: 13\n"
     ]
    }
   ],
   "source": [
    "#35\n",
    "\n",
    "name1 = \"김민수\" \n",
    "age1 = 10\n",
    "name2 = \"이철희\"\n",
    "age2 = 13\n",
    "print(\"이름: %s 나이: %d\" % (name1, age1))   #%s : 문자열(String)\n",
    "print(\"이름: %s 나이: %d\" % (name2, age2))   #%d : 정수(Integer)"
   ]
  },
  {
   "cell_type": "code",
   "execution_count": 25,
   "id": "fa6ad172",
   "metadata": {
    "ExecuteTime": {
     "end_time": "2023-12-10T08:57:44.973635Z",
     "start_time": "2023-12-10T08:57:44.969611Z"
    }
   },
   "outputs": [
    {
     "name": "stdout",
     "output_type": "stream",
     "text": [
      "이름: 김민수 나이: 10\n",
      "이름: 이철희 나이: 13\n"
     ]
    }
   ],
   "source": [
    "#36\n",
    "#format() 메서드\n",
    "\n",
    "name1 = \"김민수\" \n",
    "age1 = 10\n",
    "name2 = \"이철희\"\n",
    "age2 = 13\n",
    "print(\"이름: {} 나이: {}\".format(name1, age1))\n",
    "print(\"이름: {} 나이: {}\".format(name2, age2))"
   ]
  },
  {
   "cell_type": "code",
   "execution_count": 26,
   "id": "247956af",
   "metadata": {
    "ExecuteTime": {
     "end_time": "2023-12-10T08:58:51.542811Z",
     "start_time": "2023-12-10T08:58:51.539343Z"
    }
   },
   "outputs": [
    {
     "name": "stdout",
     "output_type": "stream",
     "text": [
      "이름: 김민수 나이: 10\n",
      "이름: 이철희 나이: 13\n"
     ]
    }
   ],
   "source": [
    "#37\n",
    "#f-string 문자열 앞에 f가 붙은 형태입니다.\n",
    "#f-string을 사용하면 `{변수}`와 같은 형태로 문자열 사이에 타입과 상관없이 값을 출력\n",
    "\n",
    "name1 = \"김민수\" \n",
    "age1 = 10\n",
    "name2 = \"이철희\"\n",
    "age2 = 13\n",
    "print(f\"이름: {name1} 나이: {age1}\")\n",
    "print(f\"이름: {name2} 나이: {age2}\")"
   ]
  },
  {
   "cell_type": "code",
   "execution_count": 27,
   "id": "c26aca78",
   "metadata": {
    "ExecuteTime": {
     "end_time": "2023-12-10T09:00:06.066057Z",
     "start_time": "2023-12-10T09:00:06.062321Z"
    }
   },
   "outputs": [
    {
     "name": "stdout",
     "output_type": "stream",
     "text": [
      "5969782550 <class 'int'>\n"
     ]
    }
   ],
   "source": [
    "#38\n",
    "#컴마제거\n",
    "\n",
    "상장주식수 = \"5,969,782,550\"\n",
    "컴마제거 = 상장주식수.replace(\",\", \"\")\n",
    "타입변환 = int(컴마제거)\n",
    "print(타입변환, type(타입변환))"
   ]
  },
  {
   "cell_type": "code",
   "execution_count": 28,
   "id": "d6ec2ed8",
   "metadata": {
    "ExecuteTime": {
     "end_time": "2023-12-10T09:00:31.342083Z",
     "start_time": "2023-12-10T09:00:31.338323Z"
    }
   },
   "outputs": [
    {
     "name": "stdout",
     "output_type": "stream",
     "text": [
      "2020/03\n"
     ]
    }
   ],
   "source": [
    "#39\n",
    "#문자열 슬라이싱\n",
    "\n",
    "분기 = \"2020/03(E) (IFRS연결)\"\n",
    "print(분기[:7])"
   ]
  },
  {
   "cell_type": "code",
   "execution_count": 29,
   "id": "d3bbf25e",
   "metadata": {
    "ExecuteTime": {
     "end_time": "2023-12-10T09:01:03.657941Z",
     "start_time": "2023-12-10T09:01:03.655159Z"
    }
   },
   "outputs": [
    {
     "name": "stdout",
     "output_type": "stream",
     "text": [
      "삼성전자\n"
     ]
    }
   ],
   "source": [
    "#40\n",
    "#strip 메서드\n",
    "#문자열 공백 제거 \n",
    "\n",
    "data = \"   삼성전자    \"\n",
    "data1 = data.strip()\n",
    "print(data1)"
   ]
  },
  {
   "cell_type": "code",
   "execution_count": 30,
   "id": "4e236c8b",
   "metadata": {
    "ExecuteTime": {
     "end_time": "2023-12-10T09:01:28.157778Z",
     "start_time": "2023-12-10T09:01:28.154989Z"
    }
   },
   "outputs": [
    {
     "name": "stdout",
     "output_type": "stream",
     "text": [
      "BTC_KRW\n"
     ]
    }
   ],
   "source": [
    "#41\n",
    "#upper 메서드\n",
    "\n",
    "ticker = \"btc_krw\"\n",
    "ticker1 = ticker.upper()\n",
    "print(ticker1)"
   ]
  },
  {
   "cell_type": "code",
   "execution_count": 31,
   "id": "cbc35472",
   "metadata": {
    "ExecuteTime": {
     "end_time": "2023-12-10T09:01:49.408558Z",
     "start_time": "2023-12-10T09:01:49.405276Z"
    }
   },
   "outputs": [
    {
     "name": "stdout",
     "output_type": "stream",
     "text": [
      "btc_krw\n"
     ]
    }
   ],
   "source": [
    "#42\n",
    "#lower 메서드\n",
    "\n",
    "ticker = \"BTC_KRW\"\n",
    "ticker = ticker.lower()\n",
    "print(ticker)"
   ]
  },
  {
   "cell_type": "code",
   "execution_count": 34,
   "id": "d569f4a3",
   "metadata": {
    "ExecuteTime": {
     "end_time": "2023-12-10T09:02:19.949282Z",
     "start_time": "2023-12-10T09:02:19.946054Z"
    }
   },
   "outputs": [
    {
     "name": "stdout",
     "output_type": "stream",
     "text": [
      "Hello\n"
     ]
    }
   ],
   "source": [
    "#043\n",
    "#capitalize 메서드\n",
    "\n",
    "a = \"hello\"\n",
    "a = a.capitalize()\n",
    "print(a)"
   ]
  },
  {
   "cell_type": "code",
   "execution_count": 35,
   "id": "229cc184",
   "metadata": {
    "ExecuteTime": {
     "end_time": "2023-12-10T09:02:40.130545Z",
     "start_time": "2023-12-10T09:02:40.124538Z"
    }
   },
   "outputs": [
    {
     "data": {
      "text/plain": [
       "True"
      ]
     },
     "execution_count": 35,
     "metadata": {},
     "output_type": "execute_result"
    }
   ],
   "source": [
    "#044\n",
    "#endswith 메서드\n",
    "#파일 이름이 문자열로 저장되어 있을 때 endswith 메서드를 사용해서 파일 이름이 'xlsx'로 끝나는지 확인\n",
    "\n",
    "file_name = \"보고서.xlsx\"\n",
    "file_name.endswith(\"xlsx\")"
   ]
  },
  {
   "cell_type": "code",
   "execution_count": 37,
   "id": "7aa3c588",
   "metadata": {
    "ExecuteTime": {
     "end_time": "2023-12-10T09:03:30.535930Z",
     "start_time": "2023-12-10T09:03:30.532243Z"
    }
   },
   "outputs": [
    {
     "data": {
      "text/plain": [
       "['hello', 'world']"
      ]
     },
     "execution_count": 37,
     "metadata": {},
     "output_type": "execute_result"
    }
   ],
   "source": [
    "#047\n",
    "#split 메서드\n",
    "#다음과 같은 문자열이 있을 때 공백을 기준으로 문자열을 나눠보세요.\n",
    "\n",
    "a = \"hello world\"\n",
    "a.split()"
   ]
  },
  {
   "cell_type": "code",
   "execution_count": 38,
   "id": "ccc16c71",
   "metadata": {
    "ExecuteTime": {
     "end_time": "2023-12-10T09:03:54.827602Z",
     "start_time": "2023-12-10T09:03:54.823531Z"
    }
   },
   "outputs": [
    {
     "data": {
      "text/plain": [
       "['btc', 'krw']"
      ]
     },
     "execution_count": 38,
     "metadata": {},
     "output_type": "execute_result"
    }
   ],
   "source": [
    "#048\n",
    "#split 메서드\n",
    "#다음과 같이 문자열이 있을 때 btc와 krw로 나눠보세요.\n",
    "\n",
    "ticker = \"btc_krw\"\n",
    "ticker.split(\"_\")"
   ]
  },
  {
   "cell_type": "code",
   "execution_count": 39,
   "id": "84e6c888",
   "metadata": {
    "ExecuteTime": {
     "end_time": "2023-12-10T09:04:36.520635Z",
     "start_time": "2023-12-10T09:04:36.517906Z"
    }
   },
   "outputs": [],
   "source": [
    "#050\n",
    "#rstrip 메서드\n",
    "#문자열의 오른쪽에 공백이 있을 때 이를 제거\n",
    "\n",
    "data = \"039490     \"\n",
    "data = data.rstrip()"
   ]
  },
  {
   "cell_type": "code",
   "execution_count": 42,
   "id": "f7a43c74",
   "metadata": {
    "ExecuteTime": {
     "end_time": "2023-12-10T09:05:14.974279Z",
     "start_time": "2023-12-10T09:05:14.971395Z"
    }
   },
   "outputs": [],
   "source": [
    "#051\n",
    "#리스트 생성\n",
    "\n",
    "movie_rank = [\"닥터 스트레인지\", \"스플릿\", \"럭키\"]"
   ]
  },
  {
   "cell_type": "code",
   "execution_count": 43,
   "id": "df63a0bd",
   "metadata": {
    "ExecuteTime": {
     "end_time": "2023-12-10T09:05:29.448335Z",
     "start_time": "2023-12-10T09:05:29.445495Z"
    }
   },
   "outputs": [
    {
     "name": "stdout",
     "output_type": "stream",
     "text": [
      "['닥터 스트레인지', '스플릿', '럭키', '배트맨']\n"
     ]
    }
   ],
   "source": [
    "#052 리스트에 원소 추가\n",
    "#051의 movie_rank 리스트에 \"배트맨\"을 추가하라.\n",
    "\n",
    "movie_rank = [\"닥터 스트레인지\", \"스플릿\", \"럭키\"]\n",
    "movie_rank.append(\"배트맨\")\n",
    "print(movie_rank)"
   ]
  },
  {
   "cell_type": "code",
   "execution_count": 44,
   "id": "9685b830",
   "metadata": {
    "ExecuteTime": {
     "end_time": "2023-12-10T09:06:20.159967Z",
     "start_time": "2023-12-10T09:06:20.156966Z"
    }
   },
   "outputs": [
    {
     "name": "stdout",
     "output_type": "stream",
     "text": [
      "['닥터 스트레인지', '슈퍼맨', '스플릿', '럭키', '배트맨']\n"
     ]
    }
   ],
   "source": [
    "#053\n",
    "#movie_rank 리스트에는 아래와 같이 네 개의 영화 제목이 바인딩되어 있다. \"슈퍼맨\"을 \"닥터 스트레인지\"와 \"스플릿\" 사이에 추가하라.\n",
    "\n",
    "movie_rank = ['닥터 스트레인지', '스플릿', '럭키', '배트맨']\n",
    "movie_rank.insert(1, \"슈퍼맨\")\n",
    "print(movie_rank)"
   ]
  },
  {
   "cell_type": "code",
   "execution_count": 45,
   "id": "739ad843",
   "metadata": {
    "ExecuteTime": {
     "end_time": "2023-12-10T09:06:35.826465Z",
     "start_time": "2023-12-10T09:06:35.823654Z"
    }
   },
   "outputs": [
    {
     "name": "stdout",
     "output_type": "stream",
     "text": [
      "['닥터 스트레인지', '슈퍼맨', '스플릿', '배트맨']\n"
     ]
    }
   ],
   "source": [
    "#054\n",
    "#movie_rank 리스트에서 '럭키'를 삭제하라.\n",
    "\n",
    "movie_rank = ['닥터 스트레인지', '슈퍼맨', '스플릿', '럭키', '배트맨']\n",
    "del movie_rank[3]\n",
    "print(movie_rank)"
   ]
  },
  {
   "cell_type": "code",
   "execution_count": 46,
   "id": "9880cb5f",
   "metadata": {
    "ExecuteTime": {
     "end_time": "2023-12-10T09:10:24.387623Z",
     "start_time": "2023-12-10T09:10:24.384341Z"
    }
   },
   "outputs": [
    {
     "name": "stdout",
     "output_type": "stream",
     "text": [
      "['닥터 스트레인지', '슈퍼맨']\n"
     ]
    }
   ],
   "source": [
    "#055\n",
    "#movie_rank 리스트에서 '스플릿' 과 '배트맨'을 를 삭제하라.\n",
    "\n",
    "movie_rank = ['닥터 스트레인지', '슈퍼맨', '스플릿', '배트맨']\n",
    "del movie_rank[2]\n",
    "del movie_rank[2]\n",
    "print(movie_rank)"
   ]
  },
  {
   "cell_type": "code",
   "execution_count": 48,
   "id": "24162f19",
   "metadata": {
    "ExecuteTime": {
     "end_time": "2023-12-10T09:10:53.279812Z",
     "start_time": "2023-12-10T09:10:53.276748Z"
    }
   },
   "outputs": [
    {
     "name": "stdout",
     "output_type": "stream",
     "text": [
      "['C', 'C++', 'JAVA', 'Python', 'Go', 'C#']\n"
     ]
    }
   ],
   "source": [
    "#056\n",
    "#lang1과 lang2 리스트가 있을 때 lang1과 lang2의 원소를 모두 갖고 있는 langs 리스트를 만들어라.\n",
    "\n",
    "lang1 = [\"C\", \"C++\", \"JAVA\"]\n",
    "lang2 = [\"Python\", \"Go\", \"C#\"]\n",
    "langs = lang1 + lang2\n",
    "print(langs)"
   ]
  },
  {
   "cell_type": "code",
   "execution_count": 50,
   "id": "32066a3d",
   "metadata": {
    "ExecuteTime": {
     "end_time": "2023-12-10T09:11:10.330340Z",
     "start_time": "2023-12-10T09:11:10.326431Z"
    }
   },
   "outputs": [
    {
     "name": "stdout",
     "output_type": "stream",
     "text": [
      "max:  7\n",
      "min:  1\n"
     ]
    }
   ],
   "source": [
    "#057\n",
    "#다음 리스트에서 최댓값과 최솟값을 출력하라. (힌트: min(), max() 함수 사용)\n",
    "\n",
    "nums = [1, 2, 3, 4, 5, 6, 7]\n",
    "print(\"max: \", max(nums))\n",
    "print(\"min: \", min(nums))"
   ]
  },
  {
   "cell_type": "code",
   "execution_count": 51,
   "id": "b40c939a",
   "metadata": {
    "ExecuteTime": {
     "end_time": "2023-12-10T09:11:28.028695Z",
     "start_time": "2023-12-10T09:11:28.025578Z"
    }
   },
   "outputs": [
    {
     "name": "stdout",
     "output_type": "stream",
     "text": [
      "15\n"
     ]
    }
   ],
   "source": [
    "#058\n",
    "#다음 리스트의 합을 출력하라.\n",
    "\n",
    "nums = [1, 2, 3, 4, 5]\n",
    "print(sum(nums))"
   ]
  },
  {
   "cell_type": "code",
   "execution_count": 52,
   "id": "c905a3d9",
   "metadata": {
    "ExecuteTime": {
     "end_time": "2023-12-10T09:11:43.560291Z",
     "start_time": "2023-12-10T09:11:43.556345Z"
    }
   },
   "outputs": [
    {
     "name": "stdout",
     "output_type": "stream",
     "text": [
      "12\n"
     ]
    }
   ],
   "source": [
    "#059\n",
    "#다음 리스트에 저장된 데이터의 개수를 화면에 구하하라.\n",
    "\n",
    "cook = [\"피자\", \"김밥\", \"만두\", \"양념치킨\", \"족발\", \"피자\", \"김치만두\", \"쫄면\", \"소시지\", \"라면\", \"팥빙수\", \"김치전\"]\n",
    "print(len(cook))"
   ]
  },
  {
   "cell_type": "code",
   "execution_count": 53,
   "id": "bd444c96",
   "metadata": {
    "ExecuteTime": {
     "end_time": "2023-12-10T09:11:57.169261Z",
     "start_time": "2023-12-10T09:11:57.166322Z"
    }
   },
   "outputs": [
    {
     "name": "stdout",
     "output_type": "stream",
     "text": [
      "3.0\n"
     ]
    }
   ],
   "source": [
    "#060\n",
    "#다음 리스트의 평균을 출력하라.\n",
    "\n",
    "nums = [1, 2, 3, 4, 5]\n",
    "average = sum(nums) / len(nums)\n",
    "print(average)"
   ]
  },
  {
   "cell_type": "code",
   "execution_count": 55,
   "id": "ca3c1846",
   "metadata": {
    "ExecuteTime": {
     "end_time": "2023-12-10T09:12:28.054168Z",
     "start_time": "2023-12-10T09:12:28.050523Z"
    }
   },
   "outputs": [
    {
     "name": "stdout",
     "output_type": "stream",
     "text": [
      "[100, 130, 140, 150, 160, 170]\n"
     ]
    }
   ],
   "source": [
    "#061\n",
    "#price 변수에는 날짜와 종가 정보가 저장돼 있다. 날짜 정보를 제외하고 가격 정보만을 출력하라. (힌트 : 슬라이싱)\n",
    "\n",
    "price = ['20180728', 100, 130, 140, 150, 160, 170]\n",
    "print(price[1:])"
   ]
  },
  {
   "cell_type": "code",
   "execution_count": 56,
   "id": "999dc559",
   "metadata": {
    "ExecuteTime": {
     "end_time": "2023-12-10T09:12:53.176886Z",
     "start_time": "2023-12-10T09:12:53.173858Z"
    }
   },
   "outputs": [
    {
     "name": "stdout",
     "output_type": "stream",
     "text": [
      "[1, 3, 5, 7, 9]\n"
     ]
    }
   ],
   "source": [
    "#062\n",
    "#슬라이싱을 사용해서 홀수만 출력하라.\n",
    "\n",
    "nums = [1, 2, 3, 4, 5, 6, 7, 8, 9, 10]\n",
    "print(nums[::2])"
   ]
  },
  {
   "cell_type": "code",
   "execution_count": 57,
   "id": "ac07cf0e",
   "metadata": {
    "ExecuteTime": {
     "end_time": "2023-12-10T09:13:15.004894Z",
     "start_time": "2023-12-10T09:13:15.001078Z"
    }
   },
   "outputs": [
    {
     "name": "stdout",
     "output_type": "stream",
     "text": [
      "[2, 4, 6, 8, 10]\n"
     ]
    }
   ],
   "source": [
    "#063\n",
    "#슬라이싱을 사용해서 짝수만 출력하라.\n",
    "\n",
    "nums = [1, 2, 3, 4, 5, 6, 7, 8, 9, 10]\n",
    "print(nums[1::2])"
   ]
  },
  {
   "cell_type": "code",
   "execution_count": 58,
   "id": "86fa3eb3",
   "metadata": {
    "ExecuteTime": {
     "end_time": "2023-12-10T09:13:35.143393Z",
     "start_time": "2023-12-10T09:13:35.139961Z"
    }
   },
   "outputs": [
    {
     "name": "stdout",
     "output_type": "stream",
     "text": [
      "[5, 4, 3, 2, 1]\n"
     ]
    }
   ],
   "source": [
    "#064\n",
    "#슬라이싱을 사용해서 리스트의 숫자를 역 방향으로 출력하라.\n",
    "\n",
    "nums = [1, 2, 3, 4, 5]\n",
    "print(nums[::-1])"
   ]
  },
  {
   "cell_type": "code",
   "execution_count": 59,
   "id": "a0b4e886",
   "metadata": {
    "ExecuteTime": {
     "end_time": "2023-12-10T09:13:55.418215Z",
     "start_time": "2023-12-10T09:13:55.414488Z"
    }
   },
   "outputs": [
    {
     "name": "stdout",
     "output_type": "stream",
     "text": [
      "삼성전자 Naver\n"
     ]
    }
   ],
   "source": [
    "#065\n",
    "#interest 리스트에는 아래의 데이터가 바인딩되어 있다.\n",
    "\n",
    "interest = ['삼성전자', 'LG전자', 'Naver']\n",
    "print(interest[0], interest[2])"
   ]
  },
  {
   "cell_type": "code",
   "execution_count": 60,
   "id": "3230291f",
   "metadata": {
    "ExecuteTime": {
     "end_time": "2023-12-10T09:15:36.513064Z",
     "start_time": "2023-12-10T09:15:36.510063Z"
    }
   },
   "outputs": [
    {
     "name": "stdout",
     "output_type": "stream",
     "text": [
      "삼성전자 LG전자 Naver SK하이닉스 미래에셋대우\n"
     ]
    }
   ],
   "source": [
    "#066 \n",
    "#join 메서드\n",
    "\n",
    "interest = ['삼성전자', 'LG전자', 'Naver', 'SK하이닉스', '미래에셋대우']\n",
    "print(\" \".join(interest))"
   ]
  },
  {
   "cell_type": "code",
   "execution_count": 61,
   "id": "e9c1ac46",
   "metadata": {
    "ExecuteTime": {
     "end_time": "2023-12-10T09:16:08.789177Z",
     "start_time": "2023-12-10T09:16:08.786800Z"
    }
   },
   "outputs": [
    {
     "name": "stdout",
     "output_type": "stream",
     "text": [
      "삼성전자/LG전자/Naver/SK하이닉스/미래에셋대우\n"
     ]
    }
   ],
   "source": [
    "#067\n",
    "#join 메서드\n",
    "\n",
    "interest = ['삼성전자', 'LG전자', 'Naver', 'SK하이닉스', '미래에셋대우']\n",
    "print(\"/\".join(interest))"
   ]
  },
  {
   "cell_type": "code",
   "execution_count": 62,
   "id": "a8cbd643",
   "metadata": {
    "ExecuteTime": {
     "end_time": "2023-12-10T09:16:29.240569Z",
     "start_time": "2023-12-10T09:16:29.236790Z"
    }
   },
   "outputs": [
    {
     "name": "stdout",
     "output_type": "stream",
     "text": [
      "삼성전자\n",
      "LG전자\n",
      "Naver\n",
      "SK하이닉스\n",
      "미래에셋대우\n"
     ]
    }
   ],
   "source": [
    "#068\n",
    "#join 메서드\n",
    "\n",
    "interest = ['삼성전자', 'LG전자', 'Naver', 'SK하이닉스', '미래에셋대우']\n",
    "print(\"\\n\".join(interest))"
   ]
  },
  {
   "cell_type": "code",
   "execution_count": 63,
   "id": "f3009df9",
   "metadata": {
    "ExecuteTime": {
     "end_time": "2023-12-10T09:18:02.525820Z",
     "start_time": "2023-12-10T09:18:02.522813Z"
    }
   },
   "outputs": [
    {
     "name": "stdout",
     "output_type": "stream",
     "text": [
      "['삼성전자', 'LG전자', 'Naver']\n"
     ]
    }
   ],
   "source": [
    "#069\n",
    "#문자열 split 메서드\n",
    "\n",
    "string = \"삼성전자/LG전자/Naver\"\n",
    "interest = string.split(\"/\")\n",
    "print(interest)"
   ]
  },
  {
   "cell_type": "code",
   "execution_count": 64,
   "id": "83bf7539",
   "metadata": {
    "ExecuteTime": {
     "end_time": "2023-12-10T09:18:28.329818Z",
     "start_time": "2023-12-10T09:18:28.326510Z"
    }
   },
   "outputs": [
    {
     "name": "stdout",
     "output_type": "stream",
     "text": [
      "[1, 2, 3, 4, 5, 9, 10]\n"
     ]
    }
   ],
   "source": [
    "#070 리스트 정렬\n",
    "#리스트에 있는 값을 오름차순으로 정렬하세요.\n",
    "\n",
    "data = [2, 4, 3, 1, 5, 10, 9]\n",
    "data.sort()\n",
    "print(data)"
   ]
  },
  {
   "cell_type": "code",
   "execution_count": 65,
   "id": "661fc6e1",
   "metadata": {
    "ExecuteTime": {
     "end_time": "2023-12-10T09:18:31.529928Z",
     "start_time": "2023-12-10T09:18:31.526974Z"
    }
   },
   "outputs": [
    {
     "name": "stdout",
     "output_type": "stream",
     "text": [
      "[1, 2, 3, 4, 5, 9, 10]\n"
     ]
    }
   ],
   "source": [
    "data = [2, 4, 3, 1, 5, 10, 9]\n",
    "data2 = sorted(data)\n",
    "print(data2)"
   ]
  },
  {
   "cell_type": "code",
   "execution_count": 66,
   "id": "97cf8148",
   "metadata": {
    "ExecuteTime": {
     "end_time": "2023-12-10T09:21:01.408084Z",
     "start_time": "2023-12-10T09:21:01.405240Z"
    }
   },
   "outputs": [
    {
     "name": "stdout",
     "output_type": "stream",
     "text": [
      "<class 'tuple'>\n"
     ]
    }
   ],
   "source": [
    "#071\n",
    "#my_variable 이름의 비어있는 튜플을 만들라.\n",
    "\n",
    "my_variable = ()\n",
    "print(type(my_variable))"
   ]
  },
  {
   "cell_type": "code",
   "execution_count": 68,
   "id": "67d51abc",
   "metadata": {
    "ExecuteTime": {
     "end_time": "2023-12-10T09:22:22.003569Z",
     "start_time": "2023-12-10T09:22:22.000395Z"
    }
   },
   "outputs": [
    {
     "data": {
      "text/plain": [
       "int"
      ]
     },
     "execution_count": 68,
     "metadata": {},
     "output_type": "execute_result"
    }
   ],
   "source": [
    "#073\n",
    "#숫자 1 이 저장된 튜플을 생성하라.\n",
    "\n",
    "my_tuple = (1)\n",
    "type (my_tuple)"
   ]
  },
  {
   "cell_type": "code",
   "execution_count": 69,
   "id": "d3c5811a",
   "metadata": {
    "ExecuteTime": {
     "end_time": "2023-12-10T09:22:28.708125Z",
     "start_time": "2023-12-10T09:22:28.705571Z"
    }
   },
   "outputs": [],
   "source": [
    "my_tuple = (1, )"
   ]
  },
  {
   "cell_type": "code",
   "execution_count": 71,
   "id": "71e177a9",
   "metadata": {
    "ExecuteTime": {
     "end_time": "2023-12-10T09:23:05.570867Z",
     "start_time": "2023-12-10T09:23:05.566937Z"
    }
   },
   "outputs": [
    {
     "data": {
      "text/plain": [
       "tuple"
      ]
     },
     "execution_count": 71,
     "metadata": {},
     "output_type": "execute_result"
    }
   ],
   "source": [
    "t = 1, 2, 3, 4\n",
    "type(t)"
   ]
  },
  {
   "cell_type": "code",
   "execution_count": 75,
   "id": "6ef2976b",
   "metadata": {
    "ExecuteTime": {
     "end_time": "2023-12-10T09:24:14.053663Z",
     "start_time": "2023-12-10T09:24:14.049214Z"
    }
   },
   "outputs": [
    {
     "data": {
      "text/plain": [
       "list"
      ]
     },
     "execution_count": 75,
     "metadata": {},
     "output_type": "execute_result"
    }
   ],
   "source": [
    "#077\n",
    "#다음 튜플을 리스트로 변환하라.\n",
    "\n",
    "interest = ('삼성전자', 'LG전자', 'SK Hynix')\n",
    "data = list(interest)\n",
    "type(data)"
   ]
  },
  {
   "cell_type": "code",
   "execution_count": 77,
   "id": "3d02dd9c",
   "metadata": {
    "ExecuteTime": {
     "end_time": "2023-12-10T09:24:47.004598Z",
     "start_time": "2023-12-10T09:24:47.000584Z"
    }
   },
   "outputs": [
    {
     "data": {
      "text/plain": [
       "tuple"
      ]
     },
     "execution_count": 77,
     "metadata": {},
     "output_type": "execute_result"
    }
   ],
   "source": [
    "#078\n",
    "#다음 리스트를 튜플로 변경하라.\n",
    "\n",
    "interest = ['삼성전자', 'LG전자', 'SK Hynix']\n",
    "data = tuple(interest)\n",
    "type(data)"
   ]
  },
  {
   "cell_type": "code",
   "execution_count": 78,
   "id": "f775f55f",
   "metadata": {
    "ExecuteTime": {
     "end_time": "2023-12-10T09:25:14.741215Z",
     "start_time": "2023-12-10T09:25:14.738124Z"
    }
   },
   "outputs": [
    {
     "name": "stdout",
     "output_type": "stream",
     "text": [
      "(2, 4, 6, 8, 10, 12, 14, 16, 18, 20, 22, 24, 26, 28, 30, 32, 34, 36, 38, 40, 42, 44, 46, 48, 50, 52, 54, 56, 58, 60, 62, 64, 66, 68, 70, 72, 74, 76, 78, 80, 82, 84, 86, 88, 90, 92, 94, 96, 98)\n"
     ]
    }
   ],
   "source": [
    "#080 range 함수\n",
    "#1 부터 99까지의 정수 중 짝수만 저장된 튜플을 생성하라.\n",
    "\n",
    "data = tuple(range(2, 100, 2))\n",
    "print( data )"
   ]
  },
  {
   "cell_type": "code",
   "execution_count": 9,
   "id": "5286aa39",
   "metadata": {
    "ExecuteTime": {
     "end_time": "2023-12-04T07:31:17.070742Z",
     "start_time": "2023-12-04T07:31:17.066725Z"
    }
   },
   "outputs": [
    {
     "name": "stdout",
     "output_type": "stream",
     "text": [
      "좌측8개값 구하기\n",
      "star_expression\n",
      "[8.8, 8.9, 8.7, 9.2, 9.3, 9.7, 9.9, 9.5]\n",
      "indexing\n",
      "[8.8, 8.9, 8.7, 9.2, 9.3, 9.7, 9.9]\n",
      "우측8개값 구하기\n",
      "star_expression:[8.7, 9.2, 9.3, 9.7, 9.9, 9.5, 7.8, 9.4]\n",
      "indexing:[8.7, 9.2, 9.3, 9.7, 9.9, 9.5, 7.8, 9.4]\n",
      "중앙8개값 구하기\n",
      "star_expression:[8.9, 8.7, 9.2, 9.3, 9.7, 9.9, 9.5, 7.8]\n",
      "indexing:[8.9, 8.7, 9.2, 9.3, 9.7, 9.9, 9.5, 7.8]\n"
     ]
    }
   ],
   "source": [
    "# 81~83, 굳이 star expression을 쓰지 않아도 되지만, 경우에따라 적용\n",
    "\n",
    "scores = [8.8, 8.9, 8.7, 9.2, 9.3, 9.7, 9.9, 9.5, 7.8, 9.4]\n",
    "*Left_8, _, _ = scores\n",
    "print(f'좌측8개값 구하기\\nstar_expression\\n{Left_8}\\nindexing\\n{scores[:-3]}')\n",
    "_,_,*Right_8 = scores\n",
    "print(f'우측8개값 구하기\\nstar_expression:{Right_8}\\nindexing:{scores[2:]}')\n",
    "_, *mid_8, _ = scores\n",
    "print(f'중앙8개값 구하기\\nstar_expression:{mid_8}\\nindexing:{scores[1:-1]}')"
   ]
  },
  {
   "cell_type": "code",
   "execution_count": 79,
   "id": "01d556fe",
   "metadata": {
    "ExecuteTime": {
     "end_time": "2023-12-10T09:26:46.266750Z",
     "start_time": "2023-12-10T09:26:46.262631Z"
    }
   },
   "outputs": [
    {
     "data": {
      "text/plain": [
       "dict"
      ]
     },
     "execution_count": 79,
     "metadata": {},
     "output_type": "execute_result"
    }
   ],
   "source": [
    "#084\n",
    "#비어있는 딕셔너리\n",
    "#temp 이름의 비어있는 딕셔너리를 만들라.\n",
    "\n",
    "temp={}\n",
    "type(temp)"
   ]
  },
  {
   "cell_type": "code",
   "execution_count": 80,
   "id": "478e5059",
   "metadata": {
    "ExecuteTime": {
     "end_time": "2023-12-10T09:27:02.661094Z",
     "start_time": "2023-12-10T09:27:02.657179Z"
    }
   },
   "outputs": [
    {
     "name": "stdout",
     "output_type": "stream",
     "text": [
      "{'메로나': 1000, '폴라포': 1200, '빵빠레': 1800}\n"
     ]
    }
   ],
   "source": [
    "#085\n",
    "#다음 아이스크림 이름과 희망 가격을 딕셔너리로 구성하라.\n",
    "\n",
    "ice = {\"메로나\": 1000, \"폴라포\": 1200, \"빵빠레\": 1800}\n",
    "print(ice)"
   ]
  },
  {
   "cell_type": "code",
   "execution_count": 82,
   "id": "4f162113",
   "metadata": {
    "ExecuteTime": {
     "end_time": "2023-12-10T09:28:24.952876Z",
     "start_time": "2023-12-10T09:28:24.949536Z"
    }
   },
   "outputs": [
    {
     "name": "stdout",
     "output_type": "stream",
     "text": [
      "메로나 가격:  1000\n"
     ]
    }
   ],
   "source": [
    "#087\n",
    "#다음 딕셔너리를 사용하여 메로나 가격을 출력하라.\n",
    "\n",
    "ice = {'메로나': 1000,\n",
    "       '폴로포': 1200,\n",
    "       '빵빠레': 1800,\n",
    "       '죠스바': 1200,\n",
    "       '월드콘': 1500}\n",
    "\n",
    "print(\"메로나 가격: \", ice[\"메로나\"])"
   ]
  },
  {
   "cell_type": "code",
   "execution_count": 85,
   "id": "be8cfc50",
   "metadata": {
    "ExecuteTime": {
     "end_time": "2023-12-10T09:29:03.782271Z",
     "start_time": "2023-12-10T09:29:03.778754Z"
    }
   },
   "outputs": [
    {
     "name": "stdout",
     "output_type": "stream",
     "text": [
      "메로나 가격:  1300\n"
     ]
    }
   ],
   "source": [
    "#088\n",
    "#다음 딕셔너리에서 메로나의 가격을 1300으로 수정하라.\n",
    "\n",
    "ice[\"메로나\"] = 1300\n",
    "print(\"메로나 가격: \", ice[\"메로나\"])"
   ]
  },
  {
   "cell_type": "code",
   "execution_count": 86,
   "id": "8b57a79e",
   "metadata": {
    "ExecuteTime": {
     "end_time": "2023-12-10T09:29:38.771602Z",
     "start_time": "2023-12-10T09:29:38.768824Z"
    }
   },
   "outputs": [
    {
     "name": "stdout",
     "output_type": "stream",
     "text": [
      "{'폴로포': 1200, '빵빠레': 1800, '죠스바': 1200, '월드콘': 1500}\n"
     ]
    }
   ],
   "source": [
    "#089\n",
    "#다음 딕셔너리에서 메로나를 삭제하라.\n",
    "\n",
    "del ice[\"메로나\"]\n",
    "print(ice)"
   ]
  },
  {
   "cell_type": "code",
   "execution_count": 87,
   "id": "d10306f3",
   "metadata": {
    "ExecuteTime": {
     "end_time": "2023-12-10T09:30:49.157655Z",
     "start_time": "2023-12-10T09:30:49.154680Z"
    }
   },
   "outputs": [
    {
     "name": "stdout",
     "output_type": "stream",
     "text": [
      "300 원\n"
     ]
    }
   ],
   "source": [
    "#092 딕셔너리 인덱싱\n",
    "#inventory 딕셔너리에서 메로나의 가격을 화면에 출력하라.\n",
    "\n",
    "inventory = {\"메로나\": [300, 20],\n",
    "              \"비비빅\": [400, 3],\n",
    "              \"죠스바\": [250, 100]}\n",
    "\n",
    "print(inventory[\"메로나\"][0], \"원\")"
   ]
  },
  {
   "cell_type": "code",
   "execution_count": 88,
   "id": "628642e7",
   "metadata": {
    "ExecuteTime": {
     "end_time": "2023-12-10T09:31:12.256573Z",
     "start_time": "2023-12-10T09:31:12.253663Z"
    }
   },
   "outputs": [
    {
     "name": "stdout",
     "output_type": "stream",
     "text": [
      "20 개\n"
     ]
    }
   ],
   "source": [
    "#093 딕셔너리 인덱싱\n",
    "#inventory 딕셔너리에서 메로나의 재고를 화면에 출력하라.\n",
    "\n",
    "print(inventory[\"메로나\"][1], \"개\")"
   ]
  },
  {
   "cell_type": "code",
   "execution_count": 89,
   "id": "38880acb",
   "metadata": {
    "ExecuteTime": {
     "end_time": "2023-12-10T09:32:08.001620Z",
     "start_time": "2023-12-10T09:32:07.997488Z"
    }
   },
   "outputs": [
    {
     "name": "stdout",
     "output_type": "stream",
     "text": [
      "['탱크보이', '폴라포', '빵빠레', '월드콘', '메로나']\n"
     ]
    }
   ],
   "source": [
    "#095 딕셔너리 keys() 메서드\n",
    "#다음의 딕셔너리로부터 key 값으로만 구성된 리스트를 생성하라.\n",
    "\n",
    "icecream = {'탱크보이': 1200, '폴라포': 1200, '빵빠레': 1800, '월드콘': 1500, '메로나': 1000}\n",
    "ice = list(icecream.keys())\n",
    "print(ice)"
   ]
  },
  {
   "cell_type": "code",
   "execution_count": 90,
   "id": "e0918351",
   "metadata": {
    "ExecuteTime": {
     "end_time": "2023-12-10T09:32:48.935325Z",
     "start_time": "2023-12-10T09:32:48.931853Z"
    }
   },
   "outputs": [
    {
     "name": "stdout",
     "output_type": "stream",
     "text": [
      "6700\n"
     ]
    }
   ],
   "source": [
    "#097 딕셔너리 values() 메서드\n",
    "#icecream 딕셔너리에서 아이스크림 판매 금액의 총합을 출력하라.\n",
    "\n",
    "icecream = {'탱크보이': 1200, '폴라포': 1200, '빵빠레': 1800, '월드콘': 1500, '메로나': 1000}\n",
    "print(sum(icecream.values()))"
   ]
  },
  {
   "cell_type": "code",
   "execution_count": 91,
   "id": "e277d587",
   "metadata": {
    "ExecuteTime": {
     "end_time": "2023-12-10T09:33:15.323227Z",
     "start_time": "2023-12-10T09:33:15.319269Z"
    }
   },
   "outputs": [
    {
     "name": "stdout",
     "output_type": "stream",
     "text": [
      "{'탱크보이': 1200, '폴라포': 1200, '빵빠레': 1800, '월드콘': 1500, '메로나': 1000, '팥빙수': 2700, '아맛나': 1000}\n"
     ]
    }
   ],
   "source": [
    "#098 딕셔너리 update 메서드\n",
    "#아래의 new_product 딕셔너리를 다음 icecream 딕셔너리에 추가하라.\n",
    "\n",
    "icecream = {'탱크보이': 1200, '폴라포': 1200, '빵빠레': 1800, '월드콘': 1500, '메로나': 1000}\n",
    "new_product = {'팥빙수':2700, '아맛나':1000}\n",
    "icecream.update(new_product)\n",
    "print(icecream)"
   ]
  },
  {
   "cell_type": "code",
   "execution_count": 43,
   "id": "a8fc9f14",
   "metadata": {
    "ExecuteTime": {
     "end_time": "2023-11-27T11:13:45.097527Z",
     "start_time": "2023-11-27T11:13:45.092502Z"
    },
    "scrolled": true
   },
   "outputs": [
    {
     "name": "stdout",
     "output_type": "stream",
     "text": [
      "{'apple': 300, 'pear': 250, 'peach': 400}\n",
      "{'09/05': 10500, '09/06': 10300, '09/07': 10100, '09/08': 10800, '09/09': 11000}\n"
     ]
    }
   ],
   "source": [
    "#99 ~ 100\n",
    "#아래 두 개의 튜플을 하나의 딕셔너리로 변환하라.\n",
    "#keys를 키로, vals를 값으로 result 이름의 딕셔너리로 저장한다.\n",
    "#zip은 결합, 새로운 객체 생성, for문 등 다양하게 쓰이니 기본적인 개념은 알아두기\n",
    "\n",
    "keys = (\"apple\", \"pear\", \"peach\")\n",
    "vals = (300, 250, 400)\n",
    "result = dict(zip(keys, vals))\n",
    "print(result)\n",
    "\n",
    "date = ['09/05', '09/06', '09/07', '09/08', '09/09']\n",
    "close_price = [10500, 10300, 10100, 10800, 11000]\n",
    "close_table = dict(zip(date, close_price))\n",
    "print(close_table)\n",
    "\n",
    "#dict가 아니라 list, tuple로도 가능함"
   ]
  },
  {
   "cell_type": "code",
   "execution_count": 92,
   "id": "466b571c",
   "metadata": {
    "ExecuteTime": {
     "end_time": "2023-12-10T09:36:43.736366Z",
     "start_time": "2023-12-10T09:36:43.733944Z"
    }
   },
   "outputs": [
    {
     "name": "stdout",
     "output_type": "stream",
     "text": [
      "False\n"
     ]
    }
   ],
   "source": [
    "#102\n",
    "#아래 코드의 출력 결과를 예상하라\n",
    "\n",
    "print(3 == 5)"
   ]
  },
  {
   "cell_type": "code",
   "execution_count": 93,
   "id": "8eafbd40",
   "metadata": {
    "ExecuteTime": {
     "end_time": "2023-12-10T09:37:02.051007Z",
     "start_time": "2023-12-10T09:37:02.048182Z"
    }
   },
   "outputs": [
    {
     "name": "stdout",
     "output_type": "stream",
     "text": [
      "True\n"
     ]
    }
   ],
   "source": [
    "#105\n",
    "#아래 코드의 결과를 예상하라.\n",
    "\n",
    "print ((3 == 3) and (4 != 3))"
   ]
  },
  {
   "cell_type": "code",
   "execution_count": 95,
   "id": "0b1c0033",
   "metadata": {
    "ExecuteTime": {
     "end_time": "2023-12-10T09:37:22.654246Z",
     "start_time": "2023-12-10T09:37:22.651244Z"
    }
   },
   "outputs": [
    {
     "name": "stdout",
     "output_type": "stream",
     "text": [
      "Hi, there.\n"
     ]
    }
   ],
   "source": [
    "#108\n",
    "#아래 코드의 출력 결과를 예상하라\n",
    "\n",
    "if 4 < 3:\n",
    "    print(\"Hello World.\")\n",
    "else:\n",
    "    print(\"Hi, there.\")"
   ]
  },
  {
   "cell_type": "code",
   "execution_count": null,
   "id": "6b1daa3a",
   "metadata": {},
   "outputs": [],
   "source": [
    "#109\n",
    "#아래 코드의 출력 결과를 예상하라\n",
    "\n",
    "if True :      \n",
    "    if False:        \n",
    "        print(\"1\")       \n",
    "        print(\"2\")      \n",
    "    else:      \n",
    "        print(\"3\")      \n",
    "else :      \n",
    "    print(\"4\")      \n",
    "print(\"5\")      "
   ]
  },
  {
   "cell_type": "markdown",
   "id": "de4ecffa",
   "metadata": {},
   "source": [
    "3   \n",
    "5"
   ]
  },
  {
   "cell_type": "code",
   "execution_count": 1,
   "id": "3960a50b",
   "metadata": {
    "ExecuteTime": {
     "end_time": "2023-11-28T10:57:49.681060Z",
     "start_time": "2023-11-28T10:57:42.893029Z"
    }
   },
   "outputs": [
    {
     "name": "stdout",
     "output_type": "stream",
     "text": [
      "입력:안녕하세요\n",
      "안녕하세요안녕하세요\n"
     ]
    }
   ],
   "source": [
    "#111\n",
    "#사용자로부터 입력받은 문자열을 두 번 출력하라. 아래는 사용자가 \"안녕하세요\"를 입력한 경우의 출력 결과이다.\n",
    "\n",
    "user = input(\"입력:\")\n",
    "print(user * 2)"
   ]
  },
  {
   "cell_type": "code",
   "execution_count": 96,
   "id": "dff7ab9d",
   "metadata": {
    "ExecuteTime": {
     "end_time": "2023-12-10T09:39:41.263709Z",
     "start_time": "2023-12-10T09:39:30.813369Z"
    }
   },
   "outputs": [
    {
     "name": "stdout",
     "output_type": "stream",
     "text": [
      "숫자를 입력하세요: 2\n",
      "12\n"
     ]
    }
   ],
   "source": [
    "#112\n",
    "#사용자로부터 하나의 숫자를 입력받고, 입력 받은 숫자에 10을 더해 출력하라.\n",
    "\n",
    "user = input(\"숫자를 입력하세요: \")\n",
    "print(10 + int(user))"
   ]
  },
  {
   "cell_type": "code",
   "execution_count": 97,
   "id": "29c3abb1",
   "metadata": {
    "ExecuteTime": {
     "end_time": "2023-12-10T09:39:56.881176Z",
     "start_time": "2023-12-10T09:39:54.112743Z"
    }
   },
   "outputs": [
    {
     "name": "stdout",
     "output_type": "stream",
     "text": [
      "5\n",
      "홀수\n"
     ]
    }
   ],
   "source": [
    "# 113\n",
    "#사용자로부터 하나의 숫자를 입력 받고 짝수/홀수를 판별하라.\n",
    "\n",
    "user = input(\"\")\n",
    "if int(user) % 2 == 0:\n",
    "    print(\"짝수\")\n",
    "else:\n",
    "    print(\"홀수\")"
   ]
  },
  {
   "cell_type": "code",
   "execution_count": 98,
   "id": "ee4b0af5",
   "metadata": {
    "ExecuteTime": {
     "end_time": "2023-12-10T09:46:13.879696Z",
     "start_time": "2023-12-10T09:46:10.959528Z"
    }
   },
   "outputs": [
    {
     "name": "stdout",
     "output_type": "stream",
     "text": [
      "입력값: 260\n",
      "255\n"
     ]
    }
   ],
   "source": [
    "# 114\n",
    "#사용자로부터 값을 입력받은 후 해당 값에 20을 더한 값을 출력하라. 단 사용자가 입력한 값과 20을 더한 계산 값이 255를 초과하는 경우 255를 출력해야 한다.\n",
    "\n",
    "user = input(\"입력값: \")\n",
    "num = 20 + int(user)\n",
    "if num > 255:\n",
    "    print(255)\n",
    "else:\n",
    "    print(num)"
   ]
  },
  {
   "cell_type": "code",
   "execution_count": 100,
   "id": "37b6170c",
   "metadata": {
    "ExecuteTime": {
     "end_time": "2023-12-10T09:47:07.278937Z",
     "start_time": "2023-12-10T09:47:05.511142Z"
    }
   },
   "outputs": [
    {
     "name": "stdout",
     "output_type": "stream",
     "text": [
      "입력값: 260\n",
      "240\n"
     ]
    }
   ],
   "source": [
    "#115\n",
    "\n",
    "user = input(\"입력값: \")\n",
    "num = int(user) - 20\n",
    "if num > 255:\n",
    "    print(255)\n",
    "elif num < 0:\n",
    "    print(0)\n",
    "else:\n",
    "    print(num)\n",
    "    \n",
    "\n",
    "#elif 2개 이상 넣을 수 있음. 그때부터는 2순위 3순위 4순위로 밀리는 것임\n",
    "#255를 넘기는 값들은 255로 통일시켜 나오게 해.\n",
    "#0보다 작은 것도 출력 안 시킬거야. 0보다 작으면 모두 0으로 나오게.\n",
    "#0부터 255사이의 값만 남으면 그때는 이걸 출력해"
   ]
  },
  {
   "cell_type": "code",
   "execution_count": 102,
   "id": "a06dd4df",
   "metadata": {
    "ExecuteTime": {
     "end_time": "2023-12-10T09:47:45.381020Z",
     "start_time": "2023-12-10T09:47:43.597217Z"
    }
   },
   "outputs": [
    {
     "name": "stdout",
     "output_type": "stream",
     "text": [
      "현재시간: 10\n",
      "정각이 아닙니다.\n"
     ]
    }
   ],
   "source": [
    "#116\n",
    "#사용자로부터 입력 받은 시간이 정각인지 판별하라.\n",
    "\n",
    "time = input(\"현재시간: \")\n",
    "if time[-2:] == \"00\":\n",
    "    print(\"정각 입니다.\")\n",
    "else:\n",
    "    print(\"정각이 아닙니다.\")"
   ]
  },
  {
   "cell_type": "code",
   "execution_count": 103,
   "id": "d26d6048",
   "metadata": {
    "ExecuteTime": {
     "end_time": "2023-12-10T09:48:14.801702Z",
     "start_time": "2023-12-10T09:48:11.745095Z"
    }
   },
   "outputs": [
    {
     "name": "stdout",
     "output_type": "stream",
     "text": [
      "좋아하는 과일은?포도\n",
      "정답입니다.\n"
     ]
    }
   ],
   "source": [
    "#117\n",
    "#사용자로 입력받은 단어가 아래 fruit 리스트에 포함되어 있는지를 확인하라. 포함되었다면 \"정답입니다\"를 아닐 경우 \"오답입니다\" 출력하라.\n",
    "\n",
    "fruit = [\"사과\", \"포도\", \"홍시\"]\n",
    "user = input(\"좋아하는 과일은?\")\n",
    "if user in fruit:\n",
    "    print(\"정답입니다.\")\n",
    "else:\n",
    "    print(\"오답입니다.\")"
   ]
  },
  {
   "cell_type": "code",
   "execution_count": 104,
   "id": "1594da17",
   "metadata": {
    "ExecuteTime": {
     "end_time": "2023-12-10T09:48:50.407111Z",
     "start_time": "2023-12-10T09:48:46.878302Z"
    }
   },
   "outputs": [
    {
     "name": "stdout",
     "output_type": "stream",
     "text": [
      "종목명: google\n",
      "투자 경고 종목이 아닙니다.\n"
     ]
    }
   ],
   "source": [
    "#118\n",
    "\n",
    "warn_investment_list = [\"Microsoft\", \"Google\", \"Naver\", \"Kakao\", \"SAMSUNG\", \"LG\"]\n",
    "종목 = input(\"종목명: \")\n",
    "if 종목 in warn_investment_list:\n",
    "    print(\"투자 경고 종목입니다.\")\n",
    "else:\n",
    "    print(\"투자 경고 종목이 아닙니다.\")"
   ]
  },
  {
   "cell_type": "code",
   "execution_count": 105,
   "id": "008f3a28",
   "metadata": {
    "ExecuteTime": {
     "end_time": "2023-12-10T09:49:18.227375Z",
     "start_time": "2023-12-10T09:49:12.081731Z"
    }
   },
   "outputs": [
    {
     "name": "stdout",
     "output_type": "stream",
     "text": [
      "좋아하는 과일은?바나나\n",
      "오답입니다.\n"
     ]
    }
   ],
   "source": [
    "#120\n",
    "\n",
    "fruit = {\"봄\" : \"딸기\", \"여름\" : \"토마토\", \"가을\" : \"사과\"}\n",
    "user = input(\"좋아하는 과일은?\")\n",
    "if user in fruit.values():\n",
    "    print(\"정답입니다.\")\n",
    "else:\n",
    "    print(\"오답입니다.\")"
   ]
  },
  {
   "cell_type": "code",
   "execution_count": 106,
   "id": "5bc7fc48",
   "metadata": {
    "ExecuteTime": {
     "end_time": "2023-12-10T09:49:57.048086Z",
     "start_time": "2023-12-10T09:49:53.464176Z"
    }
   },
   "outputs": [
    {
     "name": "stdout",
     "output_type": "stream",
     "text": [
      "google\n",
      "GOOGLE\n"
     ]
    }
   ],
   "source": [
    "#121\n",
    "#islower -> 이거 소문자야?\n",
    "#lower  -> 대문자로 소문자로 바꿔줘\n",
    "#upper -> 소문자면 대문자로 바꿔줘 \n",
    "\n",
    "user = input(\"\")\n",
    "if user.islower():\n",
    "    print(user.upper())\n",
    "else:\n",
    "    print(user.lower())"
   ]
  },
  {
   "cell_type": "code",
   "execution_count": null,
   "id": "5375473c",
   "metadata": {
    "ExecuteTime": {
     "start_time": "2023-12-10T09:57:19.622Z"
    }
   },
   "outputs": [],
   "source": [
    "#123\n",
    "#float: 소수점까지 나오게 해줘\n",
    "    \n",
    "환율 = {\"달러\": 1167, \n",
    "        \"엔\": 1.096, \n",
    "        \"유로\": 1268, \n",
    "        \"위안\": 171}\n",
    "user = input(\"입력: \")\n",
    "num, currency = user.split()\n",
    "print(float(num) * 환율[currency], \"원\")"
   ]
  },
  {
   "cell_type": "code",
   "execution_count": null,
   "id": "4839d0c1",
   "metadata": {
    "ExecuteTime": {
     "start_time": "2023-12-10T09:57:21.423Z"
    }
   },
   "outputs": [],
   "source": [
    "input number1: 10\n",
    "input number2: 9\n",
    "input number3: 20"
   ]
  },
  {
   "cell_type": "code",
   "execution_count": null,
   "id": "64faf469",
   "metadata": {
    "ExecuteTime": {
     "start_time": "2023-12-10T09:59:39.272Z"
    }
   },
   "outputs": [],
   "source": [
    "#124\n",
    "#max\n",
    "#사용자로부터 세 개의 숫자를 입력 받은 후 가장 큰 숫자를 출력하라.\n",
    "\n",
    "num1 = input(\"input number1: \")\n",
    "num2 = input(\"input number2: \")\n",
    "num3 = input(\"input number3: \")\n",
    "num1 = int(num1)\n",
    "num2 = int(num2)\n",
    "num3 = int(num3)\n",
    "\n",
    "if num1 >= num2 and num1 >= num3:\n",
    "    print(num1)\n",
    "elif num2 >= num1 and num2 >= num3:\n",
    "    print(num2)\n",
    "else:\n",
    "    print(num3)"
   ]
  },
  {
   "cell_type": "code",
   "execution_count": null,
   "id": "b8c8c0bb",
   "metadata": {
    "ExecuteTime": {
     "start_time": "2023-12-10T09:59:32.763Z"
    }
   },
   "outputs": [],
   "source": [
    "#125\n",
    "\n",
    "number = input(\"휴대전화 번호 입력: \")\n",
    "num = number.split(\"-\")[0]\n",
    "if num == \"011\":\n",
    "    com = \"SKT\"\n",
    "elif num == \"016\":\n",
    "    com = \"KT\"\n",
    "elif num == \"019\":\n",
    "    com = \"LGU\"\n",
    "else:\n",
    "    com = \"알수없음\"\n",
    "print(f\"당신은 {com} 사용자입니다.\")"
   ]
  },
  {
   "cell_type": "code",
   "execution_count": null,
   "id": "ac7aa31f",
   "metadata": {
    "ExecuteTime": {
     "start_time": "2023-12-10T09:59:30.370Z"
    }
   },
   "outputs": [],
   "source": [
    "#126\n",
    "\n",
    "우편번호 = input(\"우편번호: \")\n",
    "우편번호 = 우편번호[:3]\n",
    "if 우편번호 in [\"010\", \"011\", \"012\"]:\n",
    "    print(\"강북구\")\n",
    "elif 우편번호 in [\"014\", \"015\", \"016\"]:\n",
    "    print(\"도봉구\")\n",
    "else:\n",
    "    print(\"노원구\")"
   ]
  },
  {
   "cell_type": "code",
   "execution_count": null,
   "id": "ab80d523",
   "metadata": {
    "ExecuteTime": {
     "start_time": "2023-12-10T09:59:42.178Z"
    }
   },
   "outputs": [],
   "source": [
    "#127\n",
    "\n",
    "주민번호 = input(\"주민등록번호: \")\n",
    "주민번호 = 주민번호.split(\"-\")[1]\n",
    "if 주민번호[0] == \"1\" or 주민번호[0] == \"3\":\n",
    "    print(\"남자\")\n",
    "else:\n",
    "    print(\"여자\")"
   ]
  },
  {
   "cell_type": "code",
   "execution_count": 2,
   "id": "bcd2ced9",
   "metadata": {
    "ExecuteTime": {
     "end_time": "2023-12-10T10:00:16.059740Z",
     "start_time": "2023-12-10T10:00:12.219018Z"
    }
   },
   "outputs": [
    {
     "name": "stdout",
     "output_type": "stream",
     "text": [
      "주민등록번호: 890228-2156548\n",
      "서울이 아닙니다.\n"
     ]
    }
   ],
   "source": [
    "#128\n",
    "\n",
    "주민번호 = input(\"주민등록번호: \")\n",
    "뒷자리 = 주민번호.split(\"-\")[1]\n",
    "if 0 <= int(뒷자리[1:3]) <= 8:\n",
    "    print(\"서울입니다.\")\n",
    "else:\n",
    "    print(\"서울이 아닙니다.\")"
   ]
  },
  {
   "cell_type": "code",
   "execution_count": 2,
   "id": "2b8ed012",
   "metadata": {
    "ExecuteTime": {
     "end_time": "2023-12-10T09:57:12.858328Z",
     "start_time": "2023-12-10T09:57:12.327445Z"
    }
   },
   "outputs": [
    {
     "name": "stdout",
     "output_type": "stream",
     "text": [
      "상승장\n"
     ]
    }
   ],
   "source": [
    "#130\n",
    "#requests 라이브러리 설치해야 가능\n",
    "\n",
    "import requests\n",
    "btc = requests.get(\"https://api.bithumb.com/public/ticker/\").json()['data']\n",
    "\n",
    "변동폭 = float(btc['max_price']) - float(btc['min_price'])\n",
    "시가 = float(btc['opening_price'])\n",
    "최고가 = float(btc['max_price'])\n",
    "\n",
    "if (시가+변동폭) > 최고가:\n",
    "    print(\"상승장\")\n",
    "else:\n",
    "    print(\"하락장\")"
   ]
  },
  {
   "cell_type": "code",
   "execution_count": 1,
   "id": "8cfd7349",
   "metadata": {
    "ExecuteTime": {
     "end_time": "2023-12-10T09:57:11.094820Z",
     "start_time": "2023-12-10T09:57:11.086403Z"
    }
   },
   "outputs": [
    {
     "name": "stdout",
     "output_type": "stream",
     "text": [
      "사과\n",
      "귤\n",
      "수박\n"
     ]
    }
   ],
   "source": [
    "#131\n",
    "#for문의 실행결과를 예측하라.\n",
    "\n",
    "과일 = [\"사과\", \"귤\", \"수박\"]\n",
    "for 변수 in 과일:\n",
    "    print(변수)"
   ]
  },
  {
   "cell_type": "code",
   "execution_count": 3,
   "id": "81c5fd87",
   "metadata": {
    "ExecuteTime": {
     "end_time": "2023-12-10T10:01:52.163903Z",
     "start_time": "2023-12-10T10:01:52.160399Z"
    }
   },
   "outputs": [
    {
     "name": "stdout",
     "output_type": "stream",
     "text": [
      "#####\n",
      "#####\n",
      "#####\n"
     ]
    }
   ],
   "source": [
    "#132\n",
    "#for문의 실행결과를 예측하라.\n",
    "\n",
    "과일 = [\"사과\", \"귤\", \"수박\"]\n",
    "for 변수 in 과일:\n",
    "  print(\"#####\")"
   ]
  },
  {
   "cell_type": "code",
   "execution_count": 4,
   "id": "d68b49cc",
   "metadata": {
    "ExecuteTime": {
     "end_time": "2023-12-10T10:02:19.095451Z",
     "start_time": "2023-12-10T10:02:19.092386Z"
    }
   },
   "outputs": [
    {
     "name": "stdout",
     "output_type": "stream",
     "text": [
      "A\n",
      "B\n",
      "C\n"
     ]
    }
   ],
   "source": [
    "#133\n",
    "#다음 for 문과 동일한 기능을 수행하는 코드를 작성하세요.\n",
    "\n",
    "변수 = \"A\"\n",
    "print(변수)\n",
    "변수 = \"B\"\n",
    "print(변수)\n",
    "변수 = \"C\"\n",
    "print(변수)"
   ]
  },
  {
   "cell_type": "code",
   "execution_count": 7,
   "id": "aa3a44e4",
   "metadata": {
    "ExecuteTime": {
     "end_time": "2023-12-10T10:03:09.198851Z",
     "start_time": "2023-12-10T10:03:09.195573Z"
    }
   },
   "outputs": [
    {
     "name": "stdout",
     "output_type": "stream",
     "text": [
      "출력: A\n",
      "출력: B\n",
      "출력: C\n"
     ]
    }
   ],
   "source": [
    "#134\n",
    "#for문을 풀어서 동일한 동작을하는 코드를 작성하라.\n",
    "\n",
    "변수 = \"A\"\n",
    "print(\"출력:\", 변수)\n",
    "변수 = \"B\"\n",
    "print(\"출력:\", 변수)\n",
    "변수 = \"C\"\n",
    "print(\"출력:\", 변수)"
   ]
  },
  {
   "cell_type": "code",
   "execution_count": 6,
   "id": "e963481e",
   "metadata": {
    "ExecuteTime": {
     "end_time": "2023-12-10T10:03:04.517681Z",
     "start_time": "2023-12-10T10:03:04.514708Z"
    }
   },
   "outputs": [
    {
     "name": "stdout",
     "output_type": "stream",
     "text": [
      "출력: A\n",
      "출력: B\n",
      "출력: C\n"
     ]
    }
   ],
   "source": [
    "print(\"출력:\", \"A\")\n",
    "print(\"출력:\", \"B\")\n",
    "print(\"출력:\", \"C\")"
   ]
  },
  {
   "cell_type": "code",
   "execution_count": 10,
   "id": "bd7fa792",
   "metadata": {
    "ExecuteTime": {
     "end_time": "2023-12-10T10:05:22.418670Z",
     "start_time": "2023-12-10T10:05:22.414941Z"
    }
   },
   "outputs": [
    {
     "name": "stdout",
     "output_type": "stream",
     "text": [
      "변환: a\n",
      "변환: b\n",
      "변환: c\n"
     ]
    }
   ],
   "source": [
    "#135\n",
    "#for문을 풀어서 동일한 동작을 하는 코드를 작성하라.\n",
    "\n",
    "변수 = \"A\"\n",
    "b = 변수.lower()\n",
    "print(\"변환:\", b)\n",
    "변수 = \"B\"\n",
    "b = 변수.lower()\n",
    "print(\"변환:\", b)\n",
    "변수 = \"C\"\n",
    "b = 변수.lower()\n",
    "print(\"변환:\", b)"
   ]
  },
  {
   "cell_type": "code",
   "execution_count": 11,
   "id": "8a285ac9",
   "metadata": {
    "ExecuteTime": {
     "end_time": "2023-12-10T10:05:38.604761Z",
     "start_time": "2023-12-10T10:05:38.601257Z"
    }
   },
   "outputs": [
    {
     "name": "stdout",
     "output_type": "stream",
     "text": [
      "10\n",
      "20\n",
      "30\n"
     ]
    }
   ],
   "source": [
    "#136\n",
    "#다음 코드를 for문으로 작성하라.\n",
    "\n",
    "for 변수 in [10, 20, 30]:\n",
    "  print(변수)"
   ]
  },
  {
   "cell_type": "code",
   "execution_count": 12,
   "id": "46204bfb",
   "metadata": {
    "ExecuteTime": {
     "end_time": "2023-12-10T10:05:44.004954Z",
     "start_time": "2023-12-10T10:05:44.002047Z"
    }
   },
   "outputs": [
    {
     "name": "stdout",
     "output_type": "stream",
     "text": [
      "10\n",
      "20\n",
      "30\n"
     ]
    }
   ],
   "source": [
    "리스트 = [10, 20, 30]\n",
    "for 변수 in 리스트:\n",
    "  print(변수)"
   ]
  },
  {
   "cell_type": "code",
   "execution_count": 13,
   "id": "b06e3c1a",
   "metadata": {
    "ExecuteTime": {
     "end_time": "2023-12-10T10:06:29.283986Z",
     "start_time": "2023-12-10T10:06:29.279982Z"
    }
   },
   "outputs": [
    {
     "name": "stdout",
     "output_type": "stream",
     "text": [
      "10\n",
      "-------\n",
      "20\n",
      "-------\n",
      "30\n",
      "-------\n"
     ]
    }
   ],
   "source": [
    "for 변수 in [10, 20, 30]:\n",
    "  print(변수)\n",
    "  print(\"-------\")"
   ]
  },
  {
   "cell_type": "code",
   "execution_count": 14,
   "id": "330959b4",
   "metadata": {
    "ExecuteTime": {
     "end_time": "2023-12-10T10:06:39.772994Z",
     "start_time": "2023-12-10T10:06:39.769936Z"
    }
   },
   "outputs": [
    {
     "name": "stdout",
     "output_type": "stream",
     "text": [
      "++++\n",
      "10\n",
      "20\n",
      "30\n"
     ]
    }
   ],
   "source": [
    "print(\"++++\")\n",
    "for 변수 in [10, 20, 30]:\n",
    "  print(변수)"
   ]
  },
  {
   "cell_type": "code",
   "execution_count": 15,
   "id": "abf41157",
   "metadata": {
    "ExecuteTime": {
     "end_time": "2023-12-10T10:06:53.383247Z",
     "start_time": "2023-12-10T10:06:53.380014Z"
    }
   },
   "outputs": [
    {
     "name": "stdout",
     "output_type": "stream",
     "text": [
      "-------\n",
      "-------\n",
      "-------\n",
      "-------\n"
     ]
    }
   ],
   "source": [
    "for 변수 in [1, 2, 3, 4]:\n",
    "  print(\"-------\")"
   ]
  },
  {
   "cell_type": "code",
   "execution_count": 16,
   "id": "4b568cad",
   "metadata": {
    "ExecuteTime": {
     "end_time": "2023-12-10T10:07:33.613342Z",
     "start_time": "2023-12-10T10:07:33.609448Z"
    }
   },
   "outputs": [
    {
     "name": "stdout",
     "output_type": "stream",
     "text": [
      "110\n",
      "210\n",
      "310\n"
     ]
    }
   ],
   "source": [
    "#141\n",
    "#다음과 같이 판매가가 저장된 리스트가 있을 때 부가세가 포함된 가격을 for 문을 사용해서 화면에 출력하라. 단 부가세는 10원으로 가정한다.\n",
    "\n",
    "리스트 = [100, 200, 300]\n",
    "for 변수 in 리스트:\n",
    "  print(변수 + 10)"
   ]
  },
  {
   "cell_type": "code",
   "execution_count": 17,
   "id": "cb3ff724",
   "metadata": {
    "ExecuteTime": {
     "end_time": "2023-12-10T10:08:28.573721Z",
     "start_time": "2023-12-10T10:08:28.570019Z"
    }
   },
   "outputs": [
    {
     "name": "stdout",
     "output_type": "stream",
     "text": [
      "오늘의 메뉴: 김밥\n",
      "오늘의 메뉴: 라면\n",
      "오늘의 메뉴: 튀김\n"
     ]
    }
   ],
   "source": [
    "리스트 = [\"김밥\", \"라면\", \"튀김\"]\n",
    "for 메뉴 in 리스트:\n",
    "  print(\"오늘의 메뉴: \" + 메뉴)"
   ]
  },
  {
   "cell_type": "code",
   "execution_count": 19,
   "id": "d9601e3b",
   "metadata": {
    "ExecuteTime": {
     "end_time": "2023-12-10T10:09:37.438831Z",
     "start_time": "2023-12-10T10:09:37.435927Z"
    }
   },
   "outputs": [
    {
     "name": "stdout",
     "output_type": "stream",
     "text": [
      "6\n",
      "4\n",
      "4\n"
     ]
    }
   ],
   "source": [
    "리스트 = [\"SK하이닉스\", \"삼성전자\", \"LG전자\"]\n",
    "for 종목명 in 리스트:\n",
    "  print(len(종목명))"
   ]
  },
  {
   "cell_type": "code",
   "execution_count": 20,
   "id": "e8706d95",
   "metadata": {
    "ExecuteTime": {
     "end_time": "2023-12-10T10:10:00.906513Z",
     "start_time": "2023-12-10T10:10:00.903414Z"
    }
   },
   "outputs": [
    {
     "name": "stdout",
     "output_type": "stream",
     "text": [
      "d\n",
      "c\n",
      "p\n"
     ]
    }
   ],
   "source": [
    "리스트 = ['dog', 'cat', 'parrot']\n",
    "for 이름 in 리스트:\n",
    "  print(이름[0])"
   ]
  },
  {
   "cell_type": "code",
   "execution_count": 21,
   "id": "8db97ae7",
   "metadata": {
    "ExecuteTime": {
     "end_time": "2023-12-10T10:10:17.597193Z",
     "start_time": "2023-12-10T10:10:17.592750Z"
    }
   },
   "outputs": [
    {
     "name": "stdout",
     "output_type": "stream",
     "text": [
      "3 x 1\n",
      "3 x 2\n",
      "3 x 3\n"
     ]
    }
   ],
   "source": [
    "리스트 = [1, 2, 3]\n",
    "for 변수 in 리스트:\n",
    "  print(\"3 x \" + str(변수))"
   ]
  },
  {
   "cell_type": "code",
   "execution_count": 22,
   "id": "84e37ea1",
   "metadata": {
    "ExecuteTime": {
     "end_time": "2023-12-10T10:10:22.309537Z",
     "start_time": "2023-12-10T10:10:22.306520Z"
    }
   },
   "outputs": [
    {
     "name": "stdout",
     "output_type": "stream",
     "text": [
      "3 x 1\n",
      "3 x 2\n",
      "3 x 3\n"
     ]
    }
   ],
   "source": [
    "리스트 = [1, 2, 3]\n",
    "for 변수 in 리스트:\n",
    "  print(\"3 x\", 변수)"
   ]
  },
  {
   "cell_type": "code",
   "execution_count": 23,
   "id": "5608ac2b",
   "metadata": {
    "ExecuteTime": {
     "end_time": "2023-12-10T10:11:21.670323Z",
     "start_time": "2023-12-10T10:11:21.667062Z"
    }
   },
   "outputs": [
    {
     "name": "stdout",
     "output_type": "stream",
     "text": [
      "나\n",
      "다\n",
      "라\n"
     ]
    }
   ],
   "source": [
    "리스트 = [\"가\", \"나\", \"다\", \"라\"]\n",
    "for 변수 in 리스트[1:]:\n",
    "  print(변수)"
   ]
  },
  {
   "cell_type": "code",
   "execution_count": 24,
   "id": "5f6276e5",
   "metadata": {
    "ExecuteTime": {
     "end_time": "2023-12-10T10:11:36.536580Z",
     "start_time": "2023-12-10T10:11:36.533300Z"
    }
   },
   "outputs": [
    {
     "name": "stdout",
     "output_type": "stream",
     "text": [
      "가\n",
      "다\n"
     ]
    }
   ],
   "source": [
    "#149\n",
    "#리스트 슬라이싱에서 `[시작:끝:증감폭] ` 세번째 값은 값을 가져오는 단위를 의미했습니다. 증감폭을 2로 설정해서 \"가\"와 \"다\" 값만 슬라이싱합니다\n",
    "\n",
    "리스트 = [\"가\", \"나\", \"다\", \"라\"]\n",
    "for 변수 in 리스트[: :2]:\n",
    "  print(변수)"
   ]
  },
  {
   "cell_type": "code",
   "execution_count": 25,
   "id": "4894d3ad",
   "metadata": {
    "ExecuteTime": {
     "end_time": "2023-12-10T10:13:53.868603Z",
     "start_time": "2023-12-10T10:13:53.864735Z"
    }
   },
   "outputs": [
    {
     "name": "stdout",
     "output_type": "stream",
     "text": [
      "라\n",
      "다\n",
      "나\n",
      "가\n"
     ]
    }
   ],
   "source": [
    "리스트 = [\"가\", \"나\", \"다\", \"라\"]\n",
    "for 변수 in 리스트[: :-1]:\n",
    "  print(변수)"
   ]
  },
  {
   "cell_type": "code",
   "execution_count": 28,
   "id": "78ff283a",
   "metadata": {
    "ExecuteTime": {
     "end_time": "2023-12-10T10:14:42.787985Z",
     "start_time": "2023-12-10T10:14:42.784751Z"
    }
   },
   "outputs": [
    {
     "name": "stdout",
     "output_type": "stream",
     "text": [
      "-20\n",
      "-3\n"
     ]
    }
   ],
   "source": [
    "#151\n",
    "#for문을 사용해서 리스트의 음수를 출력하라.\n",
    "\n",
    "리스트 = [3, -20, -3, 44]\n",
    "for 변수 in 리스트:\n",
    "    if 변수 < 0:\n",
    "        print(변수)"
   ]
  },
  {
   "cell_type": "code",
   "execution_count": 29,
   "id": "07352569",
   "metadata": {
    "ExecuteTime": {
     "end_time": "2023-12-10T10:15:04.591203Z",
     "start_time": "2023-12-10T10:15:04.588036Z"
    }
   },
   "outputs": [
    {
     "name": "stdout",
     "output_type": "stream",
     "text": [
      "3\n"
     ]
    }
   ],
   "source": [
    "#152\n",
    "#for문을 사용해서 3의 배수만을 출력하라.\n",
    "\n",
    "리스트 = [3, 100, 23, 44]\n",
    "for 변수 in 리스트:\n",
    "  if 변수 % 3 == 0:\n",
    "    print(변수)"
   ]
  },
  {
   "cell_type": "code",
   "execution_count": 30,
   "id": "7df90d0d",
   "metadata": {
    "ExecuteTime": {
     "end_time": "2023-12-10T10:16:39.141258Z",
     "start_time": "2023-12-10T10:16:39.137523Z"
    }
   },
   "outputs": [
    {
     "name": "stdout",
     "output_type": "stream",
     "text": [
      "12\n",
      "18\n"
     ]
    }
   ],
   "source": [
    "#153\n",
    "#리스트에서 20 보다 작은 3의 배수를 출력하라\n",
    "\n",
    "리스트 = [13, 21, 12, 14, 30, 18]\n",
    "for 변수 in 리스트:\n",
    "  if (변수 < 20) and (변수 % 3 == 0):\n",
    "    print(변수)"
   ]
  },
  {
   "cell_type": "code",
   "execution_count": 31,
   "id": "621db785",
   "metadata": {
    "ExecuteTime": {
     "end_time": "2023-12-10T10:20:38.904260Z",
     "start_time": "2023-12-10T10:20:38.900963Z"
    }
   },
   "outputs": [
    {
     "name": "stdout",
     "output_type": "stream",
     "text": [
      "study\n",
      "python\n",
      "language\n"
     ]
    }
   ],
   "source": [
    "#154\n",
    "#리스트에서 세 글자 이상의 문자를 화면에 출력하라\n",
    "\n",
    "리스트 = [\"I\", \"study\", \"python\", \"language\", \"!\"]\n",
    "for 변수 in 리스트:\n",
    "  if len(변수) >= 3:\n",
    "    print(변수)"
   ]
  },
  {
   "cell_type": "code",
   "execution_count": 32,
   "id": "6223d13e",
   "metadata": {
    "ExecuteTime": {
     "end_time": "2023-12-10T10:28:49.967487Z",
     "start_time": "2023-12-10T10:28:49.964157Z"
    }
   },
   "outputs": [
    {
     "name": "stdout",
     "output_type": "stream",
     "text": [
      "A\n",
      "D\n"
     ]
    }
   ],
   "source": [
    "#155\n",
    "#리스트에서 대문자만 화면에 출력하라.\n",
    "\n",
    "리스트 = [\"A\", \"b\", \"c\", \"D\"]\n",
    "for 변수 in 리스트:\n",
    "  if 변수.isupper():\n",
    "    print(변수)"
   ]
  },
  {
   "cell_type": "code",
   "execution_count": 34,
   "id": "ac747c3e",
   "metadata": {
    "ExecuteTime": {
     "end_time": "2023-12-10T10:30:35.262623Z",
     "start_time": "2023-12-10T10:30:35.258538Z"
    }
   },
   "outputs": [
    {
     "name": "stdout",
     "output_type": "stream",
     "text": [
      "Dog\n",
      "Cat\n",
      "Parrot\n"
     ]
    }
   ],
   "source": [
    "#157\n",
    "#이름의 첫 글자를 대문자로 변경해서 출력하라.\n",
    "\n",
    "리스트 = ['dog', 'cat', 'parrot']\n",
    "for 변수 in 리스트:\n",
    "  print(변수[0].upper() + 변수[1:])"
   ]
  },
  {
   "cell_type": "code",
   "execution_count": 35,
   "id": "a8b5c7ca",
   "metadata": {
    "ExecuteTime": {
     "end_time": "2023-12-10T10:31:18.156915Z",
     "start_time": "2023-12-10T10:31:18.153669Z"
    }
   },
   "outputs": [
    {
     "name": "stdout",
     "output_type": "stream",
     "text": [
      "hello\n",
      "ex01\n",
      "intro\n"
     ]
    }
   ],
   "source": [
    "리스트 = ['hello.py', 'ex01.py', 'intro.hwp']\n",
    "for 변수 in 리스트:\n",
    "  split = 변수.split(\".\")\n",
    "  print(split[0])  "
   ]
  },
  {
   "cell_type": "code",
   "execution_count": 36,
   "id": "8c4c4ce0",
   "metadata": {
    "ExecuteTime": {
     "end_time": "2023-12-10T10:31:31.158501Z",
     "start_time": "2023-12-10T10:31:31.155077Z"
    }
   },
   "outputs": [
    {
     "name": "stdout",
     "output_type": "stream",
     "text": [
      "intra.h\n",
      "define.h\n"
     ]
    }
   ],
   "source": [
    "리스트 = ['intra.h', 'intra.c', 'define.h', 'run.py']\n",
    "for 변수 in 리스트:\n",
    "  split = 변수.split(\".\")\n",
    "  if split[1] == \"h\":\n",
    "    print(변수)"
   ]
  },
  {
   "cell_type": "code",
   "execution_count": 38,
   "id": "7fcde47c",
   "metadata": {
    "ExecuteTime": {
     "end_time": "2023-12-10T10:32:51.793711Z",
     "start_time": "2023-12-10T10:32:51.790247Z"
    }
   },
   "outputs": [
    {
     "name": "stdout",
     "output_type": "stream",
     "text": [
      "0\n",
      "1\n",
      "2\n",
      "3\n",
      "4\n",
      "5\n",
      "6\n",
      "7\n",
      "8\n",
      "9\n",
      "10\n",
      "11\n",
      "12\n",
      "13\n",
      "14\n",
      "15\n",
      "16\n",
      "17\n",
      "18\n",
      "19\n",
      "20\n",
      "21\n",
      "22\n",
      "23\n",
      "24\n",
      "25\n",
      "26\n",
      "27\n",
      "28\n",
      "29\n",
      "30\n",
      "31\n",
      "32\n",
      "33\n",
      "34\n",
      "35\n",
      "36\n",
      "37\n",
      "38\n",
      "39\n",
      "40\n",
      "41\n",
      "42\n",
      "43\n",
      "44\n",
      "45\n",
      "46\n",
      "47\n",
      "48\n",
      "49\n",
      "50\n",
      "51\n",
      "52\n",
      "53\n",
      "54\n",
      "55\n",
      "56\n",
      "57\n",
      "58\n",
      "59\n",
      "60\n",
      "61\n",
      "62\n",
      "63\n",
      "64\n",
      "65\n",
      "66\n",
      "67\n",
      "68\n",
      "69\n",
      "70\n",
      "71\n",
      "72\n",
      "73\n",
      "74\n",
      "75\n",
      "76\n",
      "77\n",
      "78\n",
      "79\n",
      "80\n",
      "81\n",
      "82\n",
      "83\n",
      "84\n",
      "85\n",
      "86\n",
      "87\n",
      "88\n",
      "89\n",
      "90\n",
      "91\n",
      "92\n",
      "93\n",
      "94\n",
      "95\n",
      "96\n",
      "97\n",
      "98\n",
      "99\n"
     ]
    }
   ],
   "source": [
    "#161\n",
    "\n",
    "for i in range(100):\n",
    "    print(i)"
   ]
  },
  {
   "cell_type": "code",
   "execution_count": 40,
   "id": "9fae364a",
   "metadata": {
    "ExecuteTime": {
     "end_time": "2023-12-10T10:33:38.168912Z",
     "start_time": "2023-12-10T10:33:38.165915Z"
    }
   },
   "outputs": [
    {
     "name": "stdout",
     "output_type": "stream",
     "text": [
      "2002\n",
      "2006\n",
      "2010\n",
      "2014\n",
      "2018\n",
      "2022\n",
      "2026\n",
      "2030\n",
      "2034\n",
      "2038\n",
      "2042\n",
      "2046\n",
      "2050\n"
     ]
    }
   ],
   "source": [
    "#162\n",
    "#월드컵은 4년에 한 번 개최된다. range()를 사용하여 2002~2050년까지 중 월드컵이 개최되는 연도를 출력하라.\n",
    "\n",
    "for x in range(2002, 2051, 4) :\n",
    "    print (x)"
   ]
  },
  {
   "cell_type": "code",
   "execution_count": 41,
   "id": "c2400376",
   "metadata": {
    "ExecuteTime": {
     "end_time": "2023-12-10T10:33:54.875163Z",
     "start_time": "2023-12-10T10:33:54.871761Z"
    }
   },
   "outputs": [
    {
     "name": "stdout",
     "output_type": "stream",
     "text": [
      "3\n",
      "6\n",
      "9\n",
      "12\n",
      "15\n",
      "18\n",
      "21\n",
      "24\n",
      "27\n",
      "30\n"
     ]
    }
   ],
   "source": [
    "#163\n",
    "#1부터 30까지의 숫자 중 3의 배수를 출력하라.\n",
    "\n",
    "for num in range(3, 31, 3):\n",
    "    print (num)"
   ]
  },
  {
   "cell_type": "code",
   "execution_count": 42,
   "id": "b950c915",
   "metadata": {
    "ExecuteTime": {
     "end_time": "2023-12-10T10:37:51.741947Z",
     "start_time": "2023-12-10T10:37:51.738866Z"
    }
   },
   "outputs": [
    {
     "name": "stdout",
     "output_type": "stream",
     "text": [
      "99\n",
      "98\n",
      "97\n",
      "96\n",
      "95\n",
      "94\n",
      "93\n",
      "92\n",
      "91\n",
      "90\n",
      "89\n",
      "88\n",
      "87\n",
      "86\n",
      "85\n",
      "84\n",
      "83\n",
      "82\n",
      "81\n",
      "80\n",
      "79\n",
      "78\n",
      "77\n",
      "76\n",
      "75\n",
      "74\n",
      "73\n",
      "72\n",
      "71\n",
      "70\n",
      "69\n",
      "68\n",
      "67\n",
      "66\n",
      "65\n",
      "64\n",
      "63\n",
      "62\n",
      "61\n",
      "60\n",
      "59\n",
      "58\n",
      "57\n",
      "56\n",
      "55\n",
      "54\n",
      "53\n",
      "52\n",
      "51\n",
      "50\n",
      "49\n",
      "48\n",
      "47\n",
      "46\n",
      "45\n",
      "44\n",
      "43\n",
      "42\n",
      "41\n",
      "40\n",
      "39\n",
      "38\n",
      "37\n",
      "36\n",
      "35\n",
      "34\n",
      "33\n",
      "32\n",
      "31\n",
      "30\n",
      "29\n",
      "28\n",
      "27\n",
      "26\n",
      "25\n",
      "24\n",
      "23\n",
      "22\n",
      "21\n",
      "20\n",
      "19\n",
      "18\n",
      "17\n",
      "16\n",
      "15\n",
      "14\n",
      "13\n",
      "12\n",
      "11\n",
      "10\n",
      "9\n",
      "8\n",
      "7\n",
      "6\n",
      "5\n",
      "4\n",
      "3\n",
      "2\n",
      "1\n",
      "0\n"
     ]
    }
   ],
   "source": [
    "for i in range(100):\n",
    "    print(99 - i)"
   ]
  },
  {
   "cell_type": "code",
   "execution_count": 43,
   "id": "6e1c106a",
   "metadata": {
    "ExecuteTime": {
     "end_time": "2023-12-10T10:38:04.759053Z",
     "start_time": "2023-12-10T10:38:04.756647Z"
    }
   },
   "outputs": [
    {
     "name": "stdout",
     "output_type": "stream",
     "text": [
      "0.0\n",
      "0.1\n",
      "0.2\n",
      "0.3\n",
      "0.4\n",
      "0.5\n",
      "0.6\n",
      "0.7\n",
      "0.8\n",
      "0.9\n"
     ]
    }
   ],
   "source": [
    "for num in range(10) :\n",
    "    print(num / 10)"
   ]
  },
  {
   "cell_type": "code",
   "execution_count": 44,
   "id": "1770906c",
   "metadata": {
    "ExecuteTime": {
     "end_time": "2023-12-10T10:38:20.642681Z",
     "start_time": "2023-12-10T10:38:20.639402Z"
    }
   },
   "outputs": [
    {
     "name": "stdout",
     "output_type": "stream",
     "text": [
      "3 x 1  =  3\n",
      "3 x 2  =  6\n",
      "3 x 3  =  9\n",
      "3 x 4  =  12\n",
      "3 x 5  =  15\n",
      "3 x 6  =  18\n",
      "3 x 7  =  21\n",
      "3 x 8  =  24\n",
      "3 x 9  =  27\n"
     ]
    }
   ],
   "source": [
    "for i in range(1, 10) :\n",
    "    print (3, \"x\", i, \" = \", 3 * i)"
   ]
  },
  {
   "cell_type": "code",
   "execution_count": 45,
   "id": "01eff659",
   "metadata": {
    "ExecuteTime": {
     "end_time": "2023-12-10T10:38:49.213707Z",
     "start_time": "2023-12-10T10:38:49.210925Z"
    }
   },
   "outputs": [
    {
     "name": "stdout",
     "output_type": "stream",
     "text": [
      "3 x 1  =  3\n",
      "3 x 3  =  9\n",
      "3 x 5  =  15\n",
      "3 x 7  =  21\n",
      "3 x 9  =  27\n"
     ]
    }
   ],
   "source": [
    "num = 3\n",
    "for i in range(1, 10, 2) :\n",
    "    print (num, \"x\", i, \" = \", num * i)"
   ]
  },
  {
   "cell_type": "code",
   "execution_count": 46,
   "id": "79ff2857",
   "metadata": {
    "ExecuteTime": {
     "end_time": "2023-12-10T10:39:56.551578Z",
     "start_time": "2023-12-10T10:39:56.548563Z"
    }
   },
   "outputs": [
    {
     "name": "stdout",
     "output_type": "stream",
     "text": [
      "3 x 1  =  3\n",
      "3 x 3  =  9\n",
      "3 x 5  =  15\n",
      "3 x 7  =  21\n",
      "3 x 9  =  27\n"
     ]
    }
   ],
   "source": [
    "num = 3\n",
    "for i in range(1, 10) :\n",
    "    if i % 2 == 1 :\n",
    "        print (num, \"x\", i, \" = \", num * i)"
   ]
  },
  {
   "cell_type": "code",
   "execution_count": 47,
   "id": "64e5545f",
   "metadata": {
    "ExecuteTime": {
     "end_time": "2023-12-10T10:40:07.657091Z",
     "start_time": "2023-12-10T10:40:07.654520Z"
    }
   },
   "outputs": [
    {
     "name": "stdout",
     "output_type": "stream",
     "text": [
      "합 : 55\n"
     ]
    }
   ],
   "source": [
    "hab = 0\n",
    "for i in range(1, 11):\n",
    "    hab += i\n",
    "print (\"합 :\", hab)"
   ]
  },
  {
   "cell_type": "code",
   "execution_count": 48,
   "id": "ce1dd271",
   "metadata": {
    "ExecuteTime": {
     "end_time": "2023-12-10T10:40:46.079362Z",
     "start_time": "2023-12-10T10:40:46.075794Z"
    }
   },
   "outputs": [
    {
     "name": "stdout",
     "output_type": "stream",
     "text": [
      "합 : 25\n"
     ]
    }
   ],
   "source": [
    "hab = 0\n",
    "for i in range(1, 11, 2):\n",
    "    hab += i\n",
    "print (\"합 :\", hab)"
   ]
  },
  {
   "cell_type": "code",
   "execution_count": 49,
   "id": "47b43635",
   "metadata": {
    "ExecuteTime": {
     "end_time": "2023-12-10T10:41:04.241308Z",
     "start_time": "2023-12-10T10:41:04.237804Z"
    }
   },
   "outputs": [
    {
     "name": "stdout",
     "output_type": "stream",
     "text": [
      "3628800\n"
     ]
    }
   ],
   "source": [
    "#170\n",
    "#1~10까지의 숫자를 모두 곱한 값을 출력하는 프로그램을 for 문을 사용하여 작성하라.\n",
    "\n",
    "result = 1\n",
    "for i in range(1, 11) :\n",
    "    result *= i\n",
    "print(result)"
   ]
  },
  {
   "cell_type": "code",
   "execution_count": 51,
   "id": "2d4e140e",
   "metadata": {
    "ExecuteTime": {
     "end_time": "2023-12-10T10:42:21.612392Z",
     "start_time": "2023-12-10T10:42:21.609363Z"
    }
   },
   "outputs": [
    {
     "name": "stdout",
     "output_type": "stream",
     "text": [
      "32100\n",
      "32150\n",
      "32000\n",
      "32500\n"
     ]
    }
   ],
   "source": [
    "#171\n",
    "#아래와 같이 리스트의 데이터를 출력하라. 단, for문과 range문을 사용하라.\n",
    "\n",
    "price_list = [32100, 32150, 32000, 32500]\n",
    "for i in range(len(price_list)):\n",
    "    print(price_list[i])"
   ]
  },
  {
   "cell_type": "code",
   "execution_count": 52,
   "id": "0267da27",
   "metadata": {
    "ExecuteTime": {
     "end_time": "2023-12-10T10:43:34.751817Z",
     "start_time": "2023-12-10T10:43:34.748280Z"
    }
   },
   "outputs": [
    {
     "name": "stdout",
     "output_type": "stream",
     "text": [
      "0 32100\n",
      "1 32150\n",
      "2 32000\n",
      "3 32500\n"
     ]
    }
   ],
   "source": [
    "#172\n",
    "#아래와 같이 리스트의 데이터를 출력하라. 단, for문과 range문을 사용하라.\n",
    "\n",
    "price_list = [32100, 32150, 32000, 32500]\n",
    "for i, data in enumerate(price_list):\n",
    "    print(i, data)"
   ]
  },
  {
   "cell_type": "code",
   "execution_count": 53,
   "id": "cfd8026a",
   "metadata": {
    "ExecuteTime": {
     "end_time": "2023-12-10T10:44:51.666373Z",
     "start_time": "2023-12-10T10:44:51.662842Z"
    }
   },
   "outputs": [
    {
     "name": "stdout",
     "output_type": "stream",
     "text": [
      "100 32150\n",
      "110 32000\n",
      "120 32500\n"
     ]
    }
   ],
   "source": [
    "for i in range(1, 4):\n",
    "    print(90 + 10 * i, price_list[i])"
   ]
  },
  {
   "cell_type": "code",
   "execution_count": 55,
   "id": "f9888afa",
   "metadata": {
    "ExecuteTime": {
     "end_time": "2023-12-10T10:45:44.170063Z",
     "start_time": "2023-12-10T10:45:44.166047Z"
    }
   },
   "outputs": [
    {
     "name": "stdout",
     "output_type": "stream",
     "text": [
      "가\n",
      "나\n",
      "다\n"
     ]
    }
   ],
   "source": [
    "#175\n",
    "#my_list를 아래와 같이 출력하라.\n",
    "\n",
    "my_list = [\"가\", \"나\", \"다\", \"라\"]\n",
    "\n",
    "for i in [0, 1, 2]:\n",
    "    print(my_list[i])"
   ]
  },
  {
   "cell_type": "code",
   "execution_count": 56,
   "id": "50fd7b87",
   "metadata": {
    "ExecuteTime": {
     "end_time": "2023-12-10T10:45:56.707679Z",
     "start_time": "2023-12-10T10:45:56.704176Z"
    }
   },
   "outputs": [
    {
     "name": "stdout",
     "output_type": "stream",
     "text": [
      "가 나\n",
      "나 다\n",
      "다 라\n"
     ]
    }
   ],
   "source": [
    "for i in [0, 1, 2]:\n",
    "    print(my_list[i], my_list[i+1])"
   ]
  },
  {
   "cell_type": "code",
   "execution_count": 57,
   "id": "41f9208b",
   "metadata": {
    "ExecuteTime": {
     "end_time": "2023-12-10T10:46:25.135649Z",
     "start_time": "2023-12-10T10:46:25.132237Z"
    }
   },
   "outputs": [
    {
     "name": "stdout",
     "output_type": "stream",
     "text": [
      "가 나\n",
      "나 다\n",
      "다 라\n"
     ]
    }
   ],
   "source": [
    "for i in range( len(my_list) - 1 ) :\n",
    "  print(my_list[i], my_list[i+1])"
   ]
  },
  {
   "cell_type": "code",
   "execution_count": 58,
   "id": "857f97bc",
   "metadata": {
    "ExecuteTime": {
     "end_time": "2023-12-10T10:46:28.128350Z",
     "start_time": "2023-12-10T10:46:28.125336Z"
    }
   },
   "outputs": [
    {
     "name": "stdout",
     "output_type": "stream",
     "text": [
      "가 나\n",
      "나 다\n",
      "다 라\n"
     ]
    }
   ],
   "source": [
    "for i in range( 1, len(my_list) ) :\n",
    "  print(my_list[i-1], my_list[i])"
   ]
  },
  {
   "cell_type": "code",
   "execution_count": 59,
   "id": "68e94170",
   "metadata": {
    "ExecuteTime": {
     "end_time": "2023-12-10T10:47:29.800679Z",
     "start_time": "2023-12-10T10:47:29.797580Z"
    }
   },
   "outputs": [],
   "source": [
    "#176\n",
    "#리스트를 아래와 같이 출력하라.\n",
    "\n",
    "my_list = [\"가\", \"나\", \"다\", \"라\", \"마\"]"
   ]
  },
  {
   "cell_type": "code",
   "execution_count": 60,
   "id": "eea09f27",
   "metadata": {
    "ExecuteTime": {
     "end_time": "2023-12-10T10:47:36.762867Z",
     "start_time": "2023-12-10T10:47:36.759697Z"
    }
   },
   "outputs": [
    {
     "name": "stdout",
     "output_type": "stream",
     "text": [
      "가 나 다\n",
      "나 다 라\n",
      "다 라 마\n"
     ]
    }
   ],
   "source": [
    "for i in [0, 1, 2]:\n",
    "    print(my_list[i], my_list[i+1], my_list[i+2])"
   ]
  },
  {
   "cell_type": "code",
   "execution_count": 61,
   "id": "aca77251",
   "metadata": {
    "ExecuteTime": {
     "end_time": "2023-12-10T10:48:07.198739Z",
     "start_time": "2023-12-10T10:48:07.195192Z"
    }
   },
   "outputs": [
    {
     "name": "stdout",
     "output_type": "stream",
     "text": [
      "가 나 다\n",
      "나 다 라\n",
      "다 라 마\n"
     ]
    }
   ],
   "source": [
    "for i in range( len(my_list) - 2 ):\n",
    "    print(my_list[i], my_list[i+1], my_list[i+2])"
   ]
  },
  {
   "cell_type": "code",
   "execution_count": 62,
   "id": "50b94f96",
   "metadata": {
    "ExecuteTime": {
     "end_time": "2023-12-10T10:48:50.501403Z",
     "start_time": "2023-12-10T10:48:50.497996Z"
    }
   },
   "outputs": [
    {
     "name": "stdout",
     "output_type": "stream",
     "text": [
      "라 다\n",
      "다 나\n",
      "나 가\n"
     ]
    }
   ],
   "source": [
    "#177\n",
    "#반복문과 range 함수를 사용해서 my_list를 아래와 같이 출력하라.\n",
    "\n",
    "for i in [2, 1, 0] :\n",
    "    print(my_list[i+1], my_list[i])"
   ]
  },
  {
   "cell_type": "code",
   "execution_count": 63,
   "id": "5840138b",
   "metadata": {
    "ExecuteTime": {
     "end_time": "2023-12-10T10:48:55.333537Z",
     "start_time": "2023-12-10T10:48:55.330112Z"
    }
   },
   "outputs": [
    {
     "name": "stdout",
     "output_type": "stream",
     "text": [
      "마 라\n",
      "라 다\n",
      "다 나\n",
      "나 가\n"
     ]
    }
   ],
   "source": [
    "for i in range(len(my_list) - 1, 0, -1):\n",
    "    print(my_list[i], my_list[i-1])"
   ]
  },
  {
   "cell_type": "code",
   "execution_count": 64,
   "id": "1d04dc95",
   "metadata": {
    "ExecuteTime": {
     "end_time": "2023-12-10T10:48:59.358855Z",
     "start_time": "2023-12-10T10:48:59.355334Z"
    }
   },
   "outputs": [
    {
     "name": "stdout",
     "output_type": "stream",
     "text": [
      "마 라\n",
      "라 다\n",
      "다 나\n",
      "나 가\n"
     ]
    }
   ],
   "source": [
    "for i in range(len(my_list) - 1):\n",
    "    print(my_list[len(my_list) - 1 - i], my_list[len(my_list) - 2 - i])"
   ]
  },
  {
   "cell_type": "code",
   "execution_count": 68,
   "id": "ba8d8acd",
   "metadata": {
    "ExecuteTime": {
     "end_time": "2023-12-10T10:54:27.165481Z",
     "start_time": "2023-12-10T10:54:27.162318Z"
    }
   },
   "outputs": [],
   "source": [
    "#178\n",
    "#리스트에는 네 개의 정수가 저장되어 있다. 각각의 데이터에 대해서 자신과 우측값과의 차분값을 화면에 출력하라.\n",
    "#예를들어 100을 기준으로 우측에 위치한 200과의 차분 값를 화면에 출력하고, 200을 기준으로 우측에 위치한 400과의 차분값을 화면에 출력한다. 이어서 400을 기준으로 우측에 위치한 800과의 차분값을 화면에 출력한다.\n",
    "\n",
    "my_list = [100, 200, 400, 800]"
   ]
  },
  {
   "cell_type": "code",
   "execution_count": 67,
   "id": "da61e40f",
   "metadata": {
    "ExecuteTime": {
     "end_time": "2023-12-10T10:52:02.545039Z",
     "start_time": "2023-12-10T10:52:02.542038Z"
    }
   },
   "outputs": [
    {
     "name": "stdout",
     "output_type": "stream",
     "text": [
      "100\n",
      "200\n",
      "400\n"
     ]
    }
   ],
   "source": [
    "for i in [0, 1, 2]:\n",
    "    print(abs(my_list[i+1] - my_list[i]))"
   ]
  },
  {
   "cell_type": "code",
   "execution_count": 66,
   "id": "1968c818",
   "metadata": {
    "ExecuteTime": {
     "end_time": "2023-12-10T10:51:35.341396Z",
     "start_time": "2023-12-10T10:51:35.337330Z"
    }
   },
   "outputs": [
    {
     "name": "stdout",
     "output_type": "stream",
     "text": [
      "100\n",
      "200\n",
      "400\n"
     ]
    }
   ],
   "source": [
    "for i in range(len(my_list) - 1):\n",
    "    print(abs(my_list[i+1] - my_list[i]))"
   ]
  },
  {
   "cell_type": "code",
   "execution_count": 69,
   "id": "513708a9",
   "metadata": {
    "ExecuteTime": {
     "end_time": "2023-12-10T10:54:51.481041Z",
     "start_time": "2023-12-10T10:54:51.477631Z"
    }
   },
   "outputs": [],
   "source": [
    "#179\n",
    "#리스트에는 6일 간의 종가 데이터가 저장되어 있다. 종가 데이터의 3일 이동 평균을 계산하고 이를 화면에 출력하라.\n",
    "\n",
    "my_list = [100, 200, 400, 800, 1000, 1300]"
   ]
  },
  {
   "cell_type": "code",
   "execution_count": 70,
   "id": "a6bc1f1b",
   "metadata": {
    "ExecuteTime": {
     "end_time": "2023-12-10T10:54:59.443033Z",
     "start_time": "2023-12-10T10:54:59.439350Z"
    }
   },
   "outputs": [
    {
     "name": "stdout",
     "output_type": "stream",
     "text": [
      "233.33333333333334\n",
      "466.6666666666667\n",
      "733.3333333333334\n",
      "1033.3333333333333\n"
     ]
    }
   ],
   "source": [
    "print(abs(my_list[0] + my_list[1] + my_list[2])/3)   #abs(x) : 절대값을 구할때 abs라는 이름의 함수를 사용\n",
    "print(abs(my_list[1] + my_list[2] + my_list[3])/3)\n",
    "print(abs(my_list[2] + my_list[3] + my_list[4])/3)\n",
    "print(abs(my_list[3] + my_list[4] + my_list[5])/3)"
   ]
  },
  {
   "cell_type": "code",
   "execution_count": 71,
   "id": "2c952cd9",
   "metadata": {
    "ExecuteTime": {
     "end_time": "2023-12-10T10:56:19.871030Z",
     "start_time": "2023-12-10T10:56:19.866726Z"
    }
   },
   "outputs": [
    {
     "name": "stdout",
     "output_type": "stream",
     "text": [
      "233.33333333333334\n",
      "466.6666666666667\n",
      "733.3333333333334\n",
      "1033.3333333333333\n"
     ]
    }
   ],
   "source": [
    "for i in [1, 2, 3, 4]:\n",
    "    print(abs(my_list[i-1] + my_list[i] + my_list[i+1]) / 3)"
   ]
  },
  {
   "cell_type": "code",
   "execution_count": 72,
   "id": "05475894",
   "metadata": {
    "ExecuteTime": {
     "end_time": "2023-12-10T10:56:23.143235Z",
     "start_time": "2023-12-10T10:56:23.139607Z"
    },
    "scrolled": true
   },
   "outputs": [
    {
     "name": "stdout",
     "output_type": "stream",
     "text": [
      "233.33333333333334\n",
      "466.6666666666667\n",
      "733.3333333333334\n",
      "1033.3333333333333\n"
     ]
    }
   ],
   "source": [
    "for i in range(1, len(my_list) - 1):\n",
    "    print(abs(my_list[i-1] + my_list[i] + my_list[i+1]) / 3)"
   ]
  },
  {
   "cell_type": "code",
   "execution_count": 2,
   "id": "df576f12",
   "metadata": {
    "ExecuteTime": {
     "end_time": "2023-12-10T11:08:22.270472Z",
     "start_time": "2023-12-10T11:08:22.268104Z"
    }
   },
   "outputs": [],
   "source": [
    "#181\n",
    "#아래 표에서 하나의 행을 하나의 리스트로, 총 3개의 리스트를 갖는 이차원 리스트 apart를 정의하라.\n",
    "\n",
    "apart = [ [\"101호\", \"102호\"], [\"201호\", \"202호\"], [\"301호\", \"302호\"] ]"
   ]
  },
  {
   "cell_type": "code",
   "execution_count": 3,
   "id": "99f36eef",
   "metadata": {
    "ExecuteTime": {
     "end_time": "2023-12-10T11:08:55.316657Z",
     "start_time": "2023-12-10T11:08:55.313363Z"
    }
   },
   "outputs": [],
   "source": [
    "#182\n",
    "#아래 표에서 하나의 열을 하나의 리스트로, 총 2개의 리스트를 갖는 이차원 리스트 stock을 정의하라.\n",
    "\n",
    "stock = [ [\"시가\", 100, 200, 300], [\"종가\", 80, 210, 330] ]"
   ]
  },
  {
   "cell_type": "code",
   "execution_count": 4,
   "id": "ab66dc12",
   "metadata": {
    "ExecuteTime": {
     "end_time": "2023-12-10T11:09:44.323895Z",
     "start_time": "2023-12-10T11:09:44.320391Z"
    }
   },
   "outputs": [],
   "source": [
    "stock = {\"시가\": [100, 200, 300], \"종가\": [80, 210, 330] }"
   ]
  },
  {
   "cell_type": "code",
   "execution_count": 5,
   "id": "24201152",
   "metadata": {
    "ExecuteTime": {
     "end_time": "2023-12-10T11:10:09.366684Z",
     "start_time": "2023-12-10T11:10:09.363530Z"
    }
   },
   "outputs": [],
   "source": [
    "#185\n",
    "#리스트에 저장된 데이터를 아래와 같이 출력하라.\n",
    "\n",
    "apart = [ [101, 102], [201, 202], [301, 302] ]"
   ]
  },
  {
   "cell_type": "code",
   "execution_count": 6,
   "id": "760f80c7",
   "metadata": {
    "ExecuteTime": {
     "end_time": "2023-12-10T11:10:11.754414Z",
     "start_time": "2023-12-10T11:10:11.748697Z"
    },
    "scrolled": true
   },
   "outputs": [
    {
     "name": "stdout",
     "output_type": "stream",
     "text": [
      "101 호\n",
      "102 호\n",
      "201 호\n",
      "202 호\n",
      "301 호\n",
      "302 호\n"
     ]
    }
   ],
   "source": [
    "for row in apart:\n",
    "    for col in row:\n",
    "        print(col, \"호\")"
   ]
  },
  {
   "cell_type": "code",
   "execution_count": 7,
   "id": "55d3a389",
   "metadata": {
    "ExecuteTime": {
     "end_time": "2023-12-10T11:14:41.454515Z",
     "start_time": "2023-12-10T11:14:41.451502Z"
    }
   },
   "outputs": [
    {
     "name": "stdout",
     "output_type": "stream",
     "text": [
      "301 호\n",
      "302 호\n",
      "201 호\n",
      "202 호\n",
      "101 호\n",
      "102 호\n"
     ]
    }
   ],
   "source": [
    "for row in apart[::-1]:\n",
    "    for col in row:\n",
    "        print(col, \"호\")"
   ]
  },
  {
   "cell_type": "code",
   "execution_count": 8,
   "id": "c3775f70",
   "metadata": {
    "ExecuteTime": {
     "end_time": "2023-12-10T11:15:13.131584Z",
     "start_time": "2023-12-10T11:15:13.128582Z"
    }
   },
   "outputs": [
    {
     "name": "stdout",
     "output_type": "stream",
     "text": [
      "302 호\n",
      "301 호\n",
      "202 호\n",
      "201 호\n",
      "102 호\n",
      "101 호\n"
     ]
    }
   ],
   "source": [
    "for row in apart[::-1]:\n",
    "    for col in row[::-1]:\n",
    "        print(col, \"호\")"
   ]
  },
  {
   "cell_type": "code",
   "execution_count": 9,
   "id": "973f2d3e",
   "metadata": {
    "ExecuteTime": {
     "end_time": "2023-12-10T11:15:25.333218Z",
     "start_time": "2023-12-10T11:15:25.329777Z"
    }
   },
   "outputs": [
    {
     "name": "stdout",
     "output_type": "stream",
     "text": [
      "101 호\n",
      "-----\n",
      "102 호\n",
      "-----\n",
      "201 호\n",
      "-----\n",
      "202 호\n",
      "-----\n",
      "301 호\n",
      "-----\n",
      "302 호\n",
      "-----\n"
     ]
    }
   ],
   "source": [
    "for row in apart:\n",
    "    for col in row:\n",
    "        print(col, \"호\")\n",
    "        print(\"-\" * 5)"
   ]
  },
  {
   "cell_type": "code",
   "execution_count": 10,
   "id": "e1d9d0ce",
   "metadata": {
    "ExecuteTime": {
     "end_time": "2023-12-10T11:16:00.066237Z",
     "start_time": "2023-12-10T11:16:00.063012Z"
    }
   },
   "outputs": [
    {
     "name": "stdout",
     "output_type": "stream",
     "text": [
      "101 호\n",
      "102 호\n",
      "-----\n",
      "201 호\n",
      "202 호\n",
      "-----\n",
      "301 호\n",
      "302 호\n",
      "-----\n"
     ]
    }
   ],
   "source": [
    "for row in apart:\n",
    "    for col in row:\n",
    "        print(col, \"호\")\n",
    "    print(\"-----\")"
   ]
  },
  {
   "cell_type": "code",
   "execution_count": 11,
   "id": "e82eba87",
   "metadata": {
    "ExecuteTime": {
     "end_time": "2023-12-10T11:16:15.492503Z",
     "start_time": "2023-12-10T11:16:15.488863Z"
    }
   },
   "outputs": [
    {
     "name": "stdout",
     "output_type": "stream",
     "text": [
      "101 호\n",
      "102 호\n",
      "201 호\n",
      "202 호\n",
      "301 호\n",
      "302 호\n",
      "-----\n"
     ]
    }
   ],
   "source": [
    "for row in apart:\n",
    "    for col in row:\n",
    "        print(col, \"호\")\n",
    "print(\"-\" * 5)"
   ]
  },
  {
   "cell_type": "code",
   "execution_count": 12,
   "id": "209613ef",
   "metadata": {
    "ExecuteTime": {
     "end_time": "2023-12-10T11:16:57.482373Z",
     "start_time": "2023-12-10T11:16:57.479724Z"
    }
   },
   "outputs": [],
   "source": [
    "#191\n",
    "#data에는 매수한 종목들의 OHLC (open/high/low/close) 가격 정보가 바인딩 되어있다.\n",
    "\n",
    "data = [\n",
    "    [ 2000,  3050,  2050,  1980],\n",
    "    [ 7500,  2050,  2050,  1980],\n",
    "    [15450, 15050, 15550, 14900]\n",
    "]"
   ]
  },
  {
   "cell_type": "code",
   "execution_count": 13,
   "id": "bc7f6fcf",
   "metadata": {
    "ExecuteTime": {
     "end_time": "2023-12-10T11:17:07.140178Z",
     "start_time": "2023-12-10T11:17:07.136436Z"
    }
   },
   "outputs": [
    {
     "name": "stdout",
     "output_type": "stream",
     "text": [
      "2000.28\n",
      "3050.427\n",
      "2050.2870000000003\n",
      "1980.2772\n",
      "7501.05\n",
      "2050.2870000000003\n",
      "2050.2870000000003\n",
      "1980.2772\n",
      "15452.163\n",
      "15052.107\n",
      "15552.177\n",
      "14902.086000000001\n"
     ]
    }
   ],
   "source": [
    "#수수료를 0.014 %로 가정할 때, 각 가격에 수수료를 포함한 가격을 한라인에 하나씩 출력하라.\n",
    "\n",
    "for line in data:\n",
    "    for column in line:\n",
    "        print(column * 1.00014)"
   ]
  },
  {
   "cell_type": "code",
   "execution_count": 14,
   "id": "4da61090",
   "metadata": {
    "ExecuteTime": {
     "end_time": "2023-12-10T11:18:02.884466Z",
     "start_time": "2023-12-10T11:18:02.880961Z"
    }
   },
   "outputs": [
    {
     "name": "stdout",
     "output_type": "stream",
     "text": [
      "2000.28\n",
      "3050.427\n",
      "2050.2870000000003\n",
      "1980.2772\n",
      "----\n",
      "7501.05\n",
      "2050.2870000000003\n",
      "2050.2870000000003\n",
      "1980.2772\n",
      "----\n",
      "15452.163\n",
      "15052.107\n",
      "15552.177\n",
      "14902.086000000001\n",
      "----\n"
     ]
    }
   ],
   "source": [
    "#192\n",
    "#191번의 출력 결과에 행단위로 \"----\" 구분자를 추가하라.\n",
    "\n",
    "for line in data:\n",
    "    for column in line:\n",
    "        print(column * 1.00014)\n",
    "    print(\"----\")"
   ]
  },
  {
   "cell_type": "code",
   "execution_count": 15,
   "id": "03ac815b",
   "metadata": {
    "ExecuteTime": {
     "end_time": "2023-12-10T11:19:54.556475Z",
     "start_time": "2023-12-10T11:19:54.553028Z"
    },
    "scrolled": true
   },
   "outputs": [
    {
     "name": "stdout",
     "output_type": "stream",
     "text": [
      "[2000.28, 3050.427, 2050.2870000000003, 1980.2772, 7501.05, 2050.2870000000003, 2050.2870000000003, 1980.2772, 15452.163, 15052.107, 15552.177, 14902.086000000001]\n"
     ]
    }
   ],
   "source": [
    "#193\n",
    "#192 번 문제의 결괏값을 result 이름의 리스트에 1차원 배열로 저장하라.\n",
    "\n",
    "result = []\n",
    "for line in data:\n",
    "    for column in line:\n",
    "        result.append(column * 1.00014)\n",
    "print(result)"
   ]
  },
  {
   "cell_type": "code",
   "execution_count": 2,
   "id": "7273e374",
   "metadata": {
    "ExecuteTime": {
     "end_time": "2023-12-10T11:26:32.597422Z",
     "start_time": "2023-12-10T11:26:32.593918Z"
    }
   },
   "outputs": [],
   "source": [
    "#195\n",
    "#ohlc 리스트에는 시가(open), 고가 (high), 저가 (low) , 종가(close)가 날짜별로 저장돼 있다. 화면에 종가데이터를 출력하라.\n",
    "\n",
    "ohlc = [[\"open\", \"high\", \"low\", \"close\"],\n",
    "        [100, 110, 70, 100],\n",
    "        [200, 210, 180, 190],\n",
    "        [300, 310, 300, 310]]"
   ]
  },
  {
   "cell_type": "code",
   "execution_count": 3,
   "id": "3f018762",
   "metadata": {
    "ExecuteTime": {
     "end_time": "2023-12-10T11:26:34.104894Z",
     "start_time": "2023-12-10T11:26:34.100403Z"
    }
   },
   "outputs": [
    {
     "name": "stdout",
     "output_type": "stream",
     "text": [
      "100\n",
      "190\n",
      "310\n"
     ]
    }
   ],
   "source": [
    "for row in ohlc[1:]:\n",
    "    print(row[3])"
   ]
  },
  {
   "cell_type": "code",
   "execution_count": 4,
   "id": "4a9a96e3",
   "metadata": {
    "ExecuteTime": {
     "end_time": "2023-12-10T11:26:34.953174Z",
     "start_time": "2023-12-10T11:26:34.950617Z"
    }
   },
   "outputs": [
    {
     "name": "stdout",
     "output_type": "stream",
     "text": [
      "190\n",
      "310\n"
     ]
    }
   ],
   "source": [
    "for row in ohlc[1:]:\n",
    "    if (row[3] > 150):\n",
    "        print(row[3])"
   ]
  },
  {
   "cell_type": "code",
   "execution_count": 5,
   "id": "cacad172",
   "metadata": {
    "ExecuteTime": {
     "end_time": "2023-12-10T11:26:35.574292Z",
     "start_time": "2023-12-10T11:26:35.570291Z"
    }
   },
   "outputs": [
    {
     "name": "stdout",
     "output_type": "stream",
     "text": [
      "[40, 30, 10]\n"
     ]
    }
   ],
   "source": [
    "#198\n",
    "\n",
    "volatility = []\n",
    "for i in range(1, len(ohlc)):\n",
    "    volatility.append(ohlc[i][1]-ohlc[i][2])\n",
    "print(volatility)"
   ]
  },
  {
   "cell_type": "code",
   "execution_count": 6,
   "id": "7460a380",
   "metadata": {
    "ExecuteTime": {
     "end_time": "2023-12-10T11:26:36.250362Z",
     "start_time": "2023-12-10T11:26:36.247346Z"
    }
   },
   "outputs": [
    {
     "name": "stdout",
     "output_type": "stream",
     "text": [
      "10\n"
     ]
    }
   ],
   "source": [
    "for row in ohlc[1:]:\n",
    "    if row[3] > row[0]:\n",
    "        print(row[1]-row[2])"
   ]
  },
  {
   "cell_type": "code",
   "execution_count": 1,
   "id": "41972f60",
   "metadata": {
    "ExecuteTime": {
     "end_time": "2023-12-10T11:27:21.622918Z",
     "start_time": "2023-12-10T11:27:21.616930Z"
    }
   },
   "outputs": [],
   "source": [
    "#201\n",
    "#\"비트코인\" 문자열을 화면에 출력하는 print_coin() 함수를 정의하라.\n",
    "\n",
    "def print_coin():\n",
    "    print(\"비트코인\")"
   ]
  },
  {
   "cell_type": "code",
   "execution_count": 2,
   "id": "17ee48ac",
   "metadata": {
    "ExecuteTime": {
     "end_time": "2023-12-10T11:27:26.911397Z",
     "start_time": "2023-12-10T11:27:26.905705Z"
    }
   },
   "outputs": [
    {
     "name": "stdout",
     "output_type": "stream",
     "text": [
      "비트코인\n"
     ]
    }
   ],
   "source": [
    "print_coin()"
   ]
  },
  {
   "cell_type": "code",
   "execution_count": 3,
   "id": "32041821",
   "metadata": {
    "ExecuteTime": {
     "end_time": "2023-12-10T11:27:36.622531Z",
     "start_time": "2023-12-10T11:27:36.619530Z"
    }
   },
   "outputs": [
    {
     "name": "stdout",
     "output_type": "stream",
     "text": [
      "비트코인\n",
      "비트코인\n",
      "비트코인\n",
      "비트코인\n",
      "비트코인\n",
      "비트코인\n",
      "비트코인\n",
      "비트코인\n",
      "비트코인\n",
      "비트코인\n",
      "비트코인\n",
      "비트코인\n",
      "비트코인\n",
      "비트코인\n",
      "비트코인\n",
      "비트코인\n",
      "비트코인\n",
      "비트코인\n",
      "비트코인\n",
      "비트코인\n",
      "비트코인\n",
      "비트코인\n",
      "비트코인\n",
      "비트코인\n",
      "비트코인\n",
      "비트코인\n",
      "비트코인\n",
      "비트코인\n",
      "비트코인\n",
      "비트코인\n",
      "비트코인\n",
      "비트코인\n",
      "비트코인\n",
      "비트코인\n",
      "비트코인\n",
      "비트코인\n",
      "비트코인\n",
      "비트코인\n",
      "비트코인\n",
      "비트코인\n",
      "비트코인\n",
      "비트코인\n",
      "비트코인\n",
      "비트코인\n",
      "비트코인\n",
      "비트코인\n",
      "비트코인\n",
      "비트코인\n",
      "비트코인\n",
      "비트코인\n",
      "비트코인\n",
      "비트코인\n",
      "비트코인\n",
      "비트코인\n",
      "비트코인\n",
      "비트코인\n",
      "비트코인\n",
      "비트코인\n",
      "비트코인\n",
      "비트코인\n",
      "비트코인\n",
      "비트코인\n",
      "비트코인\n",
      "비트코인\n",
      "비트코인\n",
      "비트코인\n",
      "비트코인\n",
      "비트코인\n",
      "비트코인\n",
      "비트코인\n",
      "비트코인\n",
      "비트코인\n",
      "비트코인\n",
      "비트코인\n",
      "비트코인\n",
      "비트코인\n",
      "비트코인\n",
      "비트코인\n",
      "비트코인\n",
      "비트코인\n",
      "비트코인\n",
      "비트코인\n",
      "비트코인\n",
      "비트코인\n",
      "비트코인\n",
      "비트코인\n",
      "비트코인\n",
      "비트코인\n",
      "비트코인\n",
      "비트코인\n",
      "비트코인\n",
      "비트코인\n",
      "비트코인\n",
      "비트코인\n",
      "비트코인\n",
      "비트코인\n",
      "비트코인\n",
      "비트코인\n",
      "비트코인\n",
      "비트코인\n"
     ]
    }
   ],
   "source": [
    "for i in range(100):\n",
    "    print_coin()"
   ]
  },
  {
   "cell_type": "code",
   "execution_count": 5,
   "id": "302381c9",
   "metadata": {
    "ExecuteTime": {
     "end_time": "2023-12-10T11:29:01.908697Z",
     "start_time": "2023-12-10T11:29:01.904759Z"
    }
   },
   "outputs": [
    {
     "name": "stdout",
     "output_type": "stream",
     "text": [
      "A\n",
      "B\n",
      "C\n",
      "A\n",
      "B\n"
     ]
    }
   ],
   "source": [
    "#206\n",
    "#아래 코드의 실행 결과를 예측하라.\n",
    "\n",
    "def message() :\n",
    "    print(\"A\")\n",
    "    print(\"B\")\n",
    "\n",
    "message()\n",
    "print(\"C\")\n",
    "message()"
   ]
  },
  {
   "cell_type": "code",
   "execution_count": 6,
   "id": "4b2b7cf9",
   "metadata": {
    "ExecuteTime": {
     "end_time": "2023-12-10T11:29:21.502270Z",
     "start_time": "2023-12-10T11:29:21.499353Z"
    }
   },
   "outputs": [
    {
     "name": "stdout",
     "output_type": "stream",
     "text": [
      "A\n",
      "C\n",
      "B\n"
     ]
    }
   ],
   "source": [
    "#207\n",
    "\n",
    "print(\"A\")\n",
    "\n",
    "def message() :\n",
    "    print(\"B\")\n",
    "\n",
    "print(\"C\")\n",
    "message()"
   ]
  },
  {
   "cell_type": "code",
   "execution_count": 7,
   "id": "fbd670b7",
   "metadata": {
    "ExecuteTime": {
     "end_time": "2023-12-10T11:30:10.366064Z",
     "start_time": "2023-12-10T11:30:10.362702Z"
    }
   },
   "outputs": [
    {
     "name": "stdout",
     "output_type": "stream",
     "text": [
      "A\n",
      "C\n",
      "B\n",
      "E\n",
      "D\n"
     ]
    }
   ],
   "source": [
    "#208\n",
    "\n",
    "print(\"A\")\n",
    "def message1() :\n",
    "    print(\"B\")\n",
    "print(\"C\")\n",
    "def message2() :\n",
    "    print(\"D\")\n",
    "message1()\n",
    "print(\"E\")\n",
    "message2()"
   ]
  },
  {
   "cell_type": "code",
   "execution_count": 8,
   "id": "303e2848",
   "metadata": {
    "ExecuteTime": {
     "end_time": "2023-12-10T11:30:36.377866Z",
     "start_time": "2023-12-10T11:30:36.373853Z"
    }
   },
   "outputs": [
    {
     "name": "stdout",
     "output_type": "stream",
     "text": [
      "B\n",
      "C\n",
      "B\n",
      "C\n",
      "B\n",
      "C\n",
      "A\n"
     ]
    }
   ],
   "source": [
    "#210\n",
    "\n",
    "def message1():\n",
    "    print(\"A\")\n",
    "\n",
    "def message2():\n",
    "    print(\"B\")\n",
    "\n",
    "def message3():\n",
    "    for i in range (3) :\n",
    "        message2()\n",
    "        print(\"C\")\n",
    "    message1()\n",
    "\n",
    "message3()"
   ]
  },
  {
   "cell_type": "code",
   "execution_count": 9,
   "id": "742418cc",
   "metadata": {
    "ExecuteTime": {
     "end_time": "2023-12-10T11:34:04.119765Z",
     "start_time": "2023-12-10T11:34:04.116371Z"
    }
   },
   "outputs": [
    {
     "name": "stdout",
     "output_type": "stream",
     "text": [
      "안녕\n",
      "Hi\n"
     ]
    }
   ],
   "source": [
    "#211\n",
    "\n",
    "def 함수(문자열) :\n",
    "    print(문자열)\n",
    "\n",
    "함수(\"안녕\")\n",
    "함수(\"Hi\")"
   ]
  },
  {
   "cell_type": "code",
   "execution_count": 11,
   "id": "e1b2fc42",
   "metadata": {
    "ExecuteTime": {
     "end_time": "2023-12-10T11:34:38.692906Z",
     "start_time": "2023-12-10T11:34:38.689905Z"
    }
   },
   "outputs": [
    {
     "name": "stdout",
     "output_type": "stream",
     "text": [
      "7\n",
      "15\n"
     ]
    }
   ],
   "source": [
    "#212\n",
    "\n",
    "def 함수(a, b) :\n",
    "    print(a + b)\n",
    "    \n",
    "함수(3, 4)\n",
    "함수(7, 8)"
   ]
  },
  {
   "cell_type": "code",
   "execution_count": 12,
   "id": "5d136a15",
   "metadata": {
    "ExecuteTime": {
     "end_time": "2023-12-10T11:35:20.545999Z",
     "start_time": "2023-12-10T11:35:20.543127Z"
    }
   },
   "outputs": [],
   "source": [
    "#215\n",
    "\n",
    "def print_with_smile (string) :\n",
    "    print (string + \":D\")"
   ]
  },
  {
   "cell_type": "code",
   "execution_count": 13,
   "id": "791a038a",
   "metadata": {
    "ExecuteTime": {
     "end_time": "2023-12-10T11:35:36.876462Z",
     "start_time": "2023-12-10T11:35:36.873642Z"
    }
   },
   "outputs": [
    {
     "name": "stdout",
     "output_type": "stream",
     "text": [
      "안녕하세요:D\n"
     ]
    }
   ],
   "source": [
    "#216\n",
    "\n",
    "print_with_smile(\"안녕하세요\")"
   ]
  },
  {
   "cell_type": "code",
   "execution_count": 1,
   "id": "93cdd831",
   "metadata": {
    "ExecuteTime": {
     "end_time": "2023-12-10T11:36:01.759904Z",
     "start_time": "2023-12-10T11:36:01.752339Z"
    }
   },
   "outputs": [],
   "source": [
    "#217\n",
    "\n",
    "def print_upper_price(price) :\n",
    "    print(price * 1.3)"
   ]
  },
  {
   "cell_type": "code",
   "execution_count": 2,
   "id": "c3d9ede0",
   "metadata": {
    "ExecuteTime": {
     "end_time": "2023-12-10T11:36:20.394701Z",
     "start_time": "2023-12-10T11:36:20.391580Z"
    }
   },
   "outputs": [],
   "source": [
    "#218\n",
    "\n",
    "def print_sum (a, b) :\n",
    "    print (a + b)"
   ]
  },
  {
   "cell_type": "code",
   "execution_count": 4,
   "id": "e937a40a",
   "metadata": {
    "ExecuteTime": {
     "end_time": "2023-12-10T11:38:04.411849Z",
     "start_time": "2023-12-10T11:38:04.406673Z"
    }
   },
   "outputs": [
    {
     "name": "stdout",
     "output_type": "stream",
     "text": [
      "3 + 4 = 7\n",
      "3 - 4 = -1\n",
      "3 * 4 = 12\n",
      "3 / 4 = 0.75\n"
     ]
    }
   ],
   "source": [
    "#219\n",
    "\n",
    "print_arithmetic_operation(3, 4)\n",
    "def print_arithmetic_operation(a, b):\n",
    "    print(a, \"+\", b, \"=\", a + b)\n",
    "    print(a, \"-\", b, \"=\", a - b)\n",
    "    print(a, \"*\", b, \"=\", a * b)\n",
    "    print(a, \"/\", b, \"=\", a / b)"
   ]
  },
  {
   "cell_type": "code",
   "execution_count": 8,
   "id": "d9c9405e",
   "metadata": {
    "ExecuteTime": {
     "end_time": "2023-12-10T11:38:46.080773Z",
     "start_time": "2023-12-10T11:38:46.077661Z"
    }
   },
   "outputs": [],
   "source": [
    "#220\n",
    "#세 개의 숫자를 입력받아 가장 큰수를 출력하는 print_max 함수를 정의하라. 단 if 문을 사용해서 수를 비교하라.\n",
    "\n",
    "def print_max(a, b, c) :\n",
    "    max_val = 0\n",
    "    if a > max_val :\n",
    "        max_val = a\n",
    "    if b > max_val :\n",
    "        max_val = b\n",
    "    if c > max_val :\n",
    "        max_val = c\n",
    "    print(max_val)"
   ]
  },
  {
   "cell_type": "code",
   "execution_count": 10,
   "id": "01e33ce1",
   "metadata": {
    "ExecuteTime": {
     "end_time": "2023-12-10T11:43:55.829188Z",
     "start_time": "2023-12-10T11:43:55.825292Z"
    }
   },
   "outputs": [
    {
     "name": "stdout",
     "output_type": "stream",
     "text": [
      "nohtyp\n"
     ]
    }
   ],
   "source": [
    "#221\n",
    "#입력된 문자열을 역순으로 출력하는 print_reverse 함수를 정의하라.\n",
    "\n",
    "print_reverse(\"python\")\n",
    "def print_reverse(string) :\n",
    "    print(string[::-1])"
   ]
  },
  {
   "cell_type": "code",
   "execution_count": 21,
   "id": "a74ed63d",
   "metadata": {
    "ExecuteTime": {
     "end_time": "2023-12-10T11:52:06.229409Z",
     "start_time": "2023-12-10T11:52:06.225402Z"
    }
   },
   "outputs": [
    {
     "name": "stdout",
     "output_type": "stream",
     "text": [
      "2.0\n"
     ]
    }
   ],
   "source": [
    "#222\n",
    "#성적 리스트를 입력 받아 평균을 출력하는 print_score 함수를 정의하라.\n",
    "\n",
    "def print_score(score_list) :\n",
    "    print(sum(score_list)/len(score_list))\n",
    "    \n",
    "print_score ([1, 2, 3])"
   ]
  },
  {
   "cell_type": "code",
   "execution_count": 20,
   "id": "b6dff6d5",
   "metadata": {
    "ExecuteTime": {
     "end_time": "2023-12-10T11:52:03.212752Z",
     "start_time": "2023-12-10T11:52:03.209063Z"
    }
   },
   "outputs": [
    {
     "name": "stdout",
     "output_type": "stream",
     "text": [
      "2\n",
      "10\n",
      "12\n"
     ]
    }
   ],
   "source": [
    "#223\n",
    "#하나의 리스트를 입력받아 짝수만 화면에 출력하는 print_even 함수를 정의하라.\n",
    "\n",
    "def print_even (my_list) :\n",
    "    for v in my_list :\n",
    "        if v % 2 == 0 :\n",
    "            print(v)\n",
    "            \n",
    "print_even ([1, 3, 2, 10, 12, 11, 15])"
   ]
  },
  {
   "cell_type": "code",
   "execution_count": 19,
   "id": "b63afcdd",
   "metadata": {
    "ExecuteTime": {
     "end_time": "2023-12-10T11:52:01.348784Z",
     "start_time": "2023-12-10T11:52:01.344758Z"
    }
   },
   "outputs": [
    {
     "name": "stdout",
     "output_type": "stream",
     "text": [
      "이름\n",
      "나이\n",
      "성별\n"
     ]
    }
   ],
   "source": [
    "#224\n",
    "#하나의 딕셔너리를 입력받아 딕셔너리의 key 값을 화면에 출력하는 print_keys 함수를 정의하라.\n",
    "\n",
    "def print_keys(dic):\n",
    "    for keys in dic.keys():\n",
    "        print(keys)\n",
    "        \n",
    "print_keys ({\"이름\":\"김말똥\", \"나이\":30, \"성별\":0})"
   ]
  },
  {
   "cell_type": "code",
   "execution_count": 42,
   "id": "5f8504fb",
   "metadata": {
    "ExecuteTime": {
     "end_time": "2023-12-10T11:58:22.923979Z",
     "start_time": "2023-12-10T11:58:22.919696Z"
    }
   },
   "outputs": [
    {
     "name": "stdout",
     "output_type": "stream",
     "text": [
      "[100, 130, 100, 100]\n"
     ]
    }
   ],
   "source": [
    "#225\n",
    "#my_dict에는 날짜를 키값으로 OHLC가 리스트로 저장돼 있다.\n",
    "#my_dict와 날짜 키값을 입력받아 OHLC 리스트를 출력하는 print_value_by_key 함수를 정의하라.\n",
    "\n",
    "def print_value_by_key (my_dict, key) :\n",
    "    print(my_dict[key])\n",
    "\n",
    "my_dict = {\"10/26\" : [100, 130, 100, 100],\n",
    "           \"10/27\" : [10, 12, 10, 11]}\n",
    "\n",
    "print_value_by_key  (my_dict, \"10/26\")"
   ]
  },
  {
   "cell_type": "code",
   "execution_count": 46,
   "id": "0fe9883e",
   "metadata": {
    "ExecuteTime": {
     "end_time": "2023-12-10T12:00:10.875270Z",
     "start_time": "2023-12-10T12:00:10.871767Z"
    }
   },
   "outputs": [
    {
     "name": "stdout",
     "output_type": "stream",
     "text": [
      "아이엠어보\n",
      "이유알어걸\n",
      "\n"
     ]
    }
   ],
   "source": [
    "#226\n",
    "#입력 문자열을 한 줄에 다섯글자씩 출력하는 print_5xn(string) 함수를 작성하라.\n",
    "\n",
    "def print_5xn(line):\n",
    "    chunk_num = int(len(line) / 5)\n",
    "    for x in range(chunk_num + 1) :\n",
    "        print(line[x * 5: x * 5 + 5])\n",
    "        \n",
    "print_5xn(\"아이엠어보이유알어걸\")"
   ]
  },
  {
   "cell_type": "code",
   "execution_count": 54,
   "id": "36a624c1",
   "metadata": {
    "ExecuteTime": {
     "end_time": "2023-12-10T12:03:59.501358Z",
     "start_time": "2023-12-10T12:03:59.496855Z"
    }
   },
   "outputs": [
    {
     "name": "stdout",
     "output_type": "stream",
     "text": [
      "아이엠\n",
      "어보이\n",
      "유알어\n",
      "걸\n"
     ]
    }
   ],
   "source": [
    "#227\n",
    "#문자열과 한줄에 출력될 글자 수를 입력을 받아 한 줄에 입력된 글자 수만큼 출력하는 print_mxn(string) 함수를 작성하라.\n",
    "\n",
    "def print_mxn(line, num):\n",
    "    chunk_num = int(len(line) / num)\n",
    "    for x in range(chunk_num + 1) :\n",
    "        print(line[x * num: x * num + num])\n",
    "\n",
    "print_mxn(\"아이엠어보이유알어걸\", 3)"
   ]
  },
  {
   "cell_type": "code",
   "execution_count": 55,
   "id": "406923ae",
   "metadata": {
    "ExecuteTime": {
     "end_time": "2023-12-10T12:07:50.656918Z",
     "start_time": "2023-12-10T12:07:50.650279Z"
    }
   },
   "outputs": [
    {
     "data": {
      "text/plain": [
       "1000000"
      ]
     },
     "execution_count": 55,
     "metadata": {},
     "output_type": "execute_result"
    }
   ],
   "source": [
    "#228\n",
    "#연봉을 입력받아 월급을 계산하는 calc_monthly_salary(annual_salary) 함수를 정의하라. \n",
    "#회사는 연봉을 12개월로 나누어 분할 지급하며, 이 때 1원 미만은 버림한다.\n",
    "\n",
    "def calc_monthly_salary(annual_pay) :\n",
    "    monthly_pay = int(annual_pay / 12)\n",
    "    return monthly_pay\n",
    "\n",
    "calc_monthly_salary(12000000)"
   ]
  },
  {
   "cell_type": "code",
   "execution_count": 56,
   "id": "bc1ab1f8",
   "metadata": {
    "ExecuteTime": {
     "end_time": "2023-12-10T12:08:38.676961Z",
     "start_time": "2023-12-10T12:08:38.673119Z"
    }
   },
   "outputs": [
    {
     "name": "stdout",
     "output_type": "stream",
     "text": [
      "왼쪽: 100\n",
      "오른쪽: 200\n"
     ]
    }
   ],
   "source": [
    "#229\n",
    "\n",
    "def my_print (a, b) :\n",
    "    print(\"왼쪽:\", a)\n",
    "    print(\"오른쪽:\", b)\n",
    "\n",
    "my_print(a=100, b=200)"
   ]
  },
  {
   "cell_type": "code",
   "execution_count": 57,
   "id": "1125b12b",
   "metadata": {
    "ExecuteTime": {
     "end_time": "2023-12-10T12:11:35.014691Z",
     "start_time": "2023-12-10T12:11:35.011186Z"
    }
   },
   "outputs": [
    {
     "name": "stdout",
     "output_type": "stream",
     "text": [
      "왼쪽: 200\n",
      "오른쪽: 100\n"
     ]
    }
   ],
   "source": [
    "#230\n",
    "\n",
    "def my_print (a, b) :\n",
    "    print(\"왼쪽:\", a)\n",
    "    print(\"오른쪽:\", b)\n",
    "\n",
    "my_print(b=100, a=200)"
   ]
  },
  {
   "cell_type": "code",
   "execution_count": 59,
   "id": "b90fa696",
   "metadata": {
    "ExecuteTime": {
     "end_time": "2023-12-10T12:12:04.363101Z",
     "start_time": "2023-12-10T12:12:04.358818Z"
    }
   },
   "outputs": [
    {
     "data": {
      "text/plain": [
       "'www.naver.com'"
      ]
     },
     "execution_count": 59,
     "metadata": {},
     "output_type": "execute_result"
    }
   ],
   "source": [
    "#232\n",
    "#문자열 하나를 입력받아 인터넷 주소를 반환하는 make_url 함수를 정의하라.\n",
    "\n",
    "def make_url(string) :\n",
    "    url = \"www.\" + string + \".com\"\n",
    "    return url\n",
    "\n",
    "make_url(\"naver\")"
   ]
  },
  {
   "cell_type": "code",
   "execution_count": 61,
   "id": "68a9e64b",
   "metadata": {
    "ExecuteTime": {
     "end_time": "2023-12-10T12:12:14.084313Z",
     "start_time": "2023-12-10T12:12:14.080807Z"
    }
   },
   "outputs": [
    {
     "data": {
      "text/plain": [
       "'www.naver.com'"
      ]
     },
     "execution_count": 61,
     "metadata": {},
     "output_type": "execute_result"
    }
   ],
   "source": [
    "def make_url(string) :\n",
    "    return \"www.\" + string + \".com\"\n",
    "\n",
    "make_url(\"naver\")"
   ]
  },
  {
   "cell_type": "code",
   "execution_count": 62,
   "id": "39009bd9",
   "metadata": {
    "ExecuteTime": {
     "end_time": "2023-12-10T12:13:12.318098Z",
     "start_time": "2023-12-10T12:13:12.313381Z"
    }
   },
   "outputs": [
    {
     "data": {
      "text/plain": [
       "[4, 6, 8]"
      ]
     },
     "execution_count": 62,
     "metadata": {},
     "output_type": "execute_result"
    }
   ],
   "source": [
    "#234\n",
    "#숫자로 구성된 하나의 리스트를 입력받아, 짝수들을 추출하여 리스트로 반환하는 pickup_even 함수를 구현하라.\n",
    "\n",
    "def pickup_even(items):\n",
    "    result = []\n",
    "    for item in items:\n",
    "        if item % 2 == 0:\n",
    "            result.append(item)\n",
    "    return result\n",
    "\n",
    "pickup_even([3, 4, 5, 6, 7, 8])"
   ]
  },
  {
   "cell_type": "code",
   "execution_count": 63,
   "id": "becf9918",
   "metadata": {
    "ExecuteTime": {
     "end_time": "2023-12-10T12:14:33.313372Z",
     "start_time": "2023-12-10T12:14:33.309812Z"
    }
   },
   "outputs": [
    {
     "data": {
      "text/plain": [
       "1234567"
      ]
     },
     "execution_count": 63,
     "metadata": {},
     "output_type": "execute_result"
    }
   ],
   "source": [
    "#235\n",
    "#콤마가 포함된 문자열 숫자를 입력받아 정수로 변환하는 convert_int 함수를 정의하라.\n",
    "\n",
    "def convert_int (string) :\n",
    "    return int(string.replace(',', ''))\n",
    "\n",
    "convert_int(\"1,234,567\")"
   ]
  },
  {
   "cell_type": "code",
   "execution_count": 64,
   "id": "91461cec",
   "metadata": {
    "ExecuteTime": {
     "end_time": "2023-12-10T12:16:13.391833Z",
     "start_time": "2023-12-10T12:16:13.388487Z"
    }
   },
   "outputs": [
    {
     "name": "stdout",
     "output_type": "stream",
     "text": [
      "22\n"
     ]
    }
   ],
   "source": [
    "#236\n",
    "\n",
    "def 함수(num) :\n",
    "    return num + 4\n",
    "\n",
    "a = 함수(10)\n",
    "b = 함수(a)\n",
    "c = 함수(b)\n",
    "print(c)"
   ]
  },
  {
   "cell_type": "code",
   "execution_count": 65,
   "id": "e9026edb",
   "metadata": {
    "ExecuteTime": {
     "end_time": "2023-12-10T12:18:32.619637Z",
     "start_time": "2023-12-10T12:18:32.616323Z"
    }
   },
   "outputs": [
    {
     "name": "stdout",
     "output_type": "stream",
     "text": [
      "22\n"
     ]
    }
   ],
   "source": [
    "#237\n",
    "\n",
    "def 함수(num) :\n",
    "    return num + 4\n",
    "\n",
    "c = 함수(함수(함수(10)))\n",
    "print(c)"
   ]
  },
  {
   "cell_type": "code",
   "execution_count": 66,
   "id": "6a084378",
   "metadata": {
    "ExecuteTime": {
     "end_time": "2023-12-10T12:19:15.210281Z",
     "start_time": "2023-12-10T12:19:15.206451Z"
    }
   },
   "outputs": [
    {
     "name": "stdout",
     "output_type": "stream",
     "text": [
      "140\n"
     ]
    }
   ],
   "source": [
    "#238\n",
    "\n",
    "def 함수1(num) :\n",
    "    return num + 4\n",
    "\n",
    "def 함수2(num) :\n",
    "    return num * 10\n",
    "\n",
    "a = 함수1(10)\n",
    "c = 함수2(a)\n",
    "print(c)"
   ]
  },
  {
   "cell_type": "code",
   "execution_count": 67,
   "id": "15b584bc",
   "metadata": {
    "ExecuteTime": {
     "end_time": "2023-12-10T12:20:15.738220Z",
     "start_time": "2023-12-10T12:20:15.735206Z"
    }
   },
   "outputs": [
    {
     "name": "stdout",
     "output_type": "stream",
     "text": [
      "2023-12-10 21:20:15.736206\n"
     ]
    }
   ],
   "source": [
    "#241\n",
    "\n",
    "import datetime      #년, 월, 일로 다음과 같이 datetime.date 객체를 만들 수 있다.\n",
    "\n",
    "now = datetime.datetime.now()\n",
    "print(now)"
   ]
  },
  {
   "cell_type": "code",
   "execution_count": 68,
   "id": "06b32e3b",
   "metadata": {
    "ExecuteTime": {
     "end_time": "2023-12-10T12:20:42.869849Z",
     "start_time": "2023-12-10T12:20:42.866843Z"
    }
   },
   "outputs": [
    {
     "name": "stdout",
     "output_type": "stream",
     "text": [
      "2023-12-10 21:20:42.867844 <class 'datetime.datetime'>\n"
     ]
    }
   ],
   "source": [
    "#242\n",
    "#현재 시간의 타입\n",
    "\n",
    "import datetime\n",
    "\n",
    "now = datetime.datetime.now()   #시, 분, 초까지 포함한 일시 데이터를 생성하려면 다음과 같이 datetime.datetime을 사용\n",
    "print(now, type(now))"
   ]
  },
  {
   "cell_type": "code",
   "execution_count": 69,
   "id": "edd1940c",
   "metadata": {
    "ExecuteTime": {
     "end_time": "2023-12-10T12:21:13.475662Z",
     "start_time": "2023-12-10T12:21:13.471676Z"
    }
   },
   "outputs": [
    {
     "name": "stdout",
     "output_type": "stream",
     "text": [
      "2023-12-05 21:21:13.472686\n",
      "2023-12-06 21:21:13.472686\n",
      "2023-12-07 21:21:13.472686\n",
      "2023-12-08 21:21:13.472686\n",
      "2023-12-09 21:21:13.472686\n"
     ]
    }
   ],
   "source": [
    "#243 timedelta\n",
    "#datetime 모듈의 timedelta를 사용해서 오늘로부터 5일, 4일, 3일, 2일, 1일 전의 날짜를 화면에 출력해보세요.\n",
    "#datetime.timedelta()는 두 날짜의 차이를 계산할 때 사용하는 함수이다. \n",
    "#timedelta 객체에는 산술 연산자 +와 -를 사용할 수 있으므로 어떤 날짜에 원하는 기간(일, 시, 분, 초)을 더하거나 뺄 수 있다.\n",
    "\n",
    "import datetime\n",
    "\n",
    "now = datetime.datetime.now()\n",
    "\n",
    "for day in range(5, 0, -1):\n",
    "    delta = datetime.timedelta(days=day)\n",
    "    date = now - delta\n",
    "    print(date)"
   ]
  },
  {
   "cell_type": "code",
   "execution_count": 70,
   "id": "0d8c0668",
   "metadata": {
    "ExecuteTime": {
     "end_time": "2023-12-10T12:24:49.962352Z",
     "start_time": "2023-12-10T12:24:49.959016Z"
    }
   },
   "outputs": [
    {
     "name": "stdout",
     "output_type": "stream",
     "text": [
      "21:24:49\n"
     ]
    }
   ],
   "source": [
    "#244 strftime\n",
    "#현재시간을 얻어온 후 다음과 같은 포맷으로 시간을 출력해보세요. strftime 메서드를 사용하세요\n",
    "\n",
    "import datetime\n",
    "\n",
    "now = datetime.datetime.now()\n",
    "print(now.strftime(\"%H:%M:%S\"))"
   ]
  },
  {
   "cell_type": "code",
   "execution_count": 71,
   "id": "4f8f4077",
   "metadata": {
    "ExecuteTime": {
     "end_time": "2023-12-10T12:26:17.495251Z",
     "start_time": "2023-12-10T12:26:17.491746Z"
    }
   },
   "outputs": [
    {
     "name": "stdout",
     "output_type": "stream",
     "text": [
      "2020-05-04 00:00:00 <class 'datetime.datetime'>\n"
     ]
    }
   ],
   "source": [
    "#245 strptime\n",
    "#datetime.datetime.strptime 메서드를 사용하면 문자열 형식의 시간을 datetime.datetime 타입의 시간 값으로 만들어줍니다. \n",
    "#2020-05-04\"의 문자열을 시간 타입으로 변환해보세요.\n",
    "\n",
    "import datetime\n",
    "\n",
    "day = \"2020-05-04\"\n",
    "ret = datetime.datetime.strptime(day, \"%Y-%m-%d\")\n",
    "print(ret, type(ret))"
   ]
  },
  {
   "cell_type": "code",
   "execution_count": 72,
   "id": "f6f37cfb",
   "metadata": {
    "ExecuteTime": {
     "end_time": "2023-12-10T12:27:58.682771Z",
     "start_time": "2023-12-10T12:27:52.665948Z"
    }
   },
   "outputs": [
    {
     "name": "stdout",
     "output_type": "stream",
     "text": [
      "2023-12-10 21:27:52.666948\n",
      "2023-12-10 21:27:53.668425\n",
      "2023-12-10 21:27:54.668527\n",
      "2023-12-10 21:27:55.668660\n",
      "2023-12-10 21:27:56.669126\n",
      "2023-12-10 21:27:57.669239\n"
     ]
    },
    {
     "ename": "KeyboardInterrupt",
     "evalue": "",
     "output_type": "error",
     "traceback": [
      "\u001b[1;31m---------------------------------------------------------------------------\u001b[0m",
      "\u001b[1;31mKeyboardInterrupt\u001b[0m                         Traceback (most recent call last)",
      "Cell \u001b[1;32mIn[72], line 10\u001b[0m\n\u001b[0;32m      8\u001b[0m now \u001b[38;5;241m=\u001b[39m datetime\u001b[38;5;241m.\u001b[39mdatetime\u001b[38;5;241m.\u001b[39mnow()\n\u001b[0;32m      9\u001b[0m \u001b[38;5;28mprint\u001b[39m(now)\n\u001b[1;32m---> 10\u001b[0m time\u001b[38;5;241m.\u001b[39msleep(\u001b[38;5;241m1\u001b[39m)\n",
      "\u001b[1;31mKeyboardInterrupt\u001b[0m: "
     ]
    }
   ],
   "source": [
    "#246 sleep 함수\n",
    "#time 모듈, datetime 모듈을 사용해서 1초에 한 번 현재 시간을 출력하는 코드를 작성하세요.\n",
    "\n",
    "import time\n",
    "import datetime\n",
    "\n",
    "while True:\n",
    "    now = datetime.datetime.now()\n",
    "    print(now)\n",
    "    time.sleep(1)"
   ]
  },
  {
   "cell_type": "code",
   "execution_count": 74,
   "id": "27ad52fb",
   "metadata": {
    "ExecuteTime": {
     "end_time": "2023-12-10T12:28:40.083700Z",
     "start_time": "2023-12-10T12:28:40.080761Z"
    }
   },
   "outputs": [
    {
     "name": "stdout",
     "output_type": "stream",
     "text": [
      "C:\\workspace\\python\\wassup <class 'str'>\n"
     ]
    }
   ],
   "source": [
    "#248 os 모듈\n",
    "#os 모듈의 getcwd 함수를 호출하여 현재 디렉터리의 경로를 화면에 출력해보세요.\n",
    "\n",
    "import os\n",
    "ret = os.getcwd()\n",
    "print(ret, type(ret))"
   ]
  },
  {
   "cell_type": "code",
   "execution_count": 77,
   "id": "c9b8a34c",
   "metadata": {
    "ExecuteTime": {
     "end_time": "2023-12-10T12:30:47.925813Z",
     "start_time": "2023-12-10T12:30:47.921808Z"
    }
   },
   "outputs": [],
   "source": [
    "#249 rename 함수\n",
    "#바탕화면에 텍스트 파일을 하나 생성한 후 os 모듈의 rename 함수를 호출하여 해당 파일의 이름을 변경해보세요.\n",
    "\n",
    "import os\n",
    "os.rename(\"C:\\workspace\\python\\wassup\\새파일.txt\", \"C:\\workspace\\python\\wassup\\새파일1.txt\")"
   ]
  },
  {
   "cell_type": "code",
   "execution_count": 78,
   "id": "85aca94c",
   "metadata": {
    "ExecuteTime": {
     "end_time": "2023-12-10T12:31:03.806717Z",
     "start_time": "2023-12-10T12:31:03.693873Z"
    }
   },
   "outputs": [
    {
     "name": "stdout",
     "output_type": "stream",
     "text": [
      "0.0\n",
      "0.1\n",
      "0.2\n",
      "0.30000000000000004\n",
      "0.4\n",
      "0.5\n",
      "0.6000000000000001\n",
      "0.7000000000000001\n",
      "0.8\n",
      "0.9\n",
      "1.0\n",
      "1.1\n",
      "1.2000000000000002\n",
      "1.3\n",
      "1.4000000000000001\n",
      "1.5\n",
      "1.6\n",
      "1.7000000000000002\n",
      "1.8\n",
      "1.9000000000000001\n",
      "2.0\n",
      "2.1\n",
      "2.2\n",
      "2.3000000000000003\n",
      "2.4000000000000004\n",
      "2.5\n",
      "2.6\n",
      "2.7\n",
      "2.8000000000000003\n",
      "2.9000000000000004\n",
      "3.0\n",
      "3.1\n",
      "3.2\n",
      "3.3000000000000003\n",
      "3.4000000000000004\n",
      "3.5\n",
      "3.6\n",
      "3.7\n",
      "3.8000000000000003\n",
      "3.9000000000000004\n",
      "4.0\n",
      "4.1000000000000005\n",
      "4.2\n",
      "4.3\n",
      "4.4\n",
      "4.5\n",
      "4.6000000000000005\n",
      "4.7\n",
      "4.800000000000001\n",
      "4.9\n"
     ]
    }
   ],
   "source": [
    "#250 numpy\n",
    "#numpy 모듈의 arange 함수를 사용해서 0.0 부터 5.0까지 0.1씩 증가하는 값을 화면에 출력해보세요.\n",
    "\n",
    "import numpy\n",
    "for i in numpy.arange(0, 5, 0.1):\n",
    "    print(i)"
   ]
  },
  {
   "cell_type": "code",
   "execution_count": 79,
   "id": "d05ed2d3",
   "metadata": {
    "ExecuteTime": {
     "end_time": "2023-12-10T12:32:01.819754Z",
     "start_time": "2023-12-10T12:32:01.813281Z"
    }
   },
   "outputs": [
    {
     "name": "stdout",
     "output_type": "stream",
     "text": [
      "김민수\n",
      "100\n",
      "SC은행\n",
      "542-33-975807\n"
     ]
    }
   ],
   "source": [
    "#271 Account 클래스\n",
    "#은행에 가서 계좌를 개설하면 은행이름, 예금주, 계좌번호, 잔액이 설정됩니다. \n",
    "#Account 클래스를 생성한 후 생성자를 구현해보세요. 생성자에서는 예금주와 초기 잔액만 입력 받습니다. \n",
    "#은행이름은 SC은행으로 계좌번호는 3자리-2자리-6자리 형태로 랜덤하게 생성됩니다.\n",
    "\n",
    "import random\n",
    "\n",
    "class Account:                                                                   #__init__에서 첫 번째로 들어가는 변수명은 Calc 클래스 스스로를 지칭\n",
    "    def __init__(self, name, balance):   #def __init__(self):    #__init__은 initialize를 표현한 구문이다. initialize는 '기본값 설정하기'    \n",
    "        self.name = name\n",
    "        self.balance = balance\n",
    "        self.bank = \"SC은행\"\n",
    "        num1 = random.randint(0, 999)\n",
    "        num2 = random.randint(0, 99)\n",
    "        num3 = random.randint(0, 999999)\n",
    " \n",
    "        num1 = str(num1).zfill(3)      # 1 -> '1' -> '001'       #zfill함수 : 파이썬에서 숫자를 출력하고자 하는데, 앞에 0을 붙여주고 싶을 때\n",
    "        num2 = str(num2).zfill(2)      # 1 -> '1' -> '01'\n",
    "        num3 = str(num3).zfill(6)      # 1 -> '1' -> '0000001'\n",
    "        self.account_number = num1 + '-' + num2 + '-' + num3  # 001-01-000001\n",
    "\n",
    "kim = Account(\"김민수\", 100)\n",
    "print(kim.name)\n",
    "print(kim.balance)\n",
    "print(kim.bank)\n",
    "print(kim.account_number)"
   ]
  },
  {
   "cell_type": "code",
   "execution_count": 81,
   "id": "2196ff39",
   "metadata": {
    "ExecuteTime": {
     "end_time": "2023-12-10T12:37:51.349704Z",
     "start_time": "2023-12-10T12:37:51.344057Z"
    }
   },
   "outputs": [
    {
     "name": "stdout",
     "output_type": "stream",
     "text": [
      "1\n",
      "2\n"
     ]
    }
   ],
   "source": [
    "#272 클래스 변수\n",
    "#클래스 변수를 사용해서 Account 클래스로부터 생성된 계좌 객체의 개수를 저장하세요.\n",
    "\n",
    "import random\n",
    "\n",
    "class Account:\n",
    "    # class variable\n",
    "    account_count = 0\n",
    "\n",
    "    def __init__(self, name, balance):\n",
    "        self.name = name\n",
    "        self.balance = balance\n",
    "        self.bank = \"SC은행\"\n",
    "\n",
    "        num1 = random.randint(0, 999)\n",
    "        num2 = random.randint(0, 99)\n",
    "        num3 = random.randint(0, 999999)\n",
    "\n",
    "        num1 = str(num1).zfill(3)      # 1 -> '1' -> '001'\n",
    "        num2 = str(num2).zfill(2)      # 1 -> '1' -> '01'\n",
    "        num3 = str(num3).zfill(6)      # 1 -> '1' -> '0000001'\n",
    "        self.account_number = num1 + '-' + num2 + '-' + num3  # 001-01-000001\n",
    "\n",
    "        Account.account_count += 1\n",
    "\n",
    "\n",
    "kim = Account(\"김민수\", 100)\n",
    "print(Account.account_count)\n",
    "lee = Account(\"이민수\", 100)\n",
    "print(Account.account_count)"
   ]
  },
  {
   "cell_type": "code",
   "execution_count": 82,
   "id": "1b3904a0",
   "metadata": {
    "ExecuteTime": {
     "end_time": "2023-12-10T12:49:20.850286Z",
     "start_time": "2023-12-10T12:49:20.845062Z"
    }
   },
   "outputs": [
    {
     "name": "stdout",
     "output_type": "stream",
     "text": [
      "2\n"
     ]
    }
   ],
   "source": [
    "#273 클래스 변수 출력\n",
    "#Account 클래스로부터 생성된 계좌의 개수를 출력하는 get_account_num() 메서드를 추가하세요.\n",
    "\n",
    "import random\n",
    "\n",
    "class Account:\n",
    "    # class variable\n",
    "    account_count = 0\n",
    "\n",
    "    def __init__(self, name, balance):\n",
    "        self.name = name\n",
    "        self.balance = balance\n",
    "        self.bank = \"SC은행\"\n",
    "\n",
    "        # 3-2-6\n",
    "        num1 = random.randint(0, 999)\n",
    "        num2 = random.randint(0, 99)\n",
    "        num3 = random.randint(0, 999999)\n",
    "\n",
    "        num1 = str(num1).zfill(3)      # 1 -> '1' -> '001'\n",
    "        num2 = str(num2).zfill(2)      # 1 -> '1' -> '01'\n",
    "        num3 = str(num3).zfill(6)      # 1 -> '1' -> '0000001'\n",
    "        self.account_number = num1 + '-' + num2 + '-' + num3  # 001-01-000001\n",
    "        Account.account_count +=1\n",
    "\n",
    "    @classmethod\n",
    "    def get_account_num(cls):     #Account 클래스로부터 생성된 계좌의 개수를 출력\n",
    "        print(cls.account_count)     # Account.account_count\n",
    "\n",
    "\n",
    "kim = Account(\"김민수\", 100)\n",
    "lee = Account(\"이민수\", 100)\n",
    "kim.get_account_num()"
   ]
  },
  {
   "cell_type": "code",
   "execution_count": 2,
   "id": "0ad01fb6",
   "metadata": {
    "ExecuteTime": {
     "end_time": "2023-12-10T12:52:37.688649Z",
     "start_time": "2023-12-10T12:52:37.681647Z"
    }
   },
   "outputs": [
    {
     "name": "stdout",
     "output_type": "stream",
     "text": [
      "110\n"
     ]
    }
   ],
   "source": [
    "#275 출금 메서드\n",
    "#Account 클래스에 출금을 위한 withdraw 메서드를 추가하세요. 출금은 계좌의 잔고 이상으로 출금할 수는 없습니다.\n",
    "\n",
    "import random\n",
    "\n",
    "\n",
    "class Account:\n",
    "    # class variable\n",
    "    account_count = 0\n",
    "\n",
    "    def __init__(self, name, balance):\n",
    "        self.name = name\n",
    "        self.balance = balance\n",
    "        self.bank = \"SC은행\"\n",
    "\n",
    "        # 3-2-6\n",
    "        num1 = random.randint(0, 999)\n",
    "        num2 = random.randint(0, 99)\n",
    "        num3 = random.randint(0, 999999)\n",
    "\n",
    "        num1 = str(num1).zfill(3)  # 1 -> '1' -> '001'\n",
    "        num2 = str(num2).zfill(2)  # 1 -> '1' -> '01'\n",
    "        num3 = str(num3).zfill(6)  # 1 -> '1' -> '0000001'\n",
    "        self.account_number = num1 + '-' + num2 + '-' + num3  # 001-01-000001\n",
    "        Account.account_count += 1\n",
    "\n",
    "    @classmethod\n",
    "    def get_account_num(cls):\n",
    "        print(cls.account_count)  # Account.account_count\n",
    "\n",
    "    def deposit(self, amount):\n",
    "        if amount >= 1:              #Account 클래스에 입금을 위한 deposit 메서드를 추가하세요. 입금은 최소 1원 이상만 가능\n",
    "            self.balance += amount\n",
    "\n",
    "    def withdraw(self, amount):\n",
    "        if self.balance > amount:\n",
    "            self.balance -= amount\n",
    "\n",
    "k = Account(\"kim\", 100)\n",
    "k.deposit(100)\n",
    "k.withdraw(90)\n",
    "print(k.balance)"
   ]
  },
  {
   "cell_type": "code",
   "execution_count": null,
   "id": "56d06796",
   "metadata": {},
   "outputs": [],
   "source": []
  },
  {
   "cell_type": "code",
   "execution_count": null,
   "id": "e952ffdd",
   "metadata": {},
   "outputs": [],
   "source": []
  },
  {
   "cell_type": "code",
   "execution_count": null,
   "id": "7db1049a",
   "metadata": {},
   "outputs": [],
   "source": []
  },
  {
   "cell_type": "code",
   "execution_count": null,
   "id": "2a563cf7",
   "metadata": {},
   "outputs": [],
   "source": []
  },
  {
   "cell_type": "code",
   "execution_count": null,
   "id": "032d53eb",
   "metadata": {},
   "outputs": [],
   "source": []
  },
  {
   "cell_type": "code",
   "execution_count": null,
   "id": "27b48b79",
   "metadata": {},
   "outputs": [],
   "source": []
  },
  {
   "cell_type": "code",
   "execution_count": null,
   "id": "e389ad03",
   "metadata": {},
   "outputs": [],
   "source": []
  },
  {
   "cell_type": "code",
   "execution_count": null,
   "id": "185e21b5",
   "metadata": {},
   "outputs": [],
   "source": []
  },
  {
   "cell_type": "code",
   "execution_count": null,
   "id": "af0e2488",
   "metadata": {},
   "outputs": [],
   "source": []
  },
  {
   "cell_type": "code",
   "execution_count": null,
   "id": "a3ac6d84",
   "metadata": {},
   "outputs": [],
   "source": []
  },
  {
   "cell_type": "code",
   "execution_count": null,
   "id": "6fa69f76",
   "metadata": {},
   "outputs": [],
   "source": []
  },
  {
   "cell_type": "code",
   "execution_count": null,
   "id": "a84cdb02",
   "metadata": {},
   "outputs": [],
   "source": []
  },
  {
   "cell_type": "code",
   "execution_count": null,
   "id": "527bc485",
   "metadata": {},
   "outputs": [],
   "source": []
  },
  {
   "cell_type": "code",
   "execution_count": null,
   "id": "b5d4f0a8",
   "metadata": {},
   "outputs": [],
   "source": []
  },
  {
   "cell_type": "code",
   "execution_count": null,
   "id": "38258940",
   "metadata": {},
   "outputs": [],
   "source": []
  },
  {
   "cell_type": "code",
   "execution_count": null,
   "id": "e6752dba",
   "metadata": {},
   "outputs": [],
   "source": []
  },
  {
   "cell_type": "code",
   "execution_count": null,
   "id": "6e1e732b",
   "metadata": {},
   "outputs": [],
   "source": []
  },
  {
   "cell_type": "code",
   "execution_count": null,
   "id": "5cdfdb7c",
   "metadata": {},
   "outputs": [],
   "source": []
  },
  {
   "cell_type": "code",
   "execution_count": null,
   "id": "0c3325ee",
   "metadata": {},
   "outputs": [],
   "source": []
  },
  {
   "cell_type": "code",
   "execution_count": null,
   "id": "ce4de7d1",
   "metadata": {},
   "outputs": [],
   "source": []
  },
  {
   "cell_type": "code",
   "execution_count": null,
   "id": "a47794fe",
   "metadata": {},
   "outputs": [],
   "source": []
  },
  {
   "cell_type": "code",
   "execution_count": null,
   "id": "9780802c",
   "metadata": {},
   "outputs": [],
   "source": []
  },
  {
   "cell_type": "code",
   "execution_count": null,
   "id": "6645edcd",
   "metadata": {},
   "outputs": [],
   "source": []
  },
  {
   "cell_type": "code",
   "execution_count": null,
   "id": "02217bce",
   "metadata": {},
   "outputs": [],
   "source": []
  },
  {
   "cell_type": "code",
   "execution_count": null,
   "id": "fa2f2a4c",
   "metadata": {},
   "outputs": [],
   "source": []
  },
  {
   "cell_type": "code",
   "execution_count": null,
   "id": "d088eb02",
   "metadata": {},
   "outputs": [],
   "source": []
  },
  {
   "cell_type": "code",
   "execution_count": null,
   "id": "5dc35072",
   "metadata": {},
   "outputs": [],
   "source": []
  },
  {
   "cell_type": "code",
   "execution_count": null,
   "id": "87e7c8e6",
   "metadata": {},
   "outputs": [],
   "source": []
  }
 ],
 "metadata": {
  "kernelspec": {
   "display_name": "Python 3 (ipykernel)",
   "language": "python",
   "name": "python3"
  },
  "language_info": {
   "codemirror_mode": {
    "name": "ipython",
    "version": 3
   },
   "file_extension": ".py",
   "mimetype": "text/x-python",
   "name": "python",
   "nbconvert_exporter": "python",
   "pygments_lexer": "ipython3",
   "version": "3.11.5"
  },
  "toc": {
   "base_numbering": 1,
   "nav_menu": {},
   "number_sections": true,
   "sideBar": true,
   "skip_h1_title": false,
   "title_cell": "Table of Contents",
   "title_sidebar": "Contents",
   "toc_cell": false,
   "toc_position": {},
   "toc_section_display": true,
   "toc_window_display": false
  }
 },
 "nbformat": 4,
 "nbformat_minor": 5
}

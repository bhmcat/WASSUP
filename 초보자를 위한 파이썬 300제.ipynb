{
 "cells": [
  {
   "cell_type": "markdown",
   "id": "2dbd4f3a",
   "metadata": {},
   "source": [
    "# 001~010"
   ]
  },
  {
   "cell_type": "code",
   "execution_count": null,
   "id": "b3b785d9",
   "metadata": {},
   "outputs": [],
   "source": []
  },
  {
   "cell_type": "markdown",
   "id": "c10690fc",
   "metadata": {
    "ExecuteTime": {
     "end_time": "2023-11-26T10:55:55.054373Z",
     "start_time": "2023-11-26T10:55:55.051735Z"
    }
   },
   "source": [
    "**▼ 001 print 기초**     \n",
    "화면에 Hello World 문자열을 출력하세요."
   ]
  },
  {
   "cell_type": "code",
   "execution_count": 54,
   "id": "1fd16915",
   "metadata": {
    "ExecuteTime": {
     "end_time": "2023-11-26T11:15:21.901683Z",
     "start_time": "2023-11-26T11:15:21.898385Z"
    }
   },
   "outputs": [
    {
     "name": "stdout",
     "output_type": "stream",
     "text": [
      "Hello world\n"
     ]
    }
   ],
   "source": [
    "print(\"Hello world\")"
   ]
  },
  {
   "cell_type": "markdown",
   "id": "d9daf8d3",
   "metadata": {},
   "source": [
    "**▼ 002 print 기초**   \n",
    "화면에 Mary's cosmetics을 출력하세요. (중간에 '가 있음에 주의하세요)\n"
   ]
  },
  {
   "cell_type": "code",
   "execution_count": 17,
   "id": "8380dfa8",
   "metadata": {
    "ExecuteTime": {
     "end_time": "2023-11-26T10:55:49.357995Z",
     "start_time": "2023-11-26T10:55:49.354414Z"
    }
   },
   "outputs": [
    {
     "name": "stdout",
     "output_type": "stream",
     "text": [
      "Mary's cosmetics\n"
     ]
    }
   ],
   "source": [
    "print(\"Mary's cosmetics\")"
   ]
  },
  {
   "cell_type": "markdown",
   "id": "9f3dbd66",
   "metadata": {
    "ExecuteTime": {
     "end_time": "2023-11-26T11:11:45.872654Z",
     "start_time": "2023-11-26T11:11:45.868764Z"
    }
   },
   "source": [
    "**▼ 003 print 기초**   \n",
    "화면에 아래 문장을 출력하세요. (중간에 \"가 있음에 주의하세요.)"
   ]
  },
  {
   "cell_type": "code",
   "execution_count": 20,
   "id": "c867821f",
   "metadata": {
    "ExecuteTime": {
     "end_time": "2023-11-26T10:56:09.336825Z",
     "start_time": "2023-11-26T10:56:09.333814Z"
    }
   },
   "outputs": [
    {
     "name": "stdout",
     "output_type": "stream",
     "text": [
      "신씨가 소리질렀다. \"도둑이야\".\n"
     ]
    }
   ],
   "source": [
    "print('신씨가 소리질렀다. \"도둑이야\".')"
   ]
  },
  {
   "cell_type": "markdown",
   "id": "3377df5a",
   "metadata": {
    "ExecuteTime": {
     "end_time": "2023-11-26T11:12:06.826793Z",
     "start_time": "2023-11-26T11:12:06.823789Z"
    }
   },
   "source": [
    "**▼ 004 print 기초**   \n",
    "화면에 C:\\Windows를 출력하세요."
   ]
  },
  {
   "cell_type": "code",
   "execution_count": 47,
   "id": "8ab13b89",
   "metadata": {
    "ExecuteTime": {
     "end_time": "2023-11-26T11:12:14.147759Z",
     "start_time": "2023-11-26T11:12:14.144758Z"
    }
   },
   "outputs": [
    {
     "name": "stdout",
     "output_type": "stream",
     "text": [
      "C:\\Windows\n"
     ]
    }
   ],
   "source": [
    "print(\"C:\\\\Windows\")"
   ]
  },
  {
   "cell_type": "markdown",
   "id": "fe388279",
   "metadata": {
    "ExecuteTime": {
     "end_time": "2023-11-26T11:12:36.127422Z",
     "start_time": "2023-11-26T11:12:36.124015Z"
    }
   },
   "source": [
    "**▼ 005 print 탭과 줄바꿈**  \n",
    "다음 코드를 실행해보고 \\t와 \\n의 역할을 설명해보세요."
   ]
  },
  {
   "cell_type": "code",
   "execution_count": 22,
   "id": "94658f3b",
   "metadata": {
    "ExecuteTime": {
     "end_time": "2023-11-26T10:57:23.755188Z",
     "start_time": "2023-11-26T10:57:23.752534Z"
    }
   },
   "outputs": [
    {
     "name": "stdout",
     "output_type": "stream",
     "text": [
      "안녕하세요.\n",
      "만나서\t\t반갑습니다.\n"
     ]
    }
   ],
   "source": [
    "print(\"안녕하세요.\\n만나서\\t\\t반갑습니다.\")"
   ]
  },
  {
   "cell_type": "markdown",
   "id": "8bca6369",
   "metadata": {},
   "source": [
    "\\n : 줄 바꾸기   \n",
    "\\t : Tap"
   ]
  },
  {
   "cell_type": "markdown",
   "id": "b2abcc6f",
   "metadata": {},
   "source": [
    "**▼ 006 print 여러 데이터 출력**   \n",
    "print 함수에 두 개의 단어를 입력한 예제입니다. 아래 코드의 출력 결과를 예상해봅시다."
   ]
  },
  {
   "cell_type": "code",
   "execution_count": 23,
   "id": "065ca43e",
   "metadata": {
    "ExecuteTime": {
     "end_time": "2023-11-26T10:58:31.877263Z",
     "start_time": "2023-11-26T10:58:31.874334Z"
    }
   },
   "outputs": [
    {
     "name": "stdout",
     "output_type": "stream",
     "text": [
      "오늘은 일요일\n"
     ]
    }
   ],
   "source": [
    "print (\"오늘은\", \"일요일\")"
   ]
  },
  {
   "cell_type": "markdown",
   "id": "eba8aa98",
   "metadata": {},
   "source": [
    "**▼ 007 print 기초**   \n",
    "print() 함수를 사용하여 다음과 같이 출력하세요."
   ]
  },
  {
   "cell_type": "code",
   "execution_count": 49,
   "id": "34634cc1",
   "metadata": {
    "ExecuteTime": {
     "end_time": "2023-11-26T11:13:29.463007Z",
     "start_time": "2023-11-26T11:13:29.459699Z"
    }
   },
   "outputs": [
    {
     "name": "stdout",
     "output_type": "stream",
     "text": [
      "naver;kakao;samsung\n"
     ]
    }
   ],
   "source": [
    "print(\"naver\", \"kakao\", \"samsung\", sep=\";\")"
   ]
  },
  {
   "cell_type": "markdown",
   "id": "46dfa6c2",
   "metadata": {},
   "source": [
    "print 함수의 sep 인자로 \";\"를 입력하면 출력되는 값들 사이에    \n",
    "한 칸의 공백대신 세미콜론이 출력됩니다."
   ]
  },
  {
   "cell_type": "markdown",
   "id": "31e18193",
   "metadata": {},
   "source": [
    "**▼ 008 print 기초**   \n",
    "print() 함수를 사용하여 다음과 같이 출력하세요.   \n",
    "- naver/kakao/sk/samsung"
   ]
  },
  {
   "cell_type": "code",
   "execution_count": 27,
   "id": "b061d6b1",
   "metadata": {
    "ExecuteTime": {
     "end_time": "2023-11-26T11:03:06.884421Z",
     "start_time": "2023-11-26T11:03:06.881990Z"
    }
   },
   "outputs": [
    {
     "name": "stdout",
     "output_type": "stream",
     "text": [
      "naver/kakao/sk/samsung\n"
     ]
    }
   ],
   "source": [
    "print(\"naver\", \"kakao\", \"sk\", \"samsung\", sep=\"/\")"
   ]
  },
  {
   "cell_type": "markdown",
   "id": "edf3145e",
   "metadata": {
    "ExecuteTime": {
     "end_time": "2023-11-26T11:14:15.853927Z",
     "start_time": "2023-11-26T11:14:15.850380Z"
    }
   },
   "source": [
    "**▼ 009 print 줄바꿈**   \n",
    "다음 코드를 수정하여 줄바꿈이 없이 출력하세요. (힌트: end='') print 함수는 두 번 사용합니다.    \n",
    "세미콜론 (;)은 한줄에 여러 개의 명령을 작성하기 위해 사용합니다.   \n",
    "- print(\"first\");print(\"second\")"
   ]
  },
  {
   "cell_type": "code",
   "execution_count": 51,
   "id": "76499540",
   "metadata": {
    "ExecuteTime": {
     "end_time": "2023-11-26T11:14:20.917653Z",
     "start_time": "2023-11-26T11:14:20.914597Z"
    }
   },
   "outputs": [
    {
     "name": "stdout",
     "output_type": "stream",
     "text": [
      "firstsecond\n"
     ]
    }
   ],
   "source": [
    "print(\"first\", end=\"\"); print(\"second\")"
   ]
  },
  {
   "cell_type": "markdown",
   "id": "71c7c756",
   "metadata": {},
   "source": [
    "**▼ 010 연산 결과 출력**   \n",
    "5/3의 결과를 화면에 출력하세요."
   ]
  },
  {
   "cell_type": "code",
   "execution_count": 52,
   "id": "f55cdcba",
   "metadata": {
    "ExecuteTime": {
     "end_time": "2023-11-26T11:14:57.203297Z",
     "start_time": "2023-11-26T11:14:57.200337Z"
    }
   },
   "outputs": [
    {
     "name": "stdout",
     "output_type": "stream",
     "text": [
      "1.6666666666666667\n"
     ]
    }
   ],
   "source": [
    "print(5/3)"
   ]
  },
  {
   "cell_type": "markdown",
   "id": "4bdaef81",
   "metadata": {},
   "source": [
    "# 011~020"
   ]
  },
  {
   "cell_type": "markdown",
   "id": "8d20ae6c",
   "metadata": {},
   "source": [
    "**▼ 011 변수 사용하기**   \n",
    "삼성전자라는 변수로 50,000원을 바인딩해보세요.    \n",
    "삼성전자 주식 10주를 보유하고 있을 때 총 평가금액을 출력하세요."
   ]
  },
  {
   "cell_type": "code",
   "execution_count": 59,
   "id": "ff6c1912",
   "metadata": {
    "ExecuteTime": {
     "end_time": "2023-11-26T11:17:21.663855Z",
     "start_time": "2023-11-26T11:17:21.661074Z"
    }
   },
   "outputs": [
    {
     "name": "stdout",
     "output_type": "stream",
     "text": [
      "500000\n"
     ]
    }
   ],
   "source": [
    "삼성전자 = 50000\n",
    "총평가금액 = 삼성전자 * 10\n",
    "print(총평가금액)"
   ]
  },
  {
   "cell_type": "markdown",
   "id": "51dcafbe",
   "metadata": {},
   "source": [
    "**▼ 012 변수 사용하기**   \n",
    "다음 표는 삼성전자의 일부 투자정보입니다.    \n",
    "변수를 사용해서 시가총액, 현재가, PER 등을 바인딩해보세요.\n",
    "\n",
    "|항목|값|\n",
    "|:--:|:--:|\n",
    "|시가총액|298조|\n",
    "|현재가|50,000원|\n",
    "|PER|15.79|"
   ]
  },
  {
   "cell_type": "code",
   "execution_count": 63,
   "id": "b474e0ae",
   "metadata": {
    "ExecuteTime": {
     "end_time": "2023-11-26T11:24:06.338856Z",
     "start_time": "2023-11-26T11:24:06.334959Z"
    }
   },
   "outputs": [
    {
     "name": "stdout",
     "output_type": "stream",
     "text": [
      "298000000000000 <class 'int'>\n",
      "50000 <class 'int'>\n",
      "15.79 <class 'float'>\n"
     ]
    }
   ],
   "source": [
    "시가총액 = 298000000000000\n",
    "현재가 = 50000\n",
    "PER = 15.79\n",
    "\n",
    "print(시가총액, type(시가총액))\n",
    "print(현재가, type(현재가))\n",
    "print(PER, type(PER))"
   ]
  },
  {
   "cell_type": "markdown",
   "id": "822261ff",
   "metadata": {},
   "source": [
    "**▼ 013 문자열 출력**   \n",
    "변수 s와 t에는 각각 문자열이 바인딩 되어있습니다.     \n",
    "\n",
    "s = \"hello\"    \n",
    "t = \"python\"\n",
    "\n",
    "두 변수를 이용하여 아래와 같이 출력해보세요.    \n",
    "\n",
    "실행 예:    \n",
    "hello! python"
   ]
  },
  {
   "cell_type": "code",
   "execution_count": 77,
   "id": "cd225de0",
   "metadata": {
    "ExecuteTime": {
     "end_time": "2023-11-26T11:29:28.625913Z",
     "start_time": "2023-11-26T11:29:28.621902Z"
    }
   },
   "outputs": [
    {
     "data": {
      "text/plain": [
       "'hello! python'"
      ]
     },
     "execution_count": 77,
     "metadata": {},
     "output_type": "execute_result"
    }
   ],
   "source": [
    "s = \"hello\"\n",
    "t = \"python\"\n",
    "print=(s+\"! \"+t)\n",
    "print"
   ]
  },
  {
   "cell_type": "markdown",
   "id": "a22bad07",
   "metadata": {},
   "source": [
    "**▼ 014 파이썬을 이용한 값 계산**   \n",
    "아래 코드의 실행 결과를 예상해보세요.    \n",
    "\n",
    "2 + 2 * 3 "
   ]
  },
  {
   "cell_type": "code",
   "execution_count": null,
   "id": "eb79122e",
   "metadata": {},
   "outputs": [],
   "source": [
    "8"
   ]
  },
  {
   "cell_type": "markdown",
   "id": "5502d202",
   "metadata": {
    "ExecuteTime": {
     "end_time": "2023-11-26T11:32:51.590053Z",
     "start_time": "2023-11-26T11:32:51.586652Z"
    }
   },
   "source": [
    "**▼ 015 type 함수**   \n",
    "type() 함수는 데이터 타입을 판별합니다.    \n",
    "변수 a에는 128 숫자가 바인딩돼 있어 type 함수가 int (정수)형임을 알려줍니다."
   ]
  },
  {
   "cell_type": "markdown",
   "id": "e77bca60",
   "metadata": {},
   "source": [
    "# 80제"
   ]
  },
  {
   "cell_type": "code",
   "execution_count": 1,
   "id": "ce99f545",
   "metadata": {
    "ExecuteTime": {
     "end_time": "2023-12-04T07:30:38.041820Z",
     "start_time": "2023-12-04T07:30:38.036971Z"
    }
   },
   "outputs": [
    {
     "name": "stdout",
     "output_type": "stream",
     "text": [
      "신씨가 소리질렀다. \"도둑이야!\"\n"
     ]
    }
   ],
   "source": [
    "# 3번,'과 \" 구분 잘해주기\n",
    "print('신씨가 소리질렀다. \"도둑이야!\"')"
   ]
  },
  {
   "cell_type": "code",
   "execution_count": 2,
   "id": "93af8ba8",
   "metadata": {
    "ExecuteTime": {
     "end_time": "2023-12-04T07:30:40.657521Z",
     "start_time": "2023-12-04T07:30:40.653201Z"
    }
   },
   "outputs": [
    {
     "name": "stdout",
     "output_type": "stream",
     "text": [
      "C:\\Windows C:/Windows\n",
      "슬래시(/) 경로 : True \n",
      "백슬래시(\\) 경로 : True\n"
     ]
    }
   ],
   "source": [
    "# 4번, 경로설정할때 백슬래시가 이스케이프문자로 인식되지 않게 슬래시 ( / ) 를 써도 경로로 인식이 됨\n",
    "print('C:\\Windows', 'C:/Windows')\n",
    "\n",
    "# 경로를 설정하는 예시\n",
    "import os  # 디렉토리 설정, 확인 등에 쓰이는 os 모듈 활용\n",
    "path_1 = 'C:/workspace/python/wassup/README.md' # 슬래시 (/)를 이용한 경로설정\n",
    "path_2 = 'C:\\workspace\\python\\wassup\\README.md' # 백슬래시 (\\)를 이용한 경로설정\n",
    "print(f'슬래시(/) 경로 : {os.path.exists(path_1)} \\n백슬래시(\\) 경로 : {os.path.exists(path_2)}')\n",
    "# 둘다 사용 가능하지만 백슬래시 (\\)는 이스케이프 문자로도 쓰이므로 경로설정할땐 보통 슬래시 (/)를 사용함"
   ]
  },
  {
   "cell_type": "code",
   "execution_count": 3,
   "id": "b079c94d",
   "metadata": {
    "ExecuteTime": {
     "end_time": "2023-12-04T07:30:45.825464Z",
     "start_time": "2023-12-04T07:30:45.822137Z"
    }
   },
   "outputs": [
    {
     "name": "stdout",
     "output_type": "stream",
     "text": [
      "안녕하세요.\n",
      "만나서\t\t반갑습니다.\n"
     ]
    }
   ],
   "source": [
    "# 5번, 탭 (들여쓰기)를 쓰는 상황에 익숙해지기 -> print보다는 코드사용할때 들여쓰기가 많이쓰임\n",
    "print(\"안녕하세요.\\n만나서\\t\\t반갑습니다.\")"
   ]
  },
  {
   "cell_type": "code",
   "execution_count": 4,
   "id": "b071ca58",
   "metadata": {
    "ExecuteTime": {
     "end_time": "2023-12-04T07:30:47.978310Z",
     "start_time": "2023-12-04T07:30:47.974732Z"
    }
   },
   "outputs": [
    {
     "name": "stdout",
     "output_type": "stream",
     "text": [
      "naver;kakao;samsung\n",
      "naver;kakao;samsung\n",
      "naver/kakao/samsung\n",
      "naver/kakao/samsung\n"
     ]
    }
   ],
   "source": [
    "# 7번 & 8번, join을 사용해도 됨\n",
    "a = (\"naver\", \"kakao\", \"samsung\")\n",
    "b = \";\".join(a)\n",
    "print(\"naver\", \"kakao\", \"samsung\", sep=\";\")\n",
    "print(b)\n",
    "\n",
    "a = ('naver','kakao','samsung')\n",
    "b = \"/\".join(a)\n",
    "print(\"naver\", \"kakao\", \"samsung\", sep=\"/\")\n",
    "print(b)"
   ]
  },
  {
   "cell_type": "code",
   "execution_count": 5,
   "id": "b3966671",
   "metadata": {
    "ExecuteTime": {
     "end_time": "2023-12-04T07:30:51.465676Z",
     "start_time": "2023-12-04T07:30:51.462451Z"
    }
   },
   "outputs": [
    {
     "name": "stdout",
     "output_type": "stream",
     "text": [
      "720.001 <class 'float'>\n"
     ]
    }
   ],
   "source": [
    "# 16번, int말고 float으로도 변환할 수 있음, 연산값을 출력하여 제대로 되어있는지 확인\n",
    "num_str = \"720\"  \n",
    "num_float = float(num_str)\n",
    "print(num_float+0.001, type(num_float))"
   ]
  },
  {
   "cell_type": "code",
   "execution_count": 6,
   "id": "1aed40d3",
   "metadata": {
    "ExecuteTime": {
     "end_time": "2023-12-04T07:30:55.067415Z",
     "start_time": "2023-12-04T07:30:55.062862Z"
    }
   },
   "outputs": [
    {
     "name": "stdout",
     "output_type": "stream",
     "text": [
      "('A', 'b', 'c')\n",
      "('A', 'b', 'c')\n"
     ]
    }
   ],
   "source": [
    "#076, 튜플은 불변이므로 리스트, str로 바꿔준다음 수정하는방법도 있음\n",
    "t = ('a', 'b', 'c')\n",
    "t = list(t)\n",
    "t[0] = 'A'\n",
    "t = tuple(t)\n",
    "print(t)\n",
    "t = str(t)\n",
    "t.replace('a','A')\n",
    "print(t)"
   ]
  },
  {
   "cell_type": "markdown",
   "id": "f11b0dc4",
   "metadata": {},
   "source": [
    "### Bonus. f문자열을 적용하는 사례"
   ]
  },
  {
   "cell_type": "code",
   "execution_count": 7,
   "id": "f2405fbe",
   "metadata": {
    "ExecuteTime": {
     "end_time": "2023-12-04T07:31:06.840346Z",
     "start_time": "2023-12-04T07:31:06.833841Z"
    }
   },
   "outputs": [
    {
     "data": {
      "text/plain": [
       "'지금은 2023-12-04 16:31:06.834841입니다'"
      ]
     },
     "execution_count": 7,
     "metadata": {},
     "output_type": "execute_result"
    }
   ],
   "source": [
    "from datetime import datetime # 파이썬 내장 함수인 datetime 임포트\n",
    "\n",
    "# f문자열을 출력할때마다 현재시간이 출력됨\n",
    "time_now = datetime.now()\n",
    "f'지금은 {time_now}입니다'"
   ]
  },
  {
   "cell_type": "code",
   "execution_count": 8,
   "id": "ae8ffda6",
   "metadata": {
    "ExecuteTime": {
     "end_time": "2023-12-04T07:31:09.036924Z",
     "start_time": "2023-12-04T07:31:09.032923Z"
    }
   },
   "outputs": [
    {
     "name": "stdout",
     "output_type": "stream",
     "text": [
      "올해는 2023년, 이번달은 12월, 오늘은 4일.\n",
      "현재 시간은 16시 31분 9초\n"
     ]
    }
   ],
   "source": [
    "# datetime을 다양하게 활용하여 원하는 날짜형식, 시간 등을 출력할때마다 표현할 수 있음\n",
    "\n",
    "time_now = datetime.now()\n",
    "year = time_now.year\n",
    "month = time_now.month\n",
    "day = time_now.day\n",
    "hour, min, sec = time_now.hour, time_now.minute, time_now.second\n",
    "print(f'올해는 {year}년, 이번달은 {month}월, 오늘은 {day}일.\\n현재 시간은 {hour}시 {min}분 {sec}초')"
   ]
  },
  {
   "cell_type": "markdown",
   "id": "681db3fe",
   "metadata": {},
   "source": [
    "### 11.27 파이썬 딕셔너리 (80~100)"
   ]
  },
  {
   "cell_type": "code",
   "execution_count": 9,
   "id": "5286aa39",
   "metadata": {
    "ExecuteTime": {
     "end_time": "2023-12-04T07:31:17.070742Z",
     "start_time": "2023-12-04T07:31:17.066725Z"
    }
   },
   "outputs": [
    {
     "name": "stdout",
     "output_type": "stream",
     "text": [
      "좌측8개값 구하기\n",
      "star_expression\n",
      "[8.8, 8.9, 8.7, 9.2, 9.3, 9.7, 9.9, 9.5]\n",
      "indexing\n",
      "[8.8, 8.9, 8.7, 9.2, 9.3, 9.7, 9.9]\n",
      "우측8개값 구하기\n",
      "star_expression:[8.7, 9.2, 9.3, 9.7, 9.9, 9.5, 7.8, 9.4]\n",
      "indexing:[8.7, 9.2, 9.3, 9.7, 9.9, 9.5, 7.8, 9.4]\n",
      "중앙8개값 구하기\n",
      "star_expression:[8.9, 8.7, 9.2, 9.3, 9.7, 9.9, 9.5, 7.8]\n",
      "indexing:[8.9, 8.7, 9.2, 9.3, 9.7, 9.9, 9.5, 7.8]\n"
     ]
    }
   ],
   "source": [
    "# 81~83, 굳이 star expression을 쓰지 않아도 되지만, 경우에따라 적용\n",
    "\n",
    "scores = [8.8, 8.9, 8.7, 9.2, 9.3, 9.7, 9.9, 9.5, 7.8, 9.4]\n",
    "*Left_8, _, _ = scores\n",
    "print(f'좌측8개값 구하기\\nstar_expression\\n{Left_8}\\nindexing\\n{scores[:-3]}')\n",
    "_,_,*Right_8 = scores\n",
    "print(f'우측8개값 구하기\\nstar_expression:{Right_8}\\nindexing:{scores[2:]}')\n",
    "_, *mid_8, _ = scores\n",
    "print(f'중앙8개값 구하기\\nstar_expression:{mid_8}\\nindexing:{scores[1:-1]}')"
   ]
  },
  {
   "cell_type": "code",
   "execution_count": 10,
   "id": "c5752cfe",
   "metadata": {
    "ExecuteTime": {
     "end_time": "2023-12-04T07:31:19.710558Z",
     "start_time": "2023-12-04T07:31:19.707054Z"
    }
   },
   "outputs": [
    {
     "name": "stdout",
     "output_type": "stream",
     "text": [
      "제품명\n",
      "['탱크보이', '폴라포', '빵빠레', '월드콘', '메로나']\n",
      "가격\n",
      "[1200, 1200, 1800, 1500, 1000]\n"
     ]
    }
   ],
   "source": [
    "# 85~86, 딕셔너리에서 값을 추출할때는 대부분 리스트로 변환해줌\n",
    "\n",
    "icecream = {'탱크보이': 1200, '폴라포': 1200, '빵빠레': 1800, '월드콘': 1500, '메로나': 1000}\n",
    "a = list(icecream.keys())\n",
    "b = list(icecream.values())\n",
    "print(f'제품명\\n{a}\\n가격\\n{b}')"
   ]
  },
  {
   "cell_type": "code",
   "execution_count": 11,
   "id": "2b05ccc0",
   "metadata": {
    "ExecuteTime": {
     "end_time": "2023-12-04T07:31:22.710906Z",
     "start_time": "2023-12-04T07:31:22.707402Z"
    }
   },
   "outputs": [
    {
     "name": "stdout",
     "output_type": "stream",
     "text": [
      "가격총합6700, 평균가격1340.0\n"
     ]
    }
   ],
   "source": [
    "# 97, 합을 구할 수 있다면 평균도 구해보기\n",
    "\n",
    "icecream = {'탱크보이': 1200, '폴라포': 1200, '빵빠레': 1800, '월드콘': 1500, '메로나': 1000}\n",
    "sum_ice = sum(icecream.values())\n",
    "avg_ice = sum_ice / len(icecream.values())\n",
    "print(f'가격총합{sum_ice}, 평균가격{avg_ice}')"
   ]
  },
  {
   "cell_type": "code",
   "execution_count": 12,
   "id": "428eb5c4",
   "metadata": {
    "ExecuteTime": {
     "end_time": "2023-12-04T07:31:24.991896Z",
     "start_time": "2023-12-04T07:31:24.987812Z"
    }
   },
   "outputs": [
    {
     "name": "stdout",
     "output_type": "stream",
     "text": [
      "{'apple': 300, 'pear': 250, 'peach': 400}\n",
      "{'09/05': 10500, '09/06': 10300, '09/07': 10100, '09/08': 10800, '09/09': 11000}\n"
     ]
    }
   ],
   "source": [
    "# 99 ~ 100 zip은 결합, 새로운 객체 생성, for문 등 다양하게 쓰이니 기본적인 개념은 알아두기\n",
    "\n",
    "keys = (\"apple\", \"pear\", \"peach\")\n",
    "vals = (300, 250, 400)\n",
    "result = dict(zip(keys, vals))\n",
    "print(result)\n",
    "\n",
    "date = ['09/05', '09/06', '09/07', '09/08', '09/09']\n",
    "close_price = [10500, 10300, 10100, 10800, 11000]\n",
    "close_table = dict(zip(date, close_price))\n",
    "print(close_table)\n",
    "\n",
    "# dict가 아니라 list, tuple로도 가능함"
   ]
  },
  {
   "cell_type": "markdown",
   "id": "635aa4f1",
   "metadata": {},
   "source": [
    "# 81~100"
   ]
  },
  {
   "cell_type": "markdown",
   "id": "a05ee1ad",
   "metadata": {},
   "source": [
    "**▼ 81 별 표현식**   \n",
    "- 기본적으로 데이터 언패킹은 좌변의 변수와 우변 데이터 개수가 같아야 합니다.    \n",
    "- 하지만 **star expression을 사용하면 변수의 개수가 달라도 데이터 언패킹을 할 수 있습니다.**    \n",
    "- 튜플에 저장된 데이터 중에서 앞에 있는 두 개의 데이터만 필요할 경우 나머지 데이터의 언패킹 코드를 작성할 필요가 없습니다."
   ]
  },
  {
   "cell_type": "code",
   "execution_count": 1,
   "id": "659c5267",
   "metadata": {
    "ExecuteTime": {
     "end_time": "2023-11-27T14:17:13.902712Z",
     "start_time": "2023-11-27T14:17:13.896873Z"
    }
   },
   "outputs": [
    {
     "data": {
      "text/plain": [
       "0"
      ]
     },
     "execution_count": 1,
     "metadata": {},
     "output_type": "execute_result"
    }
   ],
   "source": [
    "a,b, *c=(0,1,2,3,4,5)\n",
    "a"
   ]
  },
  {
   "cell_type": "code",
   "execution_count": 2,
   "id": "9280327a",
   "metadata": {
    "ExecuteTime": {
     "end_time": "2023-11-27T14:17:19.292419Z",
     "start_time": "2023-11-27T14:17:19.288930Z"
    }
   },
   "outputs": [
    {
     "data": {
      "text/plain": [
       "1"
      ]
     },
     "execution_count": 2,
     "metadata": {},
     "output_type": "execute_result"
    }
   ],
   "source": [
    "b"
   ]
  },
  {
   "cell_type": "code",
   "execution_count": 3,
   "id": "f558d79d",
   "metadata": {
    "ExecuteTime": {
     "end_time": "2023-11-27T14:17:22.308949Z",
     "start_time": "2023-11-27T14:17:22.305442Z"
    }
   },
   "outputs": [
    {
     "data": {
      "text/plain": [
       "[2, 3, 4, 5]"
      ]
     },
     "execution_count": 3,
     "metadata": {},
     "output_type": "execute_result"
    }
   ],
   "source": [
    "c"
   ]
  },
  {
   "cell_type": "markdown",
   "id": "4ac2c6f5",
   "metadata": {},
   "source": [
    "**▼ 82**   \n",
    "- 다음과 같이 10개의 값이 저장된 scores 리스트가 있을 때, start expression을 사용하여 **좌측 8개의 값**을 valid_score 변수에 바인딩하여라."
   ]
  },
  {
   "cell_type": "code",
   "execution_count": 5,
   "id": "4279a91c",
   "metadata": {
    "ExecuteTime": {
     "end_time": "2023-11-27T14:20:17.021935Z",
     "start_time": "2023-11-27T14:20:17.018604Z"
    }
   },
   "outputs": [],
   "source": [
    "scores = [8.8, 8.9, 8.7, 9.2, 9.3, 9.7, 9.9, 9.5, 7.8, 9.4]"
   ]
  },
  {
   "cell_type": "code",
   "execution_count": 6,
   "id": "2088ee51",
   "metadata": {
    "ExecuteTime": {
     "end_time": "2023-11-27T14:20:18.652878Z",
     "start_time": "2023-11-27T14:20:18.648863Z"
    },
    "scrolled": true
   },
   "outputs": [
    {
     "data": {
      "text/plain": [
       "[8.8, 8.9, 8.7, 9.2, 9.3, 9.7, 9.9, 9.5, 7.8, 9.4]"
      ]
     },
     "execution_count": 6,
     "metadata": {},
     "output_type": "execute_result"
    }
   ],
   "source": [
    "scores[:]  #전체선택"
   ]
  },
  {
   "cell_type": "code",
   "execution_count": 7,
   "id": "0a8cf159",
   "metadata": {
    "ExecuteTime": {
     "end_time": "2023-11-27T10:38:19.302632Z",
     "start_time": "2023-11-27T10:38:19.298624Z"
    }
   },
   "outputs": [
    {
     "data": {
      "text/plain": [
       "[8.8, 8.9, 8.7, 9.2, 9.3, 9.7, 9.9, 9.5]"
      ]
     },
     "execution_count": 7,
     "metadata": {},
     "output_type": "execute_result"
    }
   ],
   "source": [
    "scores[:-2]   #뒤에서 2개 변수 삭제"
   ]
  },
  {
   "cell_type": "code",
   "execution_count": 9,
   "id": "7b3c0e6e",
   "metadata": {
    "ExecuteTime": {
     "end_time": "2023-11-27T10:38:38.505294Z",
     "start_time": "2023-11-27T10:38:38.502096Z"
    }
   },
   "outputs": [
    {
     "data": {
      "text/plain": [
       "[8.7, 9.2, 9.3, 9.7, 9.9, 9.5, 7.8, 9.4]"
      ]
     },
     "execution_count": 9,
     "metadata": {},
     "output_type": "execute_result"
    }
   ],
   "source": [
    "scores[2:]  #앞에서 2개 변수 삭제"
   ]
  },
  {
   "cell_type": "code",
   "execution_count": 10,
   "id": "9ca39105",
   "metadata": {
    "ExecuteTime": {
     "end_time": "2023-11-27T10:39:17.295389Z",
     "start_time": "2023-11-27T10:39:17.291141Z"
    }
   },
   "outputs": [
    {
     "data": {
      "text/plain": [
       "[8.9, 8.7, 9.2, 9.3, 9.7, 9.9, 9.5, 7.8]"
      ]
     },
     "execution_count": 10,
     "metadata": {},
     "output_type": "execute_result"
    }
   ],
   "source": [
    "scores[1:-1]  #앞에서 1개, 뒤에서 1개 삭제"
   ]
  },
  {
   "cell_type": "code",
   "execution_count": 13,
   "id": "c6a8310c",
   "metadata": {
    "ExecuteTime": {
     "end_time": "2023-11-27T10:42:59.142607Z",
     "start_time": "2023-11-27T10:42:59.138907Z"
    }
   },
   "outputs": [
    {
     "data": {
      "text/plain": [
       "[8.8, 8.9, 8.7, 9.2, 9.3, 9.7, 9.9, 9.5]"
      ]
     },
     "execution_count": 13,
     "metadata": {},
     "output_type": "execute_result"
    }
   ],
   "source": [
    "*Left8,_,_=scores  #정답\n",
    "Left8"
   ]
  },
  {
   "cell_type": "markdown",
   "id": "aa2431d7",
   "metadata": {},
   "source": [
    "**▼ 83**   \n",
    "- 다음과 같이 10개의 값이 저장된 scores 리스트가 있을 때, start expression을 사용하여 **우측 8개의 값**을 valid_score 변수에 바인딩하여라."
   ]
  },
  {
   "cell_type": "code",
   "execution_count": 14,
   "id": "4cd2eca8",
   "metadata": {
    "ExecuteTime": {
     "end_time": "2023-11-27T10:43:59.967624Z",
     "start_time": "2023-11-27T10:43:59.963513Z"
    }
   },
   "outputs": [
    {
     "data": {
      "text/plain": [
       "[8.7, 9.2, 9.3, 9.7, 9.9, 9.5, 7.8, 9.4]"
      ]
     },
     "execution_count": 14,
     "metadata": {},
     "output_type": "execute_result"
    }
   ],
   "source": [
    "a,b,*Right8=scores\n",
    "Right8"
   ]
  },
  {
   "cell_type": "code",
   "execution_count": 15,
   "id": "71ac0dc4",
   "metadata": {
    "ExecuteTime": {
     "end_time": "2023-11-27T10:44:20.002689Z",
     "start_time": "2023-11-27T10:44:19.998043Z"
    }
   },
   "outputs": [
    {
     "name": "stdout",
     "output_type": "stream",
     "text": [
      "8.8 8.9\n"
     ]
    }
   ],
   "source": [
    "print(a,b)"
   ]
  },
  {
   "cell_type": "markdown",
   "id": "ffadfda6",
   "metadata": {},
   "source": [
    "**▼ 83**   \n",
    "- 다음과 같이 10개의 값이 저장된 scores 리스트가 있을 때, start expression을 사용하여 **가운데 있는 8개의 값**을 valid_score 변수에 바인딩하여라."
   ]
  },
  {
   "cell_type": "code",
   "execution_count": 16,
   "id": "6040df27",
   "metadata": {
    "ExecuteTime": {
     "end_time": "2023-11-27T10:45:26.844442Z",
     "start_time": "2023-11-27T10:45:26.841176Z"
    }
   },
   "outputs": [
    {
     "data": {
      "text/plain": [
       "[8.9, 8.7, 9.2, 9.3, 9.7, 9.9, 9.5, 7.8]"
      ]
     },
     "execution_count": 16,
     "metadata": {},
     "output_type": "execute_result"
    }
   ],
   "source": [
    "_,*Mid8,_=scores\n",
    "Mid8"
   ]
  },
  {
   "cell_type": "markdown",
   "id": "ae64fc48",
   "metadata": {
    "ExecuteTime": {
     "end_time": "2023-11-27T14:24:01.758179Z",
     "start_time": "2023-11-27T14:24:01.754962Z"
    }
   },
   "source": [
    "**▼ 84 비어있는 딕셔너리**   \n",
    "- temp 이름의 비어있는 딕셔너리를 만들라."
   ]
  },
  {
   "cell_type": "code",
   "execution_count": 8,
   "id": "90d4e88b",
   "metadata": {
    "ExecuteTime": {
     "end_time": "2023-11-27T14:24:27.217155Z",
     "start_time": "2023-11-27T14:24:27.214726Z"
    }
   },
   "outputs": [],
   "source": [
    "temp={}"
   ]
  },
  {
   "cell_type": "markdown",
   "id": "884fbad7",
   "metadata": {},
   "source": [
    "**▼ 85**   \n",
    "- 다음 아이스크림 이름과 희망 가격을 딕셔너리로 구성하라.\n",
    "\n",
    "|이름|\t희망 가격|\n",
    "|:--:|:--:|\n",
    "|메로나|1000|\n",
    "|폴라포|\t1200|\n",
    "|빵빠레|\t1800|"
   ]
  },
  {
   "cell_type": "code",
   "execution_count": 19,
   "id": "ea8dc33b",
   "metadata": {
    "ExecuteTime": {
     "end_time": "2023-11-27T10:51:51.027725Z",
     "start_time": "2023-11-27T10:51:51.023207Z"
    }
   },
   "outputs": [
    {
     "data": {
      "text/plain": [
       "{'탱크보이': 1200, '폴라포': 1200, '빵빠레': 1800, '월드콘': 1500, '메로나': 1000}"
      ]
     },
     "execution_count": 19,
     "metadata": {},
     "output_type": "execute_result"
    }
   ],
   "source": [
    "icecream = {'탱크보이': 1200, '폴라포': 1200, '빵빠레': 1800, '월드콘': 1500, '메로나': 1000}\n",
    "icecream"
   ]
  },
  {
   "cell_type": "code",
   "execution_count": 23,
   "id": "1e6037bf",
   "metadata": {
    "ExecuteTime": {
     "end_time": "2023-11-27T10:54:16.144276Z",
     "start_time": "2023-11-27T10:54:16.140355Z"
    }
   },
   "outputs": [
    {
     "data": {
      "text/plain": [
       "list[dict_keys(['탱크보이', '폴라포', '빵빠레', '월드콘', '메로나'])]"
      ]
     },
     "execution_count": 23,
     "metadata": {},
     "output_type": "execute_result"
    }
   ],
   "source": [
    "list[icecream.keys()]"
   ]
  },
  {
   "cell_type": "code",
   "execution_count": 28,
   "id": "b41cc97b",
   "metadata": {
    "ExecuteTime": {
     "end_time": "2023-11-27T10:56:20.531232Z",
     "start_time": "2023-11-27T10:56:20.526842Z"
    }
   },
   "outputs": [
    {
     "data": {
      "text/plain": [
       "[1200, 1200, 1800, 1500, 1000]"
      ]
     },
     "execution_count": 28,
     "metadata": {},
     "output_type": "execute_result"
    }
   ],
   "source": [
    "list(icecream.values())"
   ]
  },
  {
   "cell_type": "code",
   "execution_count": 32,
   "id": "33cb6b53",
   "metadata": {
    "ExecuteTime": {
     "end_time": "2023-11-27T10:57:58.375726Z",
     "start_time": "2023-11-27T10:57:58.372212Z"
    }
   },
   "outputs": [
    {
     "name": "stdout",
     "output_type": "stream",
     "text": [
      "['탱크보이', '폴라포', '빵빠레', '월드콘', '메로나']\n"
     ]
    }
   ],
   "source": [
    "a=list(icecream.keys())\n",
    "print(a)"
   ]
  },
  {
   "cell_type": "code",
   "execution_count": 29,
   "id": "7c523c1d",
   "metadata": {
    "ExecuteTime": {
     "end_time": "2023-11-27T10:56:36.996247Z",
     "start_time": "2023-11-27T10:56:36.993611Z"
    }
   },
   "outputs": [
    {
     "name": "stdout",
     "output_type": "stream",
     "text": [
      "[1200, 1200, 1800, 1500, 1000]\n"
     ]
    }
   ],
   "source": [
    "b=list(icecream.values())\n",
    "print(b)"
   ]
  },
  {
   "cell_type": "markdown",
   "id": "9c808712",
   "metadata": {},
   "source": [
    "# 91~100"
   ]
  },
  {
   "cell_type": "code",
   "execution_count": 33,
   "id": "9f73a801",
   "metadata": {
    "ExecuteTime": {
     "end_time": "2023-11-27T10:58:52.976617Z",
     "start_time": "2023-11-27T10:58:52.971906Z"
    }
   },
   "outputs": [
    {
     "data": {
      "text/plain": [
       "{'탱크보이': 1200, '폴라포': 1200, '빵빠레': 1800, '월드콘': 1500, '메로나': 1000}"
      ]
     },
     "execution_count": 33,
     "metadata": {},
     "output_type": "execute_result"
    }
   ],
   "source": [
    "icecream = {'탱크보이': 1200, '폴라포': 1200, '빵빠레': 1800, '월드콘': 1500, '메로나': 1000}\n",
    "icecream"
   ]
  },
  {
   "cell_type": "code",
   "execution_count": 38,
   "id": "0df6e86a",
   "metadata": {
    "ExecuteTime": {
     "end_time": "2023-11-27T11:00:49.176272Z",
     "start_time": "2023-11-27T11:00:49.172845Z"
    }
   },
   "outputs": [
    {
     "name": "stdout",
     "output_type": "stream",
     "text": [
      "6700\n"
     ]
    }
   ],
   "source": [
    "a=sum(icecream.values())\n",
    "print(a)"
   ]
  },
  {
   "cell_type": "code",
   "execution_count": 39,
   "id": "284a0027",
   "metadata": {
    "ExecuteTime": {
     "end_time": "2023-11-27T11:01:46.793661Z",
     "start_time": "2023-11-27T11:01:46.790234Z"
    }
   },
   "outputs": [
    {
     "data": {
      "text/plain": [
       "5"
      ]
     },
     "execution_count": 39,
     "metadata": {},
     "output_type": "execute_result"
    }
   ],
   "source": [
    "len(icecream.values())"
   ]
  },
  {
   "cell_type": "code",
   "execution_count": 41,
   "id": "caa7023d",
   "metadata": {
    "ExecuteTime": {
     "end_time": "2023-11-27T11:03:07.044269Z",
     "start_time": "2023-11-27T11:03:07.041286Z"
    },
    "scrolled": true
   },
   "outputs": [
    {
     "name": "stdout",
     "output_type": "stream",
     "text": [
      "1340.0\n"
     ]
    }
   ],
   "source": [
    "avg_ice = a / len(icecream.values())\n",
    "print(avg_ice)"
   ]
  },
  {
   "cell_type": "markdown",
   "id": "7f5ddfc1",
   "metadata": {},
   "source": [
    "**▼ 99 zip과 dict**   \n",
    "- 아래 두 개의 튜플을 하나의 딕셔너리로 변환하라. keys를 키로, vals를 값으로 result 이름의 딕셔너리로 저장한다."
   ]
  },
  {
   "cell_type": "code",
   "execution_count": 43,
   "id": "a8fc9f14",
   "metadata": {
    "ExecuteTime": {
     "end_time": "2023-11-27T11:13:45.097527Z",
     "start_time": "2023-11-27T11:13:45.092502Z"
    }
   },
   "outputs": [
    {
     "name": "stdout",
     "output_type": "stream",
     "text": [
      "{'apple': 300, 'pear': 250, 'peach': 400}\n",
      "{'09/05': 10500, '09/06': 10300, '09/07': 10100, '09/08': 10800, '09/09': 11000}\n"
     ]
    }
   ],
   "source": [
    "#99 ~ 100 zip은 결합, 새로운 객체 생성, for문 등 다양하게 쓰이니 기본적인 개념은 알아두기\n",
    "\n",
    "keys = (\"apple\", \"pear\", \"peach\")\n",
    "vals = (300, 250, 400)\n",
    "result = dict(zip(keys, vals))\n",
    "print(result)\n",
    "\n",
    "date = ['09/05', '09/06', '09/07', '09/08', '09/09']\n",
    "close_price = [10500, 10300, 10100, 10800, 11000]\n",
    "close_table = dict(zip(date, close_price))\n",
    "print(close_table)\n",
    "\n",
    "#dict가 아니라 list, tuple로도 가능함"
   ]
  },
  {
   "cell_type": "markdown",
   "id": "7e2e117a",
   "metadata": {
    "ExecuteTime": {
     "end_time": "2023-11-28T13:54:45.090395Z",
     "start_time": "2023-11-28T13:54:45.086003Z"
    }
   },
   "source": [
    "#110\n",
    "아래 코드의 출력 결과를 예상하라"
   ]
  },
  {
   "cell_type": "code",
   "execution_count": null,
   "id": "6b1daa3a",
   "metadata": {},
   "outputs": [],
   "source": [
    "if True :      \n",
    "    if False:        \n",
    "        print(\"1\")       \n",
    "        print(\"2\")      \n",
    "    else:      \n",
    "        print(\"3\")      \n",
    "else :      \n",
    "    print(\"4\")      \n",
    "print(\"5\")      "
   ]
  },
  {
   "cell_type": "markdown",
   "id": "de4ecffa",
   "metadata": {},
   "source": [
    "3   \n",
    "5"
   ]
  },
  {
   "cell_type": "code",
   "execution_count": 1,
   "id": "3960a50b",
   "metadata": {
    "ExecuteTime": {
     "end_time": "2023-11-28T10:57:49.681060Z",
     "start_time": "2023-11-28T10:57:42.893029Z"
    }
   },
   "outputs": [
    {
     "name": "stdout",
     "output_type": "stream",
     "text": [
      "입력:안녕하세요\n",
      "안녕하세요안녕하세요\n"
     ]
    }
   ],
   "source": [
    "#111\n",
    "\n",
    "user = input(\"입력:\")\n",
    "print(user * 2)"
   ]
  },
  {
   "cell_type": "code",
   "execution_count": null,
   "id": "c5835ce4",
   "metadata": {
    "ExecuteTime": {
     "start_time": "2023-11-28T10:58:12.175Z"
    }
   },
   "outputs": [],
   "source": [
    "user = input(\"입력:\")\n",
    "print(user * 2)"
   ]
  },
  {
   "cell_type": "code",
   "execution_count": null,
   "id": "dff7ab9d",
   "metadata": {},
   "outputs": [],
   "source": []
  },
  {
   "cell_type": "code",
   "execution_count": null,
   "id": "29c3abb1",
   "metadata": {
    "ExecuteTime": {
     "start_time": "2023-11-28T11:00:12.360Z"
    }
   },
   "outputs": [],
   "source": [
    "# 113\n",
    "user = input(\"\")\n",
    "if int(user) % 2 == 0:\n",
    "    print(\"짝수\")\n",
    "else:\n",
    "    print(\"홀수\")"
   ]
  },
  {
   "cell_type": "code",
   "execution_count": null,
   "id": "ee4b0af5",
   "metadata": {
    "ExecuteTime": {
     "start_time": "2023-11-28T11:01:45.934Z"
    }
   },
   "outputs": [],
   "source": [
    "# 114\n",
    "user = input(\"입력값: \")\n",
    "num = 20 + int(user)\n",
    "if num > 255:\n",
    "    print(255)\n",
    "else:\n",
    "    print(num)"
   ]
  },
  {
   "cell_type": "code",
   "execution_count": null,
   "id": "37b6170c",
   "metadata": {},
   "outputs": [],
   "source": [
    "#115\n",
    "user = input(\"입력값: \")\n",
    "num = int(user) - 20\n",
    "if num > 255:\n",
    "    print(255)\n",
    "elif num < 0:\n",
    "    print(0)\n",
    "else:\n",
    "    print(num)\n",
    "    \n",
    "\n",
    "#elif 2개 이상 넣을 수 있음. 그때부터는 2순위 3순위 4순위로 밀리는 것임\n",
    "#255를 넘기는 값들은 255로 통일시켜 나오게 해.\n",
    "#0보다 작은 것도 출력 안 시킬거야. 0보다 작으면 모두 0으로 나오게.\n",
    "#0부터 255사이의 값만 남으면 그때는 이걸 출력해"
   ]
  },
  {
   "cell_type": "code",
   "execution_count": null,
   "id": "84bbf62a",
   "metadata": {},
   "outputs": [],
   "source": []
  },
  {
   "cell_type": "code",
   "execution_count": null,
   "id": "a06dd4df",
   "metadata": {},
   "outputs": [],
   "source": [
    "#116\n",
    "\n",
    "if \n"
   ]
  },
  {
   "cell_type": "code",
   "execution_count": null,
   "id": "d26d6048",
   "metadata": {},
   "outputs": [],
   "source": [
    "#117 in\n"
   ]
  },
  {
   "cell_type": "code",
   "execution_count": null,
   "id": "1594da17",
   "metadata": {},
   "outputs": [],
   "source": []
  },
  {
   "cell_type": "code",
   "execution_count": null,
   "id": "008f3a28",
   "metadata": {},
   "outputs": [],
   "source": [
    "#120\n",
    "fruit = {\"봄\" : \"딸기\", \"여름\" : \"토마토\", \"가을\" : \"사과\"}\n",
    "user = input(\"좋아하는 과일은?\")\n",
    "if user in fruit.values():\n",
    "    print(\"정답입니다.\")\n",
    "else:\n",
    "    print(\"오답입니다.\")\n",
    "    "
   ]
  },
  {
   "cell_type": "code",
   "execution_count": null,
   "id": "e9b421bb",
   "metadata": {},
   "outputs": [],
   "source": []
  },
  {
   "cell_type": "markdown",
   "id": "193fdb94",
   "metadata": {},
   "source": [
    "#121\n",
    "\n",
    "islower -> 이거 소문자야?\n",
    "lower  -> 대문자로 소문자로 바꿔줘\n",
    "upper -> 소문자면 대문자로 바꿔줘 \n"
   ]
  },
  {
   "cell_type": "code",
   "execution_count": null,
   "id": "e6b046bd",
   "metadata": {},
   "outputs": [],
   "source": []
  },
  {
   "cell_type": "code",
   "execution_count": null,
   "id": "5375473c",
   "metadata": {},
   "outputs": [],
   "source": [
    "#123\n",
    "\n",
    "float: 소수점까지 나오게 해줘\n",
    "    100.0 달러 \n",
    "    \n",
    "    환율 = {\"달러\": 1167, \n",
    "        \"엔\": 1.096, \n",
    "        \"유로\": 1268, \n",
    "        \"위안\": 171}\n",
    "user = input(\"입력: \")\n",
    "num, currency = user.split()\n",
    "print(float(num) * 환율[currency], \"원\")"
   ]
  },
  {
   "cell_type": "code",
   "execution_count": null,
   "id": "64faf469",
   "metadata": {
    "ExecuteTime": {
     "start_time": "2023-11-28T11:35:11.590Z"
    }
   },
   "outputs": [],
   "source": [
    "#124 max\n",
    "\n",
    "\n",
    "num1 = input(\"input number1: \")\n",
    "num2 = input(\"input number2: \")\n",
    "num3 = input(\"input number3: \")\n",
    "num1 = int(num1)\n",
    "num2 = int(num2)\n",
    "num3 = int(num3)\n",
    "\n",
    "if num1 >= num2 and num1 >= num3:\n",
    "    print(num1)\n",
    "elif num2 >= num1 and num2 >= num3:\n",
    "    print(num2)\n",
    "else:\n",
    "    print(num3)\n"
   ]
  },
  {
   "cell_type": "code",
   "execution_count": 1,
   "id": "4f64c6c5",
   "metadata": {
    "ExecuteTime": {
     "end_time": "2023-11-28T11:37:35.120007Z",
     "start_time": "2023-11-28T11:37:16.886662Z"
    }
   },
   "outputs": [
    {
     "name": "stdout",
     "output_type": "stream",
     "text": [
      "num_110\n",
      "num_29\n",
      "num_320\n"
     ]
    },
    {
     "data": {
      "text/plain": [
       "20"
      ]
     },
     "execution_count": 1,
     "metadata": {},
     "output_type": "execute_result"
    }
   ],
   "source": [
    "#124 \n",
    "\n",
    "num1 = input('num_1')\n",
    "num2 = input('num_2')\n",
    "num3 = input('num_3')\n",
    "num1 = int(num1)\n",
    "num2 = int(num2)\n",
    "num3 = int(num3)\n",
    "\n",
    "max(num1, num2, num3)"
   ]
  },
  {
   "cell_type": "code",
   "execution_count": null,
   "id": "b8c8c0bb",
   "metadata": {},
   "outputs": [],
   "source": [
    "#125"
   ]
  },
  {
   "cell_type": "code",
   "execution_count": null,
   "id": "ac7aa31f",
   "metadata": {},
   "outputs": [],
   "source": [
    "#126"
   ]
  },
  {
   "cell_type": "code",
   "execution_count": null,
   "id": "2b8ed012",
   "metadata": {},
   "outputs": [],
   "source": [
    "#130\n",
    "#requests 라이브러리 설치해야 가능"
   ]
  },
  {
   "cell_type": "code",
   "execution_count": null,
   "id": "8cfd7349",
   "metadata": {},
   "outputs": [],
   "source": [
    "#float 소수점. 실수형"
   ]
  },
  {
   "cell_type": "code",
   "execution_count": null,
   "id": "81c5fd87",
   "metadata": {},
   "outputs": [],
   "source": []
  },
  {
   "cell_type": "code",
   "execution_count": null,
   "id": "d68b49cc",
   "metadata": {},
   "outputs": [],
   "source": []
  },
  {
   "cell_type": "code",
   "execution_count": null,
   "id": "aa3a44e4",
   "metadata": {},
   "outputs": [],
   "source": []
  },
  {
   "cell_type": "code",
   "execution_count": null,
   "id": "e963481e",
   "metadata": {},
   "outputs": [],
   "source": []
  },
  {
   "cell_type": "code",
   "execution_count": null,
   "id": "bd7fa792",
   "metadata": {},
   "outputs": [],
   "source": []
  },
  {
   "cell_type": "code",
   "execution_count": null,
   "id": "95c17016",
   "metadata": {},
   "outputs": [],
   "source": []
  },
  {
   "cell_type": "code",
   "execution_count": null,
   "id": "8a285ac9",
   "metadata": {},
   "outputs": [],
   "source": []
  },
  {
   "cell_type": "code",
   "execution_count": null,
   "id": "46204bfb",
   "metadata": {},
   "outputs": [],
   "source": []
  },
  {
   "cell_type": "code",
   "execution_count": null,
   "id": "b06e3c1a",
   "metadata": {},
   "outputs": [],
   "source": []
  },
  {
   "cell_type": "code",
   "execution_count": null,
   "id": "330959b4",
   "metadata": {},
   "outputs": [],
   "source": []
  },
  {
   "cell_type": "code",
   "execution_count": null,
   "id": "abf41157",
   "metadata": {},
   "outputs": [],
   "source": []
  },
  {
   "cell_type": "code",
   "execution_count": null,
   "id": "4b568cad",
   "metadata": {},
   "outputs": [],
   "source": []
  },
  {
   "cell_type": "code",
   "execution_count": null,
   "id": "cb3ff724",
   "metadata": {},
   "outputs": [],
   "source": []
  },
  {
   "cell_type": "code",
   "execution_count": null,
   "id": "0b258b8c",
   "metadata": {},
   "outputs": [],
   "source": []
  },
  {
   "cell_type": "code",
   "execution_count": null,
   "id": "d9601e3b",
   "metadata": {},
   "outputs": [],
   "source": []
  },
  {
   "cell_type": "code",
   "execution_count": null,
   "id": "e8706d95",
   "metadata": {},
   "outputs": [],
   "source": []
  },
  {
   "cell_type": "code",
   "execution_count": null,
   "id": "8db97ae7",
   "metadata": {},
   "outputs": [],
   "source": []
  },
  {
   "cell_type": "code",
   "execution_count": null,
   "id": "84e37ea1",
   "metadata": {},
   "outputs": [],
   "source": []
  },
  {
   "cell_type": "code",
   "execution_count": null,
   "id": "5608ac2b",
   "metadata": {},
   "outputs": [],
   "source": []
  },
  {
   "cell_type": "code",
   "execution_count": null,
   "id": "5f6276e5",
   "metadata": {},
   "outputs": [],
   "source": []
  },
  {
   "cell_type": "code",
   "execution_count": null,
   "id": "4894d3ad",
   "metadata": {},
   "outputs": [],
   "source": []
  },
  {
   "cell_type": "code",
   "execution_count": null,
   "id": "78ff283a",
   "metadata": {},
   "outputs": [],
   "source": []
  },
  {
   "cell_type": "code",
   "execution_count": null,
   "id": "07352569",
   "metadata": {},
   "outputs": [],
   "source": []
  },
  {
   "cell_type": "code",
   "execution_count": null,
   "id": "7df90d0d",
   "metadata": {},
   "outputs": [],
   "source": []
  },
  {
   "cell_type": "code",
   "execution_count": null,
   "id": "7460a380",
   "metadata": {},
   "outputs": [],
   "source": []
  },
  {
   "cell_type": "code",
   "execution_count": null,
   "id": "81de8dbd",
   "metadata": {},
   "outputs": [],
   "source": []
  },
  {
   "cell_type": "code",
   "execution_count": null,
   "id": "41972f60",
   "metadata": {},
   "outputs": [],
   "source": []
  },
  {
   "cell_type": "code",
   "execution_count": null,
   "id": "17ee48ac",
   "metadata": {},
   "outputs": [],
   "source": []
  },
  {
   "cell_type": "code",
   "execution_count": null,
   "id": "32041821",
   "metadata": {},
   "outputs": [],
   "source": []
  },
  {
   "cell_type": "code",
   "execution_count": null,
   "id": "302381c9",
   "metadata": {},
   "outputs": [],
   "source": []
  },
  {
   "cell_type": "code",
   "execution_count": null,
   "id": "4b2b7cf9",
   "metadata": {},
   "outputs": [],
   "source": []
  }
 ],
 "metadata": {
  "kernelspec": {
   "display_name": "Python 3 (ipykernel)",
   "language": "python",
   "name": "python3"
  },
  "language_info": {
   "codemirror_mode": {
    "name": "ipython",
    "version": 3
   },
   "file_extension": ".py",
   "mimetype": "text/x-python",
   "name": "python",
   "nbconvert_exporter": "python",
   "pygments_lexer": "ipython3",
   "version": "3.11.5"
  },
  "toc": {
   "base_numbering": 1,
   "nav_menu": {},
   "number_sections": true,
   "sideBar": true,
   "skip_h1_title": false,
   "title_cell": "Table of Contents",
   "title_sidebar": "Contents",
   "toc_cell": false,
   "toc_position": {},
   "toc_section_display": true,
   "toc_window_display": false
  }
 },
 "nbformat": 4,
 "nbformat_minor": 5
}

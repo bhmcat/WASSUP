{
 "cells": [
  {
   "cell_type": "markdown",
   "id": "d2948c8e",
   "metadata": {},
   "source": [
    "# 001~010"
   ]
  },
  {
   "cell_type": "markdown",
   "id": "b6d8562d",
   "metadata": {
    "ExecuteTime": {
     "end_time": "2023-11-26T10:55:55.054373Z",
     "start_time": "2023-11-26T10:55:55.051735Z"
    }
   },
   "source": [
    "**▼ 001 print 기초**     \n",
    "화면에 Hello World 문자열을 출력하세요."
   ]
  },
  {
   "cell_type": "code",
   "execution_count": 54,
   "id": "d92dc3eb",
   "metadata": {
    "ExecuteTime": {
     "end_time": "2023-11-26T11:15:21.901683Z",
     "start_time": "2023-11-26T11:15:21.898385Z"
    }
   },
   "outputs": [
    {
     "name": "stdout",
     "output_type": "stream",
     "text": [
      "Hello world\n"
     ]
    }
   ],
   "source": [
    "print(\"Hello world\")"
   ]
  },
  {
   "cell_type": "markdown",
   "id": "dee01c69",
   "metadata": {},
   "source": [
    "**▼ 002 print 기초**   \n",
    "화면에 Mary's cosmetics을 출력하세요. (중간에 '가 있음에 주의하세요)\n"
   ]
  },
  {
   "cell_type": "code",
   "execution_count": 17,
   "id": "bf5298ff",
   "metadata": {
    "ExecuteTime": {
     "end_time": "2023-11-26T10:55:49.357995Z",
     "start_time": "2023-11-26T10:55:49.354414Z"
    }
   },
   "outputs": [
    {
     "name": "stdout",
     "output_type": "stream",
     "text": [
      "Mary's cosmetics\n"
     ]
    }
   ],
   "source": [
    "print(\"Mary's cosmetics\")"
   ]
  },
  {
   "cell_type": "markdown",
   "id": "2aa27a30",
   "metadata": {
    "ExecuteTime": {
     "end_time": "2023-11-26T11:11:45.872654Z",
     "start_time": "2023-11-26T11:11:45.868764Z"
    }
   },
   "source": [
    "**▼ 003 print 기초**   \n",
    "화면에 아래 문장을 출력하세요. (중간에 \"가 있음에 주의하세요.)"
   ]
  },
  {
   "cell_type": "code",
   "execution_count": 20,
   "id": "ff1ba27c",
   "metadata": {
    "ExecuteTime": {
     "end_time": "2023-11-26T10:56:09.336825Z",
     "start_time": "2023-11-26T10:56:09.333814Z"
    }
   },
   "outputs": [
    {
     "name": "stdout",
     "output_type": "stream",
     "text": [
      "신씨가 소리질렀다. \"도둑이야\".\n"
     ]
    }
   ],
   "source": [
    "print('신씨가 소리질렀다. \"도둑이야\".')"
   ]
  },
  {
   "cell_type": "markdown",
   "id": "a6394c42",
   "metadata": {
    "ExecuteTime": {
     "end_time": "2023-11-26T11:12:06.826793Z",
     "start_time": "2023-11-26T11:12:06.823789Z"
    }
   },
   "source": [
    "**▼ 004 print 기초**   \n",
    "화면에 C:\\Windows를 출력하세요."
   ]
  },
  {
   "cell_type": "code",
   "execution_count": 47,
   "id": "fc7dd61a",
   "metadata": {
    "ExecuteTime": {
     "end_time": "2023-11-26T11:12:14.147759Z",
     "start_time": "2023-11-26T11:12:14.144758Z"
    }
   },
   "outputs": [
    {
     "name": "stdout",
     "output_type": "stream",
     "text": [
      "C:\\Windows\n"
     ]
    }
   ],
   "source": [
    "print(\"C:\\\\Windows\")"
   ]
  },
  {
   "cell_type": "markdown",
   "id": "f8f79beb",
   "metadata": {
    "ExecuteTime": {
     "end_time": "2023-11-26T11:12:36.127422Z",
     "start_time": "2023-11-26T11:12:36.124015Z"
    }
   },
   "source": [
    "**▼ 005 print 탭과 줄바꿈**  \n",
    "다음 코드를 실행해보고 \\t와 \\n의 역할을 설명해보세요."
   ]
  },
  {
   "cell_type": "code",
   "execution_count": 22,
   "id": "4ea64326",
   "metadata": {
    "ExecuteTime": {
     "end_time": "2023-11-26T10:57:23.755188Z",
     "start_time": "2023-11-26T10:57:23.752534Z"
    }
   },
   "outputs": [
    {
     "name": "stdout",
     "output_type": "stream",
     "text": [
      "안녕하세요.\n",
      "만나서\t\t반갑습니다.\n"
     ]
    }
   ],
   "source": [
    "print(\"안녕하세요.\\n만나서\\t\\t반갑습니다.\")"
   ]
  },
  {
   "cell_type": "markdown",
   "id": "22ef3057",
   "metadata": {},
   "source": [
    "\\n : 줄 바꾸기   \n",
    "\\t : Tap"
   ]
  },
  {
   "cell_type": "markdown",
   "id": "22186af8",
   "metadata": {},
   "source": [
    "**▼ 006 print 여러 데이터 출력**   \n",
    "print 함수에 두 개의 단어를 입력한 예제입니다. 아래 코드의 출력 결과를 예상해봅시다."
   ]
  },
  {
   "cell_type": "code",
   "execution_count": 23,
   "id": "a3d29ccc",
   "metadata": {
    "ExecuteTime": {
     "end_time": "2023-11-26T10:58:31.877263Z",
     "start_time": "2023-11-26T10:58:31.874334Z"
    }
   },
   "outputs": [
    {
     "name": "stdout",
     "output_type": "stream",
     "text": [
      "오늘은 일요일\n"
     ]
    }
   ],
   "source": [
    "print (\"오늘은\", \"일요일\")"
   ]
  },
  {
   "cell_type": "markdown",
   "id": "7c13de91",
   "metadata": {},
   "source": [
    "**▼ 007 print 기초**   \n",
    "print() 함수를 사용하여 다음과 같이 출력하세요."
   ]
  },
  {
   "cell_type": "code",
   "execution_count": 49,
   "id": "5f5f7ab1",
   "metadata": {
    "ExecuteTime": {
     "end_time": "2023-11-26T11:13:29.463007Z",
     "start_time": "2023-11-26T11:13:29.459699Z"
    }
   },
   "outputs": [
    {
     "name": "stdout",
     "output_type": "stream",
     "text": [
      "naver;kakao;samsung\n"
     ]
    }
   ],
   "source": [
    "print(\"naver\", \"kakao\", \"samsung\", sep=\";\")"
   ]
  },
  {
   "cell_type": "markdown",
   "id": "b2ae5626",
   "metadata": {},
   "source": [
    "print 함수의 sep 인자로 \";\"를 입력하면 출력되는 값들 사이에    \n",
    "한 칸의 공백대신 세미콜론이 출력됩니다."
   ]
  },
  {
   "cell_type": "markdown",
   "id": "bcc8d2f0",
   "metadata": {},
   "source": [
    "**▼ 008 print 기초**   \n",
    "print() 함수를 사용하여 다음과 같이 출력하세요.   \n",
    "- naver/kakao/sk/samsung"
   ]
  },
  {
   "cell_type": "code",
   "execution_count": 27,
   "id": "ac0d7469",
   "metadata": {
    "ExecuteTime": {
     "end_time": "2023-11-26T11:03:06.884421Z",
     "start_time": "2023-11-26T11:03:06.881990Z"
    }
   },
   "outputs": [
    {
     "name": "stdout",
     "output_type": "stream",
     "text": [
      "naver/kakao/sk/samsung\n"
     ]
    }
   ],
   "source": [
    "print(\"naver\", \"kakao\", \"sk\", \"samsung\", sep=\"/\")"
   ]
  },
  {
   "cell_type": "markdown",
   "id": "a5beca13",
   "metadata": {
    "ExecuteTime": {
     "end_time": "2023-11-26T11:14:15.853927Z",
     "start_time": "2023-11-26T11:14:15.850380Z"
    }
   },
   "source": [
    "**▼ 009 print 줄바꿈**   \n",
    "다음 코드를 수정하여 줄바꿈이 없이 출력하세요. (힌트: end='') print 함수는 두 번 사용합니다.    \n",
    "세미콜론 (;)은 한줄에 여러 개의 명령을 작성하기 위해 사용합니다.   \n",
    "- print(\"first\");print(\"second\")"
   ]
  },
  {
   "cell_type": "code",
   "execution_count": 51,
   "id": "e4a79c50",
   "metadata": {
    "ExecuteTime": {
     "end_time": "2023-11-26T11:14:20.917653Z",
     "start_time": "2023-11-26T11:14:20.914597Z"
    }
   },
   "outputs": [
    {
     "name": "stdout",
     "output_type": "stream",
     "text": [
      "firstsecond\n"
     ]
    }
   ],
   "source": [
    "print(\"first\", end=\"\"); print(\"second\")"
   ]
  },
  {
   "cell_type": "markdown",
   "id": "6caa65ac",
   "metadata": {},
   "source": [
    "**▼ 010 연산 결과 출력**   \n",
    "5/3의 결과를 화면에 출력하세요."
   ]
  },
  {
   "cell_type": "code",
   "execution_count": 52,
   "id": "4ba27f3c",
   "metadata": {
    "ExecuteTime": {
     "end_time": "2023-11-26T11:14:57.203297Z",
     "start_time": "2023-11-26T11:14:57.200337Z"
    }
   },
   "outputs": [
    {
     "name": "stdout",
     "output_type": "stream",
     "text": [
      "1.6666666666666667\n"
     ]
    }
   ],
   "source": [
    "print(5/3)"
   ]
  },
  {
   "cell_type": "markdown",
   "id": "52b1da53",
   "metadata": {},
   "source": [
    "# 011~020"
   ]
  },
  {
   "cell_type": "markdown",
   "id": "afd88fc4",
   "metadata": {},
   "source": [
    "**▼ 011 변수 사용하기**   \n",
    "삼성전자라는 변수로 50,000원을 바인딩해보세요.    \n",
    "삼성전자 주식 10주를 보유하고 있을 때 총 평가금액을 출력하세요."
   ]
  },
  {
   "cell_type": "code",
   "execution_count": 59,
   "id": "fb2c2380",
   "metadata": {
    "ExecuteTime": {
     "end_time": "2023-11-26T11:17:21.663855Z",
     "start_time": "2023-11-26T11:17:21.661074Z"
    }
   },
   "outputs": [
    {
     "name": "stdout",
     "output_type": "stream",
     "text": [
      "500000\n"
     ]
    }
   ],
   "source": [
    "삼성전자 = 50000\n",
    "총평가금액 = 삼성전자 * 10\n",
    "print(총평가금액)"
   ]
  },
  {
   "cell_type": "markdown",
   "id": "894baa16",
   "metadata": {},
   "source": [
    "**▼ 012 변수 사용하기**   \n",
    "다음 표는 삼성전자의 일부 투자정보입니다.    \n",
    "변수를 사용해서 시가총액, 현재가, PER 등을 바인딩해보세요.\n",
    "\n",
    "|항목|값|\n",
    "|:--:|:--:|\n",
    "|시가총액|298조|\n",
    "|현재가|50,000원|\n",
    "|PER|15.79|"
   ]
  },
  {
   "cell_type": "code",
   "execution_count": 63,
   "id": "48d6bc15",
   "metadata": {
    "ExecuteTime": {
     "end_time": "2023-11-26T11:24:06.338856Z",
     "start_time": "2023-11-26T11:24:06.334959Z"
    }
   },
   "outputs": [
    {
     "name": "stdout",
     "output_type": "stream",
     "text": [
      "298000000000000 <class 'int'>\n",
      "50000 <class 'int'>\n",
      "15.79 <class 'float'>\n"
     ]
    }
   ],
   "source": [
    "시가총액 = 298000000000000\n",
    "현재가 = 50000\n",
    "PER = 15.79\n",
    "\n",
    "print(시가총액, type(시가총액))\n",
    "print(현재가, type(현재가))\n",
    "print(PER, type(PER))"
   ]
  },
  {
   "cell_type": "markdown",
   "id": "dcc84819",
   "metadata": {},
   "source": [
    "**▼ 013 문자열 출력**   \n",
    "변수 s와 t에는 각각 문자열이 바인딩 되어있습니다.     \n",
    "\n",
    "s = \"hello\"    \n",
    "t = \"python\"\n",
    "\n",
    "두 변수를 이용하여 아래와 같이 출력해보세요.    \n",
    "\n",
    "실행 예:    \n",
    "hello! python"
   ]
  },
  {
   "cell_type": "code",
   "execution_count": 77,
   "id": "e911aec3",
   "metadata": {
    "ExecuteTime": {
     "end_time": "2023-11-26T11:29:28.625913Z",
     "start_time": "2023-11-26T11:29:28.621902Z"
    }
   },
   "outputs": [
    {
     "data": {
      "text/plain": [
       "'hello! python'"
      ]
     },
     "execution_count": 77,
     "metadata": {},
     "output_type": "execute_result"
    }
   ],
   "source": [
    "s = \"hello\"\n",
    "t = \"python\"\n",
    "print=(s+\"! \"+t)\n",
    "print"
   ]
  },
  {
   "cell_type": "markdown",
   "id": "cfc0af07",
   "metadata": {},
   "source": [
    "**▼ 014 파이썬을 이용한 값 계산**   \n",
    "아래 코드의 실행 결과를 예상해보세요.    \n",
    "\n",
    "2 + 2 * 3 "
   ]
  },
  {
   "cell_type": "code",
   "execution_count": null,
   "id": "1b6cd677",
   "metadata": {},
   "outputs": [],
   "source": [
    "8"
   ]
  },
  {
   "cell_type": "code",
   "execution_count": null,
   "id": "2d6dbeab",
   "metadata": {},
   "outputs": [],
   "source": [
    "**▼ 015 type 함수**   \n",
    "type() 함수는 데이터 타입을 판별합니다. \n",
    "변수 a에는 128 숫자가 바인딩돼 있어 type 함수가 int (정수)형임을 알려줍니다."
   ]
  },
  {
   "cell_type": "code",
   "execution_count": null,
   "id": "36821456",
   "metadata": {},
   "outputs": [],
   "source": []
  },
  {
   "cell_type": "code",
   "execution_count": null,
   "id": "e4de651b",
   "metadata": {},
   "outputs": [],
   "source": []
  },
  {
   "cell_type": "code",
   "execution_count": null,
   "id": "42f69676",
   "metadata": {},
   "outputs": [],
   "source": []
  },
  {
   "cell_type": "code",
   "execution_count": null,
   "id": "0ec4750b",
   "metadata": {},
   "outputs": [],
   "source": []
  },
  {
   "cell_type": "code",
   "execution_count": null,
   "id": "8dd3c32e",
   "metadata": {},
   "outputs": [],
   "source": []
  },
  {
   "cell_type": "code",
   "execution_count": null,
   "id": "aa472fc5",
   "metadata": {},
   "outputs": [],
   "source": []
  },
  {
   "cell_type": "code",
   "execution_count": null,
   "id": "00dd2c66",
   "metadata": {},
   "outputs": [],
   "source": []
  },
  {
   "cell_type": "code",
   "execution_count": null,
   "id": "07780c9f",
   "metadata": {},
   "outputs": [],
   "source": []
  },
  {
   "cell_type": "code",
   "execution_count": null,
   "id": "ae4fda18",
   "metadata": {},
   "outputs": [],
   "source": []
  },
  {
   "cell_type": "code",
   "execution_count": null,
   "id": "434d6f95",
   "metadata": {},
   "outputs": [],
   "source": []
  },
  {
   "cell_type": "code",
   "execution_count": null,
   "id": "cee2d470",
   "metadata": {},
   "outputs": [],
   "source": []
  },
  {
   "cell_type": "code",
   "execution_count": null,
   "id": "6791c8ed",
   "metadata": {},
   "outputs": [],
   "source": []
  },
  {
   "cell_type": "code",
   "execution_count": null,
   "id": "1202c9a4",
   "metadata": {},
   "outputs": [],
   "source": []
  },
  {
   "cell_type": "code",
   "execution_count": null,
   "id": "eef78ea2",
   "metadata": {},
   "outputs": [],
   "source": []
  },
  {
   "cell_type": "code",
   "execution_count": null,
   "id": "3f01301d",
   "metadata": {},
   "outputs": [],
   "source": []
  },
  {
   "cell_type": "code",
   "execution_count": null,
   "id": "d132aa22",
   "metadata": {},
   "outputs": [],
   "source": []
  },
  {
   "cell_type": "code",
   "execution_count": null,
   "id": "d132c335",
   "metadata": {},
   "outputs": [],
   "source": []
  },
  {
   "cell_type": "code",
   "execution_count": null,
   "id": "011f67ff",
   "metadata": {},
   "outputs": [],
   "source": []
  },
  {
   "cell_type": "code",
   "execution_count": null,
   "id": "b298479b",
   "metadata": {},
   "outputs": [],
   "source": []
  },
  {
   "cell_type": "code",
   "execution_count": null,
   "id": "e5f7fd1d",
   "metadata": {},
   "outputs": [],
   "source": []
  },
  {
   "cell_type": "code",
   "execution_count": null,
   "id": "437cd8f8",
   "metadata": {},
   "outputs": [],
   "source": []
  },
  {
   "cell_type": "code",
   "execution_count": null,
   "id": "722901b7",
   "metadata": {},
   "outputs": [],
   "source": []
  },
  {
   "cell_type": "code",
   "execution_count": null,
   "id": "b16cb41b",
   "metadata": {},
   "outputs": [],
   "source": []
  },
  {
   "cell_type": "code",
   "execution_count": null,
   "id": "66e57dac",
   "metadata": {},
   "outputs": [],
   "source": []
  },
  {
   "cell_type": "code",
   "execution_count": null,
   "id": "3a6f8e49",
   "metadata": {},
   "outputs": [],
   "source": []
  },
  {
   "cell_type": "code",
   "execution_count": null,
   "id": "3661fb74",
   "metadata": {},
   "outputs": [],
   "source": []
  },
  {
   "cell_type": "code",
   "execution_count": null,
   "id": "ed43aba5",
   "metadata": {},
   "outputs": [],
   "source": []
  },
  {
   "cell_type": "code",
   "execution_count": null,
   "id": "8e33a3c5",
   "metadata": {},
   "outputs": [],
   "source": []
  },
  {
   "cell_type": "code",
   "execution_count": null,
   "id": "e5eb639b",
   "metadata": {},
   "outputs": [],
   "source": []
  },
  {
   "cell_type": "code",
   "execution_count": null,
   "id": "6bb8bba7",
   "metadata": {},
   "outputs": [],
   "source": []
  },
  {
   "cell_type": "code",
   "execution_count": null,
   "id": "f890644e",
   "metadata": {},
   "outputs": [],
   "source": []
  },
  {
   "cell_type": "code",
   "execution_count": null,
   "id": "9343a2cd",
   "metadata": {},
   "outputs": [],
   "source": []
  },
  {
   "cell_type": "code",
   "execution_count": null,
   "id": "99a71bd9",
   "metadata": {},
   "outputs": [],
   "source": []
  },
  {
   "cell_type": "code",
   "execution_count": null,
   "id": "f1971dc3",
   "metadata": {},
   "outputs": [],
   "source": []
  },
  {
   "cell_type": "code",
   "execution_count": null,
   "id": "e0b3c970",
   "metadata": {},
   "outputs": [],
   "source": []
  }
 ],
 "metadata": {
  "kernelspec": {
   "display_name": "Python 3 (ipykernel)",
   "language": "python",
   "name": "python3"
  },
  "language_info": {
   "codemirror_mode": {
    "name": "ipython",
    "version": 3
   },
   "file_extension": ".py",
   "mimetype": "text/x-python",
   "name": "python",
   "nbconvert_exporter": "python",
   "pygments_lexer": "ipython3",
   "version": "3.11.5"
  },
  "toc": {
   "base_numbering": 1,
   "nav_menu": {},
   "number_sections": true,
   "sideBar": true,
   "skip_h1_title": false,
   "title_cell": "Table of Contents",
   "title_sidebar": "Contents",
   "toc_cell": false,
   "toc_position": {},
   "toc_section_display": true,
   "toc_window_display": false
  }
 },
 "nbformat": 4,
 "nbformat_minor": 5
}

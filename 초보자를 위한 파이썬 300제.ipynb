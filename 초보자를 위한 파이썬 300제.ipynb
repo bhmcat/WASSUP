{
 "cells": [
  {
   "cell_type": "markdown",
   "id": "2dbd4f3a",
   "metadata": {},
   "source": [
    "# 001~010"
   ]
  },
  {
   "cell_type": "code",
   "execution_count": null,
   "id": "b3b785d9",
   "metadata": {},
   "outputs": [],
   "source": []
  },
  {
   "cell_type": "markdown",
   "id": "c10690fc",
   "metadata": {
    "ExecuteTime": {
     "end_time": "2023-11-26T10:55:55.054373Z",
     "start_time": "2023-11-26T10:55:55.051735Z"
    }
   },
   "source": [
    "**▼ 001 print 기초**     \n",
    "화면에 Hello World 문자열을 출력하세요."
   ]
  },
  {
   "cell_type": "code",
   "execution_count": 54,
   "id": "1fd16915",
   "metadata": {
    "ExecuteTime": {
     "end_time": "2023-11-26T11:15:21.901683Z",
     "start_time": "2023-11-26T11:15:21.898385Z"
    }
   },
   "outputs": [
    {
     "name": "stdout",
     "output_type": "stream",
     "text": [
      "Hello world\n"
     ]
    }
   ],
   "source": [
    "print(\"Hello world\")"
   ]
  },
  {
   "cell_type": "markdown",
   "id": "d9daf8d3",
   "metadata": {},
   "source": [
    "**▼ 002 print 기초**   \n",
    "화면에 Mary's cosmetics을 출력하세요. (중간에 '가 있음에 주의하세요)\n"
   ]
  },
  {
   "cell_type": "code",
   "execution_count": 17,
   "id": "8380dfa8",
   "metadata": {
    "ExecuteTime": {
     "end_time": "2023-11-26T10:55:49.357995Z",
     "start_time": "2023-11-26T10:55:49.354414Z"
    }
   },
   "outputs": [
    {
     "name": "stdout",
     "output_type": "stream",
     "text": [
      "Mary's cosmetics\n"
     ]
    }
   ],
   "source": [
    "print(\"Mary's cosmetics\")"
   ]
  },
  {
   "cell_type": "markdown",
   "id": "9f3dbd66",
   "metadata": {
    "ExecuteTime": {
     "end_time": "2023-11-26T11:11:45.872654Z",
     "start_time": "2023-11-26T11:11:45.868764Z"
    }
   },
   "source": [
    "**▼ 003 print 기초**   \n",
    "화면에 아래 문장을 출력하세요. (중간에 \"가 있음에 주의하세요.)"
   ]
  },
  {
   "cell_type": "code",
   "execution_count": 20,
   "id": "c867821f",
   "metadata": {
    "ExecuteTime": {
     "end_time": "2023-11-26T10:56:09.336825Z",
     "start_time": "2023-11-26T10:56:09.333814Z"
    }
   },
   "outputs": [
    {
     "name": "stdout",
     "output_type": "stream",
     "text": [
      "신씨가 소리질렀다. \"도둑이야\".\n"
     ]
    }
   ],
   "source": [
    "print('신씨가 소리질렀다. \"도둑이야\".')"
   ]
  },
  {
   "cell_type": "markdown",
   "id": "3377df5a",
   "metadata": {
    "ExecuteTime": {
     "end_time": "2023-11-26T11:12:06.826793Z",
     "start_time": "2023-11-26T11:12:06.823789Z"
    }
   },
   "source": [
    "**▼ 004 print 기초**   \n",
    "화면에 C:\\Windows를 출력하세요."
   ]
  },
  {
   "cell_type": "code",
   "execution_count": 47,
   "id": "8ab13b89",
   "metadata": {
    "ExecuteTime": {
     "end_time": "2023-11-26T11:12:14.147759Z",
     "start_time": "2023-11-26T11:12:14.144758Z"
    }
   },
   "outputs": [
    {
     "name": "stdout",
     "output_type": "stream",
     "text": [
      "C:\\Windows\n"
     ]
    }
   ],
   "source": [
    "print(\"C:\\\\Windows\")"
   ]
  },
  {
   "cell_type": "markdown",
   "id": "fe388279",
   "metadata": {
    "ExecuteTime": {
     "end_time": "2023-11-26T11:12:36.127422Z",
     "start_time": "2023-11-26T11:12:36.124015Z"
    }
   },
   "source": [
    "**▼ 005 print 탭과 줄바꿈**  \n",
    "다음 코드를 실행해보고 \\t와 \\n의 역할을 설명해보세요."
   ]
  },
  {
   "cell_type": "code",
   "execution_count": 22,
   "id": "94658f3b",
   "metadata": {
    "ExecuteTime": {
     "end_time": "2023-11-26T10:57:23.755188Z",
     "start_time": "2023-11-26T10:57:23.752534Z"
    }
   },
   "outputs": [
    {
     "name": "stdout",
     "output_type": "stream",
     "text": [
      "안녕하세요.\n",
      "만나서\t\t반갑습니다.\n"
     ]
    }
   ],
   "source": [
    "print(\"안녕하세요.\\n만나서\\t\\t반갑습니다.\")"
   ]
  },
  {
   "cell_type": "markdown",
   "id": "8bca6369",
   "metadata": {},
   "source": [
    "\\n : 줄 바꾸기   \n",
    "\\t : Tap"
   ]
  },
  {
   "cell_type": "markdown",
   "id": "b2abcc6f",
   "metadata": {},
   "source": [
    "**▼ 006 print 여러 데이터 출력**   \n",
    "print 함수에 두 개의 단어를 입력한 예제입니다. 아래 코드의 출력 결과를 예상해봅시다."
   ]
  },
  {
   "cell_type": "code",
   "execution_count": 23,
   "id": "065ca43e",
   "metadata": {
    "ExecuteTime": {
     "end_time": "2023-11-26T10:58:31.877263Z",
     "start_time": "2023-11-26T10:58:31.874334Z"
    }
   },
   "outputs": [
    {
     "name": "stdout",
     "output_type": "stream",
     "text": [
      "오늘은 일요일\n"
     ]
    }
   ],
   "source": [
    "print (\"오늘은\", \"일요일\")"
   ]
  },
  {
   "cell_type": "markdown",
   "id": "eba8aa98",
   "metadata": {},
   "source": [
    "**▼ 007 print 기초**   \n",
    "print() 함수를 사용하여 다음과 같이 출력하세요."
   ]
  },
  {
   "cell_type": "code",
   "execution_count": 49,
   "id": "34634cc1",
   "metadata": {
    "ExecuteTime": {
     "end_time": "2023-11-26T11:13:29.463007Z",
     "start_time": "2023-11-26T11:13:29.459699Z"
    }
   },
   "outputs": [
    {
     "name": "stdout",
     "output_type": "stream",
     "text": [
      "naver;kakao;samsung\n"
     ]
    }
   ],
   "source": [
    "print(\"naver\", \"kakao\", \"samsung\", sep=\";\")"
   ]
  },
  {
   "cell_type": "markdown",
   "id": "46dfa6c2",
   "metadata": {},
   "source": [
    "print 함수의 sep 인자로 \";\"를 입력하면 출력되는 값들 사이에    \n",
    "한 칸의 공백대신 세미콜론이 출력됩니다."
   ]
  },
  {
   "cell_type": "markdown",
   "id": "31e18193",
   "metadata": {},
   "source": [
    "**▼ 008 print 기초**   \n",
    "print() 함수를 사용하여 다음과 같이 출력하세요.   \n",
    "- naver/kakao/sk/samsung"
   ]
  },
  {
   "cell_type": "code",
   "execution_count": 27,
   "id": "b061d6b1",
   "metadata": {
    "ExecuteTime": {
     "end_time": "2023-11-26T11:03:06.884421Z",
     "start_time": "2023-11-26T11:03:06.881990Z"
    }
   },
   "outputs": [
    {
     "name": "stdout",
     "output_type": "stream",
     "text": [
      "naver/kakao/sk/samsung\n"
     ]
    }
   ],
   "source": [
    "print(\"naver\", \"kakao\", \"sk\", \"samsung\", sep=\"/\")"
   ]
  },
  {
   "cell_type": "markdown",
   "id": "edf3145e",
   "metadata": {
    "ExecuteTime": {
     "end_time": "2023-11-26T11:14:15.853927Z",
     "start_time": "2023-11-26T11:14:15.850380Z"
    }
   },
   "source": [
    "**▼ 009 print 줄바꿈**   \n",
    "다음 코드를 수정하여 줄바꿈이 없이 출력하세요. (힌트: end='') print 함수는 두 번 사용합니다.    \n",
    "세미콜론 (;)은 한줄에 여러 개의 명령을 작성하기 위해 사용합니다.   \n",
    "- print(\"first\");print(\"second\")"
   ]
  },
  {
   "cell_type": "code",
   "execution_count": 51,
   "id": "76499540",
   "metadata": {
    "ExecuteTime": {
     "end_time": "2023-11-26T11:14:20.917653Z",
     "start_time": "2023-11-26T11:14:20.914597Z"
    }
   },
   "outputs": [
    {
     "name": "stdout",
     "output_type": "stream",
     "text": [
      "firstsecond\n"
     ]
    }
   ],
   "source": [
    "print(\"first\", end=\"\"); print(\"second\")"
   ]
  },
  {
   "cell_type": "markdown",
   "id": "71c7c756",
   "metadata": {},
   "source": [
    "**▼ 010 연산 결과 출력**   \n",
    "5/3의 결과를 화면에 출력하세요."
   ]
  },
  {
   "cell_type": "code",
   "execution_count": 52,
   "id": "f55cdcba",
   "metadata": {
    "ExecuteTime": {
     "end_time": "2023-11-26T11:14:57.203297Z",
     "start_time": "2023-11-26T11:14:57.200337Z"
    }
   },
   "outputs": [
    {
     "name": "stdout",
     "output_type": "stream",
     "text": [
      "1.6666666666666667\n"
     ]
    }
   ],
   "source": [
    "print(5/3)"
   ]
  },
  {
   "cell_type": "markdown",
   "id": "4bdaef81",
   "metadata": {},
   "source": [
    "# 011~020"
   ]
  },
  {
   "cell_type": "markdown",
   "id": "8d20ae6c",
   "metadata": {},
   "source": [
    "**▼ 011 변수 사용하기**   \n",
    "삼성전자라는 변수로 50,000원을 바인딩해보세요.    \n",
    "삼성전자 주식 10주를 보유하고 있을 때 총 평가금액을 출력하세요."
   ]
  },
  {
   "cell_type": "code",
   "execution_count": 59,
   "id": "ff6c1912",
   "metadata": {
    "ExecuteTime": {
     "end_time": "2023-11-26T11:17:21.663855Z",
     "start_time": "2023-11-26T11:17:21.661074Z"
    }
   },
   "outputs": [
    {
     "name": "stdout",
     "output_type": "stream",
     "text": [
      "500000\n"
     ]
    }
   ],
   "source": [
    "삼성전자 = 50000\n",
    "총평가금액 = 삼성전자 * 10\n",
    "print(총평가금액)"
   ]
  },
  {
   "cell_type": "markdown",
   "id": "51dcafbe",
   "metadata": {},
   "source": [
    "**▼ 012 변수 사용하기**   \n",
    "다음 표는 삼성전자의 일부 투자정보입니다.    \n",
    "변수를 사용해서 시가총액, 현재가, PER 등을 바인딩해보세요.\n",
    "\n",
    "|항목|값|\n",
    "|:--:|:--:|\n",
    "|시가총액|298조|\n",
    "|현재가|50,000원|\n",
    "|PER|15.79|"
   ]
  },
  {
   "cell_type": "code",
   "execution_count": 63,
   "id": "b474e0ae",
   "metadata": {
    "ExecuteTime": {
     "end_time": "2023-11-26T11:24:06.338856Z",
     "start_time": "2023-11-26T11:24:06.334959Z"
    }
   },
   "outputs": [
    {
     "name": "stdout",
     "output_type": "stream",
     "text": [
      "298000000000000 <class 'int'>\n",
      "50000 <class 'int'>\n",
      "15.79 <class 'float'>\n"
     ]
    }
   ],
   "source": [
    "시가총액 = 298000000000000\n",
    "현재가 = 50000\n",
    "PER = 15.79\n",
    "\n",
    "print(시가총액, type(시가총액))\n",
    "print(현재가, type(현재가))\n",
    "print(PER, type(PER))"
   ]
  },
  {
   "cell_type": "markdown",
   "id": "822261ff",
   "metadata": {},
   "source": [
    "**▼ 013 문자열 출력**   \n",
    "변수 s와 t에는 각각 문자열이 바인딩 되어있습니다.     \n",
    "\n",
    "s = \"hello\"    \n",
    "t = \"python\"\n",
    "\n",
    "두 변수를 이용하여 아래와 같이 출력해보세요.    \n",
    "\n",
    "실행 예:    \n",
    "hello! python"
   ]
  },
  {
   "cell_type": "code",
   "execution_count": 77,
   "id": "cd225de0",
   "metadata": {
    "ExecuteTime": {
     "end_time": "2023-11-26T11:29:28.625913Z",
     "start_time": "2023-11-26T11:29:28.621902Z"
    }
   },
   "outputs": [
    {
     "data": {
      "text/plain": [
       "'hello! python'"
      ]
     },
     "execution_count": 77,
     "metadata": {},
     "output_type": "execute_result"
    }
   ],
   "source": [
    "s = \"hello\"\n",
    "t = \"python\"\n",
    "print=(s+\"! \"+t)\n",
    "print"
   ]
  },
  {
   "cell_type": "markdown",
   "id": "a22bad07",
   "metadata": {},
   "source": [
    "**▼ 014 파이썬을 이용한 값 계산**   \n",
    "아래 코드의 실행 결과를 예상해보세요.    \n",
    "\n",
    "2 + 2 * 3 "
   ]
  },
  {
   "cell_type": "code",
   "execution_count": null,
   "id": "eb79122e",
   "metadata": {},
   "outputs": [],
   "source": [
    "8"
   ]
  },
  {
   "cell_type": "markdown",
   "id": "5502d202",
   "metadata": {
    "ExecuteTime": {
     "end_time": "2023-11-26T11:32:51.590053Z",
     "start_time": "2023-11-26T11:32:51.586652Z"
    }
   },
   "source": [
    "**▼ 015 type 함수**   \n",
    "type() 함수는 데이터 타입을 판별합니다.    \n",
    "변수 a에는 128 숫자가 바인딩돼 있어 type 함수가 int (정수)형임을 알려줍니다."
   ]
  },
  {
   "cell_type": "code",
   "execution_count": null,
   "id": "859809f0",
   "metadata": {},
   "outputs": [],
   "source": []
  },
  {
   "cell_type": "code",
   "execution_count": null,
   "id": "ce99f545",
   "metadata": {},
   "outputs": [],
   "source": []
  },
  {
   "cell_type": "code",
   "execution_count": null,
   "id": "93af8ba8",
   "metadata": {},
   "outputs": [],
   "source": []
  },
  {
   "cell_type": "code",
   "execution_count": null,
   "id": "b079c94d",
   "metadata": {},
   "outputs": [],
   "source": []
  },
  {
   "cell_type": "code",
   "execution_count": null,
   "id": "b071ca58",
   "metadata": {},
   "outputs": [],
   "source": []
  },
  {
   "cell_type": "code",
   "execution_count": null,
   "id": "b3966671",
   "metadata": {},
   "outputs": [],
   "source": []
  },
  {
   "cell_type": "code",
   "execution_count": null,
   "id": "1aed40d3",
   "metadata": {},
   "outputs": [],
   "source": []
  },
  {
   "cell_type": "markdown",
   "id": "635aa4f1",
   "metadata": {},
   "source": [
    "# 80"
   ]
  },
  {
   "cell_type": "code",
   "execution_count": 3,
   "id": "4279a91c",
   "metadata": {
    "ExecuteTime": {
     "end_time": "2023-11-27T10:36:50.847468Z",
     "start_time": "2023-11-27T10:36:50.845026Z"
    }
   },
   "outputs": [],
   "source": [
    "scores = [8.8, 8.9, 8.7, 9.2, 9.3, 9.7, 9.9, 9.5, 7.8, 9.4]"
   ]
  },
  {
   "cell_type": "code",
   "execution_count": 4,
   "id": "2088ee51",
   "metadata": {
    "ExecuteTime": {
     "end_time": "2023-11-27T10:36:56.901390Z",
     "start_time": "2023-11-27T10:36:56.895376Z"
    },
    "scrolled": true
   },
   "outputs": [
    {
     "data": {
      "text/plain": [
       "[8.8, 8.9, 8.7, 9.2, 9.3, 9.7, 9.9, 9.5, 7.8, 9.4]"
      ]
     },
     "execution_count": 4,
     "metadata": {},
     "output_type": "execute_result"
    }
   ],
   "source": [
    "scores[:]"
   ]
  },
  {
   "cell_type": "code",
   "execution_count": 7,
   "id": "0a8cf159",
   "metadata": {
    "ExecuteTime": {
     "end_time": "2023-11-27T10:38:19.302632Z",
     "start_time": "2023-11-27T10:38:19.298624Z"
    }
   },
   "outputs": [
    {
     "data": {
      "text/plain": [
       "[8.8, 8.9, 8.7, 9.2, 9.3, 9.7, 9.9, 9.5]"
      ]
     },
     "execution_count": 7,
     "metadata": {},
     "output_type": "execute_result"
    }
   ],
   "source": [
    "scores[:-2]"
   ]
  },
  {
   "cell_type": "code",
   "execution_count": 9,
   "id": "7b3c0e6e",
   "metadata": {
    "ExecuteTime": {
     "end_time": "2023-11-27T10:38:38.505294Z",
     "start_time": "2023-11-27T10:38:38.502096Z"
    }
   },
   "outputs": [
    {
     "data": {
      "text/plain": [
       "[8.7, 9.2, 9.3, 9.7, 9.9, 9.5, 7.8, 9.4]"
      ]
     },
     "execution_count": 9,
     "metadata": {},
     "output_type": "execute_result"
    }
   ],
   "source": [
    "scores[2:]"
   ]
  },
  {
   "cell_type": "code",
   "execution_count": 10,
   "id": "9ca39105",
   "metadata": {
    "ExecuteTime": {
     "end_time": "2023-11-27T10:39:17.295389Z",
     "start_time": "2023-11-27T10:39:17.291141Z"
    }
   },
   "outputs": [
    {
     "data": {
      "text/plain": [
       "[8.9, 8.7, 9.2, 9.3, 9.7, 9.9, 9.5, 7.8]"
      ]
     },
     "execution_count": 10,
     "metadata": {},
     "output_type": "execute_result"
    }
   ],
   "source": [
    "scores[1:-1]"
   ]
  },
  {
   "cell_type": "markdown",
   "id": "a35861f5",
   "metadata": {},
   "source": [
    "다음과 같이 10개의 값이 저장된 scores 리스트가 있을 때, start expression을 사용하여 좌측 8개의 값을 valid_score 변수에 바인딩하여라."
   ]
  },
  {
   "cell_type": "code",
   "execution_count": 13,
   "id": "c6a8310c",
   "metadata": {
    "ExecuteTime": {
     "end_time": "2023-11-27T10:42:59.142607Z",
     "start_time": "2023-11-27T10:42:59.138907Z"
    }
   },
   "outputs": [
    {
     "data": {
      "text/plain": [
       "[8.8, 8.9, 8.7, 9.2, 9.3, 9.7, 9.9, 9.5]"
      ]
     },
     "execution_count": 13,
     "metadata": {},
     "output_type": "execute_result"
    }
   ],
   "source": [
    "*Left8,_,_=scores\n",
    "Left8"
   ]
  },
  {
   "cell_type": "code",
   "execution_count": 14,
   "id": "4cd2eca8",
   "metadata": {
    "ExecuteTime": {
     "end_time": "2023-11-27T10:43:59.967624Z",
     "start_time": "2023-11-27T10:43:59.963513Z"
    }
   },
   "outputs": [
    {
     "data": {
      "text/plain": [
       "[8.7, 9.2, 9.3, 9.7, 9.9, 9.5, 7.8, 9.4]"
      ]
     },
     "execution_count": 14,
     "metadata": {},
     "output_type": "execute_result"
    }
   ],
   "source": [
    "a,b,*Right8=scores\n",
    "Right8"
   ]
  },
  {
   "cell_type": "code",
   "execution_count": 15,
   "id": "71ac0dc4",
   "metadata": {
    "ExecuteTime": {
     "end_time": "2023-11-27T10:44:20.002689Z",
     "start_time": "2023-11-27T10:44:19.998043Z"
    }
   },
   "outputs": [
    {
     "name": "stdout",
     "output_type": "stream",
     "text": [
      "8.8 8.9\n"
     ]
    }
   ],
   "source": [
    "print(a,b)"
   ]
  },
  {
   "cell_type": "code",
   "execution_count": 16,
   "id": "6040df27",
   "metadata": {
    "ExecuteTime": {
     "end_time": "2023-11-27T10:45:26.844442Z",
     "start_time": "2023-11-27T10:45:26.841176Z"
    }
   },
   "outputs": [
    {
     "data": {
      "text/plain": [
       "[8.9, 8.7, 9.2, 9.3, 9.7, 9.9, 9.5, 7.8]"
      ]
     },
     "execution_count": 16,
     "metadata": {},
     "output_type": "execute_result"
    }
   ],
   "source": [
    "_,*Mid8,_=scores\n",
    "Mid8"
   ]
  },
  {
   "cell_type": "code",
   "execution_count": null,
   "id": "66f4eff6",
   "metadata": {},
   "outputs": [],
   "source": []
  },
  {
   "cell_type": "markdown",
   "id": "884fbad7",
   "metadata": {},
   "source": [
    "# 85"
   ]
  },
  {
   "cell_type": "markdown",
   "id": "5af2c577",
   "metadata": {},
   "source": [
    "다음 아이스크림 이름과 희망 가격을 딕셔너리로 구성하라.\n",
    "\n",
    "이름\t희망 가격\n",
    "메로나\t1000\n",
    "폴라포\t1200\n",
    "빵빠레\t1800"
   ]
  },
  {
   "cell_type": "code",
   "execution_count": 19,
   "id": "ea8dc33b",
   "metadata": {
    "ExecuteTime": {
     "end_time": "2023-11-27T10:51:51.027725Z",
     "start_time": "2023-11-27T10:51:51.023207Z"
    }
   },
   "outputs": [
    {
     "data": {
      "text/plain": [
       "{'탱크보이': 1200, '폴라포': 1200, '빵빠레': 1800, '월드콘': 1500, '메로나': 1000}"
      ]
     },
     "execution_count": 19,
     "metadata": {},
     "output_type": "execute_result"
    }
   ],
   "source": [
    "icecream = {'탱크보이': 1200, '폴라포': 1200, '빵빠레': 1800, '월드콘': 1500, '메로나': 1000}\n",
    "icecream"
   ]
  },
  {
   "cell_type": "code",
   "execution_count": 23,
   "id": "1e6037bf",
   "metadata": {
    "ExecuteTime": {
     "end_time": "2023-11-27T10:54:16.144276Z",
     "start_time": "2023-11-27T10:54:16.140355Z"
    }
   },
   "outputs": [
    {
     "data": {
      "text/plain": [
       "list[dict_keys(['탱크보이', '폴라포', '빵빠레', '월드콘', '메로나'])]"
      ]
     },
     "execution_count": 23,
     "metadata": {},
     "output_type": "execute_result"
    }
   ],
   "source": [
    "list[icecream.keys()]"
   ]
  },
  {
   "cell_type": "code",
   "execution_count": 28,
   "id": "b41cc97b",
   "metadata": {
    "ExecuteTime": {
     "end_time": "2023-11-27T10:56:20.531232Z",
     "start_time": "2023-11-27T10:56:20.526842Z"
    }
   },
   "outputs": [
    {
     "data": {
      "text/plain": [
       "[1200, 1200, 1800, 1500, 1000]"
      ]
     },
     "execution_count": 28,
     "metadata": {},
     "output_type": "execute_result"
    }
   ],
   "source": [
    "list(icecream.values())"
   ]
  },
  {
   "cell_type": "code",
   "execution_count": 32,
   "id": "33cb6b53",
   "metadata": {
    "ExecuteTime": {
     "end_time": "2023-11-27T10:57:58.375726Z",
     "start_time": "2023-11-27T10:57:58.372212Z"
    }
   },
   "outputs": [
    {
     "name": "stdout",
     "output_type": "stream",
     "text": [
      "['탱크보이', '폴라포', '빵빠레', '월드콘', '메로나']\n"
     ]
    }
   ],
   "source": [
    "a=list(icecream.keys())\n",
    "print(a)"
   ]
  },
  {
   "cell_type": "code",
   "execution_count": 29,
   "id": "7c523c1d",
   "metadata": {
    "ExecuteTime": {
     "end_time": "2023-11-27T10:56:36.996247Z",
     "start_time": "2023-11-27T10:56:36.993611Z"
    }
   },
   "outputs": [
    {
     "name": "stdout",
     "output_type": "stream",
     "text": [
      "[1200, 1200, 1800, 1500, 1000]\n"
     ]
    }
   ],
   "source": [
    "b=list(icecream.values())\n",
    "print(b)"
   ]
  },
  {
   "cell_type": "markdown",
   "id": "9c808712",
   "metadata": {},
   "source": [
    "# 97"
   ]
  },
  {
   "cell_type": "code",
   "execution_count": 33,
   "id": "9f73a801",
   "metadata": {
    "ExecuteTime": {
     "end_time": "2023-11-27T10:58:52.976617Z",
     "start_time": "2023-11-27T10:58:52.971906Z"
    }
   },
   "outputs": [
    {
     "data": {
      "text/plain": [
       "{'탱크보이': 1200, '폴라포': 1200, '빵빠레': 1800, '월드콘': 1500, '메로나': 1000}"
      ]
     },
     "execution_count": 33,
     "metadata": {},
     "output_type": "execute_result"
    }
   ],
   "source": [
    "icecream = {'탱크보이': 1200, '폴라포': 1200, '빵빠레': 1800, '월드콘': 1500, '메로나': 1000}\n",
    "icecream"
   ]
  },
  {
   "cell_type": "code",
   "execution_count": 38,
   "id": "0df6e86a",
   "metadata": {
    "ExecuteTime": {
     "end_time": "2023-11-27T11:00:49.176272Z",
     "start_time": "2023-11-27T11:00:49.172845Z"
    }
   },
   "outputs": [
    {
     "name": "stdout",
     "output_type": "stream",
     "text": [
      "6700\n"
     ]
    }
   ],
   "source": [
    "a=sum(icecream.values())\n",
    "print(a)"
   ]
  },
  {
   "cell_type": "code",
   "execution_count": 39,
   "id": "284a0027",
   "metadata": {
    "ExecuteTime": {
     "end_time": "2023-11-27T11:01:46.793661Z",
     "start_time": "2023-11-27T11:01:46.790234Z"
    }
   },
   "outputs": [
    {
     "data": {
      "text/plain": [
       "5"
      ]
     },
     "execution_count": 39,
     "metadata": {},
     "output_type": "execute_result"
    }
   ],
   "source": [
    "len(icecream.values())"
   ]
  },
  {
   "cell_type": "code",
   "execution_count": 41,
   "id": "caa7023d",
   "metadata": {
    "ExecuteTime": {
     "end_time": "2023-11-27T11:03:07.044269Z",
     "start_time": "2023-11-27T11:03:07.041286Z"
    },
    "scrolled": true
   },
   "outputs": [
    {
     "name": "stdout",
     "output_type": "stream",
     "text": [
      "1340.0\n"
     ]
    }
   ],
   "source": [
    "avg_ice = a / len(icecream.values())\n",
    "print(avg_ice)"
   ]
  },
  {
   "cell_type": "markdown",
   "id": "7f5ddfc1",
   "metadata": {},
   "source": [
    "# 099 zip과 dict"
   ]
  },
  {
   "cell_type": "code",
   "execution_count": 43,
   "id": "a8fc9f14",
   "metadata": {
    "ExecuteTime": {
     "end_time": "2023-11-27T11:13:45.097527Z",
     "start_time": "2023-11-27T11:13:45.092502Z"
    }
   },
   "outputs": [
    {
     "name": "stdout",
     "output_type": "stream",
     "text": [
      "{'apple': 300, 'pear': 250, 'peach': 400}\n",
      "{'09/05': 10500, '09/06': 10300, '09/07': 10100, '09/08': 10800, '09/09': 11000}\n"
     ]
    }
   ],
   "source": [
    "#99 ~ 100 zip은 결합, 새로운 객체 생성, for문 등 다양하게 쓰이니 기본적인 개념은 알아두기\n",
    "\n",
    "keys = (\"apple\", \"pear\", \"peach\")\n",
    "vals = (300, 250, 400)\n",
    "result = dict(zip(keys, vals))\n",
    "print(result)\n",
    "\n",
    "date = ['09/05', '09/06', '09/07', '09/08', '09/09']\n",
    "close_price = [10500, 10300, 10100, 10800, 11000]\n",
    "close_table = dict(zip(date, close_price))\n",
    "print(close_table)\n",
    "\n",
    "#dict가 아니라 list, tuple로도 가능함"
   ]
  },
  {
   "cell_type": "code",
   "execution_count": null,
   "id": "073ea49b",
   "metadata": {},
   "outputs": [],
   "source": []
  },
  {
   "cell_type": "code",
   "execution_count": null,
   "id": "3960a50b",
   "metadata": {},
   "outputs": [],
   "source": []
  },
  {
   "cell_type": "code",
   "execution_count": null,
   "id": "c5835ce4",
   "metadata": {},
   "outputs": [],
   "source": []
  },
  {
   "cell_type": "code",
   "execution_count": null,
   "id": "dff7ab9d",
   "metadata": {},
   "outputs": [],
   "source": []
  },
  {
   "cell_type": "code",
   "execution_count": null,
   "id": "29c3abb1",
   "metadata": {},
   "outputs": [],
   "source": []
  },
  {
   "cell_type": "code",
   "execution_count": null,
   "id": "e8706d95",
   "metadata": {},
   "outputs": [],
   "source": []
  },
  {
   "cell_type": "code",
   "execution_count": null,
   "id": "8db97ae7",
   "metadata": {},
   "outputs": [],
   "source": []
  },
  {
   "cell_type": "code",
   "execution_count": null,
   "id": "84e37ea1",
   "metadata": {},
   "outputs": [],
   "source": []
  },
  {
   "cell_type": "code",
   "execution_count": null,
   "id": "5608ac2b",
   "metadata": {},
   "outputs": [],
   "source": []
  },
  {
   "cell_type": "code",
   "execution_count": null,
   "id": "5f6276e5",
   "metadata": {},
   "outputs": [],
   "source": []
  },
  {
   "cell_type": "code",
   "execution_count": null,
   "id": "4894d3ad",
   "metadata": {},
   "outputs": [],
   "source": []
  },
  {
   "cell_type": "code",
   "execution_count": null,
   "id": "78ff283a",
   "metadata": {},
   "outputs": [],
   "source": []
  },
  {
   "cell_type": "code",
   "execution_count": null,
   "id": "07352569",
   "metadata": {},
   "outputs": [],
   "source": []
  },
  {
   "cell_type": "code",
   "execution_count": null,
   "id": "7df90d0d",
   "metadata": {},
   "outputs": [],
   "source": []
  },
  {
   "cell_type": "code",
   "execution_count": null,
   "id": "7460a380",
   "metadata": {},
   "outputs": [],
   "source": []
  },
  {
   "cell_type": "code",
   "execution_count": null,
   "id": "81de8dbd",
   "metadata": {},
   "outputs": [],
   "source": []
  },
  {
   "cell_type": "code",
   "execution_count": null,
   "id": "41972f60",
   "metadata": {},
   "outputs": [],
   "source": []
  },
  {
   "cell_type": "code",
   "execution_count": null,
   "id": "17ee48ac",
   "metadata": {},
   "outputs": [],
   "source": []
  },
  {
   "cell_type": "code",
   "execution_count": null,
   "id": "32041821",
   "metadata": {},
   "outputs": [],
   "source": []
  },
  {
   "cell_type": "code",
   "execution_count": null,
   "id": "302381c9",
   "metadata": {},
   "outputs": [],
   "source": []
  },
  {
   "cell_type": "code",
   "execution_count": null,
   "id": "4b2b7cf9",
   "metadata": {},
   "outputs": [],
   "source": []
  }
 ],
 "metadata": {
  "kernelspec": {
   "display_name": "Python 3 (ipykernel)",
   "language": "python",
   "name": "python3"
  },
  "language_info": {
   "codemirror_mode": {
    "name": "ipython",
    "version": 3
   },
   "file_extension": ".py",
   "mimetype": "text/x-python",
   "name": "python",
   "nbconvert_exporter": "python",
   "pygments_lexer": "ipython3",
   "version": "3.11.5"
  },
  "toc": {
   "base_numbering": 1,
   "nav_menu": {},
   "number_sections": true,
   "sideBar": true,
   "skip_h1_title": false,
   "title_cell": "Table of Contents",
   "title_sidebar": "Contents",
   "toc_cell": false,
   "toc_position": {},
   "toc_section_display": true,
   "toc_window_display": false
  }
 },
 "nbformat": 4,
 "nbformat_minor": 5
}

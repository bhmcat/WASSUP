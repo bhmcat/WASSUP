{
 "cells": [
  {
   "cell_type": "code",
   "execution_count": null,
   "metadata": {},
   "outputs": [],
   "source": [
    "f = open('12_04.txt', 'w')\n",
    "f.close()"
   ]
  },
  {
   "cell_type": "code",
   "execution_count": null,
   "metadata": {},
   "outputs": [],
   "source": [
    "# write_data.py\n",
    "f = open(\"C:/workspace/python/12_04.txt\", 'w')\n",
    "for i in range(1, 11):\n",
    "    data = \"%d번째 줄입니다.\\n\" % i\n",
    "    f.write(data)\n",
    "f.close()"
   ]
  },
  {
   "cell_type": "code",
   "execution_count": null,
   "metadata": {},
   "outputs": [],
   "source": [
    "# readline_test.py\n",
    "f = open(\"12_04.txt\", 'r')\n",
    "line = f.readline()\n",
    "print(line)\n",
    "f.close()"
   ]
  },
  {
   "cell_type": "code",
   "execution_count": null,
   "metadata": {},
   "outputs": [],
   "source": [
    "# readline_all.py\n",
    "f = open(\"12_04.txt\", 'r')\n",
    "while True:\n",
    "    line = f.readline()\n",
    "    if not line: break\n",
    "    print(line)\n",
    "f.close()\n"
   ]
  },
  {
   "cell_type": "code",
   "execution_count": null,
   "metadata": {},
   "outputs": [],
   "source": [
    "# readlines.py\n",
    "f = open(\"12_04.txt\", 'r')\n",
    "lines = f.readlines()\n",
    "for line in lines:\n",
    "    print(line)\n",
    "f.close()\n"
   ]
  },
  {
   "cell_type": "code",
   "execution_count": null,
   "metadata": {},
   "outputs": [],
   "source": [
    "# readline_test.py\n",
    "f = open(\"12_04.txt\", 'r')\n",
    "line = f.readline()\n",
    "print(line)\n",
    "f.close()"
   ]
  },
  {
   "cell_type": "code",
   "execution_count": null,
   "metadata": {},
   "outputs": [],
   "source": [
    "# readline_all.py\n",
    "f = open(\"12_04.txt\", 'r')\n",
    "while True:\n",
    "    line = f.readline()\n",
    "    if not line: break\n",
    "    print(line)\n",
    "f.close()\n"
   ]
  },
  {
   "cell_type": "code",
   "execution_count": null,
   "metadata": {},
   "outputs": [],
   "source": [
    "# readlines.py\n",
    "f = open(\"12_04.txt\", 'r')\n",
    "lines = f.readlines()\n",
    "for line in lines:\n",
    "    print(line)\n",
    "f.close()\n"
   ]
  },
  {
   "cell_type": "code",
   "execution_count": null,
   "metadata": {},
   "outputs": [],
   "source": [
    "f = open(\"12_04.txt\", 'r')\n",
    "lines = f.readlines()\n",
    "for line in lines:\n",
    "    line = line.strip()  # 줄 끝의 줄 바꿈 문자를 제거한다.\n",
    "    print(line)\n",
    "f.close()"
   ]
  },
  {
   "cell_type": "code",
   "execution_count": null,
   "metadata": {},
   "outputs": [],
   "source": [
    "# read.py\n",
    "f = open(\"12_04.txt\", 'r')\n",
    "data = f.read()\n",
    "print(data)\n",
    "f.close()\n"
   ]
  },
  {
   "cell_type": "code",
   "execution_count": null,
   "metadata": {},
   "outputs": [],
   "source": [
    "# read_for.py\n",
    "f = open(\"./12_04.txt\", 'r')\n",
    "for line in f:\n",
    "    print(line)\n",
    "f.close()"
   ]
  },
  {
   "cell_type": "code",
   "execution_count": null,
   "metadata": {},
   "outputs": [],
   "source": [
    "# add_data.py\n",
    "f = open(\"12_04.txt\",'a')\n",
    "for i in range(11, 20):\n",
    "    data = \"%d번째 줄입니다.\\n\" % i\n",
    "    f.write(data)\n",
    "f.close()\n"
   ]
  },
  {
   "cell_type": "code",
   "execution_count": null,
   "metadata": {},
   "outputs": [],
   "source": [
    "f = open(\"foo.txt\", 'w')\n",
    "f.write(\"Life is too short, you need python\")\n",
    "f.close()\n"
   ]
  },
  {
   "cell_type": "code",
   "execution_count": null,
   "metadata": {},
   "outputs": [],
   "source": [
    "# file_with.py\n",
    "with open(\"foo.txt\", \"w\") as f:\n",
    "    f.write(\"Life is too short, you need python\")\n"
   ]
  },
  {
   "cell_type": "code",
   "execution_count": null,
   "metadata": {},
   "outputs": [],
   "source": [
    "import os\n",
    "\n",
    "os.getcwd()"
   ]
  },
  {
   "cell_type": "markdown",
   "metadata": {},
   "source": [
    "# 클래스"
   ]
  },
  {
   "cell_type": "code",
   "execution_count": null,
   "metadata": {},
   "outputs": [],
   "source": [
    "result = 0\n",
    "\n",
    "def add(num):\n",
    "    global result\n",
    "    result += num\n",
    "    return result\n",
    "\n",
    "print(add(3))\n",
    "print(add(5))"
   ]
  },
  {
   "cell_type": "code",
   "execution_count": null,
   "metadata": {},
   "outputs": [],
   "source": [
    "result1 = 0\n",
    "result2 = 0\n",
    "\n",
    "def add1(num):\n",
    "    global result1\n",
    "    result1 += num\n",
    "    return result1\n",
    "\n",
    "def add2(num):\n",
    "    global result2\n",
    "    result2 += num\n",
    "    return result2\n",
    "\n",
    "print(add1(3))\n",
    "print(add1(4))\n",
    "print(add2(3))\n",
    "print(add2(7))"
   ]
  },
  {
   "cell_type": "code",
   "execution_count": null,
   "metadata": {},
   "outputs": [],
   "source": [
    "class Class_cal:\n",
    "    def __init__(self):\n",
    "        self.result = 0\n",
    "\n",
    "    def add(self, num):\n",
    "        self.result += num\n",
    "        return self.result\n",
    "    \n",
    "    def sub(self, num):\n",
    "        self.result -= num\n",
    "        return self.result\n",
    "\n",
    "cal1 = Class_cal()\n",
    "cal2 = Class_cal()\n",
    "\n",
    "print(cal1.add(3))\n",
    "print(cal1.add(4))\n",
    "print(cal2.add(3))\n",
    "print(cal2.add(7))\n",
    "\n",
    "print(cal1.sub(3))\n",
    "print(cal1.sub(4))\n",
    "print(cal2.sub(3))\n",
    "print(cal2.sub(7))"
   ]
  },
  {
   "cell_type": "code",
   "execution_count": 53,
   "metadata": {},
   "outputs": [
    {
     "data": {
      "text/plain": [
       "(3, 4, 5, 5, 6, 2, 4, 2, 31, 2, 2, 3, 32, 12, 3, 214, 12, 5346)"
      ]
     },
     "execution_count": 53,
     "metadata": {},
     "output_type": "execute_result"
    }
   ],
   "source": [
    "class F_cal:\n",
    "    def setdata(self, *args):\n",
    "        self.args = args\n",
    "    \n",
    "\n",
    "cal3 = F_cal()\n",
    "cal3.setdata(3,4,5,5,6,2,4,2,31,2,2,3,32,12,3,214,12,5346)\n",
    "cal3.args"
   ]
  },
  {
   "cell_type": "code",
   "execution_count": null,
   "metadata": {},
   "outputs": [],
   "source": [
    "class F_cal:\n",
    "    def setdata(self, *args):\n",
    "        self.args = args\n",
    "\n",
    "    def add(self):\n",
    "        result = sum(self.args)\n",
    "        return result\n",
    "    \n",
    "cal4 = F_cal()\n",
    "cal4.setdata(34,43,4,2,2,4,3,5,2,1)\n",
    "cal4.add()"
   ]
  },
  {
   "cell_type": "code",
   "execution_count": 65,
   "metadata": {},
   "outputs": [
    {
     "name": "stdout",
     "output_type": "stream",
     "text": [
      "입력된 값 :  (350, 4, 2, 2, 4, 2, 3, 23, 12, 32, 3)\n",
      "값의 합 :  437\n",
      "값의 차 :  263\n",
      "입력된 값 :  (350, 4, 2)\n",
      "값의 곱 :  2800\n",
      "값의 평균 :  118.66666666666667\n",
      "값의 나눗셈 :  43.75\n"
     ]
    }
   ],
   "source": [
    "class F_cal:\n",
    "    def setdata(self, *args):\n",
    "        self.args = args\n",
    "\n",
    "    def add(self):\n",
    "        result = sum(self.args)\n",
    "        return result\n",
    "    \n",
    "    def sub(self):\n",
    "        result = self.args[0] # result의 초기값 설정\n",
    "        for i in self.args[1:]:\n",
    "            result -= i\n",
    "        return result\n",
    "    \n",
    "    def mul(self):\n",
    "        result = self.args[0]\n",
    "        for i in self.args[1:]:\n",
    "            result = result * i\n",
    "        return result\n",
    "\n",
    "    def avg(self):\n",
    "        result = sum(self.args) / len(self.args)\n",
    "        return result\n",
    "    \n",
    "    def div(self):\n",
    "        result = self.args[0]\n",
    "        for i in self.args[1:]:\n",
    "            result = result / i\n",
    "        return result\n",
    "\n",
    "    \n",
    "\n",
    "cal_f = F_cal()\n",
    "\n",
    "cal_f.setdata(350,4,2,2,4,2,3,23,12,32,3)\n",
    "print('입력된 값 : ', cal_f.args)\n",
    "print('값의 합 : ', cal_f.add())\n",
    "print('값의 차 : ', cal_f.sub())\n",
    "cal_f.setdata(350,4,2)\n",
    "print('입력된 값 : ', cal_f.args)\n",
    "print('값의 곱 : ', cal_f.mul())\n",
    "print('값의 평균 : ', cal_f.avg())\n",
    "print('값의 나눗셈 : ', cal_f.div())\n"
   ]
  },
  {
   "cell_type": "code",
   "execution_count": 66,
   "metadata": {},
   "outputs": [
    {
     "ename": "TypeError",
     "evalue": "F_cal() takes no arguments",
     "output_type": "error",
     "traceback": [
      "\u001b[1;31m---------------------------------------------------------------------------\u001b[0m",
      "\u001b[1;31mTypeError\u001b[0m                                 Traceback (most recent call last)",
      "\u001b[1;32mc:\\workspace\\python\\12_04.ipynb 셀 23\u001b[0m line \u001b[0;36m1\n\u001b[1;32m----> <a href='vscode-notebook-cell:/c%3A/workspace/python/12_04.ipynb#X34sZmlsZQ%3D%3D?line=0'>1</a>\u001b[0m cal_f \u001b[39m=\u001b[39m F_cal(\u001b[39m34\u001b[39m,\u001b[39m532\u001b[39m,\u001b[39m43\u001b[39m,\u001b[39m453\u001b[39m,\u001b[39m32\u001b[39m)\n",
      "\u001b[1;31mTypeError\u001b[0m: F_cal() takes no arguments"
     ]
    }
   ],
   "source": [
    "cal_f = F_cal(34,532,43,453,32)"
   ]
  },
  {
   "cell_type": "code",
   "execution_count": 68,
   "metadata": {},
   "outputs": [
    {
     "data": {
      "text/plain": [
       "(34, 532, 43, 453, 32, 34, 34, 34)"
      ]
     },
     "execution_count": 68,
     "metadata": {},
     "output_type": "execute_result"
    }
   ],
   "source": [
    "class Second_cal(F_cal):\n",
    "    def __init__(self, *args):\n",
    "        self.args = args\n",
    "\n",
    "cal_f = Second_cal(34,532,43,453,32,34,34,34)\n",
    "cal_f.args"
   ]
  }
 ],
 "metadata": {
  "kernelspec": {
   "display_name": "Python 3 (ipykernel)",
   "language": "python",
   "name": "python3"
  },
  "language_info": {
   "codemirror_mode": {
    "name": "ipython",
    "version": 3
   },
   "file_extension": ".py",
   "mimetype": "text/x-python",
   "name": "python",
   "nbconvert_exporter": "python",
   "pygments_lexer": "ipython3",
   "version": "3.11.5"
  },
  "toc": {
   "base_numbering": 1,
   "nav_menu": {},
   "number_sections": true,
   "sideBar": true,
   "skip_h1_title": false,
   "title_cell": "Table of Contents",
   "title_sidebar": "Contents",
   "toc_cell": false,
   "toc_position": {},
   "toc_section_display": true,
   "toc_window_display": false
  }
 },
 "nbformat": 4,
 "nbformat_minor": 2
}

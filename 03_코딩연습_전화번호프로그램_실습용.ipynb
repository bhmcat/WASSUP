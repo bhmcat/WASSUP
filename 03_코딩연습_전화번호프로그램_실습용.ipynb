{
 "cells": [
  {
   "cell_type": "markdown",
   "metadata": {},
   "source": [
    "# 전화번호 프로그램 만들기\n",
    "\n",
    "* 홍길동 010-123-4567\n",
    "* 기능1 : 연락처 추가\n",
    "* 기능2 : 연락처 전체 보기\n",
    "* 기능3 : 검색, 이름을 입력받아서 전화번호 조회\n",
    "* 기능4 : 수정, 이름을 입력받아서 전화번호 입력수정\n",
    "* 기능5 : 삭제, 이름 입력받아서 삭제\n",
    "* 기능6 : 프로그램 종료"
   ]
  },
  {
   "cell_type": "markdown",
   "metadata": {},
   "source": [
    "## 요구사항 분석 및 설계\n",
    "- 요구사항 분석 -> 구체적인 동작을 정의\n",
    "- 홍길동, 010-123-4567 -> 딕셔너리 key : value\n",
    "- input을 받는다. -> str (문자열)\n",
    "- 프로그램 : while\n",
    "- 기능 1, 2, 3, 4, 5 : if 분기문, 숫자 입력했을 때 해당 기능이 동작\n",
    "- 기능 1 연락처 추가 : dict 추가, dic[key] = value\n",
    "- 기능 2 보기 : for 문 돌려서 출력 \n",
    "- 기능 3 조회 : 이름을 입력했을 때 전화번호 출력, dict[key]\n",
    "- 기능 4 수정 : dic[key] = value\n",
    "- 기능 5 삭제 : del\n",
    "- 기능 6 종료 : break"
   ]
  },
  {
   "cell_type": "code",
   "execution_count": null,
   "metadata": {
    "ExecuteTime": {
     "start_time": "2023-11-29T02:40:06.709Z"
    }
   },
   "outputs": [],
   "source": [
    "contact = {}\n",
    "\n",
    "\n",
    "\n",
    "while True:\n",
    "    print('----- 전화번호부 프로그램 실행 -----')  #prompt 생성\n",
    "    print('1.추가  2. 보기  3. 검색  4. 수정  5. 삭제  9. 종료')\n",
    "    \n",
    "    try:\n",
    "        menu = int(input('메뉴선택'))  \n",
    "        #input은 모두 문자열로 받기 때문에 int 정수를 입력할 수 있도록\n",
    "    \n",
    "    \n",
    "    if  menu == 1:\n",
    "        print('연락처 추가 작업 실행')\n",
    "        new_name = input ('이름: ')\n",
    "        new_tel = input ('전화번호: ')\n",
    "        contact.setdefault(new_name, newtel)\n",
    "        \n",
    "        \n",
    "    elif  menu == 2:\n",
    "        print('연락처 보기 작업 실행')\n",
    "        for name, tel in contact.items():    #items 하면 key와 value다 알려줌.\n",
    "            print(name, \":\", tel)\n",
    "        \n",
    "        \n",
    "    elif  menu == 3:\n",
    "        print('연락처 검색 작업 실행')\n",
    "        search_name = input('검색 이름': )\n",
    "        print(contact.get(search_name, '없는 연락처입니다.'))       #get method\n",
    "        #index로 조회할 경우, 없으면 오류가 난다. 핸들링해야 할 것들이 많으므로 method를 쓴다.\n",
    "        #오류가 안나게끔 처리가 되므로. \n",
    "        \n",
    "        \n",
    "    elif  menu == 4:\n",
    "        print('연락처 수정 작업 실행')\n",
    "        mod_name = input('수정 이름: ')\n",
    "        # 만약에 연락처 저장소에 수정 이름이 존재하면, 저장소에서 삭제해줘\n",
    "        if mod_name in contact:\n",
    "            mod_tel = input('새전화번호: ')\n",
    "            contact[mod_name] = mod_tel\n",
    "        else:\n",
    "            print('등록되지 않은 이름입니다.')\n",
    "            \n",
    "        \n",
    "    elif  menu == 5:\n",
    "        print('연락처 삭제 작업 실행')\n",
    "        del_name = input('삭제 이름': )\n",
    "        # 만약에 연락처 저장소에 삭제 이름이 존재하면, 저장소에서 삭제해줘\n",
    "        if del_name in contact:\n",
    "            del contact[del_name]\n",
    "        else:\n",
    "            print('등록되지 않은 이름입니다.')\n",
    "        \n",
    "        \n",
    "    elif  menu == 9:\n",
    "        print('연락처 종료 작업 실행')\n",
    "        break \n",
    "        \n",
    "        \n",
    "        \n",
    "    else:\n",
    "        print('잘못된 메뉴 선택입니다.')\n",
    "        \n",
    "        "
   ]
  },
  {
   "cell_type": "code",
   "execution_count": null,
   "metadata": {
    "ExecuteTime": {
     "start_time": "2023-11-29T12:28:59.887Z"
    }
   },
   "outputs": [
    {
     "name": "stdout",
     "output_type": "stream",
     "text": [
      "====================Tel.exe============================\n",
      "기능1 : 연락처 추가\n",
      "기능2 : 연락처 전체 보기\n",
      "기능3 : 검색, 이름을 입력받아서 전화번호 조회\n",
      "기능4 : 수정, 이름을 입력받아서 전화번호 입력수정\n",
      "기능5 : 삭제, 이름 입력받아서 삭제\n",
      "기능6 : 프로그램 종료\n"
     ]
    }
   ],
   "source": [
    "Tels = {}\n",
    "\n",
    "while True:\n",
    "    help = '''====================Tel.exe============================\n",
    "기능1 : 연락처 추가\n",
    "기능2 : 연락처 전체 보기\n",
    "기능3 : 검색, 이름을 입력받아서 전화번호 조회\n",
    "기능4 : 수정, 이름을 입력받아서 전화번호 입력수정\n",
    "기능5 : 삭제, 이름 입력받아서 삭제\n",
    "기능6 : 프로그램 종료'''\n",
    "    print(help) # 프로그램 시작시 help 출력\n",
    "    Tel_exe = int(input('기능선택'))\n",
    "\n",
    "    if Tel_exe == 1:\n",
    "        #추가할 이름 (딕셔너리의 key값) 입력하기\n",
    "        print('추가할 이름을 입력하세요')\n",
    "        add_name = input('추가할 이름')\n",
    "        #추가할 이름 (딕셔너리의 value값) 입력하기\n",
    "        print('추가할 전화번호를 입력하세요')\n",
    "        add_Tel = input('추가할 전화번호')\n",
    "        #input값으로 새로운 딕셔너리 key,value 추가하기\n",
    "        Tels[add_name] = add_Tel\n",
    "\n",
    "    elif Tel_exe == 2:\n",
    "        #현재 Tels 딕셔너리 상태 출력\n",
    "        for name, Telnum in Tels.items():\n",
    "            print(name, Telnum)\n",
    "\n",
    "    elif Tel_exe == 3:\n",
    "        print('검색할 이름을 입력하세요')\n",
    "        # while문을 입력하여 잘못입력할경우 다시 입력하기\n",
    "        while True:\n",
    "            search_name = input('이름')\n",
    "            if search_name in Tels.keys():\n",
    "                print(f'{search_name} : {Tels[search_name]}')\n",
    "                break\n",
    "            else:\n",
    "                print('존재하지 않는 이름입니다')\n",
    "\n",
    "    elif Tel_exe == 4:\n",
    "        print('수정할 연락처의 이름을 입력하세요')\n",
    "        while True:\n",
    "            search_name = input('수정하고싶은 이름')\n",
    "            if search_name in Tels.keys():\n",
    "                print(f'{search_name}을 어떻게 수정할까요?')\n",
    "                break\n",
    "            else:\n",
    "                print('존재하지 않는 이름입니다')\n",
    "        update_name = input('새로운 이름')\n",
    "        Tels[update_name] = Tels[search_name]\n",
    "        print('연락처는 어떻게 수정할까요?')\n",
    "        update_num = input('수정할 연락처')\n",
    "        Tels[update_name] = update_num\n",
    "        del Tels[search_name]\n",
    "        print(f'{search_name}이 {update_name}:{Tels[update_name]}으로 변경되었습니다')\n",
    "\n",
    "    elif Tel_exe == 5:\n",
    "        print('삭제할 이름을 입력하세요')\n",
    "        while True:\n",
    "            search_name = input('삭제하고싶은 이름')\n",
    "            if search_name in Tels.keys():\n",
    "                del Tels[search_name]\n",
    "                print(f'{search_name}이 삭제되었습니다')\n",
    "                break\n",
    "            else:\n",
    "                print('존재하지 않는 이름입니다')\n",
    "\n",
    "    elif Tel_exe == 6:\n",
    "        print('작업을 종료합니다')\n",
    "        break\n",
    "\n",
    "    else:\n",
    "        print('1부터 6까지의 숫자를 입력해주세요')"
   ]
  },
  {
   "cell_type": "code",
   "execution_count": null,
   "metadata": {},
   "outputs": [],
   "source": []
  },
  {
   "cell_type": "code",
   "execution_count": null,
   "metadata": {},
   "outputs": [],
   "source": []
  }
 ],
 "metadata": {
  "kernelspec": {
   "display_name": "Python 3 (ipykernel)",
   "language": "python",
   "name": "python3"
  },
  "language_info": {
   "codemirror_mode": {
    "name": "ipython",
    "version": 3
   },
   "file_extension": ".py",
   "mimetype": "text/x-python",
   "name": "python",
   "nbconvert_exporter": "python",
   "pygments_lexer": "ipython3",
   "version": "3.11.5"
  },
  "toc": {
   "base_numbering": 1,
   "nav_menu": {},
   "number_sections": true,
   "sideBar": true,
   "skip_h1_title": false,
   "title_cell": "Table of Contents",
   "title_sidebar": "Contents",
   "toc_cell": false,
   "toc_position": {},
   "toc_section_display": true,
   "toc_window_display": false
  },
  "varInspector": {
   "cols": {
    "lenName": 16,
    "lenType": 16,
    "lenVar": 40
   },
   "kernels_config": {
    "python": {
     "delete_cmd_postfix": "",
     "delete_cmd_prefix": "del ",
     "library": "var_list.py",
     "varRefreshCmd": "print(var_dic_list())"
    },
    "r": {
     "delete_cmd_postfix": ") ",
     "delete_cmd_prefix": "rm(",
     "library": "var_list.r",
     "varRefreshCmd": "cat(var_dic_list()) "
    }
   },
   "types_to_exclude": [
    "module",
    "function",
    "builtin_function_or_method",
    "instance",
    "_Feature"
   ],
   "window_display": false
  }
 },
 "nbformat": 4,
 "nbformat_minor": 2
}

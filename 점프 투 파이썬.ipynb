{
 "cells": [
  {
   "cell_type": "markdown",
   "id": "e4a8565d",
   "metadata": {},
   "source": [
    "# 숫자형"
   ]
  },
  {
   "cell_type": "markdown",
   "id": "645469fc",
   "metadata": {},
   "source": [
    "## 정수형"
   ]
  },
  {
   "cell_type": "code",
   "execution_count": 1,
   "id": "a69bd9c7",
   "metadata": {
    "ExecuteTime": {
     "end_time": "2023-11-26T06:58:10.009595Z",
     "start_time": "2023-11-26T06:58:10.004531Z"
    }
   },
   "outputs": [
    {
     "data": {
      "text/plain": [
       "123"
      ]
     },
     "execution_count": 1,
     "metadata": {},
     "output_type": "execute_result"
    }
   ],
   "source": [
    "a=123\n",
    "a"
   ]
  },
  {
   "cell_type": "code",
   "execution_count": 2,
   "id": "d628138a",
   "metadata": {
    "ExecuteTime": {
     "end_time": "2023-11-26T06:58:20.065010Z",
     "start_time": "2023-11-26T06:58:20.061658Z"
    }
   },
   "outputs": [
    {
     "data": {
      "text/plain": [
       "-178"
      ]
     },
     "execution_count": 2,
     "metadata": {},
     "output_type": "execute_result"
    }
   ],
   "source": [
    "a=-178\n",
    "a"
   ]
  },
  {
   "cell_type": "code",
   "execution_count": 3,
   "id": "b09aae2d",
   "metadata": {
    "ExecuteTime": {
     "end_time": "2023-11-26T06:58:23.561385Z",
     "start_time": "2023-11-26T06:58:23.558070Z"
    }
   },
   "outputs": [
    {
     "data": {
      "text/plain": [
       "0"
      ]
     },
     "execution_count": 3,
     "metadata": {},
     "output_type": "execute_result"
    }
   ],
   "source": [
    "a=0\n",
    "a"
   ]
  },
  {
   "cell_type": "markdown",
   "id": "d3417ff0",
   "metadata": {},
   "source": [
    "## 실수형"
   ]
  },
  {
   "cell_type": "code",
   "execution_count": 4,
   "id": "e2826543",
   "metadata": {
    "ExecuteTime": {
     "end_time": "2023-11-26T06:58:36.963213Z",
     "start_time": "2023-11-26T06:58:36.960082Z"
    }
   },
   "outputs": [
    {
     "data": {
      "text/plain": [
       "1.2"
      ]
     },
     "execution_count": 4,
     "metadata": {},
     "output_type": "execute_result"
    }
   ],
   "source": [
    "a=1.2\n",
    "a"
   ]
  },
  {
   "cell_type": "code",
   "execution_count": 5,
   "id": "6281f84b",
   "metadata": {
    "ExecuteTime": {
     "end_time": "2023-11-26T06:58:43.860709Z",
     "start_time": "2023-11-26T06:58:43.857081Z"
    }
   },
   "outputs": [
    {
     "data": {
      "text/plain": [
       "-3.45"
      ]
     },
     "execution_count": 5,
     "metadata": {},
     "output_type": "execute_result"
    }
   ],
   "source": [
    "a=-3.45\n",
    "a"
   ]
  },
  {
   "cell_type": "code",
   "execution_count": 6,
   "id": "d6d03a29",
   "metadata": {
    "ExecuteTime": {
     "end_time": "2023-11-26T07:01:24.619442Z",
     "start_time": "2023-11-26T07:01:24.616162Z"
    }
   },
   "outputs": [
    {
     "data": {
      "text/plain": [
       "42400000000.0"
      ]
     },
     "execution_count": 6,
     "metadata": {},
     "output_type": "execute_result"
    }
   ],
   "source": [
    "# 컴퓨터식 지수 표현\n",
    "a = 4.24E10  # 4.24 * 10&^10\n",
    "a"
   ]
  },
  {
   "cell_type": "code",
   "execution_count": 7,
   "id": "31277336",
   "metadata": {
    "ExecuteTime": {
     "end_time": "2023-11-26T07:01:30.868110Z",
     "start_time": "2023-11-26T07:01:30.865070Z"
    }
   },
   "outputs": [
    {
     "data": {
      "text/plain": [
       "4.24e-10"
      ]
     },
     "execution_count": 7,
     "metadata": {},
     "output_type": "execute_result"
    }
   ],
   "source": [
    "# 컴퓨터식 지수 표현\n",
    "a = 4.24E-10  # 4.24 * 10&^10\n",
    "a"
   ]
  },
  {
   "cell_type": "code",
   "execution_count": 8,
   "id": "30a22dd1",
   "metadata": {
    "ExecuteTime": {
     "end_time": "2023-11-26T07:01:34.484673Z",
     "start_time": "2023-11-26T07:01:34.481671Z"
    }
   },
   "outputs": [
    {
     "data": {
      "text/plain": [
       "127"
      ]
     },
     "execution_count": 8,
     "metadata": {},
     "output_type": "execute_result"
    }
   ],
   "source": [
    "# 8진수와 16진수\n",
    "a = 0o177\n",
    "a"
   ]
  },
  {
   "cell_type": "code",
   "execution_count": 9,
   "id": "dbd75a03",
   "metadata": {
    "ExecuteTime": {
     "end_time": "2023-11-26T07:01:37.173071Z",
     "start_time": "2023-11-26T07:01:37.168448Z"
    }
   },
   "outputs": [
    {
     "data": {
      "text/plain": [
       "int"
      ]
     },
     "execution_count": 9,
     "metadata": {},
     "output_type": "execute_result"
    }
   ],
   "source": [
    "type(a)"
   ]
  },
  {
   "cell_type": "code",
   "execution_count": 10,
   "id": "db5a6a58",
   "metadata": {
    "ExecuteTime": {
     "end_time": "2023-11-26T07:01:40.189857Z",
     "start_time": "2023-11-26T07:01:40.186483Z"
    }
   },
   "outputs": [
    {
     "data": {
      "text/plain": [
       "2303"
      ]
     },
     "execution_count": 10,
     "metadata": {},
     "output_type": "execute_result"
    }
   ],
   "source": [
    "a = 0x8ff\n",
    "a"
   ]
  },
  {
   "cell_type": "markdown",
   "id": "f3c7fa92",
   "metadata": {},
   "source": [
    "## 사칙연산"
   ]
  },
  {
   "cell_type": "code",
   "execution_count": 215,
   "id": "7825e1f4",
   "metadata": {
    "ExecuteTime": {
     "end_time": "2023-11-26T10:02:58.895086Z",
     "start_time": "2023-11-26T10:02:58.891155Z"
    }
   },
   "outputs": [
    {
     "data": {
      "text/plain": [
       "7"
      ]
     },
     "execution_count": 215,
     "metadata": {},
     "output_type": "execute_result"
    }
   ],
   "source": [
    "a = 3\n",
    "b = 4\n",
    "a + b"
   ]
  },
  {
   "cell_type": "code",
   "execution_count": 216,
   "id": "fdd0e504",
   "metadata": {
    "ExecuteTime": {
     "end_time": "2023-11-26T10:03:00.855018Z",
     "start_time": "2023-11-26T10:03:00.851426Z"
    },
    "scrolled": true
   },
   "outputs": [
    {
     "data": {
      "text/plain": [
       "12"
      ]
     },
     "execution_count": 216,
     "metadata": {},
     "output_type": "execute_result"
    }
   ],
   "source": [
    "a * b"
   ]
  },
  {
   "cell_type": "code",
   "execution_count": 217,
   "id": "e6631b11",
   "metadata": {
    "ExecuteTime": {
     "end_time": "2023-11-26T10:03:02.062930Z",
     "start_time": "2023-11-26T10:03:02.059593Z"
    }
   },
   "outputs": [
    {
     "data": {
      "text/plain": [
       "0.75"
      ]
     },
     "execution_count": 217,
     "metadata": {},
     "output_type": "execute_result"
    }
   ],
   "source": [
    "a / b"
   ]
  },
  {
   "cell_type": "code",
   "execution_count": 218,
   "id": "c58e85e9",
   "metadata": {
    "ExecuteTime": {
     "end_time": "2023-11-26T10:03:03.727961Z",
     "start_time": "2023-11-26T10:03:03.723843Z"
    }
   },
   "outputs": [
    {
     "data": {
      "text/plain": [
       "81"
      ]
     },
     "execution_count": 218,
     "metadata": {},
     "output_type": "execute_result"
    }
   ],
   "source": [
    "# x의 y 제곱\n",
    "\n",
    "a ** b"
   ]
  },
  {
   "cell_type": "code",
   "execution_count": 15,
   "id": "9f566466",
   "metadata": {
    "ExecuteTime": {
     "end_time": "2023-11-26T07:02:05.648689Z",
     "start_time": "2023-11-26T07:02:05.644560Z"
    }
   },
   "outputs": [
    {
     "data": {
      "text/plain": [
       "1"
      ]
     },
     "execution_count": 15,
     "metadata": {},
     "output_type": "execute_result"
    }
   ],
   "source": [
    "# 나눗셈 나머지 반환 %\n",
    "\n",
    "7 % 3"
   ]
  },
  {
   "cell_type": "code",
   "execution_count": 17,
   "id": "46694b37",
   "metadata": {
    "ExecuteTime": {
     "end_time": "2023-11-26T07:02:10.193405Z",
     "start_time": "2023-11-26T07:02:10.189208Z"
    }
   },
   "outputs": [
    {
     "data": {
      "text/plain": [
       "3"
      ]
     },
     "execution_count": 17,
     "metadata": {},
     "output_type": "execute_result"
    }
   ],
   "source": [
    "3 % 7"
   ]
  },
  {
   "cell_type": "code",
   "execution_count": 18,
   "id": "a8101db2",
   "metadata": {
    "ExecuteTime": {
     "end_time": "2023-11-26T07:02:12.545895Z",
     "start_time": "2023-11-26T07:02:12.541547Z"
    }
   },
   "outputs": [
    {
     "data": {
      "text/plain": [
       "1.75"
      ]
     },
     "execution_count": 18,
     "metadata": {},
     "output_type": "execute_result"
    }
   ],
   "source": [
    "# 나눗셈의 몫 반환 //\n",
    "\n",
    "7 / 4"
   ]
  },
  {
   "cell_type": "code",
   "execution_count": 19,
   "id": "24c629c8",
   "metadata": {
    "ExecuteTime": {
     "end_time": "2023-11-26T07:02:15.249758Z",
     "start_time": "2023-11-26T07:02:15.247017Z"
    }
   },
   "outputs": [
    {
     "data": {
      "text/plain": [
       "1"
      ]
     },
     "execution_count": 19,
     "metadata": {},
     "output_type": "execute_result"
    }
   ],
   "source": [
    "7 // 4"
   ]
  },
  {
   "cell_type": "code",
   "execution_count": 20,
   "id": "5723db16",
   "metadata": {
    "ExecuteTime": {
     "end_time": "2023-11-26T07:02:18.346961Z",
     "start_time": "2023-11-26T07:02:18.343470Z"
    }
   },
   "outputs": [
    {
     "data": {
      "text/plain": [
       "3"
      ]
     },
     "execution_count": 20,
     "metadata": {},
     "output_type": "execute_result"
    }
   ],
   "source": [
    " 7 % 4"
   ]
  },
  {
   "cell_type": "markdown",
   "id": "2e6c70ad",
   "metadata": {},
   "source": [
    "# 문자열"
   ]
  },
  {
   "cell_type": "markdown",
   "id": "13cd4093",
   "metadata": {},
   "source": [
    "## 문자열은 어떻게 만들고 사용할까"
   ]
  },
  {
   "cell_type": "code",
   "execution_count": 21,
   "id": "118013a9",
   "metadata": {
    "ExecuteTime": {
     "end_time": "2023-11-26T07:02:50.944262Z",
     "start_time": "2023-11-26T07:02:50.940184Z"
    }
   },
   "outputs": [
    {
     "data": {
      "text/plain": [
       "'Hello world'"
      ]
     },
     "execution_count": 21,
     "metadata": {},
     "output_type": "execute_result"
    }
   ],
   "source": [
    "\"Hello world\""
   ]
  },
  {
   "cell_type": "code",
   "execution_count": 23,
   "id": "ed332410",
   "metadata": {
    "ExecuteTime": {
     "end_time": "2023-11-26T07:03:01.049457Z",
     "start_time": "2023-11-26T07:03:01.046141Z"
    }
   },
   "outputs": [
    {
     "data": {
      "text/plain": [
       "'Hello world'"
      ]
     },
     "execution_count": 23,
     "metadata": {},
     "output_type": "execute_result"
    }
   ],
   "source": [
    "'Hello world'"
   ]
  },
  {
   "cell_type": "code",
   "execution_count": 24,
   "id": "71a332b3",
   "metadata": {
    "ExecuteTime": {
     "end_time": "2023-11-26T07:03:14.563962Z",
     "start_time": "2023-11-26T07:03:14.560164Z"
    }
   },
   "outputs": [
    {
     "data": {
      "text/plain": [
       "'Life is too short, You need python'"
      ]
     },
     "execution_count": 24,
     "metadata": {},
     "output_type": "execute_result"
    }
   ],
   "source": [
    "\"\"\"Life is too short, You need python\"\"\""
   ]
  },
  {
   "cell_type": "code",
   "execution_count": 25,
   "id": "d1cc849c",
   "metadata": {
    "ExecuteTime": {
     "end_time": "2023-11-26T07:03:23.836511Z",
     "start_time": "2023-11-26T07:03:23.832976Z"
    }
   },
   "outputs": [
    {
     "data": {
      "text/plain": [
       "'Life is too short, You need python'"
      ]
     },
     "execution_count": 25,
     "metadata": {},
     "output_type": "execute_result"
    }
   ],
   "source": [
    "'''Life is too short, You need python'''"
   ]
  },
  {
   "cell_type": "markdown",
   "id": "04837128",
   "metadata": {},
   "source": [
    "### 문자열 안에 작은따옴표나 큰따옴표를 포함시키고 싶을 때"
   ]
  },
  {
   "cell_type": "code",
   "execution_count": 219,
   "id": "6ee3e19e",
   "metadata": {
    "ExecuteTime": {
     "end_time": "2023-11-26T10:03:15.273022Z",
     "start_time": "2023-11-26T10:03:15.269399Z"
    }
   },
   "outputs": [
    {
     "ename": "SyntaxError",
     "evalue": "unterminated string literal (detected at line 1) (1974562179.py, line 1)",
     "output_type": "error",
     "traceback": [
      "\u001b[1;36m  Cell \u001b[1;32mIn[219], line 1\u001b[1;36m\u001b[0m\n\u001b[1;33m    'Python's favorite food is perl'\u001b[0m\n\u001b[1;37m                                   ^\u001b[0m\n\u001b[1;31mSyntaxError\u001b[0m\u001b[1;31m:\u001b[0m unterminated string literal (detected at line 1)\n"
     ]
    }
   ],
   "source": [
    "'Python's favorite food is perl'"
   ]
  },
  {
   "cell_type": "code",
   "execution_count": 30,
   "id": "b2ceace1",
   "metadata": {
    "ExecuteTime": {
     "end_time": "2023-11-26T07:04:50.416532Z",
     "start_time": "2023-11-26T07:04:50.413384Z"
    }
   },
   "outputs": [
    {
     "data": {
      "text/plain": [
       "\"Python's favorite food is perl\""
      ]
     },
     "execution_count": 30,
     "metadata": {},
     "output_type": "execute_result"
    }
   ],
   "source": [
    "\"Python's favorite food is perl\""
   ]
  },
  {
   "cell_type": "code",
   "execution_count": 32,
   "id": "831cf598",
   "metadata": {
    "ExecuteTime": {
     "end_time": "2023-11-26T07:05:24.589370Z",
     "start_time": "2023-11-26T07:05:24.586833Z"
    }
   },
   "outputs": [
    {
     "data": {
      "text/plain": [
       "\"Python's favorite food is perl\""
      ]
     },
     "execution_count": 32,
     "metadata": {},
     "output_type": "execute_result"
    }
   ],
   "source": [
    "food = \"Python's favorite food is perl\"\n",
    "food"
   ]
  },
  {
   "cell_type": "code",
   "execution_count": 37,
   "id": "0980b5cf",
   "metadata": {
    "ExecuteTime": {
     "end_time": "2023-11-26T07:06:54.714571Z",
     "start_time": "2023-11-26T07:06:54.711306Z"
    }
   },
   "outputs": [
    {
     "data": {
      "text/plain": [
       "'\"Python is very easy.\" he says.'"
      ]
     },
     "execution_count": 37,
     "metadata": {},
     "output_type": "execute_result"
    }
   ],
   "source": [
    "'\"Python is very easy.\" he says.'"
   ]
  },
  {
   "cell_type": "code",
   "execution_count": 39,
   "id": "a5e57154",
   "metadata": {
    "ExecuteTime": {
     "end_time": "2023-11-26T07:09:37.162700Z",
     "start_time": "2023-11-26T07:09:37.159224Z"
    }
   },
   "outputs": [
    {
     "data": {
      "text/plain": [
       "(\"Python's favorite food is perl\", '\"Python is very easy.\" he says.')"
      ]
     },
     "execution_count": 39,
     "metadata": {},
     "output_type": "execute_result"
    }
   ],
   "source": [
    "#역슬래시를 사용해서 작은따옴표와 큰따옴표를 문자열에 포함\n",
    "food = 'Python\\'s favorite food is perl'\n",
    "say = \"\\\"Python is very easy.\\\" he says.\"\n",
    "food, say"
   ]
  },
  {
   "cell_type": "markdown",
   "id": "6ff00434",
   "metadata": {},
   "source": [
    "### 여러 줄인 문자열을 변수에 대입하고 싶을 때"
   ]
  },
  {
   "cell_type": "code",
   "execution_count": 42,
   "id": "24501c44",
   "metadata": {
    "ExecuteTime": {
     "end_time": "2023-11-26T07:14:04.786159Z",
     "start_time": "2023-11-26T07:14:04.781293Z"
    }
   },
   "outputs": [
    {
     "name": "stdout",
     "output_type": "stream",
     "text": [
      "Life is too short\n",
      "You need python\n"
     ]
    }
   ],
   "source": [
    "#줄을 바꾸기 위한 이스케이프 코드 \\n 삽입하기\n",
    "#multiline = notebook 편의기능\n",
    "#읽기가 불편하고 줄이 길어지는 단점\n",
    "\n",
    "multiline = \"Life is too short\\nYou need python\"\n",
    "\n",
    "print(multiline)"
   ]
  },
  {
   "cell_type": "markdown",
   "id": "2e4f8f70",
   "metadata": {},
   "source": [
    "### 연속된 따옴표 사용하기"
   ]
  },
  {
   "cell_type": "code",
   "execution_count": 50,
   "id": "a6f83b66",
   "metadata": {
    "ExecuteTime": {
     "end_time": "2023-11-26T07:17:02.066210Z",
     "start_time": "2023-11-26T07:17:02.063248Z"
    },
    "scrolled": true
   },
   "outputs": [
    {
     "name": "stdout",
     "output_type": "stream",
     "text": [
      "Life is too short, \n",
      "You need python\n"
     ]
    }
   ],
   "source": [
    "#연속된 작은따옴표 3개 (''')또는 큰따옴표 3개 (\"\"\") 사용하기\n",
    "\n",
    "multiline = \"\"\"Life is too short, \n",
    "You need python\"\"\"\n",
    "\n",
    "print(multiline)"
   ]
  },
  {
   "cell_type": "markdown",
   "id": "92760e38",
   "metadata": {},
   "source": [
    "### 문자열 연산하기"
   ]
  },
  {
   "cell_type": "code",
   "execution_count": 274,
   "id": "b7459cc4",
   "metadata": {
    "ExecuteTime": {
     "end_time": "2023-11-26T11:29:36.965642Z",
     "start_time": "2023-11-26T11:29:36.962137Z"
    }
   },
   "outputs": [
    {
     "data": {
      "text/plain": [
       "'Python is fun!'"
      ]
     },
     "execution_count": 274,
     "metadata": {},
     "output_type": "execute_result"
    }
   ],
   "source": [
    "#문자열 더해서 연결하기\n",
    "\n",
    "head = \"Python\"\n",
    "tail = \" is fun!\"\n",
    "head + tail"
   ]
  },
  {
   "cell_type": "code",
   "execution_count": 53,
   "id": "9bd7f4cb",
   "metadata": {
    "ExecuteTime": {
     "end_time": "2023-11-26T07:22:26.793491Z",
     "start_time": "2023-11-26T07:22:26.790123Z"
    }
   },
   "outputs": [
    {
     "data": {
      "text/plain": [
       "'pythonpython'"
      ]
     },
     "execution_count": 53,
     "metadata": {},
     "output_type": "execute_result"
    }
   ],
   "source": [
    "#문자열 곱하기\n",
    "\n",
    "a = \"python\"\n",
    "a * 2"
   ]
  },
  {
   "cell_type": "code",
   "execution_count": 54,
   "id": "3e99a023",
   "metadata": {
    "ExecuteTime": {
     "end_time": "2023-11-26T07:23:25.545191Z",
     "start_time": "2023-11-26T07:23:25.542580Z"
    }
   },
   "outputs": [
    {
     "name": "stdout",
     "output_type": "stream",
     "text": [
      "==================================================\n",
      "My program\n",
      "==================================================\n"
     ]
    }
   ],
   "source": [
    "#문자열 곱하기를 응용하기\n",
    "#multistring.py\n",
    "\n",
    "print(\"=\" * 50)\n",
    "print(\"My program\")\n",
    "print(\"=\" * 50)"
   ]
  },
  {
   "cell_type": "code",
   "execution_count": 56,
   "id": "5d50d320",
   "metadata": {
    "ExecuteTime": {
     "end_time": "2023-11-26T07:24:34.380528Z",
     "start_time": "2023-11-26T07:24:34.376517Z"
    }
   },
   "outputs": [
    {
     "data": {
      "text/plain": [
       "17"
      ]
     },
     "execution_count": 56,
     "metadata": {},
     "output_type": "execute_result"
    }
   ],
   "source": [
    "#문자열 길이 구하기\n",
    "#len 함수 사용 : print 함수처럼 파이썬 기본 내장 함수. 별 다른 설정 없이 바로 사용 가능\n",
    "\n",
    "a = \"Life is too short\"\n",
    "len(a)"
   ]
  },
  {
   "cell_type": "markdown",
   "id": "06b0154b",
   "metadata": {},
   "source": [
    "## 문자열 인덱싱과 슬라이싱"
   ]
  },
  {
   "cell_type": "markdown",
   "id": "521cf3d7",
   "metadata": {},
   "source": [
    "### 문자열 인덱싱\n",
    "- 인덱싱 : 무엇인가를 '가리킨다'   "
   ]
  },
  {
   "cell_type": "code",
   "execution_count": 242,
   "id": "b1ed7123",
   "metadata": {
    "ExecuteTime": {
     "end_time": "2023-11-26T10:20:40.496594Z",
     "start_time": "2023-11-26T10:20:40.493082Z"
    }
   },
   "outputs": [
    {
     "data": {
      "text/plain": [
       "'Life is too short, You need Python'"
      ]
     },
     "execution_count": 242,
     "metadata": {},
     "output_type": "execute_result"
    }
   ],
   "source": [
    "a = \"Life is too short, You need Python\"\n",
    "a"
   ]
  },
  {
   "cell_type": "markdown",
   "id": "56999b93",
   "metadata": {
    "ExecuteTime": {
     "end_time": "2023-11-26T07:35:44.396740Z",
     "start_time": "2023-11-26T07:35:44.393023Z"
    }
   },
   "source": [
    "위 코드에서 변수 a에 저장한 문자열의 각 문자마다 번호를 매겨 보면 다음과 같다.   \n",
    "\"Life is too short, You need Python\" 문자열에서 L은 첫 번째 자리를 뜻하는 숫자 0,    \n",
    "i는 1 이런 식으로 계속 번호를 붙인 것이다.    \n",
    "즉, 중간에 있는 short의 s는 12가 된다."
   ]
  },
  {
   "cell_type": "code",
   "execution_count": 60,
   "id": "6b58aad1",
   "metadata": {
    "ExecuteTime": {
     "end_time": "2023-11-26T07:30:12.596767Z",
     "start_time": "2023-11-26T07:30:12.593225Z"
    }
   },
   "outputs": [
    {
     "data": {
      "text/plain": [
       "'e'"
      ]
     },
     "execution_count": 60,
     "metadata": {},
     "output_type": "execute_result"
    }
   ],
   "source": [
    "a[3]"
   ]
  },
  {
   "cell_type": "code",
   "execution_count": 63,
   "id": "8004b780",
   "metadata": {
    "ExecuteTime": {
     "end_time": "2023-11-26T07:32:44.587494Z",
     "start_time": "2023-11-26T07:32:44.583142Z"
    }
   },
   "outputs": [
    {
     "data": {
      "text/plain": [
       "('L', 'i', 'f', 'e', ' ', 'i')"
      ]
     },
     "execution_count": 63,
     "metadata": {},
     "output_type": "execute_result"
    }
   ],
   "source": [
    "#파이썬은 0부터 숫자를 센다.\n",
    "\n",
    "a[0], a[1], a[2], a[3], a[4], a[5]"
   ]
  },
  {
   "cell_type": "code",
   "execution_count": 64,
   "id": "2571d7ca",
   "metadata": {
    "ExecuteTime": {
     "end_time": "2023-11-26T07:33:45.172606Z",
     "start_time": "2023-11-26T07:33:45.168620Z"
    }
   },
   "outputs": [
    {
     "data": {
      "text/plain": [
       "('n', 'L', 'o', 'y')"
      ]
     },
     "execution_count": 64,
     "metadata": {},
     "output_type": "execute_result"
    }
   ],
   "source": [
    "#문자열을 뒤에서부터 읽기: -기호 붙히기\n",
    "#0과 -0은 똑같은 값을 보여준다.\n",
    "\n",
    "a[-1], a[-0], a[-2], a[-5]"
   ]
  },
  {
   "cell_type": "markdown",
   "id": "ee9eeec5",
   "metadata": {},
   "source": [
    "### 슬라이싱\n",
    "- 슬라이싱: 무엇인가를 '잘라낸다'\n",
    "- 범위 [start index : endindex+1]"
   ]
  },
  {
   "cell_type": "code",
   "execution_count": 67,
   "id": "20e96553",
   "metadata": {
    "ExecuteTime": {
     "end_time": "2023-11-26T07:40:37.815912Z",
     "start_time": "2023-11-26T07:40:37.812209Z"
    }
   },
   "outputs": [
    {
     "data": {
      "text/plain": [
       "'Life'"
      ]
     },
     "execution_count": 67,
     "metadata": {},
     "output_type": "execute_result"
    }
   ],
   "source": [
    "a = \"Life is too short, you need python\"\n",
    "b = a[0] + a[1] + a[2] + a[3]\n",
    "b"
   ]
  },
  {
   "cell_type": "code",
   "execution_count": 68,
   "id": "cb0eb218",
   "metadata": {
    "ExecuteTime": {
     "end_time": "2023-11-26T07:41:11.508174Z",
     "start_time": "2023-11-26T07:41:11.504786Z"
    }
   },
   "outputs": [
    {
     "data": {
      "text/plain": [
       "'Life'"
      ]
     },
     "execution_count": 68,
     "metadata": {},
     "output_type": "execute_result"
    }
   ],
   "source": [
    "a[0:4]"
   ]
  },
  {
   "cell_type": "markdown",
   "id": "80082b94",
   "metadata": {
    "ExecuteTime": {
     "end_time": "2023-11-26T07:41:15.132445Z",
     "start_time": "2023-11-26T07:41:15.129686Z"
    }
   },
   "source": [
    "a[0:4]는 a 문자열, 즉 \"Life is too short, You need Python\" 문자열에서 자리 번호 0부터 4까지의 문자를 뽑아 낸다는 뜻이다.   \n",
    "   \n",
    "하지만 ‘a[0]은 L, a[1]은 i, a[2]는 f, a[3]은 e이므로 a[0:3]으로도 Life라는 단어를 뽑아 낼 수 있지 않을까?’라는 의문이 생길 것이다. 다음 예로 확인해 보자.    \n",
    "   \n",
    "이렇게 되는 이유는 슬라이싱 기법으로 a[시작_번호:끝_번호]를 지정할 때 끝 번호에 해당하는 문자는 포함하지 않기 때문이다. 즉, a[0:3]을 수식으로 나타내면 다음과 같다.   \n",
    "   \n",
    "#0<= a < 3   \n",
    "   \n",
    "이 수식을 만족하는 것은 a[0], a[1], a[2]이다. 따라서 a[0:3]은 'Lif', a[0:4]는 'Life'가 되는 것이다.       \n",
    "이 부분이 문자열 연산에서 가장 혼동하기 쉬움"
   ]
  },
  {
   "cell_type": "code",
   "execution_count": 73,
   "id": "1962d48e",
   "metadata": {
    "ExecuteTime": {
     "end_time": "2023-11-26T07:47:40.115997Z",
     "start_time": "2023-11-26T07:47:40.112176Z"
    }
   },
   "outputs": [
    {
     "data": {
      "text/plain": [
       "'Lif'"
      ]
     },
     "execution_count": 73,
     "metadata": {},
     "output_type": "execute_result"
    }
   ],
   "source": [
    "a[0:3]"
   ]
  },
  {
   "cell_type": "code",
   "execution_count": 70,
   "id": "13cf8532",
   "metadata": {
    "ExecuteTime": {
     "end_time": "2023-11-26T07:41:30.542461Z",
     "start_time": "2023-11-26T07:41:30.539461Z"
    }
   },
   "outputs": [
    {
     "data": {
      "text/plain": [
       "'you need python'"
      ]
     },
     "execution_count": 70,
     "metadata": {},
     "output_type": "execute_result"
    }
   ],
   "source": [
    "a[19:]"
   ]
  },
  {
   "cell_type": "code",
   "execution_count": 71,
   "id": "29ed127e",
   "metadata": {
    "ExecuteTime": {
     "end_time": "2023-11-26T07:41:35.263587Z",
     "start_time": "2023-11-26T07:41:35.259586Z"
    }
   },
   "outputs": [
    {
     "data": {
      "text/plain": [
       "'Life is too short, you need python'"
      ]
     },
     "execution_count": 71,
     "metadata": {},
     "output_type": "execute_result"
    }
   ],
   "source": [
    "a[:]"
   ]
  },
  {
   "cell_type": "code",
   "execution_count": 72,
   "id": "1fe0039f",
   "metadata": {
    "ExecuteTime": {
     "end_time": "2023-11-26T07:41:41.808707Z",
     "start_time": "2023-11-26T07:41:41.805091Z"
    }
   },
   "outputs": [
    {
     "data": {
      "text/plain": [
       "'you need'"
      ]
     },
     "execution_count": 72,
     "metadata": {},
     "output_type": "execute_result"
    }
   ],
   "source": [
    "a[19:-7]"
   ]
  },
  {
   "cell_type": "markdown",
   "id": "d88bc096",
   "metadata": {},
   "source": [
    "### 슬라이싱으로 문자열 나누기"
   ]
  },
  {
   "cell_type": "code",
   "execution_count": 76,
   "id": "dc551db4",
   "metadata": {
    "ExecuteTime": {
     "end_time": "2023-11-26T07:51:48.850469Z",
     "start_time": "2023-11-26T07:51:48.846594Z"
    }
   },
   "outputs": [
    {
     "name": "stdout",
     "output_type": "stream",
     "text": [
      "20231124\n",
      "Sunny\n"
     ]
    }
   ],
   "source": [
    "a = \"20231124Sunny\"\n",
    "date = a[:8]\n",
    "weather = a[8:]\n",
    "print(date)\n",
    "print(weather)"
   ]
  },
  {
   "cell_type": "markdown",
   "id": "6660d53a",
   "metadata": {},
   "source": [
    "위 예는 문자열 a를 두 부분으로 나누는 기법이다.       \n",
    "\n",
    "숫자 8을 기준으로 문자열 a를 양쪽으로 한 번씩 슬라이싱했다.    \n",
    "a[:8]은 a[8]을 포함하지 않고   \n",
    "a[8:]은 a[8]을 포함하기 때문에 8을 기준으로 해서 두 부분으로 나눌 수 있는 것이다.    \n",
    "    \n",
    "위 예에서는 \"20231124Sunny\" 문자열을    \n",
    "날짜를 나타내는 부분인 '20231124'과   \n",
    "날씨를 나타내는 부분인 'Sunny'로 나누는 방법을 보여 준다.   \n",
    "      \n",
    "\"20231124Sunny\"를 연도인 2023,    \n",
    "월과 일을 나타내는 1124,    \n",
    "날씨를 나타내는 Sunny까지    \n",
    "      \n",
    "세 부분으로 나누는 방법은 다음과 같다.   "
   ]
  },
  {
   "cell_type": "code",
   "execution_count": 78,
   "id": "28c86afe",
   "metadata": {
    "ExecuteTime": {
     "end_time": "2023-11-26T07:56:27.223743Z",
     "start_time": "2023-11-26T07:56:27.220121Z"
    }
   },
   "outputs": [
    {
     "name": "stdout",
     "output_type": "stream",
     "text": [
      "2023\n",
      "1124\n",
      "Sunny\n"
     ]
    }
   ],
   "source": [
    "year = a[:4]\n",
    "day = a[4:8]\n",
    "weather = a[8:]\n",
    "\n",
    "print(year)\n",
    "print(day)\n",
    "print(weather)"
   ]
  },
  {
   "cell_type": "markdown",
   "id": "437c0f88",
   "metadata": {},
   "source": [
    "### 문자열 요소 바꾸기"
   ]
  },
  {
   "cell_type": "code",
   "execution_count": 85,
   "id": "ea03253a",
   "metadata": {
    "ExecuteTime": {
     "end_time": "2023-11-26T08:00:43.372787Z",
     "start_time": "2023-11-26T08:00:43.369040Z"
    }
   },
   "outputs": [
    {
     "data": {
      "text/plain": [
       "'i'"
      ]
     },
     "execution_count": 85,
     "metadata": {},
     "output_type": "execute_result"
    }
   ],
   "source": [
    "a = \"pithon\"\n",
    "a[1]"
   ]
  },
  {
   "cell_type": "code",
   "execution_count": 86,
   "id": "db454f4b",
   "metadata": {
    "ExecuteTime": {
     "end_time": "2023-11-26T08:00:58.504223Z",
     "start_time": "2023-11-26T08:00:57.826647Z"
    }
   },
   "outputs": [
    {
     "ename": "TypeError",
     "evalue": "'str' object does not support item assignment",
     "output_type": "error",
     "traceback": [
      "\u001b[1;31m---------------------------------------------------------------------------\u001b[0m",
      "\u001b[1;31mTypeError\u001b[0m                                 Traceback (most recent call last)",
      "Cell \u001b[1;32mIn[86], line 1\u001b[0m\n\u001b[1;32m----> 1\u001b[0m a[\u001b[38;5;241m1\u001b[39m] \u001b[38;5;241m=\u001b[39m \u001b[38;5;124m'\u001b[39m\u001b[38;5;124my\u001b[39m\u001b[38;5;124m'\u001b[39m\n",
      "\u001b[1;31mTypeError\u001b[0m: 'str' object does not support item assignment"
     ]
    }
   ],
   "source": [
    "a[1] = 'y'"
   ]
  },
  {
   "cell_type": "code",
   "execution_count": 87,
   "id": "ecfb4238",
   "metadata": {
    "ExecuteTime": {
     "end_time": "2023-11-26T08:01:14.473475Z",
     "start_time": "2023-11-26T08:01:14.469464Z"
    }
   },
   "outputs": [
    {
     "data": {
      "text/plain": [
       "'python'"
      ]
     },
     "execution_count": 87,
     "metadata": {},
     "output_type": "execute_result"
    }
   ],
   "source": [
    "a[0] + 'y' + a[2:]"
   ]
  },
  {
   "cell_type": "markdown",
   "id": "c61587c8",
   "metadata": {},
   "source": [
    "### 문자열 포매팅 (string formatting)   \n",
    "\n",
    "> 문자열 안의 특정한 값을 바꿔야 할 경우가 있을 때 이것을 가능하게 해 주는 것이 바로 문자열 포매팅\n",
    "\n",
    "* %s : 문자열(String)\n",
    "* %c : 문자 1개(character)\n",
    "* %d : 정수(Integer)\n",
    "* %f : 부동소수(floating-point)\n",
    "* %o : 8진수\n",
    "* %x : 16진수\n",
    "* %% :Literal % (문자 % 자체)"
   ]
  },
  {
   "cell_type": "markdown",
   "id": "bcd3a638",
   "metadata": {},
   "source": [
    "### 숫자 바로 대입하기"
   ]
  },
  {
   "cell_type": "code",
   "execution_count": 88,
   "id": "e54e0c9c",
   "metadata": {
    "ExecuteTime": {
     "end_time": "2023-11-26T08:04:16.867698Z",
     "start_time": "2023-11-26T08:04:16.864740Z"
    }
   },
   "outputs": [
    {
     "data": {
      "text/plain": [
       "'I eat 3 apples'"
      ]
     },
     "execution_count": 88,
     "metadata": {},
     "output_type": "execute_result"
    }
   ],
   "source": [
    "#여기에서 %d는 ‘문자열 포맷 코드’라고 부른다.\n",
    "\n",
    "\"I eat %d apples\"%3"
   ]
  },
  {
   "cell_type": "markdown",
   "id": "3cb906ac",
   "metadata": {},
   "source": [
    "### 문자열 대입하기"
   ]
  },
  {
   "cell_type": "code",
   "execution_count": 89,
   "id": "51a43bc8",
   "metadata": {
    "ExecuteTime": {
     "end_time": "2023-11-26T08:04:53.377173Z",
     "start_time": "2023-11-26T08:04:53.373089Z"
    },
    "scrolled": true
   },
   "outputs": [
    {
     "data": {
      "text/plain": [
       "'I eat five apples'"
      ]
     },
     "execution_count": 89,
     "metadata": {},
     "output_type": "execute_result"
    }
   ],
   "source": [
    "#문자열을 대입할 때는 반드시 큰따옴표나 작은따옴표를 써야 한다.\n",
    "\n",
    "\"I eat %s apples\"%\"five\""
   ]
  },
  {
   "cell_type": "markdown",
   "id": "6c131916",
   "metadata": {},
   "source": [
    "### 변수로 대입하기"
   ]
  },
  {
   "cell_type": "code",
   "execution_count": 90,
   "id": "df763383",
   "metadata": {
    "ExecuteTime": {
     "end_time": "2023-11-26T08:05:33.166712Z",
     "start_time": "2023-11-26T08:05:33.162709Z"
    }
   },
   "outputs": [
    {
     "data": {
      "text/plain": [
       "'I eat 3 apples'"
      ]
     },
     "execution_count": 90,
     "metadata": {},
     "output_type": "execute_result"
    }
   ],
   "source": [
    "# 1번처럼 숫자를 바로 대입하든, 위 예제처럼 숫자 값을 나타내는 변수를 대입하든 결과는 같다.\n",
    "\n",
    "number = 3\n",
    "\"I eat %d apples\"%number"
   ]
  },
  {
   "cell_type": "markdown",
   "id": "b545be91",
   "metadata": {},
   "source": [
    "### 2개 이상의 값 넣기"
   ]
  },
  {
   "cell_type": "code",
   "execution_count": 91,
   "id": "e4bc095c",
   "metadata": {
    "ExecuteTime": {
     "end_time": "2023-11-26T08:06:31.559282Z",
     "start_time": "2023-11-26T08:06:31.555218Z"
    }
   },
   "outputs": [
    {
     "data": {
      "text/plain": [
       "'I eat 3 apples, so I was sock for three days'"
      ]
     },
     "execution_count": 91,
     "metadata": {},
     "output_type": "execute_result"
    }
   ],
   "source": [
    "#마지막 % 다음 괄호 안에 쉼표(,)로 구분하여 각각의 값을 넣어 주면 된다.\n",
    "\n",
    "number = 3\n",
    "day = \"three\"\n",
    "\"I eat %d apples, so I was sick for %s days\"%(number, day)"
   ]
  },
  {
   "cell_type": "code",
   "execution_count": 93,
   "id": "53db6fa3",
   "metadata": {
    "ExecuteTime": {
     "end_time": "2023-11-26T08:14:47.950586Z",
     "start_time": "2023-11-26T08:14:47.946758Z"
    }
   },
   "outputs": [
    {
     "ename": "SyntaxError",
     "evalue": "invalid syntax (3606096654.py, line 2)",
     "output_type": "error",
     "traceback": [
      "\u001b[1;36m  Cell \u001b[1;32mIn[93], line 2\u001b[1;36m\u001b[0m\n\u001b[1;33m    파이썬은 '형식이 불완전하다'라는 오류 메시지를 보여 준다.\u001b[0m\n\u001b[1;37m         ^\u001b[0m\n\u001b[1;31mSyntaxError\u001b[0m\u001b[1;31m:\u001b[0m invalid syntax\n"
     ]
    }
   ],
   "source": [
    "\"Error is %d%.\" % 98"
   ]
  },
  {
   "cell_type": "markdown",
   "id": "d55bc5ae",
   "metadata": {},
   "source": [
    "결괏값으로 당연히 \"Error is 98%.\"가 출력될 것이라고 예상하겠지만,   \n",
    "파이썬은 '형식이 불완전하다'라는 오류 메시지를 보여 준다.   \n",
    "      \n",
    "그 이유는 ‘문자열 포맷 코드인 %d와 %가 같은 문자열 안에 존재하는 경우,    \n",
    "%를 나타내려면 반드시 %%를 써야 한다’라는 법칙이 있기 때문이다.    \n",
    "     \n",
    "하지만 문자열 안에 %d와 같은 포매팅 연산자가 없으면 %는 홀로 쓰여도 상관없다.   \n",
    "따라서 위 예를 제대로 실행하려면 다음과 같이 작성해야 한다.    "
   ]
  },
  {
   "cell_type": "code",
   "execution_count": 94,
   "id": "19419623",
   "metadata": {
    "ExecuteTime": {
     "end_time": "2023-11-26T08:15:41.726529Z",
     "start_time": "2023-11-26T08:15:41.722518Z"
    }
   },
   "outputs": [
    {
     "data": {
      "text/plain": [
       "'Error is 98%.'"
      ]
     },
     "execution_count": 94,
     "metadata": {},
     "output_type": "execute_result"
    }
   ],
   "source": [
    "\"Error is %d%%.\" %98"
   ]
  },
  {
   "cell_type": "markdown",
   "id": "b29a894f",
   "metadata": {},
   "source": [
    "## 정렬과 공백"
   ]
  },
  {
   "cell_type": "markdown",
   "id": "6de772f4",
   "metadata": {},
   "source": [
    "### 양수 : 우정렬"
   ]
  },
  {
   "cell_type": "code",
   "execution_count": 96,
   "id": "1dcd6eac",
   "metadata": {
    "ExecuteTime": {
     "end_time": "2023-11-26T08:19:40.624771Z",
     "start_time": "2023-11-26T08:19:40.620926Z"
    }
   },
   "outputs": [
    {
     "data": {
      "text/plain": [
       "'        hi'"
      ]
     },
     "execution_count": 96,
     "metadata": {},
     "output_type": "execute_result"
    }
   ],
   "source": [
    "#10개의 문자열 공간을 만들되, 치환되는 문자열을 우측 정렬하고 빈곳은 공백으로 채우는 것\n",
    "\n",
    "\"%10s\"%\"hi\""
   ]
  },
  {
   "cell_type": "markdown",
   "id": "0e4156b5",
   "metadata": {},
   "source": [
    "### 음수 : 좌정렬"
   ]
  },
  {
   "cell_type": "code",
   "execution_count": 98,
   "id": "8a3b264b",
   "metadata": {
    "ExecuteTime": {
     "end_time": "2023-11-26T08:21:50.599225Z",
     "start_time": "2023-11-26T08:21:50.596198Z"
    }
   },
   "outputs": [
    {
     "data": {
      "text/plain": [
       "'hi        '"
      ]
     },
     "execution_count": 98,
     "metadata": {},
     "output_type": "execute_result"
    }
   ],
   "source": [
    "#10개의 문자열 공간을 만들되, 치환되는 문자열을 좌측 정렬하고 빈곳은 공백으로 채우는 것\n",
    "\n",
    "\"%-10s\"%\"hi\""
   ]
  },
  {
   "cell_type": "markdown",
   "id": "85e272a7",
   "metadata": {},
   "source": [
    "## 소수점 표현하기"
   ]
  },
  {
   "cell_type": "code",
   "execution_count": 99,
   "id": "01a16b12",
   "metadata": {
    "ExecuteTime": {
     "end_time": "2023-11-26T08:23:13.895513Z",
     "start_time": "2023-11-26T08:23:13.891589Z"
    }
   },
   "outputs": [
    {
     "data": {
      "text/plain": [
       "'3.4213'"
      ]
     },
     "execution_count": 99,
     "metadata": {},
     "output_type": "execute_result"
    }
   ],
   "source": [
    "\"%0.4f\"%3.42134234"
   ]
  },
  {
   "cell_type": "markdown",
   "id": "1e2c418b",
   "metadata": {},
   "source": [
    "3.42134234를 소수점 네 번째 자리까지만 나타내고 싶은 경우에는 위와 같이 작성한다.     \n",
    "%0.4f에서 ‘.’는 소수점 포인트, 그 뒤의 숫자 4는 소수점 뒤에 나올 숫자의 개수를 말한다.     \n",
    "소수점 포인트 앞의 숫자는 문자열의 전체 길이를 의미하는데,    \n",
    "%0.4f에서 사용한 숫자 0은 길이에 상관하지 않겠다는 의미이다."
   ]
  },
  {
   "cell_type": "code",
   "execution_count": 100,
   "id": "1f81df07",
   "metadata": {
    "ExecuteTime": {
     "end_time": "2023-11-26T08:24:36.227006Z",
     "start_time": "2023-11-26T08:24:36.223524Z"
    }
   },
   "outputs": [
    {
     "data": {
      "text/plain": [
       "'    3.4213'"
      ]
     },
     "execution_count": 100,
     "metadata": {},
     "output_type": "execute_result"
    }
   ],
   "source": [
    "\"%10.4f\"%3.42134234"
   ]
  },
  {
   "cell_type": "markdown",
   "id": "4d8fdf71",
   "metadata": {},
   "source": [
    "위는 숫자 3.42134234를 소수점 네 번째 자리까지만 표시하고    \n",
    "전체 길이가 10개인 문자열 공간에서 오른쪽으로 정렬하는 예를 보여 준다."
   ]
  },
  {
   "cell_type": "markdown",
   "id": "bb444c72",
   "metadata": {},
   "source": [
    "## 포맷함수로를 사용한 포매팅"
   ]
  },
  {
   "cell_type": "markdown",
   "id": "bb6e0b39",
   "metadata": {},
   "source": [
    "문자열의 format 함수를 사용하면 좀 더 발전된 스타일로 문자열 포맷을 지정할 수 있다.    \n",
    "앞에서 살펴본 문자열 포매팅 예제를 format 함수를 사용해서 바꾸면 다음과 같다."
   ]
  },
  {
   "cell_type": "markdown",
   "id": "9ddedbfe",
   "metadata": {},
   "source": [
    "### 숫자 바로 대입하기"
   ]
  },
  {
   "cell_type": "code",
   "execution_count": 104,
   "id": "af9bfd2c",
   "metadata": {
    "ExecuteTime": {
     "end_time": "2023-11-26T08:31:16.412887Z",
     "start_time": "2023-11-26T08:31:16.409819Z"
    }
   },
   "outputs": [
    {
     "data": {
      "text/plain": [
       "'I eat 3 apples'"
      ]
     },
     "execution_count": 104,
     "metadata": {},
     "output_type": "execute_result"
    }
   ],
   "source": [
    "\"I eat {0} apples\".format(3)"
   ]
  },
  {
   "cell_type": "markdown",
   "id": "3c08a649",
   "metadata": {},
   "source": [
    "### 문자열 바로 대입하기"
   ]
  },
  {
   "cell_type": "code",
   "execution_count": 243,
   "id": "f20c6e8a",
   "metadata": {
    "ExecuteTime": {
     "end_time": "2023-11-26T10:23:01.133139Z",
     "start_time": "2023-11-26T10:23:01.129338Z"
    }
   },
   "outputs": [
    {
     "data": {
      "text/plain": [
       "'I eat five apples'"
      ]
     },
     "execution_count": 243,
     "metadata": {},
     "output_type": "execute_result"
    }
   ],
   "source": [
    "\"I eat {0} apples\".format(\"five\")"
   ]
  },
  {
   "cell_type": "markdown",
   "id": "10133edc",
   "metadata": {},
   "source": [
    "### 숫자 값을 가진 변수로 대입하기"
   ]
  },
  {
   "cell_type": "code",
   "execution_count": 244,
   "id": "e22f8f00",
   "metadata": {
    "ExecuteTime": {
     "end_time": "2023-11-26T10:23:12.894360Z",
     "start_time": "2023-11-26T10:23:12.891073Z"
    }
   },
   "outputs": [
    {
     "data": {
      "text/plain": [
       "'I eat 3 apples'"
      ]
     },
     "execution_count": 244,
     "metadata": {},
     "output_type": "execute_result"
    }
   ],
   "source": [
    "number = 3\n",
    "\"I eat {0} apples\".format(number)"
   ]
  },
  {
   "cell_type": "markdown",
   "id": "739b9253",
   "metadata": {},
   "source": [
    "### 2개 이상의 값 넣기"
   ]
  },
  {
   "cell_type": "code",
   "execution_count": 245,
   "id": "451599b9",
   "metadata": {
    "ExecuteTime": {
     "end_time": "2023-11-26T10:23:22.879585Z",
     "start_time": "2023-11-26T10:23:22.876496Z"
    }
   },
   "outputs": [
    {
     "data": {
      "text/plain": [
       "'I ate 10 apples. so I was sick for three days.'"
      ]
     },
     "execution_count": 245,
     "metadata": {},
     "output_type": "execute_result"
    }
   ],
   "source": [
    "number = 10\n",
    "day = \"three\"\n",
    "\"I ate {0} apples. so I was sick for {1} days.\".format(number,day)"
   ]
  },
  {
   "cell_type": "markdown",
   "id": "20b4c50b",
   "metadata": {},
   "source": [
    "2개 이상의 값을 넣을 경우, 문자열의 {0}, {1}과 같은 인덱스 항목이    \n",
    "format 함수의 입력값으로 순서에 맞게 바뀐다.    \n",
    "     \n",
    "위 예에서 {0}은 format 함수의 첫 번째 입력값인 number, {1}은    \n",
    "format 함수의 두 번째 입력값인 day로 바뀐다."
   ]
  },
  {
   "cell_type": "markdown",
   "id": "bba2bf98",
   "metadata": {},
   "source": [
    "### 이름으로 넣기"
   ]
  },
  {
   "cell_type": "code",
   "execution_count": 109,
   "id": "332d4223",
   "metadata": {
    "ExecuteTime": {
     "end_time": "2023-11-26T08:34:33.498019Z",
     "start_time": "2023-11-26T08:34:33.493705Z"
    }
   },
   "outputs": [
    {
     "data": {
      "text/plain": [
       "'I ate 10 apples. so I was sick for 3 days.'"
      ]
     },
     "execution_count": 109,
     "metadata": {},
     "output_type": "execute_result"
    }
   ],
   "source": [
    "\"I ate {number} apples. so I was sick for {day} days.\".format(number=10, day=3)"
   ]
  },
  {
   "cell_type": "markdown",
   "id": "b3931b4a",
   "metadata": {},
   "source": [
    "{0}, {1}과 같은 인덱스 항목 대신 더 편리한 {name} 형태를 사용하는 방법도 있다.   \n",
    "{name} 형태를 사용할 경우, format 함수에는    \n",
    "반드시 name=value와 같은 형태의 입력값이 있어야 한다.    \n",
    "     \n",
    "위 예는 문자열의 {number}, {day}가 format 함수의 입력값인    \n",
    "number=10, day=3 값으로 각각 바뀌는 것을 보여 주고 있다. "
   ]
  },
  {
   "cell_type": "markdown",
   "id": "7ab9fcfc",
   "metadata": {},
   "source": [
    "### 인덱스와 이름을 혼용해서 넣기 "
   ]
  },
  {
   "cell_type": "code",
   "execution_count": 112,
   "id": "445ec32c",
   "metadata": {
    "ExecuteTime": {
     "end_time": "2023-11-26T08:36:20.602648Z",
     "start_time": "2023-11-26T08:36:20.598029Z"
    }
   },
   "outputs": [
    {
     "data": {
      "text/plain": [
       "'I ate 10 apples. so I was sick for 3 days.'"
      ]
     },
     "execution_count": 112,
     "metadata": {},
     "output_type": "execute_result"
    }
   ],
   "source": [
    "\"I ate {0} apples. so I was sick for {day} days.\".format(10, day=3)"
   ]
  },
  {
   "cell_type": "markdown",
   "id": "34a5a477",
   "metadata": {},
   "source": [
    "## f문자열 포매팅\n",
    "\n",
    "파이썬 3.6 버전부터는 f 문자열 포매팅 기능을 사용할 수 있다.     \n",
    "파이썬 3.6 미만 버전에서는 사용할 수 없는 기능이므로 주의해야 한다.    \n",
    "다음과 같이 문자열 앞에 f 접두사를 붙이면 f 문자열 포매팅 기능을 사용할 수 있다."
   ]
  },
  {
   "cell_type": "markdown",
   "id": "ed0ce50a",
   "metadata": {},
   "source": [
    "### python 3.6"
   ]
  },
  {
   "cell_type": "code",
   "execution_count": 118,
   "id": "a5cf9eb2",
   "metadata": {
    "ExecuteTime": {
     "end_time": "2023-11-26T08:39:29.796484Z",
     "start_time": "2023-11-26T08:39:29.792281Z"
    }
   },
   "outputs": [
    {
     "data": {
      "text/plain": [
       "'나의 이름은 홍길동입니다. 나이는 30입니다.'"
      ]
     },
     "execution_count": 118,
     "metadata": {},
     "output_type": "execute_result"
    }
   ],
   "source": [
    "name = '홍길동'\n",
    "age = 30\n",
    "f'나의 이름은 {name}입니다. 나이는 {age}입니다.'"
   ]
  },
  {
   "cell_type": "markdown",
   "id": "27a29098",
   "metadata": {},
   "source": [
    "f 문자열 포매팅은 위와 같이 name, age와 같은 변숫값을 생성한 후에 그 값을 참조할 수 있다.    \n",
    "또한 f 문자열 포매팅은 표현식을 지원하기 때문에 다음과 같은 것도 가능하다."
   ]
  },
  {
   "cell_type": "markdown",
   "id": "5f16e07a",
   "metadata": {},
   "source": [
    "### 표현식"
   ]
  },
  {
   "cell_type": "code",
   "execution_count": 119,
   "id": "bbb8698f",
   "metadata": {
    "ExecuteTime": {
     "end_time": "2023-11-26T08:40:24.941178Z",
     "start_time": "2023-11-26T08:40:24.937249Z"
    }
   },
   "outputs": [
    {
     "data": {
      "text/plain": [
       "'나는 내년이면 31살이 된다.'"
      ]
     },
     "execution_count": 119,
     "metadata": {},
     "output_type": "execute_result"
    }
   ],
   "source": [
    "#표현식이란 중괄호 안의 변수를 계산식과 함께 사용하는 것을 말한다.\n",
    "\n",
    "age = 30\n",
    "f'나는 내년이면 {age+1}살이 된다.'"
   ]
  },
  {
   "cell_type": "markdown",
   "id": "3cbdbfc9",
   "metadata": {},
   "source": [
    "### 딕셔너리"
   ]
  },
  {
   "cell_type": "code",
   "execution_count": 122,
   "id": "d9f7d931",
   "metadata": {
    "ExecuteTime": {
     "end_time": "2023-11-26T08:41:40.830943Z",
     "start_time": "2023-11-26T08:41:40.827184Z"
    }
   },
   "outputs": [
    {
     "data": {
      "text/plain": [
       "'나의 이름은 홍길동입니다. 나이는 30입니다.'"
      ]
     },
     "execution_count": 122,
     "metadata": {},
     "output_type": "execute_result"
    }
   ],
   "source": [
    "#딕셔너리는 f 문자열 포매팅에서 다음과 같이 사용할 수 있다.\n",
    "\n",
    "d = {'name':'홍길동', 'age':30}\n",
    "f'나의 이름은 {d[\"name\"]}입니다. 나이는 {d[\"age\"]}입니다.'"
   ]
  },
  {
   "cell_type": "markdown",
   "id": "08108624",
   "metadata": {},
   "source": [
    "### 소수점"
   ]
  },
  {
   "cell_type": "code",
   "execution_count": 126,
   "id": "4c7d8ad8",
   "metadata": {
    "ExecuteTime": {
     "end_time": "2023-11-26T08:43:37.968401Z",
     "start_time": "2023-11-26T08:43:37.964062Z"
    }
   },
   "outputs": [
    {
     "data": {
      "text/plain": [
       "'3.4213'"
      ]
     },
     "execution_count": 126,
     "metadata": {},
     "output_type": "execute_result"
    }
   ],
   "source": [
    "y = 3.42134234\n",
    "f'{y:0.4f}'     #소수점 4자리까지만 표현"
   ]
  },
  {
   "cell_type": "markdown",
   "id": "177e3b3d",
   "metadata": {},
   "source": [
    "## 문자열 관련 함수"
   ]
  },
  {
   "cell_type": "markdown",
   "id": "9c93f429",
   "metadata": {},
   "source": [
    "문자열 자료형은 자체적으로 함수를 가지고 있다.    \n",
    "이들 함수를 다른 말로 ‘문자열 내장 함수’라고 한다.    \n",
    "이 내장 함수를 사용하려면 문자열 변수 이름 뒤에 ‘.’를 붙인 후 함수 이름을 써 주면 된다. "
   ]
  },
  {
   "cell_type": "markdown",
   "id": "96b2dc06",
   "metadata": {},
   "source": [
    "### 문자 개수 세기 - count"
   ]
  },
  {
   "cell_type": "code",
   "execution_count": 127,
   "id": "d9ba6500",
   "metadata": {
    "ExecuteTime": {
     "end_time": "2023-11-26T08:52:52.480458Z",
     "start_time": "2023-11-26T08:52:52.475984Z"
    }
   },
   "outputs": [
    {
     "data": {
      "text/plain": [
       "2"
      ]
     },
     "execution_count": 127,
     "metadata": {},
     "output_type": "execute_result"
    }
   ],
   "source": [
    "a = \"hobby\"\n",
    "a.count('b')"
   ]
  },
  {
   "cell_type": "markdown",
   "id": "f6dbef83",
   "metadata": {},
   "source": [
    "### 위치 알려주기 (1) - find"
   ]
  },
  {
   "cell_type": "code",
   "execution_count": 130,
   "id": "7d619b32",
   "metadata": {
    "ExecuteTime": {
     "end_time": "2023-11-26T08:54:01.473933Z",
     "start_time": "2023-11-26T08:54:01.469930Z"
    }
   },
   "outputs": [
    {
     "data": {
      "text/plain": [
       "14"
      ]
     },
     "execution_count": 130,
     "metadata": {},
     "output_type": "execute_result"
    }
   ],
   "source": [
    "a = \"Python is the best choice.\"\n",
    "a.find('b')"
   ]
  },
  {
   "cell_type": "code",
   "execution_count": 131,
   "id": "b14bb988",
   "metadata": {
    "ExecuteTime": {
     "end_time": "2023-11-26T08:54:08.786909Z",
     "start_time": "2023-11-26T08:54:08.782898Z"
    }
   },
   "outputs": [
    {
     "data": {
      "text/plain": [
       "-1"
      ]
     },
     "execution_count": 131,
     "metadata": {},
     "output_type": "execute_result"
    }
   ],
   "source": [
    "a.find('k')"
   ]
  },
  {
   "cell_type": "markdown",
   "id": "f656dc48",
   "metadata": {},
   "source": [
    "find 함수로 문자열 중 문자 b가 처음으로 나온 위치를 반환했다.    \n",
    "만약 찾는 문자나 문자열이 존재하지 않는다면 -1을 반환한다.   \n",
    "     \n",
    "파이썬은 숫자를 0부터 세기 때문에 b의 위치는 15가 아닌 14가 된다."
   ]
  },
  {
   "cell_type": "markdown",
   "id": "5574fc88",
   "metadata": {},
   "source": [
    "### 위치 알려주기 (2) - index"
   ]
  },
  {
   "cell_type": "code",
   "execution_count": 134,
   "id": "533b6d76",
   "metadata": {
    "ExecuteTime": {
     "end_time": "2023-11-26T08:56:22.166726Z",
     "start_time": "2023-11-26T08:56:22.163230Z"
    }
   },
   "outputs": [
    {
     "data": {
      "text/plain": [
       "8"
      ]
     },
     "execution_count": 134,
     "metadata": {},
     "output_type": "execute_result"
    }
   ],
   "source": [
    "a = \"Life is too short\"\n",
    "a.index('t')"
   ]
  },
  {
   "cell_type": "code",
   "execution_count": 135,
   "id": "f2a282ab",
   "metadata": {
    "ExecuteTime": {
     "end_time": "2023-11-26T08:56:38.114348Z",
     "start_time": "2023-11-26T08:56:38.100512Z"
    }
   },
   "outputs": [
    {
     "ename": "ValueError",
     "evalue": "substring not found",
     "output_type": "error",
     "traceback": [
      "\u001b[1;31m---------------------------------------------------------------------------\u001b[0m",
      "\u001b[1;31mValueError\u001b[0m                                Traceback (most recent call last)",
      "Cell \u001b[1;32mIn[135], line 3\u001b[0m\n\u001b[0;32m      1\u001b[0m \u001b[38;5;66;03m#앞의 find 함수와 다른 점은 문자열 안에 존재하지 않는 문자를 찾으면 오류가 발생한다.\u001b[39;00m\n\u001b[1;32m----> 3\u001b[0m a\u001b[38;5;241m.\u001b[39mindex(\u001b[38;5;124m'\u001b[39m\u001b[38;5;124mk\u001b[39m\u001b[38;5;124m'\u001b[39m)\n",
      "\u001b[1;31mValueError\u001b[0m: substring not found"
     ]
    }
   ],
   "source": [
    "#앞의 find 함수와 다른 점은 문자열 안에 존재하지 않는 문자를 찾으면 오류가 발생한다.\n",
    "\n",
    "a.index('k')"
   ]
  },
  {
   "cell_type": "markdown",
   "id": "9a748831",
   "metadata": {},
   "source": [
    "index 함수로 문자열 중 문자 t가 맨 처음으로 나온 위치를 반환했다.    \n",
    "만약 찾는 문자나 문자열이 존재하지 않는다면 오류가 발생한다.     \n",
    "앞의 find 함수와 다른 점은 문자열 안에 존재하지 않는 문자를 찾으면 오류가 발생한다는 것이다."
   ]
  },
  {
   "cell_type": "code",
   "execution_count": 138,
   "id": "4f67e229",
   "metadata": {
    "ExecuteTime": {
     "end_time": "2023-11-26T08:58:57.795391Z",
     "start_time": "2023-11-26T08:58:57.792671Z"
    }
   },
   "outputs": [],
   "source": [
    "a.count?"
   ]
  },
  {
   "cell_type": "markdown",
   "id": "b4202eaa",
   "metadata": {},
   "source": [
    "문서 문자열:    \n",
    "S.count(sub[, start[, end]) -> int\n",
    "\n",
    "부분 문자열 서브인의 겹치지 않는 발생 횟수를 반환합니다.      \n",
    "문자열 S[start:end]. 선택적 인수 시작과 끝은 다음과 같습니다.      \n",
    "슬라이스 표기법과 같이 해석됩니다.     \n",
    "유형: 내장_function_or_method"
   ]
  },
  {
   "cell_type": "code",
   "execution_count": 137,
   "id": "3e5467b6",
   "metadata": {
    "ExecuteTime": {
     "end_time": "2023-11-26T08:58:18.206856Z",
     "start_time": "2023-11-26T08:58:18.202845Z"
    }
   },
   "outputs": [
    {
     "name": "stdout",
     "output_type": "stream",
     "text": [
      "Help on built-in function count:\n",
      "\n",
      "count(...) method of builtins.str instance\n",
      "    S.count(sub[, start[, end]]) -> int\n",
      "    \n",
      "    Return the number of non-overlapping occurrences of substring sub in\n",
      "    string S[start:end].  Optional arguments start and end are\n",
      "    interpreted as in slice notation.\n",
      "\n"
     ]
    }
   ],
   "source": [
    "help(a.count)"
   ]
  },
  {
   "cell_type": "markdown",
   "id": "351d6538",
   "metadata": {},
   "source": [
    "기본 제공 기능 수에 대한 도움말:\n",
    "\n",
    "count(...) builtin.str 인스턴스의 메서드\n",
    "S.count(sub[, start[, end]) -> int\n",
    "\n",
    "부분 문자열 서브인의 겹치지 않는 발생 횟수를 반환합니다\n",
    "문자열 S[start:end]. 선택적 인수 시작과 끝은 다음과 같습니다\n",
    "슬라이스 표기법과 같이 해석됩니다."
   ]
  },
  {
   "cell_type": "markdown",
   "id": "7c6718f1",
   "metadata": {},
   "source": [
    "## 문자열 삽입(join)"
   ]
  },
  {
   "cell_type": "code",
   "execution_count": 140,
   "id": "be6fa1a0",
   "metadata": {
    "ExecuteTime": {
     "end_time": "2023-11-26T09:03:11.057429Z",
     "start_time": "2023-11-26T09:03:11.054144Z"
    }
   },
   "outputs": [
    {
     "data": {
      "text/plain": [
       "'a,b,c,d'"
      ]
     },
     "execution_count": 140,
     "metadata": {},
     "output_type": "execute_result"
    }
   ],
   "source": [
    "#a, b, c, d 문자열 사이에 , 를 삽입\n",
    "\n",
    "\",\".join('abcd')"
   ]
  },
  {
   "cell_type": "markdown",
   "id": "4cc63b92",
   "metadata": {},
   "source": [
    "join 함수로 abcd 문자열의 각각의 문자 사이에 ‘,’를 삽입했다.   \n",
    "\n",
    "join 함수는 문자열뿐만 아니라 앞으로 배울 리스트나 튜플도 입력으로 사용할 수 있다.   \n",
    "(리스트와 튜플은 곧 배울 내용이므로 여기에서는 잠시 눈으로만 살펴보자).    \n",
    "\n",
    "join 함수의 입력으로 리스트를 사용하는 예는 다음과 같다."
   ]
  },
  {
   "cell_type": "code",
   "execution_count": 141,
   "id": "78289ba3",
   "metadata": {
    "ExecuteTime": {
     "end_time": "2023-11-26T09:14:18.522311Z",
     "start_time": "2023-11-26T09:14:18.517889Z"
    }
   },
   "outputs": [
    {
     "data": {
      "text/plain": [
       "'a,b,c,d'"
      ]
     },
     "execution_count": 141,
     "metadata": {},
     "output_type": "execute_result"
    }
   ],
   "source": [
    "\",\".join(['a', 'b', 'c', 'd'])"
   ]
  },
  {
   "cell_type": "markdown",
   "id": "c1272199",
   "metadata": {},
   "source": [
    "## 대소문자 변환(upper, lower)"
   ]
  },
  {
   "cell_type": "code",
   "execution_count": 142,
   "id": "77d58436",
   "metadata": {
    "ExecuteTime": {
     "end_time": "2023-11-26T09:15:46.190386Z",
     "start_time": "2023-11-26T09:15:46.186482Z"
    }
   },
   "outputs": [
    {
     "data": {
      "text/plain": [
       "'HI'"
      ]
     },
     "execution_count": 142,
     "metadata": {},
     "output_type": "execute_result"
    }
   ],
   "source": [
    "a = \"hi\"\n",
    "a.upper()"
   ]
  },
  {
   "cell_type": "code",
   "execution_count": 143,
   "id": "8b52dca4",
   "metadata": {
    "ExecuteTime": {
     "end_time": "2023-11-26T09:15:59.000146Z",
     "start_time": "2023-11-26T09:15:58.996769Z"
    }
   },
   "outputs": [
    {
     "data": {
      "text/plain": [
       "'hi'"
      ]
     },
     "execution_count": 143,
     "metadata": {},
     "output_type": "execute_result"
    }
   ],
   "source": [
    "a = \"HI\"\n",
    "a.lower()"
   ]
  },
  {
   "cell_type": "markdown",
   "id": "71c32717",
   "metadata": {},
   "source": [
    "## 공백 지우기(strip)"
   ]
  },
  {
   "cell_type": "markdown",
   "id": "80f6461e",
   "metadata": {},
   "source": [
    "### 왼쪽 공백 지우기 - lstrip"
   ]
  },
  {
   "cell_type": "code",
   "execution_count": 145,
   "id": "505ba54c",
   "metadata": {
    "ExecuteTime": {
     "end_time": "2023-11-26T09:16:36.485220Z",
     "start_time": "2023-11-26T09:16:36.481145Z"
    }
   },
   "outputs": [
    {
     "data": {
      "text/plain": [
       "'hi'"
      ]
     },
     "execution_count": 145,
     "metadata": {},
     "output_type": "execute_result"
    }
   ],
   "source": [
    "a = \" hi\"\n",
    "a.lstrip()"
   ]
  },
  {
   "cell_type": "markdown",
   "id": "ebeaeaa9",
   "metadata": {},
   "source": [
    "### 오른쪽 공백 지우기 - rstrip"
   ]
  },
  {
   "cell_type": "code",
   "execution_count": 146,
   "id": "12192ffc",
   "metadata": {
    "ExecuteTime": {
     "end_time": "2023-11-26T09:16:51.879995Z",
     "start_time": "2023-11-26T09:16:51.876288Z"
    }
   },
   "outputs": [
    {
     "data": {
      "text/plain": [
       "'hi'"
      ]
     },
     "execution_count": 146,
     "metadata": {},
     "output_type": "execute_result"
    }
   ],
   "source": [
    "a = \"hi  \"\n",
    "a.rstrip()"
   ]
  },
  {
   "cell_type": "markdown",
   "id": "9fbb2052",
   "metadata": {},
   "source": [
    "### 양쪽 공백 지우기 - strip"
   ]
  },
  {
   "cell_type": "code",
   "execution_count": 147,
   "id": "a42e27bb",
   "metadata": {
    "ExecuteTime": {
     "end_time": "2023-11-26T09:17:14.171011Z",
     "start_time": "2023-11-26T09:17:14.167598Z"
    }
   },
   "outputs": [
    {
     "data": {
      "text/plain": [
       "'hi'"
      ]
     },
     "execution_count": 147,
     "metadata": {},
     "output_type": "execute_result"
    }
   ],
   "source": [
    "a = \"  hi  \"\n",
    "a.strip()"
   ]
  },
  {
   "cell_type": "markdown",
   "id": "5b8c7984",
   "metadata": {},
   "source": [
    "## 문자열 바꾸기(replace)"
   ]
  },
  {
   "cell_type": "code",
   "execution_count": 148,
   "id": "b168c9f1",
   "metadata": {
    "ExecuteTime": {
     "end_time": "2023-11-26T09:18:54.273688Z",
     "start_time": "2023-11-26T09:18:54.270004Z"
    }
   },
   "outputs": [
    {
     "data": {
      "text/plain": [
       "'Your leg is too short'"
      ]
     },
     "execution_count": 148,
     "metadata": {},
     "output_type": "execute_result"
    }
   ],
   "source": [
    "a = \"Life is too short\"\n",
    "a.replace(\"Life\", \"Your leg\")"
   ]
  },
  {
   "cell_type": "markdown",
   "id": "908f09fa",
   "metadata": {},
   "source": [
    "replace 함수는 replace(바뀔_문자열, 바꿀_문자열)처럼 사용해서   \n",
    "문자열 안의 특정한 값을 다른 값으로 치환해 준다."
   ]
  },
  {
   "cell_type": "code",
   "execution_count": null,
   "id": "22350a35",
   "metadata": {
    "ExecuteTime": {
     "end_time": "2023-11-26T09:19:21.253409Z",
     "start_time": "2023-11-26T09:19:21.248883Z"
    }
   },
   "outputs": [],
   "source": [
    "a.replace?"
   ]
  },
  {
   "cell_type": "markdown",
   "id": "09d4ed5b",
   "metadata": {},
   "source": [
    "## 문자열 나누기(split)"
   ]
  },
  {
   "cell_type": "markdown",
   "id": "28a6cc8c",
   "metadata": {},
   "source": [
    "split 함수는 a.split()처럼 괄호 안에 아무 값도 넣어 주지 않으면    \n",
    "공백(`[Space]`], `[Tab]`, `[Enter]`)을 기준으로 문자열을 나누어 준다.    \n",
    "    \n",
    "만약 b.split(':')처럼 괄호 안에 특정 값이 있을 경우에는    \n",
    "괄호 안의 값을 구분자로 해서 문자열을 나누어 준다.     \n",
    "이렇게 나눈 값은 리스트에 하나씩 들어간다.    \n",
    "     \n",
    "`['Life', 'is', 'too', 'short']`나 `['a', 'b', 'c', 'd']`가 리스트인데,    \n",
    "02-3에서 자세히 알아볼 것이므로 여기에서는 너무 신경 쓰지 않아도 된다.    \n",
    "   \n",
    "앞에서 소개한 문자열 관련 함수는 문자열 처리에서 사용 빈도가 매우 높고 유용하다.    \n",
    "이 밖에도 몇 가지가 더 있지만 자주 사용하지는 않는다.  "
   ]
  },
  {
   "cell_type": "code",
   "execution_count": 150,
   "id": "e2e0eeb9",
   "metadata": {
    "ExecuteTime": {
     "end_time": "2023-11-26T09:20:57.626780Z",
     "start_time": "2023-11-26T09:20:57.623552Z"
    }
   },
   "outputs": [
    {
     "data": {
      "text/plain": [
       "['Life', 'is', 'too', 'short']"
      ]
     },
     "execution_count": 150,
     "metadata": {},
     "output_type": "execute_result"
    }
   ],
   "source": [
    "a = \"Life is too short\"\n",
    "a.split()"
   ]
  },
  {
   "cell_type": "code",
   "execution_count": 151,
   "id": "f9216d31",
   "metadata": {
    "ExecuteTime": {
     "end_time": "2023-11-26T09:21:23.606973Z",
     "start_time": "2023-11-26T09:21:23.603550Z"
    }
   },
   "outputs": [
    {
     "data": {
      "text/plain": [
       "['a', 'b', 'c', 'd']"
      ]
     },
     "execution_count": 151,
     "metadata": {},
     "output_type": "execute_result"
    }
   ],
   "source": [
    "b=\"a:b:c:d\"\n",
    "b.split(':')"
   ]
  },
  {
   "cell_type": "code",
   "execution_count": 152,
   "id": "d976cc20",
   "metadata": {
    "ExecuteTime": {
     "end_time": "2023-11-26T09:21:58.219779Z",
     "start_time": "2023-11-26T09:21:58.216546Z"
    }
   },
   "outputs": [
    {
     "data": {
      "text/plain": [
       "['Life', 'is', 'too', 'short']"
      ]
     },
     "execution_count": 152,
     "metadata": {},
     "output_type": "execute_result"
    }
   ],
   "source": [
    "a1 = a.split()\n",
    "a1"
   ]
  },
  {
   "cell_type": "code",
   "execution_count": 153,
   "id": "1176f557",
   "metadata": {
    "ExecuteTime": {
     "end_time": "2023-11-26T09:22:10.877996Z",
     "start_time": "2023-11-26T09:22:10.874095Z"
    }
   },
   "outputs": [
    {
     "data": {
      "text/plain": [
       "'Life is too short'"
      ]
     },
     "execution_count": 153,
     "metadata": {},
     "output_type": "execute_result"
    }
   ],
   "source": [
    "' '.join(a1)"
   ]
  },
  {
   "cell_type": "markdown",
   "id": "ae4a1e8e",
   "metadata": {},
   "source": [
    "# 리스트 자료형"
   ]
  },
  {
   "cell_type": "markdown",
   "id": "ebedcb24",
   "metadata": {},
   "source": [
    "## 리스트 만드는 방법"
   ]
  },
  {
   "cell_type": "code",
   "execution_count": 155,
   "id": "36b34b4c",
   "metadata": {
    "ExecuteTime": {
     "end_time": "2023-11-26T09:28:54.400351Z",
     "start_time": "2023-11-26T09:28:54.396488Z"
    }
   },
   "outputs": [
    {
     "data": {
      "text/plain": [
       "([1, 3, 5, 7, 9], list)"
      ]
     },
     "execution_count": 155,
     "metadata": {},
     "output_type": "execute_result"
    }
   ],
   "source": [
    "#type은 데이터 타입을 확인할 수 있는 함수\n",
    "\n",
    "odd = [1,3,5,7,9]\n",
    "odd, type(odd)"
   ]
  },
  {
   "cell_type": "markdown",
   "id": "bd5c37de",
   "metadata": {},
   "source": [
    "### 비어 있는 리스트는 a = list()로 생성할 수 있다."
   ]
  },
  {
   "cell_type": "code",
   "execution_count": 9,
   "id": "e9debcff",
   "metadata": {
    "ExecuteTime": {
     "end_time": "2023-11-27T09:59:15.169790Z",
     "start_time": "2023-11-27T09:59:15.164240Z"
    }
   },
   "outputs": [
    {
     "name": "stdout",
     "output_type": "stream",
     "text": [
      "[] [1, 2, 3] ['Life', 'is', 'too', 'short'] [1, 2, 'Life', 'is'] [1, 2, ['Life', 'is']]\n",
      "<class 'list'> <class 'list'> <class 'list'> <class 'list'> <class 'list'>\n"
     ]
    }
   ],
   "source": [
    "a = []                                              #아무것도 포함하지 않아 비어 있는 리스트\n",
    "b = [1, 2, 3]                                   #숫자 요소값\n",
    "c = ['Life', 'is', 'too', 'short']        #문자 요소값\n",
    "d = [1, 2, 'Life', 'is']                      #숫자+문자 \n",
    "e = [1, 2, ['Life', 'is'] ]                   #리스트 자체를 요소값으로\n",
    "\n",
    "print(a, b, c, d, e)\n",
    "print(type(a), type(b), type(c), type(d), type(e))"
   ]
  },
  {
   "cell_type": "markdown",
   "id": "66817a4a",
   "metadata": {},
   "source": [
    "리스트는 a처럼 아무것도 포함하지 않아 비어 있는 리스트([])일 수도 있고,    \n",
    "b처럼 숫자를 요솟값으로 가질 수도 있으며,    \n",
    "c처럼 문자열을 요솟값으로 가질 수도 있다.    \n",
    "또한 d처럼 숫자와 문자열을 함께 요솟값으로 가질 수도 있고,    \n",
    "e처럼 리스트 자체를 요솟값으로 가질 수도 있다.    \n",
    "\n",
    "즉, 리스트 안에는 어떠한 자료형도 포함할 수 있다."
   ]
  },
  {
   "cell_type": "markdown",
   "id": "b5386743",
   "metadata": {},
   "source": [
    "### len\n",
    "\n",
    "**리스트 길이를 구하기** 위해서는 다음처럼 len 함수를 사용해야 한다.      \n",
    "len은 문자열, 리스트 외에 앞으로 배울 튜플과 딕셔너리에도 사용할 수 있는 함수이다.     \n",
    "실습에서 자주 사용하므로 잘 기억해 두자."
   ]
  },
  {
   "cell_type": "code",
   "execution_count": 168,
   "id": "c250b960",
   "metadata": {
    "ExecuteTime": {
     "end_time": "2023-11-26T09:41:54.392764Z",
     "start_time": "2023-11-26T09:41:54.388754Z"
    }
   },
   "outputs": [
    {
     "data": {
      "text/plain": [
       "(4, 3)"
      ]
     },
     "execution_count": 168,
     "metadata": {},
     "output_type": "execute_result"
    }
   ],
   "source": [
    "len(d), len(e)"
   ]
  },
  {
   "cell_type": "markdown",
   "id": "f23ae5fe",
   "metadata": {},
   "source": [
    "## 인덱싱과 슬라이싱"
   ]
  },
  {
   "cell_type": "markdown",
   "id": "8828d515",
   "metadata": {},
   "source": [
    "리스트 역시 문자열처럼 인덱싱을 적용할 수 있다.    \n",
    "먼저 a 변수에 [1, 2, 3] 값을 설정한다."
   ]
  },
  {
   "cell_type": "markdown",
   "id": "cec5293b",
   "metadata": {},
   "source": [
    "###  1층 구조의 리스트"
   ]
  },
  {
   "cell_type": "code",
   "execution_count": 205,
   "id": "4c31f5e4",
   "metadata": {
    "ExecuteTime": {
     "end_time": "2023-11-26T09:56:56.482968Z",
     "start_time": "2023-11-26T09:56:56.479662Z"
    }
   },
   "outputs": [
    {
     "data": {
      "text/plain": [
       "[1, 2, 3]"
      ]
     },
     "execution_count": 205,
     "metadata": {},
     "output_type": "execute_result"
    }
   ],
   "source": [
    "a = [1,2,3]\n",
    "a"
   ]
  },
  {
   "cell_type": "markdown",
   "id": "2af03b22",
   "metadata": {},
   "source": [
    "a[0]은 리스트 a의 첫 번째 요솟값을 말한다."
   ]
  },
  {
   "cell_type": "code",
   "execution_count": 170,
   "id": "3db833b6",
   "metadata": {
    "ExecuteTime": {
     "end_time": "2023-11-26T09:44:52.177968Z",
     "start_time": "2023-11-26T09:44:52.174465Z"
    }
   },
   "outputs": [
    {
     "data": {
      "text/plain": [
       "1"
      ]
     },
     "execution_count": 170,
     "metadata": {},
     "output_type": "execute_result"
    }
   ],
   "source": [
    "a[0]"
   ]
  },
  {
   "cell_type": "markdown",
   "id": "4257f935",
   "metadata": {},
   "source": [
    "다음 예는 리스트의 첫 번째 요소인 a[0]과 세 번째 요소인 a[2]의 값을 더한 것이다."
   ]
  },
  {
   "cell_type": "code",
   "execution_count": 171,
   "id": "2c419b03",
   "metadata": {
    "ExecuteTime": {
     "end_time": "2023-11-26T09:45:15.628949Z",
     "start_time": "2023-11-26T09:45:15.625895Z"
    }
   },
   "outputs": [
    {
     "data": {
      "text/plain": [
       "4"
      ]
     },
     "execution_count": 171,
     "metadata": {},
     "output_type": "execute_result"
    }
   ],
   "source": [
    "a[0] + a[2]"
   ]
  },
  {
   "cell_type": "markdown",
   "id": "df099805",
   "metadata": {},
   "source": [
    "이것은 1 + 3으로 해석되어 값 4를 출력한다.   \n",
    "\n",
    "문자열을 공부할 때 이미 살펴보았지만,    \n",
    "파이썬은 숫자를 0부터 세기 때문에 a[1]이 리스트 a의 첫 번째 요소가 아니라    \n",
    "a[0]이 리스트 a의 첫 번째 요소라는 것을 명심하자.   \n",
    "\n",
    "a[-1]은 문자열에서와 마찬가지로 리스트 a의 마지막 요솟값을 말한다."
   ]
  },
  {
   "cell_type": "code",
   "execution_count": 172,
   "id": "5337801c",
   "metadata": {
    "ExecuteTime": {
     "end_time": "2023-11-26T09:45:53.147153Z",
     "start_time": "2023-11-26T09:45:53.143240Z"
    }
   },
   "outputs": [
    {
     "data": {
      "text/plain": [
       "3"
      ]
     },
     "execution_count": 172,
     "metadata": {},
     "output_type": "execute_result"
    }
   ],
   "source": [
    "a[-1]"
   ]
  },
  {
   "cell_type": "markdown",
   "id": "7532f2dc",
   "metadata": {},
   "source": [
    "이번에는 다음 예처럼 리스트 a를 숫자 1, 2, 3과   \n",
    "또 다른 리스트인 ['a', 'b', 'c']를 포함하도록 만들어 보자."
   ]
  },
  {
   "cell_type": "markdown",
   "id": "675c6b17",
   "metadata": {
    "ExecuteTime": {
     "end_time": "2023-11-26T09:57:53.259015Z",
     "start_time": "2023-11-26T09:57:53.255699Z"
    }
   },
   "source": [
    "### 2층 구조의 리스트"
   ]
  },
  {
   "cell_type": "code",
   "execution_count": 194,
   "id": "261a2a64",
   "metadata": {
    "ExecuteTime": {
     "end_time": "2023-11-26T09:54:51.321256Z",
     "start_time": "2023-11-26T09:54:51.317859Z"
    }
   },
   "outputs": [
    {
     "data": {
      "text/plain": [
       "[1, 2, 3, ['a', 'b', 'c']]"
      ]
     },
     "execution_count": 194,
     "metadata": {},
     "output_type": "execute_result"
    }
   ],
   "source": [
    "b = [1,2,3, ['a', 'b', 'c']]\n",
    "b"
   ]
  },
  {
   "cell_type": "markdown",
   "id": "20d8b736",
   "metadata": {},
   "source": [
    "그리고 다음 예를 따라 해 보자."
   ]
  },
  {
   "cell_type": "code",
   "execution_count": 195,
   "id": "049fe520",
   "metadata": {
    "ExecuteTime": {
     "end_time": "2023-11-26T09:54:53.641444Z",
     "start_time": "2023-11-26T09:54:53.638201Z"
    }
   },
   "outputs": [
    {
     "data": {
      "text/plain": [
       "1"
      ]
     },
     "execution_count": 195,
     "metadata": {},
     "output_type": "execute_result"
    }
   ],
   "source": [
    "b[0]"
   ]
  },
  {
   "cell_type": "code",
   "execution_count": 196,
   "id": "b21a2411",
   "metadata": {
    "ExecuteTime": {
     "end_time": "2023-11-26T09:54:55.713538Z",
     "start_time": "2023-11-26T09:54:55.710137Z"
    }
   },
   "outputs": [
    {
     "data": {
      "text/plain": [
       "['a', 'b', 'c']"
      ]
     },
     "execution_count": 196,
     "metadata": {},
     "output_type": "execute_result"
    }
   ],
   "source": [
    "b[-1]"
   ]
  },
  {
   "cell_type": "code",
   "execution_count": 197,
   "id": "52157066",
   "metadata": {
    "ExecuteTime": {
     "end_time": "2023-11-26T09:54:57.922298Z",
     "start_time": "2023-11-26T09:54:57.918817Z"
    }
   },
   "outputs": [
    {
     "data": {
      "text/plain": [
       "['a', 'b', 'c']"
      ]
     },
     "execution_count": 197,
     "metadata": {},
     "output_type": "execute_result"
    }
   ],
   "source": [
    "b[3]"
   ]
  },
  {
   "cell_type": "markdown",
   "id": "a7ac5dfd",
   "metadata": {},
   "source": [
    "예상한 대로 a[-1]은 마지막 요솟값 ['a', 'b', 'c']를 나타낸다.    \n",
    "a[3]은 리스트 a의 네 번째 요소를 나타내기 때문에    \n",
    "마지막 요소를 나타내는 a[-1]과 동일한 결괏값을 보여 준다.   \n",
    "    \n",
    "그렇다면 리스트 a에 포함된 ['a', 'b', 'c'] 리스트에서   \n",
    "'a' 값을 인덱싱을 사용해 끄집어 낼 수 있는 방법은 없을까? 다음 예를 살펴보자."
   ]
  },
  {
   "cell_type": "code",
   "execution_count": 198,
   "id": "24f98b73",
   "metadata": {
    "ExecuteTime": {
     "end_time": "2023-11-26T09:55:00.273891Z",
     "start_time": "2023-11-26T09:55:00.270141Z"
    }
   },
   "outputs": [
    {
     "data": {
      "text/plain": [
       "'a'"
      ]
     },
     "execution_count": 198,
     "metadata": {},
     "output_type": "execute_result"
    }
   ],
   "source": [
    "b[-1][0]"
   ]
  },
  {
   "cell_type": "markdown",
   "id": "5c445931",
   "metadata": {},
   "source": [
    "위와 같이 하면 'a'를 끄집어 낼 수 있다. a[-1]이 ['a', 'b', 'c'] 리스트라는 것은 이미 설명했다.    \n",
    "바로 이 리스트에서 첫 번째 요소를 불러오기 위해 [0]을 붙여 준 것이다.   \n",
    "\n",
    "다음 예도 마찬가지 경우이므로 어렵지 않게 이해할 수 있을 것이다."
   ]
  },
  {
   "cell_type": "code",
   "execution_count": 199,
   "id": "ec4242f3",
   "metadata": {
    "ExecuteTime": {
     "end_time": "2023-11-26T09:55:02.914322Z",
     "start_time": "2023-11-26T09:55:02.910548Z"
    }
   },
   "outputs": [
    {
     "data": {
      "text/plain": [
       "'b'"
      ]
     },
     "execution_count": 199,
     "metadata": {},
     "output_type": "execute_result"
    }
   ],
   "source": [
    "b[-1][1]\n",
    "'b'"
   ]
  },
  {
   "cell_type": "code",
   "execution_count": 200,
   "id": "4fd504c3",
   "metadata": {
    "ExecuteTime": {
     "end_time": "2023-11-26T09:55:06.514952Z",
     "start_time": "2023-11-26T09:55:06.511040Z"
    }
   },
   "outputs": [
    {
     "data": {
      "text/plain": [
       "'c'"
      ]
     },
     "execution_count": 200,
     "metadata": {},
     "output_type": "execute_result"
    }
   ],
   "source": [
    "b[-1][2]"
   ]
  },
  {
   "cell_type": "markdown",
   "id": "f65fccd4",
   "metadata": {},
   "source": [
    "### 3층 구조의 리스트"
   ]
  },
  {
   "cell_type": "code",
   "execution_count": 201,
   "id": "54c3efa6",
   "metadata": {
    "ExecuteTime": {
     "end_time": "2023-11-26T09:55:13.387856Z",
     "start_time": "2023-11-26T09:55:13.384057Z"
    }
   },
   "outputs": [
    {
     "data": {
      "text/plain": [
       "[1, 2, ['a', 'b', ['Life', 'is']]]"
      ]
     },
     "execution_count": 201,
     "metadata": {},
     "output_type": "execute_result"
    }
   ],
   "source": [
    "c = [1,2, ['a', 'b', ['Life', 'is']]]\n",
    "c"
   ]
  },
  {
   "cell_type": "code",
   "execution_count": 202,
   "id": "fffc5cd0",
   "metadata": {
    "ExecuteTime": {
     "end_time": "2023-11-26T09:55:15.188573Z",
     "start_time": "2023-11-26T09:55:15.185076Z"
    }
   },
   "outputs": [
    {
     "data": {
      "text/plain": [
       "'Life'"
      ]
     },
     "execution_count": 202,
     "metadata": {},
     "output_type": "execute_result"
    }
   ],
   "source": [
    "c[2][2][0]"
   ]
  },
  {
   "cell_type": "code",
   "execution_count": 203,
   "id": "c30dc4d6",
   "metadata": {
    "ExecuteTime": {
     "end_time": "2023-11-26T09:55:17.028661Z",
     "start_time": "2023-11-26T09:55:17.024570Z"
    }
   },
   "outputs": [
    {
     "data": {
      "text/plain": [
       "'Life'"
      ]
     },
     "execution_count": 203,
     "metadata": {},
     "output_type": "execute_result"
    }
   ],
   "source": [
    "c[-1][-1][0]"
   ]
  },
  {
   "cell_type": "markdown",
   "id": "ee409146",
   "metadata": {},
   "source": [
    "## 리스트 연산하기\n",
    "\n",
    "리스트 역시 +를 사용해서 더할 수 있고 *를 사용해서 반복할 수 있다.   \n",
    "문자열과 마찬가지로 리스트에서도 되는지 직접 확인해 보자."
   ]
  },
  {
   "cell_type": "markdown",
   "id": "2b57a479",
   "metadata": {},
   "source": [
    "### 리스트 더하기"
   ]
  },
  {
   "cell_type": "code",
   "execution_count": 221,
   "id": "6d8f5260",
   "metadata": {
    "ExecuteTime": {
     "end_time": "2023-11-26T10:04:14.362007Z",
     "start_time": "2023-11-26T10:04:14.358024Z"
    }
   },
   "outputs": [
    {
     "data": {
      "text/plain": [
       "[1, 2, 3, 4, 5, 6]"
      ]
     },
     "execution_count": 221,
     "metadata": {},
     "output_type": "execute_result"
    }
   ],
   "source": [
    "a = [1,2,3]\n",
    "b = [4,5,6]\n",
    "a+b"
   ]
  },
  {
   "cell_type": "markdown",
   "id": "1563ab82",
   "metadata": {},
   "source": [
    "### 리스트 반복하기 ( * )"
   ]
  },
  {
   "cell_type": "code",
   "execution_count": 223,
   "id": "4d885b44",
   "metadata": {
    "ExecuteTime": {
     "end_time": "2023-11-26T10:05:11.698789Z",
     "start_time": "2023-11-26T10:05:11.695266Z"
    }
   },
   "outputs": [
    {
     "data": {
      "text/plain": [
       "[1, 2, 3, 1, 2, 3, 1, 2, 3]"
      ]
     },
     "execution_count": 223,
     "metadata": {},
     "output_type": "execute_result"
    }
   ],
   "source": [
    "a = [1,2,3]\n",
    "a * 3"
   ]
  },
  {
   "cell_type": "markdown",
   "id": "8534b1ca",
   "metadata": {},
   "source": [
    "### 리스트 길이 구하기 (len)"
   ]
  },
  {
   "cell_type": "code",
   "execution_count": 224,
   "id": "caabf303",
   "metadata": {
    "ExecuteTime": {
     "end_time": "2023-11-26T10:05:24.756345Z",
     "start_time": "2023-11-26T10:05:24.752055Z"
    }
   },
   "outputs": [
    {
     "data": {
      "text/plain": [
       "3"
      ]
     },
     "execution_count": 224,
     "metadata": {},
     "output_type": "execute_result"
    }
   ],
   "source": [
    "a = [1,2,3]\n",
    "len(a)"
   ]
  },
  {
   "cell_type": "markdown",
   "id": "2df58bba",
   "metadata": {},
   "source": [
    "len은 문자열, 리스트 외에 앞으로 배울 튜플과 딕셔너리에도 사용할 수 있는 함수이다.    \n",
    "실습에서 자주 사용하므로 잘 기억해 두자.   "
   ]
  },
  {
   "cell_type": "markdown",
   "id": "a4e32a21",
   "metadata": {},
   "source": [
    "## 리스트 수정과 삭제"
   ]
  },
  {
   "cell_type": "markdown",
   "id": "e3bf0b42",
   "metadata": {},
   "source": [
    " ### 리스트 값 수정하기"
   ]
  },
  {
   "cell_type": "code",
   "execution_count": 225,
   "id": "91ad99db",
   "metadata": {
    "ExecuteTime": {
     "end_time": "2023-11-26T10:07:20.644730Z",
     "start_time": "2023-11-26T10:07:20.641486Z"
    }
   },
   "outputs": [
    {
     "data": {
      "text/plain": [
       "[1, 2, 4]"
      ]
     },
     "execution_count": 225,
     "metadata": {},
     "output_type": "execute_result"
    }
   ],
   "source": [
    "a=[1,2,3]\n",
    "a[2] = 4\n",
    "a"
   ]
  },
  {
   "cell_type": "markdown",
   "id": "752c1ac2",
   "metadata": {},
   "source": [
    "### del 함수를 사용해 리스트 요소 삭제하기"
   ]
  },
  {
   "cell_type": "code",
   "execution_count": 226,
   "id": "3e90f7eb",
   "metadata": {
    "ExecuteTime": {
     "end_time": "2023-11-26T10:07:35.174823Z",
     "start_time": "2023-11-26T10:07:35.170647Z"
    }
   },
   "outputs": [
    {
     "data": {
      "text/plain": [
       "[1, 3]"
      ]
     },
     "execution_count": 226,
     "metadata": {},
     "output_type": "execute_result"
    }
   ],
   "source": [
    "a=[1,2,3]\n",
    "del a[1]\n",
    "a"
   ]
  },
  {
   "cell_type": "markdown",
   "id": "0f3dc123",
   "metadata": {},
   "source": [
    "### 슬라이싱 기법으로 리스트 요소 여러개 삭제하기"
   ]
  },
  {
   "cell_type": "code",
   "execution_count": 228,
   "id": "b95f0e12",
   "metadata": {
    "ExecuteTime": {
     "end_time": "2023-11-26T10:08:34.447506Z",
     "start_time": "2023-11-26T10:08:34.443386Z"
    }
   },
   "outputs": [
    {
     "data": {
      "text/plain": [
       "[1, 2]"
      ]
     },
     "execution_count": 228,
     "metadata": {},
     "output_type": "execute_result"
    }
   ],
   "source": [
    "a=[1,2,3,4,5]\n",
    "del a[2:]\n",
    "a"
   ]
  },
  {
   "cell_type": "markdown",
   "id": "7a192df5",
   "metadata": {},
   "source": [
    "a[2:]에 해당하는 리스트의 요소들이 삭제되었다.   \n",
    "\n",
    "리스트의 요소를 삭제하는 방법에는 2가지가 더 있다.   \n",
    "바로 리스트의 remove와 pop 함수를 사용하는 것인데, 이는 리스트 관련 함수에서 설명한다."
   ]
  },
  {
   "cell_type": "markdown",
   "id": "3ef2520a",
   "metadata": {},
   "source": [
    "## 리스트 관련 함수\n",
    "문자열과 마찬가지로 리스트 변수 이름 뒤에 ‘.’를 붙여 여러 가지 리스트 관련 함수를 사용할 수 있다. 유용하게 사용하는 리스트 관련 함수 몇 가지만 알아보자."
   ]
  },
  {
   "cell_type": "markdown",
   "id": "d8166636",
   "metadata": {},
   "source": [
    "### 요소 추가(append)"
   ]
  },
  {
   "cell_type": "code",
   "execution_count": 230,
   "id": "6dae55b1",
   "metadata": {
    "ExecuteTime": {
     "end_time": "2023-11-26T10:10:33.864199Z",
     "start_time": "2023-11-26T10:10:33.860661Z"
    }
   },
   "outputs": [
    {
     "data": {
      "text/plain": [
       "[1, 2, 3, 4]"
      ]
     },
     "execution_count": 230,
     "metadata": {},
     "output_type": "execute_result"
    }
   ],
   "source": [
    "a=[1,2,3]\n",
    "a.append(4)\n",
    "a"
   ]
  },
  {
   "cell_type": "markdown",
   "id": "b556f4c9",
   "metadata": {},
   "source": [
    "리스트 안에는 어떤 자료형도 추가할 수 있다.   \n",
    "다음 예는 리스트에 다시 리스트를 추가한 결과이다."
   ]
  },
  {
   "cell_type": "code",
   "execution_count": 231,
   "id": "7618f4ea",
   "metadata": {
    "ExecuteTime": {
     "end_time": "2023-11-26T10:10:43.650039Z",
     "start_time": "2023-11-26T10:10:43.646000Z"
    }
   },
   "outputs": [
    {
     "data": {
      "text/plain": [
       "[1, 2, 3, 4, [5, 6]]"
      ]
     },
     "execution_count": 231,
     "metadata": {},
     "output_type": "execute_result"
    }
   ],
   "source": [
    "a.append([5,6])\n",
    "a"
   ]
  },
  {
   "cell_type": "markdown",
   "id": "87a1a15d",
   "metadata": {},
   "source": [
    "### 리스트 정렬 (sort)"
   ]
  },
  {
   "cell_type": "code",
   "execution_count": 246,
   "id": "b773bb98",
   "metadata": {
    "ExecuteTime": {
     "end_time": "2023-11-26T10:29:04.601772Z",
     "start_time": "2023-11-26T10:29:04.597691Z"
    }
   },
   "outputs": [
    {
     "data": {
      "text/plain": [
       "[1, 2, 3, 4]"
      ]
     },
     "execution_count": 246,
     "metadata": {},
     "output_type": "execute_result"
    }
   ],
   "source": [
    "a = [1, 4, 3, 2]\n",
    "a.sort()\n",
    "a"
   ]
  },
  {
   "cell_type": "code",
   "execution_count": 234,
   "id": "985a0a9f",
   "metadata": {
    "ExecuteTime": {
     "end_time": "2023-11-26T10:13:46.404622Z",
     "start_time": "2023-11-26T10:13:46.400331Z"
    }
   },
   "outputs": [
    {
     "data": {
      "text/plain": [
       "['a', 'b', 'c']"
      ]
     },
     "execution_count": 234,
     "metadata": {},
     "output_type": "execute_result"
    }
   ],
   "source": [
    "a=['a','c','b']\n",
    "a.sort()\n",
    "a"
   ]
  },
  {
   "cell_type": "markdown",
   "id": "32435126",
   "metadata": {},
   "source": [
    "### 리스트 뒤집기 (reverse) \n",
    "reverse 함수는 리스트를 역순으로 뒤집어 준다.    \n",
    "이때 리스트 요소들을 순서대로 정렬한 다음 다시 역순으로 정렬하는 것이 아니라   \n",
    "현재의 리스트를 그대로 거꾸로 뒤집는다."
   ]
  },
  {
   "cell_type": "code",
   "execution_count": 235,
   "id": "f3d28fef",
   "metadata": {
    "ExecuteTime": {
     "end_time": "2023-11-26T10:14:52.430174Z",
     "start_time": "2023-11-26T10:14:52.426456Z"
    }
   },
   "outputs": [
    {
     "data": {
      "text/plain": [
       "['b', 'c', 'a']"
      ]
     },
     "execution_count": 235,
     "metadata": {},
     "output_type": "execute_result"
    }
   ],
   "source": [
    "a=['a','c','b']\n",
    "a.reverse()\n",
    "a"
   ]
  },
  {
   "cell_type": "markdown",
   "id": "8a9df8c0",
   "metadata": {},
   "source": [
    "### 인덱스 반환 (index)\n",
    "index(x) 함수는 리스트에 x 값이 있으면 x의 인덱스 값(위칫값)을 리턴한다."
   ]
  },
  {
   "cell_type": "code",
   "execution_count": 236,
   "id": "4455f402",
   "metadata": {
    "ExecuteTime": {
     "end_time": "2023-11-26T10:15:30.467840Z",
     "start_time": "2023-11-26T10:15:30.464413Z"
    }
   },
   "outputs": [
    {
     "data": {
      "text/plain": [
       "2"
      ]
     },
     "execution_count": 236,
     "metadata": {},
     "output_type": "execute_result"
    }
   ],
   "source": [
    "a=[1,2,3]\n",
    "a.index(3)"
   ]
  },
  {
   "cell_type": "code",
   "execution_count": 237,
   "id": "23170928",
   "metadata": {
    "ExecuteTime": {
     "end_time": "2023-11-26T10:15:34.956528Z",
     "start_time": "2023-11-26T10:15:34.953063Z"
    }
   },
   "outputs": [
    {
     "data": {
      "text/plain": [
       "0"
      ]
     },
     "execution_count": 237,
     "metadata": {},
     "output_type": "execute_result"
    }
   ],
   "source": [
    "a.index(1)"
   ]
  },
  {
   "cell_type": "markdown",
   "id": "e8802ec9",
   "metadata": {},
   "source": [
    "위 예에서 리스트 a에 있는 숫자 3의 위치는 a[2]이므로 2,    \n",
    "숫자 1의 위치는 a[0]이므로 0을 리턴한다.   \n",
    "\n",
    "다음 예에서 값 0은 a 리스트에 존재하지 않기 때문에 오류가 발생한다."
   ]
  },
  {
   "cell_type": "code",
   "execution_count": 238,
   "id": "b5011e22",
   "metadata": {
    "ExecuteTime": {
     "end_time": "2023-11-26T10:17:35.175320Z",
     "start_time": "2023-11-26T10:17:35.162376Z"
    }
   },
   "outputs": [
    {
     "ename": "ValueError",
     "evalue": "0 is not in list",
     "output_type": "error",
     "traceback": [
      "\u001b[1;31m---------------------------------------------------------------------------\u001b[0m",
      "\u001b[1;31mValueError\u001b[0m                                Traceback (most recent call last)",
      "Cell \u001b[1;32mIn[238], line 1\u001b[0m\n\u001b[1;32m----> 1\u001b[0m a\u001b[38;5;241m.\u001b[39mindex(\u001b[38;5;241m0\u001b[39m)\n",
      "\u001b[1;31mValueError\u001b[0m: 0 is not in list"
     ]
    }
   ],
   "source": [
    "a.index(0)"
   ]
  },
  {
   "cell_type": "markdown",
   "id": "9592e012",
   "metadata": {},
   "source": [
    "### 리스트에 요소 삽입 (insert)\n",
    "insert(a, b)는 리스트의 a번째 위치에 b를 **삽입**하는 함수이다.    \n",
    "파이썬은 숫자를 0부터 센다는 것을 반드시 기억하자."
   ]
  },
  {
   "cell_type": "code",
   "execution_count": 240,
   "id": "1c25c5ed",
   "metadata": {
    "ExecuteTime": {
     "end_time": "2023-11-26T10:18:48.031943Z",
     "start_time": "2023-11-26T10:18:48.027794Z"
    }
   },
   "outputs": [
    {
     "data": {
      "text/plain": [
       "[4, 1, 2, 3]"
      ]
     },
     "execution_count": 240,
     "metadata": {},
     "output_type": "execute_result"
    }
   ],
   "source": [
    "a = [1,2,3]\n",
    "a.insert(0,4)\n",
    "a"
   ]
  },
  {
   "cell_type": "markdown",
   "id": "e6fa4644",
   "metadata": {},
   "source": [
    "위 예는 0번째 자리, 즉 첫 번째 요소인 a[0] 위치에 값 4를 삽입하라는 뜻이다."
   ]
  },
  {
   "cell_type": "code",
   "execution_count": 241,
   "id": "e53fa71c",
   "metadata": {
    "ExecuteTime": {
     "end_time": "2023-11-26T10:19:11.475577Z",
     "start_time": "2023-11-26T10:19:11.472144Z"
    }
   },
   "outputs": [
    {
     "data": {
      "text/plain": [
       "[4, 1, 2, 5, 3]"
      ]
     },
     "execution_count": 241,
     "metadata": {},
     "output_type": "execute_result"
    }
   ],
   "source": [
    "a.insert(3,5)\n",
    "a"
   ]
  },
  {
   "cell_type": "markdown",
   "id": "9de41de8",
   "metadata": {},
   "source": [
    "위 예는 리스트 a의 a[3], 즉 네 번째 요소 위치에 값 5를 삽입하라는 뜻이다."
   ]
  },
  {
   "cell_type": "markdown",
   "id": "730bc5cb",
   "metadata": {},
   "source": [
    "### 리스트에 요소 제거 (remove)\n",
    "remove(x)는 **리스트에서 첫 번째로 나오는 x를 삭제**하는 함수이다."
   ]
  },
  {
   "cell_type": "code",
   "execution_count": 257,
   "id": "483f18ac",
   "metadata": {
    "ExecuteTime": {
     "end_time": "2023-11-26T10:32:47.234090Z",
     "start_time": "2023-11-26T10:32:47.229820Z"
    }
   },
   "outputs": [
    {
     "data": {
      "text/plain": [
       "[1, 2, 1, 2, 3]"
      ]
     },
     "execution_count": 257,
     "metadata": {},
     "output_type": "execute_result"
    }
   ],
   "source": [
    "a=[1,2,3,1,2,3]\n",
    "a.remove(3)\n",
    "a"
   ]
  },
  {
   "cell_type": "markdown",
   "id": "6ef9fb73",
   "metadata": {},
   "source": [
    "a가 3이라는 값을 2개 가지고 있을 경우, 첫 번째 3만 제거되는 것을 알 수 있다."
   ]
  },
  {
   "cell_type": "code",
   "execution_count": 258,
   "id": "d2cd8a24",
   "metadata": {
    "ExecuteTime": {
     "end_time": "2023-11-26T10:32:48.337753Z",
     "start_time": "2023-11-26T10:32:48.333954Z"
    }
   },
   "outputs": [
    {
     "data": {
      "text/plain": [
       "[1, 2, 1, 2]"
      ]
     },
     "execution_count": 258,
     "metadata": {},
     "output_type": "execute_result"
    }
   ],
   "source": [
    "a.remove(3)\n",
    "a"
   ]
  },
  {
   "cell_type": "markdown",
   "id": "26f1674b",
   "metadata": {},
   "source": [
    "remove(3)을 한 번 더 실행하면 다시 3이 삭제된다."
   ]
  },
  {
   "cell_type": "markdown",
   "id": "c02481ff",
   "metadata": {},
   "source": [
    "### 리스트 요소 끄집어 내기 (pop)\n",
    "pop()은 **리스트의 맨 마지막 요소를 리턴하고 그 요소는 삭제**한다."
   ]
  },
  {
   "cell_type": "code",
   "execution_count": 259,
   "id": "d26b34d0",
   "metadata": {
    "ExecuteTime": {
     "end_time": "2023-11-26T10:33:45.090671Z",
     "start_time": "2023-11-26T10:33:45.086606Z"
    }
   },
   "outputs": [
    {
     "data": {
      "text/plain": [
       "3"
      ]
     },
     "execution_count": 259,
     "metadata": {},
     "output_type": "execute_result"
    }
   ],
   "source": [
    "a=[1,2,3]\n",
    "a.pop()"
   ]
  },
  {
   "cell_type": "code",
   "execution_count": 260,
   "id": "a8b7fc55",
   "metadata": {
    "ExecuteTime": {
     "end_time": "2023-11-26T10:33:54.578927Z",
     "start_time": "2023-11-26T10:33:54.575415Z"
    }
   },
   "outputs": [
    {
     "data": {
      "text/plain": [
       "[1, 2]"
      ]
     },
     "execution_count": 260,
     "metadata": {},
     "output_type": "execute_result"
    }
   ],
   "source": [
    "a"
   ]
  },
  {
   "cell_type": "markdown",
   "id": "00ce5592",
   "metadata": {},
   "source": [
    "a 리스트를 다시 보면 [1, 2, 3]에서 3을 끄집어 내고 최종적으로 [1, 2]만 남는 것을 확인할 수 있다.   \n",
    "pop(x)는 리스트의 x번째 요소를 리턴하고 그 요소는 삭제한다."
   ]
  },
  {
   "cell_type": "code",
   "execution_count": 261,
   "id": "b3907326",
   "metadata": {
    "ExecuteTime": {
     "end_time": "2023-11-26T10:34:35.056839Z",
     "start_time": "2023-11-26T10:34:35.053239Z"
    }
   },
   "outputs": [
    {
     "data": {
      "text/plain": [
       "2"
      ]
     },
     "execution_count": 261,
     "metadata": {},
     "output_type": "execute_result"
    }
   ],
   "source": [
    "a=[1,2,3]\n",
    "a.pop(1)"
   ]
  },
  {
   "cell_type": "code",
   "execution_count": 262,
   "id": "7d4c414e",
   "metadata": {
    "ExecuteTime": {
     "end_time": "2023-11-26T10:34:37.377538Z",
     "start_time": "2023-11-26T10:34:37.373672Z"
    }
   },
   "outputs": [
    {
     "data": {
      "text/plain": [
       "[1, 3]"
      ]
     },
     "execution_count": 262,
     "metadata": {},
     "output_type": "execute_result"
    }
   ],
   "source": [
    "a"
   ]
  },
  {
   "cell_type": "markdown",
   "id": "6549f0a5",
   "metadata": {},
   "source": [
    "a.pop(1)은 a[1]의 값을 끄집어 내어 리턴한다.    \n",
    "다시 a를 출력해 보면 끄집어 낸 값이 삭제된 것을 확인할 수 있다."
   ]
  },
  {
   "cell_type": "markdown",
   "id": "2884e936",
   "metadata": {},
   "source": [
    "### 리스트에 포함된 요소 x의 개수 세기 (count)\n",
    "count(x)는 **리스트 안에 x가 몇 개 있는지 조사하여 그 개수를 리턴**하는 함수이다."
   ]
  },
  {
   "cell_type": "code",
   "execution_count": 263,
   "id": "3569f814",
   "metadata": {
    "ExecuteTime": {
     "end_time": "2023-11-26T10:35:58.125553Z",
     "start_time": "2023-11-26T10:35:58.121787Z"
    }
   },
   "outputs": [
    {
     "data": {
      "text/plain": [
       "2"
      ]
     },
     "execution_count": 263,
     "metadata": {},
     "output_type": "execute_result"
    }
   ],
   "source": [
    "a=[1,2,3,1]\n",
    "a.count(1)"
   ]
  },
  {
   "cell_type": "markdown",
   "id": "9d9e0371",
   "metadata": {},
   "source": [
    "1이라는 값이 리스트 a에 2개 들어 있으므로 2를 리턴한다."
   ]
  },
  {
   "cell_type": "markdown",
   "id": "7342323d",
   "metadata": {},
   "source": [
    "### 리스트 확장 (extend)\n",
    "\n",
    "**extend(x)** 에서 **x에는 리스트만** 올 수 있으며 **원래의 a 리스트에 x 리스트를 더하게** 된다."
   ]
  },
  {
   "cell_type": "code",
   "execution_count": 265,
   "id": "47b879a5",
   "metadata": {
    "ExecuteTime": {
     "end_time": "2023-11-26T10:36:53.285344Z",
     "start_time": "2023-11-26T10:36:53.281225Z"
    }
   },
   "outputs": [
    {
     "data": {
      "text/plain": [
       "[1, 2, 3, 4, 5]"
      ]
     },
     "execution_count": 265,
     "metadata": {},
     "output_type": "execute_result"
    }
   ],
   "source": [
    "a=[1,2,3]\n",
    "a.extend([4,5])\n",
    "a"
   ]
  },
  {
   "cell_type": "code",
   "execution_count": 266,
   "id": "09ed02cf",
   "metadata": {
    "ExecuteTime": {
     "end_time": "2023-11-26T10:37:14.591822Z",
     "start_time": "2023-11-26T10:37:14.588236Z"
    }
   },
   "outputs": [
    {
     "data": {
      "text/plain": [
       "[1, 2, 3, 4, 5, 6, 7]"
      ]
     },
     "execution_count": 266,
     "metadata": {},
     "output_type": "execute_result"
    }
   ],
   "source": [
    "b=[6,7]\n",
    "a.extend(b)\n",
    "a"
   ]
  },
  {
   "cell_type": "code",
   "execution_count": 267,
   "id": "cc3f6942",
   "metadata": {
    "ExecuteTime": {
     "end_time": "2023-11-26T10:38:02.158486Z",
     "start_time": "2023-11-26T10:38:02.155175Z"
    }
   },
   "outputs": [
    {
     "data": {
      "text/plain": [
       "[1, 2, 3, 4, 5, 6, 7, 4, 5]"
      ]
     },
     "execution_count": 267,
     "metadata": {},
     "output_type": "execute_result"
    }
   ],
   "source": [
    "a += [4,5]\n",
    "a"
   ]
  },
  {
   "cell_type": "markdown",
   "id": "f66bb3be",
   "metadata": {},
   "source": [
    "a.extend([4, 5])는 a += [4, 5]와 동일하다.   \n",
    "a += [4, 5]는 a = a + [4, 5]와 동일한 표현식이다."
   ]
  },
  {
   "cell_type": "markdown",
   "id": "837cdf90",
   "metadata": {},
   "source": [
    "# 튜플 자료형"
   ]
  },
  {
   "cell_type": "markdown",
   "id": "83007e63",
   "metadata": {},
   "source": [
    "튜플(tuple)은 몇 가지 점을 제외하곤 리스트와 거의 비슷하며 리스트와 다른 점은 다음과 같다.\n",
    "\n",
    "- 리스트는 [], **튜플은 ()으로 둘러싼다.**\n",
    "- 리스트는 요솟값의 생성, 삭제, 수정이 가능하지만, **튜플은 요솟값을 바꿀 수 없다.**"
   ]
  },
  {
   "cell_type": "markdown",
   "id": "4a154027",
   "metadata": {},
   "source": [
    "튜플은 다음과 같이 여러 가지 모습으로 생성할 수 있다."
   ]
  },
  {
   "cell_type": "code",
   "execution_count": 12,
   "id": "dec152c0",
   "metadata": {
    "ExecuteTime": {
     "end_time": "2023-11-27T02:46:50.922871Z",
     "start_time": "2023-11-27T02:46:50.919138Z"
    }
   },
   "outputs": [
    {
     "name": "stdout",
     "output_type": "stream",
     "text": [
      "() (1,) (1, 2, 3) (1, 2, 3) ('a', 'b', ('ab', 'cd'))\n",
      "<class 'tuple'> <class 'tuple'> <class 'tuple'> <class 'tuple'> <class 'tuple'>\n"
     ]
    }
   ],
   "source": [
    "t1=()\n",
    "t2=(1,)\n",
    "t3=(1,2,3)\n",
    "t4=1,2,3\n",
    "t5=('a','b',('ab', 'cd'))\n",
    "\n",
    "print(t1, t2, t3, t4, t5)\n",
    "print(type(t1), type(t2), type(t3), type(t4), type(t5))"
   ]
  },
  {
   "cell_type": "markdown",
   "id": "fd52aaf0",
   "metadata": {},
   "source": [
    "모습은 리스트와 거의 비슷하지만, **튜플에서는 리스트와 다른 2가지 차이점**을 찾아볼 수 있다. \n",
    "- t2 = (1,)처럼 단지 1개의 요소만을 가질 때는 요소 뒤에 쉼표(,)를 반드시 붙여야 한다는 것\n",
    "- t4 = 1, 2, 3처럼 소괄호(())를 생략해도 된다\n",
    "\n",
    "얼핏 보면 튜플과 리스트는 비슷한 역할을 하지만, 프로그래밍을 할 때 튜플과 리스트는 구별해서 사용하는 것이 유리하다.   \n",
    "**튜플과 리스트의 가장 큰 차이는 요솟값을 변화시킬 수 있는지의 여부**이다.    \n",
    "즉, 리스트의 요솟값은 변화가 가능하고 튜플의 요솟값은 변화가 불가능하다.     \n",
    "\n",
    "따라서 프로그램이 실행되는 동안 요솟값이 항상 변하지 않기를 바란다거나 값이 바뀔까 걱정하고 싶지 않다면 주저하지 말고 튜플을 사용해야 한다. 이와 반대로 수시로 그 값을 변화시켜야할 경우라면 리스트를 사용해야 한다.     \n",
    "실제 프로그램에서는 값이 변경되는 형태의 변수가 훨씬 많기 때문에 평균적으로 튜플보다 리스트를 더 많이 사용한다."
   ]
  },
  {
   "cell_type": "markdown",
   "id": "72473b9b",
   "metadata": {},
   "source": [
    "## 튜플의 요솟값을 지우거나 변경하려고 하면 어떻게 될까?"
   ]
  },
  {
   "cell_type": "markdown",
   "id": "6b8ece58",
   "metadata": {},
   "source": [
    "### 튜플 요솟값을 삭제하려 할 때\n",
    "\n",
    "앞에서 설명했듯이 튜플의 요솟값은 한 번 정하면 지우거나 변경할 수 없다.   \n",
    "다음에 소개하는 두 예를 살펴보면 무슨 말인지 알 수 있을 것이다."
   ]
  },
  {
   "cell_type": "code",
   "execution_count": 1,
   "id": "1578040c",
   "metadata": {
    "ExecuteTime": {
     "end_time": "2023-11-27T12:44:38.445705Z",
     "start_time": "2023-11-27T12:44:37.769393Z"
    }
   },
   "outputs": [
    {
     "ename": "TypeError",
     "evalue": "'tuple' object doesn't support item deletion",
     "output_type": "error",
     "traceback": [
      "\u001b[1;31m---------------------------------------------------------------------------\u001b[0m",
      "\u001b[1;31mTypeError\u001b[0m                                 Traceback (most recent call last)",
      "Cell \u001b[1;32mIn[1], line 2\u001b[0m\n\u001b[0;32m      1\u001b[0m t1\u001b[38;5;241m=\u001b[39m(\u001b[38;5;241m1\u001b[39m,\u001b[38;5;241m2\u001b[39m,\u001b[38;5;124m'\u001b[39m\u001b[38;5;124ma\u001b[39m\u001b[38;5;124m'\u001b[39m,\u001b[38;5;124m'\u001b[39m\u001b[38;5;124mb\u001b[39m\u001b[38;5;124m'\u001b[39m)\n\u001b[1;32m----> 2\u001b[0m \u001b[38;5;28;01mdel\u001b[39;00m t1[\u001b[38;5;241m0\u001b[39m]\n",
      "\u001b[1;31mTypeError\u001b[0m: 'tuple' object doesn't support item deletion"
     ]
    }
   ],
   "source": [
    "t1=(1,2,'a','b')\n",
    "del t1[0]"
   ]
  },
  {
   "cell_type": "markdown",
   "id": "1bdea065",
   "metadata": {},
   "source": [
    "튜플의 요소를 리스트처럼 del 함수로 지우려고 한 예이다.    \n",
    "튜플은 요솟값을 지울 수 없다는 오류 메시지를 확인할 수 있다."
   ]
  },
  {
   "cell_type": "markdown",
   "id": "41a4cd27",
   "metadata": {},
   "source": [
    "### 튜플 요솟값을 변경하려 할 때"
   ]
  },
  {
   "cell_type": "code",
   "execution_count": 2,
   "id": "341a72a8",
   "metadata": {
    "ExecuteTime": {
     "end_time": "2023-11-27T12:45:19.487658Z",
     "start_time": "2023-11-27T12:45:19.472497Z"
    }
   },
   "outputs": [
    {
     "ename": "TypeError",
     "evalue": "'tuple' object does not support item assignment",
     "output_type": "error",
     "traceback": [
      "\u001b[1;31m---------------------------------------------------------------------------\u001b[0m",
      "\u001b[1;31mTypeError\u001b[0m                                 Traceback (most recent call last)",
      "Cell \u001b[1;32mIn[2], line 2\u001b[0m\n\u001b[0;32m      1\u001b[0m t1\u001b[38;5;241m=\u001b[39m(\u001b[38;5;241m1\u001b[39m,\u001b[38;5;241m2\u001b[39m,\u001b[38;5;124m'\u001b[39m\u001b[38;5;124ma\u001b[39m\u001b[38;5;124m'\u001b[39m,\u001b[38;5;124m'\u001b[39m\u001b[38;5;124mb\u001b[39m\u001b[38;5;124m'\u001b[39m)\n\u001b[1;32m----> 2\u001b[0m t1[\u001b[38;5;241m0\u001b[39m]\u001b[38;5;241m=\u001b[39m\u001b[38;5;124m'\u001b[39m\u001b[38;5;124mc\u001b[39m\u001b[38;5;124m'\u001b[39m\n",
      "\u001b[1;31mTypeError\u001b[0m: 'tuple' object does not support item assignment"
     ]
    }
   ],
   "source": [
    "t1=(1,2,'a','b')\n",
    "t1[0]='c'"
   ]
  },
  {
   "cell_type": "markdown",
   "id": "5c0552b9",
   "metadata": {},
   "source": [
    "튜플의 요솟값을 변경하려고 해도 오류가 발생하는 것을 확인할 수 있다."
   ]
  },
  {
   "cell_type": "markdown",
   "id": "b8d18173",
   "metadata": {},
   "source": [
    "## 튜플 다루기\n",
    "\n",
    "**튜플은 요솟값을 변화시킬 수 없다는 점만 제외하면 리스트와 완전히 동일**하므로 간단하게만 살펴보자.    \n",
    "다음 예제는 서로 연관되어 있으므로 차례대로 수행해 보기 바란다."
   ]
  },
  {
   "cell_type": "markdown",
   "id": "fdbd9861",
   "metadata": {},
   "source": [
    "### 인덱싱하기\n",
    "문자열, 리스트와 마찬가지로 t1[0], t1[3]처럼 인덱싱이 가능하다."
   ]
  },
  {
   "cell_type": "code",
   "execution_count": 3,
   "id": "8c960c4b",
   "metadata": {
    "ExecuteTime": {
     "end_time": "2023-11-27T12:47:18.974754Z",
     "start_time": "2023-11-27T12:47:18.968808Z"
    }
   },
   "outputs": [
    {
     "data": {
      "text/plain": [
       "1"
      ]
     },
     "execution_count": 3,
     "metadata": {},
     "output_type": "execute_result"
    }
   ],
   "source": [
    "t1=(1,2,'a','b')\n",
    "t1[0]"
   ]
  },
  {
   "cell_type": "code",
   "execution_count": 4,
   "id": "3b171664",
   "metadata": {
    "ExecuteTime": {
     "end_time": "2023-11-27T12:47:31.391834Z",
     "start_time": "2023-11-27T12:47:31.388419Z"
    }
   },
   "outputs": [
    {
     "data": {
      "text/plain": [
       "'b'"
      ]
     },
     "execution_count": 4,
     "metadata": {},
     "output_type": "execute_result"
    }
   ],
   "source": [
    "t1[3]"
   ]
  },
  {
   "cell_type": "markdown",
   "id": "64839189",
   "metadata": {},
   "source": [
    "### 슬라이싱하기\n",
    "t1[1]부터 튜플의 마지막 요소까지 슬라이싱하는 예이다."
   ]
  },
  {
   "cell_type": "code",
   "execution_count": 5,
   "id": "6dfd8b52",
   "metadata": {
    "ExecuteTime": {
     "end_time": "2023-11-27T12:48:16.261056Z",
     "start_time": "2023-11-27T12:48:16.256872Z"
    }
   },
   "outputs": [
    {
     "data": {
      "text/plain": [
       "(2, 'a', 'b')"
      ]
     },
     "execution_count": 5,
     "metadata": {},
     "output_type": "execute_result"
    }
   ],
   "source": [
    "t1=(1,2,'a','b')\n",
    "t1[1:]"
   ]
  },
  {
   "cell_type": "markdown",
   "id": "069fd588",
   "metadata": {},
   "source": [
    "### 튜플 더하기\n",
    "튜플을 더하는 방법을 보여 주는 예이다. 이때도 t1, t2 튜플의 요솟값이 바뀌는 것은 아니다.    \n",
    "다만, t1, t2 튜플을 더하여 새로운 튜플 t3를 생성한 것이다."
   ]
  },
  {
   "cell_type": "code",
   "execution_count": 6,
   "id": "7e33f8de",
   "metadata": {
    "ExecuteTime": {
     "end_time": "2023-11-27T12:48:45.443201Z",
     "start_time": "2023-11-27T12:48:45.438182Z"
    }
   },
   "outputs": [
    {
     "data": {
      "text/plain": [
       "(1, 2, 'a', 'b', 3, 4)"
      ]
     },
     "execution_count": 6,
     "metadata": {},
     "output_type": "execute_result"
    }
   ],
   "source": [
    "t1=(1,2,'a','b')\n",
    "t2=(3,4)\n",
    "t3=t1+t2\n",
    "t3"
   ]
  },
  {
   "cell_type": "markdown",
   "id": "92470487",
   "metadata": {},
   "source": [
    "### 튜플 곱하기\n",
    "튜플의 곱하기(반복) 예를 보여 준다."
   ]
  },
  {
   "cell_type": "code",
   "execution_count": 7,
   "id": "85f0b9dc",
   "metadata": {
    "ExecuteTime": {
     "end_time": "2023-11-27T12:49:35.041340Z",
     "start_time": "2023-11-27T12:49:35.038327Z"
    }
   },
   "outputs": [
    {
     "data": {
      "text/plain": [
       "(3, 4, 3, 4, 3, 4)"
      ]
     },
     "execution_count": 7,
     "metadata": {},
     "output_type": "execute_result"
    }
   ],
   "source": [
    "t2=(3,4)\n",
    "t3=t2*3\n",
    "t3"
   ]
  },
  {
   "cell_type": "markdown",
   "id": "0a40a051",
   "metadata": {},
   "source": [
    "### 튜플 길이 구하기"
   ]
  },
  {
   "cell_type": "code",
   "execution_count": 8,
   "id": "2c12be2d",
   "metadata": {
    "ExecuteTime": {
     "end_time": "2023-11-27T12:53:14.936920Z",
     "start_time": "2023-11-27T12:53:14.932918Z"
    }
   },
   "outputs": [
    {
     "data": {
      "text/plain": [
       "4"
      ]
     },
     "execution_count": 8,
     "metadata": {},
     "output_type": "execute_result"
    }
   ],
   "source": [
    "t1=(1,2,'a','b')\n",
    "len(t1)"
   ]
  },
  {
   "cell_type": "markdown",
   "id": "f0484af0",
   "metadata": {},
   "source": [
    "튜플은 요솟값을 변경할수 없기 때문에 sort, insert, remove, pop과 같은 내장 함수가 없다."
   ]
  },
  {
   "cell_type": "markdown",
   "id": "e338300f",
   "metadata": {},
   "source": [
    "# 딕셔너리 자료형 (Mapping type)"
   ]
  },
  {
   "cell_type": "markdown",
   "id": "182d5803",
   "metadata": {},
   "source": [
    "사람은 누구든지 \"이름\" = \"홍길동\", \"생일\" = \"몇 월 며칠\" 등과 같은 방식으로 그 사람이 가진 정보를 나타낼 수 있다. 파이썬은 **이러한 대응 관계를 나타낼 수 있는 딕셔너리(dictionary) 자료형**을 가지고 있다.    \n",
    "요즘 사용하는 대부분의 언어도 이러한 대응 관계를 나타내는 자료형을 가지고 있는데 이를 딕셔너리라고 하고, ‘연관 배열(associative array)’또는 ‘해시(hash)’라고도 한다.   "
   ]
  },
  {
   "cell_type": "markdown",
   "id": "c8ced0c4",
   "metadata": {},
   "source": [
    "**[딕셔너리란?]**\n",
    "\n",
    "딕셔너리는 단어 그대로 ‘사전’이라는 뜻이다. 즉 \"people\"이라는 단어에 \"사람\", \"baseball\"이라는 단어에 \"야구\"라는 뜻이 부합되듯이 딕셔너리는 Key와 Value를 한 쌍으로 가지는 자료형이다. 예컨대 Key가 \"baseball\"이라면 Value는 \"야구\"가 될 것이다.    \n",
    "딕셔너리는 리스트나 튜플처럼 순차적으로(sequential) 해당 요솟값을 구하지 않고 **Key를 통해 Value를 얻는다.** \n",
    "baseball이라는 단어의 뜻을 찾기 위해 사전의 내용을 순차적으로 모두 검색하는 것이 아니라 **baseball이라는 단어가 있는 곳만 펼쳐 보는 것**이다."
   ]
  },
  {
   "cell_type": "markdown",
   "id": "d3ae936a",
   "metadata": {
    "ExecuteTime": {
     "end_time": "2023-11-27T09:50:25.788681Z",
     "start_time": "2023-11-27T09:50:25.774469Z"
    }
   },
   "source": [
    "## 딕셔너리의 기본 모습\n",
    "\n",
    "{key1: Value1, key2: Value2, key3: Value3}"
   ]
  },
  {
   "cell_type": "code",
   "execution_count": 6,
   "id": "c9911f91",
   "metadata": {
    "ExecuteTime": {
     "end_time": "2023-11-27T09:52:34.997038Z",
     "start_time": "2023-11-27T09:52:34.994259Z"
    }
   },
   "outputs": [],
   "source": [
    "dic = {'name': 'pey', 'phone': '010-9999-1234', 'birth':'1118'}"
   ]
  },
  {
   "cell_type": "markdown",
   "id": "244f5be5",
   "metadata": {},
   "source": [
    "위에서 Key는 각각 'name', 'phone', 'birth',   \n",
    "각각의 Key에 해당하는 Value는 'pey', '010-9999-1234', '1118'이 된다.\n",
    "\n",
    "|key|value|\n",
    "|:--:|:--:|\n",
    "|name|pey|\n",
    "|phone|010-9999-1234|\n",
    "|birth|1118|"
   ]
  },
  {
   "cell_type": "markdown",
   "id": "37a7924b",
   "metadata": {},
   "source": [
    "다음은 Key로 정숫값 1, Value로 문자열 'hi'를 사용한 예이다."
   ]
  },
  {
   "cell_type": "code",
   "execution_count": 18,
   "id": "5c79b7fc",
   "metadata": {
    "ExecuteTime": {
     "end_time": "2023-11-27T10:23:20.366788Z",
     "start_time": "2023-11-27T10:23:20.364323Z"
    }
   },
   "outputs": [],
   "source": [
    "a={1:'hi'}"
   ]
  },
  {
   "cell_type": "markdown",
   "id": "ab2ad76c",
   "metadata": {},
   "source": [
    "다음 예처럼 Value에 리스트도 넣을 수 있다."
   ]
  },
  {
   "cell_type": "code",
   "execution_count": 19,
   "id": "f57d37b8",
   "metadata": {
    "ExecuteTime": {
     "end_time": "2023-11-27T10:23:23.055775Z",
     "start_time": "2023-11-27T10:23:23.052755Z"
    }
   },
   "outputs": [],
   "source": [
    "a={'a': [1,2,3]}"
   ]
  },
  {
   "cell_type": "markdown",
   "id": "17e4003c",
   "metadata": {},
   "source": [
    "## 딕셔너리 쌍 추가, 삭제하기"
   ]
  },
  {
   "cell_type": "markdown",
   "id": "ad8cc4d2",
   "metadata": {},
   "source": [
    "### 딕셔너리 쌍 추가하기"
   ]
  },
  {
   "cell_type": "code",
   "execution_count": 13,
   "id": "8d5eff1f",
   "metadata": {
    "ExecuteTime": {
     "end_time": "2023-11-27T10:22:16.909262Z",
     "start_time": "2023-11-27T10:22:16.904887Z"
    }
   },
   "outputs": [
    {
     "data": {
      "text/plain": [
       "{1: 'a', 2: 'b'}"
      ]
     },
     "execution_count": 13,
     "metadata": {},
     "output_type": "execute_result"
    }
   ],
   "source": [
    "#{1: 'a'} 딕셔너리에 a[2] = 'b'와 같이 입력하면 딕셔너리 a에 Key와 Value가 각각 2와 'b'인 {2: 'b'} 딕셔너리 쌍이 추가된다.\n",
    "\n",
    "a = {1:'a'}\n",
    "a[2]='b'\n",
    "a"
   ]
  },
  {
   "cell_type": "code",
   "execution_count": 12,
   "id": "4e3918ff",
   "metadata": {
    "ExecuteTime": {
     "end_time": "2023-11-27T10:21:56.604397Z",
     "start_time": "2023-11-27T10:21:56.600263Z"
    }
   },
   "outputs": [
    {
     "data": {
      "text/plain": [
       "{1: 'a', 2: 'b', 'name': 'pey'}"
      ]
     },
     "execution_count": 12,
     "metadata": {},
     "output_type": "execute_result"
    }
   ],
   "source": [
    "#딕셔너리 a에 {'name': 'pey'} 쌍이 추가되었다.\n",
    "\n",
    "a['name'] = 'pey'\n",
    "a"
   ]
  },
  {
   "cell_type": "code",
   "execution_count": 15,
   "id": "96ff79c7",
   "metadata": {
    "ExecuteTime": {
     "end_time": "2023-11-27T10:23:00.445849Z",
     "start_time": "2023-11-27T10:23:00.442154Z"
    }
   },
   "outputs": [
    {
     "data": {
      "text/plain": [
       "{1: 'a', 2: 'b', 3: [1, 2, 3]}"
      ]
     },
     "execution_count": 15,
     "metadata": {},
     "output_type": "execute_result"
    }
   ],
   "source": [
    "#Key는 3, Value는 [1, 2, 3]을 가지는 한 쌍이 또 추가되었다.\n",
    "\n",
    "a[3] = [1,2,3]\n",
    "a"
   ]
  },
  {
   "cell_type": "markdown",
   "id": "86a15324",
   "metadata": {},
   "source": [
    "### 딕셔너리 요소 삭제하기\n",
    "del 함수를 사용해서 del a[key]를 입력하면 지정한 Key에 해당하는 {Key: Value} 쌍이 삭제된다."
   ]
  },
  {
   "cell_type": "code",
   "execution_count": 16,
   "id": "7da7123e",
   "metadata": {
    "ExecuteTime": {
     "end_time": "2023-11-27T12:57:27.510231Z",
     "start_time": "2023-11-27T12:57:27.505338Z"
    },
    "scrolled": true
   },
   "outputs": [
    {
     "data": {
      "text/plain": [
       "{1: 'a', 2: 'b', 'name': 'pey', 3: [1, 2, 3]}"
      ]
     },
     "execution_count": 16,
     "metadata": {},
     "output_type": "execute_result"
    }
   ],
   "source": [
    "a = {1:'a'}\n",
    "a[2]='b'\n",
    "a['name'] = 'pey'\n",
    "a[3] = [1,2,3]\n",
    "a"
   ]
  },
  {
   "cell_type": "code",
   "execution_count": 15,
   "id": "b54d7a1f",
   "metadata": {
    "ExecuteTime": {
     "end_time": "2023-11-27T12:57:09.730760Z",
     "start_time": "2023-11-27T12:57:09.726759Z"
    }
   },
   "outputs": [
    {
     "data": {
      "text/plain": [
       "{2: 'b', 'name': 'pey', 3: [1, 2, 3]}"
      ]
     },
     "execution_count": 15,
     "metadata": {},
     "output_type": "execute_result"
    }
   ],
   "source": [
    "del a[1]\n",
    "a"
   ]
  },
  {
   "cell_type": "markdown",
   "id": "22cb932d",
   "metadata": {},
   "source": [
    "## 딕셔너리를 사용하는 방법\n",
    " \n",
    "‘딕셔너리는 주로 어떤 것을 표현하는 데 사용할까?’라는 의문이 들 것이다.    \n",
    "예를 들어 4명의 사람이 있다고 가정하고 각자의 특기를 표현할 수 있는 좋은 방법에 대해서 생각해 보자.    \n",
    "리스트나 문자열로는 표현하기가 매우 까다로울 것이다.    \n",
    "하지만 파이썬의 딕셔너리를 사용하면 이 상황을 표현하기가 정말 쉽다.   \n",
    "다음 예를 살펴보자."
   ]
  },
  {
   "cell_type": "code",
   "execution_count": 17,
   "id": "9725c73d",
   "metadata": {
    "ExecuteTime": {
     "end_time": "2023-11-27T12:58:51.657515Z",
     "start_time": "2023-11-27T12:58:51.653533Z"
    }
   },
   "outputs": [
    {
     "data": {
      "text/plain": [
       "{'김연아': '피겨스케이팅', '류현진': '야구', '손흥민': '축구', '귀도': '파이썬'}"
      ]
     },
     "execution_count": 17,
     "metadata": {},
     "output_type": "execute_result"
    }
   ],
   "source": [
    "{\"김연아\": \"피겨스케이팅\", \"류현진\": \"야구\", \"손흥민\": \"축구\", \"귀도\": \"파이썬\"}"
   ]
  },
  {
   "cell_type": "markdown",
   "id": "1fe785a9",
   "metadata": {},
   "source": [
    "사람 이름과 특기를 한 쌍으로 묶은 딕셔너리이다. 정말 간편하지 않은가?   \n",
    "지금껏 우리는 딕셔너리를 만드는 방법만 살펴보았는데, 딕셔너리를 제대로 활용하기 위해 알아야 할 것이 더 있다.     \n",
    "지금부터 하나씩 알아보자. "
   ]
  },
  {
   "cell_type": "markdown",
   "id": "57e11fb0",
   "metadata": {
    "ExecuteTime": {
     "end_time": "2023-11-27T12:59:36.950827Z",
     "start_time": "2023-11-27T12:59:36.948069Z"
    }
   },
   "source": [
    "## 딕셔너리에서 Key를 사용해 Value 얻기"
   ]
  },
  {
   "cell_type": "code",
   "execution_count": 20,
   "id": "694781dd",
   "metadata": {
    "ExecuteTime": {
     "end_time": "2023-11-27T13:00:39.743887Z",
     "start_time": "2023-11-27T13:00:39.740207Z"
    }
   },
   "outputs": [
    {
     "data": {
      "text/plain": [
       "10"
      ]
     },
     "execution_count": 20,
     "metadata": {},
     "output_type": "execute_result"
    }
   ],
   "source": [
    "grade={'pey':10, 'julliet':99}\n",
    "grade['pey']"
   ]
  },
  {
   "cell_type": "code",
   "execution_count": 21,
   "id": "0373c096",
   "metadata": {
    "ExecuteTime": {
     "end_time": "2023-11-27T13:01:27.384381Z",
     "start_time": "2023-11-27T13:01:27.380890Z"
    }
   },
   "outputs": [
    {
     "data": {
      "text/plain": [
       "99"
      ]
     },
     "execution_count": 21,
     "metadata": {},
     "output_type": "execute_result"
    }
   ],
   "source": [
    "grade['julliet']"
   ]
  },
  {
   "cell_type": "markdown",
   "id": "02bf4fa4",
   "metadata": {},
   "source": [
    "리스트나 튜플, 문자열은 요솟값을 얻고자 할 때 인덱싱이나 슬라이싱 기법 중 하나를 사용했다.    \n",
    "하지만 딕셔너리는 단 1가지 방법뿐이다. 그것은 바로 Key를 사용해서 Value를 구하는 방법이다.    \n",
    "위 예에서 'pey'라는 Key의 Value를 얻기 위해 grade['pey']를 사용한 것처럼    \n",
    "어떤 **Key의 Value를 얻기 위해서는 '딕셔너리_변수_이름[Key]'를 사용**해야 한다."
   ]
  },
  {
   "cell_type": "code",
   "execution_count": 22,
   "id": "3238b570",
   "metadata": {
    "ExecuteTime": {
     "end_time": "2023-11-27T13:02:39.706391Z",
     "start_time": "2023-11-27T13:02:39.703201Z"
    }
   },
   "outputs": [
    {
     "data": {
      "text/plain": [
       "'a'"
      ]
     },
     "execution_count": 22,
     "metadata": {},
     "output_type": "execute_result"
    }
   ],
   "source": [
    "a={1:'a', 2:'b'}\n",
    "a[1]"
   ]
  },
  {
   "cell_type": "code",
   "execution_count": 23,
   "id": "604c7fd3",
   "metadata": {
    "ExecuteTime": {
     "end_time": "2023-11-27T13:02:43.042662Z",
     "start_time": "2023-11-27T13:02:43.038805Z"
    }
   },
   "outputs": [
    {
     "data": {
      "text/plain": [
       "'b'"
      ]
     },
     "execution_count": 23,
     "metadata": {},
     "output_type": "execute_result"
    }
   ],
   "source": [
    "a[2]"
   ]
  },
  {
   "cell_type": "markdown",
   "id": "c138bf78",
   "metadata": {},
   "source": [
    "먼저 a 변수에 {1: 'a', 2: 'b'} 딕셔너리를 대입하였다. 위 예에서 볼 수 있듯이 a[1]은 'a' 값을 리턴한다.    \n",
    "여기에서 a[1]이 의미하는 것은 리스트나 튜플의 a[1]과는 전혀 다르다.     \n",
    "**딕셔너리 변수에서 [] 안의 숫자 1은 두 번째 요소를 나타내는 것이 아니라 Key에 해당하는 1을 나타낸다.**    \n",
    "\n",
    "앞에서도 말했듯이 **딕셔너리는 리스트나 튜플에 있는 인덱싱 방법을 적용할 수 없다.**     \n",
    "따라서 a[1]은 딕셔너리 {1: 'a', 2: 'b'}에서 Key가 1인 것의 Value인 'a'를 리턴한다. a[2] 역시 마찬가지이다.   \n",
    "\n",
    "이번에는 a라는 변수에 앞의 예에서 사용한 딕셔너리의 Key와 Value를 뒤집어 놓은 딕셔너리를 대입해 보자."
   ]
  },
  {
   "cell_type": "code",
   "execution_count": 24,
   "id": "6a8c821f",
   "metadata": {
    "ExecuteTime": {
     "end_time": "2023-11-27T13:04:09.063714Z",
     "start_time": "2023-11-27T13:04:09.060194Z"
    }
   },
   "outputs": [
    {
     "data": {
      "text/plain": [
       "1"
      ]
     },
     "execution_count": 24,
     "metadata": {},
     "output_type": "execute_result"
    }
   ],
   "source": [
    "a={'a':1, 'b':2}\n",
    "a['a']"
   ]
  },
  {
   "cell_type": "code",
   "execution_count": 25,
   "id": "6d181d0f",
   "metadata": {
    "ExecuteTime": {
     "end_time": "2023-11-27T13:04:23.961939Z",
     "start_time": "2023-11-27T13:04:23.958433Z"
    }
   },
   "outputs": [
    {
     "data": {
      "text/plain": [
       "2"
      ]
     },
     "execution_count": 25,
     "metadata": {},
     "output_type": "execute_result"
    }
   ],
   "source": [
    "a['b']"
   ]
  },
  {
   "cell_type": "markdown",
   "id": "276c412c",
   "metadata": {},
   "source": [
    "역시 a['a'], a['b']처럼 Key를 사용해서 Value를 얻을 수 있다.    \n",
    "정리하면, 딕셔너리 a는 a[Key]로 Key에 해당하는 Value를 얻는다.    \n",
    "다음 예는 이전에 한 번 언급한 딕셔너리인데, Key를 사용해서 Value를 얻는 방법을 잘 보여 준다."
   ]
  },
  {
   "cell_type": "code",
   "execution_count": 28,
   "id": "5e4cf10f",
   "metadata": {
    "ExecuteTime": {
     "end_time": "2023-11-27T13:06:03.368035Z",
     "start_time": "2023-11-27T13:06:03.363672Z"
    }
   },
   "outputs": [
    {
     "data": {
      "text/plain": [
       "'pey'"
      ]
     },
     "execution_count": 28,
     "metadata": {},
     "output_type": "execute_result"
    }
   ],
   "source": [
    "dic={'name':'pey', 'phone':'010-9999-1234','birth':'1118'}\n",
    "dic['name']"
   ]
  },
  {
   "cell_type": "code",
   "execution_count": 29,
   "id": "35f6b24d",
   "metadata": {
    "ExecuteTime": {
     "end_time": "2023-11-27T13:06:05.047696Z",
     "start_time": "2023-11-27T13:06:05.044008Z"
    }
   },
   "outputs": [
    {
     "data": {
      "text/plain": [
       "'010-9999-1234'"
      ]
     },
     "execution_count": 29,
     "metadata": {},
     "output_type": "execute_result"
    }
   ],
   "source": [
    "dic['phone']"
   ]
  },
  {
   "cell_type": "code",
   "execution_count": 30,
   "id": "ad701fdc",
   "metadata": {
    "ExecuteTime": {
     "end_time": "2023-11-27T13:06:10.784516Z",
     "start_time": "2023-11-27T13:06:10.780762Z"
    }
   },
   "outputs": [
    {
     "data": {
      "text/plain": [
       "'1118'"
      ]
     },
     "execution_count": 30,
     "metadata": {},
     "output_type": "execute_result"
    }
   ],
   "source": [
    "dic['birth']"
   ]
  },
  {
   "cell_type": "markdown",
   "id": "b661283d",
   "metadata": {},
   "source": [
    "## 딕셔너리 만들 때 주의할 사항\n",
    "딕셔너리에서 **Key는 고유한 값이므로 중복되는 Key 값을 설정해 놓으면 하나를 제외한 나머지 것들이 모두 무시된다**는 점에 주의해야 한다. 다음 예에서 볼 수 있듯이 동일한 Key가 2개 존재할 경우, 1: 'a' 쌍이 무시된다."
   ]
  },
  {
   "cell_type": "code",
   "execution_count": 31,
   "id": "57bd33ac",
   "metadata": {
    "ExecuteTime": {
     "end_time": "2023-11-27T13:06:45.334458Z",
     "start_time": "2023-11-27T13:06:45.330443Z"
    }
   },
   "outputs": [
    {
     "data": {
      "text/plain": [
       "{1: 'b'}"
      ]
     },
     "execution_count": 31,
     "metadata": {},
     "output_type": "execute_result"
    }
   ],
   "source": [
    "a = {1:'a', 1:'b'}\n",
    "a"
   ]
  },
  {
   "cell_type": "markdown",
   "id": "13ba6ef3",
   "metadata": {},
   "source": [
    "이렇게 Key가 중복되었을 때 1개를 제외한 나머지 Key: Value 값이 모두 무시되는 이유는 Key를 통해서 Value를 얻는 딕셔너리의 특징 때문이다. 즉, **딕셔너리에는 동일한 Key가 중복으로 존재할 수 없다.**     \n",
    "\n",
    "또 1가지 주의해야 할 점은 **Key에 리스트는 쓸 수 없다는 것이다. 하지만 튜플은 Key로 쓸 수 있다.**   \n",
    "\n",
    "**딕셔너리의 Key로 쓸 수 있느냐, 없느냐는 Key가 변하는(mutable) 값인지, 변하지 않는(immutable) 값인지에 달려 있다. \n",
    "리스트는 그 값이 변할 수 있기 때문에 Key로 쓸 수 없다**.   \n",
    "\n",
    "다음 예처럼 리스트를 Key로 설정하면 리스트를 키 값으로 사용할 수 없다는 오류가 발생한다."
   ]
  },
  {
   "cell_type": "code",
   "execution_count": 33,
   "id": "0ef6bed9",
   "metadata": {
    "ExecuteTime": {
     "end_time": "2023-11-27T13:09:21.107175Z",
     "start_time": "2023-11-27T13:09:21.094243Z"
    }
   },
   "outputs": [
    {
     "ename": "TypeError",
     "evalue": "unhashable type: 'list'",
     "output_type": "error",
     "traceback": [
      "\u001b[1;31m---------------------------------------------------------------------------\u001b[0m",
      "\u001b[1;31mTypeError\u001b[0m                                 Traceback (most recent call last)",
      "Cell \u001b[1;32mIn[33], line 3\u001b[0m\n\u001b[0;32m      1\u001b[0m \u001b[38;5;66;03m#리스트는 그 값이 변할 수 있기 때문에 key로 쓸 수 없다. \u001b[39;00m\n\u001b[1;32m----> 3\u001b[0m a\u001b[38;5;241m=\u001b[39m{[\u001b[38;5;241m1\u001b[39m,\u001b[38;5;241m2\u001b[39m]:\u001b[38;5;124m'\u001b[39m\u001b[38;5;124mhi\u001b[39m\u001b[38;5;124m'\u001b[39m}\n",
      "\u001b[1;31mTypeError\u001b[0m: unhashable type: 'list'"
     ]
    }
   ],
   "source": [
    "#리스트는 그 값이 변할 수 있기 때문에 key로 쓸 수 없다. \n",
    "\n",
    "a={[1,2]:'hi'}"
   ]
  },
  {
   "cell_type": "markdown",
   "id": "f02605b0",
   "metadata": {},
   "source": [
    "**단, Value에는 변하는 값이든, 변하지 않는 값이든 아무 값이나 넣을 수 있다.**"
   ]
  },
  {
   "cell_type": "markdown",
   "id": "ac7948a6",
   "metadata": {},
   "source": [
    "## 딕셔너리 관련 함수\n",
    "딕셔너리가 자체적으로 가지고 있는 관련 함수를 사용해 보자."
   ]
  },
  {
   "cell_type": "markdown",
   "id": "b784822d",
   "metadata": {},
   "source": [
    "### Key 리스트 만들기 - keys"
   ]
  },
  {
   "cell_type": "code",
   "execution_count": 35,
   "id": "b9fc28ac",
   "metadata": {
    "ExecuteTime": {
     "end_time": "2023-11-27T13:10:51.536154Z",
     "start_time": "2023-11-27T13:10:51.532740Z"
    }
   },
   "outputs": [
    {
     "data": {
      "text/plain": [
       "dict_keys(['name', 'phone', 'birth'])"
      ]
     },
     "execution_count": 35,
     "metadata": {},
     "output_type": "execute_result"
    }
   ],
   "source": [
    "a={'name':'pey', 'phone':'010-9999-1234', 'birth':'1118'}\n",
    "a.keys()"
   ]
  },
  {
   "cell_type": "markdown",
   "id": "a841224c",
   "metadata": {},
   "source": [
    "dict_keys 객체를 리스트로 변환하려면 다음과 같이 하면 된다."
   ]
  },
  {
   "cell_type": "code",
   "execution_count": 36,
   "id": "45f776f3",
   "metadata": {
    "ExecuteTime": {
     "end_time": "2023-11-27T13:11:56.042929Z",
     "start_time": "2023-11-27T13:11:56.038895Z"
    }
   },
   "outputs": [
    {
     "data": {
      "text/plain": [
       "['name', 'phone', 'birth']"
      ]
     },
     "execution_count": 36,
     "metadata": {},
     "output_type": "execute_result"
    }
   ],
   "source": [
    "list(a.keys())"
   ]
  },
  {
   "cell_type": "markdown",
   "id": "f0bb45bc",
   "metadata": {},
   "source": [
    "### Value 리스트 만들기 - values"
   ]
  },
  {
   "cell_type": "code",
   "execution_count": 37,
   "id": "2e413ab6",
   "metadata": {
    "ExecuteTime": {
     "end_time": "2023-11-27T13:12:17.997778Z",
     "start_time": "2023-11-27T13:12:17.993728Z"
    }
   },
   "outputs": [
    {
     "data": {
      "text/plain": [
       "dict_values(['pey', '010-9999-1234', '1118'])"
      ]
     },
     "execution_count": 37,
     "metadata": {},
     "output_type": "execute_result"
    }
   ],
   "source": [
    "a.values()"
   ]
  },
  {
   "cell_type": "markdown",
   "id": "c18e5356",
   "metadata": {},
   "source": [
    "### Key, Value 쌍 얻기 - items\n",
    "items 함수는 Key와 Value의 쌍을 튜플로 묶은 값을 dict_items 객체로 리턴한다."
   ]
  },
  {
   "cell_type": "code",
   "execution_count": 38,
   "id": "3a182a65",
   "metadata": {
    "ExecuteTime": {
     "end_time": "2023-11-27T13:12:40.304708Z",
     "start_time": "2023-11-27T13:12:40.301201Z"
    }
   },
   "outputs": [
    {
     "data": {
      "text/plain": [
       "dict_items([('name', 'pey'), ('phone', '010-9999-1234'), ('birth', '1118')])"
      ]
     },
     "execution_count": 38,
     "metadata": {},
     "output_type": "execute_result"
    }
   ],
   "source": [
    "a.items()"
   ]
  },
  {
   "cell_type": "markdown",
   "id": "9dbc07d4",
   "metadata": {},
   "source": [
    "### Key: Value 쌍 모두 지우기 - clear"
   ]
  },
  {
   "cell_type": "code",
   "execution_count": 39,
   "id": "48b5c9ac",
   "metadata": {
    "ExecuteTime": {
     "end_time": "2023-11-27T13:13:05.292153Z",
     "start_time": "2023-11-27T13:13:05.288489Z"
    }
   },
   "outputs": [
    {
     "data": {
      "text/plain": [
       "{}"
      ]
     },
     "execution_count": 39,
     "metadata": {},
     "output_type": "execute_result"
    }
   ],
   "source": [
    "a.clear()\n",
    "a"
   ]
  },
  {
   "cell_type": "markdown",
   "id": "2eaed58c",
   "metadata": {},
   "source": [
    "* clear 함수는 딕셔너리 안의 모든 요소를 삭제한다.   \n",
    "* 빈 리스트를 [], 빈 튜플을 ()로 표현하는 것과 마찬가지로 **빈 딕셔너리도 {}로 표현**한다."
   ]
  },
  {
   "cell_type": "markdown",
   "id": "6dbffe22",
   "metadata": {},
   "source": [
    "### Key로 Value 얻기 - get"
   ]
  },
  {
   "cell_type": "code",
   "execution_count": 40,
   "id": "763781f0",
   "metadata": {
    "ExecuteTime": {
     "end_time": "2023-11-27T13:14:13.326874Z",
     "start_time": "2023-11-27T13:14:13.323383Z"
    }
   },
   "outputs": [
    {
     "data": {
      "text/plain": [
       "'pey'"
      ]
     },
     "execution_count": 40,
     "metadata": {},
     "output_type": "execute_result"
    }
   ],
   "source": [
    "a = {'name': 'pey', 'phone': '010-9999-1234', 'birth': '1118'}\n",
    "a.get('name')"
   ]
  },
  {
   "cell_type": "code",
   "execution_count": 41,
   "id": "de6d8b7f",
   "metadata": {
    "ExecuteTime": {
     "end_time": "2023-11-27T13:14:26.817007Z",
     "start_time": "2023-11-27T13:14:26.813269Z"
    }
   },
   "outputs": [
    {
     "data": {
      "text/plain": [
       "'010-9999-1234'"
      ]
     },
     "execution_count": 41,
     "metadata": {},
     "output_type": "execute_result"
    }
   ],
   "source": [
    "a.get('phone')"
   ]
  },
  {
   "cell_type": "markdown",
   "id": "689dbb48",
   "metadata": {},
   "source": [
    "* **get(x) 함수는 x라는 Key에 대응되는 Value를 리턴한다.**   \n",
    "- 앞에서 살펴보았듯이 a.get('name')은 a['name']을 사용했을 때와 동일한 결괏값을 리턴한다.    \n",
    "- 다만, 다음 예제에서 볼 수 있듯이 **a['nokey']처럼 딕셔너리에 존재하지 않는 키로 값을 가져오려고 할 경우**, a['nokey'] 방식은 오류를 발생시키고 **a.get('nokey') 방식은 None을 리턴한다**는 차이가 있다.    \n",
    "- 어떤 것을 사용할 것인지는 여러분의 선택에 달려 있다.   \n",
    "* 여기에서 None은 ‘거짓’이라는 뜻이라고만 알아 두자."
   ]
  },
  {
   "cell_type": "code",
   "execution_count": 42,
   "id": "1fae941f",
   "metadata": {
    "ExecuteTime": {
     "end_time": "2023-11-27T13:16:22.258078Z",
     "start_time": "2023-11-27T13:16:22.253001Z"
    }
   },
   "outputs": [
    {
     "name": "stdout",
     "output_type": "stream",
     "text": [
      "None\n"
     ]
    }
   ],
   "source": [
    "a = {'name':'pey', 'phone':'010-9999-1234', 'birth': '1118'}\n",
    "print(a.get('nokey'))"
   ]
  },
  {
   "cell_type": "code",
   "execution_count": 43,
   "id": "3228c9a8",
   "metadata": {
    "ExecuteTime": {
     "end_time": "2023-11-27T13:16:27.705288Z",
     "start_time": "2023-11-27T13:16:27.701762Z"
    }
   },
   "outputs": [
    {
     "ename": "SyntaxError",
     "evalue": "unterminated string literal (detected at line 1) (3618843751.py, line 1)",
     "output_type": "error",
     "traceback": [
      "\u001b[1;36m  Cell \u001b[1;32mIn[43], line 1\u001b[1;36m\u001b[0m\n\u001b[1;33m    print(a['nokey’])\u001b[0m\n\u001b[1;37m            ^\u001b[0m\n\u001b[1;31mSyntaxError\u001b[0m\u001b[1;31m:\u001b[0m unterminated string literal (detected at line 1)\n"
     ]
    }
   ],
   "source": [
    " print(a['nokey’])"
   ]
  },
  {
   "cell_type": "markdown",
   "id": "6a453d34",
   "metadata": {},
   "source": [
    "- **딕셔너리 안에 찾으려는 Key가 없을 경우, 미리 정해 둔 디폴트 값을 대신 가져오게 하고 싶을 때는 get(x, '디폴트 값')을 사용**하면 편리하다."
   ]
  },
  {
   "cell_type": "code",
   "execution_count": 44,
   "id": "ba357718",
   "metadata": {
    "ExecuteTime": {
     "end_time": "2023-11-27T13:18:10.304858Z",
     "start_time": "2023-11-27T13:18:10.301476Z"
    }
   },
   "outputs": [
    {
     "data": {
      "text/plain": [
       "'foo'"
      ]
     },
     "execution_count": 44,
     "metadata": {},
     "output_type": "execute_result"
    }
   ],
   "source": [
    "a.get('nokey', 'foo')"
   ]
  },
  {
   "cell_type": "markdown",
   "id": "38fa8e0f",
   "metadata": {},
   "source": [
    "### 해당 Key가 딕셔너리 안에 있는지 조사하기 - in"
   ]
  },
  {
   "cell_type": "code",
   "execution_count": 45,
   "id": "91180202",
   "metadata": {
    "ExecuteTime": {
     "end_time": "2023-11-27T13:18:48.367133Z",
     "start_time": "2023-11-27T13:18:48.362572Z"
    }
   },
   "outputs": [
    {
     "data": {
      "text/plain": [
       "True"
      ]
     },
     "execution_count": 45,
     "metadata": {},
     "output_type": "execute_result"
    }
   ],
   "source": [
    "a = {'name':'pey', 'phone':'010-9999-1234', 'birth': '1118'}\n",
    "'name' in a"
   ]
  },
  {
   "cell_type": "code",
   "execution_count": 46,
   "id": "d3abaf97",
   "metadata": {
    "ExecuteTime": {
     "end_time": "2023-11-27T13:18:54.327374Z",
     "start_time": "2023-11-27T13:18:54.323830Z"
    }
   },
   "outputs": [
    {
     "data": {
      "text/plain": [
       "False"
      ]
     },
     "execution_count": 46,
     "metadata": {},
     "output_type": "execute_result"
    }
   ],
   "source": [
    "'email' in a"
   ]
  },
  {
   "cell_type": "markdown",
   "id": "6739b41b",
   "metadata": {},
   "source": [
    "- 'name' 문자열은 a 딕셔너리의 Key 중 하나이다. 따라서 'name' in a를 호출하면 참(True)을 리턴한다. \n",
    "- 이와 반대로 'email'은 a 딕셔너리 안에 존재하지 않는 Key이므로 거짓(False)을 리턴한다."
   ]
  },
  {
   "cell_type": "markdown",
   "id": "b5805bd0",
   "metadata": {},
   "source": [
    "# 집합 자료형 (Set)"
   ]
  },
  {
   "cell_type": "markdown",
   "id": "cf7a5e15",
   "metadata": {},
   "source": [
    "집합 자료형은 다음과 같이 set 키워드를 사용해 만들 수 있다."
   ]
  },
  {
   "cell_type": "code",
   "execution_count": 3,
   "id": "14cb6ca7",
   "metadata": {
    "ExecuteTime": {
     "end_time": "2023-11-27T01:43:39.554459Z",
     "start_time": "2023-11-27T01:43:39.550978Z"
    }
   },
   "outputs": [
    {
     "data": {
      "text/plain": [
       "{1, 2, 3}"
      ]
     },
     "execution_count": 3,
     "metadata": {},
     "output_type": "execute_result"
    }
   ],
   "source": [
    "s1 = set([1,2,3])\n",
    "s1"
   ]
  },
  {
   "cell_type": "markdown",
   "id": "fad55e01",
   "metadata": {},
   "source": [
    "위와 같이 set()의 괄호 안에 리스트를 입력하여 만들거나 다음과 같이 문자열을 입력하여 만들 수도 있다."
   ]
  },
  {
   "cell_type": "code",
   "execution_count": 4,
   "id": "afad6bd1",
   "metadata": {
    "ExecuteTime": {
     "end_time": "2023-11-27T01:44:04.333844Z",
     "start_time": "2023-11-27T01:44:04.330104Z"
    }
   },
   "outputs": [
    {
     "data": {
      "text/plain": [
       "{'H', 'e', 'l', 'o'}"
      ]
     },
     "execution_count": 4,
     "metadata": {},
     "output_type": "execute_result"
    }
   ],
   "source": [
    "s2 = set(\"Hello\")\n",
    "s2"
   ]
  },
  {
   "cell_type": "markdown",
   "id": "52610a3b",
   "metadata": {},
   "source": [
    " 비어 있는 집합 자료형은 s = set()로 만들 수 있다."
   ]
  },
  {
   "cell_type": "markdown",
   "id": "9053bd1e",
   "metadata": {},
   "source": [
    "## 집합 자료형의 특징\n",
    "\n",
    "그런데 위에서 살펴본 set(\"Hello\")의 결과가 좀 이상하지 않은가?    \n",
    "분명 \"Hello\" 문자열로 set 자료형을 만들었는데 생성된 자료형에는 l 문자가 하나 빠져 있고 순서도 뒤죽박죽이다.     \n",
    "그 이유는 set에 다음과 같은 2가지 특징이 있기 때문이다.   \n",
    "\n",
    "- **중복을 허용하지 않는다.**   \n",
    "- **순서가 없다(Unordered).**   \n",
    "> set은 중복을 허용하지 않는 특징 때문에 **데이터의 중복을 제거하기 위한 필터로 종종 사용** 된다.   \n",
    "\n",
    "리스트나 튜플은 순서가 있기(ordered) 때문에 인덱싱을 통해 요솟값을 얻을 수 있지만, set 자료형은 순서가 없기(unordered) 때문에 인덱싱을 통해 요솟값을 얻을 수 없다.    \n",
    "이는 마치 02-5에서 살펴본 딕셔너리와 비슷하다. 딕셔너리 역시 순서가 없는 자료형이므로 인덱싱을 지원하지 않는다.   \n",
    "\n",
    "- **만약 set 자료형에 저장된 값을 인덱싱으로 접근하려면 다음과 같이 리스트나 튜플로 변환한 후에 해야 한다.**"
   ]
  },
  {
   "cell_type": "code",
   "execution_count": 48,
   "id": "eed8435e",
   "metadata": {
    "ExecuteTime": {
     "end_time": "2023-11-27T13:24:03.002529Z",
     "start_time": "2023-11-27T13:24:02.998303Z"
    }
   },
   "outputs": [
    {
     "data": {
      "text/plain": [
       "[1, 2, 3]"
      ]
     },
     "execution_count": 48,
     "metadata": {},
     "output_type": "execute_result"
    }
   ],
   "source": [
    "s1=set([1,2,3])\n",
    "l1=list(s1)\n",
    "l1"
   ]
  },
  {
   "cell_type": "code",
   "execution_count": 49,
   "id": "13f81340",
   "metadata": {
    "ExecuteTime": {
     "end_time": "2023-11-27T13:24:11.644260Z",
     "start_time": "2023-11-27T13:24:11.640826Z"
    }
   },
   "outputs": [
    {
     "data": {
      "text/plain": [
       "1"
      ]
     },
     "execution_count": 49,
     "metadata": {},
     "output_type": "execute_result"
    }
   ],
   "source": [
    "l1[0]"
   ]
  },
  {
   "cell_type": "code",
   "execution_count": 52,
   "id": "b70a8b80",
   "metadata": {
    "ExecuteTime": {
     "end_time": "2023-11-27T13:24:31.960830Z",
     "start_time": "2023-11-27T13:24:31.957092Z"
    }
   },
   "outputs": [
    {
     "data": {
      "text/plain": [
       "(1, 2, 3)"
      ]
     },
     "execution_count": 52,
     "metadata": {},
     "output_type": "execute_result"
    }
   ],
   "source": [
    "t1=tuple(s1)\n",
    "t1"
   ]
  },
  {
   "cell_type": "code",
   "execution_count": 51,
   "id": "d6677a99",
   "metadata": {
    "ExecuteTime": {
     "end_time": "2023-11-27T13:24:28.399969Z",
     "start_time": "2023-11-27T13:24:28.395523Z"
    }
   },
   "outputs": [
    {
     "data": {
      "text/plain": [
       "1"
      ]
     },
     "execution_count": 51,
     "metadata": {},
     "output_type": "execute_result"
    }
   ],
   "source": [
    "t1[0]"
   ]
  },
  {
   "cell_type": "markdown",
   "id": "7a794cb8",
   "metadata": {},
   "source": [
    "## 교집합, 합집합, 차집합 구하기\n",
    "set 자료형을 정말 유용하게 사용하는 경우는 교집합, 합집합, 차집합을 구할 때이다.   \n",
    "먼저 다음과 같이 2개의 set 자료형을 만든 후 따라 해 보자.    \n",
    "s1에는 1부터 6까지의 값, s2에는 4부터 9까지의 값을 주었다."
   ]
  },
  {
   "cell_type": "code",
   "execution_count": 53,
   "id": "5e4179f6",
   "metadata": {
    "ExecuteTime": {
     "end_time": "2023-11-27T13:31:49.302438Z",
     "start_time": "2023-11-27T13:31:49.299833Z"
    }
   },
   "outputs": [],
   "source": [
    "s1 = set([1, 2, 3, 4, 5, 6])\n",
    "s2 = set([4, 5, 6, 7, 8, 9])"
   ]
  },
  {
   "cell_type": "markdown",
   "id": "1605078e",
   "metadata": {},
   "source": [
    "### 교집합 구하기\n",
    "- &, intersection"
   ]
  },
  {
   "cell_type": "code",
   "execution_count": 54,
   "id": "db521690",
   "metadata": {
    "ExecuteTime": {
     "end_time": "2023-11-27T13:32:41.486940Z",
     "start_time": "2023-11-27T13:32:41.483412Z"
    }
   },
   "outputs": [
    {
     "data": {
      "text/plain": [
       "{4, 5, 6}"
      ]
     },
     "execution_count": 54,
     "metadata": {},
     "output_type": "execute_result"
    }
   ],
   "source": [
    "s1&s2"
   ]
  },
  {
   "cell_type": "code",
   "execution_count": 55,
   "id": "8036ca0c",
   "metadata": {
    "ExecuteTime": {
     "end_time": "2023-11-27T13:32:53.328010Z",
     "start_time": "2023-11-27T13:32:53.324840Z"
    }
   },
   "outputs": [
    {
     "data": {
      "text/plain": [
       "{4, 5, 6}"
      ]
     },
     "execution_count": 55,
     "metadata": {},
     "output_type": "execute_result"
    }
   ],
   "source": [
    "s1.intersection(s2)"
   ]
  },
  {
   "cell_type": "markdown",
   "id": "866e8870",
   "metadata": {},
   "source": [
    "### 합집합 구하기\n",
    "- |, union\n",
    "- 중복해서 포함된 값은 1개씩만 표현"
   ]
  },
  {
   "cell_type": "code",
   "execution_count": 56,
   "id": "ddefb43c",
   "metadata": {
    "ExecuteTime": {
     "end_time": "2023-11-27T13:33:42.816136Z",
     "start_time": "2023-11-27T13:33:42.811558Z"
    }
   },
   "outputs": [
    {
     "data": {
      "text/plain": [
       "{1, 2, 3, 4, 5, 6, 7, 8, 9}"
      ]
     },
     "execution_count": 56,
     "metadata": {},
     "output_type": "execute_result"
    }
   ],
   "source": [
    "s1 | s2"
   ]
  },
  {
   "cell_type": "code",
   "execution_count": 57,
   "id": "c47043d6",
   "metadata": {
    "ExecuteTime": {
     "end_time": "2023-11-27T13:43:14.306112Z",
     "start_time": "2023-11-27T13:43:14.301885Z"
    }
   },
   "outputs": [
    {
     "data": {
      "text/plain": [
       "{1, 2, 3, 4, 5, 6, 7, 8, 9}"
      ]
     },
     "execution_count": 57,
     "metadata": {},
     "output_type": "execute_result"
    }
   ],
   "source": [
    "s1.union(s2)"
   ]
  },
  {
   "cell_type": "markdown",
   "id": "16ba203e",
   "metadata": {},
   "source": [
    "### 차집합 구하기\n",
    "* -(빼기), difference"
   ]
  },
  {
   "cell_type": "code",
   "execution_count": 60,
   "id": "d09b9e67",
   "metadata": {
    "ExecuteTime": {
     "end_time": "2023-11-27T13:43:56.399262Z",
     "start_time": "2023-11-27T13:43:56.396275Z"
    }
   },
   "outputs": [
    {
     "data": {
      "text/plain": [
       "{1, 2, 3}"
      ]
     },
     "execution_count": 60,
     "metadata": {},
     "output_type": "execute_result"
    }
   ],
   "source": [
    "s1-s2"
   ]
  },
  {
   "cell_type": "code",
   "execution_count": 59,
   "id": "2c406bcf",
   "metadata": {
    "ExecuteTime": {
     "end_time": "2023-11-27T13:43:51.165363Z",
     "start_time": "2023-11-27T13:43:51.162323Z"
    }
   },
   "outputs": [
    {
     "data": {
      "text/plain": [
       "{7, 8, 9}"
      ]
     },
     "execution_count": 59,
     "metadata": {},
     "output_type": "execute_result"
    }
   ],
   "source": [
    "s2-s1"
   ]
  },
  {
   "cell_type": "code",
   "execution_count": 61,
   "id": "fefd6b06",
   "metadata": {
    "ExecuteTime": {
     "end_time": "2023-11-27T13:44:31.893575Z",
     "start_time": "2023-11-27T13:44:31.890224Z"
    }
   },
   "outputs": [
    {
     "data": {
      "text/plain": [
       "{1, 2, 3}"
      ]
     },
     "execution_count": 61,
     "metadata": {},
     "output_type": "execute_result"
    }
   ],
   "source": [
    "s1.difference(s2)"
   ]
  },
  {
   "cell_type": "code",
   "execution_count": 62,
   "id": "dbec61ad",
   "metadata": {
    "ExecuteTime": {
     "end_time": "2023-11-27T13:44:36.509398Z",
     "start_time": "2023-11-27T13:44:36.506147Z"
    }
   },
   "outputs": [
    {
     "data": {
      "text/plain": [
       "{7, 8, 9}"
      ]
     },
     "execution_count": 62,
     "metadata": {},
     "output_type": "execute_result"
    }
   ],
   "source": [
    "s2.difference(s1)"
   ]
  },
  {
   "cell_type": "markdown",
   "id": "5acef581",
   "metadata": {},
   "source": [
    "## 집합 자료형 관련 함수"
   ]
  },
  {
   "cell_type": "markdown",
   "id": "c98e930a",
   "metadata": {},
   "source": [
    "### 값 1개 추가하기 - add\n",
    "이미 만들어진 set 자료형에 값을 추가할 수 있다. 1개의 값만 추가add할 때는 다음과 같이 하면 된다."
   ]
  },
  {
   "cell_type": "code",
   "execution_count": 63,
   "id": "26ea605b",
   "metadata": {
    "ExecuteTime": {
     "end_time": "2023-11-27T13:45:10.067073Z",
     "start_time": "2023-11-27T13:45:10.062969Z"
    }
   },
   "outputs": [
    {
     "data": {
      "text/plain": [
       "{1, 2, 3, 4}"
      ]
     },
     "execution_count": 63,
     "metadata": {},
     "output_type": "execute_result"
    }
   ],
   "source": [
    "s1=set([1,2,3])\n",
    "s1.add(4)\n",
    "s1"
   ]
  },
  {
   "cell_type": "markdown",
   "id": "101662cc",
   "metadata": {},
   "source": [
    "### 값 여러 개 추가하기 - update\n",
    "여러 개의 값을 한꺼번에 추가(update)할 때는 다음과 같이 하면 된다."
   ]
  },
  {
   "cell_type": "code",
   "execution_count": 64,
   "id": "470d863b",
   "metadata": {
    "ExecuteTime": {
     "end_time": "2023-11-27T13:45:42.847021Z",
     "start_time": "2023-11-27T13:45:42.843846Z"
    }
   },
   "outputs": [
    {
     "data": {
      "text/plain": [
       "{1, 2, 3, 4, 5, 6}"
      ]
     },
     "execution_count": 64,
     "metadata": {},
     "output_type": "execute_result"
    }
   ],
   "source": [
    "s1=set([1,2,3])\n",
    "s1.update([4,5,6])\n",
    "s1"
   ]
  },
  {
   "cell_type": "markdown",
   "id": "aa953652",
   "metadata": {},
   "source": [
    "### 특정 값 제거하기 - remove\n"
   ]
  },
  {
   "cell_type": "code",
   "execution_count": 65,
   "id": "d89f5c38",
   "metadata": {
    "ExecuteTime": {
     "end_time": "2023-11-27T13:46:10.683776Z",
     "start_time": "2023-11-27T13:46:10.680206Z"
    }
   },
   "outputs": [
    {
     "data": {
      "text/plain": [
       "{1, 3}"
      ]
     },
     "execution_count": 65,
     "metadata": {},
     "output_type": "execute_result"
    }
   ],
   "source": [
    "s1=set([1,2,3])\n",
    "s1.remove(2)\n",
    "s1"
   ]
  },
  {
   "cell_type": "markdown",
   "id": "c7cbbeab",
   "metadata": {},
   "source": [
    "# 불 자료형 (True, False, bool)"
   ]
  },
  {
   "cell_type": "markdown",
   "id": "2bdfede6",
   "metadata": {},
   "source": [
    "## 불 자료형은 어떻게 사용할까?\n",
    "다음과 같이 변수 a에는 True, 변수 b에는 False를 지정해 보자."
   ]
  },
  {
   "cell_type": "code",
   "execution_count": 66,
   "id": "7e446c2b",
   "metadata": {
    "ExecuteTime": {
     "end_time": "2023-11-27T13:46:44.631439Z",
     "start_time": "2023-11-27T13:46:44.628969Z"
    }
   },
   "outputs": [],
   "source": [
    "a=True\n",
    "b=False"
   ]
  },
  {
   "cell_type": "markdown",
   "id": "51f1cbd5",
   "metadata": {},
   "source": [
    "- 따옴표로 감싸지 않은 문자열을 변수에 지정해서 오류가 발생할 것 같지만, 잘 실행된다. \n",
    "- **type 함수를 변수 a와 b에 사용하면 두 변수의 자료형이 bool로 지정된 것을 확인**할 수 있다"
   ]
  },
  {
   "cell_type": "code",
   "execution_count": 67,
   "id": "2d376576",
   "metadata": {
    "ExecuteTime": {
     "end_time": "2023-11-27T13:47:17.676785Z",
     "start_time": "2023-11-27T13:47:17.673386Z"
    }
   },
   "outputs": [
    {
     "data": {
      "text/plain": [
       "bool"
      ]
     },
     "execution_count": 67,
     "metadata": {},
     "output_type": "execute_result"
    }
   ],
   "source": [
    "type(a)"
   ]
  },
  {
   "cell_type": "code",
   "execution_count": 68,
   "id": "d20d09da",
   "metadata": {
    "ExecuteTime": {
     "end_time": "2023-11-27T13:47:29.591294Z",
     "start_time": "2023-11-27T13:47:29.587025Z"
    }
   },
   "outputs": [
    {
     "data": {
      "text/plain": [
       "bool"
      ]
     },
     "execution_count": 68,
     "metadata": {},
     "output_type": "execute_result"
    }
   ],
   "source": [
    "type(b)"
   ]
  },
  {
   "cell_type": "markdown",
   "id": "60ed1e0a",
   "metadata": {},
   "source": [
    "- 불 자료형은 **조건문의 리턴값**으로도 사용된다.    \n",
    "- 조건문에 대해서는 if 문에서 자세히 배우겠지만 잠시 살펴보고 넘어가자."
   ]
  },
  {
   "cell_type": "code",
   "execution_count": 71,
   "id": "f1d96ad4",
   "metadata": {
    "ExecuteTime": {
     "end_time": "2023-11-27T13:49:17.309153Z",
     "start_time": "2023-11-27T13:49:17.305159Z"
    }
   },
   "outputs": [
    {
     "data": {
      "text/plain": [
       "True"
      ]
     },
     "execution_count": 71,
     "metadata": {},
     "output_type": "execute_result"
    }
   ],
   "source": [
    "#1 == 1 은 ‘1과 1이 같은가?’를 묻는 조건문이다.    \n",
    "#이런 조건문은 결과로 True 또는 False에 해당하는 불 자료형을 리턴한다.   \n",
    "#1과 1은 같으므로 True를 리턴한다.\n",
    "\n",
    "1 == 1 "
   ]
  },
  {
   "cell_type": "code",
   "execution_count": 70,
   "id": "3dd6d218",
   "metadata": {
    "ExecuteTime": {
     "end_time": "2023-11-27T13:48:58.667443Z",
     "start_time": "2023-11-27T13:48:58.663680Z"
    }
   },
   "outputs": [
    {
     "data": {
      "text/plain": [
       "True"
      ]
     },
     "execution_count": 70,
     "metadata": {},
     "output_type": "execute_result"
    }
   ],
   "source": [
    "#2는 1보다 크므로 2 > 1 조건문은 참이다. 즉, True를 리턴한다.\n",
    "\n",
    "2>1"
   ]
  },
  {
   "cell_type": "code",
   "execution_count": 73,
   "id": "49d0d370",
   "metadata": {
    "ExecuteTime": {
     "end_time": "2023-11-27T13:49:36.968840Z",
     "start_time": "2023-11-27T13:49:36.965650Z"
    }
   },
   "outputs": [
    {
     "data": {
      "text/plain": [
       "False"
      ]
     },
     "execution_count": 73,
     "metadata": {},
     "output_type": "execute_result"
    }
   ],
   "source": [
    "#2는 1보다 작지 않으므로 2 < 1 조건문은 거짓이다. 즉, False를 리턴한다.\n",
    "\n",
    "2<1"
   ]
  },
  {
   "cell_type": "markdown",
   "id": "3b3f6e34",
   "metadata": {},
   "source": [
    "## 자료형의 참과 거짓\n",
    "\n",
    "- 문자열, 리스트, 튜플, 딕셔너리 등의 값이 **비어 있으면(\"\", [], (), {}) 거짓이 되고 비어 있지 않으면 참**이 된다. \n",
    "- **숫자에서는 그 값이 0일 때 거짓**이 된다.\n",
    "- None이 있는데, 이것에 대해서는 뒷부분에서 배우므로 아직은 신경 쓰지 말자. 그저 None은 거짓을 뜻한다는 것만 알아 두자."
   ]
  },
  {
   "cell_type": "markdown",
   "id": "e0fca381",
   "metadata": {},
   "source": [
    "|값|\t참 or 거짓|\n",
    "|:--:|:--:|\n",
    "|\"python\"|\t참|\n",
    "|\"\"|\t거짓|\n",
    "|[1, 2, 3]|\t참|\n",
    "|[]\t|거짓|\n",
    "|(1, 2, 3)|\t참|\n",
    "|()\t|거짓|\n",
    "|{'a': 1}|\t참|\n",
    "|{}|\t거짓|\n",
    "|1|\t참|\n",
    "|0|\t거짓|\n",
    "|None|\t거짓|"
   ]
  },
  {
   "cell_type": "code",
   "execution_count": 77,
   "id": "1b035abe",
   "metadata": {
    "ExecuteTime": {
     "end_time": "2023-11-27T13:55:39.918234Z",
     "start_time": "2023-11-27T13:55:39.914853Z"
    }
   },
   "outputs": [
    {
     "name": "stdout",
     "output_type": "stream",
     "text": [
      "4\n",
      "3\n",
      "2\n",
      "1\n"
     ]
    }
   ],
   "source": [
    "a = [1, 2, 3, 4]\n",
    "while a:\n",
    "    print(a.pop())   \n",
    "    \n",
    "    # Tap 써서 들여쓰기 해야 오류 안남     \n",
    "    #pop()은 리스트의 맨 마지막 요소를 리턴하고 그 요소는 삭제"
   ]
  },
  {
   "cell_type": "markdown",
   "id": "3eb7e412",
   "metadata": {},
   "source": [
    "* while 조건문:\n",
    "    수행할_문장\n",
    "    \n",
    "즉, 위 예를 보면 a가 참인 경우, a.pop()를 계속 실행하여 출력하라는 의미이다.    \n",
    "a.pop() 함수는 리스트 a의 마지막 요소를 끄집어 내는 함수이므로 리스트 안에 요소가 존재하는 한(a가 참인 동안) 마지막 요소를 계속 끄집어 낼 것이다.    \n",
    "결국 더 이상 끄집어 낼 것이 없으면 a가 빈 리스트([])가 되어 거짓이 된다. 따라서 while 문에서 조건문이 거짓이 되므로 while 문을 빠져나가게 된다.    \n",
    "이는 파이썬 프로그래밍에서 매우 자주 사용하는 기법 중 하나이다."
   ]
  },
  {
   "cell_type": "code",
   "execution_count": 79,
   "id": "c7cfee10",
   "metadata": {
    "ExecuteTime": {
     "end_time": "2023-11-27T13:58:13.017761Z",
     "start_time": "2023-11-27T13:58:13.015047Z"
    }
   },
   "outputs": [
    {
     "name": "stdout",
     "output_type": "stream",
     "text": [
      "거짓\n"
     ]
    }
   ],
   "source": [
    "#[]는 앞의 표에서 볼 수 있듯이 비어 있는 리스트이므로 거짓이다. 따라서 \"거짓\"이라는 문자열이 출력된다. \n",
    "\n",
    "if []:\n",
    "    print(\"참\")\n",
    "else:\n",
    "    print(\"거짓\")"
   ]
  },
  {
   "cell_type": "code",
   "execution_count": 80,
   "id": "63fd85c2",
   "metadata": {
    "ExecuteTime": {
     "end_time": "2023-11-27T13:58:35.126340Z",
     "start_time": "2023-11-27T13:58:35.123001Z"
    }
   },
   "outputs": [
    {
     "name": "stdout",
     "output_type": "stream",
     "text": [
      "참\n"
     ]
    }
   ],
   "source": [
    "if[1,2,3]:\n",
    "    print(\"참\")\n",
    "else:\n",
    "    print(\"거짓\")"
   ]
  },
  {
   "cell_type": "markdown",
   "id": "c18aac48",
   "metadata": {},
   "source": [
    "### 불 연산\n",
    "- bool 함수를 사용하면 자료형의 참과 거짓을 보다 정확하게 식별할 수 있다."
   ]
  },
  {
   "cell_type": "code",
   "execution_count": 81,
   "id": "5c941cfa",
   "metadata": {
    "ExecuteTime": {
     "end_time": "2023-11-27T13:59:47.842039Z",
     "start_time": "2023-11-27T13:59:47.837494Z"
    }
   },
   "outputs": [
    {
     "data": {
      "text/plain": [
       "True"
      ]
     },
     "execution_count": 81,
     "metadata": {},
     "output_type": "execute_result"
    }
   ],
   "source": [
    "#'python' 문자열은 비어 있지 않으므로 bool 연산의 결과로 불 자료형인 True를 리턴한다.\n",
    "\n",
    "bool('python')"
   ]
  },
  {
   "cell_type": "code",
   "execution_count": 83,
   "id": "6f6a3d8e",
   "metadata": {
    "ExecuteTime": {
     "end_time": "2023-11-27T14:00:05.811748Z",
     "start_time": "2023-11-27T14:00:05.808017Z"
    }
   },
   "outputs": [
    {
     "data": {
      "text/plain": [
       "False"
      ]
     },
     "execution_count": 83,
     "metadata": {},
     "output_type": "execute_result"
    }
   ],
   "source": [
    "#문자열은 비어 있으므로 bool 연산의 결과로 불 자료형인 False를 리턴한다.\n",
    "\n",
    "bool(\"\")"
   ]
  },
  {
   "cell_type": "code",
   "execution_count": 84,
   "id": "ffddc8c5",
   "metadata": {
    "ExecuteTime": {
     "end_time": "2023-11-27T14:00:14.092261Z",
     "start_time": "2023-11-27T14:00:14.089290Z"
    }
   },
   "outputs": [
    {
     "data": {
      "text/plain": [
       "True"
      ]
     },
     "execution_count": 84,
     "metadata": {},
     "output_type": "execute_result"
    }
   ],
   "source": [
    "bool([1,2,3])"
   ]
  },
  {
   "cell_type": "code",
   "execution_count": 85,
   "id": "a06ee1a0",
   "metadata": {
    "ExecuteTime": {
     "end_time": "2023-11-27T14:00:19.733478Z",
     "start_time": "2023-11-27T14:00:19.730015Z"
    }
   },
   "outputs": [
    {
     "data": {
      "text/plain": [
       "False"
      ]
     },
     "execution_count": 85,
     "metadata": {},
     "output_type": "execute_result"
    }
   ],
   "source": [
    "bool([])"
   ]
  },
  {
   "cell_type": "code",
   "execution_count": 86,
   "id": "c3f8f33f",
   "metadata": {
    "ExecuteTime": {
     "end_time": "2023-11-27T14:00:23.117213Z",
     "start_time": "2023-11-27T14:00:23.113503Z"
    }
   },
   "outputs": [
    {
     "data": {
      "text/plain": [
       "False"
      ]
     },
     "execution_count": 86,
     "metadata": {},
     "output_type": "execute_result"
    }
   ],
   "source": [
    "bool(0)"
   ]
  },
  {
   "cell_type": "code",
   "execution_count": 87,
   "id": "d74bd021",
   "metadata": {
    "ExecuteTime": {
     "end_time": "2023-11-27T14:00:25.990418Z",
     "start_time": "2023-11-27T14:00:25.986925Z"
    }
   },
   "outputs": [
    {
     "data": {
      "text/plain": [
       "True"
      ]
     },
     "execution_count": 87,
     "metadata": {},
     "output_type": "execute_result"
    }
   ],
   "source": [
    "bool(3)"
   ]
  },
  {
   "cell_type": "markdown",
   "id": "76d97c85",
   "metadata": {},
   "source": [
    "# 자료형의 값을 저장하는 공간, 변수"
   ]
  },
  {
   "cell_type": "markdown",
   "id": "7056c68d",
   "metadata": {},
   "source": [
    "## 변수는 어떻게 만들까?\n",
    "- 변수를 만들 때는  =(assignment) 기호를 사용한다.    \n",
    "   **변수_이름 = 변수에_저장할_값**"
   ]
  },
  {
   "cell_type": "code",
   "execution_count": 91,
   "id": "2aef54e0",
   "metadata": {
    "ExecuteTime": {
     "end_time": "2023-11-27T14:03:57.803945Z",
     "start_time": "2023-11-27T14:03:57.801441Z"
    }
   },
   "outputs": [],
   "source": [
    "a=1\n",
    "b=\"python\"\n",
    "c=[1,2,3]"
   ]
  },
  {
   "cell_type": "markdown",
   "id": "2386d643",
   "metadata": {},
   "source": [
    "## 변수란?\n",
    "\n",
    "- 파이썬에서 사용하는 변수는 **객체를 가리키는 것**이라고도 말할 수 있다. \n",
    "- 객체란 우리가 지금까지 보아 온 **자료형의 데이터(값)** 와 같은 것을 의미하는 말이다(객체에 대해서는 05-1절에서 자세하게 공부한다).\n",
    "\n",
    "> a = [1, 2, 3]\n",
    "\n",
    "만약 위 코드처럼 a = [1, 2, 3]이라고 하면 [1, 2, 3] 값을 가지는 리스트 데이터(객체)가 자동으로 메모리에 생성되고    \n",
    "변수 a는 [1, 2, 3] 리스트가 저장된 메모리의 주소를 가리키게 된다.   \n",
    "메모리란 컴퓨터가 프로그램에서 사용하는 데이터를 기억하는 공간을 말한다.   "
   ]
  },
  {
   "cell_type": "code",
   "execution_count": 90,
   "id": "7183f397",
   "metadata": {
    "ExecuteTime": {
     "end_time": "2023-11-27T14:03:10.270399Z",
     "start_time": "2023-11-27T14:03:10.266668Z"
    }
   },
   "outputs": [
    {
     "data": {
      "text/plain": [
       "2226097435008"
      ]
     },
     "execution_count": 90,
     "metadata": {},
     "output_type": "execute_result"
    }
   ],
   "source": [
    "#a 변수가 가리키는 메모리의 주소는 다음과 같이 확인할 수 있다.   \n",
    "\n",
    "a=[1,2,3]\n",
    "id(a)"
   ]
  },
  {
   "cell_type": "markdown",
   "id": "22bcf6ae",
   "metadata": {},
   "source": [
    "- **id는 변수가 가리키고 있는 객체의 주소 값을 리턴하는 파이썬의 내장 함수**이다. \n",
    "- 즉, 여기에서 필자가 만든 변수 a가 가리키는 [1, 2, 3] 리스트의 주소 값은 4303029896이라는 것을 알 수 있다."
   ]
  },
  {
   "cell_type": "markdown",
   "id": "a805dce2",
   "metadata": {},
   "source": [
    "## 리스트를 복사하고자 할 때"
   ]
  },
  {
   "cell_type": "code",
   "execution_count": 92,
   "id": "01ad43b9",
   "metadata": {
    "ExecuteTime": {
     "end_time": "2023-11-27T14:04:48.539559Z",
     "start_time": "2023-11-27T14:04:48.536844Z"
    }
   },
   "outputs": [],
   "source": [
    "a=[1,2,3]\n",
    "b=a"
   ]
  },
  {
   "cell_type": "markdown",
   "id": "ac444e9e",
   "metadata": {},
   "source": [
    "b 변수에 a 변수를 대입하면 어떻게 될까? b와 a는 같은 걸까, 다른 걸까?    \n",
    "결론부터 말하면 b는 a와 완전히 동일하다고 할 수 있다.     \n",
    "다만 [1, 2, 3]이라는 리스트 객체를 참조하는 변수가 a 변수 1개에서 b 변수가 추가되어 2개로 늘어났다는 차이만 있을 뿐이다.   \n",
    "\n",
    "id 함수를 사용하면 이러한 사실을 확인할 수 있다."
   ]
  },
  {
   "cell_type": "code",
   "execution_count": 93,
   "id": "2082b297",
   "metadata": {
    "ExecuteTime": {
     "end_time": "2023-11-27T14:07:11.192652Z",
     "start_time": "2023-11-27T14:07:11.189322Z"
    }
   },
   "outputs": [
    {
     "data": {
      "text/plain": [
       "2226097435008"
      ]
     },
     "execution_count": 93,
     "metadata": {},
     "output_type": "execute_result"
    }
   ],
   "source": [
    "id(a)"
   ]
  },
  {
   "cell_type": "code",
   "execution_count": 94,
   "id": "1db4bcfb",
   "metadata": {
    "ExecuteTime": {
     "end_time": "2023-11-27T14:07:14.113094Z",
     "start_time": "2023-11-27T14:07:14.109833Z"
    }
   },
   "outputs": [
    {
     "data": {
      "text/plain": [
       "2226097435008"
      ]
     },
     "execution_count": 94,
     "metadata": {},
     "output_type": "execute_result"
    }
   ],
   "source": [
    "id(b)"
   ]
  },
  {
   "cell_type": "markdown",
   "id": "d9d35c9d",
   "metadata": {},
   "source": [
    "id(a)의 값이 id(b)의 값과 동일하다는 것을 확인할 수 있다.    \n",
    "즉, a가 가리키는 대상과 b가 가리키는 대상이 동일하다는 것을 알 수 있다.     \n",
    "동일한 객체를 가리키고 있는지에 대해서 판단하는 파이썬 명령어 is를 다음과 같이 실행해도 역시 참을 리턴해 준다."
   ]
  },
  {
   "cell_type": "code",
   "execution_count": 95,
   "id": "ec9f4c6d",
   "metadata": {
    "ExecuteTime": {
     "end_time": "2023-11-27T14:07:52.959336Z",
     "start_time": "2023-11-27T14:07:52.955559Z"
    }
   },
   "outputs": [
    {
     "data": {
      "text/plain": [
       "True"
      ]
     },
     "execution_count": 95,
     "metadata": {},
     "output_type": "execute_result"
    }
   ],
   "source": [
    "a is b ## a와 b가 가리키는 객체가 같을까?"
   ]
  },
  {
   "cell_type": "code",
   "execution_count": 96,
   "id": "d27632c7",
   "metadata": {
    "ExecuteTime": {
     "end_time": "2023-11-27T14:07:59.527371Z",
     "start_time": "2023-11-27T14:07:59.524362Z"
    }
   },
   "outputs": [
    {
     "data": {
      "text/plain": [
       "[1, 4, 3]"
      ]
     },
     "execution_count": 96,
     "metadata": {},
     "output_type": "execute_result"
    }
   ],
   "source": [
    "a[1]=4\n",
    "a"
   ]
  },
  {
   "cell_type": "code",
   "execution_count": 97,
   "id": "c37766ae",
   "metadata": {
    "ExecuteTime": {
     "end_time": "2023-11-27T14:08:23.628038Z",
     "start_time": "2023-11-27T14:08:23.624751Z"
    }
   },
   "outputs": [
    {
     "data": {
      "text/plain": [
       "[1, 4, 3]"
      ]
     },
     "execution_count": 97,
     "metadata": {},
     "output_type": "execute_result"
    }
   ],
   "source": [
    "b"
   ]
  },
  {
   "cell_type": "markdown",
   "id": "72bf00a9",
   "metadata": {},
   "source": [
    "a 리스트의 두 번째 요소를 값 4로 바꾸었더니 a만 바뀌는 것이 아니라 b도 똑같이 바뀌었다.   \n",
    "그 이유는 앞에서 살펴본 것처럼 a, b 모두 동일한 리스트를 가리키고 있기 때문이다.   \n",
    "\n",
    "그렇다면 **b 변수를 생성할 때 a 변수의 값을 가져오면서 a와는 다른 주소를 가리키도록 만들 수는 없을까?**    \n",
    "다음 2가지 방법이 있다."
   ]
  },
  {
   "cell_type": "markdown",
   "id": "7df1adbc",
   "metadata": {},
   "source": [
    "### [:] 이용하기\n",
    "- 리스트 전체를 가리키는 [:]을 사용해서 복사"
   ]
  },
  {
   "cell_type": "code",
   "execution_count": 99,
   "id": "f026966b",
   "metadata": {
    "ExecuteTime": {
     "end_time": "2023-11-27T14:09:31.348508Z",
     "start_time": "2023-11-27T14:09:31.344579Z"
    }
   },
   "outputs": [
    {
     "data": {
      "text/plain": [
       "[1, 4, 3]"
      ]
     },
     "execution_count": 99,
     "metadata": {},
     "output_type": "execute_result"
    }
   ],
   "source": [
    "a=[1,2,3]\n",
    "b=a[:]\n",
    "a[1]=4\n",
    "a"
   ]
  },
  {
   "cell_type": "code",
   "execution_count": 101,
   "id": "ba36f3ae",
   "metadata": {
    "ExecuteTime": {
     "end_time": "2023-11-27T14:10:09.730930Z",
     "start_time": "2023-11-27T14:10:09.727048Z"
    }
   },
   "outputs": [
    {
     "data": {
      "text/plain": [
       "[1, 2, 3]"
      ]
     },
     "execution_count": 101,
     "metadata": {},
     "output_type": "execute_result"
    }
   ],
   "source": [
    "#a 리스트 값을 바꾸더라도 b 리스트에는 아무런 영향이 없다.\n",
    "\n",
    "b"
   ]
  },
  {
   "cell_type": "markdown",
   "id": "41e0a7e1",
   "metadata": {},
   "source": [
    "### copy 모듈 이용하기\n",
    "두 번째 방법은 copy 모듈을 사용하는 것이다. \n",
    "다음 예를 보면 from copy import copy라는 처음 보는 형태의 문장이 나오는데, 이것은 뒤에 설명할 파이썬 모듈 부분에서 자세히 다룬다. 여기에서는 단순히 copy 함수를 쓰기 위해서 사용하는 것이라고만 알아 두자."
   ]
  },
  {
   "cell_type": "code",
   "execution_count": 105,
   "id": "10aeba8e",
   "metadata": {
    "ExecuteTime": {
     "end_time": "2023-11-27T14:11:52.097338Z",
     "start_time": "2023-11-27T14:11:52.094883Z"
    }
   },
   "outputs": [],
   "source": [
    "#b = copy(a)는 b = a[:]과 동일하다.\n",
    "\n",
    "from copy import copy\n",
    "a=[1,2,3]\n",
    "b=copy(a)\n",
    "\n",
    "#두 변수의 값은 같지만, 서로 다른 객체를 가리키고 있는지 다음과 같이 확인해 보자."
   ]
  },
  {
   "cell_type": "code",
   "execution_count": 103,
   "id": "2d40241a",
   "metadata": {
    "ExecuteTime": {
     "end_time": "2023-11-27T14:11:30.646306Z",
     "start_time": "2023-11-27T14:11:30.642784Z"
    }
   },
   "outputs": [
    {
     "data": {
      "text/plain": [
       "False"
      ]
     },
     "execution_count": 103,
     "metadata": {},
     "output_type": "execute_result"
    }
   ],
   "source": [
    "#b is a가 False를 리턴하므로 b와 a가 가리키는 객체는 서로 다르다는 것을 알 수 있다.\n",
    "\n",
    "b is a"
   ]
  },
  {
   "cell_type": "markdown",
   "id": "a1e151fe",
   "metadata": {},
   "source": [
    "## 변수를 만드는 여러 가지 방법"
   ]
  },
  {
   "cell_type": "code",
   "execution_count": 109,
   "id": "9c775680",
   "metadata": {
    "ExecuteTime": {
     "end_time": "2023-11-27T14:13:13.196468Z",
     "start_time": "2023-11-27T14:13:13.194061Z"
    }
   },
   "outputs": [],
   "source": [
    "a,b=('python', 'life')     # 튜플로 a, b에 값을 대입"
   ]
  },
  {
   "cell_type": "code",
   "execution_count": 108,
   "id": "4663ec5b",
   "metadata": {
    "ExecuteTime": {
     "end_time": "2023-11-27T14:13:09.211886Z",
     "start_time": "2023-11-27T14:13:09.208902Z"
    }
   },
   "outputs": [],
   "source": [
    "(a,b)='python', 'life'    #튜플은 괄호를 생략해도 된다."
   ]
  },
  {
   "cell_type": "code",
   "execution_count": 110,
   "id": "2db1ac15",
   "metadata": {
    "ExecuteTime": {
     "end_time": "2023-11-27T14:13:59.026969Z",
     "start_time": "2023-11-27T14:13:59.024152Z"
    }
   },
   "outputs": [],
   "source": [
    "[a,b]=['python', 'life']     #다음처럼 리스트로 변수를 만들 수도 있다."
   ]
  },
  {
   "cell_type": "code",
   "execution_count": 111,
   "id": "74190dda",
   "metadata": {
    "ExecuteTime": {
     "end_time": "2023-11-27T14:14:18.903897Z",
     "start_time": "2023-11-27T14:14:18.900535Z"
    }
   },
   "outputs": [],
   "source": [
    "a = b = 'python'    #여러 개의 변수에 같은 값을 대입할 수도 있다."
   ]
  },
  {
   "cell_type": "code",
   "execution_count": 112,
   "id": "98325e70",
   "metadata": {
    "ExecuteTime": {
     "end_time": "2023-11-27T14:14:41.219104Z",
     "start_time": "2023-11-27T14:14:41.215172Z"
    }
   },
   "outputs": [
    {
     "data": {
      "text/plain": [
       "5"
      ]
     },
     "execution_count": 112,
     "metadata": {},
     "output_type": "execute_result"
    }
   ],
   "source": [
    "a=3\n",
    "b=5\n",
    "a,b = b,a\n",
    "a"
   ]
  },
  {
   "cell_type": "code",
   "execution_count": 113,
   "id": "4247cf99",
   "metadata": {
    "ExecuteTime": {
     "end_time": "2023-11-27T14:14:44.473725Z",
     "start_time": "2023-11-27T14:14:44.470725Z"
    }
   },
   "outputs": [
    {
     "data": {
      "text/plain": [
       "3"
      ]
     },
     "execution_count": 113,
     "metadata": {},
     "output_type": "execute_result"
    }
   ],
   "source": [
    "b"
   ]
  },
  {
   "cell_type": "markdown",
   "id": "a3191742",
   "metadata": {},
   "source": [
    "처음에 a에 값 3, b에는 값 5가 대입되어 있었지만 a, b = b, a 문장을 수행한 후에는 그 값이 서로 바뀌었다는 것을 확인할 수 있다."
   ]
  },
  {
   "cell_type": "markdown",
   "id": "08f8817f",
   "metadata": {},
   "source": [
    "# 제어문"
   ]
  },
  {
   "cell_type": "markdown",
   "id": "a3e2a523",
   "metadata": {},
   "source": [
    "## if문"
   ]
  },
  {
   "cell_type": "markdown",
   "id": "a7f4bc05",
   "metadata": {},
   "source": [
    "if 조건문:    #: -> 블록해줘 (조건문 다음에는 : 꼭!)\n",
    "    수행할_문장1   #들여쓰기 무조건 해야함. 동일한 레벨의 들여쓰기.\n",
    "    수행할_문장2\n",
    "    ...\n",
    "else:\n",
    "    수행할_문장A\n",
    "    수행할_문장B\n",
    "    ...\n",
    "    \n",
    "#boolin 이랑 비교해서 한번 더 보자. "
   ]
  },
  {
   "cell_type": "markdown",
   "id": "2ad7b435",
   "metadata": {},
   "source": [
    "이번에는 조건문에 비교 연산자(<, >, ==, !=, >=, <=)를 쓰는 방법\n",
    "\n",
    "|비교연산자|\t설명|\n",
    "|:--:|:--:|\n",
    "|x < y|\tx가 y보다 작다.|\n",
    "|x > y\t|x가 y보다 크다.|\n",
    "|x == y\t|x와 y가 같다.|\n",
    "|x != y\t|x와 y가 같지 않다.|\n",
    "|x >= y|\tx가 y보다 크거나 같다.|\n",
    "|x <= y\t|x가 y보다 작거나 같다.|"
   ]
  },
  {
   "cell_type": "code",
   "execution_count": 2,
   "id": "84380ead",
   "metadata": {
    "ExecuteTime": {
     "end_time": "2023-11-28T00:30:39.944239Z",
     "start_time": "2023-11-28T00:30:39.938728Z"
    }
   },
   "outputs": [
    {
     "data": {
      "text/plain": [
       "True"
      ]
     },
     "execution_count": 2,
     "metadata": {},
     "output_type": "execute_result"
    }
   ],
   "source": [
    "x=3\n",
    "y=2\n",
    "x>y"
   ]
  },
  {
   "cell_type": "code",
   "execution_count": 3,
   "id": "d72aabae",
   "metadata": {
    "ExecuteTime": {
     "end_time": "2023-11-28T00:30:45.711971Z",
     "start_time": "2023-11-28T00:30:45.708451Z"
    }
   },
   "outputs": [
    {
     "data": {
      "text/plain": [
       "False"
      ]
     },
     "execution_count": 3,
     "metadata": {},
     "output_type": "execute_result"
    }
   ],
   "source": [
    "x<y"
   ]
  },
  {
   "cell_type": "code",
   "execution_count": 5,
   "id": "3c92bbb0",
   "metadata": {
    "ExecuteTime": {
     "end_time": "2023-11-28T00:31:06.555209Z",
     "start_time": "2023-11-28T00:31:06.551144Z"
    }
   },
   "outputs": [
    {
     "data": {
      "text/plain": [
       "False"
      ]
     },
     "execution_count": 5,
     "metadata": {},
     "output_type": "execute_result"
    }
   ],
   "source": [
    "x==y"
   ]
  },
  {
   "cell_type": "code",
   "execution_count": 4,
   "id": "f75b55d2",
   "metadata": {
    "ExecuteTime": {
     "end_time": "2023-11-28T00:30:52.840901Z",
     "start_time": "2023-11-28T00:30:52.837549Z"
    }
   },
   "outputs": [
    {
     "data": {
      "text/plain": [
       "True"
      ]
     },
     "execution_count": 4,
     "metadata": {},
     "output_type": "execute_result"
    }
   ],
   "source": [
    "x!=y"
   ]
  },
  {
   "cell_type": "code",
   "execution_count": 6,
   "id": "1f487537",
   "metadata": {
    "ExecuteTime": {
     "end_time": "2023-11-28T00:32:59.443842Z",
     "start_time": "2023-11-28T00:32:59.439697Z"
    }
   },
   "outputs": [
    {
     "name": "stdout",
     "output_type": "stream",
     "text": [
      "걸어가라\n"
     ]
    }
   ],
   "source": [
    "#만약 3000원 이상의 돈을 가지고 있으면 택시를 타고 가고, 그렇지 않으면 걸어가라.\n",
    "\n",
    "money = 2000\n",
    "if money >= 3000:\n",
    "    print(\"택시를 타고 가라\")\n",
    "else:\n",
    "    print(\"걸어가라\")"
   ]
  },
  {
   "cell_type": "markdown",
   "id": "23290492",
   "metadata": {},
   "source": [
    "### and, or, not"
   ]
  },
  {
   "cell_type": "code",
   "execution_count": 8,
   "id": "d944f89a",
   "metadata": {
    "ExecuteTime": {
     "end_time": "2023-11-28T00:37:18.200256Z",
     "start_time": "2023-11-28T00:37:18.196806Z"
    }
   },
   "outputs": [
    {
     "name": "stdout",
     "output_type": "stream",
     "text": [
      "택시를 타고 가라\n"
     ]
    }
   ],
   "source": [
    "#돈이 3000원 이상 있거나 카드가 있다면 택시를 타고 가고, 그렇지 않으면 걸어가라.\n",
    "\n",
    "money=2000\n",
    "card=True\n",
    "if money>=3000 or card:\n",
    "    print(\"택시를 타고 가라\")\n",
    "else:\n",
    "    print(\"걸어가라\")"
   ]
  },
  {
   "cell_type": "markdown",
   "id": "e1e9e266",
   "metadata": {},
   "source": [
    "### in, not in"
   ]
  },
  {
   "cell_type": "markdown",
   "id": "284f026b",
   "metadata": {},
   "source": [
    "in\tnot in\n",
    "x in 리스트\tx not in 리스트\n",
    "x in 튜플\tx not in 튜플\n",
    "x in 문자열\tx not in 문자"
   ]
  },
  {
   "cell_type": "code",
   "execution_count": 9,
   "id": "a67c3b8a",
   "metadata": {
    "ExecuteTime": {
     "end_time": "2023-11-28T00:39:30.259891Z",
     "start_time": "2023-11-28T00:39:30.256604Z"
    }
   },
   "outputs": [
    {
     "data": {
      "text/plain": [
       "True"
      ]
     },
     "execution_count": 9,
     "metadata": {},
     "output_type": "execute_result"
    }
   ],
   "source": [
    "1 in [1, 2, 3]"
   ]
  },
  {
   "cell_type": "code",
   "execution_count": 10,
   "id": "76dbc327",
   "metadata": {
    "ExecuteTime": {
     "end_time": "2023-11-28T00:39:33.772111Z",
     "start_time": "2023-11-28T00:39:33.768610Z"
    }
   },
   "outputs": [
    {
     "data": {
      "text/plain": [
       "False"
      ]
     },
     "execution_count": 10,
     "metadata": {},
     "output_type": "execute_result"
    }
   ],
   "source": [
    "1 not in [1, 2, 3]"
   ]
  },
  {
   "cell_type": "code",
   "execution_count": 11,
   "id": "16e858a5",
   "metadata": {
    "ExecuteTime": {
     "end_time": "2023-11-28T00:40:13.458297Z",
     "start_time": "2023-11-28T00:40:13.454653Z"
    }
   },
   "outputs": [
    {
     "data": {
      "text/plain": [
       "True"
      ]
     },
     "execution_count": 11,
     "metadata": {},
     "output_type": "execute_result"
    }
   ],
   "source": [
    "'a' in ('a','b','c')  #리스트"
   ]
  },
  {
   "cell_type": "code",
   "execution_count": 12,
   "id": "d26886ed",
   "metadata": {
    "ExecuteTime": {
     "end_time": "2023-11-28T00:40:21.643425Z",
     "start_time": "2023-11-28T00:40:21.639459Z"
    }
   },
   "outputs": [
    {
     "data": {
      "text/plain": [
       "True"
      ]
     },
     "execution_count": 12,
     "metadata": {},
     "output_type": "execute_result"
    }
   ],
   "source": [
    "'j' not in 'python' #문자열"
   ]
  },
  {
   "cell_type": "code",
   "execution_count": 13,
   "id": "7dd82725",
   "metadata": {
    "ExecuteTime": {
     "end_time": "2023-11-28T00:41:25.229641Z",
     "start_time": "2023-11-28T00:41:25.225632Z"
    }
   },
   "outputs": [
    {
     "name": "stdout",
     "output_type": "stream",
     "text": [
      "택시를 타고 가라\n"
     ]
    }
   ],
   "source": [
    "#만약 주머니에 돈이 있으면 택시를 타고 가고, 없으면 걸어가라.\n",
    "\n",
    "pocket=['paper', 'cellphone', 'money']\n",
    "if 'money' in pocket:\n",
    "    print(\"택시를 타고 가라\")\n",
    "else:\n",
    "    print(\"걸어가라\")"
   ]
  },
  {
   "cell_type": "markdown",
   "id": "bfbd04cb",
   "metadata": {},
   "source": [
    "### pass"
   ]
  },
  {
   "cell_type": "markdown",
   "id": "129de0e1",
   "metadata": {},
   "source": [
    "조건문에서 아무 일도 하지 않게 설정하고 싶다면?   \n",
    "가끔 조건문의 참, 거짓에 따라 실행할 행동을 정의할 때나 아무런 일도 하지 않도록 설정하고 싶을 때가 있다. 다음 예를 살펴 보자.    \n",
    "\n",
    "> 주머니에 돈이 있으면 가만히 있고, 주머니에 돈이 없으면 카드를 꺼내라.    \n",
    "\n",
    "이럴 때 사용하는 것이 바로 pass이다. 위 예를 pass를 적용해서 구현해 보자."
   ]
  },
  {
   "cell_type": "code",
   "execution_count": 15,
   "id": "c6de723d",
   "metadata": {
    "ExecuteTime": {
     "end_time": "2023-11-28T00:45:05.665486Z",
     "start_time": "2023-11-28T00:45:05.662540Z"
    }
   },
   "outputs": [],
   "source": [
    "pocket = ['paper', 'money', 'cellphone']\n",
    "if 'money' in pocket:\n",
    "    pass \n",
    "else:\n",
    "    print(\"카드를 꺼내라\")"
   ]
  },
  {
   "cell_type": "markdown",
   "id": "974a24a6",
   "metadata": {},
   "source": [
    "pocket 리스트 안에 money 문자열이 있기 때문에 if 문 다음 문장인 pass가 수행되고 아무런 결괏값도 보여 주지 않는다."
   ]
  },
  {
   "cell_type": "markdown",
   "id": "baee0f94",
   "metadata": {},
   "source": [
    "## 다양한 조건을 판단하는 elif"
   ]
  },
  {
   "cell_type": "markdown",
   "id": "4fc5b0da",
   "metadata": {},
   "source": [
    "주머니에 돈이 있으면 택시를 타고 가고, 주머니에 돈은 없지만 카드가 있으면 택시를 타고 가고, 돈도 없고 카드도 없으면 걸어가라.\n",
    "\n"
   ]
  },
  {
   "cell_type": "code",
   "execution_count": 16,
   "id": "33a01a00",
   "metadata": {
    "ExecuteTime": {
     "end_time": "2023-11-28T00:47:31.034319Z",
     "start_time": "2023-11-28T00:47:31.030454Z"
    }
   },
   "outputs": [
    {
     "name": "stdout",
     "output_type": "stream",
     "text": [
      "택시를 타고 가라\n"
     ]
    }
   ],
   "source": [
    "pocket = ['paper', 'cellphone']\n",
    "card=True\n",
    "if 'money' in pocket:\n",
    "    print(\"택시를 타고가라\")\n",
    "else:\n",
    "    if card:\n",
    "        print(\"택시를 타고 가라\")\n",
    "    else:\n",
    "        print(\"걸어가라\")"
   ]
  },
  {
   "cell_type": "markdown",
   "id": "13a77477",
   "metadata": {},
   "source": [
    "언뜻 보기에도 이해하기 어렵고 산만한 느낌이 든다. 이런 복잡함을 해결하기 위해 파이썬에서는 다중 조건 판단을 가능하게 하는 elif를 사용한다.\n",
    "\n",
    "위 예에 elif를 사용하면 다음과 같이 바꿀 수 있다."
   ]
  },
  {
   "cell_type": "markdown",
   "id": "a9b62818",
   "metadata": {},
   "source": [
    "if 조건문:   \n",
    "    수행할_문장1    \n",
    "    수행할_문장2   \n",
    "    ...      \n",
    "elif 조건문:  \n",
    "    수행할_문장1    \n",
    "    수행할_문장2   \n",
    "    ...   \n",
    "elif 조건문:   \n",
    "    수행할_문장1   \n",
    "    수행할_문장2   \n",
    "    ...   \n",
    "...   \n",
    "else:   \n",
    "   수행할_문장1   \n",
    "   수행할_문장2   \n",
    "   ... "
   ]
  },
  {
   "cell_type": "markdown",
   "id": "0c3c4596",
   "metadata": {},
   "source": [
    "if : 해당 조건  /  elif  : 해당 조건 이외의 또 다른 조건일시에   \n",
    "\n",
    "if 1순위조건:   \n",
    "elif 2순위조건:   \n",
    "elif 3순위조건:   \n",
    ".     \n",
    ".   \n",
    ".   \n",
    "else 그 외:   \n",
    "elif는 else if입니다"
   ]
  },
  {
   "cell_type": "markdown",
   "id": "75882b86",
   "metadata": {},
   "source": [
    "주머니에 돈이 있으면 택시를 타고 가고, 주머니에 돈은 없지만 카드가 있으면 택시를 타고 가고, 돈도 없고 카드도 없으면 걸어가라."
   ]
  },
  {
   "cell_type": "code",
   "execution_count": 17,
   "id": "5762d033",
   "metadata": {
    "ExecuteTime": {
     "end_time": "2023-11-28T00:49:38.437083Z",
     "start_time": "2023-11-28T00:49:38.432814Z"
    }
   },
   "outputs": [
    {
     "name": "stdout",
     "output_type": "stream",
     "text": [
      "택시를 타고 가라\n"
     ]
    }
   ],
   "source": [
    "pocket=['paper', 'cellphone']\n",
    "card=True\n",
    "if 'money' in pocket:\n",
    "    print(\"택시를 타고 가라\")\n",
    "elif card:\n",
    "    print(\"택시를 타고 가라\")\n",
    "else:\n",
    "    print(\"걸어가라\")"
   ]
  },
  {
   "cell_type": "markdown",
   "id": "99e78cf9",
   "metadata": {},
   "source": [
    "### if 문을 한 줄로 작성하기"
   ]
  },
  {
   "cell_type": "code",
   "execution_count": null,
   "id": "4ed86c13",
   "metadata": {},
   "outputs": [],
   "source": []
  },
  {
   "cell_type": "markdown",
   "id": "76bc4949",
   "metadata": {},
   "source": [
    "## 조건부 표현식"
   ]
  },
  {
   "cell_type": "markdown",
   "id": "a2c6a925",
   "metadata": {},
   "source": [
    "다음 코드를 살펴보자. score가 60 이상일 경우 message에 문자열 \"success\", 아닐 경우에는 문자열 \"failure\"를 대입하는 코드이다."
   ]
  },
  {
   "cell_type": "code",
   "execution_count": 23,
   "id": "97edda9f",
   "metadata": {
    "ExecuteTime": {
     "end_time": "2023-11-28T01:15:45.548367Z",
     "start_time": "2023-11-28T01:15:45.545685Z"
    }
   },
   "outputs": [],
   "source": [
    "score=30\n",
    "\n",
    "if score >= 60:\n",
    "    message = \"success\"\n",
    "else:\n",
    "    message = \"failure\""
   ]
  },
  {
   "cell_type": "markdown",
   "id": "8e5635e0",
   "metadata": {},
   "source": [
    "파이썬의 조건부 표현식(conditional expression)을 사용하면 위 코드를 다음과 같이 간단히 표현할 수 있다."
   ]
  },
  {
   "cell_type": "code",
   "execution_count": 24,
   "id": "7da0ff11",
   "metadata": {
    "ExecuteTime": {
     "end_time": "2023-11-28T01:15:48.053386Z",
     "start_time": "2023-11-28T01:15:48.050077Z"
    }
   },
   "outputs": [],
   "source": [
    "message = \"success\" if score >= 60 else \"failure\""
   ]
  },
  {
   "cell_type": "markdown",
   "id": "fb33ed2a",
   "metadata": {},
   "source": [
    "조건부 표현식은 다음과 같이 정의한다.   \n",
    "\n",
    "> 변수 = 조건문이_참인_경우의_값 if 조건문 else 조건문이_거짓인_경우의_값   \n",
    "\n",
    "조건부 표현식은 가독성에 유리하고 한 줄로 작성할 수 있어 활용성이 좋다   "
   ]
  },
  {
   "cell_type": "markdown",
   "id": "c1760b10",
   "metadata": {},
   "source": [
    "## while문"
   ]
  },
  {
   "cell_type": "markdown",
   "id": "7a26e181",
   "metadata": {},
   "source": [
    "문장을 반복해서 수행해야 할 경우 while 문을 사용한다. 그래서 while 문을 ‘반복문’이라고도 부른다.\n",
    "\n",
    "while 조건문:      \n",
    "          수행할_문장1   \n",
    "           수행할_문장2   \n",
    "           수행할_문장3   \n",
    "        ...\n",
    "        \n",
    "        \n",
    "while 문은 조건문이 참인 동안 while 문에 속한 문장들이 반복해서 수행된다.   \n",
    "\n",
    "‘열 번 찍어 안 넘어가는 나무 없다’라는 속담을 파이썬 프로그램으로 만들면 다음과 같다."
   ]
  },
  {
   "cell_type": "code",
   "execution_count": 32,
   "id": "249d515a",
   "metadata": {
    "ExecuteTime": {
     "end_time": "2023-11-28T01:27:54.446725Z",
     "start_time": "2023-11-28T01:27:54.442749Z"
    }
   },
   "outputs": [
    {
     "name": "stdout",
     "output_type": "stream",
     "text": [
      "나무를 1번 찍었습니다.\n",
      "나무를 2번 찍었습니다.\n",
      "나무를 3번 찍었습니다.\n",
      "나무를 4번 찍었습니다.\n",
      "나무를 5번 찍었습니다.\n",
      "나무를 6번 찍었습니다.\n",
      "나무를 7번 찍었습니다.\n",
      "나무를 8번 찍었습니다.\n",
      "나무를 9번 찍었습니다.\n",
      "나무를 10번 찍었습니다.\n",
      "나무 넘어갑니다.\n"
     ]
    }
   ],
   "source": [
    "treeHit = 0\n",
    "while treeHit < 10:\n",
    "    treeHit = treeHit +1\n",
    "    print(\"나무를 %d번 찍었습니다.\" % treeHit)   \n",
    "    if treeHit == 10:\n",
    "        print(\"나무 넘어갑니다.\")\n",
    "        \n",
    "#%d는 ‘문자열 포맷 코드’라고 부른다.\n",
    "#ex. \"I eat %d apples\"%3"
   ]
  },
  {
   "cell_type": "code",
   "execution_count": 33,
   "id": "5ee445cd",
   "metadata": {
    "ExecuteTime": {
     "end_time": "2023-11-28T01:28:15.296302Z",
     "start_time": "2023-11-28T01:28:15.292811Z"
    },
    "scrolled": true
   },
   "outputs": [
    {
     "name": "stdout",
     "output_type": "stream",
     "text": [
      "나무를 2번 찍었습니다.\n",
      "나무를 3번 찍었습니다.\n",
      "나무를 4번 찍었습니다.\n",
      "나무를 5번 찍었습니다.\n",
      "나무를 6번 찍었습니다.\n",
      "나무를 7번 찍었습니다.\n",
      "나무를 8번 찍었습니다.\n",
      "나무를 9번 찍었습니다.\n",
      "나무를 10번 찍었습니다.\n",
      "나무 넘어갑니다.\n"
     ]
    }
   ],
   "source": [
    "treeHit = 1\n",
    "while treeHit < 10:\n",
    "    treeHit = treeHit +1\n",
    "    print(\"나무를 %d번 찍었습니다.\" % treeHit)   \n",
    "    if treeHit == 10:\n",
    "        print(\"나무 넘어갑니다.\")"
   ]
  },
  {
   "cell_type": "markdown",
   "id": "6b7cfb88",
   "metadata": {},
   "source": [
    "## while 문 만들기\n",
    "이번에는 여러 가지 선택지 중 하나를 선택해서 입력받는 예제를 만들어 보자. 먼저 다음과 같이 여러 줄짜리 문자열을 만들자."
   ]
  },
  {
   "cell_type": "code",
   "execution_count": 1,
   "id": "aeefac4d",
   "metadata": {
    "ExecuteTime": {
     "end_time": "2023-11-28T13:07:30.716958Z",
     "start_time": "2023-11-28T13:07:30.713454Z"
    }
   },
   "outputs": [],
   "source": [
    "prompt = \"\"\"\n",
    "1. Add\n",
    "2. Del\n",
    "3. List\n",
    "4. Quit\n",
    "Enter number: \"\"\""
   ]
  },
  {
   "cell_type": "markdown",
   "id": "996ea6ae",
   "metadata": {},
   "source": [
    "이어서 number 변수에 0을 먼저 대입한다. 이렇게 변수를 먼저 설정해 놓지 않으면 다음에 나올 while 문의 조건문인 number != 4에서 변수가 존재하지 않는다는 오류가 발생한다."
   ]
  },
  {
   "cell_type": "code",
   "execution_count": 2,
   "id": "4eddd60d",
   "metadata": {
    "ExecuteTime": {
     "end_time": "2023-11-28T13:07:38.414909Z",
     "start_time": "2023-11-28T13:07:32.538623Z"
    }
   },
   "outputs": [
    {
     "name": "stdout",
     "output_type": "stream",
     "text": [
      "\n",
      "1. Add\n",
      "2. Del\n",
      "3. List\n",
      "4. Quit\n",
      "Enter number: \n",
      "3\n",
      "\n",
      "1. Add\n",
      "2. Del\n",
      "3. List\n",
      "4. Quit\n",
      "Enter number: \n",
      "2\n",
      "\n",
      "1. Add\n",
      "2. Del\n",
      "3. List\n",
      "4. Quit\n",
      "Enter number: \n",
      "4\n"
     ]
    }
   ],
   "source": [
    "number=0\n",
    "\n",
    "while number != 4:\n",
    "    print(prompt)\n",
    "    number = int(input())   "
   ]
  },
  {
   "cell_type": "code",
   "execution_count": null,
   "id": "d5c3a931",
   "metadata": {},
   "outputs": [],
   "source": []
  },
  {
   "cell_type": "code",
   "execution_count": null,
   "id": "38e64706",
   "metadata": {},
   "outputs": [],
   "source": []
  },
  {
   "cell_type": "markdown",
   "id": "61389ff1",
   "metadata": {},
   "source": [
    "## while 문 강제로 빠져나가기 (break)"
   ]
  },
  {
   "cell_type": "code",
   "execution_count": 1,
   "id": "c8b8f95a",
   "metadata": {
    "ExecuteTime": {
     "end_time": "2023-11-28T01:41:11.994637Z",
     "start_time": "2023-11-28T01:41:11.989409Z"
    }
   },
   "outputs": [
    {
     "name": "stdout",
     "output_type": "stream",
     "text": [
      "돈을 받았으니 커피를 줍니다.\n",
      "남은 커피의 양은 9개 입니다.\n",
      "돈을 받았으니 커피를 줍니다.\n",
      "남은 커피의 양은 8개 입니다.\n",
      "돈을 받았으니 커피를 줍니다.\n",
      "남은 커피의 양은 7개 입니다.\n",
      "돈을 받았으니 커피를 줍니다.\n",
      "남은 커피의 양은 6개 입니다.\n",
      "돈을 받았으니 커피를 줍니다.\n",
      "남은 커피의 양은 5개 입니다.\n",
      "돈을 받았으니 커피를 줍니다.\n",
      "남은 커피의 양은 4개 입니다.\n",
      "돈을 받았으니 커피를 줍니다.\n",
      "남은 커피의 양은 3개 입니다.\n",
      "돈을 받았으니 커피를 줍니다.\n",
      "남은 커피의 양은 2개 입니다.\n",
      "돈을 받았으니 커피를 줍니다.\n",
      "남은 커피의 양은 1개 입니다.\n",
      "돈을 받았으니 커피를 줍니다.\n",
      "남은 커피의 양은 0개 입니다.\n",
      "커피가 다 떨어졌습니다. 판매를 중지합니다.\n"
     ]
    }
   ],
   "source": [
    "coffee=10\n",
    "money=300\n",
    "while money:\n",
    "    print(\"돈을 받았으니 커피를 줍니다.\")\n",
    "    coffee=coffee-1\n",
    "    print(\"남은 커피의 양은 %d개 입니다.\" %coffee)\n",
    "    if coffee == 0:\n",
    "        print(\"커피가 다 떨어졌습니다. 판매를 중지합니다.\")\n",
    "        break"
   ]
  },
  {
   "cell_type": "code",
   "execution_count": null,
   "id": "57416aca",
   "metadata": {
    "ExecuteTime": {
     "start_time": "2023-11-28T01:44:06.773Z"
    }
   },
   "outputs": [
    {
     "name": "stdout",
     "output_type": "stream",
     "text": [
      "돈을 넣어주세요: 200\n",
      "돈을 다시 돌려주고 커피를 주지 않습니다.\n",
      "남은 커피의 양은 10개 입니다.\n",
      "돈을 넣어주세요: 1000\n",
      "거스름돈 700를 주고 커피를 줍니다.\n"
     ]
    }
   ],
   "source": [
    "#coffee.py\n",
    "#IDLE 에디터를 사용해서 작성\n",
    "\n",
    "coffee=10\n",
    "\n",
    "while True:\n",
    "    money=int(input(\"돈을 넣어주세요: \"))\n",
    "    \n",
    "    if money == 300:\n",
    "        print(\"커피를 줍니다.\")\n",
    "        coffee=coffee-1\n",
    "        \n",
    "    elif money>300:\n",
    "        print(\"거스름돈 %d를 주고 커피를 줍니다.\" % (money -300))\n",
    "        coffee=coffee-1\n",
    "        \n",
    "    else:\n",
    "        print(\"돈을 다시 돌려주고 커피를 주지 않습니다.\")\n",
    "        print(\"남은 커피의 양은 %d개 입니다.\" % coffee)\n",
    "        \n",
    "    if coffee == 0:\n",
    "        print(\"커피가 다 떨어졌습니다. 판매를 중지합니다.\")\n",
    "        break"
   ]
  },
  {
   "cell_type": "markdown",
   "id": "0a247af7",
   "metadata": {},
   "source": [
    "## while 문의 맨 처음으로 돌아가기"
   ]
  },
  {
   "cell_type": "markdown",
   "id": "aeeb12fc",
   "metadata": {},
   "source": [
    "while 문 안의 문장을 수행할 때 입력 조건을 검사해서 조건에 맞지 않으면 while 문을 빠져나간다. 그런데 프로그래밍을 하다 보면 while 문을 빠져나가지 않고 while 문의 맨 처음(조건문)으로 다시 돌아가게 만들고 싶은 경우가 생기게 된다. 이때 사용하는 것이 바로 continue 문이다.    "
   ]
  },
  {
   "cell_type": "code",
   "execution_count": 2,
   "id": "24d57daa",
   "metadata": {
    "ExecuteTime": {
     "end_time": "2023-11-28T02:09:17.203025Z",
     "start_time": "2023-11-28T02:09:17.199257Z"
    }
   },
   "outputs": [
    {
     "name": "stdout",
     "output_type": "stream",
     "text": [
      "1\n",
      "3\n",
      "5\n",
      "7\n",
      "9\n"
     ]
    }
   ],
   "source": [
    "#1부터 10까지의 숫자 중에서 홀수만 출력하는 것을 while 문을 사용해서 작성\n",
    "\n",
    "a = 0\n",
    "\n",
    "while a < 10:\n",
    "    a = a + 1\n",
    "    \n",
    "    if a % 2 == 0:            #% 나머지, // 몫\n",
    "        continue              #나머지가 0인 짝수는 다시 처음으로 돌아간다.\n",
    "    print(a)            #홀수일 경우"
   ]
  },
  {
   "cell_type": "code",
   "execution_count": 1,
   "id": "dc37f754",
   "metadata": {
    "ExecuteTime": {
     "end_time": "2023-12-04T03:46:57.561044Z",
     "start_time": "2023-12-04T03:46:57.555560Z"
    }
   },
   "outputs": [
    {
     "name": "stdout",
     "output_type": "stream",
     "text": [
      "1\n",
      "3\n",
      "5\n",
      "7\n",
      "9\n"
     ]
    }
   ],
   "source": [
    "#a가 1부터 시작한다면? => 값을 1로 바꿨을 뿐인데 코드가 달라진다.\n",
    "\n",
    "a = 1\n",
    "while a <= 10:\n",
    "    if a % 2 == 0:\n",
    "        a = a + 1\n",
    "        continue\n",
    "    print(a)\n",
    "    a = a + 1"
   ]
  },
  {
   "cell_type": "markdown",
   "id": "36326df5",
   "metadata": {},
   "source": [
    "## 무한 루프"
   ]
  },
  {
   "cell_type": "markdown",
   "id": "c5ed9ee3",
   "metadata": {},
   "source": [
    "이번에는 무한 루프(endless loop)에 대해 알아보자. 무한 루프란 무한히 반복한다는 의미이다. 우리가 사용하는 일반 프로그램 중에서 무한 루프 개념을 사용하지 않는 프로그램은 거의 없다. 그만큼 자주 사용한다는 뜻이다.    \n",
    "\n",
    "파이썬에서 무한 루프는 while 문으로 구현할 수 있다. 다음은 무한 루프의 기본 형태이다."
   ]
  },
  {
   "cell_type": "markdown",
   "id": "a574ee06",
   "metadata": {},
   "source": [
    "while True:    \n",
    "    수행할_문장1   \n",
    "    수행할_문장2   \n",
    "    ... "
   ]
  },
  {
   "cell_type": "code",
   "execution_count": null,
   "id": "4c631c64",
   "metadata": {
    "ExecuteTime": {
     "start_time": "2023-11-28T02:16:39.173Z"
    }
   },
   "outputs": [
    {
     "name": "stderr",
     "output_type": "stream",
     "text": [
      "IOPub data rate exceeded.\n",
      "The notebook server will temporarily stop sending output\n",
      "to the client in order to avoid crashing it.\n",
      "To change this limit, set the config variable\n",
      "`--NotebookApp.iopub_data_rate_limit`.\n",
      "\n",
      "Current values:\n",
      "NotebookApp.iopub_data_rate_limit=1000000.0 (bytes/sec)\n",
      "NotebookApp.rate_limit_window=3.0 (secs)\n",
      "\n"
     ]
    }
   ],
   "source": [
    "while True:\n",
    "    print(\"Ctrl+C를 눌러야 while문을 빠져나갈 수 있습니다.\")\n",
    "\n",
    "    #서버를 너무 오래 돌려서 알아서 제한된 것"
   ]
  },
  {
   "cell_type": "markdown",
   "id": "ea4d8a9d",
   "metadata": {},
   "source": [
    "# for문"
   ]
  },
  {
   "cell_type": "markdown",
   "id": "489fde23",
   "metadata": {},
   "source": [
    "파이썬의 직관적인 특징을 가장 잘 보여 주는 것이 바로 이 for 문이다. while 문과 비슷한 반복문인 for 문은 문장 구조가 한눈에 들어온다는 장점이 있다. for 문을 잘 사용하면 프로그래밍이 즐거워질 것이다."
   ]
  },
  {
   "cell_type": "markdown",
   "id": "37fba246",
   "metadata": {},
   "source": [
    "for 변수 in 리스트(또는 튜플, 문자열):    \n",
    "    수행할_문장1    \n",
    "    수행할_문장2    \n",
    "    ... \n",
    "     \n",
    "     \n",
    "시퀀셜 객체가 들어감    \n",
    "이 객체 안에 있는 값을 뽑아서 아래에 있는 문장을 수행해줘"
   ]
  },
  {
   "cell_type": "markdown",
   "id": "1b031377",
   "metadata": {},
   "source": [
    "## 예제를 통해 for 문 이해하기"
   ]
  },
  {
   "cell_type": "markdown",
   "id": "37a31275",
   "metadata": {},
   "source": [
    "### 전형적인 for 문"
   ]
  },
  {
   "cell_type": "code",
   "execution_count": 1,
   "id": "77a3c936",
   "metadata": {
    "ExecuteTime": {
     "end_time": "2023-11-28T02:25:18.870957Z",
     "start_time": "2023-11-28T02:25:18.865940Z"
    }
   },
   "outputs": [
    {
     "name": "stdout",
     "output_type": "stream",
     "text": [
      "one\n",
      "two\n",
      "three\n"
     ]
    }
   ],
   "source": [
    "test_list=['one', 'two', 'three']      #list 객체 -> 이 객체 시퀀셜 안에서 뽑아 오는 것\n",
    "for i in test_list:\n",
    "    print(i)"
   ]
  },
  {
   "cell_type": "markdown",
   "id": "2b5f2731",
   "metadata": {},
   "source": [
    "### 다양한 for 문의 사용"
   ]
  },
  {
   "cell_type": "code",
   "execution_count": 2,
   "id": "6debe55e",
   "metadata": {
    "ExecuteTime": {
     "end_time": "2023-11-28T02:28:45.381066Z",
     "start_time": "2023-11-28T02:28:45.376676Z"
    }
   },
   "outputs": [
    {
     "name": "stdout",
     "output_type": "stream",
     "text": [
      "3\n",
      "7\n",
      "11\n"
     ]
    }
   ],
   "source": [
    "a=[(1,2), (3,4),(5,6)]\n",
    "for (first, last) in a:\n",
    "    print(first+last)"
   ]
  },
  {
   "cell_type": "markdown",
   "id": "5b8690bb",
   "metadata": {},
   "source": [
    "### for 문의 응용"
   ]
  },
  {
   "cell_type": "markdown",
   "id": "46e7ddd9",
   "metadata": {},
   "source": [
    "총 5명의 학생이 시험을 보았는데 시험 점수가 60점 이상이면 합격이고 그렇지 않으면 불합격이다.    \n",
    "합격인지, 불합격인지 결과를 보여 주시오.      \n",
    "\n",
    "먼저 학생 5명의 시험 점수를 리스트로 표현해 보자."
   ]
  },
  {
   "cell_type": "code",
   "execution_count": 3,
   "id": "964ac90a",
   "metadata": {
    "ExecuteTime": {
     "end_time": "2023-11-28T02:31:16.633443Z",
     "start_time": "2023-11-28T02:31:16.630498Z"
    }
   },
   "outputs": [],
   "source": [
    "marks = [90, 25, 67, 45, 80]"
   ]
  },
  {
   "cell_type": "markdown",
   "id": "28dbdad7",
   "metadata": {},
   "source": [
    "1번 학생은 90점이고 5번 학생은 80점이다.   \n",
    "\n",
    "이런 점수를 차례로 검사해서 합격했는지, 불합격했는지 통보해 주는 프로그램을 만들어 보자.    \n",
    "IDLE 에디터로 작성하자."
   ]
  },
  {
   "cell_type": "code",
   "execution_count": 8,
   "id": "2a851dc4",
   "metadata": {
    "ExecuteTime": {
     "end_time": "2023-11-28T02:36:11.101058Z",
     "start_time": "2023-11-28T02:36:11.096966Z"
    }
   },
   "outputs": [
    {
     "name": "stdout",
     "output_type": "stream",
     "text": [
      "1번 학생은 합격입니다.\n",
      "2번 학생은 불합격입니다.\n",
      "3번 학생은 합격입니다.\n",
      "4번 학생은 불합격입니다.\n",
      "5번 학생은 합격입니다.\n"
     ]
    }
   ],
   "source": [
    "# marks1.py\n",
    "\n",
    "marks = [90, 25, 67, 45, 80]   # 학생들의 시험 점수 리스트\n",
    "\n",
    "number = 0   # 학생에게 붙여 줄 번호\n",
    "for mark in marks:   # 90, 25, 67, 45, 80을 순서대로 mark에 대입\n",
    "    number = number +1 \n",
    "    if mark >= 60: \n",
    "        print(\"%d번 학생은 합격입니다.\" % number)\n",
    "    else: \n",
    "        print(\"%d번 학생은 불합격입니다.\" % number)"
   ]
  },
  {
   "cell_type": "markdown",
   "id": "2d980201",
   "metadata": {},
   "source": [
    "## for 문과 continue 문"
   ]
  },
  {
   "cell_type": "markdown",
   "id": "70a23049",
   "metadata": {},
   "source": [
    "while 문에서 살펴본 continue 문을 for 문에서도 사용할 수 있다.    \n",
    "즉, for 문 안의 문장을 수행하는 도중 continue 문을 만나면 for 문의 처음으로 돌아가게 된다.   \n",
    "\n",
    "앞에서 for 문 응용 예제를 그대로 사용해서 60점 이상인 사람에게는 축하 메시지를 보내고 나머지 사람에게는 아무런 메시지도 전하지 않는 프로그램을 IDLE 에디터로 작성해 보자."
   ]
  },
  {
   "cell_type": "code",
   "execution_count": 10,
   "id": "69427ead",
   "metadata": {
    "ExecuteTime": {
     "end_time": "2023-11-28T02:38:23.552296Z",
     "start_time": "2023-11-28T02:38:23.548026Z"
    }
   },
   "outputs": [
    {
     "name": "stdout",
     "output_type": "stream",
     "text": [
      "1번 학생 축하합니다. 합격입니다. \n",
      "3번 학생 축하합니다. 합격입니다. \n",
      "5번 학생 축하합니다. 합격입니다. \n"
     ]
    }
   ],
   "source": [
    "# marks2.py\n",
    "\n",
    "marks = [90, 25, 67, 45, 80]\n",
    "\n",
    "number = 0 \n",
    "for mark in marks: \n",
    "    number = number +1 \n",
    "    if mark < 60:\n",
    "        continue \n",
    "    print(\"%d번 학생 축하합니다. 합격입니다. \" % number)"
   ]
  },
  {
   "cell_type": "markdown",
   "id": "dd67abf6",
   "metadata": {},
   "source": [
    "## for 문과 함께 자주 사용하는 range 함수"
   ]
  },
  {
   "cell_type": "markdown",
   "id": "19da98f2",
   "metadata": {},
   "source": [
    "for 문은 숫자 리스트를 자동으로 만들어 주는 range 함수와 함께 사용하는 경우가 많다. 다음은 range 함수의 간단한 사용법이다."
   ]
  },
  {
   "cell_type": "code",
   "execution_count": 11,
   "id": "acbdbe2f",
   "metadata": {
    "ExecuteTime": {
     "end_time": "2023-11-28T02:41:44.014596Z",
     "start_time": "2023-11-28T02:41:44.008882Z"
    }
   },
   "outputs": [
    {
     "data": {
      "text/plain": [
       "range(0, 10)"
      ]
     },
     "execution_count": 11,
     "metadata": {},
     "output_type": "execute_result"
    }
   ],
   "source": [
    "a=range(10)\n",
    "a"
   ]
  },
  {
   "cell_type": "code",
   "execution_count": 12,
   "id": "bead02c9",
   "metadata": {
    "ExecuteTime": {
     "end_time": "2023-11-28T02:41:53.117823Z",
     "start_time": "2023-11-28T02:41:53.114146Z"
    }
   },
   "outputs": [
    {
     "data": {
      "text/plain": [
       "range(1, 11)"
      ]
     },
     "execution_count": 12,
     "metadata": {},
     "output_type": "execute_result"
    }
   ],
   "source": [
    "a=range(1,11)\n",
    "a"
   ]
  },
  {
   "cell_type": "markdown",
   "id": "92df6005",
   "metadata": {},
   "source": [
    "### range 함수의 예시 살펴보기\n",
    "\n",
    "for와 range 함수를 사용하면 1부터 10까지 더하는 것을 다음과 같이 쉽게 구현할 수 있다."
   ]
  },
  {
   "cell_type": "code",
   "execution_count": 16,
   "id": "d5f3d243",
   "metadata": {
    "ExecuteTime": {
     "end_time": "2023-11-28T02:44:00.888574Z",
     "start_time": "2023-11-28T02:44:00.884574Z"
    }
   },
   "outputs": [
    {
     "ename": "IndentationError",
     "evalue": "unexpected indent (1539353854.py, line 4)",
     "output_type": "error",
     "traceback": [
      "\u001b[1;36m  Cell \u001b[1;32mIn[16], line 4\u001b[1;36m\u001b[0m\n\u001b[1;33m    for i in range(1, 11):\u001b[0m\n\u001b[1;37m    ^\u001b[0m\n\u001b[1;31mIndentationError\u001b[0m\u001b[1;31m:\u001b[0m unexpected indent\n"
     ]
    }
   ],
   "source": [
    "add = 0 \n",
    "    for i in range(1, 11): \n",
    "    add = add + i \n",
    "\n",
    "print(add)"
   ]
  },
  {
   "cell_type": "code",
   "execution_count": 18,
   "id": "13fd355a",
   "metadata": {
    "ExecuteTime": {
     "end_time": "2023-11-28T02:44:17.459236Z",
     "start_time": "2023-11-28T02:44:17.455236Z"
    }
   },
   "outputs": [
    {
     "name": "stdout",
     "output_type": "stream",
     "text": [
      "1번 학생 축하합니다. 합격입니다.\n",
      "3번 학생 축하합니다. 합격입니다.\n",
      "5번 학생 축하합니다. 합격입니다.\n"
     ]
    }
   ],
   "source": [
    "# marks3.py\n",
    "\n",
    "marks = [90, 25, 67, 45, 80]\n",
    "\n",
    "for number in range(len(marks)):\n",
    "    if marks[number] < 60: \n",
    "        continue\n",
    "        \n",
    "    print(\"%d번 학생 축하합니다. 합격입니다.\" % (number+1))"
   ]
  },
  {
   "cell_type": "markdown",
   "id": "6c78f61f",
   "metadata": {},
   "source": [
    "### for와 range를 이용한 구구단"
   ]
  },
  {
   "cell_type": "markdown",
   "id": "252419bc",
   "metadata": {},
   "source": [
    "for와 range 함수를 사용하면 소스 코드 단 4줄만으로 구구단을 출력할 수 있다. 들여쓰기에 주의하면서 입력해 보자."
   ]
  },
  {
   "cell_type": "code",
   "execution_count": null,
   "id": "1e8581eb",
   "metadata": {},
   "outputs": [],
   "source": [
    "# 이중 for문 그릴 수 있어야 함"
   ]
  },
  {
   "cell_type": "code",
   "execution_count": 7,
   "id": "3b011f76",
   "metadata": {
    "ExecuteTime": {
     "end_time": "2023-11-29T00:29:58.378373Z",
     "start_time": "2023-11-29T00:29:58.375563Z"
    },
    "scrolled": true
   },
   "outputs": [
    {
     "name": "stdout",
     "output_type": "stream",
     "text": [
      "2\n",
      "3\n",
      "4\n",
      "5\n",
      "6\n",
      "7\n",
      "8\n",
      "9\n"
     ]
    }
   ],
   "source": [
    "# x 뽑기\n",
    "for i in range(2, 10):\n",
    "        print(i)"
   ]
  },
  {
   "cell_type": "code",
   "execution_count": 8,
   "id": "ca3503eb",
   "metadata": {
    "ExecuteTime": {
     "end_time": "2023-11-29T00:32:00.556227Z",
     "start_time": "2023-11-29T00:32:00.552782Z"
    }
   },
   "outputs": [
    {
     "name": "stdout",
     "output_type": "stream",
     "text": [
      "2\n",
      "2\n",
      "3\n",
      "4\n",
      "5\n",
      "6\n",
      "7\n",
      "8\n",
      "9\n",
      "==================================================\n",
      "3\n",
      "2\n",
      "3\n",
      "4\n",
      "5\n",
      "6\n",
      "7\n",
      "8\n",
      "9\n",
      "==================================================\n",
      "4\n",
      "2\n",
      "3\n",
      "4\n",
      "5\n",
      "6\n",
      "7\n",
      "8\n",
      "9\n",
      "==================================================\n",
      "5\n",
      "2\n",
      "3\n",
      "4\n",
      "5\n",
      "6\n",
      "7\n",
      "8\n",
      "9\n",
      "==================================================\n",
      "6\n",
      "2\n",
      "3\n",
      "4\n",
      "5\n",
      "6\n",
      "7\n",
      "8\n",
      "9\n",
      "==================================================\n",
      "7\n",
      "2\n",
      "3\n",
      "4\n",
      "5\n",
      "6\n",
      "7\n",
      "8\n",
      "9\n",
      "==================================================\n",
      "8\n",
      "2\n",
      "3\n",
      "4\n",
      "5\n",
      "6\n",
      "7\n",
      "8\n",
      "9\n",
      "==================================================\n",
      "9\n",
      "2\n",
      "3\n",
      "4\n",
      "5\n",
      "6\n",
      "7\n",
      "8\n",
      "9\n",
      "==================================================\n"
     ]
    }
   ],
   "source": [
    "for i in range(2, 10):\n",
    "        print(i)     #print를 계속 넣는다. Logging. 중간중간 진행사항 체크.\n",
    "        for j in range(2, 10):     #앞에 for문과 겹치니까 j\n",
    "            print(j)\n",
    "        print('=' * 50)"
   ]
  },
  {
   "cell_type": "code",
   "execution_count": 9,
   "id": "73157f1c",
   "metadata": {
    "ExecuteTime": {
     "end_time": "2023-11-29T00:32:37.592402Z",
     "start_time": "2023-11-29T00:32:37.588724Z"
    }
   },
   "outputs": [
    {
     "name": "stdout",
     "output_type": "stream",
     "text": [
      "2\n",
      "y 2\n",
      "y 3\n",
      "y 4\n",
      "y 5\n",
      "y 6\n",
      "y 7\n",
      "y 8\n",
      "y 9\n",
      "==================================================\n",
      "3\n",
      "y 2\n",
      "y 3\n",
      "y 4\n",
      "y 5\n",
      "y 6\n",
      "y 7\n",
      "y 8\n",
      "y 9\n",
      "==================================================\n",
      "4\n",
      "y 2\n",
      "y 3\n",
      "y 4\n",
      "y 5\n",
      "y 6\n",
      "y 7\n",
      "y 8\n",
      "y 9\n",
      "==================================================\n",
      "5\n",
      "y 2\n",
      "y 3\n",
      "y 4\n",
      "y 5\n",
      "y 6\n",
      "y 7\n",
      "y 8\n",
      "y 9\n",
      "==================================================\n",
      "6\n",
      "y 2\n",
      "y 3\n",
      "y 4\n",
      "y 5\n",
      "y 6\n",
      "y 7\n",
      "y 8\n",
      "y 9\n",
      "==================================================\n",
      "7\n",
      "y 2\n",
      "y 3\n",
      "y 4\n",
      "y 5\n",
      "y 6\n",
      "y 7\n",
      "y 8\n",
      "y 9\n",
      "==================================================\n",
      "8\n",
      "y 2\n",
      "y 3\n",
      "y 4\n",
      "y 5\n",
      "y 6\n",
      "y 7\n",
      "y 8\n",
      "y 9\n",
      "==================================================\n",
      "9\n",
      "y 2\n",
      "y 3\n",
      "y 4\n",
      "y 5\n",
      "y 6\n",
      "y 7\n",
      "y 8\n",
      "y 9\n",
      "==================================================\n"
     ]
    }
   ],
   "source": [
    "for i in range(2, 10):\n",
    "        print(i)     #print를 계속 넣는다. Logging. 중간중간 진행사항 체크.\n",
    "        for j in range(2, 10):     #앞에 for문과 겹치니까 j\n",
    "            print('y', j)\n",
    "        print('=' * 50)"
   ]
  },
  {
   "cell_type": "code",
   "execution_count": 1,
   "id": "e71f11bd",
   "metadata": {
    "ExecuteTime": {
     "end_time": "2023-12-04T14:07:37.695111Z",
     "start_time": "2023-12-04T14:07:37.689284Z"
    }
   },
   "outputs": [
    {
     "name": "stdout",
     "output_type": "stream",
     "text": [
      "2 4 6 8 10 12 14 16 18 \n",
      "3 6 9 12 15 18 21 24 27 \n",
      "4 8 12 16 20 24 28 32 36 \n",
      "5 10 15 20 25 30 35 40 45 \n",
      "6 12 18 24 30 36 42 48 54 \n",
      "7 14 21 28 35 42 49 56 63 \n",
      "8 16 24 32 40 48 56 64 72 \n",
      "9 18 27 36 45 54 63 72 81 \n"
     ]
    }
   ],
   "source": [
    "for i in range(2,10):        # 1번 for문\n",
    "    for j in range(1, 10):   # 2번 for문\n",
    "        print(i*j, end=\" \")    # end : 현재 속한 ㄴ출력물을 그 다음 출력값과 이어지게 한다.\n",
    "    print('')"
   ]
  },
  {
   "cell_type": "code",
   "execution_count": 12,
   "id": "9992d0e6",
   "metadata": {
    "ExecuteTime": {
     "end_time": "2023-11-29T00:35:15.791919Z",
     "start_time": "2023-11-29T00:35:15.787628Z"
    }
   },
   "outputs": [
    {
     "ename": "SyntaxError",
     "evalue": "closing parenthesis '}' does not match opening parenthesis '(' (1668938953.py, line 4)",
     "output_type": "error",
     "traceback": [
      "\u001b[1;36m  Cell \u001b[1;32mIn[12], line 4\u001b[1;36m\u001b[0m\n\u001b[1;33m    print(f'{i} * {j}  = {i*j'}\u001b[0m\n\u001b[1;37m                              ^\u001b[0m\n\u001b[1;31mSyntaxError\u001b[0m\u001b[1;31m:\u001b[0m closing parenthesis '}' does not match opening parenthesis '('\n"
     ]
    }
   ],
   "source": [
    "for i in range(2, 10):\n",
    "        print(f'===== {i}단 시작 =====')\n",
    "        for j in range(1, 10):     #앞에 for문과 겹치니까 j\n",
    "            print(f'{i} * {j}  = {i*j'}"
   ]
  },
  {
   "cell_type": "code",
   "execution_count": 6,
   "id": "c6b0e38a",
   "metadata": {
    "ExecuteTime": {
     "end_time": "2023-11-29T00:28:04.833393Z",
     "start_time": "2023-11-29T00:28:04.829579Z"
    }
   },
   "outputs": [
    {
     "name": "stdout",
     "output_type": "stream",
     "text": [
      "2 4 6 8 10 12 14 16 18 \n",
      "3 6 9 12 15 18 21 24 27 \n",
      "4 8 12 16 20 24 28 32 36 \n",
      "5 10 15 20 25 30 35 40 45 \n",
      "6 12 18 24 30 36 42 48 54 \n",
      "7 14 21 28 35 42 49 56 63 \n",
      "8 16 24 32 40 48 56 64 72 \n",
      "9 18 27 36 45 54 63 72 81 \n"
     ]
    }
   ],
   "source": [
    "for i in range(2,10):        # 1번 for문\n",
    "    for j in range(1, 10):       # 2번 for문\n",
    "        print(i*j, end=\" \")           #줄바꿈 \n",
    "    print('')  # 2단, 3단 구분하기 위해 사용. 두번째 for문 끝나면 결괏값을 다음줄부터 출력"
   ]
  },
  {
   "cell_type": "markdown",
   "id": "14cabf7f",
   "metadata": {},
   "source": [
    "## 리스트 컴프리헨션 사용하기\n",
    "- 리스트 안에 for 문을 포함하는 리스트 컴프리헨션(list comprehension)        \n",
    "- [표현식 for 항목 in 반복 가능 객체 if 조건문]"
   ]
  },
  {
   "cell_type": "code",
   "execution_count": 21,
   "id": "2bae14f4",
   "metadata": {
    "ExecuteTime": {
     "end_time": "2023-11-29T00:41:11.498039Z",
     "start_time": "2023-11-29T00:41:11.494491Z"
    }
   },
   "outputs": [
    {
     "name": "stdout",
     "output_type": "stream",
     "text": [
      "[3, 6, 9, 12]\n"
     ]
    }
   ],
   "source": [
    "# 샘플 코드\n",
    "\n",
    "a=[1,2,3,4]\n",
    "result=[]\n",
    "for num in a:\n",
    "    result.append(num*3)\n",
    "\n",
    "print(result)"
   ]
  },
  {
   "cell_type": "code",
   "execution_count": 16,
   "id": "2a4d1cf9",
   "metadata": {
    "ExecuteTime": {
     "end_time": "2023-11-29T00:40:13.242012Z",
     "start_time": "2023-11-29T00:40:13.239144Z"
    }
   },
   "outputs": [
    {
     "name": "stdout",
     "output_type": "stream",
     "text": [
      "[3, 6, 9, 12]\n"
     ]
    }
   ],
   "source": [
    "# 리스트 컴프레헨션 적용\n",
    "\n",
    "a=[1,2,3,4]\n",
    "result=[num*3 for num in a]   # num*3 우리가 실제로 계산하고자 하는 '표현식'\n",
    "print(result)"
   ]
  },
  {
   "cell_type": "code",
   "execution_count": 22,
   "id": "621d8260",
   "metadata": {
    "ExecuteTime": {
     "end_time": "2023-11-29T00:42:02.913781Z",
     "start_time": "2023-11-29T00:42:02.910556Z"
    }
   },
   "outputs": [
    {
     "name": "stdout",
     "output_type": "stream",
     "text": [
      "[6, 12]\n"
     ]
    }
   ],
   "source": [
    "#if 조건문을 포함하여 짝수에만 3을 곱하여 리스트에 담기\n",
    "\n",
    "a=[1,2,3,4]\n",
    "result=[num*3 for num in a if num % 2 == 0]\n",
    "print(result)"
   ]
  },
  {
   "cell_type": "markdown",
   "id": "cf4a6de4",
   "metadata": {},
   "source": [
    "### 중첩 리스트 컴프리헨션"
   ]
  },
  {
   "cell_type": "markdown",
   "id": "c7b3b70f",
   "metadata": {},
   "source": [
    "[표현식 for 항목1 in 반복_가능_객체1 if 조건문1        \n",
    "          for 항목2 in 반복_가능_객체2 if 조건문2          \n",
    "      ...           \n",
    "          for 항목n in 반복_가능_객체n if 조건문n]"
   ]
  },
  {
   "cell_type": "markdown",
   "id": "34b1d40c",
   "metadata": {},
   "source": [
    "### 리스트 컴프리헨션 퍼포먼스"
   ]
  },
  {
   "cell_type": "code",
   "execution_count": 23,
   "id": "d234f581",
   "metadata": {
    "ExecuteTime": {
     "end_time": "2023-11-29T01:00:36.148998Z",
     "start_time": "2023-11-29T01:00:35.989717Z"
    }
   },
   "outputs": [
    {
     "name": "stdout",
     "output_type": "stream",
     "text": [
      "List Comprehension Time: 0.03726625442504883\n",
      "For loop Time: 0.11702513694763184\n"
     ]
    }
   ],
   "source": [
    "# 시간 측정을 위한 코드, 100만까지 단순 추출, 2배 넘게 차이남\n",
    "\n",
    "import time\n",
    "\n",
    "start = time.time() \n",
    "numbers = [i for i in range(1000000)]  #단순 뽑기만 한 것\n",
    "end = time.time()   \n",
    "print('List Comprehension Time:', end-start)\n",
    "\n",
    "start = time.time() \n",
    "numbers = []\n",
    "for i in range(1000000):\n",
    "    numbers.append(i)\n",
    "end = time.time() \n",
    "print('For loop Time:', end-start)\n",
    "\n",
    "\n",
    "#단순히 추출을 했을 뿐인데 list comprehension과 loop time 결과가 2배 차이가 난다.\n",
    "#성능 퍼포먼스는 pc의 퍼포먼스를 따라감. "
   ]
  },
  {
   "cell_type": "code",
   "execution_count": 25,
   "id": "dc28f4cb",
   "metadata": {
    "ExecuteTime": {
     "end_time": "2023-11-29T10:26:37.104765Z",
     "start_time": "2023-11-29T10:26:37.099764Z"
    }
   },
   "outputs": [
    {
     "name": "stdout",
     "output_type": "stream",
     "text": [
      "키\n",
      "[180, 173, 164, 151]\n",
      "몸무게\n",
      "[72, 103, 56, 48]\n",
      "BMI지수\n",
      "[22.22, 34.41, 20.82, 21.05]\n"
     ]
    }
   ],
   "source": [
    "# 리스트 컴프리헨션\n",
    "# BMI수치 구하기\n",
    "bodys = {180:72, 173:103, 164:56, 151:48}\n",
    "\n",
    "heights = [h for h in bodys.keys()]\n",
    "print(f'키\\n{heights}')\n",
    "weights = [w for w in bodys.values()]\n",
    "print(f'몸무게\\n{weights}')\n",
    "\n",
    "# zip을 사용하여 두개의 리스트를 연산한 새로운 리스트 만들기\n",
    "BMI = [round((w / (h/100)**2), 2) for w, h in zip(weights, heights)]\n",
    "print(f'BMI지수\\n{BMI}')"
   ]
  },
  {
   "cell_type": "markdown",
   "id": "028c82c8",
   "metadata": {},
   "source": [
    "# 함수"
   ]
  },
  {
   "cell_type": "markdown",
   "id": "78a79bd5",
   "metadata": {},
   "source": [
    "## 파이썬 함수의 구조"
   ]
  },
  {
   "cell_type": "code",
   "execution_count": null,
   "id": "03d6ccac",
   "metadata": {},
   "outputs": [],
   "source": [
    "# 기본 함수 구조\n",
    "\n",
    "def 함수_이름(매개변수):\n",
    "    수행할_문장1\n",
    "    수행할_문장2"
   ]
  },
  {
   "cell_type": "code",
   "execution_count": 2,
   "id": "a30c890a",
   "metadata": {
    "ExecuteTime": {
     "end_time": "2023-12-05T12:09:04.426773Z",
     "start_time": "2023-12-05T12:09:04.423394Z"
    }
   },
   "outputs": [
    {
     "name": "stdout",
     "output_type": "stream",
     "text": [
      "7\n"
     ]
    }
   ],
   "source": [
    "def add(a,b):\n",
    "    return a+b\n",
    "\n",
    "a = 3\n",
    "b = 4\n",
    "c = add(a, b)  # add(3, 4)의 리턴값을 c에 대입\n",
    "\n",
    "print(c)"
   ]
  },
  {
   "cell_type": "markdown",
   "id": "63a31a69",
   "metadata": {},
   "source": [
    "## 매개변수와 인수\n",
    "- **매개변수(parameter)** : 함수에 입력으로 전달된 값을 받는 변수\n",
    "- **인수(arguments)** : 함수를 호출할 때 전달하는 입력값\n",
    "- 매개변수와 인수는 혼용해서 사용하는 용어이므로 잘 기억해두자.\n",
    "- 이 책에서는 입력값, 리턴값을 동일한 용어로 사용함"
   ]
  },
  {
   "cell_type": "code",
   "execution_count": 13,
   "id": "47013c09",
   "metadata": {
    "ExecuteTime": {
     "end_time": "2023-12-04T05:30:10.234638Z",
     "start_time": "2023-12-04T05:30:10.231319Z"
    }
   },
   "outputs": [
    {
     "name": "stdout",
     "output_type": "stream",
     "text": [
      "7\n"
     ]
    }
   ],
   "source": [
    "# 매개 변수와 인수\n",
    "\n",
    "def add(a,b): #a, b는 매개 변수\n",
    "    return a+b\n",
    "\n",
    "print(add(3,4))  # 3,4는 인수"
   ]
  },
  {
   "cell_type": "markdown",
   "id": "770d710b",
   "metadata": {},
   "source": [
    "## 입력값과 리턴값에 따른 함수의 형태\n",
    "**함수의 형태는 입력값과 리턴값의 존재 유무에 따라 4가지 유형**으로 나뉜다. "
   ]
  },
  {
   "cell_type": "markdown",
   "id": "affa3c0b",
   "metadata": {},
   "source": [
    "### 일반적인 함수\n",
    "- 입력값이 있고 리턴값이 있는 함수"
   ]
  },
  {
   "cell_type": "code",
   "execution_count": null,
   "id": "e1e2dd3b",
   "metadata": {},
   "outputs": [],
   "source": [
    "def 함수_이름(매개변수)\n",
    "    수행할_문장\n",
    "    \n",
    "    return 리턴값"
   ]
  },
  {
   "cell_type": "code",
   "execution_count": 16,
   "id": "603f70e3",
   "metadata": {
    "ExecuteTime": {
     "end_time": "2023-12-04T05:35:26.424584Z",
     "start_time": "2023-12-04T05:35:26.421282Z"
    }
   },
   "outputs": [],
   "source": [
    "# add 함수는 2개의 입력값을 받아 서로 더한 결괏값을 리턴\n",
    "# 리턴값을 받는 변수 = 함수 이름(입력인수1, 입력인수2...)\n",
    "\n",
    "def add(a,b):\n",
    "    result=a+b\n",
    "    return result"
   ]
  },
  {
   "cell_type": "code",
   "execution_count": 15,
   "id": "436ce5ce",
   "metadata": {
    "ExecuteTime": {
     "end_time": "2023-12-04T05:34:41.243688Z",
     "start_time": "2023-12-04T05:34:41.239689Z"
    }
   },
   "outputs": [
    {
     "name": "stdout",
     "output_type": "stream",
     "text": [
      "7\n"
     ]
    }
   ],
   "source": [
    "a = add(3,4)\n",
    "print(a)"
   ]
  },
  {
   "cell_type": "code",
   "execution_count": null,
   "id": "bbd31396",
   "metadata": {},
   "outputs": [],
   "source": []
  },
  {
   "cell_type": "code",
   "execution_count": null,
   "id": "a971ab4f",
   "metadata": {},
   "outputs": [],
   "source": []
  },
  {
   "cell_type": "code",
   "execution_count": null,
   "id": "8d4fca2a",
   "metadata": {},
   "outputs": [],
   "source": []
  },
  {
   "cell_type": "code",
   "execution_count": null,
   "id": "7947d3aa",
   "metadata": {},
   "outputs": [],
   "source": []
  },
  {
   "cell_type": "code",
   "execution_count": null,
   "id": "dd329f96",
   "metadata": {},
   "outputs": [],
   "source": []
  },
  {
   "cell_type": "code",
   "execution_count": null,
   "id": "78094225",
   "metadata": {},
   "outputs": [],
   "source": []
  },
  {
   "cell_type": "code",
   "execution_count": null,
   "id": "aee96cdb",
   "metadata": {},
   "outputs": [],
   "source": []
  },
  {
   "cell_type": "code",
   "execution_count": null,
   "id": "266325ee",
   "metadata": {},
   "outputs": [],
   "source": []
  },
  {
   "cell_type": "code",
   "execution_count": null,
   "id": "3288a908",
   "metadata": {},
   "outputs": [],
   "source": []
  },
  {
   "cell_type": "code",
   "execution_count": null,
   "id": "13e2780a",
   "metadata": {},
   "outputs": [],
   "source": []
  },
  {
   "cell_type": "code",
   "execution_count": null,
   "id": "c58a9123",
   "metadata": {},
   "outputs": [],
   "source": []
  },
  {
   "cell_type": "code",
   "execution_count": null,
   "id": "6e636ace",
   "metadata": {},
   "outputs": [],
   "source": []
  },
  {
   "cell_type": "markdown",
   "id": "36ac4c19",
   "metadata": {},
   "source": [
    "# 파일 읽고 쓰기"
   ]
  },
  {
   "cell_type": "code",
   "execution_count": 2,
   "id": "6ce1a5fa",
   "metadata": {
    "ExecuteTime": {
     "end_time": "2023-12-04T04:46:43.181593Z",
     "start_time": "2023-12-04T04:46:43.178594Z"
    }
   },
   "outputs": [],
   "source": [
    "f=open(\"새파일.txt\", 'w')\n",
    "f.close()"
   ]
  },
  {
   "cell_type": "code",
   "execution_count": 5,
   "id": "8303edf1",
   "metadata": {
    "ExecuteTime": {
     "end_time": "2023-12-04T04:48:01.515185Z",
     "start_time": "2023-12-04T04:48:01.509557Z"
    }
   },
   "outputs": [],
   "source": [
    "f=open(\"C:/workspace/python/wassup/새파일.txt\", 'w')\n",
    "f.close()"
   ]
  },
  {
   "cell_type": "code",
   "execution_count": 7,
   "id": "1a57ecbb",
   "metadata": {
    "ExecuteTime": {
     "end_time": "2023-12-04T04:48:42.517901Z",
     "start_time": "2023-12-04T04:48:42.514368Z"
    }
   },
   "outputs": [],
   "source": [
    "#파일 경로와 슬래시 (/)\n",
    "\n",
    "f=open(\"C:/workspace/python/wassup/새파일1.txt\", 'w')\n",
    "f.close()"
   ]
  },
  {
   "cell_type": "code",
   "execution_count": 8,
   "id": "0be78b25",
   "metadata": {
    "ExecuteTime": {
     "end_time": "2023-12-04T04:56:03.235263Z",
     "start_time": "2023-12-04T04:56:03.217615Z"
    }
   },
   "outputs": [],
   "source": [
    "# 파일을 쓰기 모드로 열어 내용 쓰기\n",
    "# 1. 모니터 화면 대신 파일에 데이터를 적는 방법\n",
    "\n",
    "# write_data.py\n",
    "\n",
    "f=open(\"C:/workspace/python/wassup/새파일.txt\", 'w')\n",
    "for i in range(1,11):\n",
    "    data = \"%d번째 줄입니다.\\n\" % i    # \\n 줄바꿈 이스케이프 문자\n",
    "    f.write(data)  # print함수 대신 파일객체의 write 함수를 사용\n",
    "f.close()"
   ]
  },
  {
   "cell_type": "code",
   "execution_count": 9,
   "id": "2592e7fc",
   "metadata": {
    "ExecuteTime": {
     "end_time": "2023-12-04T05:00:41.868509Z",
     "start_time": "2023-12-04T05:00:41.865487Z"
    }
   },
   "outputs": [
    {
     "name": "stdout",
     "output_type": "stream",
     "text": [
      "1번째 줄입니다.\n",
      "\n",
      "2번째 줄입니다.\n",
      "\n",
      "3번째 줄입니다.\n",
      "\n",
      "4번째 줄입니다.\n",
      "\n",
      "5번째 줄입니다.\n",
      "\n",
      "6번째 줄입니다.\n",
      "\n",
      "7번째 줄입니다.\n",
      "\n",
      "8번째 줄입니다.\n",
      "\n",
      "9번째 줄입니다.\n",
      "\n",
      "10번째 줄입니다.\n",
      "\n"
     ]
    }
   ],
   "source": [
    "# 2. 우리가 계속 사용해 왔던 모니터 화면에 데이터를 출력하는 방법\n",
    "\n",
    "for i in range(1,11):\n",
    "    data=\"%d번째 줄입니다.\\n\" % i\n",
    "    print(data)"
   ]
  },
  {
   "cell_type": "code",
   "execution_count": 10,
   "id": "3e47edee",
   "metadata": {
    "ExecuteTime": {
     "end_time": "2023-12-04T05:02:41.119281Z",
     "start_time": "2023-12-04T05:02:41.100608Z"
    }
   },
   "outputs": [
    {
     "name": "stdout",
     "output_type": "stream",
     "text": [
      "1번째 줄입니다.\n",
      "\n"
     ]
    }
   ],
   "source": [
    "# readline 함수 이용하기\n",
    "# 새파일.txt’ 파일을 읽기 모드로 연 후 readline()을 사용해서 파일의 첫 번째 줄을 읽어 출력\n",
    "\n",
    "# readline_test.py\n",
    "\n",
    "f=open(\"C:/workspace/python/wassup/새파일.txt\", 'r')\n",
    "line=f.readline()\n",
    "print(line)\n",
    "f.close()"
   ]
  },
  {
   "cell_type": "code",
   "execution_count": 11,
   "id": "80b145e0",
   "metadata": {
    "ExecuteTime": {
     "end_time": "2023-12-04T05:03:43.478359Z",
     "start_time": "2023-12-04T05:03:43.474232Z"
    }
   },
   "outputs": [
    {
     "name": "stdout",
     "output_type": "stream",
     "text": [
      "1번째 줄입니다.\n",
      "\n",
      "2번째 줄입니다.\n",
      "\n",
      "3번째 줄입니다.\n",
      "\n",
      "4번째 줄입니다.\n",
      "\n",
      "5번째 줄입니다.\n",
      "\n",
      "6번째 줄입니다.\n",
      "\n",
      "7번째 줄입니다.\n",
      "\n",
      "8번째 줄입니다.\n",
      "\n",
      "9번째 줄입니다.\n",
      "\n",
      "10번째 줄입니다.\n",
      "\n"
     ]
    }
   ],
   "source": [
    "# readline_all.py\n",
    "# 모든 줄을 출력하고 싶을 때\n",
    "\n",
    "f=open(\"C:/workspace/python/wassup/새파일.txt\", 'r')\n",
    "while True:   # 우리가 얼마나 돌아야 할지 모를 때 while문 사용, 알 경우는 for문\n",
    "    line = f.readline()\n",
    "    if not line: break   # 라인이 없을 때 까지\n",
    "    print(line)\n",
    "f.close()"
   ]
  },
  {
   "cell_type": "code",
   "execution_count": 1,
   "id": "49dca343",
   "metadata": {
    "ExecuteTime": {
     "end_time": "2023-12-04T05:08:10.150138Z",
     "start_time": "2023-12-04T05:08:10.145567Z"
    }
   },
   "outputs": [
    {
     "name": "stdout",
     "output_type": "stream",
     "text": [
      "1번째 줄입니다.\n",
      "\n",
      "2번째 줄입니다.\n",
      "\n",
      "3번째 줄입니다.\n",
      "\n",
      "4번째 줄입니다.\n",
      "\n",
      "5번째 줄입니다.\n",
      "\n",
      "6번째 줄입니다.\n",
      "\n",
      "7번째 줄입니다.\n",
      "\n",
      "8번째 줄입니다.\n",
      "\n",
      "9번째 줄입니다.\n",
      "\n",
      "10번째 줄입니다.\n",
      "\n"
     ]
    }
   ],
   "source": [
    "# readlines 함수 사용하기\n",
    "\n",
    "f = open(\"C:/workspace/python/wassup/새파일.txt\", 'r')\n",
    "lines = f.readlines()\n",
    "for line in lines:\n",
    "    print(line)\n",
    "f.close()"
   ]
  },
  {
   "cell_type": "code",
   "execution_count": 2,
   "id": "6df41899",
   "metadata": {
    "ExecuteTime": {
     "end_time": "2023-12-04T05:09:05.494876Z",
     "start_time": "2023-12-04T05:09:05.491370Z"
    }
   },
   "outputs": [
    {
     "name": "stdout",
     "output_type": "stream",
     "text": [
      "1번째 줄입니다.\n",
      "2번째 줄입니다.\n",
      "3번째 줄입니다.\n",
      "4번째 줄입니다.\n",
      "5번째 줄입니다.\n",
      "6번째 줄입니다.\n",
      "7번째 줄입니다.\n",
      "8번째 줄입니다.\n",
      "9번째 줄입니다.\n",
      "10번째 줄입니다.\n",
      "\n"
     ]
    }
   ],
   "source": [
    "# read 함수 사용하기 (문자열로 리턴)\n",
    "\n",
    "f=open(\"C:/workspace/python/wassup/새파일.txt\", 'r')\n",
    "data=f.read()\n",
    "print(data)\n",
    "f.close()"
   ]
  },
  {
   "cell_type": "code",
   "execution_count": 3,
   "id": "c745b800",
   "metadata": {
    "ExecuteTime": {
     "end_time": "2023-12-04T05:09:44.564658Z",
     "start_time": "2023-12-04T05:09:44.561153Z"
    }
   },
   "outputs": [
    {
     "name": "stdout",
     "output_type": "stream",
     "text": [
      "1번째 줄입니다.\n",
      "\n",
      "2번째 줄입니다.\n",
      "\n",
      "3번째 줄입니다.\n",
      "\n",
      "4번째 줄입니다.\n",
      "\n",
      "5번째 줄입니다.\n",
      "\n",
      "6번째 줄입니다.\n",
      "\n",
      "7번째 줄입니다.\n",
      "\n",
      "8번째 줄입니다.\n",
      "\n",
      "9번째 줄입니다.\n",
      "\n",
      "10번째 줄입니다.\n",
      "\n"
     ]
    }
   ],
   "source": [
    "# 파일 객체를 for문과 함께 사용하기\n",
    "\n",
    "f=open(\"C:/workspace/python/wassup/새파일.txt\",'r')\n",
    "for line in f:\n",
    "    print(line)\n",
    "f.close()"
   ]
  },
  {
   "cell_type": "markdown",
   "id": "e573364d",
   "metadata": {},
   "source": [
    "#파일에 새로운 내용 추가하기        \n",
    "#쓰기 모드('w')로 파일을 열 때 이미 존재하는 파일을 열면 그 파일의 내용이 모두 사라지게 된다.    \n",
    "하지만 원래 있던 값을 유지하면서 단지 새로운 값만 추가해야 할 경우도 있다.   \n",
    "이런 경우에는 파일을 추가 모드('a')로 열면 된다. IDLE 에디터로 다음 소스 코드를 작성해 보자."
   ]
  },
  {
   "cell_type": "code",
   "execution_count": 5,
   "id": "997d400a",
   "metadata": {
    "ExecuteTime": {
     "end_time": "2023-12-04T05:14:32.142903Z",
     "start_time": "2023-12-04T05:14:32.136637Z"
    }
   },
   "outputs": [],
   "source": [
    "f = open(\"C:/workspace/python/wassup/새파일.txt\",'a')\n",
    "for i in range(11, 20):\n",
    "    data = \"%d번째 줄입니다.\\n\" % i\n",
    "    f.write(data)\n",
    "f.close()"
   ]
  },
  {
   "cell_type": "markdown",
   "id": "19725676",
   "metadata": {},
   "source": [
    "#with 문과 함께 사용하기     \n",
    "파일을 열면(open) 항상 닫아(close) 주어야 한다. 이렇게 파일을 열고 닫는 것을 자동으로 처리할 수 있다면 편리하지 않을까? 파이썬의 with 문이 바로 이런 역할을 해 준다. \n"
   ]
  },
  {
   "cell_type": "code",
   "execution_count": 8,
   "id": "2250f86f",
   "metadata": {
    "ExecuteTime": {
     "end_time": "2023-12-04T05:17:00.679117Z",
     "start_time": "2023-12-04T05:16:59.942824Z"
    },
    "scrolled": true
   },
   "outputs": [
    {
     "ename": "OSError",
     "evalue": "[Errno 22] Invalid argument: 'C:\\\\workspace\\\\python\\x0coo.txt'",
     "output_type": "error",
     "traceback": [
      "\u001b[1;31m---------------------------------------------------------------------------\u001b[0m",
      "\u001b[1;31mOSError\u001b[0m                                   Traceback (most recent call last)",
      "Cell \u001b[1;32mIn[8], line 1\u001b[0m\n\u001b[1;32m----> 1\u001b[0m f \u001b[38;5;241m=\u001b[39m \u001b[38;5;28mopen\u001b[39m(\u001b[38;5;124m\"\u001b[39m\u001b[38;5;124mC:\u001b[39m\u001b[38;5;124m\\\u001b[39m\u001b[38;5;124mworkspace\u001b[39m\u001b[38;5;124m\\\u001b[39m\u001b[38;5;124mpython\u001b[39m\u001b[38;5;130;01m\\f\u001b[39;00m\u001b[38;5;124moo.txt\u001b[39m\u001b[38;5;124m\"\u001b[39m, \u001b[38;5;124m'\u001b[39m\u001b[38;5;124mw\u001b[39m\u001b[38;5;124m'\u001b[39m)\n\u001b[0;32m      2\u001b[0m f\u001b[38;5;241m.\u001b[39mwrite(\u001b[38;5;124m\"\u001b[39m\u001b[38;5;124mLife is too short, you need python\u001b[39m\u001b[38;5;124m\"\u001b[39m)\n\u001b[0;32m      3\u001b[0m f\u001b[38;5;241m.\u001b[39mclose()\n",
      "File \u001b[1;32m~\\anaconda3\\Lib\\site-packages\\IPython\\core\\interactiveshell.py:286\u001b[0m, in \u001b[0;36m_modified_open\u001b[1;34m(file, *args, **kwargs)\u001b[0m\n\u001b[0;32m    279\u001b[0m \u001b[38;5;28;01mif\u001b[39;00m file \u001b[38;5;129;01min\u001b[39;00m {\u001b[38;5;241m0\u001b[39m, \u001b[38;5;241m1\u001b[39m, \u001b[38;5;241m2\u001b[39m}:\n\u001b[0;32m    280\u001b[0m     \u001b[38;5;28;01mraise\u001b[39;00m \u001b[38;5;167;01mValueError\u001b[39;00m(\n\u001b[0;32m    281\u001b[0m         \u001b[38;5;124mf\u001b[39m\u001b[38;5;124m\"\u001b[39m\u001b[38;5;124mIPython won\u001b[39m\u001b[38;5;124m'\u001b[39m\u001b[38;5;124mt let you open fd=\u001b[39m\u001b[38;5;132;01m{\u001b[39;00mfile\u001b[38;5;132;01m}\u001b[39;00m\u001b[38;5;124m by default \u001b[39m\u001b[38;5;124m\"\u001b[39m\n\u001b[0;32m    282\u001b[0m         \u001b[38;5;124m\"\u001b[39m\u001b[38;5;124mas it is likely to crash IPython. If you know what you are doing, \u001b[39m\u001b[38;5;124m\"\u001b[39m\n\u001b[0;32m    283\u001b[0m         \u001b[38;5;124m\"\u001b[39m\u001b[38;5;124myou can use builtins\u001b[39m\u001b[38;5;124m'\u001b[39m\u001b[38;5;124m open.\u001b[39m\u001b[38;5;124m\"\u001b[39m\n\u001b[0;32m    284\u001b[0m     )\n\u001b[1;32m--> 286\u001b[0m \u001b[38;5;28;01mreturn\u001b[39;00m io_open(file, \u001b[38;5;241m*\u001b[39margs, \u001b[38;5;241m*\u001b[39m\u001b[38;5;241m*\u001b[39mkwargs)\n",
      "\u001b[1;31mOSError\u001b[0m: [Errno 22] Invalid argument: 'C:\\\\workspace\\\\python\\x0coo.txt'"
     ]
    }
   ],
   "source": [
    "f = open(\"C:\\workspace\\python\\foo.txt\", 'w')\n",
    "f.write(\"Life is too short, you need python\")\n",
    "f.close()"
   ]
  },
  {
   "cell_type": "code",
   "execution_count": 9,
   "id": "b1ebc982",
   "metadata": {
    "ExecuteTime": {
     "end_time": "2023-12-04T05:17:14.732720Z",
     "start_time": "2023-12-04T05:17:14.713014Z"
    }
   },
   "outputs": [
    {
     "ename": "OSError",
     "evalue": "[Errno 22] Invalid argument: 'C:\\\\workspace\\\\python\\x0coo.txt'",
     "output_type": "error",
     "traceback": [
      "\u001b[1;31m---------------------------------------------------------------------------\u001b[0m",
      "\u001b[1;31mOSError\u001b[0m                                   Traceback (most recent call last)",
      "Cell \u001b[1;32mIn[9], line 1\u001b[0m\n\u001b[1;32m----> 1\u001b[0m \u001b[38;5;28;01mwith\u001b[39;00m \u001b[38;5;28mopen\u001b[39m(\u001b[38;5;124m\"\u001b[39m\u001b[38;5;124mC:\u001b[39m\u001b[38;5;124m\\\u001b[39m\u001b[38;5;124mworkspace\u001b[39m\u001b[38;5;124m\\\u001b[39m\u001b[38;5;124mpython\u001b[39m\u001b[38;5;130;01m\\f\u001b[39;00m\u001b[38;5;124moo.txt\u001b[39m\u001b[38;5;124m\"\u001b[39m, \u001b[38;5;124m\"\u001b[39m\u001b[38;5;124mw\u001b[39m\u001b[38;5;124m\"\u001b[39m) \u001b[38;5;28;01mas\u001b[39;00m f:\n\u001b[0;32m      2\u001b[0m     f\u001b[38;5;241m.\u001b[39mwrite(\u001b[38;5;124m\"\u001b[39m\u001b[38;5;124mLife is too short, you need python\u001b[39m\u001b[38;5;124m\"\u001b[39m)\n",
      "File \u001b[1;32m~\\anaconda3\\Lib\\site-packages\\IPython\\core\\interactiveshell.py:286\u001b[0m, in \u001b[0;36m_modified_open\u001b[1;34m(file, *args, **kwargs)\u001b[0m\n\u001b[0;32m    279\u001b[0m \u001b[38;5;28;01mif\u001b[39;00m file \u001b[38;5;129;01min\u001b[39;00m {\u001b[38;5;241m0\u001b[39m, \u001b[38;5;241m1\u001b[39m, \u001b[38;5;241m2\u001b[39m}:\n\u001b[0;32m    280\u001b[0m     \u001b[38;5;28;01mraise\u001b[39;00m \u001b[38;5;167;01mValueError\u001b[39;00m(\n\u001b[0;32m    281\u001b[0m         \u001b[38;5;124mf\u001b[39m\u001b[38;5;124m\"\u001b[39m\u001b[38;5;124mIPython won\u001b[39m\u001b[38;5;124m'\u001b[39m\u001b[38;5;124mt let you open fd=\u001b[39m\u001b[38;5;132;01m{\u001b[39;00mfile\u001b[38;5;132;01m}\u001b[39;00m\u001b[38;5;124m by default \u001b[39m\u001b[38;5;124m\"\u001b[39m\n\u001b[0;32m    282\u001b[0m         \u001b[38;5;124m\"\u001b[39m\u001b[38;5;124mas it is likely to crash IPython. If you know what you are doing, \u001b[39m\u001b[38;5;124m\"\u001b[39m\n\u001b[0;32m    283\u001b[0m         \u001b[38;5;124m\"\u001b[39m\u001b[38;5;124myou can use builtins\u001b[39m\u001b[38;5;124m'\u001b[39m\u001b[38;5;124m open.\u001b[39m\u001b[38;5;124m\"\u001b[39m\n\u001b[0;32m    284\u001b[0m     )\n\u001b[1;32m--> 286\u001b[0m \u001b[38;5;28;01mreturn\u001b[39;00m io_open(file, \u001b[38;5;241m*\u001b[39margs, \u001b[38;5;241m*\u001b[39m\u001b[38;5;241m*\u001b[39mkwargs)\n",
      "\u001b[1;31mOSError\u001b[0m: [Errno 22] Invalid argument: 'C:\\\\workspace\\\\python\\x0coo.txt'"
     ]
    }
   ],
   "source": [
    "with open(\"C:\\workspace\\python\\foo.txt\", \"w\") as f:\n",
    "    f.write(\"Life is too short, you need python\")    # 이 블록이 끝나면 파일 창을 닫아줘"
   ]
  },
  {
   "cell_type": "markdown",
   "id": "2b32ee8c",
   "metadata": {},
   "source": [
    "# 클래스"
   ]
  },
  {
   "cell_type": "code",
   "execution_count": null,
   "id": "d1bdf280",
   "metadata": {},
   "outputs": [],
   "source": []
  },
  {
   "cell_type": "code",
   "execution_count": 18,
   "id": "e1b35a80",
   "metadata": {
    "ExecuteTime": {
     "end_time": "2023-12-04T05:50:06.726293Z",
     "start_time": "2023-12-04T05:50:06.722390Z"
    }
   },
   "outputs": [
    {
     "name": "stdout",
     "output_type": "stream",
     "text": [
      "3\n",
      "7\n"
     ]
    }
   ],
   "source": [
    "# 계산기의 '더하기' 기능을 구현한 파이썬 코드\n",
    "\n",
    "#함수는 매번 불러올 때마다 지역 변수가 바뀜. \n",
    "#창고로 쓰기 위해 result를 만듦. global을 통해 result 변수를 이 지역에서 함수에서 쓸거라고 지정해둔 것.\n",
    "\n",
    "\n",
    "result = 0\n",
    "\n",
    "def add(num):\n",
    "    global result    # global result로 한 이유 : 계산기 기능은 이전에 계산한 결과가 남아 있어야 함. \n",
    "    result += num  # 결괏값(result)에 입력값(num) 더하기     #a += [4, 5]는 a = a + [4, 5]와 동일한 표현식\n",
    "    return result  # 결괏값 리턴\n",
    "\n",
    "print(add(3))\n",
    "print(add(4))"
   ]
  },
  {
   "cell_type": "code",
   "execution_count": 20,
   "id": "356ca62d",
   "metadata": {
    "ExecuteTime": {
     "end_time": "2023-12-04T05:53:33.807300Z",
     "start_time": "2023-12-04T05:53:33.802979Z"
    }
   },
   "outputs": [
    {
     "name": "stdout",
     "output_type": "stream",
     "text": [
      "3\n",
      "7\n",
      "3\n",
      "10\n"
     ]
    }
   ],
   "source": [
    "# 한 프로그램에서 2대의 계산기가 필요한 상황\n",
    "# 각 계산기는 각각의 결괏값을 유지해야 하므로 위와 같이 add 함수 하나만으로는 결괏값을 따로 유지할 수 없다.\n",
    "# 이런 상황을 해결하려면 다음과 같이 함수를 각각 따로 만들어야 한다.\n",
    "\n",
    "# 데이터를 별도로 구분할 수 있는 것이 장점\n",
    "\n",
    "result1 = 0\n",
    "result2 = 0\n",
    "\n",
    "def add1(num):  # 계산기1\n",
    "    global result1\n",
    "    result1 += num\n",
    "    return result1\n",
    "\n",
    "def add2(num):  # 계산기2\n",
    "    global result2\n",
    "    result2 += num\n",
    "    return result2\n",
    "\n",
    "print(add1(3))\n",
    "print(add1(4))\n",
    "print(add2(3))\n",
    "print(add2(7))"
   ]
  },
  {
   "cell_type": "markdown",
   "id": "9ecc80ec",
   "metadata": {},
   "source": [
    "계산기 1의 결괏값이 계산기 2에 아무런 영향을 끼치지 않는다는 것을 확인할 수 있다. 하지만 계산기가 3개, 5개, 10개로 점점 더 많이 필요해진다면 어떻게 해야 할까? 그때마다 전역 변수와 함수를 추가할 것인가? 여기에 계산기마다 빼기나 곱하기와 같은 기능을 추가해야 한다면 상황은 점점 더 어려워질 것이다.\n",
    "\n",
    "아직 클래스에 대해 배우지 않았지만, 위와 같은 경우에 클래스를 사용하면 다음과 같이 간단하게 해결할 수 있다."
   ]
  },
  {
   "cell_type": "code",
   "execution_count": 21,
   "id": "7ec876c4",
   "metadata": {
    "ExecuteTime": {
     "end_time": "2023-12-04T06:02:52.848743Z",
     "start_time": "2023-12-04T06:02:52.844490Z"
    }
   },
   "outputs": [
    {
     "name": "stdout",
     "output_type": "stream",
     "text": [
      "3\n",
      "7\n",
      "3\n",
      "10\n"
     ]
    }
   ],
   "source": [
    "class Calculator:\n",
    "    def __init__(self):\n",
    "        self.result = 0\n",
    "\n",
    "    def add(self, num):\n",
    "        self.result += num\n",
    "        return self.result    # 여기까지가 클래스를 만든 것\n",
    "\n",
    "cal1 = Calculator()\n",
    "cal2 = Calculator()\n",
    "\n",
    "print(cal1.add(3))    # cal1에 개체를 담아둔 것\n",
    "print(cal1.add(4))\n",
    "print(cal2.add(3))\n",
    "print(cal2.add(7))"
   ]
  },
  {
   "cell_type": "markdown",
   "id": "bbcb328b",
   "metadata": {},
   "source": [
    "Calculator 클래스로 만든 별개의 계산기 cal1, cal2(파이썬에서는 이것을 ‘객체’라고 부른다)가 각각의 역할을 수행한다. 그리고 계산기의 결괏값 역시 다른 계산기의 결괏값과 상관없이 독립적인 값을 유지한다.    \n",
    "이렇게 클래스를 사용하면 계산기 대수가 늘어나도 객체를 생성하면 되므로 함수만 사용할 때보다 간단하게 프로그램을 작성할 수 있다. 빼기 기능을 더하고 싶다면 Calculator 클래스에 다음과 같이 **빼기 기능을 가진 함수를 추가**하면 된다."
   ]
  },
  {
   "cell_type": "code",
   "execution_count": 22,
   "id": "cb142fd2",
   "metadata": {
    "ExecuteTime": {
     "end_time": "2023-12-04T06:07:10.092572Z",
     "start_time": "2023-12-04T06:07:10.089564Z"
    }
   },
   "outputs": [],
   "source": [
    "class Calculator:\n",
    "    def __init__(self):       \n",
    "        self.result = 0\n",
    "\n",
    "    def add(self, num):     # method\n",
    "        self.result += num\n",
    "        return self.result\n",
    "\n",
    "    def sub(self, num):    # method\n",
    "        self.result -= num\n",
    "        return self.result"
   ]
  },
  {
   "cell_type": "markdown",
   "id": "767264ac",
   "metadata": {},
   "source": [
    "## 클래스와 객체\n",
    "\n",
    "- **과자 틀 = 클래스**\n",
    "- **과자 틀로 찍어 낸 과자 = 객체**   \n",
    "\n",
    "여기에서 설명할 클래스는 과자 틀과 비슷하다. 클래스(class)란 똑같은 무언가를 계속 만들어 낼 수 있는 설계 도면(과자 틀), 객체(object)란 클래스로 만든 피조물(과자 틀로 찍어 낸 과자)을 뜻한다.\n",
    "\n",
    "클래스로 만든 객체에는 중요한 특징이 있다. 바로 **객체마다 고유한 성격을 가진다**는 것이다. 과자 틀로 만든 과자에 구멍을 뚫거나 조금 베어 먹더라도 다른 과자에는 아무런 영향이 없는 것과 마찬가지로 **동일한 클래스로 만든 객체들은 서로 전혀 영향을 주지 않는다.**"
   ]
  },
  {
   "cell_type": "code",
   "execution_count": 24,
   "id": "b0ed9028",
   "metadata": {
    "ExecuteTime": {
     "end_time": "2023-12-04T06:11:25.503651Z",
     "start_time": "2023-12-04T06:11:25.500374Z"
    }
   },
   "outputs": [],
   "source": [
    "class Cookie:    # class명의 첫번째 글자는 반.드.시 '대문자'여야 한다. 객체와 구별해주기 위함\n",
    "    pass    # 껍질뿐인 class"
   ]
  },
  {
   "cell_type": "code",
   "execution_count": 25,
   "id": "2e0c8982",
   "metadata": {
    "ExecuteTime": {
     "end_time": "2023-12-04T06:11:44.267118Z",
     "start_time": "2023-12-04T06:11:44.264075Z"
    }
   },
   "outputs": [],
   "source": [
    "a = Cookie()\n",
    "b = Cookie()"
   ]
  },
  {
   "cell_type": "markdown",
   "id": "26edde93",
   "metadata": {},
   "source": [
    "[객체와 인스턴스의 차이]\n",
    "\n",
    "- 클래스로 만든 객체를 ‘인스턴스’라고도 한다. 그렇다면 객체와 인스턴스의 차이는 무엇일까? 이렇게 생각해 보자. \n",
    "- **a = Cookie()로 만든 a는 객체이다. 그리고 a 객체는 Cookie의 인스턴스이다. **\n",
    "- 즉, **인스턴스라는 말은 특정 객체(a)가 어떤 클래스(Cookie)의 객체인지를 관계 위주로 설명할 때 사용**한다. \n",
    "- ‘a는 인스턴스’보다 ‘a는 객체’라는 표현이 어울리며 ‘a는 Cookie의 객체’보다 ‘a는 Cookie의 인스턴스’라는 표현이 훨씬 잘 어울린다."
   ]
  },
  {
   "cell_type": "markdown",
   "id": "3d473482",
   "metadata": {},
   "source": [
    "## 사칙 연산 클래스 만들기"
   ]
  },
  {
   "cell_type": "markdown",
   "id": "3bcb1017",
   "metadata": {},
   "source": [
    "### 클래스를 어떻게 만들지 먼저 구상하기"
   ]
  },
  {
   "cell_type": "code",
   "execution_count": 26,
   "id": "47438b71",
   "metadata": {
    "ExecuteTime": {
     "end_time": "2023-12-04T06:43:28.741769Z",
     "start_time": "2023-12-04T06:43:28.739520Z"
    }
   },
   "outputs": [],
   "source": [
    "a = FourCal()"
   ]
  },
  {
   "cell_type": "code",
   "execution_count": 27,
   "id": "fc393f56",
   "metadata": {
    "ExecuteTime": {
     "end_time": "2023-12-04T06:43:34.614448Z",
     "start_time": "2023-12-04T06:43:34.611456Z"
    }
   },
   "outputs": [],
   "source": [
    "a.setdata(4,2)"
   ]
  },
  {
   "cell_type": "code",
   "execution_count": 33,
   "id": "41c5c038",
   "metadata": {
    "ExecuteTime": {
     "end_time": "2023-12-04T06:49:16.777118Z",
     "start_time": "2023-12-04T06:49:16.772758Z"
    }
   },
   "outputs": [],
   "source": [
    "class FourCal:\n",
    "    def __init__(self, first, second):\n",
    "        self.first = first\n",
    "        self.second = second\n",
    "    def setdata(self, first, second):\n",
    "        self.first = first\n",
    "        self.second = second\n",
    "    def add(self):\n",
    "        result = self.first + self.second\n",
    "        return result\n",
    "    def mul(self):\n",
    "        result = self.first * self.second\n",
    "        return result\n",
    "    def sub(self):\n",
    "        result = self.first - self.second\n",
    "        return result\n",
    "    def div(self):\n",
    "        result = self.first / self.second\n",
    "        return result"
   ]
  },
  {
   "cell_type": "markdown",
   "id": "47b19bda",
   "metadata": {},
   "source": [
    "### 클래스 구조 만들기"
   ]
  },
  {
   "cell_type": "code",
   "execution_count": 30,
   "id": "436cb706",
   "metadata": {
    "ExecuteTime": {
     "end_time": "2023-12-04T06:46:22.846863Z",
     "start_time": "2023-12-04T06:46:22.844671Z"
    }
   },
   "outputs": [],
   "source": [
    "class FourCal:\n",
    "    pass"
   ]
  },
  {
   "cell_type": "code",
   "execution_count": 31,
   "id": "085df96f",
   "metadata": {
    "ExecuteTime": {
     "end_time": "2023-12-04T06:46:33.465915Z",
     "start_time": "2023-12-04T06:46:33.461451Z"
    }
   },
   "outputs": [
    {
     "data": {
      "text/plain": [
       "__main__.FourCal"
      ]
     },
     "execution_count": 31,
     "metadata": {},
     "output_type": "execute_result"
    }
   ],
   "source": [
    "a = FourCal()\n",
    "type(a)"
   ]
  },
  {
   "cell_type": "markdown",
   "id": "cb0c78aa",
   "metadata": {},
   "source": [
    "### 객체에 연산할 숫자 지정하기"
   ]
  },
  {
   "cell_type": "code",
   "execution_count": 35,
   "id": "1d1c2137",
   "metadata": {
    "ExecuteTime": {
     "end_time": "2023-12-04T06:50:23.961462Z",
     "start_time": "2023-12-04T06:50:23.958344Z"
    }
   },
   "outputs": [],
   "source": [
    "class FourCal:\n",
    "    def setdata(self, first, second):\n",
    "        self.first = first\n",
    "        self.second = second"
   ]
  },
  {
   "cell_type": "markdown",
   "id": "6002809c",
   "metadata": {},
   "source": []
  },
  {
   "cell_type": "code",
   "execution_count": null,
   "id": "a09166cd",
   "metadata": {},
   "outputs": [],
   "source": []
  },
  {
   "cell_type": "code",
   "execution_count": null,
   "id": "c8e88d19",
   "metadata": {},
   "outputs": [],
   "source": []
  },
  {
   "cell_type": "code",
   "execution_count": null,
   "id": "304baaee",
   "metadata": {},
   "outputs": [],
   "source": []
  },
  {
   "cell_type": "code",
   "execution_count": null,
   "id": "7cbebd3a",
   "metadata": {},
   "outputs": [],
   "source": []
  },
  {
   "cell_type": "code",
   "execution_count": null,
   "id": "86fa8d0d",
   "metadata": {},
   "outputs": [],
   "source": []
  },
  {
   "cell_type": "markdown",
   "id": "720d9672",
   "metadata": {},
   "source": [
    "아래부터는 구현 멘토님이 해주신 것"
   ]
  },
  {
   "cell_type": "code",
   "execution_count": 2,
   "id": "72c088ec",
   "metadata": {
    "ExecuteTime": {
     "end_time": "2023-12-05T04:18:05.071043Z",
     "start_time": "2023-12-05T04:18:05.066083Z"
    }
   },
   "outputs": [
    {
     "name": "stdout",
     "output_type": "stream",
     "text": [
      "3\n",
      "8\n"
     ]
    }
   ],
   "source": [
    "result = 0\n",
    "\n",
    "def add(num):\n",
    "    global result\n",
    "    result += num\n",
    "    return result\n",
    "\n",
    "print(add(3))\n",
    "print(add(5))"
   ]
  },
  {
   "cell_type": "code",
   "execution_count": 3,
   "id": "b3f721c5",
   "metadata": {
    "ExecuteTime": {
     "end_time": "2023-12-05T04:18:08.717686Z",
     "start_time": "2023-12-05T04:18:08.713602Z"
    }
   },
   "outputs": [
    {
     "name": "stdout",
     "output_type": "stream",
     "text": [
      "3\n",
      "7\n",
      "3\n",
      "10\n"
     ]
    }
   ],
   "source": [
    "result1 = 0\n",
    "result2 = 0\n",
    "\n",
    "def add1(num):\n",
    "    global result1\n",
    "    result1 += num\n",
    "    return result1\n",
    "\n",
    "def add2(num):\n",
    "    global result2\n",
    "    result2 += num\n",
    "    return result2\n",
    "\n",
    "print(add1(3))\n",
    "print(add1(4))\n",
    "print(add2(3))\n",
    "print(add2(7))"
   ]
  },
  {
   "cell_type": "code",
   "execution_count": 4,
   "id": "efb395ad",
   "metadata": {
    "ExecuteTime": {
     "end_time": "2023-12-05T04:18:13.767237Z",
     "start_time": "2023-12-05T04:18:13.762301Z"
    }
   },
   "outputs": [
    {
     "name": "stdout",
     "output_type": "stream",
     "text": [
      "3\n",
      "7\n",
      "3\n",
      "10\n",
      "4\n",
      "0\n",
      "7\n",
      "0\n"
     ]
    }
   ],
   "source": [
    "class Class_cal:\n",
    "    def __init__(self):\n",
    "        self.result = 0\n",
    "\n",
    "    def add(self, num):\n",
    "        self.result += num\n",
    "        return self.result\n",
    "    \n",
    "    def sub(self, num):\n",
    "        self.result -= num\n",
    "        return self.result\n",
    "\n",
    "cal1 = Class_cal()\n",
    "cal2 = Class_cal()\n",
    "\n",
    "print(cal1.add(3))\n",
    "print(cal1.add(4))\n",
    "print(cal2.add(3))\n",
    "print(cal2.add(7))\n",
    "\n",
    "print(cal1.sub(3))\n",
    "print(cal1.sub(4))\n",
    "print(cal2.sub(3))\n",
    "print(cal2.sub(7))"
   ]
  },
  {
   "cell_type": "code",
   "execution_count": 5,
   "id": "541265bc",
   "metadata": {
    "ExecuteTime": {
     "end_time": "2023-12-05T04:18:18.657969Z",
     "start_time": "2023-12-05T04:18:18.650961Z"
    }
   },
   "outputs": [
    {
     "data": {
      "text/plain": [
       "(3, 4, 5, 5, 6, 2, 4, 2, 31, 2, 2, 3, 32, 12, 3, 214, 12, 5346)"
      ]
     },
     "execution_count": 5,
     "metadata": {},
     "output_type": "execute_result"
    }
   ],
   "source": [
    "class F_cal:\n",
    "    def setdata(self, *args):\n",
    "        self.args = args\n",
    "    \n",
    "\n",
    "cal3 = F_cal()\n",
    "cal3.setdata(3,4,5,5,6,2,4,2,31,2,2,3,32,12,3,214,12,5346)\n",
    "cal3.args"
   ]
  },
  {
   "cell_type": "code",
   "execution_count": 6,
   "id": "5063426d",
   "metadata": {
    "ExecuteTime": {
     "end_time": "2023-12-05T04:18:22.512538Z",
     "start_time": "2023-12-05T04:18:22.507598Z"
    }
   },
   "outputs": [
    {
     "data": {
      "text/plain": [
       "100"
      ]
     },
     "execution_count": 6,
     "metadata": {},
     "output_type": "execute_result"
    }
   ],
   "source": [
    "class F_cal:\n",
    "    def setdata(self, *args):\n",
    "        self.args = args\n",
    "\n",
    "    def add(self):\n",
    "        result = sum(self.args)\n",
    "        return result\n",
    "    \n",
    "cal4 = F_cal()\n",
    "cal4.setdata(34,43,4,2,2,4,3,5,2,1)\n",
    "cal4.add()"
   ]
  },
  {
   "cell_type": "code",
   "execution_count": 7,
   "id": "a2162fd5",
   "metadata": {
    "ExecuteTime": {
     "end_time": "2023-12-05T04:18:26.795655Z",
     "start_time": "2023-12-05T04:18:26.788147Z"
    }
   },
   "outputs": [
    {
     "name": "stdout",
     "output_type": "stream",
     "text": [
      "입력된 값 :  (350, 4, 2, 2, 4, 2, 3, 23, 12, 32, 3)\n",
      "값의 합 :  437\n",
      "값의 차 :  263\n",
      "입력된 값 :  (350, 4, 2)\n",
      "값의 곱 :  2800\n",
      "값의 평균 :  118.66666666666667\n",
      "값의 나눗셈 :  43.75\n"
     ]
    }
   ],
   "source": [
    "class F_cal:\n",
    "    def setdata(self, *args):\n",
    "        self.args = args\n",
    "\n",
    "    def add(self):\n",
    "        result = sum(self.args)\n",
    "        return result\n",
    "    \n",
    "    def sub(self):\n",
    "        result = self.args[0] # result의 초기값 설정\n",
    "        for i in self.args[1:]:\n",
    "            result -= i\n",
    "        return result\n",
    "    \n",
    "    def mul(self):\n",
    "        result = self.args[0]\n",
    "        for i in self.args[1:]:\n",
    "            result = result * i\n",
    "        return result\n",
    "\n",
    "    def avg(self):\n",
    "        result = sum(self.args) / len(self.args)\n",
    "        return result\n",
    "    \n",
    "    def div(self):\n",
    "        result = self.args[0]\n",
    "        for i in self.args[1:]:\n",
    "            result = result / i\n",
    "        return result\n",
    "\n",
    "    \n",
    "\n",
    "cal_f = F_cal()\n",
    "\n",
    "cal_f.setdata(350,4,2,2,4,2,3,23,12,32,3)\n",
    "print('입력된 값 : ', cal_f.args)\n",
    "print('값의 합 : ', cal_f.add())\n",
    "print('값의 차 : ', cal_f.sub())\n",
    "cal_f.setdata(350,4,2)\n",
    "print('입력된 값 : ', cal_f.args)\n",
    "print('값의 곱 : ', cal_f.mul())\n",
    "print('값의 평균 : ', cal_f.avg())\n",
    "print('값의 나눗셈 : ', cal_f.div())\n"
   ]
  },
  {
   "cell_type": "code",
   "execution_count": 8,
   "id": "55bd1d09",
   "metadata": {
    "ExecuteTime": {
     "end_time": "2023-12-05T04:18:34.468365Z",
     "start_time": "2023-12-05T04:18:34.454300Z"
    }
   },
   "outputs": [
    {
     "ename": "TypeError",
     "evalue": "F_cal() takes no arguments",
     "output_type": "error",
     "traceback": [
      "\u001b[1;31m---------------------------------------------------------------------------\u001b[0m",
      "\u001b[1;31mTypeError\u001b[0m                                 Traceback (most recent call last)",
      "Cell \u001b[1;32mIn[8], line 1\u001b[0m\n\u001b[1;32m----> 1\u001b[0m cal_f \u001b[38;5;241m=\u001b[39m F_cal(\u001b[38;5;241m34\u001b[39m,\u001b[38;5;241m532\u001b[39m,\u001b[38;5;241m43\u001b[39m,\u001b[38;5;241m453\u001b[39m,\u001b[38;5;241m32\u001b[39m)\n",
      "\u001b[1;31mTypeError\u001b[0m: F_cal() takes no arguments"
     ]
    }
   ],
   "source": [
    "cal_f = F_cal(34,532,43,453,32)"
   ]
  },
  {
   "cell_type": "code",
   "execution_count": 9,
   "id": "6a63c564",
   "metadata": {
    "ExecuteTime": {
     "end_time": "2023-12-05T04:18:38.202797Z",
     "start_time": "2023-12-05T04:18:38.198297Z"
    }
   },
   "outputs": [
    {
     "data": {
      "text/plain": [
       "(34, 532, 43, 453, 32, 34, 34, 34)"
      ]
     },
     "execution_count": 9,
     "metadata": {},
     "output_type": "execute_result"
    }
   ],
   "source": [
    "class Second_cal(F_cal):\n",
    "    def __init__(self, *args):\n",
    "        self.args = args\n",
    "\n",
    "cal_f = Second_cal(34,532,43,453,32,34,34,34)\n",
    "cal_f.args"
   ]
  },
  {
   "cell_type": "code",
   "execution_count": null,
   "id": "12184e9c",
   "metadata": {},
   "outputs": [],
   "source": []
  },
  {
   "cell_type": "code",
   "execution_count": null,
   "id": "9e80caea",
   "metadata": {},
   "outputs": [],
   "source": []
  },
  {
   "cell_type": "code",
   "execution_count": null,
   "id": "5d8855e4",
   "metadata": {},
   "outputs": [],
   "source": []
  },
  {
   "cell_type": "code",
   "execution_count": null,
   "id": "642254a4",
   "metadata": {},
   "outputs": [],
   "source": []
  },
  {
   "cell_type": "markdown",
   "id": "9a221243",
   "metadata": {},
   "source": [
    "### 더하기 기능 만들기"
   ]
  },
  {
   "cell_type": "markdown",
   "id": "cd24a1b5",
   "metadata": {},
   "source": [
    "### 곱하기, 빼기, 나누기 기능 만들기"
   ]
  },
  {
   "cell_type": "markdown",
   "id": "a178858f",
   "metadata": {},
   "source": [
    "## 생성자\n",
    "- init\n",
    "- 객체가 생성될 때 자동으로 실행되는 함수\n",
    "- 인스턴스의 객체 변수를 생성해주는 역할. 중요!"
   ]
  },
  {
   "cell_type": "markdown",
   "id": "eb4ac2c5",
   "metadata": {},
   "source": [
    "## 클래스의 상속\n",
    "- 클래스를 만들 때 다른 클래스의 기능을 물려받을 수 있게 만드는 것\n",
    "- 절자 지향: 수정이 이루어지면 순서대로 가기 때문에 관련된 모든 코드들을 싹 다 수정해야 함.\n",
    "- java, 파이썬같은 객제 지향은 서로서로 연결해서 씀. 기존에 있던 객체를 상속 받아서 새로운 객체를 만들고 연결 짓는다. 그럼 다른 것을 수정할 필요가 없다."
   ]
  },
  {
   "cell_type": "code",
   "execution_count": 13,
   "id": "63e2e83e",
   "metadata": {
    "ExecuteTime": {
     "end_time": "2023-12-05T04:19:27.730781Z",
     "start_time": "2023-12-05T04:19:27.717297Z"
    }
   },
   "outputs": [
    {
     "ename": "NameError",
     "evalue": "name 'FourCal' is not defined",
     "output_type": "error",
     "traceback": [
      "\u001b[1;31m---------------------------------------------------------------------------\u001b[0m",
      "\u001b[1;31mNameError\u001b[0m                                 Traceback (most recent call last)",
      "Cell \u001b[1;32mIn[13], line 1\u001b[0m\n\u001b[1;32m----> 1\u001b[0m \u001b[38;5;28;01mclass\u001b[39;00m \u001b[38;5;21;01mMoreFourCal\u001b[39;00m(FourCal):\n\u001b[0;32m      2\u001b[0m     \u001b[38;5;28;01mpass\u001b[39;00m\n",
      "\u001b[1;31mNameError\u001b[0m: name 'FourCal' is not defined"
     ]
    }
   ],
   "source": [
    "class MoreFourCal(FourCal):\n",
    "    pass"
   ]
  },
  {
   "cell_type": "markdown",
   "id": "8c56fbc9",
   "metadata": {},
   "source": [
    "### 메서드 오버라이딩"
   ]
  },
  {
   "cell_type": "markdown",
   "id": "6c9f2733",
   "metadata": {},
   "source": [
    "### 클래스 변수"
   ]
  },
  {
   "cell_type": "code",
   "execution_count": 14,
   "id": "438672bd",
   "metadata": {
    "ExecuteTime": {
     "end_time": "2023-12-05T04:36:53.842558Z",
     "start_time": "2023-12-05T04:36:53.839593Z"
    }
   },
   "outputs": [],
   "source": [
    "class Family:\n",
    "    lastname = \"김\""
   ]
  },
  {
   "cell_type": "code",
   "execution_count": 15,
   "id": "20fd2918",
   "metadata": {
    "ExecuteTime": {
     "end_time": "2023-12-05T04:37:03.369975Z",
     "start_time": "2023-12-05T04:37:03.365975Z"
    }
   },
   "outputs": [
    {
     "data": {
      "text/plain": [
       "'김'"
      ]
     },
     "execution_count": 15,
     "metadata": {},
     "output_type": "execute_result"
    }
   ],
   "source": [
    "Family.lastname"
   ]
  },
  {
   "cell_type": "code",
   "execution_count": 16,
   "id": "4b7450c0",
   "metadata": {
    "ExecuteTime": {
     "end_time": "2023-12-05T04:37:24.062160Z",
     "start_time": "2023-12-05T04:37:24.058065Z"
    }
   },
   "outputs": [
    {
     "data": {
      "text/plain": [
       "'김'"
      ]
     },
     "execution_count": 16,
     "metadata": {},
     "output_type": "execute_result"
    }
   ],
   "source": [
    "a=Family()\n",
    "b=Family()\n",
    "a.lastname"
   ]
  },
  {
   "cell_type": "code",
   "execution_count": 17,
   "id": "86971164",
   "metadata": {
    "ExecuteTime": {
     "end_time": "2023-12-05T04:37:29.773348Z",
     "start_time": "2023-12-05T04:37:29.769986Z"
    }
   },
   "outputs": [
    {
     "data": {
      "text/plain": [
       "'김'"
      ]
     },
     "execution_count": 17,
     "metadata": {},
     "output_type": "execute_result"
    }
   ],
   "source": [
    "b.lastname"
   ]
  },
  {
   "cell_type": "code",
   "execution_count": 18,
   "id": "51a5f0e1",
   "metadata": {
    "ExecuteTime": {
     "end_time": "2023-12-05T04:37:58.361995Z",
     "start_time": "2023-12-05T04:37:58.357978Z"
    }
   },
   "outputs": [
    {
     "data": {
      "text/plain": [
       "'최'"
      ]
     },
     "execution_count": 18,
     "metadata": {},
     "output_type": "execute_result"
    }
   ],
   "source": [
    "#클래스변수와 동일한 이름의 객체변수를 생성하면?\n",
    "\n",
    "a.lastname=\"최\"\n",
    "a.lastname"
   ]
  },
  {
   "cell_type": "code",
   "execution_count": 19,
   "id": "78e182b5",
   "metadata": {
    "ExecuteTime": {
     "end_time": "2023-12-05T04:38:48.169078Z",
     "start_time": "2023-12-05T04:38:48.165167Z"
    }
   },
   "outputs": [
    {
     "data": {
      "text/plain": [
       "'김'"
      ]
     },
     "execution_count": 19,
     "metadata": {},
     "output_type": "execute_result"
    }
   ],
   "source": [
    "Family.lastname"
   ]
  },
  {
   "cell_type": "code",
   "execution_count": 20,
   "id": "e2a03aa7",
   "metadata": {
    "ExecuteTime": {
     "end_time": "2023-12-05T04:39:34.591938Z",
     "start_time": "2023-12-05T04:39:34.587761Z"
    }
   },
   "outputs": [
    {
     "name": "stdout",
     "output_type": "stream",
     "text": [
      "김\n",
      "김 김\n",
      "박 박\n",
      "최\n",
      "박 박\n"
     ]
    }
   ],
   "source": [
    "class Family:\n",
    "    lastname = \"김\"\n",
    "print(Family.lastname)\n",
    "\n",
    "a = Family()\n",
    "b = Family()\n",
    "print(a.lastname,  b.lastname)\n",
    "\n",
    "Family.lastname = \"박\"\n",
    "print(a.lastname, b.lastname)\n",
    "\n",
    "a.lastname = \"최\"\n",
    "print(a.lastname)\n",
    "print(Family.lastname, b.lastname)"
   ]
  },
  {
   "cell_type": "code",
   "execution_count": null,
   "id": "8e592786",
   "metadata": {},
   "outputs": [],
   "source": []
  },
  {
   "cell_type": "markdown",
   "id": "547c407e",
   "metadata": {},
   "source": [
    "# 예외 처리"
   ]
  },
  {
   "cell_type": "code",
   "execution_count": 21,
   "id": "1971590c",
   "metadata": {
    "ExecuteTime": {
     "end_time": "2023-12-05T04:44:57.104081Z",
     "start_time": "2023-12-05T04:44:57.026767Z"
    }
   },
   "outputs": [
    {
     "ename": "FileNotFoundError",
     "evalue": "[Errno 2] No such file or directory: '나없는파일'",
     "output_type": "error",
     "traceback": [
      "\u001b[1;31m---------------------------------------------------------------------------\u001b[0m",
      "\u001b[1;31mFileNotFoundError\u001b[0m                         Traceback (most recent call last)",
      "Cell \u001b[1;32mIn[21], line 1\u001b[0m\n\u001b[1;32m----> 1\u001b[0m f \u001b[38;5;241m=\u001b[39m \u001b[38;5;28mopen\u001b[39m(\u001b[38;5;124m\"\u001b[39m\u001b[38;5;124m나없는파일\u001b[39m\u001b[38;5;124m\"\u001b[39m, \u001b[38;5;124m'\u001b[39m\u001b[38;5;124mr\u001b[39m\u001b[38;5;124m'\u001b[39m)\n",
      "File \u001b[1;32m~\\anaconda3\\Lib\\site-packages\\IPython\\core\\interactiveshell.py:286\u001b[0m, in \u001b[0;36m_modified_open\u001b[1;34m(file, *args, **kwargs)\u001b[0m\n\u001b[0;32m    279\u001b[0m \u001b[38;5;28;01mif\u001b[39;00m file \u001b[38;5;129;01min\u001b[39;00m {\u001b[38;5;241m0\u001b[39m, \u001b[38;5;241m1\u001b[39m, \u001b[38;5;241m2\u001b[39m}:\n\u001b[0;32m    280\u001b[0m     \u001b[38;5;28;01mraise\u001b[39;00m \u001b[38;5;167;01mValueError\u001b[39;00m(\n\u001b[0;32m    281\u001b[0m         \u001b[38;5;124mf\u001b[39m\u001b[38;5;124m\"\u001b[39m\u001b[38;5;124mIPython won\u001b[39m\u001b[38;5;124m'\u001b[39m\u001b[38;5;124mt let you open fd=\u001b[39m\u001b[38;5;132;01m{\u001b[39;00mfile\u001b[38;5;132;01m}\u001b[39;00m\u001b[38;5;124m by default \u001b[39m\u001b[38;5;124m\"\u001b[39m\n\u001b[0;32m    282\u001b[0m         \u001b[38;5;124m\"\u001b[39m\u001b[38;5;124mas it is likely to crash IPython. If you know what you are doing, \u001b[39m\u001b[38;5;124m\"\u001b[39m\n\u001b[0;32m    283\u001b[0m         \u001b[38;5;124m\"\u001b[39m\u001b[38;5;124myou can use builtins\u001b[39m\u001b[38;5;124m'\u001b[39m\u001b[38;5;124m open.\u001b[39m\u001b[38;5;124m\"\u001b[39m\n\u001b[0;32m    284\u001b[0m     )\n\u001b[1;32m--> 286\u001b[0m \u001b[38;5;28;01mreturn\u001b[39;00m io_open(file, \u001b[38;5;241m*\u001b[39margs, \u001b[38;5;241m*\u001b[39m\u001b[38;5;241m*\u001b[39mkwargs)\n",
      "\u001b[1;31mFileNotFoundError\u001b[0m: [Errno 2] No such file or directory: '나없는파일'"
     ]
    }
   ],
   "source": [
    "f = open(\"나없는파일\", 'r')"
   ]
  },
  {
   "cell_type": "markdown",
   "id": "72164965",
   "metadata": {},
   "source": [
    "## 오류 예외 처리 기법"
   ]
  },
  {
   "cell_type": "markdown",
   "id": "1b20a698",
   "metadata": {},
   "source": [
    "### try-except 문"
   ]
  },
  {
   "cell_type": "code",
   "execution_count": 23,
   "id": "7100823b",
   "metadata": {
    "ExecuteTime": {
     "end_time": "2023-12-05T04:49:27.082218Z",
     "start_time": "2023-12-05T04:49:27.079210Z"
    }
   },
   "outputs": [
    {
     "name": "stdout",
     "output_type": "stream",
     "text": [
      "division by zero\n"
     ]
    }
   ],
   "source": [
    "# try_except.py\n",
    "# 프로그램 내부에서 사용되는 것. 사용자에게 활용할 수 있음.\n",
    "\n",
    "try:\n",
    "    4 / 0\n",
    "except ZeroDivisionError as e:\n",
    "    print(e)"
   ]
  },
  {
   "cell_type": "markdown",
   "id": "6686b745",
   "metadata": {},
   "source": [
    "### try-finally 문"
   ]
  },
  {
   "cell_type": "code",
   "execution_count": 24,
   "id": "5ab442a5",
   "metadata": {
    "ExecuteTime": {
     "end_time": "2023-12-05T05:02:22.304837Z",
     "start_time": "2023-12-05T05:02:22.300998Z"
    }
   },
   "outputs": [],
   "source": [
    "try:\n",
    "    f = open('foo.txt','w')\n",
    "    # 무언가를 수행한다.\n",
    "\n",
    "    (... 생략 ...)\n",
    "    \n",
    "finally:\n",
    "    f.close() #중간에 오류가 발생하더라도 무조건 실행된다."
   ]
  },
  {
   "cell_type": "markdown",
   "id": "a98ff0bf",
   "metadata": {},
   "source": [
    "### 여러개의 오류 처리하기"
   ]
  },
  {
   "cell_type": "code",
   "execution_count": 26,
   "id": "9dd185e7",
   "metadata": {
    "ExecuteTime": {
     "end_time": "2023-12-05T05:06:07.548165Z",
     "start_time": "2023-12-05T05:06:07.544383Z"
    }
   },
   "outputs": [
    {
     "name": "stdout",
     "output_type": "stream",
     "text": [
      "인덱싱 할 수 없습니다.\n"
     ]
    }
   ],
   "source": [
    "try:\n",
    "    a=[1,2]\n",
    "    print(a[3])\n",
    "    4/0\n",
    "except ZeroDivisionError:\n",
    "    print(\"0으로 나눌 수 없습니다.\")\n",
    "except IndexError:\n",
    "    print(\"인덱싱 할 수 없습니다.\")\n",
    "    \n",
    "# 인덱싱 할 수 없습니다만 나온 이유 -> 코드는 순서대로 실행하는데 4/0은 애초에 실행조차 안됨."
   ]
  },
  {
   "cell_type": "code",
   "execution_count": 27,
   "id": "fbcd143e",
   "metadata": {
    "ExecuteTime": {
     "end_time": "2023-12-05T05:06:12.245816Z",
     "start_time": "2023-12-05T05:06:12.241987Z"
    }
   },
   "outputs": [
    {
     "name": "stdout",
     "output_type": "stream",
     "text": [
      "list index out of range\n"
     ]
    }
   ],
   "source": [
    "try:\n",
    "    a = [1,2]\n",
    "    print(a[3])\n",
    "    4/0\n",
    "except ZeroDivisionError as e:\n",
    "    print(e)\n",
    "except IndexError as e:\n",
    "    print(e)"
   ]
  },
  {
   "cell_type": "code",
   "execution_count": 28,
   "id": "15f40706",
   "metadata": {
    "ExecuteTime": {
     "end_time": "2023-12-05T05:06:31.744484Z",
     "start_time": "2023-12-05T05:06:31.740880Z"
    }
   },
   "outputs": [
    {
     "name": "stdout",
     "output_type": "stream",
     "text": [
      "list index out of range\n"
     ]
    }
   ],
   "source": [
    "try:\n",
    "    a = [1,2]\n",
    "    print(a[3])\n",
    "    4/0\n",
    "except (ZeroDivisionError, IndexError) as e:\n",
    "    print(e)"
   ]
  },
  {
   "cell_type": "markdown",
   "id": "6f7ae62f",
   "metadata": {},
   "source": [
    "### try-else 문"
   ]
  },
  {
   "cell_type": "code",
   "execution_count": 29,
   "id": "b74e8ba0",
   "metadata": {
    "ExecuteTime": {
     "end_time": "2023-12-05T05:08:47.499581Z",
     "start_time": "2023-12-05T05:08:15.987910Z"
    }
   },
   "outputs": [
    {
     "name": "stdout",
     "output_type": "stream",
     "text": [
      "나이를 입력하세요:18\n",
      "미성년자는 출입금지입니다.\n"
     ]
    }
   ],
   "source": [
    "# 오류가 발생하지 않을 경우 try, except, else\n",
    "\n",
    "try:  #에러 체크 코드\n",
    "    age=int(input('나이를 입력하세요:'))\n",
    "    \n",
    "except:  # 에러 발생시 동작 코드\n",
    "    print('입력이 정확하지 않습니다.')\n",
    "    \n",
    "else:  # 정상 동작 코드\n",
    "    if age <= 18:\n",
    "        print('미성년자는 출입금지입니다.')\n",
    "    else:\n",
    "        print('환영합니다.')"
   ]
  },
  {
   "cell_type": "markdown",
   "id": "1a9bed4c",
   "metadata": {},
   "source": [
    "## 오류 회피하기"
   ]
  },
  {
   "cell_type": "code",
   "execution_count": 30,
   "id": "a0fca6c8",
   "metadata": {
    "ExecuteTime": {
     "end_time": "2023-12-05T05:10:22.936894Z",
     "start_time": "2023-12-05T05:10:22.933199Z"
    }
   },
   "outputs": [
    {
     "ename": "SyntaxError",
     "evalue": "invalid decimal literal (3060936804.py, line 2)",
     "output_type": "error",
     "traceback": [
      "\u001b[1;36m  Cell \u001b[1;32mIn[30], line 2\u001b[1;36m\u001b[0m\n\u001b[1;33m    f=0pen(\"나없는파일\",'r')\u001b[0m\n\u001b[1;37m      ^\u001b[0m\n\u001b[1;31mSyntaxError\u001b[0m\u001b[1;31m:\u001b[0m invalid decimal literal\n"
     ]
    }
   ],
   "source": [
    "try:\n",
    "    f=0pen(\"나없는파일\",'r')\n",
    "except FileNotFoundError:\n",
    "    pass"
   ]
  },
  {
   "cell_type": "markdown",
   "id": "44d29408",
   "metadata": {},
   "source": [
    "# 내장 함수"
   ]
  },
  {
   "cell_type": "code",
   "execution_count": 32,
   "id": "2ec1ddbd",
   "metadata": {
    "ExecuteTime": {
     "end_time": "2023-12-05T05:19:02.805475Z",
     "start_time": "2023-12-05T05:19:02.802117Z"
    }
   },
   "outputs": [
    {
     "data": {
      "text/plain": [
       "1.2"
      ]
     },
     "execution_count": 32,
     "metadata": {},
     "output_type": "execute_result"
    }
   ],
   "source": [
    "# abs : 어떤 숫자를 입력받았을 때 그 숫자의 절댓값을 리턴하는 함수\n",
    "\n",
    "abs(-1.2)"
   ]
  },
  {
   "cell_type": "code",
   "execution_count": 33,
   "id": "37500a1f",
   "metadata": {
    "ExecuteTime": {
     "end_time": "2023-12-05T05:27:11.739996Z",
     "start_time": "2023-12-05T05:27:11.735582Z"
    }
   },
   "outputs": [
    {
     "name": "stdout",
     "output_type": "stream",
     "text": [
      "[1, 2, 6]\n"
     ]
    }
   ],
   "source": [
    "def positive(l): \n",
    "    result = [] \n",
    "    for i in l: \n",
    "        if i > 0: \n",
    "            result.append(i) \n",
    "    return result\n",
    "\n",
    "print(positive([1,-3,2,0,-5,6]))"
   ]
  },
  {
   "cell_type": "code",
   "execution_count": 34,
   "id": "c17d5b22",
   "metadata": {
    "ExecuteTime": {
     "end_time": "2023-12-05T05:27:19.348538Z",
     "start_time": "2023-12-05T05:27:19.344554Z"
    }
   },
   "outputs": [
    {
     "name": "stdout",
     "output_type": "stream",
     "text": [
      "[1, 2, 6]\n"
     ]
    }
   ],
   "source": [
    "def positive(x):\n",
    "    return x > 0\n",
    "\n",
    "print(list(filter(positive, [1, -3, 2, 0, -5, 6])))"
   ]
  },
  {
   "cell_type": "code",
   "execution_count": 35,
   "id": "7fbeae1e",
   "metadata": {
    "ExecuteTime": {
     "end_time": "2023-12-05T05:39:08.699824Z",
     "start_time": "2023-12-05T05:39:08.695832Z"
    }
   },
   "outputs": [
    {
     "name": "stdout",
     "output_type": "stream",
     "text": [
      "[2, 4, 6, 8]\n"
     ]
    }
   ],
   "source": [
    "# two_times.py\n",
    "def two_times(numberList):\n",
    "    result = []\n",
    "    for number in numberList:\n",
    "        result.append(number*2)\n",
    "    return result\n",
    "\n",
    "result = two_times([1, 2, 3, 4])\n",
    "print(result)\n"
   ]
  },
  {
   "cell_type": "code",
   "execution_count": 36,
   "id": "5b35baac",
   "metadata": {
    "ExecuteTime": {
     "end_time": "2023-12-05T05:40:59.156144Z",
     "start_time": "2023-12-05T05:40:59.151143Z"
    }
   },
   "outputs": [
    {
     "data": {
      "text/plain": [
       "[2, 4, 6, 8]"
      ]
     },
     "execution_count": 36,
     "metadata": {},
     "output_type": "execute_result"
    }
   ],
   "source": [
    "def two_times(x): \n",
    "    return x*2\n",
    "\n",
    "list(map(two_times, [1, 2, 3, 4]))"
   ]
  },
  {
   "cell_type": "code",
   "execution_count": 37,
   "id": "fa53e6ad",
   "metadata": {
    "ExecuteTime": {
     "end_time": "2023-12-05T05:43:45.419685Z",
     "start_time": "2023-12-05T05:43:45.415772Z"
    }
   },
   "outputs": [
    {
     "data": {
      "text/plain": [
       "[2, 4, 6, 8]"
      ]
     },
     "execution_count": 37,
     "metadata": {},
     "output_type": "execute_result"
    }
   ],
   "source": [
    "list(map(lambda a: a*2, [1, 2, 3, 4]))"
   ]
  },
  {
   "cell_type": "code",
   "execution_count": null,
   "id": "2c4aae7b",
   "metadata": {},
   "outputs": [],
   "source": []
  },
  {
   "cell_type": "code",
   "execution_count": null,
   "id": "1b647f27",
   "metadata": {},
   "outputs": [],
   "source": []
  },
  {
   "cell_type": "markdown",
   "id": "eace9b0a",
   "metadata": {},
   "source": [
    "# 표준 라이브러리"
   ]
  },
  {
   "cell_type": "code",
   "execution_count": null,
   "id": "2cbaf631",
   "metadata": {},
   "outputs": [],
   "source": []
  },
  {
   "cell_type": "markdown",
   "id": "9418307a",
   "metadata": {},
   "source": [
    "## json\n",
    "- JSON 데이터를 쉽게 처리하고자 사용하는 모듈"
   ]
  },
  {
   "cell_type": "code",
   "execution_count": 7,
   "id": "3a687fbb",
   "metadata": {
    "ExecuteTime": {
     "end_time": "2023-12-06T05:15:16.505878Z",
     "start_time": "2023-12-06T05:15:16.501603Z"
    }
   },
   "outputs": [
    {
     "data": {
      "text/plain": [
       "{'name': '홍길동', 'birth': '0525', 'age': 30}"
      ]
     },
     "execution_count": 7,
     "metadata": {},
     "output_type": "execute_result"
    }
   ],
   "source": [
    "# 다음은 개인정보를 JSON 형태의 데이터로 만든 myinfo.json 파일이다.\n",
    "\n",
    "{\n",
    "    \"name\": \"홍길동\",\n",
    "    \"birth\": \"0525\",\n",
    "    \"age\": 30\n",
    "}"
   ]
  },
  {
   "cell_type": "markdown",
   "id": "6e7afdaa",
   "metadata": {},
   "source": [
    "인터넷으로 얻은 이 파일을 읽어 파이썬에서 처리할 수 있도록 딕셔너리 자료형으로 만들려면 어떻게 해야 할까?   \n",
    "JSON 파일을 읽어 딕셔너리로 변환하려면 다음처럼 json 모듈을 사용하면 된다."
   ]
  },
  {
   "cell_type": "code",
   "execution_count": null,
   "id": "d727411c",
   "metadata": {},
   "outputs": [],
   "source": []
  },
  {
   "cell_type": "markdown",
   "id": "d062a6d2",
   "metadata": {},
   "source": [
    "## urllib\n",
    "- URL 읽고 분석 할 때 사용하는 모듈"
   ]
  },
  {
   "cell_type": "markdown",
   "id": "961ad6cd",
   "metadata": {},
   "source": [
    "브라우저로 위키독스의 특정 페이지를 읽으려면 다음과 같이 요청하면 된다.    \n",
    "- https://wikidocs.net/페이지_번호(예: https://wikidocs.net/12)     \n",
    "\n",
    "오프라인으로도 읽을 수 있도록 페이지 번호를 입력받아 위키독스의 특정 페이지를 wikidocs_페이지_번호.html 파일로 저장하는 함수는 어떻게 만들어야 할까? URL을 호출하여 원하는 리소스를 얻으려면 urllib 모듈을 사용해야 한다."
   ]
  },
  {
   "cell_type": "code",
   "execution_count": 9,
   "id": "3e003b3f",
   "metadata": {
    "ExecuteTime": {
     "end_time": "2023-12-06T05:20:37.545412Z",
     "start_time": "2023-12-06T05:20:37.541468Z"
    }
   },
   "outputs": [],
   "source": [
    "# urllib_test.py\n",
    "import urllib.request\n",
    "\n",
    "def get_wikidocs(page):\n",
    "    resource = 'https://wikidocs.net/{}'.format(page)\n",
    "    with urllib.request.urlopen(resource) as s:\n",
    "        with open('wikidocs_%s.html' % page, 'wb') as f:\n",
    "            f.write(s.read())"
   ]
  },
  {
   "cell_type": "markdown",
   "id": "6c95d5b8",
   "metadata": {},
   "source": [
    "get_wikidocs(page)는 위키독스의 페이지 번호를 입력받아 해당 페이지의 리소스 내용을 파일로 저장하는 함수이다.      \n",
    "이 코드에서 보듯이 urllib.request.urlopen(resource)로 s 객체를 생성하고 s.read()로 리소스 내용 전체를 읽어 이를 저장할 수 있다.      \n",
    "예를 들어 get_wikidocs(12)라고 호출하면 https://wikidocs.net/12 웹 페이지를 wikidocs_12.html라는 파일로 저장한다."
   ]
  },
  {
   "cell_type": "code",
   "execution_count": null,
   "id": "61c91690",
   "metadata": {},
   "outputs": [],
   "source": []
  },
  {
   "cell_type": "code",
   "execution_count": null,
   "id": "a6efaf5f",
   "metadata": {},
   "outputs": [],
   "source": []
  },
  {
   "cell_type": "markdown",
   "id": "3ebea86d",
   "metadata": {},
   "source": [
    "# 외부 라이브러리\n",
    "\n",
    "파이썬 설치 시 기본으로 설치되는 라이브러리를 ‘파이썬 표준 라이브러리’라고 한다. 이번에 소개하는 외부 라이브러리는 파이썬 표준 라이브러리가 아니므로 사용하려면 먼저 pip 도구를 이용하여 설치해야 한다."
   ]
  },
  {
   "cell_type": "markdown",
   "id": "04137785",
   "metadata": {},
   "source": [
    "## pip"
   ]
  },
  {
   "cell_type": "markdown",
   "id": "dcdde36b",
   "metadata": {},
   "source": [
    "pip(핍)은 파이썬 모듈이나 패키지를 쉽게 설치할 수 있도록 도와주는 도구이다. pip으로 파이썬 프로그램을 설치하면 의존성 있는 모듈이나 패키지를 함께 설치해 주기 때문에 매우 편리하다.    \n",
    "예를 들어 B라는 파이썬 패키지를 설치하려면 A라는 패키지가 먼저 설치되어야 하는 규칙이 있다고 가정할 때 pip을 이용하면 B 패키지를 설치할 때 A 패키지도 자동으로 함께 설치된다."
   ]
  },
  {
   "cell_type": "code",
   "execution_count": 10,
   "id": "9a3667d6",
   "metadata": {
    "ExecuteTime": {
     "end_time": "2023-12-06T05:25:07.822391Z",
     "start_time": "2023-12-06T05:25:04.772004Z"
    }
   },
   "outputs": [
    {
     "name": "stdout",
     "output_type": "stream",
     "text": [
      "Package                           Version\n",
      "--------------------------------- ---------------\n",
      "aiobotocore                       2.5.0\n",
      "aiofiles                          22.1.0\n",
      "aiohttp                           3.8.5\n",
      "aioitertools                      0.7.1\n",
      "aiosignal                         1.2.0\n",
      "aiosqlite                         0.18.0\n",
      "alabaster                         0.7.12\n",
      "anaconda-anon-usage               0.4.2\n",
      "anaconda-catalogs                 0.2.0\n",
      "anaconda-client                   1.12.1\n",
      "anaconda-cloud-auth               0.1.3\n",
      "anaconda-navigator                2.5.0\n",
      "anaconda-project                  0.11.1\n",
      "anyio                             3.5.0\n",
      "appdirs                           1.4.4\n",
      "argon2-cffi                       21.3.0\n",
      "argon2-cffi-bindings              21.2.0\n",
      "arrow                             1.2.3\n",
      "astroid                           2.14.2\n",
      "astropy                           5.1\n",
      "asttokens                         2.0.5\n",
      "async-timeout                     4.0.2\n",
      "atomicwrites                      1.4.0\n",
      "attrs                             22.1.0\n",
      "Automat                           20.2.0\n",
      "autopep8                          1.6.0\n",
      "Babel                             2.11.0\n",
      "backcall                          0.2.0\n",
      "backports.functools-lru-cache     1.6.4\n",
      "backports.tempfile                1.0\n",
      "backports.weakref                 1.0.post1\n",
      "bcrypt                            3.2.0\n",
      "beautifulsoup4                    4.12.2\n",
      "binaryornot                       0.4.4\n",
      "black                             0.0\n",
      "bleach                            4.1.0\n",
      "bokeh                             3.2.1\n",
      "boltons                           23.0.0\n",
      "botocore                          1.29.76\n",
      "Bottleneck                        1.3.5\n",
      "brotlipy                          0.7.0\n",
      "certifi                           2023.7.22\n",
      "cffi                              1.15.1\n",
      "chardet                           4.0.0\n",
      "charset-normalizer                2.0.4\n",
      "click                             8.0.4\n",
      "cloudpickle                       2.2.1\n",
      "clyent                            1.2.2\n",
      "colorama                          0.4.6\n",
      "colorcet                          3.0.1\n",
      "comm                              0.1.2\n",
      "conda                             23.7.4\n",
      "conda-build                       3.26.1\n",
      "conda-content-trust               0.2.0\n",
      "conda_index                       0.3.0\n",
      "conda-libmamba-solver             23.7.0\n",
      "conda-pack                        0.6.0\n",
      "conda-package-handling            2.2.0\n",
      "conda_package_streaming           0.9.0\n",
      "conda-repo-cli                    1.0.75\n",
      "conda-token                       0.4.0\n",
      "conda-verify                      3.4.2\n",
      "constantly                        15.1.0\n",
      "contourpy                         1.0.5\n",
      "cookiecutter                      1.7.3\n",
      "cryptography                      41.0.3\n",
      "cssselect                         1.1.0\n",
      "cycler                            0.11.0\n",
      "cytoolz                           0.12.0\n",
      "daal4py                           2023.1.1\n",
      "dask                              2023.6.0\n",
      "datasets                          2.12.0\n",
      "datashader                        0.15.2\n",
      "datashape                         0.5.4\n",
      "debugpy                           1.6.7\n",
      "decorator                         5.1.1\n",
      "defusedxml                        0.7.1\n",
      "diff-match-patch                  20200713\n",
      "dill                              0.3.6\n",
      "distributed                       2023.6.0\n",
      "docstring-to-markdown             0.11\n",
      "docutils                          0.18.1\n",
      "entrypoints                       0.4\n",
      "et-xmlfile                        1.1.0\n",
      "executing                         0.8.3\n",
      "fastjsonschema                    2.16.2\n",
      "filelock                          3.9.0\n",
      "flake8                            6.0.0\n",
      "Flask                             2.2.2\n",
      "fonttools                         4.25.0\n",
      "frozenlist                        1.3.3\n",
      "fsspec                            2023.4.0\n",
      "future                            0.18.3\n",
      "gensim                            4.3.0\n",
      "glob2                             0.7\n",
      "greenlet                          2.0.1\n",
      "h5py                              3.9.0\n",
      "HeapDict                          1.0.1\n",
      "holoviews                         1.17.1\n",
      "huggingface-hub                   0.15.1\n",
      "hvplot                            0.8.4\n",
      "hyperlink                         21.0.0\n",
      "idna                              3.4\n",
      "imagecodecs                       2023.1.23\n",
      "imageio                           2.26.0\n",
      "imagesize                         1.4.1\n",
      "imbalanced-learn                  0.10.1\n",
      "importlib-metadata                6.0.0\n",
      "incremental                       21.3.0\n",
      "inflection                        0.5.1\n",
      "iniconfig                         1.1.1\n",
      "intake                            0.6.8\n",
      "intervaltree                      3.1.0\n",
      "ipykernel                         6.25.0\n",
      "ipython                           8.15.0\n",
      "ipython-genutils                  0.2.0\n",
      "ipywidgets                        8.0.4\n",
      "isort                             5.9.3\n",
      "itemadapter                       0.3.0\n",
      "itemloaders                       1.0.4\n",
      "itsdangerous                      2.0.1\n",
      "jaraco.classes                    3.2.1\n",
      "jedi                              0.18.1\n",
      "jellyfish                         1.0.1\n",
      "Jinja2                            3.1.2\n",
      "jinja2-time                       0.2.0\n",
      "jmespath                          0.10.0\n",
      "joblib                            1.2.0\n",
      "json5                             0.9.6\n",
      "jsonpatch                         1.32\n",
      "jsonpointer                       2.1\n",
      "jsonschema                        4.17.3\n",
      "jupyter                           1.0.0\n",
      "jupyter_client                    7.4.9\n",
      "jupyter-console                   6.6.3\n",
      "jupyter-contrib-core              0.4.2\n",
      "jupyter-contrib-nbextensions      0.7.0\n",
      "jupyter_core                      5.3.0\n",
      "jupyter-events                    0.6.3\n",
      "jupyter-highlight-selected-word   0.2.0\n",
      "jupyter-nbextensions-configurator 0.6.3\n",
      "jupyter-server                    1.23.4\n",
      "jupyter_server_fileid             0.9.0\n",
      "jupyter_server_ydoc               0.8.0\n",
      "jupyter-ydoc                      0.2.4\n",
      "jupyterlab                        3.6.3\n",
      "jupyterlab-pygments               0.1.2\n",
      "jupyterlab_server                 2.22.0\n",
      "jupyterlab-widgets                3.0.5\n",
      "kaleido                           0.2.1\n",
      "keyring                           23.13.1\n",
      "kiwisolver                        1.4.4\n",
      "lazy_loader                       0.2\n",
      "lazy-object-proxy                 1.6.0\n",
      "libarchive-c                      2.9\n",
      "libmambapy                        1.5.1\n",
      "linkify-it-py                     2.0.0\n",
      "llvmlite                          0.40.0\n",
      "lmdb                              1.4.1\n",
      "locket                            1.0.0\n",
      "lxml                              4.9.3\n",
      "lz4                               4.3.2\n",
      "Markdown                          3.4.1\n",
      "markdown-it-py                    2.2.0\n",
      "MarkupSafe                        2.1.1\n",
      "matplotlib                        3.7.2\n",
      "matplotlib-inline                 0.1.6\n",
      "mccabe                            0.7.0\n",
      "mdit-py-plugins                   0.3.0\n",
      "mdurl                             0.1.0\n",
      "menuinst                          1.4.19\n",
      "mistune                           0.8.4\n",
      "mkl-fft                           1.3.8\n",
      "mkl-random                        1.2.4\n",
      "mkl-service                       2.4.0\n",
      "more-itertools                    8.12.0\n",
      "mpmath                            1.3.0\n",
      "msgpack                           1.0.3\n",
      "multidict                         6.0.2\n",
      "multipledispatch                  0.6.0\n",
      "multiprocess                      0.70.14\n",
      "munkres                           1.1.4\n",
      "mypy-extensions                   1.0.0\n",
      "navigator-updater                 0.4.0\n",
      "nbclassic                         0.5.5\n",
      "nbclient                          0.5.13\n",
      "nbconvert                         6.5.4\n",
      "nbformat                          5.9.2\n",
      "nest-asyncio                      1.5.6\n",
      "networkx                          3.1\n",
      "nltk                              3.8.1\n",
      "notebook                          6.5.4\n",
      "notebook_shim                     0.2.2\n",
      "numba                             0.57.1\n",
      "numexpr                           2.8.4\n",
      "numpy                             1.24.3\n",
      "numpydoc                          1.5.0\n",
      "openpyxl                          3.0.10\n",
      "packaging                         23.1\n",
      "pandas                            2.0.3\n",
      "pandocfilters                     1.5.0\n",
      "panel                             1.2.3\n",
      "param                             1.13.0\n",
      "paramiko                          2.8.1\n",
      "parsel                            1.6.0\n",
      "parso                             0.8.3\n",
      "partd                             1.4.0\n",
      "pathlib                           1.0.1\n",
      "pathspec                          0.10.3\n",
      "patsy                             0.5.3\n",
      "pep8                              1.7.1\n",
      "pexpect                           4.8.0\n",
      "pickleshare                       0.7.5\n",
      "Pillow                            9.4.0\n",
      "pip                               23.2.1\n",
      "pkce                              1.0.3\n",
      "pkginfo                           1.9.6\n",
      "platformdirs                      3.10.0\n",
      "plotly                            5.9.0\n",
      "pluggy                            1.0.0\n",
      "ply                               3.11\n",
      "poyo                              0.5.0\n",
      "prometheus-client                 0.14.1\n",
      "prompt-toolkit                    3.0.36\n",
      "Protego                           0.1.16\n",
      "psutil                            5.9.0\n",
      "ptyprocess                        0.7.0\n",
      "pure-eval                         0.2.2\n",
      "py-cpuinfo                        8.0.0\n",
      "pyarrow                           11.0.0\n",
      "pyasn1                            0.4.8\n",
      "pyasn1-modules                    0.2.8\n",
      "pycodestyle                       2.10.0\n",
      "pycosat                           0.6.4\n",
      "pycparser                         2.21\n",
      "pyct                              0.5.0\n",
      "pycurl                            7.45.2\n",
      "pydantic                          1.10.8\n",
      "PyDispatcher                      2.0.5\n",
      "pydocstyle                        6.3.0\n",
      "pyerfa                            2.0.0\n",
      "pyflakes                          3.0.1\n",
      "Pygments                          2.15.1\n",
      "PyJWT                             2.4.0\n",
      "pylint                            2.16.2\n",
      "pylint-venv                       2.3.0\n",
      "pyls-spyder                       0.4.0\n",
      "PyNaCl                            1.5.0\n",
      "pyodbc                            4.0.34\n",
      "pyOpenSSL                         23.2.0\n",
      "pyparsing                         3.0.9\n",
      "PyQt5                             5.15.7\n",
      "PyQt5-sip                         12.11.0\n",
      "PyQtWebEngine                     5.15.4\n",
      "pyrsistent                        0.18.0\n",
      "PySocks                           1.7.1\n",
      "pytest                            7.4.0\n",
      "python-dateutil                   2.8.2\n",
      "python-dotenv                     0.21.0\n",
      "python-json-logger                2.0.7\n",
      "python-lsp-black                  1.2.1\n",
      "python-lsp-jsonrpc                1.0.0\n",
      "python-lsp-server                 1.7.2\n",
      "python-slugify                    5.0.2\n",
      "python-snappy                     0.6.1\n",
      "pytoolconfig                      1.2.5\n",
      "pytz                              2023.3.post1\n",
      "pyviz-comms                       2.3.0\n",
      "PyWavelets                        1.4.1\n",
      "pywin32                           305.1\n",
      "pywin32-ctypes                    0.2.0\n",
      "pywinpty                          2.0.10\n",
      "PyYAML                            6.0\n",
      "pyzmq                             23.2.0\n",
      "QDarkStyle                        3.0.2\n",
      "qstylizer                         0.2.2\n",
      "QtAwesome                         1.2.2\n",
      "qtconsole                         5.4.2\n",
      "QtPy                              2.2.0\n",
      "queuelib                          1.5.0\n",
      "regex                             2022.7.9\n",
      "requests                          2.31.0\n",
      "requests-file                     1.5.1\n",
      "requests-toolbelt                 1.0.0\n",
      "responses                         0.13.3\n",
      "rfc3339-validator                 0.1.4\n",
      "rfc3986-validator                 0.1.1\n",
      "rope                              1.7.0\n",
      "Rtree                             1.0.1\n",
      "ruamel.yaml                       0.17.21\n",
      "ruamel-yaml-conda                 0.17.21\n",
      "s3fs                              2023.4.0\n",
      "safetensors                       0.3.2\n",
      "scikit-image                      0.20.0\n",
      "scikit-learn                      1.3.0\n",
      "scikit-learn-intelex              20230426.121932\n",
      "scipy                             1.11.1\n",
      "Scrapy                            2.8.0\n",
      "seaborn                           0.12.2\n",
      "Send2Trash                        1.8.0\n",
      "service-identity                  18.1.0\n",
      "setuptools                        68.0.0\n",
      "sip                               6.6.2\n",
      "six                               1.16.0\n",
      "smart-open                        5.2.1\n",
      "sniffio                           1.2.0\n",
      "snowballstemmer                   2.2.0\n",
      "sortedcontainers                  2.4.0\n",
      "soupsieve                         2.4\n",
      "Sphinx                            5.0.2\n",
      "sphinxcontrib-applehelp           1.0.2\n",
      "sphinxcontrib-devhelp             1.0.2\n",
      "sphinxcontrib-htmlhelp            2.0.0\n",
      "sphinxcontrib-jsmath              1.0.1\n",
      "sphinxcontrib-qthelp              1.0.3\n",
      "sphinxcontrib-serializinghtml     1.1.5\n",
      "spyder                            5.4.3\n",
      "spyder-kernels                    2.4.4\n",
      "SQLAlchemy                        1.4.39\n",
      "stack-data                        0.2.0\n",
      "statsmodels                       0.14.0\n",
      "sympy                             1.11.1\n",
      "tables                            3.8.0\n",
      "tabulate                          0.8.10\n",
      "TBB                               0.2\n",
      "tblib                             1.7.0\n",
      "tenacity                          8.2.2\n",
      "terminado                         0.17.1\n",
      "text-unidecode                    1.3\n",
      "textdistance                      4.2.1\n",
      "threadpoolctl                     2.2.0\n",
      "three-merge                       0.1.1\n",
      "tifffile                          2023.4.12\n",
      "tinycss2                          1.2.1\n",
      "tldextract                        3.2.0\n",
      "tokenizers                        0.13.2\n",
      "toml                              0.10.2\n",
      "tomlkit                           0.11.1\n",
      "toolz                             0.12.0\n",
      "tornado                           6.3.2\n",
      "tqdm                              4.65.0\n",
      "traitlets                         5.7.1\n",
      "transformers                      4.32.1\n",
      "Twisted                           22.10.0\n",
      "twisted-iocpsupport               1.0.2\n",
      "typing_extensions                 4.7.1\n",
      "tzdata                            2023.3\n",
      "uc-micro-py                       1.0.1\n",
      "ujson                             5.4.0\n",
      "Unidecode                         1.2.0\n",
      "urllib3                           1.26.16\n",
      "w3lib                             1.21.0\n",
      "watchdog                          2.1.6\n",
      "wcwidth                           0.2.5\n",
      "webencodings                      0.5.1\n",
      "websocket-client                  0.58.0\n",
      "Werkzeug                          2.2.3\n",
      "whatthepatch                      1.0.2\n",
      "wheel                             0.38.4\n",
      "widgetsnbextension                4.0.5\n",
      "win-inet-pton                     1.1.0\n",
      "wrapt                             1.14.1\n",
      "xarray                            2023.6.0\n",
      "xlwings                           0.29.1\n",
      "xxhash                            2.0.2\n",
      "xyzservices                       2022.9.0\n",
      "y-py                              0.5.9\n",
      "yapf                              0.31.0\n",
      "yarl                              1.8.1\n",
      "ypy-websocket                     0.8.2\n",
      "zict                              2.2.0\n",
      "zipp                              3.11.0\n",
      "zope.interface                    5.4.0\n",
      "zstandard                         0.19.0\n",
      "Note: you may need to restart the kernel to use updated packages.\n"
     ]
    }
   ],
   "source": [
    "pip list"
   ]
  },
  {
   "cell_type": "code",
   "execution_count": 12,
   "id": "775fb7e2",
   "metadata": {
    "ExecuteTime": {
     "end_time": "2023-12-06T05:26:17.518018Z",
     "start_time": "2023-12-06T05:26:16.974403Z"
    }
   },
   "outputs": [
    {
     "name": "stdout",
     "output_type": "stream",
     "text": [
      "pip 23.2.1 from C:\\Users\\bhmca\\anaconda3\\Lib\\site-packages\\pip (python 3.11)\n",
      "\n",
      "Note: you may need to restart the kernel to use updated packages.\n"
     ]
    }
   ],
   "source": [
    "pip --version"
   ]
  },
  {
   "cell_type": "code",
   "execution_count": 13,
   "id": "d6ef24b2",
   "metadata": {
    "ExecuteTime": {
     "end_time": "2023-12-06T05:26:51.125966Z",
     "start_time": "2023-12-06T05:26:37.953488Z"
    }
   },
   "outputs": [
    {
     "name": "stdout",
     "output_type": "stream",
     "text": [
      "Requirement already satisfied: pip in c:\\users\\bhmca\\anaconda3\\lib\\site-packages (23.2.1)\n",
      "Collecting pip\n",
      "  Obtaining dependency information for pip from https://files.pythonhosted.org/packages/47/6a/453160888fab7c6a432a6e25f8afe6256d0d9f2cbd25971021da6491d899/pip-23.3.1-py3-none-any.whl.metadata\n",
      "  Downloading pip-23.3.1-py3-none-any.whl.metadata (3.5 kB)\n",
      "Downloading pip-23.3.1-py3-none-any.whl (2.1 MB)\n",
      "   ---------------------------------------- 0.0/2.1 MB ? eta -:--:--\n",
      "    --------------------------------------- 0.0/2.1 MB 1.4 MB/s eta 0:00:02\n",
      "   ---------- ----------------------------- 0.6/2.1 MB 9.1 MB/s eta 0:00:01\n",
      "   ---------------------------------------  2.1/2.1 MB 18.8 MB/s eta 0:00:01\n",
      "   ---------------------------------------- 2.1/2.1 MB 16.8 MB/s eta 0:00:00\n",
      "Installing collected packages: pip\n",
      "  Attempting uninstall: pip\n",
      "    Found existing installation: pip 23.2.1\n",
      "    Uninstalling pip-23.2.1:\n",
      "      Successfully uninstalled pip-23.2.1\n",
      "Successfully installed pip-23.3.1\n",
      "Note: you may need to restart the kernel to use updated packages.\n"
     ]
    }
   ],
   "source": [
    "pip install --upgrade pip"
   ]
  },
  {
   "cell_type": "code",
   "execution_count": 14,
   "id": "f754a833",
   "metadata": {
    "ExecuteTime": {
     "end_time": "2023-12-06T05:27:50.399123Z",
     "start_time": "2023-12-06T05:27:43.410983Z"
    }
   },
   "outputs": [
    {
     "name": "stdout",
     "output_type": "stream",
     "text": [
      "# packages in environment at C:\\Users\\bhmca\\anaconda3:\n",
      "Note: you may need to restart the kernel to use updated packages.\n",
      "\n",
      "#\n",
      "# Name                    Version                   Build  Channel\n",
      "_anaconda_depends         2023.09             py311_mkl_1  \n",
      "abseil-cpp                20211102.0           hd77b12b_0  \n",
      "aiobotocore               2.5.0           py311haa95532_0  \n",
      "aiofiles                  22.1.0          py311haa95532_0  \n",
      "aiohttp                   3.8.5           py311h2bbff1b_0  \n",
      "aioitertools              0.7.1              pyhd3eb1b0_0  \n",
      "aiosignal                 1.2.0              pyhd3eb1b0_0  \n",
      "aiosqlite                 0.18.0          py311haa95532_0  \n",
      "alabaster                 0.7.12             pyhd3eb1b0_0  \n",
      "anaconda-anon-usage       0.4.2           py311hfc23b7f_0  \n",
      "anaconda-catalogs         0.2.0           py311haa95532_0  \n",
      "anaconda-client           1.12.1          py311haa95532_0  \n",
      "anaconda-cloud-auth       0.1.3           py311haa95532_0  \n",
      "anaconda-navigator        2.5.0           py311haa95532_0  \n",
      "anaconda-project          0.11.1          py311haa95532_0  \n",
      "anyio                     3.5.0           py311haa95532_0  \n",
      "aom                       3.6.0                hd77b12b_0  \n",
      "appdirs                   1.4.4              pyhd3eb1b0_0  \n",
      "argon2-cffi               21.3.0             pyhd3eb1b0_0  \n",
      "argon2-cffi-bindings      21.2.0          py311h2bbff1b_0  \n",
      "arrow                     1.2.3           py311haa95532_1  \n",
      "arrow-cpp                 11.0.0               ha81ea56_2  \n",
      "astroid                   2.14.2          py311haa95532_0  \n",
      "astropy                   5.1             py311h5bb9823_0  \n",
      "asttokens                 2.0.5              pyhd3eb1b0_0  \n",
      "async-timeout             4.0.2           py311haa95532_0  \n",
      "atomicwrites              1.4.0                      py_0  \n",
      "attrs                     22.1.0          py311haa95532_0  \n",
      "automat                   20.2.0                     py_0  \n",
      "autopep8                  1.6.0              pyhd3eb1b0_1  \n",
      "aws-c-common              0.6.8                h2bbff1b_1  \n",
      "aws-c-event-stream        0.1.6                hd77b12b_6  \n",
      "aws-checksums             0.1.11               h2bbff1b_2  \n",
      "aws-sdk-cpp               1.8.185              hd77b12b_1  \n",
      "babel                     2.11.0          py311haa95532_0  \n",
      "backcall                  0.2.0              pyhd3eb1b0_0  \n",
      "backports                 1.1                pyhd3eb1b0_0  \n",
      "backports.functools_lru_cache 1.6.4              pyhd3eb1b0_0  \n",
      "backports.tempfile        1.0                pyhd3eb1b0_1  \n",
      "backports.weakref         1.0.post1                  py_1  \n",
      "bcrypt                    3.2.0           py311h2bbff1b_1  \n",
      "beautifulsoup4            4.12.2          py311haa95532_0  \n",
      "binaryornot               0.4.4              pyhd3eb1b0_1  \n",
      "black                     23.3.0          py311haa95532_0  \n",
      "blas                      1.0                         mkl  \n",
      "bleach                    4.1.0              pyhd3eb1b0_0  \n",
      "blosc                     1.21.3               h6c2663c_0  \n",
      "bokeh                     3.2.1           py311h746a85d_0  \n",
      "boltons                   23.0.0          py311haa95532_0  \n",
      "boost-cpp                 1.82.0               h59b6b97_1  \n",
      "botocore                  1.29.76         py311haa95532_0  \n",
      "bottleneck                1.3.5           py311h5bb9823_0  \n",
      "brotli                    1.0.9                h2bbff1b_7  \n",
      "brotli-bin                1.0.9                h2bbff1b_7  \n",
      "brotlipy                  0.7.0           py311h2bbff1b_1002  \n",
      "bzip2                     1.0.8                he774522_0  \n",
      "c-ares                    1.19.1               h2bbff1b_0  \n",
      "c-blosc2                  2.8.0                hd77b12b_0  \n",
      "ca-certificates           2023.08.22           haa95532_0  \n",
      "certifi                   2023.7.22       py311haa95532_0  \n",
      "cffi                      1.15.1          py311h2bbff1b_3  \n",
      "cfitsio                   3.470                h2bbff1b_7  \n",
      "chardet                   4.0.0           py311haa95532_1003  \n",
      "charls                    2.2.0                h6c2663c_0  \n",
      "charset-normalizer        2.0.4              pyhd3eb1b0_0  \n",
      "click                     8.0.4           py311haa95532_0  \n",
      "cloudpickle               2.2.1           py311haa95532_0  \n",
      "clyent                    1.2.2           py311haa95532_1  \n",
      "colorama                  0.4.6           py311haa95532_0  \n",
      "colorcet                  3.0.1           py311haa95532_0  \n",
      "comm                      0.1.2           py311haa95532_0  \n",
      "conda                     23.7.4          py311haa95532_0  \n",
      "conda-build               3.26.1          py311haa95532_0  \n",
      "conda-content-trust       0.2.0           py311haa95532_0  \n",
      "conda-index               0.3.0           py311haa95532_0  \n",
      "conda-libmamba-solver     23.7.0          py311haa95532_0  \n",
      "conda-pack                0.6.0              pyhd3eb1b0_0  \n",
      "conda-package-handling    2.2.0           py311haa95532_0  \n",
      "conda-package-streaming   0.9.0           py311haa95532_0  \n",
      "conda-repo-cli            1.0.75          py311haa95532_0  \n",
      "conda-token               0.4.0              pyhd3eb1b0_0  \n",
      "conda-verify              3.4.2                      py_1  \n",
      "console_shortcut          0.1.1                         4  \n",
      "constantly                15.1.0          py311haa95532_0  \n",
      "contourpy                 1.0.5           py311h59b6b97_0  \n",
      "cookiecutter              1.7.3              pyhd3eb1b0_0  \n",
      "cryptography              41.0.3          py311h89fc84f_0  \n",
      "cssselect                 1.1.0              pyhd3eb1b0_0  \n",
      "curl                      8.1.1                h2bbff1b_0  \n",
      "cycler                    0.11.0             pyhd3eb1b0_0  \n",
      "cytoolz                   0.12.0          py311h2bbff1b_0  \n",
      "daal4py                   2023.1.1        py311h30df693_0  \n",
      "dal                       2023.1.1         h59b6b97_48681  \n",
      "dask                      2023.6.0        py311haa95532_0  \n",
      "dask-core                 2023.6.0        py311haa95532_0  \n",
      "datasets                  2.12.0          py311haa95532_0  \n",
      "datashader                0.15.2          py311haa95532_0  \n",
      "datashape                 0.5.4           py311haa95532_1  \n",
      "dav1d                     1.2.1                h2bbff1b_0  \n",
      "debugpy                   1.6.7           py311hd77b12b_0  \n",
      "decorator                 5.1.1              pyhd3eb1b0_0  \n",
      "defusedxml                0.7.1              pyhd3eb1b0_0  \n",
      "diff-match-patch          20200713           pyhd3eb1b0_0  \n",
      "dill                      0.3.6           py311haa95532_0  \n",
      "distributed               2023.6.0        py311haa95532_0  \n",
      "docstring-to-markdown     0.11            py311haa95532_0  \n",
      "docutils                  0.18.1          py311haa95532_3  \n",
      "entrypoints               0.4             py311haa95532_0  \n",
      "et_xmlfile                1.1.0           py311haa95532_0  \n",
      "executing                 0.8.3              pyhd3eb1b0_0  \n",
      "filelock                  3.9.0           py311haa95532_0  \n",
      "flake8                    6.0.0           py311haa95532_0  \n",
      "flask                     2.2.2           py311haa95532_0  \n",
      "fmt                       9.1.0                h6d14046_0  \n",
      "fonttools                 4.25.0             pyhd3eb1b0_0  \n",
      "freetype                  2.12.1               ha860e81_0  \n",
      "frozenlist                1.3.3           py311h2bbff1b_0  \n",
      "fsspec                    2023.4.0        py311haa95532_0  \n",
      "future                    0.18.3          py311haa95532_0  \n",
      "gensim                    4.3.0           py311heda8569_0  \n",
      "gflags                    2.2.2                ha925a31_0  \n",
      "giflib                    5.2.1                h8cc25b3_3  \n",
      "glib                      2.69.1               h5dc1a3c_2  \n",
      "glob2                     0.7                pyhd3eb1b0_0  \n",
      "glog                      0.5.0                hd77b12b_0  \n",
      "greenlet                  2.0.1           py311hd77b12b_0  \n",
      "grpc-cpp                  1.48.2               hfe90ff0_1  \n",
      "h5py                      3.9.0           py311h4e0e482_0  \n",
      "hdf5                      1.12.1               h51c971a_3  \n",
      "heapdict                  1.0.1              pyhd3eb1b0_0  \n",
      "holoviews                 1.17.1          py311haa95532_0  \n",
      "huggingface_hub           0.15.1          py311haa95532_0  \n",
      "hvplot                    0.8.4           py311haa95532_0  \n",
      "hyperlink                 21.0.0             pyhd3eb1b0_0  \n",
      "icc_rt                    2022.1.0             h6049295_2  \n",
      "icu                       58.2                 ha925a31_3  \n",
      "idna                      3.4             py311haa95532_0  \n",
      "imagecodecs               2023.1.23       py311he6ff3c7_0  \n",
      "imageio                   2.26.0          py311haa95532_0  \n",
      "imagesize                 1.4.1           py311haa95532_0  \n",
      "imbalanced-learn          0.10.1          py311haa95532_1  \n",
      "importlib-metadata        6.0.0           py311haa95532_0  \n",
      "importlib_metadata        6.0.0                hd3eb1b0_0  \n",
      "incremental               21.3.0             pyhd3eb1b0_0  \n",
      "inflection                0.5.1           py311haa95532_0  \n",
      "iniconfig                 1.1.1              pyhd3eb1b0_0  \n",
      "intake                    0.6.8           py311haa95532_0  \n",
      "intel-openmp              2023.1.0         h59b6b97_46319  \n",
      "intervaltree              3.1.0              pyhd3eb1b0_0  \n",
      "ipykernel                 6.25.0          py311h746a85d_0  \n",
      "ipython                   8.15.0          py311haa95532_0  \n",
      "ipython_genutils          0.2.0              pyhd3eb1b0_1  \n",
      "ipywidgets                8.0.4           py311haa95532_0  \n",
      "isort                     5.9.3              pyhd3eb1b0_0  \n",
      "itemadapter               0.3.0              pyhd3eb1b0_0  \n",
      "itemloaders               1.0.4              pyhd3eb1b0_1  \n",
      "itsdangerous              2.0.1              pyhd3eb1b0_0  \n",
      "jaraco.classes            3.2.1              pyhd3eb1b0_0  \n",
      "jedi                      0.18.1          py311haa95532_1  \n",
      "jellyfish                 1.0.1           py311h36a85e1_0  \n",
      "jinja2                    3.1.2           py311haa95532_0  \n",
      "jinja2-time               0.2.0              pyhd3eb1b0_3  \n",
      "jmespath                  0.10.0             pyhd3eb1b0_0  \n",
      "joblib                    1.2.0           py311haa95532_0  \n",
      "jpeg                      9e                   h2bbff1b_1  \n",
      "jq                        1.6                  haa95532_1  \n",
      "json5                     0.9.6              pyhd3eb1b0_0  \n",
      "jsonpatch                 1.32               pyhd3eb1b0_0  \n",
      "jsonpointer               2.1                pyhd3eb1b0_0  \n",
      "jsonschema                4.17.3          py311haa95532_0  \n",
      "jupyter                   1.0.0           py311haa95532_8  \n",
      "jupyter-contrib-core      0.4.2                    pypi_0    pypi\n",
      "jupyter-contrib-nbextensions 0.7.0                    pypi_0    pypi\n",
      "jupyter-highlight-selected-word 0.2.0                    pypi_0    pypi\n",
      "jupyter-nbextensions-configurator 0.6.3                    pypi_0    pypi\n",
      "jupyter_client            7.4.9           py311haa95532_0  \n",
      "jupyter_console           6.6.3           py311haa95532_0  \n",
      "jupyter_core              5.3.0           py311haa95532_0  \n",
      "jupyter_events            0.6.3           py311haa95532_0  \n",
      "jupyter_server            1.23.4          py311haa95532_0  \n",
      "jupyter_server_fileid     0.9.0           py311haa95532_0  \n",
      "jupyter_server_ydoc       0.8.0           py311haa95532_1  \n",
      "jupyter_ydoc              0.2.4           py311haa95532_0  \n",
      "jupyterlab                3.6.3           py311haa95532_0  \n",
      "jupyterlab_pygments       0.1.2                      py_0  \n",
      "jupyterlab_server         2.22.0          py311haa95532_0  \n",
      "jupyterlab_widgets        3.0.5           py311haa95532_0  \n",
      "kaleido-core              0.2.1                h2bbff1b_0  \n",
      "keyring                   23.13.1         py311haa95532_0  \n",
      "kiwisolver                1.4.4           py311hd77b12b_0  \n",
      "krb5                      1.20.1               h5b6d351_0  \n",
      "lazy-object-proxy         1.6.0           py311h2bbff1b_0  \n",
      "lazy_loader               0.2             py311haa95532_0  \n",
      "lcms2                     2.12                 h83e58a3_0  \n",
      "lerc                      3.0                  hd77b12b_0  \n",
      "libaec                    1.0.4                h33f27b4_1  \n",
      "libarchive                3.6.2                hb62f4d4_2  \n",
      "libavif                   0.11.1               h2bbff1b_0  \n",
      "libboost                  1.82.0               hae598e9_1  \n",
      "libbrotlicommon           1.0.9                h2bbff1b_7  \n",
      "libbrotlidec              1.0.9                h2bbff1b_7  \n",
      "libbrotlienc              1.0.9                h2bbff1b_7  \n",
      "libclang                  14.0.6          default_hb5a9fac_1  \n",
      "libclang13                14.0.6          default_h8e68704_1  \n",
      "libcurl                   8.1.1                h86230a5_0  \n",
      "libdeflate                1.17                 h2bbff1b_0  \n",
      "libevent                  2.1.12               h56d1f94_1  \n",
      "libffi                    3.4.4                hd77b12b_0  \n",
      "libiconv                  1.16                 h2bbff1b_2  \n",
      "liblief                   0.12.3               hd77b12b_0  \n",
      "libmamba                  1.5.1                hcd6fe79_0  \n",
      "libmambapy                1.5.1           py311h77c03ed_0  \n",
      "libpng                    1.6.39               h8cc25b3_0  \n",
      "libpq                     12.15                h906ac69_1  \n",
      "libprotobuf               3.20.3               h23ce68f_0  \n",
      "libsodium                 1.0.18               h62dcd97_0  \n",
      "libsolv                   0.7.24               h23ce68f_0  \n",
      "libspatialindex           1.9.3                h6c2663c_0  \n",
      "libssh2                   1.10.0               he2ea4bf_2  \n",
      "libthrift                 0.15.0               h4364b78_2  \n",
      "libtiff                   4.5.1                hd77b12b_0  \n",
      "libwebp                   1.3.2                hbc33d0d_0  \n",
      "libwebp-base              1.3.2                h2bbff1b_0  \n",
      "libxml2                   2.10.4               h0ad7f3c_1  \n",
      "libxslt                   1.1.37               h2bbff1b_1  \n",
      "libzopfli                 1.0.3                ha925a31_0  \n",
      "linkify-it-py             2.0.0           py311haa95532_0  \n",
      "llvmlite                  0.40.0          py311hf2fb9eb_0  \n",
      "locket                    1.0.0           py311haa95532_0  \n",
      "lxml                      4.9.3           py311h09808a7_0  \n",
      "lz4                       4.3.2           py311h2bbff1b_0  \n",
      "lz4-c                     1.9.4                h2bbff1b_0  \n",
      "lzo                       2.10                 he774522_2  \n",
      "m2-msys2-runtime          2.5.0.17080.65c939c               3  \n",
      "m2-patch                  2.7.5                         2  \n",
      "m2w64-libwinpthread-git   5.0.0.4634.697f757               2  \n",
      "markdown                  3.4.1           py311haa95532_0  \n",
      "markdown-it-py            2.2.0           py311haa95532_1  \n",
      "markupsafe                2.1.1           py311h2bbff1b_0  \n",
      "mathjax                   2.7.5                haa95532_0  \n",
      "matplotlib                3.7.2           py311haa95532_0  \n",
      "matplotlib-base           3.7.2           py311hf62ec03_0  \n",
      "matplotlib-inline         0.1.6           py311haa95532_0  \n",
      "mccabe                    0.7.0              pyhd3eb1b0_0  \n",
      "mdit-py-plugins           0.3.0           py311haa95532_0  \n",
      "mdurl                     0.1.0           py311haa95532_0  \n",
      "menuinst                  1.4.19          py311h59b6b97_1  \n",
      "mistune                   0.8.4           py311h2bbff1b_1000  \n",
      "mkl                       2023.1.0         h6b88ed4_46357  \n",
      "mkl-service               2.4.0           py311h2bbff1b_1  \n",
      "mkl_fft                   1.3.8           py311h2bbff1b_0  \n",
      "mkl_random                1.2.4           py311h59b6b97_0  \n",
      "more-itertools            8.12.0             pyhd3eb1b0_0  \n",
      "mpmath                    1.3.0           py311haa95532_0  \n",
      "msgpack-python            1.0.3           py311h59b6b97_0  \n",
      "msys2-conda-epoch         20160418                      1  \n",
      "multidict                 6.0.2           py311h2bbff1b_0  \n",
      "multipledispatch          0.6.0           py311haa95532_0  \n",
      "multiprocess              0.70.14         py311haa95532_0  \n",
      "munkres                   1.1.4                      py_0  \n",
      "mypy_extensions           1.0.0           py311haa95532_0  \n",
      "navigator-updater         0.4.0           py311haa95532_1  \n",
      "nbclassic                 0.5.5           py311haa95532_0  \n",
      "nbclient                  0.5.13          py311haa95532_0  \n",
      "nbconvert                 6.5.4           py311haa95532_0  \n",
      "nbformat                  5.9.2           py311haa95532_0  \n",
      "nest-asyncio              1.5.6           py311haa95532_0  \n",
      "networkx                  3.1             py311haa95532_0  \n",
      "nltk                      3.8.1           py311haa95532_0  \n",
      "notebook                  6.5.4           py311haa95532_1  \n",
      "notebook-shim             0.2.2           py311haa95532_0  \n",
      "numba                     0.57.1          py311hf62ec03_0  \n",
      "numexpr                   2.8.4           py311h1fcbade_1  \n",
      "numpy                     1.24.3          py311hdab7c0b_1  \n",
      "numpy-base                1.24.3          py311hd01c5d8_1  \n",
      "numpydoc                  1.5.0           py311haa95532_0  \n",
      "openjpeg                  2.4.0                h4fc8c34_0  \n",
      "openpyxl                  3.0.10          py311h2bbff1b_0  \n",
      "openssl                   3.0.10               h2bbff1b_2  \n",
      "orc                       1.7.4                h623e30f_1  \n",
      "packaging                 23.1            py311haa95532_0  \n",
      "pandas                    2.0.3           py311hf62ec03_0  \n",
      "pandocfilters             1.5.0              pyhd3eb1b0_0  \n",
      "panel                     1.2.3           py311haa95532_0  \n",
      "param                     1.13.0          py311haa95532_0  \n",
      "paramiko                  2.8.1              pyhd3eb1b0_0  \n",
      "parsel                    1.6.0           py311haa95532_0  \n",
      "parso                     0.8.3              pyhd3eb1b0_0  \n",
      "partd                     1.4.0           py311haa95532_0  \n",
      "pathlib                   1.0.1              pyhd3eb1b0_1  \n",
      "pathspec                  0.10.3          py311haa95532_0  \n",
      "patsy                     0.5.3           py311haa95532_0  \n",
      "pcre                      8.45                 hd77b12b_0  \n",
      "pcre2                     10.42                h0ff8eda_0  \n",
      "pep8                      1.7.1           py311haa95532_1  \n",
      "pexpect                   4.8.0              pyhd3eb1b0_3  \n",
      "pickleshare               0.7.5           pyhd3eb1b0_1003  \n",
      "pillow                    9.4.0           py311hd77b12b_1  \n",
      "pip                       23.3.1                   pypi_0    pypi\n",
      "pkce                      1.0.3           py311haa95532_0  \n",
      "pkginfo                   1.9.6           py311haa95532_0  \n",
      "platformdirs              3.10.0          py311haa95532_0  \n",
      "plotly                    5.9.0           py311haa95532_0  \n",
      "pluggy                    1.0.0           py311haa95532_1  \n",
      "ply                       3.11            py311haa95532_0  \n",
      "powershell_shortcut       0.0.1                         3  \n",
      "poyo                      0.5.0              pyhd3eb1b0_0  \n",
      "prometheus_client         0.14.1          py311haa95532_0  \n",
      "prompt-toolkit            3.0.36          py311haa95532_0  \n",
      "prompt_toolkit            3.0.36               hd3eb1b0_0  \n",
      "protego                   0.1.16                     py_0  \n",
      "psutil                    5.9.0           py311h2bbff1b_0  \n",
      "ptyprocess                0.7.0              pyhd3eb1b0_2  \n",
      "pure_eval                 0.2.2              pyhd3eb1b0_0  \n",
      "py-cpuinfo                8.0.0              pyhd3eb1b0_1  \n",
      "py-lief                   0.12.3          py311hd77b12b_0  \n",
      "pyarrow                   11.0.0          py311h8a3a540_1  \n",
      "pyasn1                    0.4.8              pyhd3eb1b0_0  \n",
      "pyasn1-modules            0.2.8                      py_0  \n",
      "pybind11-abi              4                    hd3eb1b0_1  \n",
      "pycodestyle               2.10.0          py311haa95532_0  \n",
      "pycosat                   0.6.4           py311h2bbff1b_0  \n",
      "pycparser                 2.21               pyhd3eb1b0_0  \n",
      "pyct                      0.5.0           py311haa95532_0  \n",
      "pycurl                    7.45.2          py311he2ea4bf_1  \n",
      "pydantic                  1.10.8          py311h2bbff1b_0  \n",
      "pydispatcher              2.0.5           py311haa95532_2  \n",
      "pydocstyle                6.3.0           py311haa95532_0  \n",
      "pyerfa                    2.0.0           py311h2bbff1b_0  \n",
      "pyflakes                  3.0.1           py311haa95532_0  \n",
      "pygments                  2.15.1          py311haa95532_1  \n",
      "pyjwt                     2.4.0           py311haa95532_0  \n",
      "pylint                    2.16.2          py311haa95532_0  \n",
      "pylint-venv               2.3.0           py311haa95532_0  \n",
      "pyls-spyder               0.4.0              pyhd3eb1b0_0  \n",
      "pynacl                    1.5.0           py311h8cc25b3_0  \n",
      "pyodbc                    4.0.34          py311hd77b12b_0  \n",
      "pyopenssl                 23.2.0          py311haa95532_0  \n",
      "pyparsing                 3.0.9           py311haa95532_0  \n",
      "pyqt                      5.15.7          py311hd77b12b_0  \n",
      "pyqt5-sip                 12.11.0         py311hd77b12b_0  \n",
      "pyqtwebengine             5.15.7          py311hd77b12b_0  \n",
      "pyrsistent                0.18.0          py311h2bbff1b_0  \n",
      "pysocks                   1.7.1           py311haa95532_0  \n",
      "pytables                  3.8.0           py311h4671533_3  \n",
      "pytest                    7.4.0           py311haa95532_0  \n",
      "python                    3.11.5               he1021f5_0  \n",
      "python-dateutil           2.8.2              pyhd3eb1b0_0  \n",
      "python-dotenv             0.21.0          py311haa95532_0  \n",
      "python-fastjsonschema     2.16.2          py311haa95532_0  \n",
      "python-json-logger        2.0.7           py311haa95532_0  \n",
      "python-kaleido            0.2.1           py311haa95532_0  \n",
      "python-libarchive-c       2.9                pyhd3eb1b0_1  \n",
      "python-lmdb               1.4.1           py311hd77b12b_0  \n",
      "python-lsp-black          1.2.1           py311haa95532_0  \n",
      "python-lsp-jsonrpc        1.0.0              pyhd3eb1b0_0  \n",
      "python-lsp-server         1.7.2           py311haa95532_0  \n",
      "python-slugify            5.0.2              pyhd3eb1b0_0  \n",
      "python-snappy             0.6.1           py311hd77b12b_0  \n",
      "python-tzdata             2023.3             pyhd3eb1b0_0  \n",
      "python-xxhash             2.0.2           py311h2bbff1b_1  \n",
      "pytoolconfig              1.2.5           py311haa95532_1  \n",
      "pytz                      2023.3.post1    py311haa95532_0  \n",
      "pyviz_comms               2.3.0           py311haa95532_0  \n",
      "pywavelets                1.4.1           py311h2bbff1b_0  \n",
      "pywin32                   305             py311h2bbff1b_0  \n",
      "pywin32-ctypes            0.2.0           py311haa95532_1000  \n",
      "pywinpty                  2.0.10          py311h5da7b33_0  \n",
      "pyyaml                    6.0             py311h2bbff1b_1  \n",
      "pyzmq                     23.2.0          py311hd77b12b_0  \n",
      "qdarkstyle                3.0.2              pyhd3eb1b0_0  \n",
      "qstylizer                 0.2.2           py311haa95532_0  \n",
      "qt-main                   5.15.2               h879a1e9_9  \n",
      "qt-webengine              5.15.9               h5bd16bc_7  \n",
      "qtawesome                 1.2.2           py311haa95532_0  \n",
      "qtconsole                 5.4.2           py311haa95532_0  \n",
      "qtpy                      2.2.0           py311haa95532_0  \n",
      "qtwebkit                  5.212                h2bbfb41_5  \n",
      "queuelib                  1.5.0           py311haa95532_0  \n",
      "re2                       2022.04.01           hd77b12b_0  \n",
      "regex                     2022.7.9        py311h2bbff1b_0  \n",
      "reproc                    14.2.4               hd77b12b_1  \n",
      "reproc-cpp                14.2.4               hd77b12b_1  \n",
      "requests                  2.31.0          py311haa95532_0  \n",
      "requests-file             1.5.1              pyhd3eb1b0_0  \n",
      "requests-toolbelt         1.0.0           py311haa95532_0  \n",
      "responses                 0.13.3             pyhd3eb1b0_0  \n",
      "rfc3339-validator         0.1.4           py311haa95532_0  \n",
      "rfc3986-validator         0.1.1           py311haa95532_0  \n",
      "rope                      1.7.0           py311haa95532_0  \n",
      "rtree                     1.0.1           py311h2eaa2aa_0  \n",
      "ruamel.yaml               0.17.21         py311h2bbff1b_0  \n",
      "ruamel_yaml               0.17.21         py311h2bbff1b_0  \n",
      "s3fs                      2023.4.0        py311haa95532_0  \n",
      "safetensors               0.3.2           py311h062c2fa_0  \n",
      "scikit-image              0.20.0          py311h3513d60_0  \n",
      "scikit-learn              1.3.0           py311hf62ec03_0  \n",
      "scikit-learn-intelex      2023.1.1        py311haa95532_0  \n",
      "scipy                     1.11.1          py311hc1ccb85_0  \n",
      "scrapy                    2.8.0           py311haa95532_0  \n",
      "seaborn                   0.12.2          py311haa95532_0  \n",
      "send2trash                1.8.0              pyhd3eb1b0_1  \n",
      "service_identity          18.1.0             pyhd3eb1b0_1  \n",
      "setuptools                68.0.0          py311haa95532_0  \n",
      "sip                       6.6.2           py311hd77b12b_0  \n",
      "six                       1.16.0             pyhd3eb1b0_1  \n",
      "smart_open                5.2.1           py311haa95532_0  \n",
      "snappy                    1.1.9                h6c2663c_0  \n",
      "sniffio                   1.2.0           py311haa95532_1  \n",
      "snowballstemmer           2.2.0              pyhd3eb1b0_0  \n",
      "sortedcontainers          2.4.0              pyhd3eb1b0_0  \n",
      "soupsieve                 2.4             py311haa95532_0  \n",
      "sphinx                    5.0.2           py311haa95532_0  \n",
      "sphinxcontrib-applehelp   1.0.2              pyhd3eb1b0_0  \n",
      "sphinxcontrib-devhelp     1.0.2              pyhd3eb1b0_0  \n",
      "sphinxcontrib-htmlhelp    2.0.0              pyhd3eb1b0_0  \n",
      "sphinxcontrib-jsmath      1.0.1              pyhd3eb1b0_0  \n",
      "sphinxcontrib-qthelp      1.0.3              pyhd3eb1b0_0  \n",
      "sphinxcontrib-serializinghtml 1.1.5              pyhd3eb1b0_0  \n",
      "spyder                    5.4.3           py311haa95532_1  \n",
      "spyder-kernels            2.4.4           py311haa95532_0  \n",
      "sqlalchemy                1.4.39          py311h2bbff1b_0  \n",
      "sqlite                    3.41.2               h2bbff1b_0  \n",
      "stack_data                0.2.0              pyhd3eb1b0_0  \n",
      "statsmodels               0.14.0          py311hd7041d2_0  \n",
      "sympy                     1.11.1          py311haa95532_0  \n",
      "tabulate                  0.8.10          py311haa95532_0  \n",
      "tbb                       2021.8.0             h59b6b97_0  \n",
      "tbb4py                    2021.8.0        py311h59b6b97_0  \n",
      "tblib                     1.7.0              pyhd3eb1b0_0  \n",
      "tenacity                  8.2.2           py311haa95532_0  \n",
      "terminado                 0.17.1          py311haa95532_0  \n",
      "text-unidecode            1.3                pyhd3eb1b0_0  \n",
      "textdistance              4.2.1              pyhd3eb1b0_0  \n",
      "threadpoolctl             2.2.0              pyh0d69192_0  \n",
      "three-merge               0.1.1              pyhd3eb1b0_0  \n",
      "tifffile                  2023.4.12       py311haa95532_0  \n",
      "tinycss2                  1.2.1           py311haa95532_0  \n",
      "tk                        8.6.12               h2bbff1b_0  \n",
      "tldextract                3.2.0              pyhd3eb1b0_0  \n",
      "tokenizers                0.13.2          py311h49fca51_1  \n",
      "toml                      0.10.2             pyhd3eb1b0_0  \n",
      "tomlkit                   0.11.1          py311haa95532_0  \n",
      "toolz                     0.12.0          py311haa95532_0  \n",
      "tornado                   6.3.2           py311h2bbff1b_0  \n",
      "tqdm                      4.65.0          py311h746a85d_0  \n",
      "traitlets                 5.7.1           py311haa95532_0  \n",
      "transformers              4.32.1          py311haa95532_0  \n",
      "twisted                   22.10.0         py311h2bbff1b_0  \n",
      "twisted-iocpsupport       1.0.2           py311h2bbff1b_0  \n",
      "typing-extensions         4.7.1           py311haa95532_0  \n",
      "typing_extensions         4.7.1           py311haa95532_0  \n",
      "tzdata                    2023c                h04d1e81_0  \n",
      "uc-micro-py               1.0.1           py311haa95532_0  \n",
      "ujson                     5.4.0           py311hd77b12b_0  \n",
      "unidecode                 1.2.0              pyhd3eb1b0_0  \n",
      "urllib3                   1.26.16         py311haa95532_0  \n",
      "utf8proc                  2.6.1                h2bbff1b_0  \n",
      "vc                        14.2                 h21ff451_1  \n",
      "vs2015_runtime            14.27.29016          h5e58377_2  \n",
      "w3lib                     1.21.0             pyhd3eb1b0_0  \n",
      "watchdog                  2.1.6           py311haa95532_0  \n",
      "wcwidth                   0.2.5              pyhd3eb1b0_0  \n",
      "webencodings              0.5.1           py311haa95532_1  \n",
      "websocket-client          0.58.0          py311haa95532_4  \n",
      "werkzeug                  2.2.3           py311haa95532_0  \n",
      "whatthepatch              1.0.2           py311haa95532_0  \n",
      "wheel                     0.38.4          py311haa95532_0  \n",
      "widgetsnbextension        4.0.5           py311haa95532_0  \n",
      "win_inet_pton             1.1.0           py311haa95532_0  \n",
      "winpty                    0.4.3                         4  \n",
      "wrapt                     1.14.1          py311h2bbff1b_0  \n",
      "xarray                    2023.6.0        py311haa95532_0  \n",
      "xlwings                   0.29.1          py311haa95532_0  \n",
      "xxhash                    0.8.0                h2bbff1b_3  \n",
      "xyzservices               2022.9.0        py311haa95532_1  \n",
      "xz                        5.4.2                h8cc25b3_0  \n",
      "y-py                      0.5.9           py311hb6bf4ef_0  \n",
      "yaml                      0.2.5                he774522_0  \n",
      "yaml-cpp                  0.7.0                hd77b12b_1  \n",
      "yapf                      0.31.0             pyhd3eb1b0_0  \n",
      "yarl                      1.8.1           py311h2bbff1b_0  \n",
      "ypy-websocket             0.8.2           py311haa95532_0  \n",
      "zeromq                    4.3.4                hd77b12b_0  \n",
      "zfp                       1.0.0                hd77b12b_0  \n",
      "zict                      2.2.0           py311haa95532_0  \n",
      "zipp                      3.11.0          py311haa95532_0  \n",
      "zlib                      1.2.13               h8cc25b3_0  \n",
      "zlib-ng                   2.0.7                h2bbff1b_0  \n",
      "zope                      1.0             py311haa95532_1  \n",
      "zope.interface            5.4.0           py311h2bbff1b_0  \n",
      "zstandard                 0.19.0          py311h2bbff1b_0  \n",
      "zstd                      1.5.5                hd43e919_0  \n"
     ]
    }
   ],
   "source": [
    "conda list"
   ]
  },
  {
   "cell_type": "markdown",
   "id": "87697fb5",
   "metadata": {},
   "source": [
    "## faker"
   ]
  },
  {
   "cell_type": "code",
   "execution_count": 16,
   "id": "0388e277",
   "metadata": {
    "ExecuteTime": {
     "end_time": "2023-12-06T05:31:15.936033Z",
     "start_time": "2023-12-06T05:31:06.528134Z"
    }
   },
   "outputs": [
    {
     "name": "stdout",
     "output_type": "stream",
     "text": [
      "Collecting Faker\n",
      "  Downloading Faker-20.1.0-py3-none-any.whl.metadata (15 kB)\n",
      "Requirement already satisfied: python-dateutil>=2.4 in c:\\users\\bhmca\\anaconda3\\lib\\site-packages (from Faker) (2.8.2)\n",
      "Requirement already satisfied: six>=1.5 in c:\\users\\bhmca\\anaconda3\\lib\\site-packages (from python-dateutil>=2.4->Faker) (1.16.0)\n",
      "Downloading Faker-20.1.0-py3-none-any.whl (1.7 MB)\n",
      "   ---------------------------------------- 0.0/1.7 MB ? eta -:--:--\n",
      "   - -------------------------------------- 0.1/1.7 MB 1.7 MB/s eta 0:00:02\n",
      "   ---------- ----------------------------- 0.5/1.7 MB 5.8 MB/s eta 0:00:01\n",
      "   ------------------------ --------------- 1.0/1.7 MB 9.5 MB/s eta 0:00:01\n",
      "   ---------------------------------------  1.7/1.7 MB 11.0 MB/s eta 0:00:01\n",
      "   ---------------------------------------- 1.7/1.7 MB 10.1 MB/s eta 0:00:00\n",
      "Installing collected packages: Faker\n",
      "Successfully installed Faker-20.1.0\n",
      "Note: you may need to restart the kernel to use updated packages.\n"
     ]
    }
   ],
   "source": [
    "# Faker 라이브러리는 pip을 이용하여 설치해야 한다.\n",
    "\n",
    "pip install Faker"
   ]
  },
  {
   "cell_type": "code",
   "execution_count": 17,
   "id": "eeb8069e",
   "metadata": {
    "ExecuteTime": {
     "end_time": "2023-12-06T05:32:05.176944Z",
     "start_time": "2023-12-06T05:32:04.809417Z"
    }
   },
   "outputs": [
    {
     "data": {
      "text/plain": [
       "'Matthew Estrada'"
      ]
     },
     "execution_count": 17,
     "metadata": {},
     "output_type": "execute_result"
    }
   ],
   "source": [
    "from faker import Faker\n",
    "fake = Faker()\n",
    "fake.name()\n",
    "'Matthew Estrada'"
   ]
  },
  {
   "cell_type": "code",
   "execution_count": 18,
   "id": "5e2c0528",
   "metadata": {
    "ExecuteTime": {
     "end_time": "2023-12-06T05:32:27.819225Z",
     "start_time": "2023-12-06T05:32:27.710577Z"
    }
   },
   "outputs": [
    {
     "data": {
      "text/plain": [
       "'김하은'"
      ]
     },
     "execution_count": 18,
     "metadata": {},
     "output_type": "execute_result"
    }
   ],
   "source": [
    "fake = Faker('ko-KR')\n",
    "fake.name()\n",
    "'김하은'"
   ]
  },
  {
   "cell_type": "code",
   "execution_count": 19,
   "id": "90e15aa2",
   "metadata": {
    "ExecuteTime": {
     "end_time": "2023-12-06T05:32:38.233274Z",
     "start_time": "2023-12-06T05:32:38.228871Z"
    }
   },
   "outputs": [
    {
     "data": {
      "text/plain": [
       "'경상북도 수원시 영통구 테헤란길 (현준김면)'"
      ]
     },
     "execution_count": 19,
     "metadata": {},
     "output_type": "execute_result"
    }
   ],
   "source": [
    "fake.address()"
   ]
  },
  {
   "cell_type": "code",
   "execution_count": 2,
   "id": "f85dd78f",
   "metadata": {
    "ExecuteTime": {
     "end_time": "2023-12-06T05:34:55.191009Z",
     "start_time": "2023-12-06T05:34:55.169528Z"
    }
   },
   "outputs": [
    {
     "ename": "NameError",
     "evalue": "name 'fake' is not defined",
     "output_type": "error",
     "traceback": [
      "\u001b[1;31m---------------------------------------------------------------------------\u001b[0m",
      "\u001b[1;31mNameError\u001b[0m                                 Traceback (most recent call last)",
      "Cell \u001b[1;32mIn[2], line 1\u001b[0m\n\u001b[1;32m----> 1\u001b[0m test_data \u001b[38;5;241m=\u001b[39m [(fake\u001b[38;5;241m.\u001b[39mname(), fake\u001b[38;5;241m.\u001b[39maddress()) \u001b[38;5;28;01mfor\u001b[39;00m i \u001b[38;5;129;01min\u001b[39;00m \u001b[38;5;28mrange\u001b[39m(\u001b[38;5;241m30\u001b[39m)]\n\u001b[0;32m      2\u001b[0m test_data\n",
      "Cell \u001b[1;32mIn[2], line 1\u001b[0m, in \u001b[0;36m<listcomp>\u001b[1;34m(.0)\u001b[0m\n\u001b[1;32m----> 1\u001b[0m test_data \u001b[38;5;241m=\u001b[39m [(fake\u001b[38;5;241m.\u001b[39mname(), fake\u001b[38;5;241m.\u001b[39maddress()) \u001b[38;5;28;01mfor\u001b[39;00m i \u001b[38;5;129;01min\u001b[39;00m \u001b[38;5;28mrange\u001b[39m(\u001b[38;5;241m30\u001b[39m)]\n\u001b[0;32m      2\u001b[0m test_data\n",
      "\u001b[1;31mNameError\u001b[0m: name 'fake' is not defined"
     ]
    }
   ],
   "source": [
    "test_data = [(fake.name(), fake.address()) for i in range(30)]"
   ]
  },
  {
   "cell_type": "code",
   "execution_count": null,
   "id": "407fa241",
   "metadata": {},
   "outputs": [],
   "source": []
  },
  {
   "cell_type": "code",
   "execution_count": null,
   "id": "d84bbdf9",
   "metadata": {},
   "outputs": [],
   "source": []
  },
  {
   "cell_type": "code",
   "execution_count": null,
   "id": "29309e55",
   "metadata": {},
   "outputs": [],
   "source": []
  },
  {
   "cell_type": "code",
   "execution_count": null,
   "id": "ff20ad56",
   "metadata": {},
   "outputs": [],
   "source": []
  },
  {
   "cell_type": "code",
   "execution_count": null,
   "id": "4b6c230c",
   "metadata": {},
   "outputs": [],
   "source": []
  },
  {
   "cell_type": "code",
   "execution_count": null,
   "id": "0f534328",
   "metadata": {},
   "outputs": [],
   "source": []
  },
  {
   "cell_type": "code",
   "execution_count": null,
   "id": "021f5303",
   "metadata": {},
   "outputs": [],
   "source": []
  }
 ],
 "metadata": {
  "kernelspec": {
   "display_name": "Python 3 (ipykernel)",
   "language": "python",
   "name": "python3"
  },
  "language_info": {
   "codemirror_mode": {
    "name": "ipython",
    "version": 3
   },
   "file_extension": ".py",
   "mimetype": "text/x-python",
   "name": "python",
   "nbconvert_exporter": "python",
   "pygments_lexer": "ipython3",
   "version": "3.11.5"
  },
  "toc": {
   "base_numbering": 1,
   "nav_menu": {},
   "number_sections": true,
   "sideBar": true,
   "skip_h1_title": false,
   "title_cell": "Table of Contents",
   "title_sidebar": "Contents",
   "toc_cell": false,
   "toc_position": {
    "height": "calc(100% - 180px)",
    "left": "10px",
    "top": "150px",
    "width": "309px"
   },
   "toc_section_display": true,
   "toc_window_display": false
  }
 },
 "nbformat": 4,
 "nbformat_minor": 5
}

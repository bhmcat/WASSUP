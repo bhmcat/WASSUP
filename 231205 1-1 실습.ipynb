{
 "cells": [
  {
   "cell_type": "markdown",
   "id": "d1330eed",
   "metadata": {},
   "source": [
    "레퍼런스"
   ]
  },
  {
   "cell_type": "code",
   "execution_count": null,
   "id": "214c7c95",
   "metadata": {
    "ExecuteTime": {
     "start_time": "2023-12-05T08:46:51.124Z"
    }
   },
   "outputs": [
    {
     "name": "stdout",
     "output_type": "stream",
     "text": [
      "Welcome to Hangman\n",
      "\n",
      "\n"
     ]
    }
   ],
   "source": [
    "def hangman(word):\n",
    "    word = word.lower()\n",
    "    wrong_guesses = 0\n",
    "    stages = [\"\",\n",
    "              \"________        \",\n",
    "              \"|               \",\n",
    "              \"|        |      \",\n",
    "              \"|        0      \",\n",
    "              \"|       /|\\     \",\n",
    "              \"|       / \\     \",\n",
    "              \"|               \"\n",
    "              ]\n",
    "    remaining_letters = set(word)\n",
    "    letter_board = [\"__\"] * len(word)\n",
    "    win = False\n",
    "    print(\"Welcome to Hangman\")\n",
    "    \n",
    "    while wrong_guesses < len(stages) - 1:\n",
    "        print(\"\\n\")\n",
    "        msg = \"Guess a letter: \"\n",
    "        char = input(msg)\n",
    "        if char in remaining_letters:\n",
    "            remaining_letters.remove(char)\n",
    "            index = [i for i, letter in enumerate(word) if letter == char]\n",
    "            for i in index:\n",
    "                letter_board[i] = char\n",
    "            if \"__\" not in letter_board:\n",
    "                print(\"You win!\")\n",
    "                print(\" \".join(letter_board))\n",
    "                win = True\n",
    "                break\n",
    "        else:\n",
    "            wrong_guesses += 1\n",
    "        print(\" \".join(letter_board))\n",
    "        print(\"\\n\".join(stages[0: wrong_guesses + 1]))\n",
    "    if not win:\n",
    "        print(\"\\n\".join(stages[0: wrong_guesses]))\n",
    "        print(\"You lose! It was {}.\".format(word))\n",
    "\n",
    "if __name__ == \"__main__\":\n",
    "    hangman(\"word\")"
   ]
  }
 ],
 "metadata": {
  "kernelspec": {
   "display_name": "Python 3 (ipykernel)",
   "language": "python",
   "name": "python3"
  },
  "language_info": {
   "codemirror_mode": {
    "name": "ipython",
    "version": 3
   },
   "file_extension": ".py",
   "mimetype": "text/x-python",
   "name": "python",
   "nbconvert_exporter": "python",
   "pygments_lexer": "ipython3",
   "version": "3.11.5"
  },
  "toc": {
   "base_numbering": 1,
   "nav_menu": {},
   "number_sections": true,
   "sideBar": true,
   "skip_h1_title": false,
   "title_cell": "Table of Contents",
   "title_sidebar": "Contents",
   "toc_cell": false,
   "toc_position": {},
   "toc_section_display": true,
   "toc_window_display": false
  }
 },
 "nbformat": 4,
 "nbformat_minor": 5
}
